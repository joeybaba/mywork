{
 "cells": [
  {
   "cell_type": "markdown",
   "metadata": {
    "collapsed": true,
    "pycharm": {
     "name": "#%% md\n"
    }
   },
   "source": [
    "### 贝叶斯拼写检查器\n"
   ]
  },
  {
   "cell_type": "markdown",
   "source": [
    "### 求解：argmaxc P(c|w) -> argmaxc P(w|c) P(c) / P(w) ###\n",
    "* P(c), 文章中出现一个正确拼写词 c 的概率, 也就是说, 在英语文章中, c 出现的概率有多大\n",
    "* P(w|c), 在用户想键入 c 的情况下敲成 w 的概率. 因为这个是代表用户会以多大的概率把 c 敲错成 w\n",
    "* argmaxc, 用来枚举所有可能的 c 并且选取概率最大的"
   ],
   "metadata": {
    "collapsed": false,
    "pycharm": {
     "name": "#%% md\n"
    }
   }
  },
  {
   "cell_type": "code",
   "execution_count": 14,
   "outputs": [],
   "source": [
    "import re, collections\n",
    "\n",
    "# 把语料中的单词全部抽取出来, 转成小写, 并且去除单词中间的特殊符号\n",
    "def words(text):\n",
    "    return re.findall('[a-z]+',text.lower())\n",
    "\n",
    "# 统计词频\n",
    "# 要是遇到我们从来没有过见过的新词怎么办. 假如说一个词拼写完全正确, 但是语料库中没有包含这个词, 从而这个词也永远不会出现在训练集中. 于是, 我们就要返回出现这个词的概率是0. 这个情况不太妙, 因为概率为0这个代表了这个事件绝对不可能发生, 而在我们的概率模型中, 我们期望用一个很小的概率来代表这种情况. lambda: 1\n",
    "def train(features):\n",
    "    model = collections.defaultdict(lambda : 1) # 设定字典默认值，如果没有key，返回1\n",
    "    for f in features:\n",
    "        model[f] += 1\n",
    "    return model\n",
    "\n",
    "file = open('/Users/joey/Documents/PycharmProjects/mywork/bayesian_algorithm/big.txt').read()\n",
    "word_file = words(file)\n",
    "NWORDS = train(word_file)\n"
   ],
   "metadata": {
    "collapsed": false,
    "pycharm": {
     "name": "#%%\n"
    }
   }
  },
  {
   "cell_type": "markdown",
   "source": [
    "###  编辑距离: ###\n",
    "两个词之间的编辑距离定义为使用了几次插入(在词中插入一个单字母), 删除(删除一个单字母), 交换(交换相邻两个字母), 替换(把一个字母换成另一个)的操作从一个词变到另一个词.\n",
    "做了多少次操作就是距离多少"
   ],
   "metadata": {
    "collapsed": false,
    "pycharm": {
     "name": "#%% md\n"
    }
   }
  },
  {
   "cell_type": "code",
   "execution_count": 90,
   "outputs": [],
   "source": [
    "alphabet = 'abcdefghijklmnopqrstuvwxyz'\n",
    "# word[0:0] == ''\n",
    "# 编辑距离\n",
    "#返回所有与单词 w 编辑距离为 1 的集合\n",
    "def edits1(word):\n",
    "    n = len(word)\n",
    "    return set([word[0:i] + word[i+1:] for i in range(n)] +    # deletion\n",
    "            [word[0:i] + word[i+1] + word[i] + word[i+2:] for i in range(n-1)] +     # transposition\n",
    "            [word[0:i] + c + word[i+1:] for i in range(n) for c in alphabet] +      # alteration\n",
    "            [word[0:i] + c + word[i:] for i in range(n+1) for c in alphabet])        # insertion"
   ],
   "metadata": {
    "collapsed": false,
    "pycharm": {
     "name": "#%%\n"
    }
   }
  },
  {
   "cell_type": "code",
   "execution_count": 48,
   "outputs": [
    {
     "data": {
      "text/plain": "{'aomething',\n 'asomething',\n 'bomething',\n 'bsomething',\n 'comething',\n 'csomething',\n 'domething',\n 'dsomething',\n 'eomething',\n 'esomething',\n 'fomething',\n 'fsomething',\n 'gomething',\n 'gsomething',\n 'homething',\n 'hsomething',\n 'iomething',\n 'isomething',\n 'jomething',\n 'jsomething',\n 'komething',\n 'ksomething',\n 'lomething',\n 'lsomething',\n 'momething',\n 'msomething',\n 'nomething',\n 'nsomething',\n 'omething',\n 'oomething',\n 'osmething',\n 'osomething',\n 'pomething',\n 'psomething',\n 'qomething',\n 'qsomething',\n 'romething',\n 'rsomething',\n 'samething',\n 'saomething',\n 'sbmething',\n 'sbomething',\n 'scmething',\n 'scomething',\n 'sdmething',\n 'sdomething',\n 'semething',\n 'seomething',\n 'sfmething',\n 'sfomething',\n 'sgmething',\n 'sgomething',\n 'shmething',\n 'shomething',\n 'simething',\n 'siomething',\n 'sjmething',\n 'sjomething',\n 'skmething',\n 'skomething',\n 'slmething',\n 'slomething',\n 'smething',\n 'smmething',\n 'smoething',\n 'smomething',\n 'snmething',\n 'snomething',\n 'soaething',\n 'soamething',\n 'sobething',\n 'sobmething',\n 'socething',\n 'socmething',\n 'sodething',\n 'sodmething',\n 'soeething',\n 'soemething',\n 'soemthing',\n 'soething',\n 'sofething',\n 'sofmething',\n 'sogething',\n 'sogmething',\n 'sohething',\n 'sohmething',\n 'soiething',\n 'soimething',\n 'sojething',\n 'sojmething',\n 'sokething',\n 'sokmething',\n 'solething',\n 'solmething',\n 'somaething',\n 'somathing',\n 'sombething',\n 'sombthing',\n 'somcething',\n 'somcthing',\n 'somdething',\n 'somdthing',\n 'someahing',\n 'someathing',\n 'somebhing',\n 'somebthing',\n 'someching',\n 'somecthing',\n 'somedhing',\n 'somedthing',\n 'someehing',\n 'someething',\n 'somefhing',\n 'somefthing',\n 'someghing',\n 'somegthing',\n 'somehhing',\n 'somehing',\n 'somehthing',\n 'somehting',\n 'someihing',\n 'someithing',\n 'somejhing',\n 'somejthing',\n 'somekhing',\n 'somekthing',\n 'somelhing',\n 'somelthing',\n 'somemhing',\n 'somemthing',\n 'somenhing',\n 'somenthing',\n 'someohing',\n 'someothing',\n 'somephing',\n 'somepthing',\n 'someqhing',\n 'someqthing',\n 'somerhing',\n 'somerthing',\n 'someshing',\n 'somesthing',\n 'sometahing',\n 'sometaing',\n 'sometbhing',\n 'sometbing',\n 'sometching',\n 'sometcing',\n 'sometdhing',\n 'sometding',\n 'sometehing',\n 'someteing',\n 'sometfhing',\n 'sometfing',\n 'sometghing',\n 'sometging',\n 'somethaing',\n 'somethang',\n 'somethbing',\n 'somethbng',\n 'somethcing',\n 'somethcng',\n 'somethding',\n 'somethdng',\n 'sometheing',\n 'sometheng',\n 'somethfing',\n 'somethfng',\n 'somethging',\n 'somethgng',\n 'somethhing',\n 'somethhng',\n 'somethiag',\n 'somethiang',\n 'somethibg',\n 'somethibng',\n 'somethicg',\n 'somethicng',\n 'somethidg',\n 'somethidng',\n 'somethieg',\n 'somethieng',\n 'somethifg',\n 'somethifng',\n 'somethig',\n 'somethigg',\n 'somethign',\n 'somethigng',\n 'somethihg',\n 'somethihng',\n 'somethiig',\n 'somethiing',\n 'somethijg',\n 'somethijng',\n 'somethikg',\n 'somethikng',\n 'somethilg',\n 'somethilng',\n 'somethimg',\n 'somethimng',\n 'somethin',\n 'somethina',\n 'somethinag',\n 'somethinb',\n 'somethinbg',\n 'somethinc',\n 'somethincg',\n 'somethind',\n 'somethindg',\n 'somethine',\n 'somethineg',\n 'somethinf',\n 'somethinfg',\n 'something',\n 'somethinga',\n 'somethingb',\n 'somethingc',\n 'somethingd',\n 'somethinge',\n 'somethingf',\n 'somethingg',\n 'somethingh',\n 'somethingi',\n 'somethingj',\n 'somethingk',\n 'somethingl',\n 'somethingm',\n 'somethingn',\n 'somethingo',\n 'somethingp',\n 'somethingq',\n 'somethingr',\n 'somethings',\n 'somethingt',\n 'somethingu',\n 'somethingv',\n 'somethingw',\n 'somethingx',\n 'somethingy',\n 'somethingz',\n 'somethinh',\n 'somethinhg',\n 'somethini',\n 'somethinig',\n 'somethinj',\n 'somethinjg',\n 'somethink',\n 'somethinkg',\n 'somethinl',\n 'somethinlg',\n 'somethinm',\n 'somethinmg',\n 'somethinn',\n 'somethinng',\n 'somethino',\n 'somethinog',\n 'somethinp',\n 'somethinpg',\n 'somethinq',\n 'somethinqg',\n 'somethinr',\n 'somethinrg',\n 'somethins',\n 'somethinsg',\n 'somethint',\n 'somethintg',\n 'somethinu',\n 'somethinug',\n 'somethinv',\n 'somethinvg',\n 'somethinw',\n 'somethinwg',\n 'somethinx',\n 'somethinxg',\n 'somethiny',\n 'somethinyg',\n 'somethinz',\n 'somethinzg',\n 'somethiog',\n 'somethiong',\n 'somethipg',\n 'somethipng',\n 'somethiqg',\n 'somethiqng',\n 'somethirg',\n 'somethirng',\n 'somethisg',\n 'somethisng',\n 'somethitg',\n 'somethitng',\n 'somethiug',\n 'somethiung',\n 'somethivg',\n 'somethivng',\n 'somethiwg',\n 'somethiwng',\n 'somethixg',\n 'somethixng',\n 'somethiyg',\n 'somethiyng',\n 'somethizg',\n 'somethizng',\n 'somethjing',\n 'somethjng',\n 'somethking',\n 'somethkng',\n 'somethling',\n 'somethlng',\n 'somethming',\n 'somethmng',\n 'somethng',\n 'somethnig',\n 'somethning',\n 'somethnng',\n 'somethoing',\n 'somethong',\n 'somethping',\n 'somethpng',\n 'somethqing',\n 'somethqng',\n 'somethring',\n 'somethrng',\n 'somethsing',\n 'somethsng',\n 'somethting',\n 'somethtng',\n 'somethuing',\n 'somethung',\n 'somethving',\n 'somethvng',\n 'somethwing',\n 'somethwng',\n 'somethxing',\n 'somethxng',\n 'somethying',\n 'somethyng',\n 'somethzing',\n 'somethzng',\n 'sometihing',\n 'sometihng',\n 'sometiing',\n 'someting',\n 'sometjhing',\n 'sometjing',\n 'sometkhing',\n 'sometking',\n 'sometlhing',\n 'sometling',\n 'sometmhing',\n 'sometming',\n 'sometnhing',\n 'sometning',\n 'sometohing',\n 'sometoing',\n 'sometphing',\n 'sometping',\n 'sometqhing',\n 'sometqing',\n 'sometrhing',\n 'sometring',\n 'sometshing',\n 'sometsing',\n 'sometthing',\n 'sometting',\n 'sometuhing',\n 'sometuing',\n 'sometvhing',\n 'sometving',\n 'sometwhing',\n 'sometwing',\n 'sometxhing',\n 'sometxing',\n 'sometyhing',\n 'sometying',\n 'sometzhing',\n 'sometzing',\n 'someuhing',\n 'someuthing',\n 'somevhing',\n 'somevthing',\n 'somewhing',\n 'somewthing',\n 'somexhing',\n 'somexthing',\n 'someyhing',\n 'someything',\n 'somezhing',\n 'somezthing',\n 'somfething',\n 'somfthing',\n 'somgething',\n 'somgthing',\n 'somhething',\n 'somhthing',\n 'somiething',\n 'somithing',\n 'somjething',\n 'somjthing',\n 'somkething',\n 'somkthing',\n 'somlething',\n 'somlthing',\n 'sommething',\n 'sommthing',\n 'somnething',\n 'somnthing',\n 'somoething',\n 'somothing',\n 'sompething',\n 'sompthing',\n 'somqething',\n 'somqthing',\n 'somrething',\n 'somrthing',\n 'somsething',\n 'somsthing',\n 'somtehing',\n 'somtething',\n 'somthing',\n 'somtthing',\n 'somuething',\n 'somuthing',\n 'somvething',\n 'somvthing',\n 'somwething',\n 'somwthing',\n 'somxething',\n 'somxthing',\n 'somyething',\n 'somything',\n 'somzething',\n 'somzthing',\n 'sonething',\n 'sonmething',\n 'sooething',\n 'soomething',\n 'sopething',\n 'sopmething',\n 'soqething',\n 'soqmething',\n 'sorething',\n 'sormething',\n 'sosething',\n 'sosmething',\n 'sotething',\n 'sotmething',\n 'souething',\n 'soumething',\n 'sovething',\n 'sovmething',\n 'sowething',\n 'sowmething',\n 'soxething',\n 'soxmething',\n 'soyething',\n 'soymething',\n 'sozething',\n 'sozmething',\n 'spmething',\n 'spomething',\n 'sqmething',\n 'sqomething',\n 'srmething',\n 'sromething',\n 'ssmething',\n 'ssomething',\n 'stmething',\n 'stomething',\n 'sumething',\n 'suomething',\n 'svmething',\n 'svomething',\n 'swmething',\n 'swomething',\n 'sxmething',\n 'sxomething',\n 'symething',\n 'syomething',\n 'szmething',\n 'szomething',\n 'tomething',\n 'tsomething',\n 'uomething',\n 'usomething',\n 'vomething',\n 'vsomething',\n 'womething',\n 'wsomething',\n 'xomething',\n 'xsomething',\n 'yomething',\n 'ysomething',\n 'zomething',\n 'zsomething'}"
     },
     "execution_count": 48,
     "metadata": {},
     "output_type": "execute_result"
    }
   ],
   "source": [
    "a = edits1('something')\n",
    "a"
   ],
   "metadata": {
    "collapsed": false,
    "pycharm": {
     "name": "#%%\n"
    }
   }
  },
  {
   "cell_type": "code",
   "execution_count": 28,
   "outputs": [
    {
     "data": {
      "text/plain": "{'am',\n 'ame',\n 'ami',\n 'amp',\n 'amy',\n 'aug',\n 'bag',\n 'beg',\n 'big',\n 'bog',\n 'bomb',\n 'bug',\n 'cm',\n 'cms',\n 'com',\n 'coma',\n 'comb',\n 'come',\n 'cong',\n 'dig',\n 'dog',\n 'dome',\n 'domo',\n 'dug',\n 'eg',\n 'egg',\n 'em',\n 'fig',\n 'fog',\n 'g',\n 'gag',\n 'gig',\n 'go',\n 'gong',\n 'hm',\n 'home',\n 'hug',\n 'imp',\n 'ing',\n 'jug',\n 'keg',\n 'km',\n 'leg',\n 'log',\n 'lome',\n 'long',\n 'm',\n 'ma',\n 'mb',\n 'md',\n 'me',\n 'meg',\n 'mi',\n 'mm',\n 'mmm',\n 'mo',\n 'mob',\n 'mon',\n 'mop',\n 'mot',\n 'mr',\n 'ms',\n 'mt',\n 'mug',\n 'my',\n 'nag',\n 'nm',\n 'nom',\n 'noma',\n 'o',\n 'oak',\n 'oar',\n 'obs',\n 'oct',\n 'odd',\n 'ode',\n 'oe',\n 'of',\n 'off',\n 'oft',\n 'ogg',\n 'oh',\n 'oho',\n 'oil',\n 'ok',\n 'oka',\n 'old',\n 'ole',\n 'olga',\n 'om',\n 'omen',\n 'omit',\n 'omne',\n 'on',\n 'one',\n 'ong',\n 'ont',\n 'oo',\n 'ooh',\n 'op',\n 'opt',\n 'or',\n 'orb',\n 'ore',\n 'org',\n 'os',\n 'ou',\n 'ouh',\n 'oui',\n 'our',\n 'out',\n 'ovo',\n 'owe',\n 'owl',\n 'own',\n 'ox',\n 'oz',\n 'peg',\n 'pg',\n 'pig',\n 'pm',\n 'pmb',\n 'pomp',\n 'rag',\n 'rome',\n 'rug',\n 'sg',\n 'some',\n 'song',\n 'tag',\n 'tm',\n 'tom',\n 'tomb',\n 'tug',\n 'wag',\n 'wig',\n 'wm',\n 'womb'}"
     },
     "execution_count": 28,
     "metadata": {},
     "output_type": "execute_result"
    }
   ],
   "source": [
    "#返回所有与单词 w 编辑距离为 2 的集合\n",
    "#在这些编辑距离小于2的词中间, 只把那些正确的词作为候选词\n",
    "#在编辑距离为1的基础上，再做一次，就是距离为2\n",
    "def know_edits2(word):\n",
    "    return set(e2 for e1 in edits1(word) for e2 in edits1(e1) if e2 in NWORDS)\n",
    "b = know_edits2('omg')\n",
    "b"
   ],
   "metadata": {
    "collapsed": false,
    "pycharm": {
     "name": "#%%\n"
    }
   }
  },
  {
   "cell_type": "markdown",
   "source": [
    "与 something 编辑距离为2的单词居然达到了 114,324 个\n",
    "优化:在这些编辑距离小于2的词中间, 只把那些正确的词作为候选词,只能返回 3 个单词: ‘smoothing’, ‘something’ 和 ‘soothing’\n"
   ],
   "metadata": {
    "collapsed": false,
    "pycharm": {
     "name": "#%% md\n"
    }
   }
  },
  {
   "cell_type": "code",
   "execution_count": 30,
   "outputs": [
    {
     "data": {
      "text/plain": "{'g', 'm', 'o'}"
     },
     "execution_count": 30,
     "metadata": {},
     "output_type": "execute_result"
    }
   ],
   "source": [
    "def know(words):\n",
    "    return set(w for w in words if w in NWORDS)\n",
    "c = know('omg')\n",
    "c"
   ],
   "metadata": {
    "collapsed": false,
    "pycharm": {
     "name": "#%%\n"
    }
   }
  },
  {
   "cell_type": "markdown",
   "source": [
    "正常来说把一个元音拼成另一个的概率要大于辅音 (因为人常常把 hello 打成 hallo 这样);\n",
    "把单词的第一个字母拼错的概率会相对小, 等等.但是为了简单起见, 选择了一个简单的方法:\n",
    "编辑距离为1的正确单词比编辑距离为2的优先级高, 而编辑距离为0的正确单词优先级比编辑距离为1的高."
   ],
   "metadata": {
    "collapsed": false,
    "pycharm": {
     "name": "#%% md\n"
    }
   }
  },
  {
   "cell_type": "code",
   "execution_count": 91,
   "outputs": [
    {
     "name": "stdout",
     "output_type": "stream",
     "text": [
      "fuck\n",
      "fund\n"
     ]
    },
    {
     "data": {
      "text/plain": "'fund'"
     },
     "execution_count": 91,
     "metadata": {},
     "output_type": "execute_result"
    }
   ],
   "source": [
    "# 如果known(set)非空, candidate 就会选取这个集合, 而不继续计算后面的\n",
    "\n",
    "# 集合里的值要通过函数传入逐项读取\n",
    "def correct(word):\n",
    "    candidates = know([word]) or know(edits1(word)) or know_edits2(word) or [word]\n",
    "    def func(w):\n",
    "        print(w)\n",
    "        return NWORDS[w]\n",
    "    return max(candidates, key=func)\n",
    "\n",
    "\n",
    "d = correct('fucd')\n",
    "d"
   ],
   "metadata": {
    "collapsed": false,
    "pycharm": {
     "name": "#%%\n"
    }
   }
  },
  {
   "cell_type": "code",
   "execution_count": 86,
   "outputs": [
    {
     "name": "stdout",
     "output_type": "stream",
     "text": [
      "{'fuck', 'fund'}\n"
     ]
    },
    {
     "ename": "TypeError",
     "evalue": "unhashable type: 'set'",
     "output_type": "error",
     "traceback": [
      "\u001B[0;31m---------------------------------------------------------------------------\u001B[0m",
      "\u001B[0;31mTypeError\u001B[0m                                 Traceback (most recent call last)",
      "\u001B[0;32m<ipython-input-86-9a8f80551c03>\u001B[0m in \u001B[0;36m<module>\u001B[0;34m\u001B[0m\n\u001B[1;32m      2\u001B[0m \u001B[0mw\u001B[0m \u001B[0;34m=\u001B[0m \u001B[0mknow\u001B[0m\u001B[0;34m(\u001B[0m\u001B[0medists1\u001B[0m\u001B[0;34m(\u001B[0m\u001B[0mword\u001B[0m\u001B[0;34m)\u001B[0m\u001B[0;34m)\u001B[0m\u001B[0;34m\u001B[0m\u001B[0;34m\u001B[0m\u001B[0m\n\u001B[1;32m      3\u001B[0m \u001B[0mprint\u001B[0m\u001B[0;34m(\u001B[0m\u001B[0mw\u001B[0m\u001B[0;34m)\u001B[0m\u001B[0;34m\u001B[0m\u001B[0;34m\u001B[0m\u001B[0m\n\u001B[0;32m----> 4\u001B[0;31m \u001B[0mNWORDS\u001B[0m\u001B[0;34m[\u001B[0m\u001B[0mw\u001B[0m\u001B[0;34m]\u001B[0m\u001B[0;34m\u001B[0m\u001B[0;34m\u001B[0m\u001B[0m\n\u001B[0m\u001B[1;32m      5\u001B[0m \u001B[0;34m\u001B[0m\u001B[0m\n",
      "\u001B[0;31mTypeError\u001B[0m: unhashable type: 'set'"
     ]
    }
   ],
   "source": [
    "# 错误引用\n",
    "word = 'fucd'\n",
    "w = know(edits1(word))\n",
    "print(w)\n",
    "NWORDS[w]\n",
    "\n"
   ],
   "metadata": {
    "collapsed": false,
    "pycharm": {
     "name": "#%%\n"
    }
   }
  },
  {
   "cell_type": "code",
   "execution_count": null,
   "outputs": [],
   "source": [
    "\n"
   ],
   "metadata": {
    "collapsed": false,
    "pycharm": {
     "name": "#%%\n"
    }
   }
  }
 ],
 "metadata": {
  "kernelspec": {
   "name": "pycharm-f39caa95",
   "language": "python",
   "display_name": "PyCharm (mywork)"
  },
  "language_info": {
   "codemirror_mode": {
    "name": "ipython",
    "version": 2
   },
   "file_extension": ".py",
   "mimetype": "text/x-python",
   "name": "python",
   "nbconvert_exporter": "python",
   "pygments_lexer": "ipython2",
   "version": "2.7.6"
  }
 },
 "nbformat": 4,
 "nbformat_minor": 0
}