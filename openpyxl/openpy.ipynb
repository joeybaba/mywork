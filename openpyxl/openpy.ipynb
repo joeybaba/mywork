{
 "cells": [
  {
   "cell_type": "code",
   "execution_count": 1,
   "metadata": {},
   "outputs": [],
   "source": [
    "from openpyxl import load_workbook"
   ]
  },
  {
   "cell_type": "code",
   "execution_count": 7,
   "metadata": {
    "pycharm": {
     "name": "#%%\n"
    }
   },
   "outputs": [
    {
     "data": {
      "text/plain": [
       "'/Users/joey/PycharmProjects/mywork/openpyxl'"
      ]
     },
     "execution_count": 7,
     "metadata": {},
     "output_type": "execute_result"
    }
   ],
   "source": [
    "%pwd"
   ]
  },
  {
   "cell_type": "code",
   "execution_count": 8,
   "metadata": {
    "pycharm": {
     "name": "#%%\n"
    }
   },
   "outputs": [
    {
     "data": {
      "text/plain": [
       "<openpyxl.workbook.workbook.Workbook at 0x118eaaf10>"
      ]
     },
     "execution_count": 8,
     "metadata": {},
     "output_type": "execute_result"
    }
   ],
   "source": [
    "workbook = load_workbook(filename='test1.xlsx')\n",
    "workbook"
   ]
  },
  {
   "cell_type": "code",
   "execution_count": null,
   "metadata": {
    "pycharm": {
     "is_executing": true
    }
   },
   "outputs": [],
   "source": [
    "from openpyxl import Workbook\n",
    "wb = Workbook()  # 新建一个表格\n",
    "wb.sheetnames"
   ]
  },
  {
   "cell_type": "code",
   "execution_count": 26,
   "metadata": {
    "pycharm": {
     "name": "#%%\n"
    }
   },
   "outputs": [
    {
     "data": {
      "text/plain": [
       "['DM004_月休安排不合理导致的加班成本(考勤月)']"
      ]
     },
     "execution_count": 26,
     "metadata": {},
     "output_type": "execute_result"
    }
   ],
   "source": [
    "workbook.sheetnames\n",
    "# workbook.get_sheet_names() # 失效"
   ]
  },
  {
   "cell_type": "code",
   "execution_count": 10,
   "metadata": {},
   "outputs": [
    {
     "name": "stdout",
     "output_type": "stream",
     "text": [
      "DM004_月休安排不合理导致的加班成本(考勤月)\n"
     ]
    }
   ],
   "source": [
    "for i in workbook:\n",
    "    print(i.title)"
   ]
  },
  {
   "cell_type": "code",
   "execution_count": 14,
   "metadata": {},
   "outputs": [
    {
     "name": "stderr",
     "output_type": "stream",
     "text": [
      "/Library/Frameworks/Python.framework/Versions/3.7/lib/python3.7/site-packages/ipykernel_launcher.py:1: DeprecationWarning: Call to deprecated function get_sheet_by_name (Use wb[sheetname]).\n",
      "  \"\"\"Entry point for launching an IPython kernel.\n"
     ]
    },
    {
     "data": {
      "text/plain": [
       "<openpyxl.worksheet._read_only.ReadOnlyWorksheet at 0x122873b10>"
      ]
     },
     "execution_count": 14,
     "metadata": {},
     "output_type": "execute_result"
    }
   ],
   "source": [
    "sheet = workbook.get_sheet_by_name('DM004_月休安排不合理导致的加班成本(考勤月)')\n",
    "sheet"
   ]
  },
  {
   "cell_type": "code",
   "execution_count": 10,
   "metadata": {
    "pycharm": {
     "name": "#%%\n"
    }
   },
   "outputs": [
    {
     "data": {
      "text/plain": [
       "<openpyxl.worksheet._read_only.ReadOnlyWorksheet at 0x118f0d590>"
      ]
     },
     "execution_count": 10,
     "metadata": {},
     "output_type": "execute_result"
    }
   ],
   "source": [
    "sheet = workbook['DM004_月休安排不合理导致的加班成本(考勤月)']\n",
    "sheet"
   ]
  },
  {
   "cell_type": "code",
   "execution_count": 12,
   "metadata": {
    "pycharm": {
     "name": "#%%\n"
    }
   },
   "outputs": [
    {
     "ename": "AttributeError",
     "evalue": "'ReadOnlyWorksheet' object has no attribute 'dimensions'",
     "output_type": "error",
     "traceback": [
      "\u001B[0;31m---------------------------------------------------------------------------\u001B[0m",
      "\u001B[0;31mAttributeError\u001B[0m                            Traceback (most recent call last)",
      "\u001B[0;32m<ipython-input-12-7377d4699537>\u001B[0m in \u001B[0;36m<module>\u001B[0;34m\u001B[0m\n\u001B[0;32m----> 1\u001B[0;31m \u001B[0msheet\u001B[0m\u001B[0;34m.\u001B[0m\u001B[0mdimensions\u001B[0m\u001B[0;34m\u001B[0m\u001B[0;34m\u001B[0m\u001B[0m\n\u001B[0m\u001B[1;32m      2\u001B[0m \u001B[0;34m\u001B[0m\u001B[0m\n",
      "\u001B[0;31mAttributeError\u001B[0m: 'ReadOnlyWorksheet' object has no attribute 'dimensions'"
     ]
    }
   ],
   "source": [
    "sheet.dimensions"
   ]
  },
  {
   "cell_type": "code",
   "execution_count": 41,
   "metadata": {
    "pycharm": {
     "name": "#%%\n"
    }
   },
   "outputs": [
    {
     "data": {
      "text/plain": [
       "<openpyxl.worksheet._read_only.ReadOnlyWorksheet at 0x124487dd0>"
      ]
     },
     "execution_count": 41,
     "metadata": {},
     "output_type": "execute_result"
    }
   ],
   "source": [
    "sheet = workbook.active\n",
    "sheet\n",
    "# print(list(sheet.columns))\n",
    "# print(list(sheet.rows))"
   ]
  },
  {
   "cell_type": "code",
   "execution_count": 49,
   "metadata": {
    "pycharm": {
     "name": "#%%\n"
    }
   },
   "outputs": [
    {
     "data": {
      "text/plain": [
       "'44190004'"
      ]
     },
     "execution_count": 49,
     "metadata": {},
     "output_type": "execute_result"
    }
   ],
   "source": [
    "cell1 = sheet['G9']\n",
    "cell1.value"
   ]
  },
  {
   "cell_type": "code",
   "execution_count": 51,
   "metadata": {
    "pycharm": {
     "name": "#%%\n"
    }
   },
   "outputs": [
    {
     "data": {
      "text/plain": [
       "'44190004'"
      ]
     },
     "execution_count": 51,
     "metadata": {},
     "output_type": "execute_result"
    }
   ],
   "source": [
    "cell2 = sheet.cell(row=10,column=7)\n",
    "cell2.value"
   ]
  },
  {
   "cell_type": "code",
   "execution_count": 52,
   "metadata": {
    "pycharm": {
     "name": "#%%\n"
    }
   },
   "outputs": [
    {
     "data": {
      "text/plain": [
       "'G10'"
      ]
     },
     "execution_count": 52,
     "metadata": {},
     "output_type": "execute_result"
    }
   ],
   "source": [
    "cell2.row\n",
    "cell2.column\n",
    "cell2.coordinate"
   ]
  },
  {
   "cell_type": "code",
   "execution_count": null,
   "metadata": {
    "pycharm": {
     "is_executing": true
    }
   },
   "outputs": [],
   "source": [
    "for i in range(1,8,2):\n",
    "    print(i,sheet.cell(row=i,column=2).value)"
   ]
  },
  {
   "cell_type": "code",
   "execution_count": null,
   "metadata": {
    "pycharm": {
     "is_executing": true,
     "name": "#%%\n"
    }
   },
   "outputs": [],
   "source": [
    "cell3 = sheet['A1:C4']\n",
    "for i in cell3:\n",
    "    for j in i:\n",
    "        print(j.value)"
   ]
  },
  {
   "cell_type": "code",
   "execution_count": null,
   "metadata": {
    "pycharm": {
     "is_executing": true,
     "name": "#%%\n"
    }
   },
   "outputs": [],
   "source": [
    "sheet['A']  # 获取 A 列的数据\n",
    "sheet['A:C']  #获取 A 列到 C列的数据\n",
    "sheet[5]  #获取第5行数据\n",
    "sheet[5:6]  # 获取第5到6行数据"
   ]
  },
  {
   "cell_type": "code",
   "execution_count": null,
   "metadata": {
    "pycharm": {
     "is_executing": true,
     "name": "#%%\n"
    }
   },
   "outputs": [],
   "source": [
    "for i in sheet.iter_rows(min_row=2,max_row=5,min_col=1,max_col=2):\n",
    "    for j in i:\n",
    "        print(j.value)"
   ]
  },
  {
   "cell_type": "code",
   "execution_count": null,
   "metadata": {
    "pycharm": {
     "is_executing": true,
     "name": "#%%\n"
    }
   },
   "outputs": [],
   "source": [
    "for i in sheet.iter_cols(min_row=2,max_row=5,min_col=1,max_col=2):\n",
    "    for j in i:\n",
    "        print(j.value)"
   ]
  },
  {
   "cell_type": "code",
   "execution_count": 53,
   "metadata": {},
   "outputs": [
    {
     "data": {
      "text/plain": [
       "(140, 16)"
      ]
     },
     "execution_count": 53,
     "metadata": {},
     "output_type": "execute_result"
    }
   ],
   "source": [
    "sheet.max_row,sheet.max_column"
   ]
  },
  {
   "cell_type": "code",
   "execution_count": 54,
   "metadata": {
    "pycharm": {
     "name": "#%%\n"
    }
   },
   "outputs": [
    {
     "name": "stdout",
     "output_type": "stream",
     "text": [
      "(<ReadOnlyCell 'DM004_月休安排不合理导致的加班成本(考勤月)'.A1>, <EmptyCell>, <EmptyCell>, <EmptyCell>, <EmptyCell>, <EmptyCell>, <EmptyCell>, <EmptyCell>, <EmptyCell>, <EmptyCell>, <EmptyCell>, <EmptyCell>, <EmptyCell>, <EmptyCell>, <EmptyCell>, <EmptyCell>)\n",
      "(<ReadOnlyCell 'DM004_月休安排不合理导致的加班成本(考勤月)'.A2>, <ReadOnlyCell 'DM004_月休安排不合理导致的加班成本(考勤月)'.B2>, <EmptyCell>, <EmptyCell>, <ReadOnlyCell 'DM004_月休安排不合理导致的加班成本(考勤月)'.E2>, <ReadOnlyCell 'DM004_月休安排不合理导致的加班成本(考勤月)'.F2>, <ReadOnlyCell 'DM004_月休安排不合理导致的加班成本(考勤月)'.G2>, <ReadOnlyCell 'DM004_月休安排不合理导致的加班成本(考勤月)'.H2>, <ReadOnlyCell 'DM004_月休安排不合理导致的加班成本(考勤月)'.I2>, <ReadOnlyCell 'DM004_月休安排不合理导致的加班成本(考勤月)'.J2>, <ReadOnlyCell 'DM004_月休安排不合理导致的加班成本(考勤月)'.K2>, <ReadOnlyCell 'DM004_月休安排不合理导致的加班成本(考勤月)'.L2>, <ReadOnlyCell 'DM004_月休安排不合理导致的加班成本(考勤月)'.M2>, <ReadOnlyCell 'DM004_月休安排不合理导致的加班成本(考勤月)'.N2>, <ReadOnlyCell 'DM004_月休安排不合理导致的加班成本(考勤月)'.O2>, <ReadOnlyCell 'DM004_月休安排不合理导致的加班成本(考勤月)'.P2>)\n",
      "(<ReadOnlyCell 'DM004_月休安排不合理导致的加班成本(考勤月)'.A3>, <ReadOnlyCell 'DM004_月休安排不合理导致的加班成本(考勤月)'.B3>, <EmptyCell>, <ReadOnlyCell 'DM004_月休安排不合理导致的加班成本(考勤月)'.D3>, <ReadOnlyCell 'DM004_月休安排不合理导致的加班成本(考勤月)'.E3>, <ReadOnlyCell 'DM004_月休安排不合理导致的加班成本(考勤月)'.F3>, <ReadOnlyCell 'DM004_月休安排不合理导致的加班成本(考勤月)'.G3>, <ReadOnlyCell 'DM004_月休安排不合理导致的加班成本(考勤月)'.H3>, <ReadOnlyCell 'DM004_月休安排不合理导致的加班成本(考勤月)'.I3>, <ReadOnlyCell 'DM004_月休安排不合理导致的加班成本(考勤月)'.J3>, <ReadOnlyCell 'DM004_月休安排不合理导致的加班成本(考勤月)'.K3>, <ReadOnlyCell 'DM004_月休安排不合理导致的加班成本(考勤月)'.L3>, <ReadOnlyCell 'DM004_月休安排不合理导致的加班成本(考勤月)'.M3>, <ReadOnlyCell 'DM004_月休安排不合理导致的加班成本(考勤月)'.N3>, <ReadOnlyCell 'DM004_月休安排不合理导致的加班成本(考勤月)'.O3>, <ReadOnlyCell 'DM004_月休安排不合理导致的加班成本(考勤月)'.P3>)\n",
      "(<EmptyCell>, <ReadOnlyCell 'DM004_月休安排不合理导致的加班成本(考勤月)'.B4>, <EmptyCell>, <EmptyCell>, <EmptyCell>, <EmptyCell>, <EmptyCell>, <EmptyCell>, <EmptyCell>, <EmptyCell>, <EmptyCell>, <EmptyCell>, <EmptyCell>, <EmptyCell>, <EmptyCell>, <EmptyCell>)\n",
      "(<EmptyCell>, <ReadOnlyCell 'DM004_月休安排不合理导致的加班成本(考勤月)'.B5>, <EmptyCell>, <EmptyCell>, <EmptyCell>, <EmptyCell>, <ReadOnlyCell 'DM004_月休安排不合理导致的加班成本(考勤月)'.G5>, <EmptyCell>, <EmptyCell>, <EmptyCell>, <EmptyCell>, <EmptyCell>, <EmptyCell>, <EmptyCell>, <EmptyCell>, <EmptyCell>)\n",
      "(<EmptyCell>, <ReadOnlyCell 'DM004_月休安排不合理导致的加班成本(考勤月)'.B6>, <EmptyCell>, <EmptyCell>, <EmptyCell>, <EmptyCell>, <EmptyCell>, <EmptyCell>, <EmptyCell>, <EmptyCell>, <EmptyCell>, <EmptyCell>, <EmptyCell>, <EmptyCell>, <EmptyCell>, <EmptyCell>)\n",
      "(<EmptyCell>, <EmptyCell>, <EmptyCell>, <EmptyCell>, <EmptyCell>, <EmptyCell>, <EmptyCell>, <EmptyCell>, <EmptyCell>, <EmptyCell>, <EmptyCell>, <EmptyCell>, <EmptyCell>, <EmptyCell>, <EmptyCell>, <EmptyCell>)\n",
      "(<EmptyCell>, <EmptyCell>, <EmptyCell>, <EmptyCell>, <EmptyCell>, <ReadOnlyCell 'DM004_月休安排不合理导致的加班成本(考勤月)'.F8>, <ReadOnlyCell 'DM004_月休安排不合理导致的加班成本(考勤月)'.G8>, <ReadOnlyCell 'DM004_月休安排不合理导致的加班成本(考勤月)'.H8>, <ReadOnlyCell 'DM004_月休安排不合理导致的加班成本(考勤月)'.I8>, <ReadOnlyCell 'DM004_月休安排不合理导致的加班成本(考勤月)'.J8>, <ReadOnlyCell 'DM004_月休安排不合理导致的加班成本(考勤月)'.K8>, <ReadOnlyCell 'DM004_月休安排不合理导致的加班成本(考勤月)'.L8>, <ReadOnlyCell 'DM004_月休安排不合理导致的加班成本(考勤月)'.M8>, <ReadOnlyCell 'DM004_月休安排不合理导致的加班成本(考勤月)'.N8>, <ReadOnlyCell 'DM004_月休安排不合理导致的加班成本(考勤月)'.O8>, <ReadOnlyCell 'DM004_月休安排不合理导致的加班成本(考勤月)'.P8>)\n",
      "(<ReadOnlyCell 'DM004_月休安排不合理导致的加班成本(考勤月)'.A9>, <ReadOnlyCell 'DM004_月休安排不合理导致的加班成本(考勤月)'.B9>, <EmptyCell>, <EmptyCell>, <EmptyCell>, <ReadOnlyCell 'DM004_月休安排不合理导致的加班成本(考勤月)'.F9>, <ReadOnlyCell 'DM004_月休安排不合理导致的加班成本(考勤月)'.G9>, <ReadOnlyCell 'DM004_月休安排不合理导致的加班成本(考勤月)'.H9>, <ReadOnlyCell 'DM004_月休安排不合理导致的加班成本(考勤月)'.I9>, <ReadOnlyCell 'DM004_月休安排不合理导致的加班成本(考勤月)'.J9>, <ReadOnlyCell 'DM004_月休安排不合理导致的加班成本(考勤月)'.K9>, <ReadOnlyCell 'DM004_月休安排不合理导致的加班成本(考勤月)'.L9>, <ReadOnlyCell 'DM004_月休安排不合理导致的加班成本(考勤月)'.M9>, <ReadOnlyCell 'DM004_月休安排不合理导致的加班成本(考勤月)'.N9>, <ReadOnlyCell 'DM004_月休安排不合理导致的加班成本(考勤月)'.O9>, <ReadOnlyCell 'DM004_月休安排不合理导致的加班成本(考勤月)'.P9>)\n",
      "(<ReadOnlyCell 'DM004_月休安排不合理导致的加班成本(考勤月)'.A10>, <ReadOnlyCell 'DM004_月休安排不合理导致的加班成本(考勤月)'.B10>, <EmptyCell>, <EmptyCell>, <EmptyCell>, <ReadOnlyCell 'DM004_月休安排不合理导致的加班成本(考勤月)'.F10>, <ReadOnlyCell 'DM004_月休安排不合理导致的加班成本(考勤月)'.G10>, <ReadOnlyCell 'DM004_月休安排不合理导致的加班成本(考勤月)'.H10>, <ReadOnlyCell 'DM004_月休安排不合理导致的加班成本(考勤月)'.I10>, <ReadOnlyCell 'DM004_月休安排不合理导致的加班成本(考勤月)'.J10>, <ReadOnlyCell 'DM004_月休安排不合理导致的加班成本(考勤月)'.K10>, <ReadOnlyCell 'DM004_月休安排不合理导致的加班成本(考勤月)'.L10>, <ReadOnlyCell 'DM004_月休安排不合理导致的加班成本(考勤月)'.M10>, <ReadOnlyCell 'DM004_月休安排不合理导致的加班成本(考勤月)'.N10>, <ReadOnlyCell 'DM004_月休安排不合理导致的加班成本(考勤月)'.O10>, <ReadOnlyCell 'DM004_月休安排不合理导致的加班成本(考勤月)'.P10>)\n",
      "(<ReadOnlyCell 'DM004_月休安排不合理导致的加班成本(考勤月)'.A11>, <ReadOnlyCell 'DM004_月休安排不合理导致的加班成本(考勤月)'.B11>, <EmptyCell>, <EmptyCell>, <EmptyCell>, <ReadOnlyCell 'DM004_月休安排不合理导致的加班成本(考勤月)'.F11>, <ReadOnlyCell 'DM004_月休安排不合理导致的加班成本(考勤月)'.G11>, <ReadOnlyCell 'DM004_月休安排不合理导致的加班成本(考勤月)'.H11>, <ReadOnlyCell 'DM004_月休安排不合理导致的加班成本(考勤月)'.I11>, <ReadOnlyCell 'DM004_月休安排不合理导致的加班成本(考勤月)'.J11>, <ReadOnlyCell 'DM004_月休安排不合理导致的加班成本(考勤月)'.K11>, <ReadOnlyCell 'DM004_月休安排不合理导致的加班成本(考勤月)'.L11>, <ReadOnlyCell 'DM004_月休安排不合理导致的加班成本(考勤月)'.M11>, <ReadOnlyCell 'DM004_月休安排不合理导致的加班成本(考勤月)'.N11>, <ReadOnlyCell 'DM004_月休安排不合理导致的加班成本(考勤月)'.O11>, <ReadOnlyCell 'DM004_月休安排不合理导致的加班成本(考勤月)'.P11>)\n",
      "(<ReadOnlyCell 'DM004_月休安排不合理导致的加班成本(考勤月)'.A12>, <ReadOnlyCell 'DM004_月休安排不合理导致的加班成本(考勤月)'.B12>, <EmptyCell>, <EmptyCell>, <EmptyCell>, <ReadOnlyCell 'DM004_月休安排不合理导致的加班成本(考勤月)'.F12>, <ReadOnlyCell 'DM004_月休安排不合理导致的加班成本(考勤月)'.G12>, <ReadOnlyCell 'DM004_月休安排不合理导致的加班成本(考勤月)'.H12>, <ReadOnlyCell 'DM004_月休安排不合理导致的加班成本(考勤月)'.I12>, <ReadOnlyCell 'DM004_月休安排不合理导致的加班成本(考勤月)'.J12>, <ReadOnlyCell 'DM004_月休安排不合理导致的加班成本(考勤月)'.K12>, <ReadOnlyCell 'DM004_月休安排不合理导致的加班成本(考勤月)'.L12>, <ReadOnlyCell 'DM004_月休安排不合理导致的加班成本(考勤月)'.M12>, <ReadOnlyCell 'DM004_月休安排不合理导致的加班成本(考勤月)'.N12>, <ReadOnlyCell 'DM004_月休安排不合理导致的加班成本(考勤月)'.O12>, <ReadOnlyCell 'DM004_月休安排不合理导致的加班成本(考勤月)'.P12>)\n",
      "(<ReadOnlyCell 'DM004_月休安排不合理导致的加班成本(考勤月)'.A13>, <ReadOnlyCell 'DM004_月休安排不合理导致的加班成本(考勤月)'.B13>, <EmptyCell>, <EmptyCell>, <EmptyCell>, <ReadOnlyCell 'DM004_月休安排不合理导致的加班成本(考勤月)'.F13>, <ReadOnlyCell 'DM004_月休安排不合理导致的加班成本(考勤月)'.G13>, <ReadOnlyCell 'DM004_月休安排不合理导致的加班成本(考勤月)'.H13>, <ReadOnlyCell 'DM004_月休安排不合理导致的加班成本(考勤月)'.I13>, <ReadOnlyCell 'DM004_月休安排不合理导致的加班成本(考勤月)'.J13>, <ReadOnlyCell 'DM004_月休安排不合理导致的加班成本(考勤月)'.K13>, <ReadOnlyCell 'DM004_月休安排不合理导致的加班成本(考勤月)'.L13>, <ReadOnlyCell 'DM004_月休安排不合理导致的加班成本(考勤月)'.M13>, <ReadOnlyCell 'DM004_月休安排不合理导致的加班成本(考勤月)'.N13>, <ReadOnlyCell 'DM004_月休安排不合理导致的加班成本(考勤月)'.O13>, <ReadOnlyCell 'DM004_月休安排不合理导致的加班成本(考勤月)'.P13>)\n",
      "(<ReadOnlyCell 'DM004_月休安排不合理导致的加班成本(考勤月)'.A14>, <ReadOnlyCell 'DM004_月休安排不合理导致的加班成本(考勤月)'.B14>, <EmptyCell>, <EmptyCell>, <EmptyCell>, <ReadOnlyCell 'DM004_月休安排不合理导致的加班成本(考勤月)'.F14>, <ReadOnlyCell 'DM004_月休安排不合理导致的加班成本(考勤月)'.G14>, <ReadOnlyCell 'DM004_月休安排不合理导致的加班成本(考勤月)'.H14>, <ReadOnlyCell 'DM004_月休安排不合理导致的加班成本(考勤月)'.I14>, <ReadOnlyCell 'DM004_月休安排不合理导致的加班成本(考勤月)'.J14>, <ReadOnlyCell 'DM004_月休安排不合理导致的加班成本(考勤月)'.K14>, <ReadOnlyCell 'DM004_月休安排不合理导致的加班成本(考勤月)'.L14>, <ReadOnlyCell 'DM004_月休安排不合理导致的加班成本(考勤月)'.M14>, <ReadOnlyCell 'DM004_月休安排不合理导致的加班成本(考勤月)'.N14>, <ReadOnlyCell 'DM004_月休安排不合理导致的加班成本(考勤月)'.O14>, <ReadOnlyCell 'DM004_月休安排不合理导致的加班成本(考勤月)'.P14>)\n",
      "(<ReadOnlyCell 'DM004_月休安排不合理导致的加班成本(考勤月)'.A15>, <ReadOnlyCell 'DM004_月休安排不合理导致的加班成本(考勤月)'.B15>, <EmptyCell>, <EmptyCell>, <EmptyCell>, <ReadOnlyCell 'DM004_月休安排不合理导致的加班成本(考勤月)'.F15>, <ReadOnlyCell 'DM004_月休安排不合理导致的加班成本(考勤月)'.G15>, <ReadOnlyCell 'DM004_月休安排不合理导致的加班成本(考勤月)'.H15>, <ReadOnlyCell 'DM004_月休安排不合理导致的加班成本(考勤月)'.I15>, <ReadOnlyCell 'DM004_月休安排不合理导致的加班成本(考勤月)'.J15>, <ReadOnlyCell 'DM004_月休安排不合理导致的加班成本(考勤月)'.K15>, <ReadOnlyCell 'DM004_月休安排不合理导致的加班成本(考勤月)'.L15>, <ReadOnlyCell 'DM004_月休安排不合理导致的加班成本(考勤月)'.M15>, <ReadOnlyCell 'DM004_月休安排不合理导致的加班成本(考勤月)'.N15>, <ReadOnlyCell 'DM004_月休安排不合理导致的加班成本(考勤月)'.O15>, <ReadOnlyCell 'DM004_月休安排不合理导致的加班成本(考勤月)'.P15>)\n",
      "(<ReadOnlyCell 'DM004_月休安排不合理导致的加班成本(考勤月)'.A16>, <ReadOnlyCell 'DM004_月休安排不合理导致的加班成本(考勤月)'.B16>, <EmptyCell>, <EmptyCell>, <EmptyCell>, <ReadOnlyCell 'DM004_月休安排不合理导致的加班成本(考勤月)'.F16>, <ReadOnlyCell 'DM004_月休安排不合理导致的加班成本(考勤月)'.G16>, <ReadOnlyCell 'DM004_月休安排不合理导致的加班成本(考勤月)'.H16>, <ReadOnlyCell 'DM004_月休安排不合理导致的加班成本(考勤月)'.I16>, <ReadOnlyCell 'DM004_月休安排不合理导致的加班成本(考勤月)'.J16>, <ReadOnlyCell 'DM004_月休安排不合理导致的加班成本(考勤月)'.K16>, <ReadOnlyCell 'DM004_月休安排不合理导致的加班成本(考勤月)'.L16>, <ReadOnlyCell 'DM004_月休安排不合理导致的加班成本(考勤月)'.M16>, <ReadOnlyCell 'DM004_月休安排不合理导致的加班成本(考勤月)'.N16>, <ReadOnlyCell 'DM004_月休安排不合理导致的加班成本(考勤月)'.O16>, <ReadOnlyCell 'DM004_月休安排不合理导致的加班成本(考勤月)'.P16>)\n",
      "(<ReadOnlyCell 'DM004_月休安排不合理导致的加班成本(考勤月)'.A17>, <ReadOnlyCell 'DM004_月休安排不合理导致的加班成本(考勤月)'.B17>, <EmptyCell>, <EmptyCell>, <EmptyCell>, <ReadOnlyCell 'DM004_月休安排不合理导致的加班成本(考勤月)'.F17>, <ReadOnlyCell 'DM004_月休安排不合理导致的加班成本(考勤月)'.G17>, <ReadOnlyCell 'DM004_月休安排不合理导致的加班成本(考勤月)'.H17>, <ReadOnlyCell 'DM004_月休安排不合理导致的加班成本(考勤月)'.I17>, <ReadOnlyCell 'DM004_月休安排不合理导致的加班成本(考勤月)'.J17>, <ReadOnlyCell 'DM004_月休安排不合理导致的加班成本(考勤月)'.K17>, <ReadOnlyCell 'DM004_月休安排不合理导致的加班成本(考勤月)'.L17>, <ReadOnlyCell 'DM004_月休安排不合理导致的加班成本(考勤月)'.M17>, <ReadOnlyCell 'DM004_月休安排不合理导致的加班成本(考勤月)'.N17>, <ReadOnlyCell 'DM004_月休安排不合理导致的加班成本(考勤月)'.O17>, <ReadOnlyCell 'DM004_月休安排不合理导致的加班成本(考勤月)'.P17>)\n",
      "(<ReadOnlyCell 'DM004_月休安排不合理导致的加班成本(考勤月)'.A18>, <ReadOnlyCell 'DM004_月休安排不合理导致的加班成本(考勤月)'.B18>, <EmptyCell>, <EmptyCell>, <EmptyCell>, <ReadOnlyCell 'DM004_月休安排不合理导致的加班成本(考勤月)'.F18>, <ReadOnlyCell 'DM004_月休安排不合理导致的加班成本(考勤月)'.G18>, <ReadOnlyCell 'DM004_月休安排不合理导致的加班成本(考勤月)'.H18>, <ReadOnlyCell 'DM004_月休安排不合理导致的加班成本(考勤月)'.I18>, <ReadOnlyCell 'DM004_月休安排不合理导致的加班成本(考勤月)'.J18>, <ReadOnlyCell 'DM004_月休安排不合理导致的加班成本(考勤月)'.K18>, <ReadOnlyCell 'DM004_月休安排不合理导致的加班成本(考勤月)'.L18>, <ReadOnlyCell 'DM004_月休安排不合理导致的加班成本(考勤月)'.M18>, <ReadOnlyCell 'DM004_月休安排不合理导致的加班成本(考勤月)'.N18>, <ReadOnlyCell 'DM004_月休安排不合理导致的加班成本(考勤月)'.O18>, <ReadOnlyCell 'DM004_月休安排不合理导致的加班成本(考勤月)'.P18>)\n",
      "(<ReadOnlyCell 'DM004_月休安排不合理导致的加班成本(考勤月)'.A19>, <ReadOnlyCell 'DM004_月休安排不合理导致的加班成本(考勤月)'.B19>, <EmptyCell>, <EmptyCell>, <EmptyCell>, <ReadOnlyCell 'DM004_月休安排不合理导致的加班成本(考勤月)'.F19>, <ReadOnlyCell 'DM004_月休安排不合理导致的加班成本(考勤月)'.G19>, <ReadOnlyCell 'DM004_月休安排不合理导致的加班成本(考勤月)'.H19>, <ReadOnlyCell 'DM004_月休安排不合理导致的加班成本(考勤月)'.I19>, <ReadOnlyCell 'DM004_月休安排不合理导致的加班成本(考勤月)'.J19>, <ReadOnlyCell 'DM004_月休安排不合理导致的加班成本(考勤月)'.K19>, <ReadOnlyCell 'DM004_月休安排不合理导致的加班成本(考勤月)'.L19>, <ReadOnlyCell 'DM004_月休安排不合理导致的加班成本(考勤月)'.M19>, <ReadOnlyCell 'DM004_月休安排不合理导致的加班成本(考勤月)'.N19>, <ReadOnlyCell 'DM004_月休安排不合理导致的加班成本(考勤月)'.O19>, <ReadOnlyCell 'DM004_月休安排不合理导致的加班成本(考勤月)'.P19>)\n",
      "(<ReadOnlyCell 'DM004_月休安排不合理导致的加班成本(考勤月)'.A20>, <ReadOnlyCell 'DM004_月休安排不合理导致的加班成本(考勤月)'.B20>, <EmptyCell>, <EmptyCell>, <EmptyCell>, <ReadOnlyCell 'DM004_月休安排不合理导致的加班成本(考勤月)'.F20>, <ReadOnlyCell 'DM004_月休安排不合理导致的加班成本(考勤月)'.G20>, <ReadOnlyCell 'DM004_月休安排不合理导致的加班成本(考勤月)'.H20>, <ReadOnlyCell 'DM004_月休安排不合理导致的加班成本(考勤月)'.I20>, <ReadOnlyCell 'DM004_月休安排不合理导致的加班成本(考勤月)'.J20>, <ReadOnlyCell 'DM004_月休安排不合理导致的加班成本(考勤月)'.K20>, <ReadOnlyCell 'DM004_月休安排不合理导致的加班成本(考勤月)'.L20>, <ReadOnlyCell 'DM004_月休安排不合理导致的加班成本(考勤月)'.M20>, <ReadOnlyCell 'DM004_月休安排不合理导致的加班成本(考勤月)'.N20>, <ReadOnlyCell 'DM004_月休安排不合理导致的加班成本(考勤月)'.O20>, <ReadOnlyCell 'DM004_月休安排不合理导致的加班成本(考勤月)'.P20>)\n",
      "(<ReadOnlyCell 'DM004_月休安排不合理导致的加班成本(考勤月)'.A21>, <ReadOnlyCell 'DM004_月休安排不合理导致的加班成本(考勤月)'.B21>, <EmptyCell>, <EmptyCell>, <EmptyCell>, <ReadOnlyCell 'DM004_月休安排不合理导致的加班成本(考勤月)'.F21>, <ReadOnlyCell 'DM004_月休安排不合理导致的加班成本(考勤月)'.G21>, <ReadOnlyCell 'DM004_月休安排不合理导致的加班成本(考勤月)'.H21>, <ReadOnlyCell 'DM004_月休安排不合理导致的加班成本(考勤月)'.I21>, <ReadOnlyCell 'DM004_月休安排不合理导致的加班成本(考勤月)'.J21>, <ReadOnlyCell 'DM004_月休安排不合理导致的加班成本(考勤月)'.K21>, <ReadOnlyCell 'DM004_月休安排不合理导致的加班成本(考勤月)'.L21>, <ReadOnlyCell 'DM004_月休安排不合理导致的加班成本(考勤月)'.M21>, <ReadOnlyCell 'DM004_月休安排不合理导致的加班成本(考勤月)'.N21>, <ReadOnlyCell 'DM004_月休安排不合理导致的加班成本(考勤月)'.O21>, <ReadOnlyCell 'DM004_月休安排不合理导致的加班成本(考勤月)'.P21>)\n",
      "(<ReadOnlyCell 'DM004_月休安排不合理导致的加班成本(考勤月)'.A22>, <ReadOnlyCell 'DM004_月休安排不合理导致的加班成本(考勤月)'.B22>, <EmptyCell>, <EmptyCell>, <EmptyCell>, <ReadOnlyCell 'DM004_月休安排不合理导致的加班成本(考勤月)'.F22>, <ReadOnlyCell 'DM004_月休安排不合理导致的加班成本(考勤月)'.G22>, <ReadOnlyCell 'DM004_月休安排不合理导致的加班成本(考勤月)'.H22>, <ReadOnlyCell 'DM004_月休安排不合理导致的加班成本(考勤月)'.I22>, <ReadOnlyCell 'DM004_月休安排不合理导致的加班成本(考勤月)'.J22>, <ReadOnlyCell 'DM004_月休安排不合理导致的加班成本(考勤月)'.K22>, <ReadOnlyCell 'DM004_月休安排不合理导致的加班成本(考勤月)'.L22>, <ReadOnlyCell 'DM004_月休安排不合理导致的加班成本(考勤月)'.M22>, <ReadOnlyCell 'DM004_月休安排不合理导致的加班成本(考勤月)'.N22>, <ReadOnlyCell 'DM004_月休安排不合理导致的加班成本(考勤月)'.O22>, <ReadOnlyCell 'DM004_月休安排不合理导致的加班成本(考勤月)'.P22>)\n",
      "(<ReadOnlyCell 'DM004_月休安排不合理导致的加班成本(考勤月)'.A23>, <ReadOnlyCell 'DM004_月休安排不合理导致的加班成本(考勤月)'.B23>, <EmptyCell>, <EmptyCell>, <EmptyCell>, <ReadOnlyCell 'DM004_月休安排不合理导致的加班成本(考勤月)'.F23>, <ReadOnlyCell 'DM004_月休安排不合理导致的加班成本(考勤月)'.G23>, <ReadOnlyCell 'DM004_月休安排不合理导致的加班成本(考勤月)'.H23>, <ReadOnlyCell 'DM004_月休安排不合理导致的加班成本(考勤月)'.I23>, <ReadOnlyCell 'DM004_月休安排不合理导致的加班成本(考勤月)'.J23>, <ReadOnlyCell 'DM004_月休安排不合理导致的加班成本(考勤月)'.K23>, <ReadOnlyCell 'DM004_月休安排不合理导致的加班成本(考勤月)'.L23>, <ReadOnlyCell 'DM004_月休安排不合理导致的加班成本(考勤月)'.M23>, <ReadOnlyCell 'DM004_月休安排不合理导致的加班成本(考勤月)'.N23>, <ReadOnlyCell 'DM004_月休安排不合理导致的加班成本(考勤月)'.O23>, <ReadOnlyCell 'DM004_月休安排不合理导致的加班成本(考勤月)'.P23>)\n",
      "(<ReadOnlyCell 'DM004_月休安排不合理导致的加班成本(考勤月)'.A24>, <ReadOnlyCell 'DM004_月休安排不合理导致的加班成本(考勤月)'.B24>, <EmptyCell>, <EmptyCell>, <EmptyCell>, <ReadOnlyCell 'DM004_月休安排不合理导致的加班成本(考勤月)'.F24>, <ReadOnlyCell 'DM004_月休安排不合理导致的加班成本(考勤月)'.G24>, <ReadOnlyCell 'DM004_月休安排不合理导致的加班成本(考勤月)'.H24>, <ReadOnlyCell 'DM004_月休安排不合理导致的加班成本(考勤月)'.I24>, <ReadOnlyCell 'DM004_月休安排不合理导致的加班成本(考勤月)'.J24>, <ReadOnlyCell 'DM004_月休安排不合理导致的加班成本(考勤月)'.K24>, <ReadOnlyCell 'DM004_月休安排不合理导致的加班成本(考勤月)'.L24>, <ReadOnlyCell 'DM004_月休安排不合理导致的加班成本(考勤月)'.M24>, <ReadOnlyCell 'DM004_月休安排不合理导致的加班成本(考勤月)'.N24>, <ReadOnlyCell 'DM004_月休安排不合理导致的加班成本(考勤月)'.O24>, <ReadOnlyCell 'DM004_月休安排不合理导致的加班成本(考勤月)'.P24>)\n",
      "(<ReadOnlyCell 'DM004_月休安排不合理导致的加班成本(考勤月)'.A25>, <ReadOnlyCell 'DM004_月休安排不合理导致的加班成本(考勤月)'.B25>, <EmptyCell>, <EmptyCell>, <EmptyCell>, <ReadOnlyCell 'DM004_月休安排不合理导致的加班成本(考勤月)'.F25>, <ReadOnlyCell 'DM004_月休安排不合理导致的加班成本(考勤月)'.G25>, <ReadOnlyCell 'DM004_月休安排不合理导致的加班成本(考勤月)'.H25>, <ReadOnlyCell 'DM004_月休安排不合理导致的加班成本(考勤月)'.I25>, <ReadOnlyCell 'DM004_月休安排不合理导致的加班成本(考勤月)'.J25>, <ReadOnlyCell 'DM004_月休安排不合理导致的加班成本(考勤月)'.K25>, <ReadOnlyCell 'DM004_月休安排不合理导致的加班成本(考勤月)'.L25>, <ReadOnlyCell 'DM004_月休安排不合理导致的加班成本(考勤月)'.M25>, <ReadOnlyCell 'DM004_月休安排不合理导致的加班成本(考勤月)'.N25>, <ReadOnlyCell 'DM004_月休安排不合理导致的加班成本(考勤月)'.O25>, <ReadOnlyCell 'DM004_月休安排不合理导致的加班成本(考勤月)'.P25>)\n",
      "(<ReadOnlyCell 'DM004_月休安排不合理导致的加班成本(考勤月)'.A26>, <ReadOnlyCell 'DM004_月休安排不合理导致的加班成本(考勤月)'.B26>, <EmptyCell>, <EmptyCell>, <EmptyCell>, <ReadOnlyCell 'DM004_月休安排不合理导致的加班成本(考勤月)'.F26>, <ReadOnlyCell 'DM004_月休安排不合理导致的加班成本(考勤月)'.G26>, <ReadOnlyCell 'DM004_月休安排不合理导致的加班成本(考勤月)'.H26>, <ReadOnlyCell 'DM004_月休安排不合理导致的加班成本(考勤月)'.I26>, <ReadOnlyCell 'DM004_月休安排不合理导致的加班成本(考勤月)'.J26>, <ReadOnlyCell 'DM004_月休安排不合理导致的加班成本(考勤月)'.K26>, <ReadOnlyCell 'DM004_月休安排不合理导致的加班成本(考勤月)'.L26>, <ReadOnlyCell 'DM004_月休安排不合理导致的加班成本(考勤月)'.M26>, <ReadOnlyCell 'DM004_月休安排不合理导致的加班成本(考勤月)'.N26>, <ReadOnlyCell 'DM004_月休安排不合理导致的加班成本(考勤月)'.O26>, <ReadOnlyCell 'DM004_月休安排不合理导致的加班成本(考勤月)'.P26>)\n",
      "(<ReadOnlyCell 'DM004_月休安排不合理导致的加班成本(考勤月)'.A27>, <ReadOnlyCell 'DM004_月休安排不合理导致的加班成本(考勤月)'.B27>, <EmptyCell>, <EmptyCell>, <EmptyCell>, <ReadOnlyCell 'DM004_月休安排不合理导致的加班成本(考勤月)'.F27>, <ReadOnlyCell 'DM004_月休安排不合理导致的加班成本(考勤月)'.G27>, <ReadOnlyCell 'DM004_月休安排不合理导致的加班成本(考勤月)'.H27>, <ReadOnlyCell 'DM004_月休安排不合理导致的加班成本(考勤月)'.I27>, <ReadOnlyCell 'DM004_月休安排不合理导致的加班成本(考勤月)'.J27>, <ReadOnlyCell 'DM004_月休安排不合理导致的加班成本(考勤月)'.K27>, <ReadOnlyCell 'DM004_月休安排不合理导致的加班成本(考勤月)'.L27>, <ReadOnlyCell 'DM004_月休安排不合理导致的加班成本(考勤月)'.M27>, <ReadOnlyCell 'DM004_月休安排不合理导致的加班成本(考勤月)'.N27>, <ReadOnlyCell 'DM004_月休安排不合理导致的加班成本(考勤月)'.O27>, <ReadOnlyCell 'DM004_月休安排不合理导致的加班成本(考勤月)'.P27>)\n",
      "(<ReadOnlyCell 'DM004_月休安排不合理导致的加班成本(考勤月)'.A28>, <ReadOnlyCell 'DM004_月休安排不合理导致的加班成本(考勤月)'.B28>, <EmptyCell>, <EmptyCell>, <EmptyCell>, <ReadOnlyCell 'DM004_月休安排不合理导致的加班成本(考勤月)'.F28>, <ReadOnlyCell 'DM004_月休安排不合理导致的加班成本(考勤月)'.G28>, <ReadOnlyCell 'DM004_月休安排不合理导致的加班成本(考勤月)'.H28>, <ReadOnlyCell 'DM004_月休安排不合理导致的加班成本(考勤月)'.I28>, <ReadOnlyCell 'DM004_月休安排不合理导致的加班成本(考勤月)'.J28>, <ReadOnlyCell 'DM004_月休安排不合理导致的加班成本(考勤月)'.K28>, <ReadOnlyCell 'DM004_月休安排不合理导致的加班成本(考勤月)'.L28>, <ReadOnlyCell 'DM004_月休安排不合理导致的加班成本(考勤月)'.M28>, <ReadOnlyCell 'DM004_月休安排不合理导致的加班成本(考勤月)'.N28>, <ReadOnlyCell 'DM004_月休安排不合理导致的加班成本(考勤月)'.O28>, <ReadOnlyCell 'DM004_月休安排不合理导致的加班成本(考勤月)'.P28>)\n",
      "(<ReadOnlyCell 'DM004_月休安排不合理导致的加班成本(考勤月)'.A29>, <ReadOnlyCell 'DM004_月休安排不合理导致的加班成本(考勤月)'.B29>, <EmptyCell>, <EmptyCell>, <EmptyCell>, <ReadOnlyCell 'DM004_月休安排不合理导致的加班成本(考勤月)'.F29>, <ReadOnlyCell 'DM004_月休安排不合理导致的加班成本(考勤月)'.G29>, <ReadOnlyCell 'DM004_月休安排不合理导致的加班成本(考勤月)'.H29>, <ReadOnlyCell 'DM004_月休安排不合理导致的加班成本(考勤月)'.I29>, <ReadOnlyCell 'DM004_月休安排不合理导致的加班成本(考勤月)'.J29>, <ReadOnlyCell 'DM004_月休安排不合理导致的加班成本(考勤月)'.K29>, <ReadOnlyCell 'DM004_月休安排不合理导致的加班成本(考勤月)'.L29>, <ReadOnlyCell 'DM004_月休安排不合理导致的加班成本(考勤月)'.M29>, <ReadOnlyCell 'DM004_月休安排不合理导致的加班成本(考勤月)'.N29>, <ReadOnlyCell 'DM004_月休安排不合理导致的加班成本(考勤月)'.O29>, <ReadOnlyCell 'DM004_月休安排不合理导致的加班成本(考勤月)'.P29>)\n",
      "(<ReadOnlyCell 'DM004_月休安排不合理导致的加班成本(考勤月)'.A30>, <ReadOnlyCell 'DM004_月休安排不合理导致的加班成本(考勤月)'.B30>, <EmptyCell>, <EmptyCell>, <EmptyCell>, <ReadOnlyCell 'DM004_月休安排不合理导致的加班成本(考勤月)'.F30>, <ReadOnlyCell 'DM004_月休安排不合理导致的加班成本(考勤月)'.G30>, <ReadOnlyCell 'DM004_月休安排不合理导致的加班成本(考勤月)'.H30>, <ReadOnlyCell 'DM004_月休安排不合理导致的加班成本(考勤月)'.I30>, <ReadOnlyCell 'DM004_月休安排不合理导致的加班成本(考勤月)'.J30>, <ReadOnlyCell 'DM004_月休安排不合理导致的加班成本(考勤月)'.K30>, <ReadOnlyCell 'DM004_月休安排不合理导致的加班成本(考勤月)'.L30>, <ReadOnlyCell 'DM004_月休安排不合理导致的加班成本(考勤月)'.M30>, <ReadOnlyCell 'DM004_月休安排不合理导致的加班成本(考勤月)'.N30>, <ReadOnlyCell 'DM004_月休安排不合理导致的加班成本(考勤月)'.O30>, <ReadOnlyCell 'DM004_月休安排不合理导致的加班成本(考勤月)'.P30>)\n",
      "(<ReadOnlyCell 'DM004_月休安排不合理导致的加班成本(考勤月)'.A31>, <ReadOnlyCell 'DM004_月休安排不合理导致的加班成本(考勤月)'.B31>, <EmptyCell>, <EmptyCell>, <EmptyCell>, <ReadOnlyCell 'DM004_月休安排不合理导致的加班成本(考勤月)'.F31>, <ReadOnlyCell 'DM004_月休安排不合理导致的加班成本(考勤月)'.G31>, <ReadOnlyCell 'DM004_月休安排不合理导致的加班成本(考勤月)'.H31>, <ReadOnlyCell 'DM004_月休安排不合理导致的加班成本(考勤月)'.I31>, <ReadOnlyCell 'DM004_月休安排不合理导致的加班成本(考勤月)'.J31>, <ReadOnlyCell 'DM004_月休安排不合理导致的加班成本(考勤月)'.K31>, <ReadOnlyCell 'DM004_月休安排不合理导致的加班成本(考勤月)'.L31>, <ReadOnlyCell 'DM004_月休安排不合理导致的加班成本(考勤月)'.M31>, <ReadOnlyCell 'DM004_月休安排不合理导致的加班成本(考勤月)'.N31>, <ReadOnlyCell 'DM004_月休安排不合理导致的加班成本(考勤月)'.O31>, <ReadOnlyCell 'DM004_月休安排不合理导致的加班成本(考勤月)'.P31>)\n",
      "(<ReadOnlyCell 'DM004_月休安排不合理导致的加班成本(考勤月)'.A32>, <ReadOnlyCell 'DM004_月休安排不合理导致的加班成本(考勤月)'.B32>, <EmptyCell>, <EmptyCell>, <EmptyCell>, <ReadOnlyCell 'DM004_月休安排不合理导致的加班成本(考勤月)'.F32>, <ReadOnlyCell 'DM004_月休安排不合理导致的加班成本(考勤月)'.G32>, <ReadOnlyCell 'DM004_月休安排不合理导致的加班成本(考勤月)'.H32>, <ReadOnlyCell 'DM004_月休安排不合理导致的加班成本(考勤月)'.I32>, <ReadOnlyCell 'DM004_月休安排不合理导致的加班成本(考勤月)'.J32>, <ReadOnlyCell 'DM004_月休安排不合理导致的加班成本(考勤月)'.K32>, <ReadOnlyCell 'DM004_月休安排不合理导致的加班成本(考勤月)'.L32>, <ReadOnlyCell 'DM004_月休安排不合理导致的加班成本(考勤月)'.M32>, <ReadOnlyCell 'DM004_月休安排不合理导致的加班成本(考勤月)'.N32>, <ReadOnlyCell 'DM004_月休安排不合理导致的加班成本(考勤月)'.O32>, <ReadOnlyCell 'DM004_月休安排不合理导致的加班成本(考勤月)'.P32>)\n",
      "(<ReadOnlyCell 'DM004_月休安排不合理导致的加班成本(考勤月)'.A33>, <ReadOnlyCell 'DM004_月休安排不合理导致的加班成本(考勤月)'.B33>, <EmptyCell>, <EmptyCell>, <EmptyCell>, <ReadOnlyCell 'DM004_月休安排不合理导致的加班成本(考勤月)'.F33>, <ReadOnlyCell 'DM004_月休安排不合理导致的加班成本(考勤月)'.G33>, <ReadOnlyCell 'DM004_月休安排不合理导致的加班成本(考勤月)'.H33>, <ReadOnlyCell 'DM004_月休安排不合理导致的加班成本(考勤月)'.I33>, <ReadOnlyCell 'DM004_月休安排不合理导致的加班成本(考勤月)'.J33>, <ReadOnlyCell 'DM004_月休安排不合理导致的加班成本(考勤月)'.K33>, <ReadOnlyCell 'DM004_月休安排不合理导致的加班成本(考勤月)'.L33>, <ReadOnlyCell 'DM004_月休安排不合理导致的加班成本(考勤月)'.M33>, <ReadOnlyCell 'DM004_月休安排不合理导致的加班成本(考勤月)'.N33>, <ReadOnlyCell 'DM004_月休安排不合理导致的加班成本(考勤月)'.O33>, <ReadOnlyCell 'DM004_月休安排不合理导致的加班成本(考勤月)'.P33>)\n",
      "(<ReadOnlyCell 'DM004_月休安排不合理导致的加班成本(考勤月)'.A34>, <ReadOnlyCell 'DM004_月休安排不合理导致的加班成本(考勤月)'.B34>, <EmptyCell>, <EmptyCell>, <EmptyCell>, <ReadOnlyCell 'DM004_月休安排不合理导致的加班成本(考勤月)'.F34>, <ReadOnlyCell 'DM004_月休安排不合理导致的加班成本(考勤月)'.G34>, <ReadOnlyCell 'DM004_月休安排不合理导致的加班成本(考勤月)'.H34>, <ReadOnlyCell 'DM004_月休安排不合理导致的加班成本(考勤月)'.I34>, <ReadOnlyCell 'DM004_月休安排不合理导致的加班成本(考勤月)'.J34>, <ReadOnlyCell 'DM004_月休安排不合理导致的加班成本(考勤月)'.K34>, <ReadOnlyCell 'DM004_月休安排不合理导致的加班成本(考勤月)'.L34>, <ReadOnlyCell 'DM004_月休安排不合理导致的加班成本(考勤月)'.M34>, <ReadOnlyCell 'DM004_月休安排不合理导致的加班成本(考勤月)'.N34>, <ReadOnlyCell 'DM004_月休安排不合理导致的加班成本(考勤月)'.O34>, <ReadOnlyCell 'DM004_月休安排不合理导致的加班成本(考勤月)'.P34>)\n",
      "(<ReadOnlyCell 'DM004_月休安排不合理导致的加班成本(考勤月)'.A35>, <ReadOnlyCell 'DM004_月休安排不合理导致的加班成本(考勤月)'.B35>, <EmptyCell>, <EmptyCell>, <EmptyCell>, <ReadOnlyCell 'DM004_月休安排不合理导致的加班成本(考勤月)'.F35>, <ReadOnlyCell 'DM004_月休安排不合理导致的加班成本(考勤月)'.G35>, <ReadOnlyCell 'DM004_月休安排不合理导致的加班成本(考勤月)'.H35>, <ReadOnlyCell 'DM004_月休安排不合理导致的加班成本(考勤月)'.I35>, <ReadOnlyCell 'DM004_月休安排不合理导致的加班成本(考勤月)'.J35>, <ReadOnlyCell 'DM004_月休安排不合理导致的加班成本(考勤月)'.K35>, <ReadOnlyCell 'DM004_月休安排不合理导致的加班成本(考勤月)'.L35>, <ReadOnlyCell 'DM004_月休安排不合理导致的加班成本(考勤月)'.M35>, <ReadOnlyCell 'DM004_月休安排不合理导致的加班成本(考勤月)'.N35>, <ReadOnlyCell 'DM004_月休安排不合理导致的加班成本(考勤月)'.O35>, <ReadOnlyCell 'DM004_月休安排不合理导致的加班成本(考勤月)'.P35>)\n",
      "(<ReadOnlyCell 'DM004_月休安排不合理导致的加班成本(考勤月)'.A36>, <ReadOnlyCell 'DM004_月休安排不合理导致的加班成本(考勤月)'.B36>, <EmptyCell>, <EmptyCell>, <EmptyCell>, <ReadOnlyCell 'DM004_月休安排不合理导致的加班成本(考勤月)'.F36>, <ReadOnlyCell 'DM004_月休安排不合理导致的加班成本(考勤月)'.G36>, <ReadOnlyCell 'DM004_月休安排不合理导致的加班成本(考勤月)'.H36>, <ReadOnlyCell 'DM004_月休安排不合理导致的加班成本(考勤月)'.I36>, <ReadOnlyCell 'DM004_月休安排不合理导致的加班成本(考勤月)'.J36>, <ReadOnlyCell 'DM004_月休安排不合理导致的加班成本(考勤月)'.K36>, <ReadOnlyCell 'DM004_月休安排不合理导致的加班成本(考勤月)'.L36>, <ReadOnlyCell 'DM004_月休安排不合理导致的加班成本(考勤月)'.M36>, <ReadOnlyCell 'DM004_月休安排不合理导致的加班成本(考勤月)'.N36>, <ReadOnlyCell 'DM004_月休安排不合理导致的加班成本(考勤月)'.O36>, <ReadOnlyCell 'DM004_月休安排不合理导致的加班成本(考勤月)'.P36>)\n",
      "(<ReadOnlyCell 'DM004_月休安排不合理导致的加班成本(考勤月)'.A37>, <ReadOnlyCell 'DM004_月休安排不合理导致的加班成本(考勤月)'.B37>, <EmptyCell>, <EmptyCell>, <EmptyCell>, <ReadOnlyCell 'DM004_月休安排不合理导致的加班成本(考勤月)'.F37>, <ReadOnlyCell 'DM004_月休安排不合理导致的加班成本(考勤月)'.G37>, <ReadOnlyCell 'DM004_月休安排不合理导致的加班成本(考勤月)'.H37>, <ReadOnlyCell 'DM004_月休安排不合理导致的加班成本(考勤月)'.I37>, <ReadOnlyCell 'DM004_月休安排不合理导致的加班成本(考勤月)'.J37>, <ReadOnlyCell 'DM004_月休安排不合理导致的加班成本(考勤月)'.K37>, <ReadOnlyCell 'DM004_月休安排不合理导致的加班成本(考勤月)'.L37>, <ReadOnlyCell 'DM004_月休安排不合理导致的加班成本(考勤月)'.M37>, <ReadOnlyCell 'DM004_月休安排不合理导致的加班成本(考勤月)'.N37>, <ReadOnlyCell 'DM004_月休安排不合理导致的加班成本(考勤月)'.O37>, <ReadOnlyCell 'DM004_月休安排不合理导致的加班成本(考勤月)'.P37>)\n",
      "(<ReadOnlyCell 'DM004_月休安排不合理导致的加班成本(考勤月)'.A38>, <ReadOnlyCell 'DM004_月休安排不合理导致的加班成本(考勤月)'.B38>, <EmptyCell>, <EmptyCell>, <EmptyCell>, <ReadOnlyCell 'DM004_月休安排不合理导致的加班成本(考勤月)'.F38>, <ReadOnlyCell 'DM004_月休安排不合理导致的加班成本(考勤月)'.G38>, <ReadOnlyCell 'DM004_月休安排不合理导致的加班成本(考勤月)'.H38>, <ReadOnlyCell 'DM004_月休安排不合理导致的加班成本(考勤月)'.I38>, <ReadOnlyCell 'DM004_月休安排不合理导致的加班成本(考勤月)'.J38>, <ReadOnlyCell 'DM004_月休安排不合理导致的加班成本(考勤月)'.K38>, <ReadOnlyCell 'DM004_月休安排不合理导致的加班成本(考勤月)'.L38>, <ReadOnlyCell 'DM004_月休安排不合理导致的加班成本(考勤月)'.M38>, <ReadOnlyCell 'DM004_月休安排不合理导致的加班成本(考勤月)'.N38>, <ReadOnlyCell 'DM004_月休安排不合理导致的加班成本(考勤月)'.O38>, <ReadOnlyCell 'DM004_月休安排不合理导致的加班成本(考勤月)'.P38>)\n",
      "(<ReadOnlyCell 'DM004_月休安排不合理导致的加班成本(考勤月)'.A39>, <ReadOnlyCell 'DM004_月休安排不合理导致的加班成本(考勤月)'.B39>, <EmptyCell>, <EmptyCell>, <EmptyCell>, <ReadOnlyCell 'DM004_月休安排不合理导致的加班成本(考勤月)'.F39>, <ReadOnlyCell 'DM004_月休安排不合理导致的加班成本(考勤月)'.G39>, <ReadOnlyCell 'DM004_月休安排不合理导致的加班成本(考勤月)'.H39>, <ReadOnlyCell 'DM004_月休安排不合理导致的加班成本(考勤月)'.I39>, <ReadOnlyCell 'DM004_月休安排不合理导致的加班成本(考勤月)'.J39>, <ReadOnlyCell 'DM004_月休安排不合理导致的加班成本(考勤月)'.K39>, <ReadOnlyCell 'DM004_月休安排不合理导致的加班成本(考勤月)'.L39>, <ReadOnlyCell 'DM004_月休安排不合理导致的加班成本(考勤月)'.M39>, <ReadOnlyCell 'DM004_月休安排不合理导致的加班成本(考勤月)'.N39>, <ReadOnlyCell 'DM004_月休安排不合理导致的加班成本(考勤月)'.O39>, <ReadOnlyCell 'DM004_月休安排不合理导致的加班成本(考勤月)'.P39>)\n",
      "(<ReadOnlyCell 'DM004_月休安排不合理导致的加班成本(考勤月)'.A40>, <ReadOnlyCell 'DM004_月休安排不合理导致的加班成本(考勤月)'.B40>, <EmptyCell>, <EmptyCell>, <EmptyCell>, <ReadOnlyCell 'DM004_月休安排不合理导致的加班成本(考勤月)'.F40>, <ReadOnlyCell 'DM004_月休安排不合理导致的加班成本(考勤月)'.G40>, <ReadOnlyCell 'DM004_月休安排不合理导致的加班成本(考勤月)'.H40>, <ReadOnlyCell 'DM004_月休安排不合理导致的加班成本(考勤月)'.I40>, <ReadOnlyCell 'DM004_月休安排不合理导致的加班成本(考勤月)'.J40>, <ReadOnlyCell 'DM004_月休安排不合理导致的加班成本(考勤月)'.K40>, <ReadOnlyCell 'DM004_月休安排不合理导致的加班成本(考勤月)'.L40>, <ReadOnlyCell 'DM004_月休安排不合理导致的加班成本(考勤月)'.M40>, <ReadOnlyCell 'DM004_月休安排不合理导致的加班成本(考勤月)'.N40>, <ReadOnlyCell 'DM004_月休安排不合理导致的加班成本(考勤月)'.O40>, <ReadOnlyCell 'DM004_月休安排不合理导致的加班成本(考勤月)'.P40>)\n",
      "(<ReadOnlyCell 'DM004_月休安排不合理导致的加班成本(考勤月)'.A41>, <ReadOnlyCell 'DM004_月休安排不合理导致的加班成本(考勤月)'.B41>, <EmptyCell>, <EmptyCell>, <EmptyCell>, <ReadOnlyCell 'DM004_月休安排不合理导致的加班成本(考勤月)'.F41>, <ReadOnlyCell 'DM004_月休安排不合理导致的加班成本(考勤月)'.G41>, <ReadOnlyCell 'DM004_月休安排不合理导致的加班成本(考勤月)'.H41>, <ReadOnlyCell 'DM004_月休安排不合理导致的加班成本(考勤月)'.I41>, <ReadOnlyCell 'DM004_月休安排不合理导致的加班成本(考勤月)'.J41>, <ReadOnlyCell 'DM004_月休安排不合理导致的加班成本(考勤月)'.K41>, <ReadOnlyCell 'DM004_月休安排不合理导致的加班成本(考勤月)'.L41>, <ReadOnlyCell 'DM004_月休安排不合理导致的加班成本(考勤月)'.M41>, <ReadOnlyCell 'DM004_月休安排不合理导致的加班成本(考勤月)'.N41>, <ReadOnlyCell 'DM004_月休安排不合理导致的加班成本(考勤月)'.O41>, <ReadOnlyCell 'DM004_月休安排不合理导致的加班成本(考勤月)'.P41>)\n",
      "(<ReadOnlyCell 'DM004_月休安排不合理导致的加班成本(考勤月)'.A42>, <ReadOnlyCell 'DM004_月休安排不合理导致的加班成本(考勤月)'.B42>, <EmptyCell>, <EmptyCell>, <EmptyCell>, <ReadOnlyCell 'DM004_月休安排不合理导致的加班成本(考勤月)'.F42>, <ReadOnlyCell 'DM004_月休安排不合理导致的加班成本(考勤月)'.G42>, <ReadOnlyCell 'DM004_月休安排不合理导致的加班成本(考勤月)'.H42>, <ReadOnlyCell 'DM004_月休安排不合理导致的加班成本(考勤月)'.I42>, <ReadOnlyCell 'DM004_月休安排不合理导致的加班成本(考勤月)'.J42>, <ReadOnlyCell 'DM004_月休安排不合理导致的加班成本(考勤月)'.K42>, <ReadOnlyCell 'DM004_月休安排不合理导致的加班成本(考勤月)'.L42>, <ReadOnlyCell 'DM004_月休安排不合理导致的加班成本(考勤月)'.M42>, <ReadOnlyCell 'DM004_月休安排不合理导致的加班成本(考勤月)'.N42>, <ReadOnlyCell 'DM004_月休安排不合理导致的加班成本(考勤月)'.O42>, <ReadOnlyCell 'DM004_月休安排不合理导致的加班成本(考勤月)'.P42>)\n",
      "(<ReadOnlyCell 'DM004_月休安排不合理导致的加班成本(考勤月)'.A43>, <ReadOnlyCell 'DM004_月休安排不合理导致的加班成本(考勤月)'.B43>, <EmptyCell>, <EmptyCell>, <EmptyCell>, <ReadOnlyCell 'DM004_月休安排不合理导致的加班成本(考勤月)'.F43>, <ReadOnlyCell 'DM004_月休安排不合理导致的加班成本(考勤月)'.G43>, <ReadOnlyCell 'DM004_月休安排不合理导致的加班成本(考勤月)'.H43>, <ReadOnlyCell 'DM004_月休安排不合理导致的加班成本(考勤月)'.I43>, <ReadOnlyCell 'DM004_月休安排不合理导致的加班成本(考勤月)'.J43>, <ReadOnlyCell 'DM004_月休安排不合理导致的加班成本(考勤月)'.K43>, <ReadOnlyCell 'DM004_月休安排不合理导致的加班成本(考勤月)'.L43>, <ReadOnlyCell 'DM004_月休安排不合理导致的加班成本(考勤月)'.M43>, <ReadOnlyCell 'DM004_月休安排不合理导致的加班成本(考勤月)'.N43>, <ReadOnlyCell 'DM004_月休安排不合理导致的加班成本(考勤月)'.O43>, <ReadOnlyCell 'DM004_月休安排不合理导致的加班成本(考勤月)'.P43>)\n",
      "(<ReadOnlyCell 'DM004_月休安排不合理导致的加班成本(考勤月)'.A44>, <ReadOnlyCell 'DM004_月休安排不合理导致的加班成本(考勤月)'.B44>, <EmptyCell>, <EmptyCell>, <EmptyCell>, <ReadOnlyCell 'DM004_月休安排不合理导致的加班成本(考勤月)'.F44>, <ReadOnlyCell 'DM004_月休安排不合理导致的加班成本(考勤月)'.G44>, <ReadOnlyCell 'DM004_月休安排不合理导致的加班成本(考勤月)'.H44>, <ReadOnlyCell 'DM004_月休安排不合理导致的加班成本(考勤月)'.I44>, <ReadOnlyCell 'DM004_月休安排不合理导致的加班成本(考勤月)'.J44>, <ReadOnlyCell 'DM004_月休安排不合理导致的加班成本(考勤月)'.K44>, <ReadOnlyCell 'DM004_月休安排不合理导致的加班成本(考勤月)'.L44>, <ReadOnlyCell 'DM004_月休安排不合理导致的加班成本(考勤月)'.M44>, <ReadOnlyCell 'DM004_月休安排不合理导致的加班成本(考勤月)'.N44>, <ReadOnlyCell 'DM004_月休安排不合理导致的加班成本(考勤月)'.O44>, <ReadOnlyCell 'DM004_月休安排不合理导致的加班成本(考勤月)'.P44>)\n",
      "(<ReadOnlyCell 'DM004_月休安排不合理导致的加班成本(考勤月)'.A45>, <ReadOnlyCell 'DM004_月休安排不合理导致的加班成本(考勤月)'.B45>, <EmptyCell>, <EmptyCell>, <EmptyCell>, <ReadOnlyCell 'DM004_月休安排不合理导致的加班成本(考勤月)'.F45>, <ReadOnlyCell 'DM004_月休安排不合理导致的加班成本(考勤月)'.G45>, <ReadOnlyCell 'DM004_月休安排不合理导致的加班成本(考勤月)'.H45>, <ReadOnlyCell 'DM004_月休安排不合理导致的加班成本(考勤月)'.I45>, <ReadOnlyCell 'DM004_月休安排不合理导致的加班成本(考勤月)'.J45>, <ReadOnlyCell 'DM004_月休安排不合理导致的加班成本(考勤月)'.K45>, <ReadOnlyCell 'DM004_月休安排不合理导致的加班成本(考勤月)'.L45>, <ReadOnlyCell 'DM004_月休安排不合理导致的加班成本(考勤月)'.M45>, <ReadOnlyCell 'DM004_月休安排不合理导致的加班成本(考勤月)'.N45>, <ReadOnlyCell 'DM004_月休安排不合理导致的加班成本(考勤月)'.O45>, <ReadOnlyCell 'DM004_月休安排不合理导致的加班成本(考勤月)'.P45>)\n",
      "(<ReadOnlyCell 'DM004_月休安排不合理导致的加班成本(考勤月)'.A46>, <ReadOnlyCell 'DM004_月休安排不合理导致的加班成本(考勤月)'.B46>, <EmptyCell>, <EmptyCell>, <EmptyCell>, <ReadOnlyCell 'DM004_月休安排不合理导致的加班成本(考勤月)'.F46>, <ReadOnlyCell 'DM004_月休安排不合理导致的加班成本(考勤月)'.G46>, <ReadOnlyCell 'DM004_月休安排不合理导致的加班成本(考勤月)'.H46>, <ReadOnlyCell 'DM004_月休安排不合理导致的加班成本(考勤月)'.I46>, <ReadOnlyCell 'DM004_月休安排不合理导致的加班成本(考勤月)'.J46>, <ReadOnlyCell 'DM004_月休安排不合理导致的加班成本(考勤月)'.K46>, <ReadOnlyCell 'DM004_月休安排不合理导致的加班成本(考勤月)'.L46>, <ReadOnlyCell 'DM004_月休安排不合理导致的加班成本(考勤月)'.M46>, <ReadOnlyCell 'DM004_月休安排不合理导致的加班成本(考勤月)'.N46>, <ReadOnlyCell 'DM004_月休安排不合理导致的加班成本(考勤月)'.O46>, <ReadOnlyCell 'DM004_月休安排不合理导致的加班成本(考勤月)'.P46>)\n",
      "(<ReadOnlyCell 'DM004_月休安排不合理导致的加班成本(考勤月)'.A47>, <ReadOnlyCell 'DM004_月休安排不合理导致的加班成本(考勤月)'.B47>, <EmptyCell>, <EmptyCell>, <EmptyCell>, <ReadOnlyCell 'DM004_月休安排不合理导致的加班成本(考勤月)'.F47>, <ReadOnlyCell 'DM004_月休安排不合理导致的加班成本(考勤月)'.G47>, <ReadOnlyCell 'DM004_月休安排不合理导致的加班成本(考勤月)'.H47>, <ReadOnlyCell 'DM004_月休安排不合理导致的加班成本(考勤月)'.I47>, <ReadOnlyCell 'DM004_月休安排不合理导致的加班成本(考勤月)'.J47>, <ReadOnlyCell 'DM004_月休安排不合理导致的加班成本(考勤月)'.K47>, <ReadOnlyCell 'DM004_月休安排不合理导致的加班成本(考勤月)'.L47>, <ReadOnlyCell 'DM004_月休安排不合理导致的加班成本(考勤月)'.M47>, <ReadOnlyCell 'DM004_月休安排不合理导致的加班成本(考勤月)'.N47>, <ReadOnlyCell 'DM004_月休安排不合理导致的加班成本(考勤月)'.O47>, <ReadOnlyCell 'DM004_月休安排不合理导致的加班成本(考勤月)'.P47>)\n",
      "(<ReadOnlyCell 'DM004_月休安排不合理导致的加班成本(考勤月)'.A48>, <ReadOnlyCell 'DM004_月休安排不合理导致的加班成本(考勤月)'.B48>, <EmptyCell>, <EmptyCell>, <EmptyCell>, <ReadOnlyCell 'DM004_月休安排不合理导致的加班成本(考勤月)'.F48>, <ReadOnlyCell 'DM004_月休安排不合理导致的加班成本(考勤月)'.G48>, <ReadOnlyCell 'DM004_月休安排不合理导致的加班成本(考勤月)'.H48>, <ReadOnlyCell 'DM004_月休安排不合理导致的加班成本(考勤月)'.I48>, <ReadOnlyCell 'DM004_月休安排不合理导致的加班成本(考勤月)'.J48>, <ReadOnlyCell 'DM004_月休安排不合理导致的加班成本(考勤月)'.K48>, <ReadOnlyCell 'DM004_月休安排不合理导致的加班成本(考勤月)'.L48>, <ReadOnlyCell 'DM004_月休安排不合理导致的加班成本(考勤月)'.M48>, <ReadOnlyCell 'DM004_月休安排不合理导致的加班成本(考勤月)'.N48>, <ReadOnlyCell 'DM004_月休安排不合理导致的加班成本(考勤月)'.O48>, <ReadOnlyCell 'DM004_月休安排不合理导致的加班成本(考勤月)'.P48>)\n",
      "(<ReadOnlyCell 'DM004_月休安排不合理导致的加班成本(考勤月)'.A49>, <ReadOnlyCell 'DM004_月休安排不合理导致的加班成本(考勤月)'.B49>, <EmptyCell>, <EmptyCell>, <EmptyCell>, <ReadOnlyCell 'DM004_月休安排不合理导致的加班成本(考勤月)'.F49>, <ReadOnlyCell 'DM004_月休安排不合理导致的加班成本(考勤月)'.G49>, <ReadOnlyCell 'DM004_月休安排不合理导致的加班成本(考勤月)'.H49>, <ReadOnlyCell 'DM004_月休安排不合理导致的加班成本(考勤月)'.I49>, <ReadOnlyCell 'DM004_月休安排不合理导致的加班成本(考勤月)'.J49>, <ReadOnlyCell 'DM004_月休安排不合理导致的加班成本(考勤月)'.K49>, <ReadOnlyCell 'DM004_月休安排不合理导致的加班成本(考勤月)'.L49>, <ReadOnlyCell 'DM004_月休安排不合理导致的加班成本(考勤月)'.M49>, <ReadOnlyCell 'DM004_月休安排不合理导致的加班成本(考勤月)'.N49>, <ReadOnlyCell 'DM004_月休安排不合理导致的加班成本(考勤月)'.O49>, <ReadOnlyCell 'DM004_月休安排不合理导致的加班成本(考勤月)'.P49>)\n",
      "(<ReadOnlyCell 'DM004_月休安排不合理导致的加班成本(考勤月)'.A50>, <ReadOnlyCell 'DM004_月休安排不合理导致的加班成本(考勤月)'.B50>, <EmptyCell>, <EmptyCell>, <EmptyCell>, <ReadOnlyCell 'DM004_月休安排不合理导致的加班成本(考勤月)'.F50>, <ReadOnlyCell 'DM004_月休安排不合理导致的加班成本(考勤月)'.G50>, <ReadOnlyCell 'DM004_月休安排不合理导致的加班成本(考勤月)'.H50>, <ReadOnlyCell 'DM004_月休安排不合理导致的加班成本(考勤月)'.I50>, <ReadOnlyCell 'DM004_月休安排不合理导致的加班成本(考勤月)'.J50>, <ReadOnlyCell 'DM004_月休安排不合理导致的加班成本(考勤月)'.K50>, <ReadOnlyCell 'DM004_月休安排不合理导致的加班成本(考勤月)'.L50>, <ReadOnlyCell 'DM004_月休安排不合理导致的加班成本(考勤月)'.M50>, <ReadOnlyCell 'DM004_月休安排不合理导致的加班成本(考勤月)'.N50>, <ReadOnlyCell 'DM004_月休安排不合理导致的加班成本(考勤月)'.O50>, <ReadOnlyCell 'DM004_月休安排不合理导致的加班成本(考勤月)'.P50>)\n",
      "(<ReadOnlyCell 'DM004_月休安排不合理导致的加班成本(考勤月)'.A51>, <ReadOnlyCell 'DM004_月休安排不合理导致的加班成本(考勤月)'.B51>, <EmptyCell>, <EmptyCell>, <EmptyCell>, <ReadOnlyCell 'DM004_月休安排不合理导致的加班成本(考勤月)'.F51>, <ReadOnlyCell 'DM004_月休安排不合理导致的加班成本(考勤月)'.G51>, <ReadOnlyCell 'DM004_月休安排不合理导致的加班成本(考勤月)'.H51>, <ReadOnlyCell 'DM004_月休安排不合理导致的加班成本(考勤月)'.I51>, <ReadOnlyCell 'DM004_月休安排不合理导致的加班成本(考勤月)'.J51>, <ReadOnlyCell 'DM004_月休安排不合理导致的加班成本(考勤月)'.K51>, <ReadOnlyCell 'DM004_月休安排不合理导致的加班成本(考勤月)'.L51>, <ReadOnlyCell 'DM004_月休安排不合理导致的加班成本(考勤月)'.M51>, <ReadOnlyCell 'DM004_月休安排不合理导致的加班成本(考勤月)'.N51>, <ReadOnlyCell 'DM004_月休安排不合理导致的加班成本(考勤月)'.O51>, <ReadOnlyCell 'DM004_月休安排不合理导致的加班成本(考勤月)'.P51>)\n",
      "(<ReadOnlyCell 'DM004_月休安排不合理导致的加班成本(考勤月)'.A52>, <ReadOnlyCell 'DM004_月休安排不合理导致的加班成本(考勤月)'.B52>, <EmptyCell>, <EmptyCell>, <EmptyCell>, <ReadOnlyCell 'DM004_月休安排不合理导致的加班成本(考勤月)'.F52>, <ReadOnlyCell 'DM004_月休安排不合理导致的加班成本(考勤月)'.G52>, <ReadOnlyCell 'DM004_月休安排不合理导致的加班成本(考勤月)'.H52>, <ReadOnlyCell 'DM004_月休安排不合理导致的加班成本(考勤月)'.I52>, <ReadOnlyCell 'DM004_月休安排不合理导致的加班成本(考勤月)'.J52>, <ReadOnlyCell 'DM004_月休安排不合理导致的加班成本(考勤月)'.K52>, <ReadOnlyCell 'DM004_月休安排不合理导致的加班成本(考勤月)'.L52>, <ReadOnlyCell 'DM004_月休安排不合理导致的加班成本(考勤月)'.M52>, <ReadOnlyCell 'DM004_月休安排不合理导致的加班成本(考勤月)'.N52>, <ReadOnlyCell 'DM004_月休安排不合理导致的加班成本(考勤月)'.O52>, <ReadOnlyCell 'DM004_月休安排不合理导致的加班成本(考勤月)'.P52>)\n",
      "(<ReadOnlyCell 'DM004_月休安排不合理导致的加班成本(考勤月)'.A53>, <ReadOnlyCell 'DM004_月休安排不合理导致的加班成本(考勤月)'.B53>, <EmptyCell>, <EmptyCell>, <EmptyCell>, <ReadOnlyCell 'DM004_月休安排不合理导致的加班成本(考勤月)'.F53>, <ReadOnlyCell 'DM004_月休安排不合理导致的加班成本(考勤月)'.G53>, <ReadOnlyCell 'DM004_月休安排不合理导致的加班成本(考勤月)'.H53>, <ReadOnlyCell 'DM004_月休安排不合理导致的加班成本(考勤月)'.I53>, <ReadOnlyCell 'DM004_月休安排不合理导致的加班成本(考勤月)'.J53>, <ReadOnlyCell 'DM004_月休安排不合理导致的加班成本(考勤月)'.K53>, <ReadOnlyCell 'DM004_月休安排不合理导致的加班成本(考勤月)'.L53>, <ReadOnlyCell 'DM004_月休安排不合理导致的加班成本(考勤月)'.M53>, <ReadOnlyCell 'DM004_月休安排不合理导致的加班成本(考勤月)'.N53>, <ReadOnlyCell 'DM004_月休安排不合理导致的加班成本(考勤月)'.O53>, <ReadOnlyCell 'DM004_月休安排不合理导致的加班成本(考勤月)'.P53>)\n",
      "(<ReadOnlyCell 'DM004_月休安排不合理导致的加班成本(考勤月)'.A54>, <ReadOnlyCell 'DM004_月休安排不合理导致的加班成本(考勤月)'.B54>, <EmptyCell>, <EmptyCell>, <EmptyCell>, <ReadOnlyCell 'DM004_月休安排不合理导致的加班成本(考勤月)'.F54>, <ReadOnlyCell 'DM004_月休安排不合理导致的加班成本(考勤月)'.G54>, <ReadOnlyCell 'DM004_月休安排不合理导致的加班成本(考勤月)'.H54>, <ReadOnlyCell 'DM004_月休安排不合理导致的加班成本(考勤月)'.I54>, <ReadOnlyCell 'DM004_月休安排不合理导致的加班成本(考勤月)'.J54>, <ReadOnlyCell 'DM004_月休安排不合理导致的加班成本(考勤月)'.K54>, <ReadOnlyCell 'DM004_月休安排不合理导致的加班成本(考勤月)'.L54>, <ReadOnlyCell 'DM004_月休安排不合理导致的加班成本(考勤月)'.M54>, <ReadOnlyCell 'DM004_月休安排不合理导致的加班成本(考勤月)'.N54>, <ReadOnlyCell 'DM004_月休安排不合理导致的加班成本(考勤月)'.O54>, <ReadOnlyCell 'DM004_月休安排不合理导致的加班成本(考勤月)'.P54>)\n",
      "(<ReadOnlyCell 'DM004_月休安排不合理导致的加班成本(考勤月)'.A55>, <ReadOnlyCell 'DM004_月休安排不合理导致的加班成本(考勤月)'.B55>, <EmptyCell>, <EmptyCell>, <EmptyCell>, <ReadOnlyCell 'DM004_月休安排不合理导致的加班成本(考勤月)'.F55>, <ReadOnlyCell 'DM004_月休安排不合理导致的加班成本(考勤月)'.G55>, <ReadOnlyCell 'DM004_月休安排不合理导致的加班成本(考勤月)'.H55>, <ReadOnlyCell 'DM004_月休安排不合理导致的加班成本(考勤月)'.I55>, <ReadOnlyCell 'DM004_月休安排不合理导致的加班成本(考勤月)'.J55>, <ReadOnlyCell 'DM004_月休安排不合理导致的加班成本(考勤月)'.K55>, <ReadOnlyCell 'DM004_月休安排不合理导致的加班成本(考勤月)'.L55>, <ReadOnlyCell 'DM004_月休安排不合理导致的加班成本(考勤月)'.M55>, <ReadOnlyCell 'DM004_月休安排不合理导致的加班成本(考勤月)'.N55>, <ReadOnlyCell 'DM004_月休安排不合理导致的加班成本(考勤月)'.O55>, <ReadOnlyCell 'DM004_月休安排不合理导致的加班成本(考勤月)'.P55>)\n",
      "(<ReadOnlyCell 'DM004_月休安排不合理导致的加班成本(考勤月)'.A56>, <ReadOnlyCell 'DM004_月休安排不合理导致的加班成本(考勤月)'.B56>, <EmptyCell>, <EmptyCell>, <EmptyCell>, <ReadOnlyCell 'DM004_月休安排不合理导致的加班成本(考勤月)'.F56>, <ReadOnlyCell 'DM004_月休安排不合理导致的加班成本(考勤月)'.G56>, <ReadOnlyCell 'DM004_月休安排不合理导致的加班成本(考勤月)'.H56>, <ReadOnlyCell 'DM004_月休安排不合理导致的加班成本(考勤月)'.I56>, <ReadOnlyCell 'DM004_月休安排不合理导致的加班成本(考勤月)'.J56>, <ReadOnlyCell 'DM004_月休安排不合理导致的加班成本(考勤月)'.K56>, <ReadOnlyCell 'DM004_月休安排不合理导致的加班成本(考勤月)'.L56>, <ReadOnlyCell 'DM004_月休安排不合理导致的加班成本(考勤月)'.M56>, <ReadOnlyCell 'DM004_月休安排不合理导致的加班成本(考勤月)'.N56>, <ReadOnlyCell 'DM004_月休安排不合理导致的加班成本(考勤月)'.O56>, <ReadOnlyCell 'DM004_月休安排不合理导致的加班成本(考勤月)'.P56>)\n",
      "(<ReadOnlyCell 'DM004_月休安排不合理导致的加班成本(考勤月)'.A57>, <ReadOnlyCell 'DM004_月休安排不合理导致的加班成本(考勤月)'.B57>, <EmptyCell>, <EmptyCell>, <EmptyCell>, <ReadOnlyCell 'DM004_月休安排不合理导致的加班成本(考勤月)'.F57>, <ReadOnlyCell 'DM004_月休安排不合理导致的加班成本(考勤月)'.G57>, <ReadOnlyCell 'DM004_月休安排不合理导致的加班成本(考勤月)'.H57>, <ReadOnlyCell 'DM004_月休安排不合理导致的加班成本(考勤月)'.I57>, <ReadOnlyCell 'DM004_月休安排不合理导致的加班成本(考勤月)'.J57>, <ReadOnlyCell 'DM004_月休安排不合理导致的加班成本(考勤月)'.K57>, <ReadOnlyCell 'DM004_月休安排不合理导致的加班成本(考勤月)'.L57>, <ReadOnlyCell 'DM004_月休安排不合理导致的加班成本(考勤月)'.M57>, <ReadOnlyCell 'DM004_月休安排不合理导致的加班成本(考勤月)'.N57>, <ReadOnlyCell 'DM004_月休安排不合理导致的加班成本(考勤月)'.O57>, <ReadOnlyCell 'DM004_月休安排不合理导致的加班成本(考勤月)'.P57>)\n",
      "(<ReadOnlyCell 'DM004_月休安排不合理导致的加班成本(考勤月)'.A58>, <ReadOnlyCell 'DM004_月休安排不合理导致的加班成本(考勤月)'.B58>, <EmptyCell>, <EmptyCell>, <EmptyCell>, <ReadOnlyCell 'DM004_月休安排不合理导致的加班成本(考勤月)'.F58>, <ReadOnlyCell 'DM004_月休安排不合理导致的加班成本(考勤月)'.G58>, <ReadOnlyCell 'DM004_月休安排不合理导致的加班成本(考勤月)'.H58>, <ReadOnlyCell 'DM004_月休安排不合理导致的加班成本(考勤月)'.I58>, <ReadOnlyCell 'DM004_月休安排不合理导致的加班成本(考勤月)'.J58>, <ReadOnlyCell 'DM004_月休安排不合理导致的加班成本(考勤月)'.K58>, <ReadOnlyCell 'DM004_月休安排不合理导致的加班成本(考勤月)'.L58>, <ReadOnlyCell 'DM004_月休安排不合理导致的加班成本(考勤月)'.M58>, <ReadOnlyCell 'DM004_月休安排不合理导致的加班成本(考勤月)'.N58>, <ReadOnlyCell 'DM004_月休安排不合理导致的加班成本(考勤月)'.O58>, <ReadOnlyCell 'DM004_月休安排不合理导致的加班成本(考勤月)'.P58>)\n",
      "(<ReadOnlyCell 'DM004_月休安排不合理导致的加班成本(考勤月)'.A59>, <ReadOnlyCell 'DM004_月休安排不合理导致的加班成本(考勤月)'.B59>, <EmptyCell>, <EmptyCell>, <EmptyCell>, <ReadOnlyCell 'DM004_月休安排不合理导致的加班成本(考勤月)'.F59>, <ReadOnlyCell 'DM004_月休安排不合理导致的加班成本(考勤月)'.G59>, <ReadOnlyCell 'DM004_月休安排不合理导致的加班成本(考勤月)'.H59>, <ReadOnlyCell 'DM004_月休安排不合理导致的加班成本(考勤月)'.I59>, <ReadOnlyCell 'DM004_月休安排不合理导致的加班成本(考勤月)'.J59>, <ReadOnlyCell 'DM004_月休安排不合理导致的加班成本(考勤月)'.K59>, <ReadOnlyCell 'DM004_月休安排不合理导致的加班成本(考勤月)'.L59>, <ReadOnlyCell 'DM004_月休安排不合理导致的加班成本(考勤月)'.M59>, <ReadOnlyCell 'DM004_月休安排不合理导致的加班成本(考勤月)'.N59>, <ReadOnlyCell 'DM004_月休安排不合理导致的加班成本(考勤月)'.O59>, <ReadOnlyCell 'DM004_月休安排不合理导致的加班成本(考勤月)'.P59>)\n",
      "(<ReadOnlyCell 'DM004_月休安排不合理导致的加班成本(考勤月)'.A60>, <ReadOnlyCell 'DM004_月休安排不合理导致的加班成本(考勤月)'.B60>, <EmptyCell>, <EmptyCell>, <EmptyCell>, <ReadOnlyCell 'DM004_月休安排不合理导致的加班成本(考勤月)'.F60>, <ReadOnlyCell 'DM004_月休安排不合理导致的加班成本(考勤月)'.G60>, <ReadOnlyCell 'DM004_月休安排不合理导致的加班成本(考勤月)'.H60>, <ReadOnlyCell 'DM004_月休安排不合理导致的加班成本(考勤月)'.I60>, <ReadOnlyCell 'DM004_月休安排不合理导致的加班成本(考勤月)'.J60>, <ReadOnlyCell 'DM004_月休安排不合理导致的加班成本(考勤月)'.K60>, <ReadOnlyCell 'DM004_月休安排不合理导致的加班成本(考勤月)'.L60>, <ReadOnlyCell 'DM004_月休安排不合理导致的加班成本(考勤月)'.M60>, <ReadOnlyCell 'DM004_月休安排不合理导致的加班成本(考勤月)'.N60>, <ReadOnlyCell 'DM004_月休安排不合理导致的加班成本(考勤月)'.O60>, <ReadOnlyCell 'DM004_月休安排不合理导致的加班成本(考勤月)'.P60>)\n",
      "(<ReadOnlyCell 'DM004_月休安排不合理导致的加班成本(考勤月)'.A61>, <ReadOnlyCell 'DM004_月休安排不合理导致的加班成本(考勤月)'.B61>, <EmptyCell>, <EmptyCell>, <EmptyCell>, <ReadOnlyCell 'DM004_月休安排不合理导致的加班成本(考勤月)'.F61>, <ReadOnlyCell 'DM004_月休安排不合理导致的加班成本(考勤月)'.G61>, <ReadOnlyCell 'DM004_月休安排不合理导致的加班成本(考勤月)'.H61>, <ReadOnlyCell 'DM004_月休安排不合理导致的加班成本(考勤月)'.I61>, <ReadOnlyCell 'DM004_月休安排不合理导致的加班成本(考勤月)'.J61>, <ReadOnlyCell 'DM004_月休安排不合理导致的加班成本(考勤月)'.K61>, <ReadOnlyCell 'DM004_月休安排不合理导致的加班成本(考勤月)'.L61>, <ReadOnlyCell 'DM004_月休安排不合理导致的加班成本(考勤月)'.M61>, <ReadOnlyCell 'DM004_月休安排不合理导致的加班成本(考勤月)'.N61>, <ReadOnlyCell 'DM004_月休安排不合理导致的加班成本(考勤月)'.O61>, <ReadOnlyCell 'DM004_月休安排不合理导致的加班成本(考勤月)'.P61>)\n",
      "(<ReadOnlyCell 'DM004_月休安排不合理导致的加班成本(考勤月)'.A62>, <ReadOnlyCell 'DM004_月休安排不合理导致的加班成本(考勤月)'.B62>, <EmptyCell>, <EmptyCell>, <EmptyCell>, <ReadOnlyCell 'DM004_月休安排不合理导致的加班成本(考勤月)'.F62>, <ReadOnlyCell 'DM004_月休安排不合理导致的加班成本(考勤月)'.G62>, <ReadOnlyCell 'DM004_月休安排不合理导致的加班成本(考勤月)'.H62>, <ReadOnlyCell 'DM004_月休安排不合理导致的加班成本(考勤月)'.I62>, <ReadOnlyCell 'DM004_月休安排不合理导致的加班成本(考勤月)'.J62>, <ReadOnlyCell 'DM004_月休安排不合理导致的加班成本(考勤月)'.K62>, <ReadOnlyCell 'DM004_月休安排不合理导致的加班成本(考勤月)'.L62>, <ReadOnlyCell 'DM004_月休安排不合理导致的加班成本(考勤月)'.M62>, <ReadOnlyCell 'DM004_月休安排不合理导致的加班成本(考勤月)'.N62>, <ReadOnlyCell 'DM004_月休安排不合理导致的加班成本(考勤月)'.O62>, <ReadOnlyCell 'DM004_月休安排不合理导致的加班成本(考勤月)'.P62>)\n",
      "(<ReadOnlyCell 'DM004_月休安排不合理导致的加班成本(考勤月)'.A63>, <ReadOnlyCell 'DM004_月休安排不合理导致的加班成本(考勤月)'.B63>, <EmptyCell>, <EmptyCell>, <EmptyCell>, <ReadOnlyCell 'DM004_月休安排不合理导致的加班成本(考勤月)'.F63>, <ReadOnlyCell 'DM004_月休安排不合理导致的加班成本(考勤月)'.G63>, <ReadOnlyCell 'DM004_月休安排不合理导致的加班成本(考勤月)'.H63>, <ReadOnlyCell 'DM004_月休安排不合理导致的加班成本(考勤月)'.I63>, <ReadOnlyCell 'DM004_月休安排不合理导致的加班成本(考勤月)'.J63>, <ReadOnlyCell 'DM004_月休安排不合理导致的加班成本(考勤月)'.K63>, <ReadOnlyCell 'DM004_月休安排不合理导致的加班成本(考勤月)'.L63>, <ReadOnlyCell 'DM004_月休安排不合理导致的加班成本(考勤月)'.M63>, <ReadOnlyCell 'DM004_月休安排不合理导致的加班成本(考勤月)'.N63>, <ReadOnlyCell 'DM004_月休安排不合理导致的加班成本(考勤月)'.O63>, <ReadOnlyCell 'DM004_月休安排不合理导致的加班成本(考勤月)'.P63>)\n",
      "(<ReadOnlyCell 'DM004_月休安排不合理导致的加班成本(考勤月)'.A64>, <ReadOnlyCell 'DM004_月休安排不合理导致的加班成本(考勤月)'.B64>, <EmptyCell>, <EmptyCell>, <EmptyCell>, <ReadOnlyCell 'DM004_月休安排不合理导致的加班成本(考勤月)'.F64>, <ReadOnlyCell 'DM004_月休安排不合理导致的加班成本(考勤月)'.G64>, <ReadOnlyCell 'DM004_月休安排不合理导致的加班成本(考勤月)'.H64>, <ReadOnlyCell 'DM004_月休安排不合理导致的加班成本(考勤月)'.I64>, <ReadOnlyCell 'DM004_月休安排不合理导致的加班成本(考勤月)'.J64>, <ReadOnlyCell 'DM004_月休安排不合理导致的加班成本(考勤月)'.K64>, <ReadOnlyCell 'DM004_月休安排不合理导致的加班成本(考勤月)'.L64>, <ReadOnlyCell 'DM004_月休安排不合理导致的加班成本(考勤月)'.M64>, <ReadOnlyCell 'DM004_月休安排不合理导致的加班成本(考勤月)'.N64>, <ReadOnlyCell 'DM004_月休安排不合理导致的加班成本(考勤月)'.O64>, <ReadOnlyCell 'DM004_月休安排不合理导致的加班成本(考勤月)'.P64>)\n",
      "(<ReadOnlyCell 'DM004_月休安排不合理导致的加班成本(考勤月)'.A65>, <ReadOnlyCell 'DM004_月休安排不合理导致的加班成本(考勤月)'.B65>, <EmptyCell>, <EmptyCell>, <EmptyCell>, <ReadOnlyCell 'DM004_月休安排不合理导致的加班成本(考勤月)'.F65>, <ReadOnlyCell 'DM004_月休安排不合理导致的加班成本(考勤月)'.G65>, <ReadOnlyCell 'DM004_月休安排不合理导致的加班成本(考勤月)'.H65>, <ReadOnlyCell 'DM004_月休安排不合理导致的加班成本(考勤月)'.I65>, <ReadOnlyCell 'DM004_月休安排不合理导致的加班成本(考勤月)'.J65>, <ReadOnlyCell 'DM004_月休安排不合理导致的加班成本(考勤月)'.K65>, <ReadOnlyCell 'DM004_月休安排不合理导致的加班成本(考勤月)'.L65>, <ReadOnlyCell 'DM004_月休安排不合理导致的加班成本(考勤月)'.M65>, <ReadOnlyCell 'DM004_月休安排不合理导致的加班成本(考勤月)'.N65>, <ReadOnlyCell 'DM004_月休安排不合理导致的加班成本(考勤月)'.O65>, <ReadOnlyCell 'DM004_月休安排不合理导致的加班成本(考勤月)'.P65>)\n",
      "(<ReadOnlyCell 'DM004_月休安排不合理导致的加班成本(考勤月)'.A66>, <ReadOnlyCell 'DM004_月休安排不合理导致的加班成本(考勤月)'.B66>, <EmptyCell>, <EmptyCell>, <EmptyCell>, <ReadOnlyCell 'DM004_月休安排不合理导致的加班成本(考勤月)'.F66>, <ReadOnlyCell 'DM004_月休安排不合理导致的加班成本(考勤月)'.G66>, <ReadOnlyCell 'DM004_月休安排不合理导致的加班成本(考勤月)'.H66>, <ReadOnlyCell 'DM004_月休安排不合理导致的加班成本(考勤月)'.I66>, <ReadOnlyCell 'DM004_月休安排不合理导致的加班成本(考勤月)'.J66>, <ReadOnlyCell 'DM004_月休安排不合理导致的加班成本(考勤月)'.K66>, <ReadOnlyCell 'DM004_月休安排不合理导致的加班成本(考勤月)'.L66>, <ReadOnlyCell 'DM004_月休安排不合理导致的加班成本(考勤月)'.M66>, <ReadOnlyCell 'DM004_月休安排不合理导致的加班成本(考勤月)'.N66>, <ReadOnlyCell 'DM004_月休安排不合理导致的加班成本(考勤月)'.O66>, <ReadOnlyCell 'DM004_月休安排不合理导致的加班成本(考勤月)'.P66>)\n",
      "(<ReadOnlyCell 'DM004_月休安排不合理导致的加班成本(考勤月)'.A67>, <ReadOnlyCell 'DM004_月休安排不合理导致的加班成本(考勤月)'.B67>, <EmptyCell>, <EmptyCell>, <EmptyCell>, <ReadOnlyCell 'DM004_月休安排不合理导致的加班成本(考勤月)'.F67>, <ReadOnlyCell 'DM004_月休安排不合理导致的加班成本(考勤月)'.G67>, <ReadOnlyCell 'DM004_月休安排不合理导致的加班成本(考勤月)'.H67>, <ReadOnlyCell 'DM004_月休安排不合理导致的加班成本(考勤月)'.I67>, <ReadOnlyCell 'DM004_月休安排不合理导致的加班成本(考勤月)'.J67>, <ReadOnlyCell 'DM004_月休安排不合理导致的加班成本(考勤月)'.K67>, <ReadOnlyCell 'DM004_月休安排不合理导致的加班成本(考勤月)'.L67>, <ReadOnlyCell 'DM004_月休安排不合理导致的加班成本(考勤月)'.M67>, <ReadOnlyCell 'DM004_月休安排不合理导致的加班成本(考勤月)'.N67>, <ReadOnlyCell 'DM004_月休安排不合理导致的加班成本(考勤月)'.O67>, <ReadOnlyCell 'DM004_月休安排不合理导致的加班成本(考勤月)'.P67>)\n",
      "(<ReadOnlyCell 'DM004_月休安排不合理导致的加班成本(考勤月)'.A68>, <ReadOnlyCell 'DM004_月休安排不合理导致的加班成本(考勤月)'.B68>, <EmptyCell>, <EmptyCell>, <EmptyCell>, <ReadOnlyCell 'DM004_月休安排不合理导致的加班成本(考勤月)'.F68>, <ReadOnlyCell 'DM004_月休安排不合理导致的加班成本(考勤月)'.G68>, <ReadOnlyCell 'DM004_月休安排不合理导致的加班成本(考勤月)'.H68>, <ReadOnlyCell 'DM004_月休安排不合理导致的加班成本(考勤月)'.I68>, <ReadOnlyCell 'DM004_月休安排不合理导致的加班成本(考勤月)'.J68>, <ReadOnlyCell 'DM004_月休安排不合理导致的加班成本(考勤月)'.K68>, <ReadOnlyCell 'DM004_月休安排不合理导致的加班成本(考勤月)'.L68>, <ReadOnlyCell 'DM004_月休安排不合理导致的加班成本(考勤月)'.M68>, <ReadOnlyCell 'DM004_月休安排不合理导致的加班成本(考勤月)'.N68>, <ReadOnlyCell 'DM004_月休安排不合理导致的加班成本(考勤月)'.O68>, <ReadOnlyCell 'DM004_月休安排不合理导致的加班成本(考勤月)'.P68>)\n",
      "(<ReadOnlyCell 'DM004_月休安排不合理导致的加班成本(考勤月)'.A69>, <ReadOnlyCell 'DM004_月休安排不合理导致的加班成本(考勤月)'.B69>, <EmptyCell>, <EmptyCell>, <EmptyCell>, <ReadOnlyCell 'DM004_月休安排不合理导致的加班成本(考勤月)'.F69>, <ReadOnlyCell 'DM004_月休安排不合理导致的加班成本(考勤月)'.G69>, <ReadOnlyCell 'DM004_月休安排不合理导致的加班成本(考勤月)'.H69>, <ReadOnlyCell 'DM004_月休安排不合理导致的加班成本(考勤月)'.I69>, <ReadOnlyCell 'DM004_月休安排不合理导致的加班成本(考勤月)'.J69>, <ReadOnlyCell 'DM004_月休安排不合理导致的加班成本(考勤月)'.K69>, <ReadOnlyCell 'DM004_月休安排不合理导致的加班成本(考勤月)'.L69>, <ReadOnlyCell 'DM004_月休安排不合理导致的加班成本(考勤月)'.M69>, <ReadOnlyCell 'DM004_月休安排不合理导致的加班成本(考勤月)'.N69>, <ReadOnlyCell 'DM004_月休安排不合理导致的加班成本(考勤月)'.O69>, <ReadOnlyCell 'DM004_月休安排不合理导致的加班成本(考勤月)'.P69>)\n",
      "(<ReadOnlyCell 'DM004_月休安排不合理导致的加班成本(考勤月)'.A70>, <ReadOnlyCell 'DM004_月休安排不合理导致的加班成本(考勤月)'.B70>, <EmptyCell>, <EmptyCell>, <EmptyCell>, <ReadOnlyCell 'DM004_月休安排不合理导致的加班成本(考勤月)'.F70>, <ReadOnlyCell 'DM004_月休安排不合理导致的加班成本(考勤月)'.G70>, <ReadOnlyCell 'DM004_月休安排不合理导致的加班成本(考勤月)'.H70>, <ReadOnlyCell 'DM004_月休安排不合理导致的加班成本(考勤月)'.I70>, <ReadOnlyCell 'DM004_月休安排不合理导致的加班成本(考勤月)'.J70>, <ReadOnlyCell 'DM004_月休安排不合理导致的加班成本(考勤月)'.K70>, <ReadOnlyCell 'DM004_月休安排不合理导致的加班成本(考勤月)'.L70>, <ReadOnlyCell 'DM004_月休安排不合理导致的加班成本(考勤月)'.M70>, <ReadOnlyCell 'DM004_月休安排不合理导致的加班成本(考勤月)'.N70>, <ReadOnlyCell 'DM004_月休安排不合理导致的加班成本(考勤月)'.O70>, <ReadOnlyCell 'DM004_月休安排不合理导致的加班成本(考勤月)'.P70>)\n",
      "(<ReadOnlyCell 'DM004_月休安排不合理导致的加班成本(考勤月)'.A71>, <ReadOnlyCell 'DM004_月休安排不合理导致的加班成本(考勤月)'.B71>, <EmptyCell>, <EmptyCell>, <EmptyCell>, <ReadOnlyCell 'DM004_月休安排不合理导致的加班成本(考勤月)'.F71>, <ReadOnlyCell 'DM004_月休安排不合理导致的加班成本(考勤月)'.G71>, <ReadOnlyCell 'DM004_月休安排不合理导致的加班成本(考勤月)'.H71>, <ReadOnlyCell 'DM004_月休安排不合理导致的加班成本(考勤月)'.I71>, <ReadOnlyCell 'DM004_月休安排不合理导致的加班成本(考勤月)'.J71>, <ReadOnlyCell 'DM004_月休安排不合理导致的加班成本(考勤月)'.K71>, <ReadOnlyCell 'DM004_月休安排不合理导致的加班成本(考勤月)'.L71>, <ReadOnlyCell 'DM004_月休安排不合理导致的加班成本(考勤月)'.M71>, <ReadOnlyCell 'DM004_月休安排不合理导致的加班成本(考勤月)'.N71>, <ReadOnlyCell 'DM004_月休安排不合理导致的加班成本(考勤月)'.O71>, <ReadOnlyCell 'DM004_月休安排不合理导致的加班成本(考勤月)'.P71>)\n",
      "(<ReadOnlyCell 'DM004_月休安排不合理导致的加班成本(考勤月)'.A72>, <ReadOnlyCell 'DM004_月休安排不合理导致的加班成本(考勤月)'.B72>, <EmptyCell>, <EmptyCell>, <EmptyCell>, <ReadOnlyCell 'DM004_月休安排不合理导致的加班成本(考勤月)'.F72>, <ReadOnlyCell 'DM004_月休安排不合理导致的加班成本(考勤月)'.G72>, <ReadOnlyCell 'DM004_月休安排不合理导致的加班成本(考勤月)'.H72>, <ReadOnlyCell 'DM004_月休安排不合理导致的加班成本(考勤月)'.I72>, <ReadOnlyCell 'DM004_月休安排不合理导致的加班成本(考勤月)'.J72>, <ReadOnlyCell 'DM004_月休安排不合理导致的加班成本(考勤月)'.K72>, <ReadOnlyCell 'DM004_月休安排不合理导致的加班成本(考勤月)'.L72>, <ReadOnlyCell 'DM004_月休安排不合理导致的加班成本(考勤月)'.M72>, <ReadOnlyCell 'DM004_月休安排不合理导致的加班成本(考勤月)'.N72>, <ReadOnlyCell 'DM004_月休安排不合理导致的加班成本(考勤月)'.O72>, <ReadOnlyCell 'DM004_月休安排不合理导致的加班成本(考勤月)'.P72>)\n",
      "(<ReadOnlyCell 'DM004_月休安排不合理导致的加班成本(考勤月)'.A73>, <ReadOnlyCell 'DM004_月休安排不合理导致的加班成本(考勤月)'.B73>, <EmptyCell>, <EmptyCell>, <EmptyCell>, <ReadOnlyCell 'DM004_月休安排不合理导致的加班成本(考勤月)'.F73>, <ReadOnlyCell 'DM004_月休安排不合理导致的加班成本(考勤月)'.G73>, <ReadOnlyCell 'DM004_月休安排不合理导致的加班成本(考勤月)'.H73>, <ReadOnlyCell 'DM004_月休安排不合理导致的加班成本(考勤月)'.I73>, <ReadOnlyCell 'DM004_月休安排不合理导致的加班成本(考勤月)'.J73>, <ReadOnlyCell 'DM004_月休安排不合理导致的加班成本(考勤月)'.K73>, <ReadOnlyCell 'DM004_月休安排不合理导致的加班成本(考勤月)'.L73>, <ReadOnlyCell 'DM004_月休安排不合理导致的加班成本(考勤月)'.M73>, <ReadOnlyCell 'DM004_月休安排不合理导致的加班成本(考勤月)'.N73>, <ReadOnlyCell 'DM004_月休安排不合理导致的加班成本(考勤月)'.O73>, <ReadOnlyCell 'DM004_月休安排不合理导致的加班成本(考勤月)'.P73>)\n",
      "(<ReadOnlyCell 'DM004_月休安排不合理导致的加班成本(考勤月)'.A74>, <ReadOnlyCell 'DM004_月休安排不合理导致的加班成本(考勤月)'.B74>, <EmptyCell>, <EmptyCell>, <EmptyCell>, <ReadOnlyCell 'DM004_月休安排不合理导致的加班成本(考勤月)'.F74>, <ReadOnlyCell 'DM004_月休安排不合理导致的加班成本(考勤月)'.G74>, <ReadOnlyCell 'DM004_月休安排不合理导致的加班成本(考勤月)'.H74>, <ReadOnlyCell 'DM004_月休安排不合理导致的加班成本(考勤月)'.I74>, <ReadOnlyCell 'DM004_月休安排不合理导致的加班成本(考勤月)'.J74>, <ReadOnlyCell 'DM004_月休安排不合理导致的加班成本(考勤月)'.K74>, <ReadOnlyCell 'DM004_月休安排不合理导致的加班成本(考勤月)'.L74>, <ReadOnlyCell 'DM004_月休安排不合理导致的加班成本(考勤月)'.M74>, <ReadOnlyCell 'DM004_月休安排不合理导致的加班成本(考勤月)'.N74>, <ReadOnlyCell 'DM004_月休安排不合理导致的加班成本(考勤月)'.O74>, <ReadOnlyCell 'DM004_月休安排不合理导致的加班成本(考勤月)'.P74>)\n",
      "(<ReadOnlyCell 'DM004_月休安排不合理导致的加班成本(考勤月)'.A75>, <ReadOnlyCell 'DM004_月休安排不合理导致的加班成本(考勤月)'.B75>, <EmptyCell>, <EmptyCell>, <EmptyCell>, <ReadOnlyCell 'DM004_月休安排不合理导致的加班成本(考勤月)'.F75>, <ReadOnlyCell 'DM004_月休安排不合理导致的加班成本(考勤月)'.G75>, <ReadOnlyCell 'DM004_月休安排不合理导致的加班成本(考勤月)'.H75>, <ReadOnlyCell 'DM004_月休安排不合理导致的加班成本(考勤月)'.I75>, <ReadOnlyCell 'DM004_月休安排不合理导致的加班成本(考勤月)'.J75>, <ReadOnlyCell 'DM004_月休安排不合理导致的加班成本(考勤月)'.K75>, <ReadOnlyCell 'DM004_月休安排不合理导致的加班成本(考勤月)'.L75>, <ReadOnlyCell 'DM004_月休安排不合理导致的加班成本(考勤月)'.M75>, <ReadOnlyCell 'DM004_月休安排不合理导致的加班成本(考勤月)'.N75>, <ReadOnlyCell 'DM004_月休安排不合理导致的加班成本(考勤月)'.O75>, <ReadOnlyCell 'DM004_月休安排不合理导致的加班成本(考勤月)'.P75>)\n",
      "(<ReadOnlyCell 'DM004_月休安排不合理导致的加班成本(考勤月)'.A76>, <ReadOnlyCell 'DM004_月休安排不合理导致的加班成本(考勤月)'.B76>, <EmptyCell>, <EmptyCell>, <EmptyCell>, <ReadOnlyCell 'DM004_月休安排不合理导致的加班成本(考勤月)'.F76>, <ReadOnlyCell 'DM004_月休安排不合理导致的加班成本(考勤月)'.G76>, <ReadOnlyCell 'DM004_月休安排不合理导致的加班成本(考勤月)'.H76>, <ReadOnlyCell 'DM004_月休安排不合理导致的加班成本(考勤月)'.I76>, <ReadOnlyCell 'DM004_月休安排不合理导致的加班成本(考勤月)'.J76>, <ReadOnlyCell 'DM004_月休安排不合理导致的加班成本(考勤月)'.K76>, <ReadOnlyCell 'DM004_月休安排不合理导致的加班成本(考勤月)'.L76>, <ReadOnlyCell 'DM004_月休安排不合理导致的加班成本(考勤月)'.M76>, <ReadOnlyCell 'DM004_月休安排不合理导致的加班成本(考勤月)'.N76>, <ReadOnlyCell 'DM004_月休安排不合理导致的加班成本(考勤月)'.O76>, <ReadOnlyCell 'DM004_月休安排不合理导致的加班成本(考勤月)'.P76>)\n",
      "(<ReadOnlyCell 'DM004_月休安排不合理导致的加班成本(考勤月)'.A77>, <ReadOnlyCell 'DM004_月休安排不合理导致的加班成本(考勤月)'.B77>, <EmptyCell>, <EmptyCell>, <EmptyCell>, <ReadOnlyCell 'DM004_月休安排不合理导致的加班成本(考勤月)'.F77>, <ReadOnlyCell 'DM004_月休安排不合理导致的加班成本(考勤月)'.G77>, <ReadOnlyCell 'DM004_月休安排不合理导致的加班成本(考勤月)'.H77>, <ReadOnlyCell 'DM004_月休安排不合理导致的加班成本(考勤月)'.I77>, <ReadOnlyCell 'DM004_月休安排不合理导致的加班成本(考勤月)'.J77>, <ReadOnlyCell 'DM004_月休安排不合理导致的加班成本(考勤月)'.K77>, <ReadOnlyCell 'DM004_月休安排不合理导致的加班成本(考勤月)'.L77>, <ReadOnlyCell 'DM004_月休安排不合理导致的加班成本(考勤月)'.M77>, <ReadOnlyCell 'DM004_月休安排不合理导致的加班成本(考勤月)'.N77>, <ReadOnlyCell 'DM004_月休安排不合理导致的加班成本(考勤月)'.O77>, <ReadOnlyCell 'DM004_月休安排不合理导致的加班成本(考勤月)'.P77>)\n",
      "(<ReadOnlyCell 'DM004_月休安排不合理导致的加班成本(考勤月)'.A78>, <ReadOnlyCell 'DM004_月休安排不合理导致的加班成本(考勤月)'.B78>, <EmptyCell>, <EmptyCell>, <EmptyCell>, <ReadOnlyCell 'DM004_月休安排不合理导致的加班成本(考勤月)'.F78>, <ReadOnlyCell 'DM004_月休安排不合理导致的加班成本(考勤月)'.G78>, <ReadOnlyCell 'DM004_月休安排不合理导致的加班成本(考勤月)'.H78>, <ReadOnlyCell 'DM004_月休安排不合理导致的加班成本(考勤月)'.I78>, <ReadOnlyCell 'DM004_月休安排不合理导致的加班成本(考勤月)'.J78>, <ReadOnlyCell 'DM004_月休安排不合理导致的加班成本(考勤月)'.K78>, <ReadOnlyCell 'DM004_月休安排不合理导致的加班成本(考勤月)'.L78>, <ReadOnlyCell 'DM004_月休安排不合理导致的加班成本(考勤月)'.M78>, <ReadOnlyCell 'DM004_月休安排不合理导致的加班成本(考勤月)'.N78>, <ReadOnlyCell 'DM004_月休安排不合理导致的加班成本(考勤月)'.O78>, <ReadOnlyCell 'DM004_月休安排不合理导致的加班成本(考勤月)'.P78>)\n",
      "(<ReadOnlyCell 'DM004_月休安排不合理导致的加班成本(考勤月)'.A79>, <ReadOnlyCell 'DM004_月休安排不合理导致的加班成本(考勤月)'.B79>, <EmptyCell>, <EmptyCell>, <EmptyCell>, <ReadOnlyCell 'DM004_月休安排不合理导致的加班成本(考勤月)'.F79>, <ReadOnlyCell 'DM004_月休安排不合理导致的加班成本(考勤月)'.G79>, <ReadOnlyCell 'DM004_月休安排不合理导致的加班成本(考勤月)'.H79>, <ReadOnlyCell 'DM004_月休安排不合理导致的加班成本(考勤月)'.I79>, <ReadOnlyCell 'DM004_月休安排不合理导致的加班成本(考勤月)'.J79>, <ReadOnlyCell 'DM004_月休安排不合理导致的加班成本(考勤月)'.K79>, <ReadOnlyCell 'DM004_月休安排不合理导致的加班成本(考勤月)'.L79>, <ReadOnlyCell 'DM004_月休安排不合理导致的加班成本(考勤月)'.M79>, <ReadOnlyCell 'DM004_月休安排不合理导致的加班成本(考勤月)'.N79>, <ReadOnlyCell 'DM004_月休安排不合理导致的加班成本(考勤月)'.O79>, <ReadOnlyCell 'DM004_月休安排不合理导致的加班成本(考勤月)'.P79>)\n",
      "(<ReadOnlyCell 'DM004_月休安排不合理导致的加班成本(考勤月)'.A80>, <ReadOnlyCell 'DM004_月休安排不合理导致的加班成本(考勤月)'.B80>, <EmptyCell>, <EmptyCell>, <EmptyCell>, <ReadOnlyCell 'DM004_月休安排不合理导致的加班成本(考勤月)'.F80>, <ReadOnlyCell 'DM004_月休安排不合理导致的加班成本(考勤月)'.G80>, <ReadOnlyCell 'DM004_月休安排不合理导致的加班成本(考勤月)'.H80>, <ReadOnlyCell 'DM004_月休安排不合理导致的加班成本(考勤月)'.I80>, <ReadOnlyCell 'DM004_月休安排不合理导致的加班成本(考勤月)'.J80>, <ReadOnlyCell 'DM004_月休安排不合理导致的加班成本(考勤月)'.K80>, <ReadOnlyCell 'DM004_月休安排不合理导致的加班成本(考勤月)'.L80>, <ReadOnlyCell 'DM004_月休安排不合理导致的加班成本(考勤月)'.M80>, <ReadOnlyCell 'DM004_月休安排不合理导致的加班成本(考勤月)'.N80>, <ReadOnlyCell 'DM004_月休安排不合理导致的加班成本(考勤月)'.O80>, <ReadOnlyCell 'DM004_月休安排不合理导致的加班成本(考勤月)'.P80>)\n",
      "(<ReadOnlyCell 'DM004_月休安排不合理导致的加班成本(考勤月)'.A81>, <ReadOnlyCell 'DM004_月休安排不合理导致的加班成本(考勤月)'.B81>, <EmptyCell>, <EmptyCell>, <EmptyCell>, <ReadOnlyCell 'DM004_月休安排不合理导致的加班成本(考勤月)'.F81>, <ReadOnlyCell 'DM004_月休安排不合理导致的加班成本(考勤月)'.G81>, <ReadOnlyCell 'DM004_月休安排不合理导致的加班成本(考勤月)'.H81>, <ReadOnlyCell 'DM004_月休安排不合理导致的加班成本(考勤月)'.I81>, <ReadOnlyCell 'DM004_月休安排不合理导致的加班成本(考勤月)'.J81>, <ReadOnlyCell 'DM004_月休安排不合理导致的加班成本(考勤月)'.K81>, <ReadOnlyCell 'DM004_月休安排不合理导致的加班成本(考勤月)'.L81>, <ReadOnlyCell 'DM004_月休安排不合理导致的加班成本(考勤月)'.M81>, <ReadOnlyCell 'DM004_月休安排不合理导致的加班成本(考勤月)'.N81>, <ReadOnlyCell 'DM004_月休安排不合理导致的加班成本(考勤月)'.O81>, <ReadOnlyCell 'DM004_月休安排不合理导致的加班成本(考勤月)'.P81>)\n",
      "(<ReadOnlyCell 'DM004_月休安排不合理导致的加班成本(考勤月)'.A82>, <ReadOnlyCell 'DM004_月休安排不合理导致的加班成本(考勤月)'.B82>, <EmptyCell>, <EmptyCell>, <EmptyCell>, <ReadOnlyCell 'DM004_月休安排不合理导致的加班成本(考勤月)'.F82>, <ReadOnlyCell 'DM004_月休安排不合理导致的加班成本(考勤月)'.G82>, <ReadOnlyCell 'DM004_月休安排不合理导致的加班成本(考勤月)'.H82>, <ReadOnlyCell 'DM004_月休安排不合理导致的加班成本(考勤月)'.I82>, <ReadOnlyCell 'DM004_月休安排不合理导致的加班成本(考勤月)'.J82>, <ReadOnlyCell 'DM004_月休安排不合理导致的加班成本(考勤月)'.K82>, <ReadOnlyCell 'DM004_月休安排不合理导致的加班成本(考勤月)'.L82>, <ReadOnlyCell 'DM004_月休安排不合理导致的加班成本(考勤月)'.M82>, <ReadOnlyCell 'DM004_月休安排不合理导致的加班成本(考勤月)'.N82>, <ReadOnlyCell 'DM004_月休安排不合理导致的加班成本(考勤月)'.O82>, <ReadOnlyCell 'DM004_月休安排不合理导致的加班成本(考勤月)'.P82>)\n",
      "(<ReadOnlyCell 'DM004_月休安排不合理导致的加班成本(考勤月)'.A83>, <ReadOnlyCell 'DM004_月休安排不合理导致的加班成本(考勤月)'.B83>, <EmptyCell>, <EmptyCell>, <EmptyCell>, <ReadOnlyCell 'DM004_月休安排不合理导致的加班成本(考勤月)'.F83>, <ReadOnlyCell 'DM004_月休安排不合理导致的加班成本(考勤月)'.G83>, <ReadOnlyCell 'DM004_月休安排不合理导致的加班成本(考勤月)'.H83>, <ReadOnlyCell 'DM004_月休安排不合理导致的加班成本(考勤月)'.I83>, <ReadOnlyCell 'DM004_月休安排不合理导致的加班成本(考勤月)'.J83>, <ReadOnlyCell 'DM004_月休安排不合理导致的加班成本(考勤月)'.K83>, <ReadOnlyCell 'DM004_月休安排不合理导致的加班成本(考勤月)'.L83>, <ReadOnlyCell 'DM004_月休安排不合理导致的加班成本(考勤月)'.M83>, <ReadOnlyCell 'DM004_月休安排不合理导致的加班成本(考勤月)'.N83>, <ReadOnlyCell 'DM004_月休安排不合理导致的加班成本(考勤月)'.O83>, <ReadOnlyCell 'DM004_月休安排不合理导致的加班成本(考勤月)'.P83>)\n",
      "(<ReadOnlyCell 'DM004_月休安排不合理导致的加班成本(考勤月)'.A84>, <ReadOnlyCell 'DM004_月休安排不合理导致的加班成本(考勤月)'.B84>, <EmptyCell>, <EmptyCell>, <EmptyCell>, <ReadOnlyCell 'DM004_月休安排不合理导致的加班成本(考勤月)'.F84>, <ReadOnlyCell 'DM004_月休安排不合理导致的加班成本(考勤月)'.G84>, <ReadOnlyCell 'DM004_月休安排不合理导致的加班成本(考勤月)'.H84>, <ReadOnlyCell 'DM004_月休安排不合理导致的加班成本(考勤月)'.I84>, <ReadOnlyCell 'DM004_月休安排不合理导致的加班成本(考勤月)'.J84>, <ReadOnlyCell 'DM004_月休安排不合理导致的加班成本(考勤月)'.K84>, <ReadOnlyCell 'DM004_月休安排不合理导致的加班成本(考勤月)'.L84>, <ReadOnlyCell 'DM004_月休安排不合理导致的加班成本(考勤月)'.M84>, <ReadOnlyCell 'DM004_月休安排不合理导致的加班成本(考勤月)'.N84>, <ReadOnlyCell 'DM004_月休安排不合理导致的加班成本(考勤月)'.O84>, <ReadOnlyCell 'DM004_月休安排不合理导致的加班成本(考勤月)'.P84>)\n",
      "(<ReadOnlyCell 'DM004_月休安排不合理导致的加班成本(考勤月)'.A85>, <ReadOnlyCell 'DM004_月休安排不合理导致的加班成本(考勤月)'.B85>, <EmptyCell>, <EmptyCell>, <EmptyCell>, <ReadOnlyCell 'DM004_月休安排不合理导致的加班成本(考勤月)'.F85>, <ReadOnlyCell 'DM004_月休安排不合理导致的加班成本(考勤月)'.G85>, <ReadOnlyCell 'DM004_月休安排不合理导致的加班成本(考勤月)'.H85>, <ReadOnlyCell 'DM004_月休安排不合理导致的加班成本(考勤月)'.I85>, <ReadOnlyCell 'DM004_月休安排不合理导致的加班成本(考勤月)'.J85>, <ReadOnlyCell 'DM004_月休安排不合理导致的加班成本(考勤月)'.K85>, <ReadOnlyCell 'DM004_月休安排不合理导致的加班成本(考勤月)'.L85>, <ReadOnlyCell 'DM004_月休安排不合理导致的加班成本(考勤月)'.M85>, <ReadOnlyCell 'DM004_月休安排不合理导致的加班成本(考勤月)'.N85>, <ReadOnlyCell 'DM004_月休安排不合理导致的加班成本(考勤月)'.O85>, <ReadOnlyCell 'DM004_月休安排不合理导致的加班成本(考勤月)'.P85>)\n",
      "(<ReadOnlyCell 'DM004_月休安排不合理导致的加班成本(考勤月)'.A86>, <ReadOnlyCell 'DM004_月休安排不合理导致的加班成本(考勤月)'.B86>, <EmptyCell>, <EmptyCell>, <EmptyCell>, <ReadOnlyCell 'DM004_月休安排不合理导致的加班成本(考勤月)'.F86>, <ReadOnlyCell 'DM004_月休安排不合理导致的加班成本(考勤月)'.G86>, <ReadOnlyCell 'DM004_月休安排不合理导致的加班成本(考勤月)'.H86>, <ReadOnlyCell 'DM004_月休安排不合理导致的加班成本(考勤月)'.I86>, <ReadOnlyCell 'DM004_月休安排不合理导致的加班成本(考勤月)'.J86>, <ReadOnlyCell 'DM004_月休安排不合理导致的加班成本(考勤月)'.K86>, <ReadOnlyCell 'DM004_月休安排不合理导致的加班成本(考勤月)'.L86>, <ReadOnlyCell 'DM004_月休安排不合理导致的加班成本(考勤月)'.M86>, <ReadOnlyCell 'DM004_月休安排不合理导致的加班成本(考勤月)'.N86>, <ReadOnlyCell 'DM004_月休安排不合理导致的加班成本(考勤月)'.O86>, <ReadOnlyCell 'DM004_月休安排不合理导致的加班成本(考勤月)'.P86>)\n",
      "(<ReadOnlyCell 'DM004_月休安排不合理导致的加班成本(考勤月)'.A87>, <ReadOnlyCell 'DM004_月休安排不合理导致的加班成本(考勤月)'.B87>, <EmptyCell>, <EmptyCell>, <EmptyCell>, <ReadOnlyCell 'DM004_月休安排不合理导致的加班成本(考勤月)'.F87>, <ReadOnlyCell 'DM004_月休安排不合理导致的加班成本(考勤月)'.G87>, <ReadOnlyCell 'DM004_月休安排不合理导致的加班成本(考勤月)'.H87>, <ReadOnlyCell 'DM004_月休安排不合理导致的加班成本(考勤月)'.I87>, <ReadOnlyCell 'DM004_月休安排不合理导致的加班成本(考勤月)'.J87>, <ReadOnlyCell 'DM004_月休安排不合理导致的加班成本(考勤月)'.K87>, <ReadOnlyCell 'DM004_月休安排不合理导致的加班成本(考勤月)'.L87>, <ReadOnlyCell 'DM004_月休安排不合理导致的加班成本(考勤月)'.M87>, <ReadOnlyCell 'DM004_月休安排不合理导致的加班成本(考勤月)'.N87>, <ReadOnlyCell 'DM004_月休安排不合理导致的加班成本(考勤月)'.O87>, <ReadOnlyCell 'DM004_月休安排不合理导致的加班成本(考勤月)'.P87>)\n",
      "(<ReadOnlyCell 'DM004_月休安排不合理导致的加班成本(考勤月)'.A88>, <ReadOnlyCell 'DM004_月休安排不合理导致的加班成本(考勤月)'.B88>, <EmptyCell>, <EmptyCell>, <EmptyCell>, <ReadOnlyCell 'DM004_月休安排不合理导致的加班成本(考勤月)'.F88>, <ReadOnlyCell 'DM004_月休安排不合理导致的加班成本(考勤月)'.G88>, <ReadOnlyCell 'DM004_月休安排不合理导致的加班成本(考勤月)'.H88>, <ReadOnlyCell 'DM004_月休安排不合理导致的加班成本(考勤月)'.I88>, <ReadOnlyCell 'DM004_月休安排不合理导致的加班成本(考勤月)'.J88>, <ReadOnlyCell 'DM004_月休安排不合理导致的加班成本(考勤月)'.K88>, <ReadOnlyCell 'DM004_月休安排不合理导致的加班成本(考勤月)'.L88>, <ReadOnlyCell 'DM004_月休安排不合理导致的加班成本(考勤月)'.M88>, <ReadOnlyCell 'DM004_月休安排不合理导致的加班成本(考勤月)'.N88>, <ReadOnlyCell 'DM004_月休安排不合理导致的加班成本(考勤月)'.O88>, <ReadOnlyCell 'DM004_月休安排不合理导致的加班成本(考勤月)'.P88>)\n",
      "(<ReadOnlyCell 'DM004_月休安排不合理导致的加班成本(考勤月)'.A89>, <ReadOnlyCell 'DM004_月休安排不合理导致的加班成本(考勤月)'.B89>, <EmptyCell>, <EmptyCell>, <EmptyCell>, <ReadOnlyCell 'DM004_月休安排不合理导致的加班成本(考勤月)'.F89>, <ReadOnlyCell 'DM004_月休安排不合理导致的加班成本(考勤月)'.G89>, <ReadOnlyCell 'DM004_月休安排不合理导致的加班成本(考勤月)'.H89>, <ReadOnlyCell 'DM004_月休安排不合理导致的加班成本(考勤月)'.I89>, <ReadOnlyCell 'DM004_月休安排不合理导致的加班成本(考勤月)'.J89>, <ReadOnlyCell 'DM004_月休安排不合理导致的加班成本(考勤月)'.K89>, <ReadOnlyCell 'DM004_月休安排不合理导致的加班成本(考勤月)'.L89>, <ReadOnlyCell 'DM004_月休安排不合理导致的加班成本(考勤月)'.M89>, <ReadOnlyCell 'DM004_月休安排不合理导致的加班成本(考勤月)'.N89>, <ReadOnlyCell 'DM004_月休安排不合理导致的加班成本(考勤月)'.O89>, <ReadOnlyCell 'DM004_月休安排不合理导致的加班成本(考勤月)'.P89>)\n",
      "(<ReadOnlyCell 'DM004_月休安排不合理导致的加班成本(考勤月)'.A90>, <ReadOnlyCell 'DM004_月休安排不合理导致的加班成本(考勤月)'.B90>, <EmptyCell>, <EmptyCell>, <EmptyCell>, <ReadOnlyCell 'DM004_月休安排不合理导致的加班成本(考勤月)'.F90>, <ReadOnlyCell 'DM004_月休安排不合理导致的加班成本(考勤月)'.G90>, <ReadOnlyCell 'DM004_月休安排不合理导致的加班成本(考勤月)'.H90>, <ReadOnlyCell 'DM004_月休安排不合理导致的加班成本(考勤月)'.I90>, <ReadOnlyCell 'DM004_月休安排不合理导致的加班成本(考勤月)'.J90>, <ReadOnlyCell 'DM004_月休安排不合理导致的加班成本(考勤月)'.K90>, <ReadOnlyCell 'DM004_月休安排不合理导致的加班成本(考勤月)'.L90>, <ReadOnlyCell 'DM004_月休安排不合理导致的加班成本(考勤月)'.M90>, <ReadOnlyCell 'DM004_月休安排不合理导致的加班成本(考勤月)'.N90>, <ReadOnlyCell 'DM004_月休安排不合理导致的加班成本(考勤月)'.O90>, <ReadOnlyCell 'DM004_月休安排不合理导致的加班成本(考勤月)'.P90>)\n",
      "(<ReadOnlyCell 'DM004_月休安排不合理导致的加班成本(考勤月)'.A91>, <ReadOnlyCell 'DM004_月休安排不合理导致的加班成本(考勤月)'.B91>, <EmptyCell>, <EmptyCell>, <EmptyCell>, <ReadOnlyCell 'DM004_月休安排不合理导致的加班成本(考勤月)'.F91>, <ReadOnlyCell 'DM004_月休安排不合理导致的加班成本(考勤月)'.G91>, <ReadOnlyCell 'DM004_月休安排不合理导致的加班成本(考勤月)'.H91>, <ReadOnlyCell 'DM004_月休安排不合理导致的加班成本(考勤月)'.I91>, <ReadOnlyCell 'DM004_月休安排不合理导致的加班成本(考勤月)'.J91>, <ReadOnlyCell 'DM004_月休安排不合理导致的加班成本(考勤月)'.K91>, <ReadOnlyCell 'DM004_月休安排不合理导致的加班成本(考勤月)'.L91>, <ReadOnlyCell 'DM004_月休安排不合理导致的加班成本(考勤月)'.M91>, <ReadOnlyCell 'DM004_月休安排不合理导致的加班成本(考勤月)'.N91>, <ReadOnlyCell 'DM004_月休安排不合理导致的加班成本(考勤月)'.O91>, <ReadOnlyCell 'DM004_月休安排不合理导致的加班成本(考勤月)'.P91>)\n",
      "(<ReadOnlyCell 'DM004_月休安排不合理导致的加班成本(考勤月)'.A92>, <ReadOnlyCell 'DM004_月休安排不合理导致的加班成本(考勤月)'.B92>, <EmptyCell>, <EmptyCell>, <EmptyCell>, <ReadOnlyCell 'DM004_月休安排不合理导致的加班成本(考勤月)'.F92>, <ReadOnlyCell 'DM004_月休安排不合理导致的加班成本(考勤月)'.G92>, <ReadOnlyCell 'DM004_月休安排不合理导致的加班成本(考勤月)'.H92>, <ReadOnlyCell 'DM004_月休安排不合理导致的加班成本(考勤月)'.I92>, <ReadOnlyCell 'DM004_月休安排不合理导致的加班成本(考勤月)'.J92>, <ReadOnlyCell 'DM004_月休安排不合理导致的加班成本(考勤月)'.K92>, <ReadOnlyCell 'DM004_月休安排不合理导致的加班成本(考勤月)'.L92>, <ReadOnlyCell 'DM004_月休安排不合理导致的加班成本(考勤月)'.M92>, <ReadOnlyCell 'DM004_月休安排不合理导致的加班成本(考勤月)'.N92>, <ReadOnlyCell 'DM004_月休安排不合理导致的加班成本(考勤月)'.O92>, <ReadOnlyCell 'DM004_月休安排不合理导致的加班成本(考勤月)'.P92>)\n",
      "(<ReadOnlyCell 'DM004_月休安排不合理导致的加班成本(考勤月)'.A93>, <ReadOnlyCell 'DM004_月休安排不合理导致的加班成本(考勤月)'.B93>, <EmptyCell>, <EmptyCell>, <EmptyCell>, <ReadOnlyCell 'DM004_月休安排不合理导致的加班成本(考勤月)'.F93>, <ReadOnlyCell 'DM004_月休安排不合理导致的加班成本(考勤月)'.G93>, <ReadOnlyCell 'DM004_月休安排不合理导致的加班成本(考勤月)'.H93>, <ReadOnlyCell 'DM004_月休安排不合理导致的加班成本(考勤月)'.I93>, <ReadOnlyCell 'DM004_月休安排不合理导致的加班成本(考勤月)'.J93>, <ReadOnlyCell 'DM004_月休安排不合理导致的加班成本(考勤月)'.K93>, <ReadOnlyCell 'DM004_月休安排不合理导致的加班成本(考勤月)'.L93>, <ReadOnlyCell 'DM004_月休安排不合理导致的加班成本(考勤月)'.M93>, <ReadOnlyCell 'DM004_月休安排不合理导致的加班成本(考勤月)'.N93>, <ReadOnlyCell 'DM004_月休安排不合理导致的加班成本(考勤月)'.O93>, <ReadOnlyCell 'DM004_月休安排不合理导致的加班成本(考勤月)'.P93>)\n",
      "(<ReadOnlyCell 'DM004_月休安排不合理导致的加班成本(考勤月)'.A94>, <ReadOnlyCell 'DM004_月休安排不合理导致的加班成本(考勤月)'.B94>, <EmptyCell>, <EmptyCell>, <EmptyCell>, <ReadOnlyCell 'DM004_月休安排不合理导致的加班成本(考勤月)'.F94>, <ReadOnlyCell 'DM004_月休安排不合理导致的加班成本(考勤月)'.G94>, <ReadOnlyCell 'DM004_月休安排不合理导致的加班成本(考勤月)'.H94>, <ReadOnlyCell 'DM004_月休安排不合理导致的加班成本(考勤月)'.I94>, <ReadOnlyCell 'DM004_月休安排不合理导致的加班成本(考勤月)'.J94>, <ReadOnlyCell 'DM004_月休安排不合理导致的加班成本(考勤月)'.K94>, <ReadOnlyCell 'DM004_月休安排不合理导致的加班成本(考勤月)'.L94>, <ReadOnlyCell 'DM004_月休安排不合理导致的加班成本(考勤月)'.M94>, <ReadOnlyCell 'DM004_月休安排不合理导致的加班成本(考勤月)'.N94>, <ReadOnlyCell 'DM004_月休安排不合理导致的加班成本(考勤月)'.O94>, <ReadOnlyCell 'DM004_月休安排不合理导致的加班成本(考勤月)'.P94>)\n",
      "(<ReadOnlyCell 'DM004_月休安排不合理导致的加班成本(考勤月)'.A95>, <ReadOnlyCell 'DM004_月休安排不合理导致的加班成本(考勤月)'.B95>, <EmptyCell>, <EmptyCell>, <EmptyCell>, <ReadOnlyCell 'DM004_月休安排不合理导致的加班成本(考勤月)'.F95>, <ReadOnlyCell 'DM004_月休安排不合理导致的加班成本(考勤月)'.G95>, <ReadOnlyCell 'DM004_月休安排不合理导致的加班成本(考勤月)'.H95>, <ReadOnlyCell 'DM004_月休安排不合理导致的加班成本(考勤月)'.I95>, <ReadOnlyCell 'DM004_月休安排不合理导致的加班成本(考勤月)'.J95>, <ReadOnlyCell 'DM004_月休安排不合理导致的加班成本(考勤月)'.K95>, <ReadOnlyCell 'DM004_月休安排不合理导致的加班成本(考勤月)'.L95>, <ReadOnlyCell 'DM004_月休安排不合理导致的加班成本(考勤月)'.M95>, <ReadOnlyCell 'DM004_月休安排不合理导致的加班成本(考勤月)'.N95>, <ReadOnlyCell 'DM004_月休安排不合理导致的加班成本(考勤月)'.O95>, <ReadOnlyCell 'DM004_月休安排不合理导致的加班成本(考勤月)'.P95>)\n",
      "(<ReadOnlyCell 'DM004_月休安排不合理导致的加班成本(考勤月)'.A96>, <ReadOnlyCell 'DM004_月休安排不合理导致的加班成本(考勤月)'.B96>, <EmptyCell>, <EmptyCell>, <EmptyCell>, <ReadOnlyCell 'DM004_月休安排不合理导致的加班成本(考勤月)'.F96>, <ReadOnlyCell 'DM004_月休安排不合理导致的加班成本(考勤月)'.G96>, <ReadOnlyCell 'DM004_月休安排不合理导致的加班成本(考勤月)'.H96>, <ReadOnlyCell 'DM004_月休安排不合理导致的加班成本(考勤月)'.I96>, <ReadOnlyCell 'DM004_月休安排不合理导致的加班成本(考勤月)'.J96>, <ReadOnlyCell 'DM004_月休安排不合理导致的加班成本(考勤月)'.K96>, <ReadOnlyCell 'DM004_月休安排不合理导致的加班成本(考勤月)'.L96>, <ReadOnlyCell 'DM004_月休安排不合理导致的加班成本(考勤月)'.M96>, <ReadOnlyCell 'DM004_月休安排不合理导致的加班成本(考勤月)'.N96>, <ReadOnlyCell 'DM004_月休安排不合理导致的加班成本(考勤月)'.O96>, <ReadOnlyCell 'DM004_月休安排不合理导致的加班成本(考勤月)'.P96>)\n",
      "(<ReadOnlyCell 'DM004_月休安排不合理导致的加班成本(考勤月)'.A97>, <ReadOnlyCell 'DM004_月休安排不合理导致的加班成本(考勤月)'.B97>, <EmptyCell>, <EmptyCell>, <EmptyCell>, <ReadOnlyCell 'DM004_月休安排不合理导致的加班成本(考勤月)'.F97>, <ReadOnlyCell 'DM004_月休安排不合理导致的加班成本(考勤月)'.G97>, <ReadOnlyCell 'DM004_月休安排不合理导致的加班成本(考勤月)'.H97>, <ReadOnlyCell 'DM004_月休安排不合理导致的加班成本(考勤月)'.I97>, <ReadOnlyCell 'DM004_月休安排不合理导致的加班成本(考勤月)'.J97>, <ReadOnlyCell 'DM004_月休安排不合理导致的加班成本(考勤月)'.K97>, <ReadOnlyCell 'DM004_月休安排不合理导致的加班成本(考勤月)'.L97>, <ReadOnlyCell 'DM004_月休安排不合理导致的加班成本(考勤月)'.M97>, <ReadOnlyCell 'DM004_月休安排不合理导致的加班成本(考勤月)'.N97>, <ReadOnlyCell 'DM004_月休安排不合理导致的加班成本(考勤月)'.O97>, <ReadOnlyCell 'DM004_月休安排不合理导致的加班成本(考勤月)'.P97>)\n",
      "(<ReadOnlyCell 'DM004_月休安排不合理导致的加班成本(考勤月)'.A98>, <ReadOnlyCell 'DM004_月休安排不合理导致的加班成本(考勤月)'.B98>, <EmptyCell>, <EmptyCell>, <EmptyCell>, <ReadOnlyCell 'DM004_月休安排不合理导致的加班成本(考勤月)'.F98>, <ReadOnlyCell 'DM004_月休安排不合理导致的加班成本(考勤月)'.G98>, <ReadOnlyCell 'DM004_月休安排不合理导致的加班成本(考勤月)'.H98>, <ReadOnlyCell 'DM004_月休安排不合理导致的加班成本(考勤月)'.I98>, <ReadOnlyCell 'DM004_月休安排不合理导致的加班成本(考勤月)'.J98>, <ReadOnlyCell 'DM004_月休安排不合理导致的加班成本(考勤月)'.K98>, <ReadOnlyCell 'DM004_月休安排不合理导致的加班成本(考勤月)'.L98>, <ReadOnlyCell 'DM004_月休安排不合理导致的加班成本(考勤月)'.M98>, <ReadOnlyCell 'DM004_月休安排不合理导致的加班成本(考勤月)'.N98>, <ReadOnlyCell 'DM004_月休安排不合理导致的加班成本(考勤月)'.O98>, <ReadOnlyCell 'DM004_月休安排不合理导致的加班成本(考勤月)'.P98>)\n",
      "(<ReadOnlyCell 'DM004_月休安排不合理导致的加班成本(考勤月)'.A99>, <ReadOnlyCell 'DM004_月休安排不合理导致的加班成本(考勤月)'.B99>, <EmptyCell>, <EmptyCell>, <EmptyCell>, <ReadOnlyCell 'DM004_月休安排不合理导致的加班成本(考勤月)'.F99>, <ReadOnlyCell 'DM004_月休安排不合理导致的加班成本(考勤月)'.G99>, <ReadOnlyCell 'DM004_月休安排不合理导致的加班成本(考勤月)'.H99>, <ReadOnlyCell 'DM004_月休安排不合理导致的加班成本(考勤月)'.I99>, <ReadOnlyCell 'DM004_月休安排不合理导致的加班成本(考勤月)'.J99>, <ReadOnlyCell 'DM004_月休安排不合理导致的加班成本(考勤月)'.K99>, <ReadOnlyCell 'DM004_月休安排不合理导致的加班成本(考勤月)'.L99>, <ReadOnlyCell 'DM004_月休安排不合理导致的加班成本(考勤月)'.M99>, <ReadOnlyCell 'DM004_月休安排不合理导致的加班成本(考勤月)'.N99>, <ReadOnlyCell 'DM004_月休安排不合理导致的加班成本(考勤月)'.O99>, <ReadOnlyCell 'DM004_月休安排不合理导致的加班成本(考勤月)'.P99>)\n",
      "(<ReadOnlyCell 'DM004_月休安排不合理导致的加班成本(考勤月)'.A100>, <ReadOnlyCell 'DM004_月休安排不合理导致的加班成本(考勤月)'.B100>, <EmptyCell>, <EmptyCell>, <EmptyCell>, <ReadOnlyCell 'DM004_月休安排不合理导致的加班成本(考勤月)'.F100>, <ReadOnlyCell 'DM004_月休安排不合理导致的加班成本(考勤月)'.G100>, <ReadOnlyCell 'DM004_月休安排不合理导致的加班成本(考勤月)'.H100>, <ReadOnlyCell 'DM004_月休安排不合理导致的加班成本(考勤月)'.I100>, <ReadOnlyCell 'DM004_月休安排不合理导致的加班成本(考勤月)'.J100>, <ReadOnlyCell 'DM004_月休安排不合理导致的加班成本(考勤月)'.K100>, <ReadOnlyCell 'DM004_月休安排不合理导致的加班成本(考勤月)'.L100>, <ReadOnlyCell 'DM004_月休安排不合理导致的加班成本(考勤月)'.M100>, <ReadOnlyCell 'DM004_月休安排不合理导致的加班成本(考勤月)'.N100>, <ReadOnlyCell 'DM004_月休安排不合理导致的加班成本(考勤月)'.O100>, <ReadOnlyCell 'DM004_月休安排不合理导致的加班成本(考勤月)'.P100>)\n",
      "(<ReadOnlyCell 'DM004_月休安排不合理导致的加班成本(考勤月)'.A101>, <ReadOnlyCell 'DM004_月休安排不合理导致的加班成本(考勤月)'.B101>, <EmptyCell>, <EmptyCell>, <EmptyCell>, <ReadOnlyCell 'DM004_月休安排不合理导致的加班成本(考勤月)'.F101>, <ReadOnlyCell 'DM004_月休安排不合理导致的加班成本(考勤月)'.G101>, <ReadOnlyCell 'DM004_月休安排不合理导致的加班成本(考勤月)'.H101>, <ReadOnlyCell 'DM004_月休安排不合理导致的加班成本(考勤月)'.I101>, <ReadOnlyCell 'DM004_月休安排不合理导致的加班成本(考勤月)'.J101>, <ReadOnlyCell 'DM004_月休安排不合理导致的加班成本(考勤月)'.K101>, <ReadOnlyCell 'DM004_月休安排不合理导致的加班成本(考勤月)'.L101>, <ReadOnlyCell 'DM004_月休安排不合理导致的加班成本(考勤月)'.M101>, <ReadOnlyCell 'DM004_月休安排不合理导致的加班成本(考勤月)'.N101>, <ReadOnlyCell 'DM004_月休安排不合理导致的加班成本(考勤月)'.O101>, <ReadOnlyCell 'DM004_月休安排不合理导致的加班成本(考勤月)'.P101>)\n",
      "(<ReadOnlyCell 'DM004_月休安排不合理导致的加班成本(考勤月)'.A102>, <ReadOnlyCell 'DM004_月休安排不合理导致的加班成本(考勤月)'.B102>, <EmptyCell>, <EmptyCell>, <EmptyCell>, <ReadOnlyCell 'DM004_月休安排不合理导致的加班成本(考勤月)'.F102>, <ReadOnlyCell 'DM004_月休安排不合理导致的加班成本(考勤月)'.G102>, <ReadOnlyCell 'DM004_月休安排不合理导致的加班成本(考勤月)'.H102>, <ReadOnlyCell 'DM004_月休安排不合理导致的加班成本(考勤月)'.I102>, <ReadOnlyCell 'DM004_月休安排不合理导致的加班成本(考勤月)'.J102>, <ReadOnlyCell 'DM004_月休安排不合理导致的加班成本(考勤月)'.K102>, <ReadOnlyCell 'DM004_月休安排不合理导致的加班成本(考勤月)'.L102>, <ReadOnlyCell 'DM004_月休安排不合理导致的加班成本(考勤月)'.M102>, <ReadOnlyCell 'DM004_月休安排不合理导致的加班成本(考勤月)'.N102>, <ReadOnlyCell 'DM004_月休安排不合理导致的加班成本(考勤月)'.O102>, <ReadOnlyCell 'DM004_月休安排不合理导致的加班成本(考勤月)'.P102>)\n",
      "(<ReadOnlyCell 'DM004_月休安排不合理导致的加班成本(考勤月)'.A103>, <ReadOnlyCell 'DM004_月休安排不合理导致的加班成本(考勤月)'.B103>, <EmptyCell>, <EmptyCell>, <EmptyCell>, <ReadOnlyCell 'DM004_月休安排不合理导致的加班成本(考勤月)'.F103>, <ReadOnlyCell 'DM004_月休安排不合理导致的加班成本(考勤月)'.G103>, <ReadOnlyCell 'DM004_月休安排不合理导致的加班成本(考勤月)'.H103>, <ReadOnlyCell 'DM004_月休安排不合理导致的加班成本(考勤月)'.I103>, <ReadOnlyCell 'DM004_月休安排不合理导致的加班成本(考勤月)'.J103>, <ReadOnlyCell 'DM004_月休安排不合理导致的加班成本(考勤月)'.K103>, <ReadOnlyCell 'DM004_月休安排不合理导致的加班成本(考勤月)'.L103>, <ReadOnlyCell 'DM004_月休安排不合理导致的加班成本(考勤月)'.M103>, <ReadOnlyCell 'DM004_月休安排不合理导致的加班成本(考勤月)'.N103>, <ReadOnlyCell 'DM004_月休安排不合理导致的加班成本(考勤月)'.O103>, <ReadOnlyCell 'DM004_月休安排不合理导致的加班成本(考勤月)'.P103>)\n",
      "(<ReadOnlyCell 'DM004_月休安排不合理导致的加班成本(考勤月)'.A104>, <ReadOnlyCell 'DM004_月休安排不合理导致的加班成本(考勤月)'.B104>, <EmptyCell>, <EmptyCell>, <EmptyCell>, <ReadOnlyCell 'DM004_月休安排不合理导致的加班成本(考勤月)'.F104>, <ReadOnlyCell 'DM004_月休安排不合理导致的加班成本(考勤月)'.G104>, <ReadOnlyCell 'DM004_月休安排不合理导致的加班成本(考勤月)'.H104>, <ReadOnlyCell 'DM004_月休安排不合理导致的加班成本(考勤月)'.I104>, <ReadOnlyCell 'DM004_月休安排不合理导致的加班成本(考勤月)'.J104>, <ReadOnlyCell 'DM004_月休安排不合理导致的加班成本(考勤月)'.K104>, <ReadOnlyCell 'DM004_月休安排不合理导致的加班成本(考勤月)'.L104>, <ReadOnlyCell 'DM004_月休安排不合理导致的加班成本(考勤月)'.M104>, <ReadOnlyCell 'DM004_月休安排不合理导致的加班成本(考勤月)'.N104>, <ReadOnlyCell 'DM004_月休安排不合理导致的加班成本(考勤月)'.O104>, <ReadOnlyCell 'DM004_月休安排不合理导致的加班成本(考勤月)'.P104>)\n",
      "(<ReadOnlyCell 'DM004_月休安排不合理导致的加班成本(考勤月)'.A105>, <ReadOnlyCell 'DM004_月休安排不合理导致的加班成本(考勤月)'.B105>, <EmptyCell>, <EmptyCell>, <EmptyCell>, <ReadOnlyCell 'DM004_月休安排不合理导致的加班成本(考勤月)'.F105>, <ReadOnlyCell 'DM004_月休安排不合理导致的加班成本(考勤月)'.G105>, <ReadOnlyCell 'DM004_月休安排不合理导致的加班成本(考勤月)'.H105>, <ReadOnlyCell 'DM004_月休安排不合理导致的加班成本(考勤月)'.I105>, <ReadOnlyCell 'DM004_月休安排不合理导致的加班成本(考勤月)'.J105>, <ReadOnlyCell 'DM004_月休安排不合理导致的加班成本(考勤月)'.K105>, <ReadOnlyCell 'DM004_月休安排不合理导致的加班成本(考勤月)'.L105>, <ReadOnlyCell 'DM004_月休安排不合理导致的加班成本(考勤月)'.M105>, <ReadOnlyCell 'DM004_月休安排不合理导致的加班成本(考勤月)'.N105>, <ReadOnlyCell 'DM004_月休安排不合理导致的加班成本(考勤月)'.O105>, <ReadOnlyCell 'DM004_月休安排不合理导致的加班成本(考勤月)'.P105>)\n",
      "(<ReadOnlyCell 'DM004_月休安排不合理导致的加班成本(考勤月)'.A106>, <ReadOnlyCell 'DM004_月休安排不合理导致的加班成本(考勤月)'.B106>, <EmptyCell>, <EmptyCell>, <EmptyCell>, <ReadOnlyCell 'DM004_月休安排不合理导致的加班成本(考勤月)'.F106>, <ReadOnlyCell 'DM004_月休安排不合理导致的加班成本(考勤月)'.G106>, <ReadOnlyCell 'DM004_月休安排不合理导致的加班成本(考勤月)'.H106>, <ReadOnlyCell 'DM004_月休安排不合理导致的加班成本(考勤月)'.I106>, <ReadOnlyCell 'DM004_月休安排不合理导致的加班成本(考勤月)'.J106>, <ReadOnlyCell 'DM004_月休安排不合理导致的加班成本(考勤月)'.K106>, <ReadOnlyCell 'DM004_月休安排不合理导致的加班成本(考勤月)'.L106>, <ReadOnlyCell 'DM004_月休安排不合理导致的加班成本(考勤月)'.M106>, <ReadOnlyCell 'DM004_月休安排不合理导致的加班成本(考勤月)'.N106>, <ReadOnlyCell 'DM004_月休安排不合理导致的加班成本(考勤月)'.O106>, <ReadOnlyCell 'DM004_月休安排不合理导致的加班成本(考勤月)'.P106>)\n",
      "(<ReadOnlyCell 'DM004_月休安排不合理导致的加班成本(考勤月)'.A107>, <ReadOnlyCell 'DM004_月休安排不合理导致的加班成本(考勤月)'.B107>, <EmptyCell>, <EmptyCell>, <EmptyCell>, <ReadOnlyCell 'DM004_月休安排不合理导致的加班成本(考勤月)'.F107>, <ReadOnlyCell 'DM004_月休安排不合理导致的加班成本(考勤月)'.G107>, <ReadOnlyCell 'DM004_月休安排不合理导致的加班成本(考勤月)'.H107>, <ReadOnlyCell 'DM004_月休安排不合理导致的加班成本(考勤月)'.I107>, <ReadOnlyCell 'DM004_月休安排不合理导致的加班成本(考勤月)'.J107>, <ReadOnlyCell 'DM004_月休安排不合理导致的加班成本(考勤月)'.K107>, <ReadOnlyCell 'DM004_月休安排不合理导致的加班成本(考勤月)'.L107>, <ReadOnlyCell 'DM004_月休安排不合理导致的加班成本(考勤月)'.M107>, <ReadOnlyCell 'DM004_月休安排不合理导致的加班成本(考勤月)'.N107>, <ReadOnlyCell 'DM004_月休安排不合理导致的加班成本(考勤月)'.O107>, <ReadOnlyCell 'DM004_月休安排不合理导致的加班成本(考勤月)'.P107>)\n",
      "(<ReadOnlyCell 'DM004_月休安排不合理导致的加班成本(考勤月)'.A108>, <ReadOnlyCell 'DM004_月休安排不合理导致的加班成本(考勤月)'.B108>, <EmptyCell>, <EmptyCell>, <EmptyCell>, <ReadOnlyCell 'DM004_月休安排不合理导致的加班成本(考勤月)'.F108>, <ReadOnlyCell 'DM004_月休安排不合理导致的加班成本(考勤月)'.G108>, <ReadOnlyCell 'DM004_月休安排不合理导致的加班成本(考勤月)'.H108>, <ReadOnlyCell 'DM004_月休安排不合理导致的加班成本(考勤月)'.I108>, <ReadOnlyCell 'DM004_月休安排不合理导致的加班成本(考勤月)'.J108>, <ReadOnlyCell 'DM004_月休安排不合理导致的加班成本(考勤月)'.K108>, <ReadOnlyCell 'DM004_月休安排不合理导致的加班成本(考勤月)'.L108>, <ReadOnlyCell 'DM004_月休安排不合理导致的加班成本(考勤月)'.M108>, <ReadOnlyCell 'DM004_月休安排不合理导致的加班成本(考勤月)'.N108>, <ReadOnlyCell 'DM004_月休安排不合理导致的加班成本(考勤月)'.O108>, <ReadOnlyCell 'DM004_月休安排不合理导致的加班成本(考勤月)'.P108>)\n",
      "(<ReadOnlyCell 'DM004_月休安排不合理导致的加班成本(考勤月)'.A109>, <ReadOnlyCell 'DM004_月休安排不合理导致的加班成本(考勤月)'.B109>, <EmptyCell>, <EmptyCell>, <EmptyCell>, <ReadOnlyCell 'DM004_月休安排不合理导致的加班成本(考勤月)'.F109>, <ReadOnlyCell 'DM004_月休安排不合理导致的加班成本(考勤月)'.G109>, <ReadOnlyCell 'DM004_月休安排不合理导致的加班成本(考勤月)'.H109>, <ReadOnlyCell 'DM004_月休安排不合理导致的加班成本(考勤月)'.I109>, <ReadOnlyCell 'DM004_月休安排不合理导致的加班成本(考勤月)'.J109>, <ReadOnlyCell 'DM004_月休安排不合理导致的加班成本(考勤月)'.K109>, <ReadOnlyCell 'DM004_月休安排不合理导致的加班成本(考勤月)'.L109>, <ReadOnlyCell 'DM004_月休安排不合理导致的加班成本(考勤月)'.M109>, <ReadOnlyCell 'DM004_月休安排不合理导致的加班成本(考勤月)'.N109>, <ReadOnlyCell 'DM004_月休安排不合理导致的加班成本(考勤月)'.O109>, <ReadOnlyCell 'DM004_月休安排不合理导致的加班成本(考勤月)'.P109>)\n",
      "(<ReadOnlyCell 'DM004_月休安排不合理导致的加班成本(考勤月)'.A110>, <ReadOnlyCell 'DM004_月休安排不合理导致的加班成本(考勤月)'.B110>, <EmptyCell>, <EmptyCell>, <EmptyCell>, <ReadOnlyCell 'DM004_月休安排不合理导致的加班成本(考勤月)'.F110>, <ReadOnlyCell 'DM004_月休安排不合理导致的加班成本(考勤月)'.G110>, <ReadOnlyCell 'DM004_月休安排不合理导致的加班成本(考勤月)'.H110>, <ReadOnlyCell 'DM004_月休安排不合理导致的加班成本(考勤月)'.I110>, <ReadOnlyCell 'DM004_月休安排不合理导致的加班成本(考勤月)'.J110>, <ReadOnlyCell 'DM004_月休安排不合理导致的加班成本(考勤月)'.K110>, <ReadOnlyCell 'DM004_月休安排不合理导致的加班成本(考勤月)'.L110>, <ReadOnlyCell 'DM004_月休安排不合理导致的加班成本(考勤月)'.M110>, <ReadOnlyCell 'DM004_月休安排不合理导致的加班成本(考勤月)'.N110>, <ReadOnlyCell 'DM004_月休安排不合理导致的加班成本(考勤月)'.O110>, <ReadOnlyCell 'DM004_月休安排不合理导致的加班成本(考勤月)'.P110>)\n",
      "(<ReadOnlyCell 'DM004_月休安排不合理导致的加班成本(考勤月)'.A111>, <ReadOnlyCell 'DM004_月休安排不合理导致的加班成本(考勤月)'.B111>, <EmptyCell>, <EmptyCell>, <EmptyCell>, <ReadOnlyCell 'DM004_月休安排不合理导致的加班成本(考勤月)'.F111>, <ReadOnlyCell 'DM004_月休安排不合理导致的加班成本(考勤月)'.G111>, <ReadOnlyCell 'DM004_月休安排不合理导致的加班成本(考勤月)'.H111>, <ReadOnlyCell 'DM004_月休安排不合理导致的加班成本(考勤月)'.I111>, <ReadOnlyCell 'DM004_月休安排不合理导致的加班成本(考勤月)'.J111>, <ReadOnlyCell 'DM004_月休安排不合理导致的加班成本(考勤月)'.K111>, <ReadOnlyCell 'DM004_月休安排不合理导致的加班成本(考勤月)'.L111>, <ReadOnlyCell 'DM004_月休安排不合理导致的加班成本(考勤月)'.M111>, <ReadOnlyCell 'DM004_月休安排不合理导致的加班成本(考勤月)'.N111>, <ReadOnlyCell 'DM004_月休安排不合理导致的加班成本(考勤月)'.O111>, <ReadOnlyCell 'DM004_月休安排不合理导致的加班成本(考勤月)'.P111>)\n",
      "(<ReadOnlyCell 'DM004_月休安排不合理导致的加班成本(考勤月)'.A112>, <ReadOnlyCell 'DM004_月休安排不合理导致的加班成本(考勤月)'.B112>, <EmptyCell>, <EmptyCell>, <EmptyCell>, <ReadOnlyCell 'DM004_月休安排不合理导致的加班成本(考勤月)'.F112>, <ReadOnlyCell 'DM004_月休安排不合理导致的加班成本(考勤月)'.G112>, <ReadOnlyCell 'DM004_月休安排不合理导致的加班成本(考勤月)'.H112>, <ReadOnlyCell 'DM004_月休安排不合理导致的加班成本(考勤月)'.I112>, <ReadOnlyCell 'DM004_月休安排不合理导致的加班成本(考勤月)'.J112>, <ReadOnlyCell 'DM004_月休安排不合理导致的加班成本(考勤月)'.K112>, <ReadOnlyCell 'DM004_月休安排不合理导致的加班成本(考勤月)'.L112>, <ReadOnlyCell 'DM004_月休安排不合理导致的加班成本(考勤月)'.M112>, <ReadOnlyCell 'DM004_月休安排不合理导致的加班成本(考勤月)'.N112>, <ReadOnlyCell 'DM004_月休安排不合理导致的加班成本(考勤月)'.O112>, <ReadOnlyCell 'DM004_月休安排不合理导致的加班成本(考勤月)'.P112>)\n",
      "(<ReadOnlyCell 'DM004_月休安排不合理导致的加班成本(考勤月)'.A113>, <ReadOnlyCell 'DM004_月休安排不合理导致的加班成本(考勤月)'.B113>, <EmptyCell>, <EmptyCell>, <EmptyCell>, <ReadOnlyCell 'DM004_月休安排不合理导致的加班成本(考勤月)'.F113>, <ReadOnlyCell 'DM004_月休安排不合理导致的加班成本(考勤月)'.G113>, <ReadOnlyCell 'DM004_月休安排不合理导致的加班成本(考勤月)'.H113>, <ReadOnlyCell 'DM004_月休安排不合理导致的加班成本(考勤月)'.I113>, <ReadOnlyCell 'DM004_月休安排不合理导致的加班成本(考勤月)'.J113>, <ReadOnlyCell 'DM004_月休安排不合理导致的加班成本(考勤月)'.K113>, <ReadOnlyCell 'DM004_月休安排不合理导致的加班成本(考勤月)'.L113>, <ReadOnlyCell 'DM004_月休安排不合理导致的加班成本(考勤月)'.M113>, <ReadOnlyCell 'DM004_月休安排不合理导致的加班成本(考勤月)'.N113>, <ReadOnlyCell 'DM004_月休安排不合理导致的加班成本(考勤月)'.O113>, <ReadOnlyCell 'DM004_月休安排不合理导致的加班成本(考勤月)'.P113>)\n",
      "(<ReadOnlyCell 'DM004_月休安排不合理导致的加班成本(考勤月)'.A114>, <ReadOnlyCell 'DM004_月休安排不合理导致的加班成本(考勤月)'.B114>, <EmptyCell>, <EmptyCell>, <EmptyCell>, <ReadOnlyCell 'DM004_月休安排不合理导致的加班成本(考勤月)'.F114>, <ReadOnlyCell 'DM004_月休安排不合理导致的加班成本(考勤月)'.G114>, <ReadOnlyCell 'DM004_月休安排不合理导致的加班成本(考勤月)'.H114>, <ReadOnlyCell 'DM004_月休安排不合理导致的加班成本(考勤月)'.I114>, <ReadOnlyCell 'DM004_月休安排不合理导致的加班成本(考勤月)'.J114>, <ReadOnlyCell 'DM004_月休安排不合理导致的加班成本(考勤月)'.K114>, <ReadOnlyCell 'DM004_月休安排不合理导致的加班成本(考勤月)'.L114>, <ReadOnlyCell 'DM004_月休安排不合理导致的加班成本(考勤月)'.M114>, <ReadOnlyCell 'DM004_月休安排不合理导致的加班成本(考勤月)'.N114>, <ReadOnlyCell 'DM004_月休安排不合理导致的加班成本(考勤月)'.O114>, <ReadOnlyCell 'DM004_月休安排不合理导致的加班成本(考勤月)'.P114>)\n",
      "(<ReadOnlyCell 'DM004_月休安排不合理导致的加班成本(考勤月)'.A115>, <ReadOnlyCell 'DM004_月休安排不合理导致的加班成本(考勤月)'.B115>, <EmptyCell>, <EmptyCell>, <EmptyCell>, <ReadOnlyCell 'DM004_月休安排不合理导致的加班成本(考勤月)'.F115>, <ReadOnlyCell 'DM004_月休安排不合理导致的加班成本(考勤月)'.G115>, <ReadOnlyCell 'DM004_月休安排不合理导致的加班成本(考勤月)'.H115>, <ReadOnlyCell 'DM004_月休安排不合理导致的加班成本(考勤月)'.I115>, <ReadOnlyCell 'DM004_月休安排不合理导致的加班成本(考勤月)'.J115>, <ReadOnlyCell 'DM004_月休安排不合理导致的加班成本(考勤月)'.K115>, <ReadOnlyCell 'DM004_月休安排不合理导致的加班成本(考勤月)'.L115>, <ReadOnlyCell 'DM004_月休安排不合理导致的加班成本(考勤月)'.M115>, <ReadOnlyCell 'DM004_月休安排不合理导致的加班成本(考勤月)'.N115>, <ReadOnlyCell 'DM004_月休安排不合理导致的加班成本(考勤月)'.O115>, <ReadOnlyCell 'DM004_月休安排不合理导致的加班成本(考勤月)'.P115>)\n",
      "(<ReadOnlyCell 'DM004_月休安排不合理导致的加班成本(考勤月)'.A116>, <ReadOnlyCell 'DM004_月休安排不合理导致的加班成本(考勤月)'.B116>, <EmptyCell>, <EmptyCell>, <EmptyCell>, <ReadOnlyCell 'DM004_月休安排不合理导致的加班成本(考勤月)'.F116>, <ReadOnlyCell 'DM004_月休安排不合理导致的加班成本(考勤月)'.G116>, <ReadOnlyCell 'DM004_月休安排不合理导致的加班成本(考勤月)'.H116>, <ReadOnlyCell 'DM004_月休安排不合理导致的加班成本(考勤月)'.I116>, <ReadOnlyCell 'DM004_月休安排不合理导致的加班成本(考勤月)'.J116>, <ReadOnlyCell 'DM004_月休安排不合理导致的加班成本(考勤月)'.K116>, <ReadOnlyCell 'DM004_月休安排不合理导致的加班成本(考勤月)'.L116>, <ReadOnlyCell 'DM004_月休安排不合理导致的加班成本(考勤月)'.M116>, <ReadOnlyCell 'DM004_月休安排不合理导致的加班成本(考勤月)'.N116>, <ReadOnlyCell 'DM004_月休安排不合理导致的加班成本(考勤月)'.O116>, <ReadOnlyCell 'DM004_月休安排不合理导致的加班成本(考勤月)'.P116>)\n",
      "(<ReadOnlyCell 'DM004_月休安排不合理导致的加班成本(考勤月)'.A117>, <ReadOnlyCell 'DM004_月休安排不合理导致的加班成本(考勤月)'.B117>, <EmptyCell>, <EmptyCell>, <EmptyCell>, <ReadOnlyCell 'DM004_月休安排不合理导致的加班成本(考勤月)'.F117>, <ReadOnlyCell 'DM004_月休安排不合理导致的加班成本(考勤月)'.G117>, <ReadOnlyCell 'DM004_月休安排不合理导致的加班成本(考勤月)'.H117>, <ReadOnlyCell 'DM004_月休安排不合理导致的加班成本(考勤月)'.I117>, <ReadOnlyCell 'DM004_月休安排不合理导致的加班成本(考勤月)'.J117>, <ReadOnlyCell 'DM004_月休安排不合理导致的加班成本(考勤月)'.K117>, <ReadOnlyCell 'DM004_月休安排不合理导致的加班成本(考勤月)'.L117>, <ReadOnlyCell 'DM004_月休安排不合理导致的加班成本(考勤月)'.M117>, <ReadOnlyCell 'DM004_月休安排不合理导致的加班成本(考勤月)'.N117>, <ReadOnlyCell 'DM004_月休安排不合理导致的加班成本(考勤月)'.O117>, <ReadOnlyCell 'DM004_月休安排不合理导致的加班成本(考勤月)'.P117>)\n",
      "(<ReadOnlyCell 'DM004_月休安排不合理导致的加班成本(考勤月)'.A118>, <ReadOnlyCell 'DM004_月休安排不合理导致的加班成本(考勤月)'.B118>, <EmptyCell>, <EmptyCell>, <EmptyCell>, <ReadOnlyCell 'DM004_月休安排不合理导致的加班成本(考勤月)'.F118>, <ReadOnlyCell 'DM004_月休安排不合理导致的加班成本(考勤月)'.G118>, <ReadOnlyCell 'DM004_月休安排不合理导致的加班成本(考勤月)'.H118>, <ReadOnlyCell 'DM004_月休安排不合理导致的加班成本(考勤月)'.I118>, <ReadOnlyCell 'DM004_月休安排不合理导致的加班成本(考勤月)'.J118>, <ReadOnlyCell 'DM004_月休安排不合理导致的加班成本(考勤月)'.K118>, <ReadOnlyCell 'DM004_月休安排不合理导致的加班成本(考勤月)'.L118>, <ReadOnlyCell 'DM004_月休安排不合理导致的加班成本(考勤月)'.M118>, <ReadOnlyCell 'DM004_月休安排不合理导致的加班成本(考勤月)'.N118>, <ReadOnlyCell 'DM004_月休安排不合理导致的加班成本(考勤月)'.O118>, <ReadOnlyCell 'DM004_月休安排不合理导致的加班成本(考勤月)'.P118>)\n",
      "(<ReadOnlyCell 'DM004_月休安排不合理导致的加班成本(考勤月)'.A119>, <ReadOnlyCell 'DM004_月休安排不合理导致的加班成本(考勤月)'.B119>, <EmptyCell>, <EmptyCell>, <EmptyCell>, <ReadOnlyCell 'DM004_月休安排不合理导致的加班成本(考勤月)'.F119>, <ReadOnlyCell 'DM004_月休安排不合理导致的加班成本(考勤月)'.G119>, <ReadOnlyCell 'DM004_月休安排不合理导致的加班成本(考勤月)'.H119>, <ReadOnlyCell 'DM004_月休安排不合理导致的加班成本(考勤月)'.I119>, <ReadOnlyCell 'DM004_月休安排不合理导致的加班成本(考勤月)'.J119>, <ReadOnlyCell 'DM004_月休安排不合理导致的加班成本(考勤月)'.K119>, <ReadOnlyCell 'DM004_月休安排不合理导致的加班成本(考勤月)'.L119>, <ReadOnlyCell 'DM004_月休安排不合理导致的加班成本(考勤月)'.M119>, <ReadOnlyCell 'DM004_月休安排不合理导致的加班成本(考勤月)'.N119>, <ReadOnlyCell 'DM004_月休安排不合理导致的加班成本(考勤月)'.O119>, <ReadOnlyCell 'DM004_月休安排不合理导致的加班成本(考勤月)'.P119>)\n",
      "(<ReadOnlyCell 'DM004_月休安排不合理导致的加班成本(考勤月)'.A120>, <ReadOnlyCell 'DM004_月休安排不合理导致的加班成本(考勤月)'.B120>, <EmptyCell>, <EmptyCell>, <EmptyCell>, <ReadOnlyCell 'DM004_月休安排不合理导致的加班成本(考勤月)'.F120>, <ReadOnlyCell 'DM004_月休安排不合理导致的加班成本(考勤月)'.G120>, <ReadOnlyCell 'DM004_月休安排不合理导致的加班成本(考勤月)'.H120>, <ReadOnlyCell 'DM004_月休安排不合理导致的加班成本(考勤月)'.I120>, <ReadOnlyCell 'DM004_月休安排不合理导致的加班成本(考勤月)'.J120>, <ReadOnlyCell 'DM004_月休安排不合理导致的加班成本(考勤月)'.K120>, <ReadOnlyCell 'DM004_月休安排不合理导致的加班成本(考勤月)'.L120>, <ReadOnlyCell 'DM004_月休安排不合理导致的加班成本(考勤月)'.M120>, <ReadOnlyCell 'DM004_月休安排不合理导致的加班成本(考勤月)'.N120>, <ReadOnlyCell 'DM004_月休安排不合理导致的加班成本(考勤月)'.O120>, <ReadOnlyCell 'DM004_月休安排不合理导致的加班成本(考勤月)'.P120>)\n",
      "(<ReadOnlyCell 'DM004_月休安排不合理导致的加班成本(考勤月)'.A121>, <ReadOnlyCell 'DM004_月休安排不合理导致的加班成本(考勤月)'.B121>, <EmptyCell>, <EmptyCell>, <EmptyCell>, <ReadOnlyCell 'DM004_月休安排不合理导致的加班成本(考勤月)'.F121>, <ReadOnlyCell 'DM004_月休安排不合理导致的加班成本(考勤月)'.G121>, <ReadOnlyCell 'DM004_月休安排不合理导致的加班成本(考勤月)'.H121>, <ReadOnlyCell 'DM004_月休安排不合理导致的加班成本(考勤月)'.I121>, <ReadOnlyCell 'DM004_月休安排不合理导致的加班成本(考勤月)'.J121>, <ReadOnlyCell 'DM004_月休安排不合理导致的加班成本(考勤月)'.K121>, <ReadOnlyCell 'DM004_月休安排不合理导致的加班成本(考勤月)'.L121>, <ReadOnlyCell 'DM004_月休安排不合理导致的加班成本(考勤月)'.M121>, <ReadOnlyCell 'DM004_月休安排不合理导致的加班成本(考勤月)'.N121>, <ReadOnlyCell 'DM004_月休安排不合理导致的加班成本(考勤月)'.O121>, <ReadOnlyCell 'DM004_月休安排不合理导致的加班成本(考勤月)'.P121>)\n",
      "(<ReadOnlyCell 'DM004_月休安排不合理导致的加班成本(考勤月)'.A122>, <ReadOnlyCell 'DM004_月休安排不合理导致的加班成本(考勤月)'.B122>, <EmptyCell>, <EmptyCell>, <EmptyCell>, <ReadOnlyCell 'DM004_月休安排不合理导致的加班成本(考勤月)'.F122>, <ReadOnlyCell 'DM004_月休安排不合理导致的加班成本(考勤月)'.G122>, <ReadOnlyCell 'DM004_月休安排不合理导致的加班成本(考勤月)'.H122>, <ReadOnlyCell 'DM004_月休安排不合理导致的加班成本(考勤月)'.I122>, <ReadOnlyCell 'DM004_月休安排不合理导致的加班成本(考勤月)'.J122>, <ReadOnlyCell 'DM004_月休安排不合理导致的加班成本(考勤月)'.K122>, <ReadOnlyCell 'DM004_月休安排不合理导致的加班成本(考勤月)'.L122>, <ReadOnlyCell 'DM004_月休安排不合理导致的加班成本(考勤月)'.M122>, <ReadOnlyCell 'DM004_月休安排不合理导致的加班成本(考勤月)'.N122>, <ReadOnlyCell 'DM004_月休安排不合理导致的加班成本(考勤月)'.O122>, <ReadOnlyCell 'DM004_月休安排不合理导致的加班成本(考勤月)'.P122>)\n",
      "(<ReadOnlyCell 'DM004_月休安排不合理导致的加班成本(考勤月)'.A123>, <ReadOnlyCell 'DM004_月休安排不合理导致的加班成本(考勤月)'.B123>, <EmptyCell>, <EmptyCell>, <EmptyCell>, <ReadOnlyCell 'DM004_月休安排不合理导致的加班成本(考勤月)'.F123>, <ReadOnlyCell 'DM004_月休安排不合理导致的加班成本(考勤月)'.G123>, <ReadOnlyCell 'DM004_月休安排不合理导致的加班成本(考勤月)'.H123>, <ReadOnlyCell 'DM004_月休安排不合理导致的加班成本(考勤月)'.I123>, <ReadOnlyCell 'DM004_月休安排不合理导致的加班成本(考勤月)'.J123>, <ReadOnlyCell 'DM004_月休安排不合理导致的加班成本(考勤月)'.K123>, <ReadOnlyCell 'DM004_月休安排不合理导致的加班成本(考勤月)'.L123>, <ReadOnlyCell 'DM004_月休安排不合理导致的加班成本(考勤月)'.M123>, <ReadOnlyCell 'DM004_月休安排不合理导致的加班成本(考勤月)'.N123>, <ReadOnlyCell 'DM004_月休安排不合理导致的加班成本(考勤月)'.O123>, <ReadOnlyCell 'DM004_月休安排不合理导致的加班成本(考勤月)'.P123>)\n",
      "(<ReadOnlyCell 'DM004_月休安排不合理导致的加班成本(考勤月)'.A124>, <ReadOnlyCell 'DM004_月休安排不合理导致的加班成本(考勤月)'.B124>, <EmptyCell>, <EmptyCell>, <EmptyCell>, <ReadOnlyCell 'DM004_月休安排不合理导致的加班成本(考勤月)'.F124>, <ReadOnlyCell 'DM004_月休安排不合理导致的加班成本(考勤月)'.G124>, <ReadOnlyCell 'DM004_月休安排不合理导致的加班成本(考勤月)'.H124>, <ReadOnlyCell 'DM004_月休安排不合理导致的加班成本(考勤月)'.I124>, <ReadOnlyCell 'DM004_月休安排不合理导致的加班成本(考勤月)'.J124>, <ReadOnlyCell 'DM004_月休安排不合理导致的加班成本(考勤月)'.K124>, <ReadOnlyCell 'DM004_月休安排不合理导致的加班成本(考勤月)'.L124>, <ReadOnlyCell 'DM004_月休安排不合理导致的加班成本(考勤月)'.M124>, <ReadOnlyCell 'DM004_月休安排不合理导致的加班成本(考勤月)'.N124>, <ReadOnlyCell 'DM004_月休安排不合理导致的加班成本(考勤月)'.O124>, <ReadOnlyCell 'DM004_月休安排不合理导致的加班成本(考勤月)'.P124>)\n",
      "(<ReadOnlyCell 'DM004_月休安排不合理导致的加班成本(考勤月)'.A125>, <ReadOnlyCell 'DM004_月休安排不合理导致的加班成本(考勤月)'.B125>, <EmptyCell>, <EmptyCell>, <EmptyCell>, <ReadOnlyCell 'DM004_月休安排不合理导致的加班成本(考勤月)'.F125>, <ReadOnlyCell 'DM004_月休安排不合理导致的加班成本(考勤月)'.G125>, <ReadOnlyCell 'DM004_月休安排不合理导致的加班成本(考勤月)'.H125>, <ReadOnlyCell 'DM004_月休安排不合理导致的加班成本(考勤月)'.I125>, <ReadOnlyCell 'DM004_月休安排不合理导致的加班成本(考勤月)'.J125>, <ReadOnlyCell 'DM004_月休安排不合理导致的加班成本(考勤月)'.K125>, <ReadOnlyCell 'DM004_月休安排不合理导致的加班成本(考勤月)'.L125>, <ReadOnlyCell 'DM004_月休安排不合理导致的加班成本(考勤月)'.M125>, <ReadOnlyCell 'DM004_月休安排不合理导致的加班成本(考勤月)'.N125>, <ReadOnlyCell 'DM004_月休安排不合理导致的加班成本(考勤月)'.O125>, <ReadOnlyCell 'DM004_月休安排不合理导致的加班成本(考勤月)'.P125>)\n",
      "(<ReadOnlyCell 'DM004_月休安排不合理导致的加班成本(考勤月)'.A126>, <ReadOnlyCell 'DM004_月休安排不合理导致的加班成本(考勤月)'.B126>, <EmptyCell>, <EmptyCell>, <EmptyCell>, <ReadOnlyCell 'DM004_月休安排不合理导致的加班成本(考勤月)'.F126>, <ReadOnlyCell 'DM004_月休安排不合理导致的加班成本(考勤月)'.G126>, <ReadOnlyCell 'DM004_月休安排不合理导致的加班成本(考勤月)'.H126>, <ReadOnlyCell 'DM004_月休安排不合理导致的加班成本(考勤月)'.I126>, <ReadOnlyCell 'DM004_月休安排不合理导致的加班成本(考勤月)'.J126>, <ReadOnlyCell 'DM004_月休安排不合理导致的加班成本(考勤月)'.K126>, <ReadOnlyCell 'DM004_月休安排不合理导致的加班成本(考勤月)'.L126>, <ReadOnlyCell 'DM004_月休安排不合理导致的加班成本(考勤月)'.M126>, <ReadOnlyCell 'DM004_月休安排不合理导致的加班成本(考勤月)'.N126>, <ReadOnlyCell 'DM004_月休安排不合理导致的加班成本(考勤月)'.O126>, <ReadOnlyCell 'DM004_月休安排不合理导致的加班成本(考勤月)'.P126>)\n",
      "(<ReadOnlyCell 'DM004_月休安排不合理导致的加班成本(考勤月)'.A127>, <ReadOnlyCell 'DM004_月休安排不合理导致的加班成本(考勤月)'.B127>, <EmptyCell>, <EmptyCell>, <EmptyCell>, <ReadOnlyCell 'DM004_月休安排不合理导致的加班成本(考勤月)'.F127>, <ReadOnlyCell 'DM004_月休安排不合理导致的加班成本(考勤月)'.G127>, <ReadOnlyCell 'DM004_月休安排不合理导致的加班成本(考勤月)'.H127>, <ReadOnlyCell 'DM004_月休安排不合理导致的加班成本(考勤月)'.I127>, <ReadOnlyCell 'DM004_月休安排不合理导致的加班成本(考勤月)'.J127>, <ReadOnlyCell 'DM004_月休安排不合理导致的加班成本(考勤月)'.K127>, <ReadOnlyCell 'DM004_月休安排不合理导致的加班成本(考勤月)'.L127>, <ReadOnlyCell 'DM004_月休安排不合理导致的加班成本(考勤月)'.M127>, <ReadOnlyCell 'DM004_月休安排不合理导致的加班成本(考勤月)'.N127>, <ReadOnlyCell 'DM004_月休安排不合理导致的加班成本(考勤月)'.O127>, <ReadOnlyCell 'DM004_月休安排不合理导致的加班成本(考勤月)'.P127>)\n",
      "(<ReadOnlyCell 'DM004_月休安排不合理导致的加班成本(考勤月)'.A128>, <ReadOnlyCell 'DM004_月休安排不合理导致的加班成本(考勤月)'.B128>, <EmptyCell>, <EmptyCell>, <EmptyCell>, <ReadOnlyCell 'DM004_月休安排不合理导致的加班成本(考勤月)'.F128>, <ReadOnlyCell 'DM004_月休安排不合理导致的加班成本(考勤月)'.G128>, <ReadOnlyCell 'DM004_月休安排不合理导致的加班成本(考勤月)'.H128>, <ReadOnlyCell 'DM004_月休安排不合理导致的加班成本(考勤月)'.I128>, <ReadOnlyCell 'DM004_月休安排不合理导致的加班成本(考勤月)'.J128>, <ReadOnlyCell 'DM004_月休安排不合理导致的加班成本(考勤月)'.K128>, <ReadOnlyCell 'DM004_月休安排不合理导致的加班成本(考勤月)'.L128>, <ReadOnlyCell 'DM004_月休安排不合理导致的加班成本(考勤月)'.M128>, <ReadOnlyCell 'DM004_月休安排不合理导致的加班成本(考勤月)'.N128>, <ReadOnlyCell 'DM004_月休安排不合理导致的加班成本(考勤月)'.O128>, <ReadOnlyCell 'DM004_月休安排不合理导致的加班成本(考勤月)'.P128>)\n",
      "(<ReadOnlyCell 'DM004_月休安排不合理导致的加班成本(考勤月)'.A129>, <ReadOnlyCell 'DM004_月休安排不合理导致的加班成本(考勤月)'.B129>, <EmptyCell>, <EmptyCell>, <EmptyCell>, <ReadOnlyCell 'DM004_月休安排不合理导致的加班成本(考勤月)'.F129>, <ReadOnlyCell 'DM004_月休安排不合理导致的加班成本(考勤月)'.G129>, <ReadOnlyCell 'DM004_月休安排不合理导致的加班成本(考勤月)'.H129>, <ReadOnlyCell 'DM004_月休安排不合理导致的加班成本(考勤月)'.I129>, <ReadOnlyCell 'DM004_月休安排不合理导致的加班成本(考勤月)'.J129>, <ReadOnlyCell 'DM004_月休安排不合理导致的加班成本(考勤月)'.K129>, <ReadOnlyCell 'DM004_月休安排不合理导致的加班成本(考勤月)'.L129>, <ReadOnlyCell 'DM004_月休安排不合理导致的加班成本(考勤月)'.M129>, <ReadOnlyCell 'DM004_月休安排不合理导致的加班成本(考勤月)'.N129>, <ReadOnlyCell 'DM004_月休安排不合理导致的加班成本(考勤月)'.O129>, <ReadOnlyCell 'DM004_月休安排不合理导致的加班成本(考勤月)'.P129>)\n",
      "(<ReadOnlyCell 'DM004_月休安排不合理导致的加班成本(考勤月)'.A130>, <ReadOnlyCell 'DM004_月休安排不合理导致的加班成本(考勤月)'.B130>, <EmptyCell>, <EmptyCell>, <EmptyCell>, <ReadOnlyCell 'DM004_月休安排不合理导致的加班成本(考勤月)'.F130>, <ReadOnlyCell 'DM004_月休安排不合理导致的加班成本(考勤月)'.G130>, <ReadOnlyCell 'DM004_月休安排不合理导致的加班成本(考勤月)'.H130>, <ReadOnlyCell 'DM004_月休安排不合理导致的加班成本(考勤月)'.I130>, <ReadOnlyCell 'DM004_月休安排不合理导致的加班成本(考勤月)'.J130>, <ReadOnlyCell 'DM004_月休安排不合理导致的加班成本(考勤月)'.K130>, <ReadOnlyCell 'DM004_月休安排不合理导致的加班成本(考勤月)'.L130>, <ReadOnlyCell 'DM004_月休安排不合理导致的加班成本(考勤月)'.M130>, <ReadOnlyCell 'DM004_月休安排不合理导致的加班成本(考勤月)'.N130>, <ReadOnlyCell 'DM004_月休安排不合理导致的加班成本(考勤月)'.O130>, <ReadOnlyCell 'DM004_月休安排不合理导致的加班成本(考勤月)'.P130>)\n",
      "(<ReadOnlyCell 'DM004_月休安排不合理导致的加班成本(考勤月)'.A131>, <ReadOnlyCell 'DM004_月休安排不合理导致的加班成本(考勤月)'.B131>, <EmptyCell>, <EmptyCell>, <EmptyCell>, <ReadOnlyCell 'DM004_月休安排不合理导致的加班成本(考勤月)'.F131>, <ReadOnlyCell 'DM004_月休安排不合理导致的加班成本(考勤月)'.G131>, <ReadOnlyCell 'DM004_月休安排不合理导致的加班成本(考勤月)'.H131>, <ReadOnlyCell 'DM004_月休安排不合理导致的加班成本(考勤月)'.I131>, <ReadOnlyCell 'DM004_月休安排不合理导致的加班成本(考勤月)'.J131>, <ReadOnlyCell 'DM004_月休安排不合理导致的加班成本(考勤月)'.K131>, <ReadOnlyCell 'DM004_月休安排不合理导致的加班成本(考勤月)'.L131>, <ReadOnlyCell 'DM004_月休安排不合理导致的加班成本(考勤月)'.M131>, <ReadOnlyCell 'DM004_月休安排不合理导致的加班成本(考勤月)'.N131>, <ReadOnlyCell 'DM004_月休安排不合理导致的加班成本(考勤月)'.O131>, <ReadOnlyCell 'DM004_月休安排不合理导致的加班成本(考勤月)'.P131>)\n",
      "(<EmptyCell>, <ReadOnlyCell 'DM004_月休安排不合理导致的加班成本(考勤月)'.B132>, <EmptyCell>, <EmptyCell>, <ReadOnlyCell 'DM004_月休安排不合理导致的加班成本(考勤月)'.E132>, <ReadOnlyCell 'DM004_月休安排不合理导致的加班成本(考勤月)'.F132>, <ReadOnlyCell 'DM004_月休安排不合理导致的加班成本(考勤月)'.G132>, <ReadOnlyCell 'DM004_月休安排不合理导致的加班成本(考勤月)'.H132>, <ReadOnlyCell 'DM004_月休安排不合理导致的加班成本(考勤月)'.I132>, <ReadOnlyCell 'DM004_月休安排不合理导致的加班成本(考勤月)'.J132>, <ReadOnlyCell 'DM004_月休安排不合理导致的加班成本(考勤月)'.K132>, <ReadOnlyCell 'DM004_月休安排不合理导致的加班成本(考勤月)'.L132>, <ReadOnlyCell 'DM004_月休安排不合理导致的加班成本(考勤月)'.M132>, <ReadOnlyCell 'DM004_月休安排不合理导致的加班成本(考勤月)'.N132>, <ReadOnlyCell 'DM004_月休安排不合理导致的加班成本(考勤月)'.O132>, <ReadOnlyCell 'DM004_月休安排不合理导致的加班成本(考勤月)'.P132>)\n",
      "(<ReadOnlyCell 'DM004_月休安排不合理导致的加班成本(考勤月)'.A133>, <ReadOnlyCell 'DM004_月休安排不合理导致的加班成本(考勤月)'.B133>, <EmptyCell>, <EmptyCell>, <ReadOnlyCell 'DM004_月休安排不合理导致的加班成本(考勤月)'.E133>, <ReadOnlyCell 'DM004_月休安排不合理导致的加班成本(考勤月)'.F133>, <ReadOnlyCell 'DM004_月休安排不合理导致的加班成本(考勤月)'.G133>, <ReadOnlyCell 'DM004_月休安排不合理导致的加班成本(考勤月)'.H133>, <ReadOnlyCell 'DM004_月休安排不合理导致的加班成本(考勤月)'.I133>, <ReadOnlyCell 'DM004_月休安排不合理导致的加班成本(考勤月)'.J133>, <ReadOnlyCell 'DM004_月休安排不合理导致的加班成本(考勤月)'.K133>, <ReadOnlyCell 'DM004_月休安排不合理导致的加班成本(考勤月)'.L133>, <ReadOnlyCell 'DM004_月休安排不合理导致的加班成本(考勤月)'.M133>, <ReadOnlyCell 'DM004_月休安排不合理导致的加班成本(考勤月)'.N133>, <ReadOnlyCell 'DM004_月休安排不合理导致的加班成本(考勤月)'.O133>, <ReadOnlyCell 'DM004_月休安排不合理导致的加班成本(考勤月)'.P133>)\n",
      "(<ReadOnlyCell 'DM004_月休安排不合理导致的加班成本(考勤月)'.A134>, <ReadOnlyCell 'DM004_月休安排不合理导致的加班成本(考勤月)'.B134>, <EmptyCell>, <EmptyCell>, <ReadOnlyCell 'DM004_月休安排不合理导致的加班成本(考勤月)'.E134>, <ReadOnlyCell 'DM004_月休安排不合理导致的加班成本(考勤月)'.F134>, <ReadOnlyCell 'DM004_月休安排不合理导致的加班成本(考勤月)'.G134>, <ReadOnlyCell 'DM004_月休安排不合理导致的加班成本(考勤月)'.H134>, <ReadOnlyCell 'DM004_月休安排不合理导致的加班成本(考勤月)'.I134>, <ReadOnlyCell 'DM004_月休安排不合理导致的加班成本(考勤月)'.J134>, <ReadOnlyCell 'DM004_月休安排不合理导致的加班成本(考勤月)'.K134>, <ReadOnlyCell 'DM004_月休安排不合理导致的加班成本(考勤月)'.L134>, <ReadOnlyCell 'DM004_月休安排不合理导致的加班成本(考勤月)'.M134>, <ReadOnlyCell 'DM004_月休安排不合理导致的加班成本(考勤月)'.N134>, <ReadOnlyCell 'DM004_月休安排不合理导致的加班成本(考勤月)'.O134>, <ReadOnlyCell 'DM004_月休安排不合理导致的加班成本(考勤月)'.P134>)\n",
      "(<EmptyCell>, <EmptyCell>, <EmptyCell>, <EmptyCell>, <EmptyCell>, <EmptyCell>, <EmptyCell>, <EmptyCell>, <EmptyCell>, <EmptyCell>, <EmptyCell>, <EmptyCell>, <EmptyCell>, <EmptyCell>, <EmptyCell>, <EmptyCell>)\n",
      "(<EmptyCell>, <ReadOnlyCell 'DM004_月休安排不合理导致的加班成本(考勤月)'.B136>, <EmptyCell>, <EmptyCell>, <ReadOnlyCell 'DM004_月休安排不合理导致的加班成本(考勤月)'.E136>, <EmptyCell>, <EmptyCell>, <EmptyCell>, <EmptyCell>, <EmptyCell>, <EmptyCell>, <EmptyCell>, <EmptyCell>, <EmptyCell>, <EmptyCell>, <EmptyCell>)\n",
      "(<ReadOnlyCell 'DM004_月休安排不合理导致的加班成本(考勤月)'.A137>, <ReadOnlyCell 'DM004_月休安排不合理导致的加班成本(考勤月)'.B137>, <EmptyCell>, <EmptyCell>, <EmptyCell>, <EmptyCell>, <EmptyCell>, <EmptyCell>, <EmptyCell>, <EmptyCell>, <EmptyCell>, <EmptyCell>, <EmptyCell>, <EmptyCell>, <EmptyCell>, <EmptyCell>)\n",
      "(<EmptyCell>, <EmptyCell>, <EmptyCell>, <EmptyCell>, <EmptyCell>, <EmptyCell>, <EmptyCell>, <EmptyCell>, <EmptyCell>, <EmptyCell>, <EmptyCell>, <EmptyCell>, <EmptyCell>, <EmptyCell>, <EmptyCell>, <EmptyCell>)\n",
      "(<EmptyCell>, <EmptyCell>, <EmptyCell>, <EmptyCell>, <EmptyCell>, <EmptyCell>, <EmptyCell>, <EmptyCell>, <EmptyCell>, <EmptyCell>, <EmptyCell>, <EmptyCell>, <EmptyCell>, <EmptyCell>, <EmptyCell>, <EmptyCell>)\n",
      "(<EmptyCell>, <EmptyCell>, <EmptyCell>, <EmptyCell>, <ReadOnlyCell 'DM004_月休安排不合理导致的加班成本(考勤月)'.E140>, <EmptyCell>, <EmptyCell>, <EmptyCell>, <EmptyCell>, <EmptyCell>, <EmptyCell>, <EmptyCell>, <EmptyCell>, <EmptyCell>, <EmptyCell>, <EmptyCell>)\n"
     ]
    }
   ],
   "source": [
    "# 获取所有行\n",
    "for i in sheet.rows:\n",
    "    print(i)"
   ]
  },
  {
   "cell_type": "code",
   "execution_count": null,
   "metadata": {
    "pycharm": {
     "is_executing": true,
     "name": "#%%\n"
    }
   },
   "outputs": [],
   "source": [
    "# 可以直接赋值\n",
    "sheet['A132'] = '哈喽'\n",
    "# cell = sheet[\"A1\"]\n",
    "# cell.value = \"哈喽\"\n",
    "workbook.save('test1.xlsx')"
   ]
  },
  {
   "cell_type": "code",
   "execution_count": null,
   "metadata": {
    "pycharm": {
     "is_executing": true,
     "name": "#%%\n"
    }
   },
   "outputs": [],
   "source": [
    "# * .append()方式:会在表格已有的数据后面，增添这些数(按行插入)\n",
    "data = [['H','s','d'],['d','s','d']]\n",
    "for row in data:\n",
    "    sheet.append(row)\n",
    "workbook.save('test1.xlsx')"
   ]
  },
  {
   "cell_type": "code",
   "execution_count": null,
   "metadata": {
    "pycharm": {
     "is_executing": true
    }
   },
   "outputs": [],
   "source": [
    "for row in range(10):\n",
    "    sheet.append(range(10))\n",
    "#     sheet.cell(row=row,column=row,value=row)\n",
    "workbook.save('test1.xlsx')"
   ]
  },
  {
   "cell_type": "code",
   "execution_count": null,
   "metadata": {
    "pycharm": {
     "is_executing": true,
     "name": "#%%\n"
    }
   },
   "outputs": [],
   "source": [
    "# 在 excel 中输入的公式\n",
    "# =IF(RIGHT(C2,2)=\"cm\",C2,SUBSTITUTE(C2,\"m\",\"\")*100&\"cm\")\n",
    "for i in range(2,15):\n",
    "    sheet['C{}'.format(i)] = '=IF(RIGHT(C{},2)=\"cm\",C{},SUBSTITUTE(C{},\"m\",\"\")*100&\"cm\")'.format(i,i,i)"
   ]
  },
  {
   "cell_type": "code",
   "execution_count": 56,
   "metadata": {
    "pycharm": {
     "name": "#%%\n"
    }
   },
   "outputs": [
    {
     "name": "stdout",
     "output_type": "stream",
     "text": [
      "frozenset({'MIRR', 'ODDLPRICE', 'CUBESET', 'CUBEKPIMEMBER', 'TRUE ADDRESS', 'VARA', 'TEXT', 'IMSIN', 'DSTDEVP', 'N', 'FISHER', 'POWER', 'FIXED', 'HEX2DEC', 'MODE', 'SEARCHB', 'CUBEMEMBER', 'COS', 'HEX2BIN', 'IMREAL', 'NETWORKDAYS', 'REPLACE', 'GESTEP', 'TDIST', 'AREAS', 'ATAN', 'COUPDAYBS', 'CORREL', 'HLOOKUP', 'GROWTH', 'TIMEVALUE', 'PERCENTILE', 'SYD', 'MDURATION', 'SUMXMY2', 'T', 'COUNTIFS', 'ZTEST', 'LN', 'EFFECT', 'IMDIV', 'FLOOR', 'CUMIPMT', 'BINOMDIST', 'CUBEMEMBERPROPERTY', 'IF', 'INFO', 'FREQUENCY', 'BESSELK', 'GEOMEAN', 'IMCOS', 'HARMEAN', 'BESSELY', 'MAXA', 'IMEXP', 'FORECAST', 'COLUMNS', 'TBILLPRICE', 'ACCRINT', 'ISNA', 'HEX2OCT', 'IMLOG2', 'PERMUT', 'ISTEXT', 'RIGHTB', 'AMORLINC', 'COLUMN', 'COUPDAYSNC', 'CODE', 'YEARFRAC', 'LEN', 'COUNTBLANK', 'EVEN', 'WORKDAY.INTL', 'DEC2BIN', 'ROW', 'RADIANS', 'BESSELI', 'AVERAGE', 'COUPDAYS', 'SUMIF', 'OR', 'MINA', 'ROMAN', 'CHIDIST', 'NORMDIST', 'LOG', 'NORMSDIST', 'PERCENTRANK', 'DMIN', 'ASINH', 'NORMSINV', 'EOMONTH', 'ACCRINTM', 'ERFC', 'FDIST', 'IMPOWER', 'REPT', 'GAMMALN', 'COVAR', 'IMSQRT', 'LOOKUP', 'INTRATE', 'YEAR', 'GAMMADIST', 'HOUR', 'LENB', 'YIELD', 'NOW', 'ISO.CEILING', 'FACTDOUBLE', 'OCT2BIN', 'OFFSET', 'SUMSQ', 'PROB', 'VARP', 'PPMT', 'LOG10', 'MOD', 'MEDIAN', 'DB', 'DAVERAGE', 'TBILLEQ', 'BESSELJ', 'DOLLARFR', 'NETWORKDAYS.INTL', 'AVERAGEA', 'COUNTIF', 'PROPER', 'RATE', 'MDETERM', 'ROUNDUP', 'ATANH', 'ASC', 'KURT', 'COMPLEX', 'YIELDMAT', 'RSQ', 'ISLOGICAL', 'VALUE', 'ISERROR', 'PV', 'CHITEST', 'FIND', 'BIN2OCT', 'EXP', 'ERROR.TYPE', 'ODDFYIELD', 'BETAINV', 'MONTH', 'NEGBINOMDIST', 'PRODUCT', 'LCM', 'ISERR', 'ACOS', 'FACT', 'FISHERINV', 'LOGEST', 'LOWER', 'NPV', 'DPRODUCT', 'RANDBETWEEN', 'VDB', 'CHOOSE', 'ISNONTEXT', 'MIDB', 'ODDLYIELD', 'PRICEMAT', 'ISPMT', 'MIN', 'ROUND', 'ROWS', 'WORKDAY ', 'CHAR', 'PHONETIC', 'SLN', 'SIN', 'AMORDEGRC', 'CUBEVALUE', 'DSTDEV', 'SUBSTITUTE', 'RAND', 'TBILLYIELD', 'LARGE', 'RANK', 'ASIN', 'QUOTIENT', 'CLEAN', 'MINVERSE', 'TINV', 'STDEVPA STEYX', 'AVERAGEIF', 'WEEKNUM', 'COUPPCD', 'ACOSH', 'OCT2DEC', 'CONVERT', 'DOLLARDE', 'WEEKDAY', 'PRICE', 'PI', 'SKEW', 'SQRTPI', 'DATEDIF', 'BIN2DEC', 'IMSUM', 'ODD', 'IPMT', 'DATEVALUE', 'DVAR', 'ERF', 'FVSCHEDULE', 'DEGREES', 'LEFT', 'TAN', 'SERIESSUM', 'LINEST', 'DVARP', 'SUBTOTAL', 'SUM', 'MATCH', 'BAHTTEXT', 'ATAN2', 'GAMMAINV', 'GETPIVOTDATA', 'POISSON', 'IMARGUMENT', 'IMAGINARY', 'DAYS360', 'LEFTB', 'ISNUMBER', 'QUARTILE', 'TIME', 'TRUNC', 'EXPONDIST', 'VARPA', 'HYPGEOMDIST', 'TRIMMEAN', 'CONFIDENCE', 'AVEDEV', 'GCD', 'MULTINOMIAL', 'ABS', 'BETADIST', 'VAR', 'IMLN', 'YIELDDISC', 'DELTA', 'SUMIFS', 'MMULT', 'DDB', 'TANH', 'TRIM', 'DMAX', 'XNPV', 'STANDARDIZE', 'DOLLAR', 'INDEX', 'COMBIN', 'DGET', 'JIS', 'COUPNUM', 'SLOPE', 'LOGINV', 'IMABS', 'NOT', 'NPER', 'MINUTE', 'EXACT', 'RTD', 'TREND', 'RECEIVED', 'DATE', 'FV', 'ISREF', 'CUBERANKEDMEMBER', 'DSUM', 'UPPER', 'DEC2OCT', 'CEILING', 'TTEST', 'PMT', 'CRITBINOM', 'EDATE', 'NORMINV', 'SIGN', 'IRR', 'ISODD', 'WEIBULL', 'CHIINV', 'SQRT', 'DCOUNT', 'LOGNORMDIST', 'STDEV STDEVA', 'IMCONJUGATE', 'DCOUNTA', 'DEC2HEX', 'REPLACEB', 'NA', 'HYPERLINK', 'INT', 'CUBESETCOUNT', 'SMALL', 'ISEVEN', 'STDEVP', 'SUMX2MY2', 'ECMA.CEILING', 'PRICEDISC', 'IFERROR', 'COSH', 'RIGHT', 'TYPE', 'INDIRECT', 'DURATION', 'INTERCEPT', 'NOMINAL', 'ROUNDDOWN', 'COUNTA', 'IMSUB', 'FINV', 'SECOND', 'CONCATENATE', 'DAY', 'COUNT', 'SUMX2PY2', 'SUMPRODUCT', 'MID', 'DISC', 'SINH', 'XIRR', 'ODDFPRICE', 'CELL', 'MROUND', 'MAX', 'ISBLANK', 'SEARCH', 'FINDB', 'COUPNCD', 'FTEST', 'VLOOKUP', 'OCT2HEX', 'AVERAGEIFS', 'TODAY', 'TRANSPOSE', 'BIN2HEX', 'IMLOG10', 'AND', 'DEVSQ', 'PEARSON', 'IMPRODUCT', 'CUMPRINC', 'FALSE'})\n"
     ]
    }
   ],
   "source": [
    "# 查看可用公式\n",
    "from openpyxl.utils import FORMULAE\n",
    "print(FORMULAE)"
   ]
  },
  {
   "cell_type": "code",
   "execution_count": null,
   "metadata": {
    "pycharm": {
     "is_executing": true,
     "name": "#%%\n"
    }
   },
   "outputs": [],
   "source": [
    "# * .insert_cols(idx=数字编号, amount=要插入的列数)，插入的位置是在 idx 列数的左侧插 入;\n",
    "# * .insert_rows(idx=数字编号, amount=要插入的行数)，插入的行数是在 idx 行数的下方插 入;\n",
    "sheet.insert_cols(idx=4,amount=2)\n",
    "sheet.insert_rows(idx=5,amount=4)\n",
    "workbook.save('test1.xlsx')"
   ]
  },
  {
   "cell_type": "code",
   "execution_count": null,
   "metadata": {
    "pycharm": {
     "is_executing": true,
     "name": "#%%\n"
    }
   },
   "outputs": [],
   "source": [
    "# * .delete_rows(idx=数字编号, amount=要删除的行数)\n",
    "# * .delete_cols(idx=数字编号, amount=要删除的列数)\n",
    "sheet.delete_cols(idx=1)\n",
    "sheet.delete_rows(idx=1,amount=1)\n",
    "workbook.save('test1.xlsx')"
   ]
  },
  {
   "cell_type": "code",
   "execution_count": null,
   "metadata": {
    "pycharm": {
     "is_executing": true,
     "name": "#%%\n"
    }
   },
   "outputs": [],
   "source": [
    "# * .move_range(\"数据区域\",rows=,cols=):正整数为向下或向右、负整数为向左或向上; # 向左移动两列，向下移动两行 sheet.move_range(\"C1:D4\",rows=2,cols=-1)\n",
    "sheet.move_range('A136:A137',rows=4,cols=4)\n",
    "workbook.save('test1.xlsx')"
   ]
  },
  {
   "cell_type": "code",
   "execution_count": null,
   "metadata": {
    "pycharm": {
     "is_executing": true,
     "name": "#%%\n"
    }
   },
   "outputs": [],
   "source": [
    "# * .create_sheet(\"新的 sheet 名\"):创建一个新的 sheet 表;\n",
    "workbook.create_sheet('new sheet')\n",
    "# workbook.create_sheet(index=0,title='newsheet')\n",
    "workbook.sheetnames\n"
   ]
  },
  {
   "cell_type": "code",
   "execution_count": null,
   "metadata": {
    "pycharm": {
     "is_executing": true,
     "name": "#%%\n"
    }
   },
   "outputs": [],
   "source": [
    "# * .remove(\"sheet 名\"):删除某个 sheet 表;\n",
    "sheet1 = workbook['new sheet']\n",
    "workbook.remove(sheet1)\n",
    "# workbook.remove(workbook['new sheet'])  # 不能直接写表单名字\n",
    "workbook.sheetnames\n",
    "\n",
    "# sheet3 = workbook['noe']  # error"
   ]
  },
  {
   "cell_type": "code",
   "execution_count": null,
   "metadata": {
    "pycharm": {
     "is_executing": true,
     "name": "#%%\n"
    }
   },
   "outputs": [],
   "source": [
    "# .copy_worksheet():复制一个 sheet 表到另外一张 excel 表\n",
    "workbook.copy_worksheet(sheet1)\n",
    "workbook.sheetnames"
   ]
  },
  {
   "cell_type": "code",
   "execution_count": null,
   "metadata": {
    "pycharm": {
     "is_executing": true,
     "name": "#%%\n"
    }
   },
   "outputs": [],
   "source": [
    "# * .title = \"新的 sheet 表名\"\n",
    "sheet4 = workbook['new sheet change']\n",
    "sheet4.title = 'new sheet change11'\n",
    "sheet4.title"
   ]
  },
  {
   "cell_type": "code",
   "execution_count": null,
   "metadata": {
    "pycharm": {
     "is_executing": true,
     "name": "#%%\n"
    }
   },
   "outputs": [],
   "source": [
    "# 创建新表 excel 表格文件\n",
    "from openpyxl import Workbook\n",
    "workbook = Workbook()\n",
    "sheet = workbook.active"
   ]
  },
  {
   "cell_type": "code",
   "execution_count": null,
   "metadata": {
    "pycharm": {
     "is_executing": true,
     "name": "#%%\n"
    }
   },
   "outputs": [],
   "source": [
    "sheet.title\n",
    "sheet.title = 'new hello'\n",
    "sheet.title"
   ]
  },
  {
   "cell_type": "code",
   "execution_count": null,
   "metadata": {
    "pycharm": {
     "is_executing": true,
     "name": "#%%\n"
    }
   },
   "outputs": [],
   "source": [
    "workbook.create_sheet('new1')\n",
    "workbook.sheetnames"
   ]
  },
  {
   "cell_type": "code",
   "execution_count": null,
   "metadata": {
    "pycharm": {
     "is_executing": true,
     "name": "#%%\n"
    }
   },
   "outputs": [],
   "source": [
    "workbook.save(filename='new file.xlsx')"
   ]
  },
  {
   "cell_type": "code",
   "execution_count": null,
   "metadata": {
    "pycharm": {
     "is_executing": true,
     "name": "#%%\n"
    }
   },
   "outputs": [],
   "source": [
    "workbook = load_workbook(filename='test1.xlsx')\n",
    "sheet = workbook.active"
   ]
  },
  {
   "cell_type": "code",
   "execution_count": null,
   "metadata": {
    "pycharm": {
     "is_executing": true,
     "name": "#%%\n"
    }
   },
   "outputs": [],
   "source": [
    "# *.freeze_panes = \"单元格\"\n",
    "sheet.freeze_panes = 'C3' # value:None\\A1\n",
    "# sheet.freeze_panes = sheet['C3'] # value:None\\A1\n",
    "workbook.save(filename='test1.xlsx')"
   ]
  },
  {
   "cell_type": "code",
   "execution_count": 1,
   "metadata": {
    "pycharm": {
     "name": "#%%\n"
    }
   },
   "outputs": [
    {
     "ename": "NameError",
     "evalue": "name 'load_workbook' is not defined",
     "output_type": "error",
     "traceback": [
      "\u001B[0;31m---------------------------------------------------------------------------\u001B[0m",
      "\u001B[0;31mNameError\u001B[0m                                 Traceback (most recent call last)",
      "\u001B[0;32m<ipython-input-1-66e225fc61a3>\u001B[0m in \u001B[0;36m<module>\u001B[0;34m\u001B[0m\n\u001B[1;32m      1\u001B[0m \u001B[0;31m# * .auto_filter.ref = sheet.dimension 给所有字段添加筛选器;\u001B[0m\u001B[0;34m\u001B[0m\u001B[0;34m\u001B[0m\u001B[0;34m\u001B[0m\u001B[0m\n\u001B[1;32m      2\u001B[0m \u001B[0;31m# * .auto_filter.ref = \"A1\" 给 A1 这个格子添加“筛选器”，就是给第一列添加“筛选器”;\u001B[0m\u001B[0;34m\u001B[0m\u001B[0;34m\u001B[0m\u001B[0;34m\u001B[0m\u001B[0m\n\u001B[0;32m----> 3\u001B[0;31m \u001B[0mworkbook\u001B[0m \u001B[0;34m=\u001B[0m \u001B[0mload_workbook\u001B[0m\u001B[0;34m(\u001B[0m\u001B[0mfilename\u001B[0m\u001B[0;34m=\u001B[0m\u001B[0;34m'test1.xlsx'\u001B[0m\u001B[0;34m)\u001B[0m\u001B[0;34m\u001B[0m\u001B[0;34m\u001B[0m\u001B[0m\n\u001B[0m\u001B[1;32m      4\u001B[0m \u001B[0msheet\u001B[0m \u001B[0;34m=\u001B[0m \u001B[0mworkbook\u001B[0m\u001B[0;34m.\u001B[0m\u001B[0mactive\u001B[0m\u001B[0;34m\u001B[0m\u001B[0;34m\u001B[0m\u001B[0m\n\u001B[1;32m      5\u001B[0m \u001B[0msheet\u001B[0m\u001B[0;34m.\u001B[0m\u001B[0mauto_filter\u001B[0m\u001B[0;34m.\u001B[0m\u001B[0mref\u001B[0m \u001B[0;34m=\u001B[0m \u001B[0;34m'G3'\u001B[0m\u001B[0;34m\u001B[0m\u001B[0;34m\u001B[0m\u001B[0m\n",
      "\u001B[0;31mNameError\u001B[0m: name 'load_workbook' is not defined"
     ]
    }
   ],
   "source": [
    "# * .auto_filter.ref = sheet.dimensions 给所有字段添加筛选器;\n",
    "# * .auto_filter.ref = \"A1\" 给 A1 这个格子添加“筛选器”，就是给第一列添加“筛选器”;\n",
    "workbook = load_workbook(filename='test1.xlsx')\n",
    "sheet = workbook.active\n",
    "sheet.auto_filter.ref = 'G3'\n",
    "# sheet.auto_filter.ref = sheet['G3']\n",
    "workbook.save(filename='test1.xlsx')"
   ]
  },
  {
   "cell_type": "code",
   "execution_count": 3,
   "metadata": {
    "pycharm": {
     "name": "#%%\n"
    }
   },
   "outputs": [],
   "source": [
    "# * Font(name=字体名称,size=字体大小,bold=是否加粗,italic=是否斜体,color=字体颜色)\n",
    "from openpyxl.styles import Font\n",
    "from openpyxl.styles import colors\n",
    "from openpyxl import load_workbook\n",
    "workbook = load_workbook(filename='test1.xlsx')\n",
    "sheet = workbook.active\n",
    "cell = sheet['G3']\n",
    "fontformat = Font(name='微软雅黑',size=20,bold=True,italic=True,color='FF0000')\n",
    "# fontformat = Font(name='微软雅黑',size=20,bold=True,italic=True,color=colors.BLUE)  # colors \n",
    "cell.font = fontformat\n",
    "workbook.save(filename='test1.xlsx')"
   ]
  },
  {
   "cell_type": "code",
   "execution_count": 4,
   "metadata": {
    "pycharm": {
     "name": "#%%\n"
    }
   },
   "outputs": [
    {
     "data": {
      "text/plain": "<openpyxl.styles.fonts.Font object>\nParameters:\nname='微软雅黑', charset=None, family=None, b=True, i=True, strike=None, outline=None, shadow=None, condense=None, color=<openpyxl.styles.colors.Color object>\nParameters:\nrgb='00FF0000', indexed=None, auto=None, theme=None, tint=0.0, type='rgb', extend=None, sz=20.0, u=None, vertAlign=None, scheme=None"
     },
     "execution_count": 4,
     "metadata": {},
     "output_type": "execute_result"
    }
   ],
   "source": [
    "font = cell.font\n",
    "font"
   ]
  },
  {
   "cell_type": "code",
   "execution_count": null,
   "metadata": {
    "pycharm": {
     "is_executing": true
    }
   },
   "outputs": [],
   "source": [
    "# * Alignment(horizontal=水平对齐模式,vertical=垂直对齐模式,text_rotation=旋转角度,wrap_text=是否自动换行)\n",
    "# * 水平对齐:‘distributed'，‘justify'，‘center'，‘leftfill'， ‘centerContinuous'，‘right， ‘general';\n",
    "# * 垂直对齐:‘bottom'，‘distributed'，‘justify'，‘center'，‘top';\n",
    "from openpyxl.styles import Alignment\n",
    "from openpyxl import load_workbook\n",
    "workbook = load_workbook(filename='test1.xlsx')\n",
    "sheet = workbook.active\n",
    "cell = sheet['G16']\n",
    "alignmentformat = Alignment(horizontal='center',vertical='center',text_rotation=45,wrap_text=True)\n",
    "cell.alignment = alignmentformat\n",
    "workbook.save(filename='test1.xlsx')"
   ]
  },
  {
   "cell_type": "code",
   "execution_count": null,
   "metadata": {
    "pycharm": {
     "is_executing": true
    }
   },
   "outputs": [],
   "source": [
    "cell.alignment"
   ]
  },
  {
   "cell_type": "code",
   "execution_count": null,
   "metadata": {
    "pycharm": {
     "is_executing": true
    }
   },
   "outputs": [],
   "source": [
    "# * Side(style=边线样式，color=边线颜色)\n",
    "# * Border(left=左边线样式，right=右边线样式，top=上边线样式，bottom=下边线样式)\n",
    "# * style 参数的种类: 'double, 'mediumDashDotDot', 'slantDashDot', 'dashDotDot','dotted','hair', 'mediumDashed, 'dashed', 'dashDot', 'thin', 'mediumDashDot','medium', 'thick'\n",
    "from openpyxl.styles import Side,Border\n",
    "cell = sheet['G17']\n",
    "side1 = Side(style='thin',color='FF0000')\n",
    "side2 = Side(style='thick',color='FF0000')\n",
    "border = Border(left=side1,right=side2,top=side1,bottom=side2)\n",
    "cell.border = border\n",
    "workbook.save(filename='test1.xlsx')"
   ]
  },
  {
   "cell_type": "code",
   "execution_count": null,
   "metadata": {
    "pycharm": {
     "is_executing": true
    }
   },
   "outputs": [],
   "source": [
    "# * PatternFill(fill_type=填充样式，fgColor=填充颜色) \n",
    "# * GradientFill(stop=(渐变颜色 1，渐变颜色 2......))\n",
    "from openpyxl.styles import PatternFill,GradientFill\n",
    "cell = sheet['G18']\n",
    "pattern_fill = PatternFill(fill_type='solid',fgColor='99ccff')\n",
    "cell.fill = pattern_fill\n",
    "cell2 = sheet['G19']\n",
    "gradient_fill = GradientFill(stop=('FFFFFF','99ccff','000000'))\n",
    "cell2.fill = gradient_fill\n",
    "cell.fill,cell2.fill\n",
    "workbook.save('test1.xlsx')"
   ]
  },
  {
   "cell_type": "code",
   "execution_count": null,
   "metadata": {
    "pycharm": {
     "is_executing": true
    }
   },
   "outputs": [],
   "source": [
    "# * .row_dimensions[行编号].height = 行高\n",
    "# * .column_dimensions[列编号].width = 列宽\n",
    "workbook = load_workbook(filename='test1.xlsx')\n",
    "sheet = workbook.active\n",
    "sheet.row_dimensions[1].height = 50\n",
    "sheet.column_dimensions['A'].wideh = 20\n",
    "# 将整个表的行高设置为 50，列宽设置为 30\n",
    "# sheet.row_dimensions.height = 50 \n",
    "# sheet.column_dimensions.width = 30\n",
    "workbook.save('test1.xlsx')"
   ]
  },
  {
   "cell_type": "code",
   "execution_count": null,
   "metadata": {
    "pycharm": {
     "is_executing": true
    }
   },
   "outputs": [],
   "source": [
    "# * .merge_cells(待合并的格子编号)\n",
    "# * .merge_cells(start_row=起始行号，start_column=起始列号，end_row=结束行号， end_column=结束列号)\n",
    "workbook = load_workbook(filename='test1.xlsx')\n",
    "sheet = workbook.active\n",
    "sheet.merge_cells('C1:D2')\n",
    "sheet.merge_cells(start_row=7,start_column=1,end_row=8,end_column=3)\n",
    "workbook.save('test1.xlsx')\n",
    "# 取消合并\n",
    "# * .unmerge_cells(待合并的格子编号)\n",
    "# * .unmerge_cells(start_row=起始行号，start_column=起始列号，end_row=结束行号， end_column=结束列号)"
   ]
  },
  {
   "cell_type": "code",
   "execution_count": null,
   "metadata": {
    "pycharm": {
     "is_executing": true
    }
   },
   "outputs": [],
   "source": [
    "# 单元格和字符串的转换\n",
    "from openpyxl.utils import get_column_letter, column_index_from_string\n",
    "print(get_column_letter(12),get_column_letter(33))\n",
    "print(column_index_from_string('FG'))"
   ]
  },
  {
   "cell_type": "code",
   "execution_count": 2,
   "metadata": {},
   "outputs": [],
   "source": [
    "from openpyxl import Workbook\n",
    "from openpyxl.chart import Reference, Series, PieChart,BarChart,BubbleChart\n",
    "wb = Workbook()\n",
    "ws = wb.active\n",
    "ws.title = 'PieChart'\n",
    "data = [['pie','sold'],['apple',50],['cherry',60],['chocolate',69]]\n",
    "for row in data:\n",
    "    ws.append(row)"
   ]
  },
  {
   "cell_type": "code",
   "execution_count": 3,
   "metadata": {},
   "outputs": [],
   "source": [
    "pie = PieChart()\n",
    "labels = Reference(ws,min_col=1,min_row=2,max_row=5)\n",
    "data = Reference(ws,min_col=2,min_row=2,max_row=5)\n",
    "pie.add_data(data)\n",
    "pie.set_categories(labels)\n",
    "pie.title = 'pie sold by categories'\n",
    "ws.add_chart(pie,'A10')"
   ]
  },
  {
   "cell_type": "code",
   "execution_count": null,
   "metadata": {
    "pycharm": {
     "is_executing": true
    }
   },
   "outputs": [],
   "source": [
    "wb.create_sheet('BarChart')\n",
    "ws = wb['BarChart']\n",
    "rows = [('num','batch 1','batch 2'),(2,10,30),(3,5,6),(5,3,5)]\n",
    "for row in rows:\n",
    "    ws.append(row)"
   ]
  },
  {
   "cell_type": "code",
   "execution_count": null,
   "metadata": {
    "pycharm": {
     "is_executing": true
    }
   },
   "outputs": [],
   "source": [
    "chart1 = BarChart()\n",
    "chart1.type = 'col'  # 表格类型，横和竖\n",
    "chart1.style = 12\n",
    "chart1.title = 'Bar Chart'\n",
    "chart1.y_axis.title = 'Sample length(mm)'\n",
    "chart1.x_axis.title = 'Test Number'\n",
    "\n",
    "cats = Reference(ws,min_col=1,min_row=2,max_row=7)\n",
    "data = Reference(ws,min_col=2,max_col=3,min_row=2,max_row=7)\n",
    "chart1.add_data(data)\n",
    "chart1.set_categories(cats)\n",
    "\n",
    "ws.add_chart(chart1,'A10')"
   ]
  },
  {
   "cell_type": "code",
   "execution_count": null,
   "metadata": {
    "pycharm": {
     "is_executing": true
    }
   },
   "outputs": [],
   "source": [
    "ws = wb.create_sheet('BubbleChart')\n",
    "rows = [('num of products','sales in USD','market share'),(13,3234,53),(13,41355,34),(13,53135,45),(),(11,32344,51),(17,61355,24),(11,57135,35)]\n",
    "for row in rows:\n",
    "    ws.append(row)"
   ]
  },
  {
   "cell_type": "code",
   "execution_count": null,
   "metadata": {
    "pycharm": {
     "is_executing": true
    }
   },
   "outputs": [],
   "source": [
    "chart2 = BubbleChart()\n",
    "chart2.style =18  # 图表类型，第18号类型\n",
    "\n",
    "xvalues = Reference(ws,min_col=1,min_row=2,max_row=5)\n",
    "yvalues = Reference(ws,min_col=2,min_row=2,max_row=5)\n",
    "size = Reference(ws,min_col=3,min_row=2,max_row=5)\n",
    "series1 = Series(values = yvalues,xvalues=xvalues,zvalues=size,title='2014')\n",
    "chart2.series.append(series1)\n",
    "\n",
    "xvalues = Reference(ws,min_col=1,min_row=7,max_row=10)\n",
    "yvalues = Reference(ws,min_col=2,min_row=7,max_row=10)\n",
    "size = Reference(ws,min_col=3,min_row=7,max_row=10)\n",
    "series1 = Series(values = yvalues,xvalues=xvalues,zvalues=size,title='2013')\n",
    "chart2.series.append(series1)\n",
    "\n",
    "ws.add_chart(chart2,'E1')\n",
    "wb.save('Chart.xlsx')\n",
    "\n"
   ]
  },
  {
   "cell_type": "code",
   "execution_count": null,
   "metadata": {
    "pycharm": {
     "is_executing": true
    }
   },
   "outputs": [],
   "source": []
  }
 ],
 "metadata": {
  "kernelspec": {
   "name": "pycharm-f39caa95",
   "language": "python",
   "display_name": "PyCharm (mywork)"
  },
  "language_info": {
   "codemirror_mode": {
    "name": "ipython",
    "version": 3
   },
   "file_extension": ".py",
   "mimetype": "text/x-python",
   "name": "python",
   "nbconvert_exporter": "python",
   "pygments_lexer": "ipython3",
   "version": "3.7.4"
  }
 },
 "nbformat": 4,
 "nbformat_minor": 1
}