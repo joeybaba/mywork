{
 "cells": [
  {
   "cell_type": "markdown",
   "metadata": {
    "collapsed": true,
    "pycharm": {
     "name": "#%% md\n"
    }
   },
   "source": [
    "### 线性判别分析\n",
    "Linear Discriminant Analysis\n",
    "LDA降维"
   ]
  },
  {
   "cell_type": "code",
   "execution_count": 1,
   "outputs": [],
   "source": [
    "import pandas as pd\n"
   ],
   "metadata": {
    "collapsed": false,
    "pycharm": {
     "name": "#%%\n"
    }
   }
  },
  {
   "cell_type": "code",
   "execution_count": 2,
   "outputs": [],
   "source": [
    "feature_dict = {i:label for i,label in zip(range(4),('sepal length in cm',\n",
    "                                                     'sepal width in cm',\n",
    "                                                     'petal length in cm',\n",
    "                                                     'petal width in cm'))}"
   ],
   "metadata": {
    "collapsed": false,
    "pycharm": {
     "name": "#%%\n"
    }
   }
  },
  {
   "cell_type": "code",
   "execution_count": 11,
   "outputs": [
    {
     "data": {
      "text/plain": "   sepal length in cm  sepal width in cm  petal length in cm  \\\n0                 5.1                3.5                 1.4   \n1                 4.9                3.0                 1.4   \n2                 4.7                3.2                 1.3   \n3                 4.6                3.1                 1.5   \n4                 5.0                3.6                 1.4   \n\n   petal width in cm  class label  \n0                0.2  Iris-setosa  \n1                0.2  Iris-setosa  \n2                0.2  Iris-setosa  \n3                0.2  Iris-setosa  \n4                0.2  Iris-setosa  ",
      "text/html": "<div>\n<style scoped>\n    .dataframe tbody tr th:only-of-type {\n        vertical-align: middle;\n    }\n\n    .dataframe tbody tr th {\n        vertical-align: top;\n    }\n\n    .dataframe thead th {\n        text-align: right;\n    }\n</style>\n<table border=\"1\" class=\"dataframe\">\n  <thead>\n    <tr style=\"text-align: right;\">\n      <th></th>\n      <th>sepal length in cm</th>\n      <th>sepal width in cm</th>\n      <th>petal length in cm</th>\n      <th>petal width in cm</th>\n      <th>class label</th>\n    </tr>\n  </thead>\n  <tbody>\n    <tr>\n      <th>0</th>\n      <td>5.1</td>\n      <td>3.5</td>\n      <td>1.4</td>\n      <td>0.2</td>\n      <td>Iris-setosa</td>\n    </tr>\n    <tr>\n      <th>1</th>\n      <td>4.9</td>\n      <td>3.0</td>\n      <td>1.4</td>\n      <td>0.2</td>\n      <td>Iris-setosa</td>\n    </tr>\n    <tr>\n      <th>2</th>\n      <td>4.7</td>\n      <td>3.2</td>\n      <td>1.3</td>\n      <td>0.2</td>\n      <td>Iris-setosa</td>\n    </tr>\n    <tr>\n      <th>3</th>\n      <td>4.6</td>\n      <td>3.1</td>\n      <td>1.5</td>\n      <td>0.2</td>\n      <td>Iris-setosa</td>\n    </tr>\n    <tr>\n      <th>4</th>\n      <td>5.0</td>\n      <td>3.6</td>\n      <td>1.4</td>\n      <td>0.2</td>\n      <td>Iris-setosa</td>\n    </tr>\n  </tbody>\n</table>\n</div>"
     },
     "execution_count": 11,
     "metadata": {},
     "output_type": "execute_result"
    }
   ],
   "source": [
    "# import ssl\n",
    "# ssl._create_default_https_context = ssl._create_unverified_context # 全局取消证书验证\n",
    "\n",
    "# df = pd.io.parsers.read_csv('https://archive.ics.uci.edu/ml/machine-learning-databases/iris/iris.data',\n",
    "#                             header=None, sep=',')\n",
    "df = pd.read_csv('/Users/joey/Documents/PycharmProjects/mywork/dimensionality_reduction_algorithm/iris.data',\n",
    "                 header=None, sep=',')\n",
    "df.columns = [l for i,l in sorted(feature_dict.items())] + ['class label']\n",
    "df.dropna(how='all', inplace=True)\n",
    "df.head()"
   ],
   "metadata": {
    "collapsed": false,
    "pycharm": {
     "name": "#%%\n"
    }
   }
  },
  {
   "cell_type": "code",
   "execution_count": 14,
   "outputs": [
    {
     "data": {
      "text/plain": "array([1, 1, 1, 1, 1, 1, 1, 1, 1, 1, 1, 1, 1, 1, 1, 1, 1, 1, 1, 1, 1, 1,\n       1, 1, 1, 1, 1, 1, 1, 1, 1, 1, 1, 1, 1, 1, 1, 1, 1, 1, 1, 1, 1, 1,\n       1, 1, 1, 1, 1, 1, 2, 2, 2, 2, 2, 2, 2, 2, 2, 2, 2, 2, 2, 2, 2, 2,\n       2, 2, 2, 2, 2, 2, 2, 2, 2, 2, 2, 2, 2, 2, 2, 2, 2, 2, 2, 2, 2, 2,\n       2, 2, 2, 2, 2, 2, 2, 2, 2, 2, 2, 2, 3, 3, 3, 3, 3, 3, 3, 3, 3, 3,\n       3, 3, 3, 3, 3, 3, 3, 3, 3, 3, 3, 3, 3, 3, 3, 3, 3, 3, 3, 3, 3, 3,\n       3, 3, 3, 3, 3, 3, 3, 3, 3, 3, 3, 3, 3, 3, 3, 3, 3, 3])"
     },
     "execution_count": 14,
     "metadata": {},
     "output_type": "execute_result"
    }
   ],
   "source": [
    "# 标签转换\n",
    "from sklearn.preprocessing import LabelEncoder\n",
    "\n",
    "X = df[['sepal length in cm','sepal width in cm','petal length in cm','petal width in cm']].values\n",
    "y = df['class label'].values\n",
    "\n",
    "enc = LabelEncoder()\n",
    "label_encoder = enc.fit(y)\n",
    "y = label_encoder.transform(y) +1\n",
    "y"
   ],
   "metadata": {
    "collapsed": false,
    "pycharm": {
     "name": "#%%\n"
    }
   }
  },
  {
   "cell_type": "code",
   "source": [
    "type(y)"
   ],
   "metadata": {
    "collapsed": false,
    "pycharm": {
     "name": "#%%\n"
    }
   },
   "execution_count": 15,
   "outputs": [
    {
     "data": {
      "text/plain": "numpy.ndarray"
     },
     "execution_count": 15,
     "metadata": {},
     "output_type": "execute_result"
    }
   ]
  },
  {
   "cell_type": "markdown",
   "source": [
    "### 每类的均值\n",
    "分别求三种鸢尾花数据在不同特征维度上的均值向量 mi\n"
   ],
   "metadata": {
    "collapsed": false,
    "pycharm": {
     "name": "#%% md\n"
    }
   }
  },
  {
   "cell_type": "code",
   "execution_count": 16,
   "outputs": [
    {
     "name": "stdout",
     "output_type": "stream",
     "text": [
      "Mean Vector class 1: [5.006 3.418 1.464 0.244]\n",
      "\n",
      "Mean Vector class 2: [5.936 2.77  4.26  1.326]\n",
      "\n",
      "Mean Vector class 3: [6.588 2.974 5.552 2.026]\n",
      "\n"
     ]
    }
   ],
   "source": [
    "import numpy as np\n",
    "np.set_printoptions(precision=4)\n",
    "\n",
    "mean_vectors = []\n",
    "for cl in range(1,4):\n",
    "    mean_vectors.append(np.mean(X[y==cl], axis=0))\n",
    "    print('Mean Vector class %s: %s\\n' % (cl, mean_vectors[cl-1]))\n"
   ],
   "metadata": {
    "collapsed": false,
    "pycharm": {
     "name": "#%%\n"
    }
   }
  },
  {
   "cell_type": "markdown",
   "source": [
    "### 计算两个 4×4 维矩阵：类内散布矩阵和类间散布矩阵"
   ],
   "metadata": {
    "collapsed": false,
    "pycharm": {
     "name": "#%% md\n"
    }
   }
  },
  {
   "cell_type": "code",
   "execution_count": 17,
   "outputs": [
    {
     "name": "stdout",
     "output_type": "stream",
     "text": [
      "within_class Scatter Matrix:\n",
      " [[38.9562 13.683  24.614   5.6556]\n",
      " [13.683  17.035   8.12    4.9132]\n",
      " [24.614   8.12   27.22    6.2536]\n",
      " [ 5.6556  4.9132  6.2536  6.1756]]\n"
     ]
    }
   ],
   "source": [
    "S_W = np.zeros((4, 4))\n",
    "for cl, mv in zip(range(1, 4), mean_vectors):\n",
    "    class_sc_mat = np.zeros((4, 4))\n",
    "    for row in X[y==cl]:\n",
    "        row, mv = row.reshape(4, 1), mv.reshape(4, 1)\n",
    "        class_sc_mat += (row-mv).dot((row-mv).T)\n",
    "    S_W += class_sc_mat\n",
    "print('within_class Scatter Matrix:\\n',S_W)\n",
    "\n"
   ],
   "metadata": {
    "collapsed": false,
    "pycharm": {
     "name": "#%%\n"
    }
   }
  },
  {
   "cell_type": "code",
   "execution_count": null,
   "outputs": [],
   "source": [],
   "metadata": {
    "collapsed": false,
    "pycharm": {
     "name": "#%%\n"
    }
   }
  },
  {
   "cell_type": "markdown",
   "source": [
    "### 类间散布矩阵"
   ],
   "metadata": {
    "collapsed": false
   }
  },
  {
   "cell_type": "code",
   "execution_count": 19,
   "outputs": [
    {
     "data": {
      "text/plain": "array([5.8433, 3.054 , 3.7587, 1.1987])"
     },
     "execution_count": 19,
     "metadata": {},
     "output_type": "execute_result"
    }
   ],
   "source": [
    "overall_mean = np.mean(X, axis=0)\n",
    "overall_mean"
   ],
   "metadata": {
    "collapsed": false,
    "pycharm": {
     "name": "#%%\n"
    }
   }
  },
  {
   "cell_type": "code",
   "execution_count": 27,
   "outputs": [
    {
     "name": "stdout",
     "output_type": "stream",
     "text": [
      "between-class Scatter Matrix:\n",
      " [[ 27.7264  -2.9787  66.7718  30.8044]\n",
      " [ -2.9787   0.32    -7.1733  -3.3093]\n",
      " [ 66.7718  -7.1733 160.8022  74.1842]\n",
      " [ 30.8044  -3.3093  74.1842  34.224 ]]\n"
     ]
    }
   ],
   "source": [
    "S_B = np.zeros((4, 4))\n",
    "for i, mean_vec in enumerate(mean_vectors):\n",
    "    n = X[y==i+1,:].shape[0]\n",
    "    mean_vec = mean_vec.reshape(4, 1)\n",
    "    overall_mean = overall_mean.reshape(4, 1)\n",
    "    S_B = n * (mean_vec - overall_mean).dot((mean_vec - overall_mean).T)\n",
    "\n",
    "print('between-class Scatter Matrix:\\n', S_B)"
   ],
   "metadata": {
    "collapsed": false,
    "pycharm": {
     "name": "#%%\n"
    }
   }
  },
  {
   "cell_type": "markdown",
   "source": [
    "求解矩阵特征值"
   ],
   "metadata": {
    "collapsed": false,
    "pycharm": {
     "name": "#%% md\n"
    }
   }
  },
  {
   "cell_type": "code",
   "execution_count": 35,
   "outputs": [
    {
     "name": "stdout",
     "output_type": "stream",
     "text": [
      "\n",
      "Eigenvector 1 \n",
      "[[-0.9084]\n",
      " [-0.1427]\n",
      " [ 0.2208]\n",
      " [ 0.3252]]\n",
      "\n",
      "Eigenvector 1 \n",
      "0.00e+00\n",
      "\n",
      "Eigenvector 2 \n",
      "[[-0.2007]\n",
      " [-0.3343]\n",
      " [ 0.5172]\n",
      " [ 0.7618]]\n",
      "\n",
      "Eigenvector 2 \n",
      "1.15e+01\n",
      "\n",
      "Eigenvector 3 \n",
      "[[ 0.1138]\n",
      " [ 0.9894]\n",
      " [ 0.0351]\n",
      " [-0.0827]]\n",
      "\n",
      "Eigenvector 3 \n",
      "-2.74e-16\n",
      "\n",
      "Eigenvector 4 \n",
      "[[ 0.3479]\n",
      " [-0.8682]\n",
      " [-0.2819]\n",
      " [ 0.2138]]\n",
      "\n",
      "Eigenvector 4 \n",
      "9.90e-16\n"
     ]
    },
    {
     "data": {
      "text/plain": "(array([ 0.0000e+00,  1.1502e+01, -2.7445e-16,  9.9015e-16]),\n array([[-0.9084, -0.2007,  0.1138,  0.3479],\n        [-0.1427, -0.3343,  0.9894, -0.8682],\n        [ 0.2208,  0.5172,  0.0351, -0.2819],\n        [ 0.3252,  0.7618, -0.0827,  0.2138]]))"
     },
     "execution_count": 35,
     "metadata": {},
     "output_type": "execute_result"
    }
   ],
   "source": [
    "# 矩阵的逆 和 求解特征值\n",
    "# eig：矩阵特征\n",
    "eig_vals, eig_vecs = np.linalg.eig(np.linalg.inv(S_W).dot(S_B))\n",
    "\n",
    "for i in range(len(eig_vals)):\n",
    "    eigvec_sc = eig_vecs[:,i].reshape(4, 1)\n",
    "    print('\\nEigenvector {} \\n{}'.format(i+1, eigvec_sc.real))\n",
    "    print('\\nEigenvector {:} \\n{:.2e}'.format(i+1, eig_vals[i].real))\n",
    "\n",
    "\n",
    "eig_vals, eig_vecs"
   ],
   "metadata": {
    "collapsed": false,
    "pycharm": {
     "name": "#%%\n"
    }
   }
  },
  {
   "cell_type": "markdown",
   "source": [
    "### 特征值与特征向量：\n",
    "- 特征向量：表示映射方向\n",
    "- 特征值：特征向量的重要程度"
   ],
   "metadata": {
    "collapsed": false,
    "pycharm": {
     "name": "#%% md\n"
    }
   }
  },
  {
   "cell_type": "code",
   "execution_count": 36,
   "outputs": [
    {
     "data": {
      "text/plain": "[(0.0, array([-0.9084, -0.1427,  0.2208,  0.3252])),\n (11.502068480519963, array([-0.2007, -0.3343,  0.5172,  0.7618])),\n (2.744510404414751e-16, array([ 0.1138,  0.9894,  0.0351, -0.0827])),\n (9.901521697396263e-16, array([ 0.3479, -0.8682, -0.2819,  0.2138]))]"
     },
     "execution_count": 36,
     "metadata": {},
     "output_type": "execute_result"
    }
   ],
   "source": [
    "# Make a list of （eigenvalue, eigenvector） tuples\n",
    "eig_pairs = [(np.abs(eig_vals[i]), eig_vecs[:,i]) for i in range(len(eig_vals))]\n",
    "eig_pairs\n"
   ],
   "metadata": {
    "collapsed": false,
    "pycharm": {
     "name": "#%%\n"
    }
   }
  },
  {
   "cell_type": "code",
   "execution_count": 42,
   "outputs": [
    {
     "name": "stdout",
     "output_type": "stream",
     "text": [
      "Eigenvalues in decressing order:\n",
      "\n",
      "11.502068480519963\n",
      "9.901521697396263e-16\n",
      "2.744510404414751e-16\n",
      "0.0\n"
     ]
    }
   ],
   "source": [
    "# Sort the (eigenvalue, eigencector) tuples from high to low\n",
    "eig_pairs = sorted(eig_pairs, key=lambda k: k[0], reverse=True)\n",
    "\n",
    "# Visually confirm that the list is correctly sorted by decreasing eigenvalues\n",
    "print('Eigenvalues in decressing order:\\n')\n",
    "for i in eig_pairs:\n",
    "    print(i[0])"
   ],
   "metadata": {
    "collapsed": false,
    "pycharm": {
     "name": "#%%\n"
    }
   }
  },
  {
   "cell_type": "code",
   "execution_count": 48,
   "outputs": [
    {
     "name": "stdout",
     "output_type": "stream",
     "text": [
      "Variance explained:\n",
      "\n",
      "11.502068480519965\n",
      "11.502068480519963\n",
      "eigenvalue 1: 100.00%\n",
      "9.901521697396263e-16\n",
      "eigenvalue 2: 0.00%\n",
      "2.744510404414751e-16\n",
      "eigenvalue 3: 0.00%\n",
      "0.0\n",
      "eigenvalue 4: 0.00%\n"
     ]
    }
   ],
   "source": [
    "# 每个特征值所占的百分比\n",
    "print('Variance explained:\\n')\n",
    "eigv_sum = sum(eig_vals)\n",
    "print(eigv_sum)\n",
    "\n",
    "for i,j in enumerate(eig_pairs):\n",
    "    print('eigenvalue {0:}: {1:.2%}'.format(i+1, (j[0]/eigv_sum).real))"
   ],
   "metadata": {
    "collapsed": false,
    "pycharm": {
     "name": "#%%\n"
    }
   }
  },
  {
   "cell_type": "code",
   "execution_count": 57,
   "outputs": [
    {
     "name": "stdout",
     "output_type": "stream",
     "text": [
      "Matrix W:\n",
      " [[-0.2007  0.3479]\n",
      " [-0.3343 -0.8682]\n",
      " [ 0.5172 -0.2819]\n",
      " [ 0.7618  0.2138]]\n"
     ]
    }
   ],
   "source": [
    "W = np.hstack((eig_pairs[0][1].reshape(4,1), eig_pairs[1][1].reshape(4,1)))\n",
    "print('Matrix W:\\n', W.real)"
   ],
   "metadata": {
    "collapsed": false,
    "pycharm": {
     "name": "#%%\n"
    }
   }
  },
  {
   "cell_type": "code",
   "execution_count": 58,
   "outputs": [
    {
     "data": {
      "text/plain": "array([[-1.3174, -1.6161],\n       [-1.1101, -1.2516],\n       [-1.1885, -1.4666],\n       [-1.0316, -1.4709],\n       [-1.3308, -1.7377],\n       [-1.2038, -1.9008],\n       [-1.1074, -1.6818],\n       [-1.2122, -1.5922],\n       [-0.9763, -1.3387],\n       [-1.168 , -1.3879],\n       [-1.3928, -1.7135],\n       [-1.1203, -1.69  ],\n       [-1.1662, -1.3077],\n       [-1.221 , -1.3972],\n       [-1.7285, -1.7503],\n       [-1.5347, -2.1741],\n       [-1.4107, -1.788 ],\n       [-1.2412, -1.5947],\n       [-1.3068, -1.731 ],\n       [-1.2898, -1.8833],\n       [-1.189 , -1.5094],\n       [-1.1802, -1.7751],\n       [-1.4574, -1.7641],\n       [-0.8668, -1.4628],\n       [-0.9651, -1.7746],\n       [-1.0267, -1.2731],\n       [-1.0081, -1.5777],\n       [-1.2857, -1.6095],\n       [-1.304 , -1.4945],\n       [-1.0334, -1.5512],\n       [-1.02  , -1.4295],\n       [-1.1401, -1.4103],\n       [-1.5625, -2.1518],\n       [-1.6317, -2.0846],\n       [-1.168 , -1.3879],\n       [-1.3005, -1.334 ],\n       [-1.4494, -1.4487],\n       [-1.168 , -1.3879],\n       [-1.0614, -1.3973],\n       [-1.2322, -1.5574],\n       [-1.2729, -1.6013],\n       [-0.7713, -0.7334],\n       [-1.1283, -1.571 ],\n       [-0.8891, -1.6217],\n       [-1.0067, -1.9747],\n       [-1.0138, -1.265 ],\n       [-1.3143, -1.9329],\n       [-1.1167, -1.5296],\n       [-1.3727, -1.7483],\n       [-1.2305, -1.4772],\n       [ 1.0226, -1.3681],\n       [ 1.1158, -1.4991],\n       [ 1.2558, -1.351 ],\n       [ 1.1864, -0.9327],\n       [ 1.2812, -1.1452],\n       [ 1.2377, -1.4381],\n       [ 1.2821, -1.6557],\n       [ 0.6828, -1.0951],\n       [ 1.0753, -1.24  ],\n       [ 1.1373, -1.3348],\n       [ 0.8999, -0.7694],\n       [ 1.1279, -1.4148],\n       [ 0.8909, -0.736 ],\n       [ 1.3036, -1.4207],\n       [ 0.7588, -1.3061],\n       [ 0.9611, -1.3011],\n       [ 1.3432, -1.6038],\n       [ 0.8156, -1.2679],\n       [ 1.4903, -0.7005],\n       [ 0.8953, -1.0861],\n       [ 1.5999, -1.6934],\n       [ 0.8988, -1.158 ],\n       [ 1.5768, -1.0389],\n       [ 1.1846, -1.3767],\n       [ 0.9603, -1.225 ],\n       [ 1.0146, -1.249 ],\n       [ 1.2482, -1.1186],\n       [ 1.5334, -1.3192],\n       [ 1.2964, -1.3778],\n       [ 0.5588, -1.0468],\n       [ 0.8971, -1.0059],\n       [ 0.7692, -0.9991],\n       [ 0.8645, -1.1688],\n       [ 1.7498, -1.3519],\n       [ 1.3834, -1.6734],\n       [ 1.2054, -1.7905],\n       [ 1.1925, -1.3642],\n       [ 1.2327, -0.7671],\n       [ 0.984 , -1.5338],\n       [ 1.1195, -1.1063],\n       [ 1.2168, -1.3273],\n       [ 1.2184, -1.4794],\n       [ 0.9497, -1.1101],\n       [ 0.6961, -0.9735],\n       [ 1.136 , -1.3015],\n       [ 0.9394, -1.5486],\n       [ 1.0491, -1.4404],\n       [ 1.0004, -1.2946],\n       [ 0.5302, -1.0064],\n       [ 1.0308, -1.3254],\n       [ 2.6401, -1.8296],\n       [ 2.0185, -1.3573],\n       [ 2.2234, -1.3482],\n       [ 2.0337, -1.5193],\n       [ 2.3683, -1.5074],\n       [ 2.4851, -1.3715],\n       [ 1.8033, -1.3705],\n       [ 2.195 , -1.3687],\n       [ 2.1906, -1.0892],\n       [ 2.4109, -1.8051],\n       [ 1.787 , -1.5265],\n       [ 2.0015, -1.2049],\n       [ 2.0767, -1.3398],\n       [ 2.1299, -1.1689],\n       [ 2.366 , -1.3372],\n       [ 2.139 , -1.5535],\n       [ 1.9084, -1.5083],\n       [ 2.3255, -2.0381],\n       [ 2.9063, -1.0312],\n       [ 1.789 , -0.911 ],\n       [ 2.2456, -1.4923],\n       [ 1.9979, -1.436 ],\n       [ 2.5074, -1.2126],\n       [ 1.7385, -1.1484],\n       [ 2.0999, -1.6914],\n       [ 1.9596, -1.5794],\n       [ 1.6734, -1.2418],\n       [ 1.6783, -1.4784],\n       [ 2.2756, -1.3335],\n       [ 1.7707, -1.3921],\n       [ 2.1811, -1.1693],\n       [ 1.9778, -1.9267],\n       [ 2.3518, -1.3122],\n       [ 1.5799, -1.3557],\n       [ 1.8694, -1.4139],\n       [ 2.3588, -1.153 ],\n       [ 2.3236, -1.8251],\n       [ 1.895 , -1.63  ],\n       [ 1.6467, -1.485 ],\n       [ 1.9715, -1.3637],\n       [ 2.3436, -1.4255],\n       [ 1.9687, -1.2363],\n       [ 2.0185, -1.3573],\n       [ 2.3691, -1.5834],\n       [ 2.4047, -1.6059],\n       [ 2.094 , -1.2473],\n       [ 1.9333, -0.9815],\n       [ 1.9056, -1.381 ],\n       [ 2.164 , -1.8249],\n       [ 1.8219, -1.6044]])"
     },
     "execution_count": 58,
     "metadata": {},
     "output_type": "execute_result"
    }
   ],
   "source": [
    "# 降维到2维\n",
    "X_lda = X.dot(W)\n",
    "assert X_lda.shape == (150, 2), 'The matrix is not 150x2 dimensional'\n",
    "\n",
    "X_lda"
   ],
   "metadata": {
    "collapsed": false,
    "pycharm": {
     "name": "#%%\n"
    }
   }
  },
  {
   "cell_type": "code",
   "execution_count": 63,
   "outputs": [
    {
     "data": {
      "text/plain": "<Figure size 432x288 with 1 Axes>",
      "image/png": "[encoded data removed]"
     },
     "metadata": {},
     "output_type": "display_data"
    }
   ],
   "source": [
    "from matplotlib import pyplot as plt\n",
    "label_dict = {1: 'Setosa', 2: 'Versicolor', 3:'Virginica'}\n",
    "\n",
    "def plot_step_lda():\n",
    "    plt.style.use('seaborn-white')\n",
    "    ax = plt.subplot(111)\n",
    "    for label,marker,color in zip(\n",
    "        range(1,4),('^', 's', 'o'),('blue', 'red', 'green')):\n",
    "\n",
    "        plt.scatter(x=X_lda[:,0].real[y == label],\n",
    "                y=X_lda[:,1].real[y == label],\n",
    "                marker=marker,\n",
    "                color=color,\n",
    "                alpha=0.5,\n",
    "                label=label_dict[label]\n",
    "                )\n",
    "\n",
    "    plt.xlabel('LD1')\n",
    "    plt.ylabel('LD2')\n",
    "\n",
    "    leg = plt.legend(loc='upper right', fancybox=True)\n",
    "    leg.get_frame().set_alpha(0.5)\n",
    "    plt.title('LDA: Iris projection onto the first 2 linear discriminants')\n",
    "\n",
    "    # hide axis ticks\n",
    "    plt.tick_params(axis=\"both\", which=\"both\", bottom=\"off\", top=\"off\",\n",
    "            labelbottom=\"on\", left=\"off\", right=\"off\", labelleft=\"on\")\n",
    "\n",
    "    # remove axis spines\n",
    "    ax.spines[\"top\"].set_visible(False)\n",
    "    ax.spines[\"right\"].set_visible(False)\n",
    "    ax.spines[\"bottom\"].set_visible(False)\n",
    "    ax.spines[\"left\"].set_visible(False)\n",
    "\n",
    "\n",
    "    plt.grid()\n",
    "    plt.tight_layout\n",
    "    plt.show()\n",
    "\n",
    "plot_step_lda()\n"
   ],
   "metadata": {
    "collapsed": false,
    "pycharm": {
     "name": "#%%\n"
    }
   }
  },
  {
   "cell_type": "code",
   "execution_count": 64,
   "outputs": [],
   "source": [
    "# sklearn 自带LDA\n",
    "from sklearn.discriminant_analysis import LinearDiscriminantAnalysis as LDA\n",
    "\n",
    "sklearn_lda = LDA(n_components=2)\n",
    "X_lda_sklearn = sklearn_lda.fit_transform(X, y)\n"
   ],
   "metadata": {
    "collapsed": false,
    "pycharm": {
     "name": "#%%\n"
    }
   }
  },
  {
   "cell_type": "code",
   "execution_count": 68,
   "outputs": [],
   "source": [
    "label_dict = {1: 'Setosa', 2: 'Versicolor', 3:'Virginica'}\n",
    "\n",
    "def plot_scikit_lda(X, title):\n",
    "    plt.style.use('seaborn-white')\n",
    "    ax = plt.subplot(111)\n",
    "    for label,marker,color in zip(\n",
    "        range(1,4),('^', 's', 'o'),('blue', 'red', 'green')):\n",
    "\n",
    "        plt.scatter(x=X[:,0][y == label],\n",
    "                    y=X[:,1][y == label] * -1, # flip the figure\n",
    "                    marker=marker,\n",
    "                    color=color,\n",
    "                    alpha=0.5,\n",
    "                    label=label_dict[label])\n",
    "\n",
    "    plt.xlabel('LD1')\n",
    "    plt.ylabel('LD2')\n",
    "\n",
    "    leg = plt.legend(loc='upper right', fancybox=True)\n",
    "    leg.get_frame().set_alpha(0.5)\n",
    "    plt.title(title)\n",
    "\n",
    "    # hide axis ticks\n",
    "    plt.tick_params(axis=\"both\", which=\"both\", bottom=\"off\", top=\"off\",\n",
    "            labelbottom=\"on\", left=\"off\", right=\"off\", labelleft=\"on\")\n",
    "\n",
    "    # remove axis spines\n",
    "    ax.spines[\"top\"].set_visible(False)\n",
    "    ax.spines[\"right\"].set_visible(False)\n",
    "    ax.spines[\"bottom\"].set_visible(False)\n",
    "    ax.spines[\"left\"].set_visible(False)\n",
    "\n",
    "    plt.grid()\n",
    "    plt.tight_layout\n",
    "    plt.show()\n",
    "\n"
   ],
   "metadata": {
    "collapsed": false,
    "pycharm": {
     "name": "#%%\n"
    }
   }
  },
  {
   "cell_type": "code",
   "execution_count": 69,
   "outputs": [
    {
     "data": {
      "text/plain": "<Figure size 432x288 with 1 Axes>",
      "image/png": "[encoded data removed]"
     },
     "metadata": {},
     "output_type": "display_data"
    },
    {
     "data": {
      "text/plain": "<Figure size 432x288 with 1 Axes>",
      "image/png": "[encoded data removed]"
     },
     "metadata": {},
     "output_type": "display_data"
    }
   ],
   "source": [
    "plot_step_lda()\n",
    "plot_scikit_lda(X_lda_sklearn, title='Default LDA via scikit-learn')"
   ],
   "metadata": {
    "collapsed": false,
    "pycharm": {
     "name": "#%%\n"
    }
   }
  },
  {
   "cell_type": "code",
   "execution_count": null,
   "outputs": [],
   "source": [
    "\n"
   ],
   "metadata": {
    "collapsed": false,
    "pycharm": {
     "name": "#%%\n"
    }
   }
  }
 ],
 "metadata": {
  "kernelspec": {
   "display_name": "PyCharm (mywork)",
   "language": "python",
   "name": "pycharm-f39caa95"
  },
  "language_info": {
   "codemirror_mode": {
    "name": "ipython",
    "version": 2
   },
   "file_extension": ".py",
   "mimetype": "text/x-python",
   "name": "python",
   "nbconvert_exporter": "python",
   "pygments_lexer": "ipython2",
   "version": "2.7.6"
  }
 },
 "nbformat": 4,
 "nbformat_minor": 0
}