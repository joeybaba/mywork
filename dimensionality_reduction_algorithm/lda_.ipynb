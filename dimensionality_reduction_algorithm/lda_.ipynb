{
 "cells": [
  {
   "cell_type": "markdown",
   "metadata": {
    "collapsed": true,
    "pycharm": {
     "name": "#%% md\n"
    }
   },
   "source": [
    "### 线性判别分析\n",
    "Linear Discriminant Analysis\n",
    "LDA降维"
   ]
  },
  {
   "cell_type": "code",
   "execution_count": 1,
   "outputs": [],
   "source": [
    "import pandas as pd\n"
   ],
   "metadata": {
    "collapsed": false,
    "pycharm": {
     "name": "#%%\n"
    }
   }
  },
  {
   "cell_type": "code",
   "execution_count": 2,
   "outputs": [],
   "source": [
    "feature_dict = {i:label for i,label in zip(range(4),('sepal length in cm',\n",
    "                                                     'sepal width in cm',\n",
    "                                                     'petal length in cm',\n",
    "                                                     'petal width in cm'))}"
   ],
   "metadata": {
    "collapsed": false,
    "pycharm": {
     "name": "#%%\n"
    }
   }
  },
  {
   "cell_type": "code",
   "execution_count": 11,
   "outputs": [
    {
     "data": {
      "text/plain": "   sepal length in cm  sepal width in cm  petal length in cm  \\\n0                 5.1                3.5                 1.4   \n1                 4.9                3.0                 1.4   \n2                 4.7                3.2                 1.3   \n3                 4.6                3.1                 1.5   \n4                 5.0                3.6                 1.4   \n\n   petal width in cm  class label  \n0                0.2  Iris-setosa  \n1                0.2  Iris-setosa  \n2                0.2  Iris-setosa  \n3                0.2  Iris-setosa  \n4                0.2  Iris-setosa  ",
      "text/html": "<div>\n<style scoped>\n    .dataframe tbody tr th:only-of-type {\n        vertical-align: middle;\n    }\n\n    .dataframe tbody tr th {\n        vertical-align: top;\n    }\n\n    .dataframe thead th {\n        text-align: right;\n    }\n</style>\n<table border=\"1\" class=\"dataframe\">\n  <thead>\n    <tr style=\"text-align: right;\">\n      <th></th>\n      <th>sepal length in cm</th>\n      <th>sepal width in cm</th>\n      <th>petal length in cm</th>\n      <th>petal width in cm</th>\n      <th>class label</th>\n    </tr>\n  </thead>\n  <tbody>\n    <tr>\n      <th>0</th>\n      <td>5.1</td>\n      <td>3.5</td>\n      <td>1.4</td>\n      <td>0.2</td>\n      <td>Iris-setosa</td>\n    </tr>\n    <tr>\n      <th>1</th>\n      <td>4.9</td>\n      <td>3.0</td>\n      <td>1.4</td>\n      <td>0.2</td>\n      <td>Iris-setosa</td>\n    </tr>\n    <tr>\n      <th>2</th>\n      <td>4.7</td>\n      <td>3.2</td>\n      <td>1.3</td>\n      <td>0.2</td>\n      <td>Iris-setosa</td>\n    </tr>\n    <tr>\n      <th>3</th>\n      <td>4.6</td>\n      <td>3.1</td>\n      <td>1.5</td>\n      <td>0.2</td>\n      <td>Iris-setosa</td>\n    </tr>\n    <tr>\n      <th>4</th>\n      <td>5.0</td>\n      <td>3.6</td>\n      <td>1.4</td>\n      <td>0.2</td>\n      <td>Iris-setosa</td>\n    </tr>\n  </tbody>\n</table>\n</div>"
     },
     "execution_count": 11,
     "metadata": {},
     "output_type": "execute_result"
    }
   ],
   "source": [
    "# import ssl\n",
    "# ssl._create_default_https_context = ssl._create_unverified_context # 全局取消证书验证\n",
    "\n",
    "# df = pd.io.parsers.read_csv('https://archive.ics.uci.edu/ml/machine-learning-databases/iris/iris.data',\n",
    "#                             header=None, sep=',')\n",
    "df = pd.read_csv('/Users/joey/Documents/PycharmProjects/mywork/dimensionality_reduction_algorithm/iris.data',\n",
    "                 header=None, sep=',')\n",
    "df.columns = [l for i,l in sorted(feature_dict.items())] + ['class label']\n",
    "df.dropna(how='all', inplace=True)\n",
    "df.head()"
   ],
   "metadata": {
    "collapsed": false,
    "pycharm": {
     "name": "#%%\n"
    }
   }
  },
  {
   "cell_type": "code",
   "execution_count": 14,
   "outputs": [
    {
     "data": {
      "text/plain": "array([1, 1, 1, 1, 1, 1, 1, 1, 1, 1, 1, 1, 1, 1, 1, 1, 1, 1, 1, 1, 1, 1,\n       1, 1, 1, 1, 1, 1, 1, 1, 1, 1, 1, 1, 1, 1, 1, 1, 1, 1, 1, 1, 1, 1,\n       1, 1, 1, 1, 1, 1, 2, 2, 2, 2, 2, 2, 2, 2, 2, 2, 2, 2, 2, 2, 2, 2,\n       2, 2, 2, 2, 2, 2, 2, 2, 2, 2, 2, 2, 2, 2, 2, 2, 2, 2, 2, 2, 2, 2,\n       2, 2, 2, 2, 2, 2, 2, 2, 2, 2, 2, 2, 3, 3, 3, 3, 3, 3, 3, 3, 3, 3,\n       3, 3, 3, 3, 3, 3, 3, 3, 3, 3, 3, 3, 3, 3, 3, 3, 3, 3, 3, 3, 3, 3,\n       3, 3, 3, 3, 3, 3, 3, 3, 3, 3, 3, 3, 3, 3, 3, 3, 3, 3])"
     },
     "execution_count": 14,
     "metadata": {},
     "output_type": "execute_result"
    }
   ],
   "source": [
    "# 标签转换\n",
    "from sklearn.preprocessing import LabelEncoder\n",
    "\n",
    "X = df[['sepal length in cm','sepal width in cm','petal length in cm','petal width in cm']].values\n",
    "y = df['class label'].values\n",
    "\n",
    "enc = LabelEncoder()\n",
    "label_encoder = enc.fit(y)\n",
    "y = label_encoder.transform(y) +1\n",
    "y"
   ],
   "metadata": {
    "collapsed": false,
    "pycharm": {
     "name": "#%%\n"
    }
   }
  },
  {
   "cell_type": "code",
   "source": [
    "type(y)"
   ],
   "metadata": {
    "collapsed": false,
    "pycharm": {
     "name": "#%%\n"
    }
   },
   "execution_count": 15,
   "outputs": [
    {
     "data": {
      "text/plain": "numpy.ndarray"
     },
     "execution_count": 15,
     "metadata": {},
     "output_type": "execute_result"
    }
   ]
  },
  {
   "cell_type": "markdown",
   "source": [
    "### 每类的均值\n",
    "分别求三种鸢尾花数据在不同特征维度上的均值向量 mi\n"
   ],
   "metadata": {
    "collapsed": false,
    "pycharm": {
     "name": "#%% md\n"
    }
   }
  },
  {
   "cell_type": "code",
   "execution_count": 16,
   "outputs": [
    {
     "name": "stdout",
     "output_type": "stream",
     "text": [
      "Mean Vector class 1: [5.006 3.418 1.464 0.244]\n",
      "\n",
      "Mean Vector class 2: [5.936 2.77  4.26  1.326]\n",
      "\n",
      "Mean Vector class 3: [6.588 2.974 5.552 2.026]\n",
      "\n"
     ]
    }
   ],
   "source": [
    "import numpy as np\n",
    "np.set_printoptions(precision=4)\n",
    "\n",
    "mean_vectors = []\n",
    "for cl in range(1,4):\n",
    "    mean_vectors.append(np.mean(X[y==cl], axis=0))\n",
    "    print('Mean Vector class %s: %s\\n' % (cl, mean_vectors[cl-1]))\n"
   ],
   "metadata": {
    "collapsed": false,
    "pycharm": {
     "name": "#%%\n"
    }
   }
  },
  {
   "cell_type": "markdown",
   "source": [
    "### 计算两个 4×4 维矩阵：类内散布矩阵和类间散布矩阵"
   ],
   "metadata": {
    "collapsed": false,
    "pycharm": {
     "name": "#%% md\n"
    }
   }
  },
  {
   "cell_type": "code",
   "execution_count": 17,
   "outputs": [
    {
     "name": "stdout",
     "output_type": "stream",
     "text": [
      "within_class Scatter Matrix:\n",
      " [[38.9562 13.683  24.614   5.6556]\n",
      " [13.683  17.035   8.12    4.9132]\n",
      " [24.614   8.12   27.22    6.2536]\n",
      " [ 5.6556  4.9132  6.2536  6.1756]]\n"
     ]
    }
   ],
   "source": [
    "S_W = np.zeros((4, 4))\n",
    "for cl, mv in zip(range(1, 4), mean_vectors):\n",
    "    class_sc_mat = np.zeros((4, 4))\n",
    "    for row in X[y==cl]:\n",
    "        row, mv = row.reshape(4, 1), mv.reshape(4, 1)\n",
    "        class_sc_mat += (row-mv).dot((row-mv).T)\n",
    "    S_W += class_sc_mat\n",
    "print('within_class Scatter Matrix:\\n',S_W)\n",
    "\n"
   ],
   "metadata": {
    "collapsed": false,
    "pycharm": {
     "name": "#%%\n"
    }
   }
  },
  {
   "cell_type": "code",
   "execution_count": null,
   "outputs": [],
   "source": [],
   "metadata": {
    "collapsed": false,
    "pycharm": {
     "name": "#%%\n"
    }
   }
  },
  {
   "cell_type": "markdown",
   "source": [
    "### 类间散布矩阵"
   ],
   "metadata": {
    "collapsed": false
   }
  },
  {
   "cell_type": "code",
   "execution_count": 19,
   "outputs": [
    {
     "data": {
      "text/plain": "array([5.8433, 3.054 , 3.7587, 1.1987])"
     },
     "execution_count": 19,
     "metadata": {},
     "output_type": "execute_result"
    }
   ],
   "source": [
    "overall_mean = np.mean(X, axis=0)\n",
    "overall_mean"
   ],
   "metadata": {
    "collapsed": false,
    "pycharm": {
     "name": "#%%\n"
    }
   }
  },
  {
   "cell_type": "code",
   "execution_count": 27,
   "outputs": [
    {
     "name": "stdout",
     "output_type": "stream",
     "text": [
      "between-class Scatter Matrix:\n",
      " [[ 27.7264  -2.9787  66.7718  30.8044]\n",
      " [ -2.9787   0.32    -7.1733  -3.3093]\n",
      " [ 66.7718  -7.1733 160.8022  74.1842]\n",
      " [ 30.8044  -3.3093  74.1842  34.224 ]]\n"
     ]
    }
   ],
   "source": [
    "S_B = np.zeros((4, 4))\n",
    "for i, mean_vec in enumerate(mean_vectors):\n",
    "    n = X[y==i+1,:].shape[0]\n",
    "    mean_vec = mean_vec.reshape(4, 1)\n",
    "    overall_mean = overall_mean.reshape(4, 1)\n",
    "    S_B = n * (mean_vec - overall_mean).dot((mean_vec - overall_mean).T)\n",
    "\n",
    "print('between-class Scatter Matrix:\\n', S_B)"
   ],
   "metadata": {
    "collapsed": false,
    "pycharm": {
     "name": "#%%\n"
    }
   }
  },
  {
   "cell_type": "markdown",
   "source": [
    "求解矩阵特征值"
   ],
   "metadata": {
    "collapsed": false,
    "pycharm": {
     "name": "#%% md\n"
    }
   }
  },
  {
   "cell_type": "code",
   "execution_count": 35,
   "outputs": [
    {
     "name": "stdout",
     "output_type": "stream",
     "text": [
      "\n",
      "Eigenvector 1 \n",
      "[[-0.9084]\n",
      " [-0.1427]\n",
      " [ 0.2208]\n",
      " [ 0.3252]]\n",
      "\n",
      "Eigenvector 1 \n",
      "0.00e+00\n",
      "\n",
      "Eigenvector 2 \n",
      "[[-0.2007]\n",
      " [-0.3343]\n",
      " [ 0.5172]\n",
      " [ 0.7618]]\n",
      "\n",
      "Eigenvector 2 \n",
      "1.15e+01\n",
      "\n",
      "Eigenvector 3 \n",
      "[[ 0.1138]\n",
      " [ 0.9894]\n",
      " [ 0.0351]\n",
      " [-0.0827]]\n",
      "\n",
      "Eigenvector 3 \n",
      "-2.74e-16\n",
      "\n",
      "Eigenvector 4 \n",
      "[[ 0.3479]\n",
      " [-0.8682]\n",
      " [-0.2819]\n",
      " [ 0.2138]]\n",
      "\n",
      "Eigenvector 4 \n",
      "9.90e-16\n"
     ]
    },
    {
     "data": {
      "text/plain": "(array([ 0.0000e+00,  1.1502e+01, -2.7445e-16,  9.9015e-16]),\n array([[-0.9084, -0.2007,  0.1138,  0.3479],\n        [-0.1427, -0.3343,  0.9894, -0.8682],\n        [ 0.2208,  0.5172,  0.0351, -0.2819],\n        [ 0.3252,  0.7618, -0.0827,  0.2138]]))"
     },
     "execution_count": 35,
     "metadata": {},
     "output_type": "execute_result"
    }
   ],
   "source": [
    "# 矩阵的逆 和 求解特征值\n",
    "# eig：矩阵特征\n",
    "eig_vals, eig_vecs = np.linalg.eig(np.linalg.inv(S_W).dot(S_B))\n",
    "\n",
    "for i in range(len(eig_vals)):\n",
    "    eigvec_sc = eig_vecs[:,i].reshape(4, 1)\n",
    "    print('\\nEigenvector {} \\n{}'.format(i+1, eigvec_sc.real))\n",
    "    print('\\nEigenvector {:} \\n{:.2e}'.format(i+1, eig_vals[i].real))\n",
    "\n",
    "\n",
    "eig_vals, eig_vecs"
   ],
   "metadata": {
    "collapsed": false,
    "pycharm": {
     "name": "#%%\n"
    }
   }
  },
  {
   "cell_type": "markdown",
   "source": [
    "### 特征值与特征向量：\n",
    "- 特征向量：表示映射方向\n",
    "- 特征值：特征向量的重要程度"
   ],
   "metadata": {
    "collapsed": false,
    "pycharm": {
     "name": "#%% md\n"
    }
   }
  },
  {
   "cell_type": "code",
   "execution_count": null,
   "outputs": [],
   "source": [
    "\n"
   ],
   "metadata": {
    "collapsed": false,
    "pycharm": {
     "name": "#%%\n"
    }
   }
  }
 ],
 "metadata": {
  "kernelspec": {
   "display_name": "PyCharm (mywork)",
   "language": "python",
   "name": "pycharm-f39caa95"
  },
  "language_info": {
   "codemirror_mode": {
    "name": "ipython",
    "version": 2
   },
   "file_extension": ".py",
   "mimetype": "text/x-python",
   "name": "python",
   "nbconvert_exporter": "python",
   "pygments_lexer": "ipython2",
   "version": "2.7.6"
  }
 },
 "nbformat": 4,
 "nbformat_minor": 0
}