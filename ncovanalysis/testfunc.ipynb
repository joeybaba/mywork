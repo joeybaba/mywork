{
 "cells": [
  {
   "cell_type": "code",
   "execution_count": 236,
   "metadata": {
    "collapsed": true
   },
   "outputs": [],
   "source": [
    "import pandas as pd\n",
    "import matplotlib.pyplot as plt\n",
    "import matplotlib.font_manager as mfm\n",
    "import os\n",
    "import numpy as np\n",
    "import datetime\n",
    "\n"
   ]
  },
  {
   "cell_type": "code",
   "execution_count": 2,
   "outputs": [],
   "source": [
    "_DXY_DATA_FILE = '/Users/joey/Documents/PycharmProjects/DXY-COVID-19-Data/csv/DXYArea.csv'"
   ],
   "metadata": {
    "collapsed": false,
    "pycharm": {
     "name": "#%%\n"
    }
   }
  },
  {
   "cell_type": "code",
   "source": [
    "raw = pd.read_csv(_DXY_DATA_FILE)\n",
    "raw.head()"
   ],
   "metadata": {
    "collapsed": false,
    "pycharm": {
     "name": "#%%\n"
    }
   },
   "execution_count": 3,
   "outputs": [
    {
     "data": {
      "text/plain": "  continentName continentEnglishName countryName        countryEnglishName  \\\n0           北美洲        North America          美国  United States of America   \n1            欧洲               Europe          英国            United Kingdom   \n2            欧洲               Europe         俄罗斯                    Russia   \n3           南美洲        South America          巴西                    Brazil   \n4            亚洲                 Asia          印度                     India   \n\n  provinceName       provinceEnglishName  province_zipCode  \\\n0           美国  United States of America            971002   \n1           英国            United Kingdom            961007   \n2          俄罗斯                    Russia            964006   \n3           巴西                    Brazil            973003   \n4           印度                     India            953003   \n\n   province_confirmedCount  province_suspectedCount  province_curedCount  \\\n0                  1698581                      0.0               391508   \n1                   267240                      0.0                  539   \n2                   370680                      0.0               142208   \n3                   411821                      0.0               166647   \n4                   151767                      0.0                64426   \n\n   province_deadCount           updateTime cityName cityEnglishName  \\\n0              100276  2020-05-28 10:01:59      NaN             NaN   \n1               37460  2020-05-28 10:01:59      NaN             NaN   \n2                3968  2020-05-28 10:01:59      NaN             NaN   \n3               25598  2020-05-28 10:01:59      NaN             NaN   \n4                4337  2020-05-28 10:01:59      NaN             NaN   \n\n   city_zipCode  city_confirmedCount  city_suspectedCount  city_curedCount  \\\n0           NaN                  NaN                  NaN              NaN   \n1           NaN                  NaN                  NaN              NaN   \n2           NaN                  NaN                  NaN              NaN   \n3           NaN                  NaN                  NaN              NaN   \n4           NaN                  NaN                  NaN              NaN   \n\n   city_deadCount  \n0             NaN  \n1             NaN  \n2             NaN  \n3             NaN  \n4             NaN  ",
      "text/html": "<div>\n<style scoped>\n    .dataframe tbody tr th:only-of-type {\n        vertical-align: middle;\n    }\n\n    .dataframe tbody tr th {\n        vertical-align: top;\n    }\n\n    .dataframe thead th {\n        text-align: right;\n    }\n</style>\n<table border=\"1\" class=\"dataframe\">\n  <thead>\n    <tr style=\"text-align: right;\">\n      <th></th>\n      <th>continentName</th>\n      <th>continentEnglishName</th>\n      <th>countryName</th>\n      <th>countryEnglishName</th>\n      <th>provinceName</th>\n      <th>provinceEnglishName</th>\n      <th>province_zipCode</th>\n      <th>province_confirmedCount</th>\n      <th>province_suspectedCount</th>\n      <th>province_curedCount</th>\n      <th>province_deadCount</th>\n      <th>updateTime</th>\n      <th>cityName</th>\n      <th>cityEnglishName</th>\n      <th>city_zipCode</th>\n      <th>city_confirmedCount</th>\n      <th>city_suspectedCount</th>\n      <th>city_curedCount</th>\n      <th>city_deadCount</th>\n    </tr>\n  </thead>\n  <tbody>\n    <tr>\n      <th>0</th>\n      <td>北美洲</td>\n      <td>North America</td>\n      <td>美国</td>\n      <td>United States of America</td>\n      <td>美国</td>\n      <td>United States of America</td>\n      <td>971002</td>\n      <td>1698581</td>\n      <td>0.0</td>\n      <td>391508</td>\n      <td>100276</td>\n      <td>2020-05-28 10:01:59</td>\n      <td>NaN</td>\n      <td>NaN</td>\n      <td>NaN</td>\n      <td>NaN</td>\n      <td>NaN</td>\n      <td>NaN</td>\n      <td>NaN</td>\n    </tr>\n    <tr>\n      <th>1</th>\n      <td>欧洲</td>\n      <td>Europe</td>\n      <td>英国</td>\n      <td>United Kingdom</td>\n      <td>英国</td>\n      <td>United Kingdom</td>\n      <td>961007</td>\n      <td>267240</td>\n      <td>0.0</td>\n      <td>539</td>\n      <td>37460</td>\n      <td>2020-05-28 10:01:59</td>\n      <td>NaN</td>\n      <td>NaN</td>\n      <td>NaN</td>\n      <td>NaN</td>\n      <td>NaN</td>\n      <td>NaN</td>\n      <td>NaN</td>\n    </tr>\n    <tr>\n      <th>2</th>\n      <td>欧洲</td>\n      <td>Europe</td>\n      <td>俄罗斯</td>\n      <td>Russia</td>\n      <td>俄罗斯</td>\n      <td>Russia</td>\n      <td>964006</td>\n      <td>370680</td>\n      <td>0.0</td>\n      <td>142208</td>\n      <td>3968</td>\n      <td>2020-05-28 10:01:59</td>\n      <td>NaN</td>\n      <td>NaN</td>\n      <td>NaN</td>\n      <td>NaN</td>\n      <td>NaN</td>\n      <td>NaN</td>\n      <td>NaN</td>\n    </tr>\n    <tr>\n      <th>3</th>\n      <td>南美洲</td>\n      <td>South America</td>\n      <td>巴西</td>\n      <td>Brazil</td>\n      <td>巴西</td>\n      <td>Brazil</td>\n      <td>973003</td>\n      <td>411821</td>\n      <td>0.0</td>\n      <td>166647</td>\n      <td>25598</td>\n      <td>2020-05-28 10:01:59</td>\n      <td>NaN</td>\n      <td>NaN</td>\n      <td>NaN</td>\n      <td>NaN</td>\n      <td>NaN</td>\n      <td>NaN</td>\n      <td>NaN</td>\n    </tr>\n    <tr>\n      <th>4</th>\n      <td>亚洲</td>\n      <td>Asia</td>\n      <td>印度</td>\n      <td>India</td>\n      <td>印度</td>\n      <td>India</td>\n      <td>953003</td>\n      <td>151767</td>\n      <td>0.0</td>\n      <td>64426</td>\n      <td>4337</td>\n      <td>2020-05-28 10:01:59</td>\n      <td>NaN</td>\n      <td>NaN</td>\n      <td>NaN</td>\n      <td>NaN</td>\n      <td>NaN</td>\n      <td>NaN</td>\n      <td>NaN</td>\n    </tr>\n  </tbody>\n</table>\n</div>"
     },
     "execution_count": 3,
     "metadata": {},
     "output_type": "execute_result"
    }
   ]
  },
  {
   "cell_type": "code",
   "execution_count": 4,
   "outputs": [
    {
     "data": {
      "text/plain": "continentName               object\ncontinentEnglishName        object\ncountryName                 object\ncountryEnglishName          object\nprovinceName                object\nprovinceEnglishName         object\nprovince_zipCode             int64\nprovince_confirmedCount      int64\nprovince_suspectedCount    float64\nprovince_curedCount          int64\nprovince_deadCount           int64\nupdateTime                  object\ncityName                    object\ncityEnglishName             object\ncity_zipCode               float64\ncity_confirmedCount        float64\ncity_suspectedCount        float64\ncity_curedCount            float64\ncity_deadCount             float64\ndtype: object"
     },
     "execution_count": 4,
     "metadata": {},
     "output_type": "execute_result"
    }
   ],
   "source": [
    "raw.dtypes"
   ],
   "metadata": {
    "collapsed": false,
    "pycharm": {
     "name": "#%%\n"
    }
   }
  },
  {
   "cell_type": "code",
   "execution_count": 74,
   "outputs": [
    {
     "data": {
      "text/plain": "  continentname continentenglishname countryname        countryenglishname  \\\n0           北美洲        North America          美国  United States of America   \n1            欧洲               Europe          英国            United Kingdom   \n2            欧洲               Europe         俄罗斯                    Russia   \n3           南美洲        South America          巴西                    Brazil   \n4            亚洲                 Asia          印度                     India   \n\n  provincename       provinceenglishname  province_zipcode  \\\n0           美国  United States of America            971002   \n1           英国            United Kingdom            961007   \n2          俄罗斯                    Russia            964006   \n3           巴西                    Brazil            973003   \n4           印度                     India            953003   \n\n   province_confirmedcount  province_suspectedcount  province_curedcount  \\\n0                  1698581                      0.0               391508   \n1                   267240                      0.0                  539   \n2                   370680                      0.0               142208   \n3                   411821                      0.0               166647   \n4                   151767                      0.0                64426   \n\n   province_deadcount           updatetime cityname cityenglishname  \\\n0              100276  2020-05-28 10:01:59      NaN             NaN   \n1               37460  2020-05-28 10:01:59      NaN             NaN   \n2                3968  2020-05-28 10:01:59      NaN             NaN   \n3               25598  2020-05-28 10:01:59      NaN             NaN   \n4                4337  2020-05-28 10:01:59      NaN             NaN   \n\n   city_zipcode  city_confirmedcount  city_suspectedcount  city_curedcount  \\\n0           NaN                  NaN                  NaN              NaN   \n1           NaN                  NaN                  NaN              NaN   \n2           NaN                  NaN                  NaN              NaN   \n3           NaN                  NaN                  NaN              NaN   \n4           NaN                  NaN                  NaN              NaN   \n\n   city_deadcount  \n0             NaN  \n1             NaN  \n2             NaN  \n3             NaN  \n4             NaN  ",
      "text/html": "<div>\n<style scoped>\n    .dataframe tbody tr th:only-of-type {\n        vertical-align: middle;\n    }\n\n    .dataframe tbody tr th {\n        vertical-align: top;\n    }\n\n    .dataframe thead th {\n        text-align: right;\n    }\n</style>\n<table border=\"1\" class=\"dataframe\">\n  <thead>\n    <tr style=\"text-align: right;\">\n      <th></th>\n      <th>continentname</th>\n      <th>continentenglishname</th>\n      <th>countryname</th>\n      <th>countryenglishname</th>\n      <th>provincename</th>\n      <th>provinceenglishname</th>\n      <th>province_zipcode</th>\n      <th>province_confirmedcount</th>\n      <th>province_suspectedcount</th>\n      <th>province_curedcount</th>\n      <th>province_deadcount</th>\n      <th>updatetime</th>\n      <th>cityname</th>\n      <th>cityenglishname</th>\n      <th>city_zipcode</th>\n      <th>city_confirmedcount</th>\n      <th>city_suspectedcount</th>\n      <th>city_curedcount</th>\n      <th>city_deadcount</th>\n    </tr>\n  </thead>\n  <tbody>\n    <tr>\n      <th>0</th>\n      <td>北美洲</td>\n      <td>North America</td>\n      <td>美国</td>\n      <td>United States of America</td>\n      <td>美国</td>\n      <td>United States of America</td>\n      <td>971002</td>\n      <td>1698581</td>\n      <td>0.0</td>\n      <td>391508</td>\n      <td>100276</td>\n      <td>2020-05-28 10:01:59</td>\n      <td>NaN</td>\n      <td>NaN</td>\n      <td>NaN</td>\n      <td>NaN</td>\n      <td>NaN</td>\n      <td>NaN</td>\n      <td>NaN</td>\n    </tr>\n    <tr>\n      <th>1</th>\n      <td>欧洲</td>\n      <td>Europe</td>\n      <td>英国</td>\n      <td>United Kingdom</td>\n      <td>英国</td>\n      <td>United Kingdom</td>\n      <td>961007</td>\n      <td>267240</td>\n      <td>0.0</td>\n      <td>539</td>\n      <td>37460</td>\n      <td>2020-05-28 10:01:59</td>\n      <td>NaN</td>\n      <td>NaN</td>\n      <td>NaN</td>\n      <td>NaN</td>\n      <td>NaN</td>\n      <td>NaN</td>\n      <td>NaN</td>\n    </tr>\n    <tr>\n      <th>2</th>\n      <td>欧洲</td>\n      <td>Europe</td>\n      <td>俄罗斯</td>\n      <td>Russia</td>\n      <td>俄罗斯</td>\n      <td>Russia</td>\n      <td>964006</td>\n      <td>370680</td>\n      <td>0.0</td>\n      <td>142208</td>\n      <td>3968</td>\n      <td>2020-05-28 10:01:59</td>\n      <td>NaN</td>\n      <td>NaN</td>\n      <td>NaN</td>\n      <td>NaN</td>\n      <td>NaN</td>\n      <td>NaN</td>\n      <td>NaN</td>\n    </tr>\n    <tr>\n      <th>3</th>\n      <td>南美洲</td>\n      <td>South America</td>\n      <td>巴西</td>\n      <td>Brazil</td>\n      <td>巴西</td>\n      <td>Brazil</td>\n      <td>973003</td>\n      <td>411821</td>\n      <td>0.0</td>\n      <td>166647</td>\n      <td>25598</td>\n      <td>2020-05-28 10:01:59</td>\n      <td>NaN</td>\n      <td>NaN</td>\n      <td>NaN</td>\n      <td>NaN</td>\n      <td>NaN</td>\n      <td>NaN</td>\n      <td>NaN</td>\n    </tr>\n    <tr>\n      <th>4</th>\n      <td>亚洲</td>\n      <td>Asia</td>\n      <td>印度</td>\n      <td>India</td>\n      <td>印度</td>\n      <td>India</td>\n      <td>953003</td>\n      <td>151767</td>\n      <td>0.0</td>\n      <td>64426</td>\n      <td>4337</td>\n      <td>2020-05-28 10:01:59</td>\n      <td>NaN</td>\n      <td>NaN</td>\n      <td>NaN</td>\n      <td>NaN</td>\n      <td>NaN</td>\n      <td>NaN</td>\n      <td>NaN</td>\n    </tr>\n  </tbody>\n</table>\n</div>"
     },
     "execution_count": 74,
     "metadata": {},
     "output_type": "execute_result"
    }
   ],
   "source": [
    "data = raw.rename(columns=lambda x: str.lower(x))\n",
    "data.head()"
   ],
   "metadata": {
    "collapsed": false,
    "pycharm": {
     "name": "#%%\n"
    }
   }
  },
  {
   "cell_type": "code",
   "execution_count": 75,
   "outputs": [
    {
     "data": {
      "text/plain": "183920"
     },
     "execution_count": 75,
     "metadata": {},
     "output_type": "execute_result"
    }
   ],
   "source": [
    "data.shape[0]"
   ],
   "metadata": {
    "collapsed": false,
    "pycharm": {
     "name": "#%%\n"
    }
   }
  },
  {
   "cell_type": "code",
   "execution_count": 76,
   "outputs": [
    {
     "data": {
      "text/plain": "0         False\n1         False\n2         False\n3         False\n4         False\n          ...  \n183915    False\n183916    False\n183917    False\n183918    False\n183919    False\nName: cityname, Length: 183920, dtype: bool"
     },
     "execution_count": 76,
     "metadata": {},
     "output_type": "execute_result"
    }
   ],
   "source": [
    "np.logical_not(data['cityname'].isnull())\n"
   ],
   "metadata": {
    "collapsed": false,
    "pycharm": {
     "name": "#%%\n"
    }
   }
  },
  {
   "cell_type": "code",
   "execution_count": 20,
   "outputs": [
    {
     "data": {
      "text/plain": "0         True\n1         True\n2         True\n3         True\n4         True\n          ... \n183915    True\n183916    True\n183917    True\n183918    True\n183919    True\nName: cityname, Length: 183920, dtype: bool"
     },
     "execution_count": 20,
     "metadata": {},
     "output_type": "execute_result"
    }
   ],
   "source": [
    "data['cityname'].isnull()"
   ],
   "metadata": {
    "collapsed": false,
    "pycharm": {
     "name": "#%%\n"
    }
   }
  },
  {
   "cell_type": "code",
   "execution_count": 78,
   "outputs": [
    {
     "data": {
      "text/plain": "0    NaN\n1    NaN\n2    NaN\n3    NaN\n4    NaN\nName: cityname, dtype: object"
     },
     "execution_count": 78,
     "metadata": {},
     "output_type": "execute_result"
    }
   ],
   "source": [
    "dt = data['cityname'].str.contains('（')\n",
    "dt.head()"
   ],
   "metadata": {
    "collapsed": false,
    "pycharm": {
     "name": "#%%\n"
    }
   }
  },
  {
   "cell_type": "code",
   "execution_count": 81,
   "outputs": [
    {
     "data": {
      "text/plain": "array([['亚洲', 'Asia', '中国', ..., 1.0, 60.0, 0.0],\n       ['亚洲', 'Asia', '中国', ..., 0.0, 71.0, 1.0],\n       ['亚洲', 'Asia', '中国', ..., 0.0, 56.0, 0.0],\n       ...,\n       ['亚洲', 'Asia', '中国', ..., 0.0, 0.0, 0.0],\n       ['亚洲', 'Asia', '中国', ..., 0.0, 0.0, 0.0],\n       ['亚洲', 'Asia', '中国', ..., 0.0, 0.0, 0.0]], dtype=object)"
     },
     "execution_count": 81,
     "metadata": {},
     "output_type": "execute_result"
    }
   ],
   "source": [
    "data[~pd.isnull(dt.values)].values"
   ],
   "metadata": {
    "collapsed": false,
    "pycharm": {
     "name": "#%%\n"
    }
   }
  },
  {
   "cell_type": "code",
   "execution_count": 57,
   "outputs": [
    {
     "data": {
      "text/plain": "array([nan, nan, nan, ..., nan, nan, nan], dtype=object)"
     },
     "execution_count": 57,
     "metadata": {},
     "output_type": "execute_result"
    }
   ],
   "source": [
    "dt.values"
   ],
   "metadata": {
    "collapsed": false,
    "pycharm": {
     "name": "#%%\n"
    }
   }
  },
  {
   "cell_type": "code",
   "execution_count": 68,
   "outputs": [
    {
     "data": {
      "text/plain": "132       False\n133       False\n134       False\n135       False\n136       False\n          ...  \n183784    False\n183786    False\n183787    False\n183788    False\n183789    False\nName: cityname, Length: 85507, dtype: object"
     },
     "execution_count": 68,
     "metadata": {},
     "output_type": "execute_result"
    }
   ],
   "source": [
    "dt[~np.isnan(list(dt))]\n"
   ],
   "metadata": {
    "collapsed": false,
    "pycharm": {
     "name": "#%%\n"
    }
   }
  },
  {
   "cell_type": "code",
   "execution_count": 69,
   "outputs": [
    {
     "ename": "KeyError",
     "evalue": "'city_name'",
     "output_type": "error",
     "traceback": [
      "\u001B[0;31m---------------------------------------------------------------------------\u001B[0m",
      "\u001B[0;31mKeyError\u001B[0m                                  Traceback (most recent call last)",
      "\u001B[0;32m~/Library/Python/3.7/lib/python/site-packages/pandas/core/indexes/base.py\u001B[0m in \u001B[0;36mget_loc\u001B[0;34m(self, key, method, tolerance)\u001B[0m\n\u001B[1;32m   2645\u001B[0m             \u001B[0;32mtry\u001B[0m\u001B[0;34m:\u001B[0m\u001B[0;34m\u001B[0m\u001B[0;34m\u001B[0m\u001B[0m\n\u001B[0;32m-> 2646\u001B[0;31m                 \u001B[0;32mreturn\u001B[0m \u001B[0mself\u001B[0m\u001B[0;34m.\u001B[0m\u001B[0m_engine\u001B[0m\u001B[0;34m.\u001B[0m\u001B[0mget_loc\u001B[0m\u001B[0;34m(\u001B[0m\u001B[0mkey\u001B[0m\u001B[0;34m)\u001B[0m\u001B[0;34m\u001B[0m\u001B[0;34m\u001B[0m\u001B[0m\n\u001B[0m\u001B[1;32m   2647\u001B[0m             \u001B[0;32mexcept\u001B[0m \u001B[0mKeyError\u001B[0m\u001B[0;34m:\u001B[0m\u001B[0;34m\u001B[0m\u001B[0;34m\u001B[0m\u001B[0m\n",
      "\u001B[0;32mpandas/_libs/index.pyx\u001B[0m in \u001B[0;36mpandas._libs.index.IndexEngine.get_loc\u001B[0;34m()\u001B[0m\n",
      "\u001B[0;32mpandas/_libs/index.pyx\u001B[0m in \u001B[0;36mpandas._libs.index.IndexEngine.get_loc\u001B[0;34m()\u001B[0m\n",
      "\u001B[0;32mpandas/_libs/hashtable_class_helper.pxi\u001B[0m in \u001B[0;36mpandas._libs.hashtable.PyObjectHashTable.get_item\u001B[0;34m()\u001B[0m\n",
      "\u001B[0;32mpandas/_libs/hashtable_class_helper.pxi\u001B[0m in \u001B[0;36mpandas._libs.hashtable.PyObjectHashTable.get_item\u001B[0;34m()\u001B[0m\n",
      "\u001B[0;31mKeyError\u001B[0m: 'city_name'",
      "\nDuring handling of the above exception, another exception occurred:\n",
      "\u001B[0;31mKeyError\u001B[0m                                  Traceback (most recent call last)",
      "\u001B[0;32m<ipython-input-69-9f659f1723e2>\u001B[0m in \u001B[0;36m<module>\u001B[0;34m\u001B[0m\n\u001B[0;32m----> 1\u001B[0;31m \u001B[0mdata\u001B[0m\u001B[0;34m[\u001B[0m\u001B[0;34m'city_name'\u001B[0m\u001B[0;34m]\u001B[0m\u001B[0;34m.\u001B[0m\u001B[0misnull\u001B[0m\u001B[0;34m(\u001B[0m\u001B[0;34m)\u001B[0m\u001B[0;34m\u001B[0m\u001B[0;34m\u001B[0m\u001B[0m\n\u001B[0m\u001B[1;32m      2\u001B[0m \u001B[0;34m\u001B[0m\u001B[0m\n\u001B[1;32m      3\u001B[0m \u001B[0;34m\u001B[0m\u001B[0m\n",
      "\u001B[0;32m~/Library/Python/3.7/lib/python/site-packages/pandas/core/frame.py\u001B[0m in \u001B[0;36m__getitem__\u001B[0;34m(self, key)\u001B[0m\n\u001B[1;32m   2798\u001B[0m             \u001B[0;32mif\u001B[0m \u001B[0mself\u001B[0m\u001B[0;34m.\u001B[0m\u001B[0mcolumns\u001B[0m\u001B[0;34m.\u001B[0m\u001B[0mnlevels\u001B[0m \u001B[0;34m>\u001B[0m \u001B[0;36m1\u001B[0m\u001B[0;34m:\u001B[0m\u001B[0;34m\u001B[0m\u001B[0;34m\u001B[0m\u001B[0m\n\u001B[1;32m   2799\u001B[0m                 \u001B[0;32mreturn\u001B[0m \u001B[0mself\u001B[0m\u001B[0;34m.\u001B[0m\u001B[0m_getitem_multilevel\u001B[0m\u001B[0;34m(\u001B[0m\u001B[0mkey\u001B[0m\u001B[0;34m)\u001B[0m\u001B[0;34m\u001B[0m\u001B[0;34m\u001B[0m\u001B[0m\n\u001B[0;32m-> 2800\u001B[0;31m             \u001B[0mindexer\u001B[0m \u001B[0;34m=\u001B[0m \u001B[0mself\u001B[0m\u001B[0;34m.\u001B[0m\u001B[0mcolumns\u001B[0m\u001B[0;34m.\u001B[0m\u001B[0mget_loc\u001B[0m\u001B[0;34m(\u001B[0m\u001B[0mkey\u001B[0m\u001B[0;34m)\u001B[0m\u001B[0;34m\u001B[0m\u001B[0;34m\u001B[0m\u001B[0m\n\u001B[0m\u001B[1;32m   2801\u001B[0m             \u001B[0;32mif\u001B[0m \u001B[0mis_integer\u001B[0m\u001B[0;34m(\u001B[0m\u001B[0mindexer\u001B[0m\u001B[0;34m)\u001B[0m\u001B[0;34m:\u001B[0m\u001B[0;34m\u001B[0m\u001B[0;34m\u001B[0m\u001B[0m\n\u001B[1;32m   2802\u001B[0m                 \u001B[0mindexer\u001B[0m \u001B[0;34m=\u001B[0m \u001B[0;34m[\u001B[0m\u001B[0mindexer\u001B[0m\u001B[0;34m]\u001B[0m\u001B[0;34m\u001B[0m\u001B[0;34m\u001B[0m\u001B[0m\n",
      "\u001B[0;32m~/Library/Python/3.7/lib/python/site-packages/pandas/core/indexes/base.py\u001B[0m in \u001B[0;36mget_loc\u001B[0;34m(self, key, method, tolerance)\u001B[0m\n\u001B[1;32m   2646\u001B[0m                 \u001B[0;32mreturn\u001B[0m \u001B[0mself\u001B[0m\u001B[0;34m.\u001B[0m\u001B[0m_engine\u001B[0m\u001B[0;34m.\u001B[0m\u001B[0mget_loc\u001B[0m\u001B[0;34m(\u001B[0m\u001B[0mkey\u001B[0m\u001B[0;34m)\u001B[0m\u001B[0;34m\u001B[0m\u001B[0;34m\u001B[0m\u001B[0m\n\u001B[1;32m   2647\u001B[0m             \u001B[0;32mexcept\u001B[0m \u001B[0mKeyError\u001B[0m\u001B[0;34m:\u001B[0m\u001B[0;34m\u001B[0m\u001B[0;34m\u001B[0m\u001B[0m\n\u001B[0;32m-> 2648\u001B[0;31m                 \u001B[0;32mreturn\u001B[0m \u001B[0mself\u001B[0m\u001B[0;34m.\u001B[0m\u001B[0m_engine\u001B[0m\u001B[0;34m.\u001B[0m\u001B[0mget_loc\u001B[0m\u001B[0;34m(\u001B[0m\u001B[0mself\u001B[0m\u001B[0;34m.\u001B[0m\u001B[0m_maybe_cast_indexer\u001B[0m\u001B[0;34m(\u001B[0m\u001B[0mkey\u001B[0m\u001B[0;34m)\u001B[0m\u001B[0;34m)\u001B[0m\u001B[0;34m\u001B[0m\u001B[0;34m\u001B[0m\u001B[0m\n\u001B[0m\u001B[1;32m   2649\u001B[0m         \u001B[0mindexer\u001B[0m \u001B[0;34m=\u001B[0m \u001B[0mself\u001B[0m\u001B[0;34m.\u001B[0m\u001B[0mget_indexer\u001B[0m\u001B[0;34m(\u001B[0m\u001B[0;34m[\u001B[0m\u001B[0mkey\u001B[0m\u001B[0;34m]\u001B[0m\u001B[0;34m,\u001B[0m \u001B[0mmethod\u001B[0m\u001B[0;34m=\u001B[0m\u001B[0mmethod\u001B[0m\u001B[0;34m,\u001B[0m \u001B[0mtolerance\u001B[0m\u001B[0;34m=\u001B[0m\u001B[0mtolerance\u001B[0m\u001B[0;34m)\u001B[0m\u001B[0;34m\u001B[0m\u001B[0;34m\u001B[0m\u001B[0m\n\u001B[1;32m   2650\u001B[0m         \u001B[0;32mif\u001B[0m \u001B[0mindexer\u001B[0m\u001B[0;34m.\u001B[0m\u001B[0mndim\u001B[0m \u001B[0;34m>\u001B[0m \u001B[0;36m1\u001B[0m \u001B[0;32mor\u001B[0m \u001B[0mindexer\u001B[0m\u001B[0;34m.\u001B[0m\u001B[0msize\u001B[0m \u001B[0;34m>\u001B[0m \u001B[0;36m1\u001B[0m\u001B[0;34m:\u001B[0m\u001B[0;34m\u001B[0m\u001B[0;34m\u001B[0m\u001B[0m\n",
      "\u001B[0;32mpandas/_libs/index.pyx\u001B[0m in \u001B[0;36mpandas._libs.index.IndexEngine.get_loc\u001B[0;34m()\u001B[0m\n",
      "\u001B[0;32mpandas/_libs/index.pyx\u001B[0m in \u001B[0;36mpandas._libs.index.IndexEngine.get_loc\u001B[0;34m()\u001B[0m\n",
      "\u001B[0;32mpandas/_libs/hashtable_class_helper.pxi\u001B[0m in \u001B[0;36mpandas._libs.hashtable.PyObjectHashTable.get_item\u001B[0;34m()\u001B[0m\n",
      "\u001B[0;32mpandas/_libs/hashtable_class_helper.pxi\u001B[0m in \u001B[0;36mpandas._libs.hashtable.PyObjectHashTable.get_item\u001B[0;34m()\u001B[0m\n",
      "\u001B[0;31mKeyError\u001B[0m: 'city_name'"
     ]
    }
   ],
   "source": [
    "data['city_name'].isnull()"
   ],
   "metadata": {
    "collapsed": false,
    "pycharm": {
     "name": "#%%\n"
    }
   }
  },
  {
   "cell_type": "code",
   "execution_count": null,
   "outputs": [],
   "source": [],
   "metadata": {
    "collapsed": false,
    "pycharm": {
     "name": "#%%\n"
    }
   }
  },
  {
   "cell_type": "code",
   "execution_count": null,
   "outputs": [],
   "source": [],
   "metadata": {
    "collapsed": false,
    "pycharm": {
     "name": "#%%\n"
    }
   }
  },
  {
   "cell_type": "code",
   "execution_count": 232,
   "outputs": [
    {
     "data": {
      "text/plain": "   index continentName continentEnglishName countryName countryEnglishName  \\\n0      0            亚洲                 Asia          中国              China   \n1      1            亚洲                 Asia          中国              China   \n2      2            亚洲                 Asia          中国              China   \n3      3            亚洲                 Asia          中国              China   \n4      4            亚洲                 Asia          中国              China   \n\n  provinceName provinceEnglishName  province_zipCode province_code  \\\n0          福建省              Fujian            350000         CN-35   \n1          福建省              Fujian            350000         CN-35   \n2          福建省              Fujian            350000         CN-35   \n3          福建省              Fujian            350000         CN-35   \n4          福建省              Fujian            350000         CN-35   \n\n   province_confirmedCount  ...  province_curedCount  province_deadCount  \\\n0                      358  ...                  355                   1   \n1                      358  ...                  355                   1   \n2                      358  ...                  355                   1   \n3                      358  ...                  355                   1   \n4                      358  ...                  355                   1   \n\n       updateTime cityName cityEnglishName city_zipCode  city_confirmedCount  \\\n0  5/28/2020 9:06   境外输入人员             NaN          0.0                 62.0   \n1  5/28/2020 9:06       福州          Fuzhou     350100.0                 72.0   \n2  5/28/2020 9:06       莆田          Putian     350300.0                 56.0   \n3  5/28/2020 9:06       泉州        Quanzhou     350500.0                 47.0   \n4  5/28/2020 9:06       厦门          Xiamen     350200.0                 35.0   \n\n   city_suspectedCount  city_curedCount  city_deadCount  \n0                  1.0             60.0             0.0  \n1                  0.0             71.0             1.0  \n2                  0.0             56.0             0.0  \n3                  0.0             47.0             0.0  \n4                  0.0             35.0             0.0  \n\n[5 rows x 21 columns]",
      "text/html": "<div>\n<style scoped>\n    .dataframe tbody tr th:only-of-type {\n        vertical-align: middle;\n    }\n\n    .dataframe tbody tr th {\n        vertical-align: top;\n    }\n\n    .dataframe thead th {\n        text-align: right;\n    }\n</style>\n<table border=\"1\" class=\"dataframe\">\n  <thead>\n    <tr style=\"text-align: right;\">\n      <th></th>\n      <th>index</th>\n      <th>continentName</th>\n      <th>continentEnglishName</th>\n      <th>countryName</th>\n      <th>countryEnglishName</th>\n      <th>provinceName</th>\n      <th>provinceEnglishName</th>\n      <th>province_zipCode</th>\n      <th>province_code</th>\n      <th>province_confirmedCount</th>\n      <th>...</th>\n      <th>province_curedCount</th>\n      <th>province_deadCount</th>\n      <th>updateTime</th>\n      <th>cityName</th>\n      <th>cityEnglishName</th>\n      <th>city_zipCode</th>\n      <th>city_confirmedCount</th>\n      <th>city_suspectedCount</th>\n      <th>city_curedCount</th>\n      <th>city_deadCount</th>\n    </tr>\n  </thead>\n  <tbody>\n    <tr>\n      <th>0</th>\n      <td>0</td>\n      <td>亚洲</td>\n      <td>Asia</td>\n      <td>中国</td>\n      <td>China</td>\n      <td>福建省</td>\n      <td>Fujian</td>\n      <td>350000</td>\n      <td>CN-35</td>\n      <td>358</td>\n      <td>...</td>\n      <td>355</td>\n      <td>1</td>\n      <td>5/28/2020 9:06</td>\n      <td>境外输入人员</td>\n      <td>NaN</td>\n      <td>0.0</td>\n      <td>62.0</td>\n      <td>1.0</td>\n      <td>60.0</td>\n      <td>0.0</td>\n    </tr>\n    <tr>\n      <th>1</th>\n      <td>1</td>\n      <td>亚洲</td>\n      <td>Asia</td>\n      <td>中国</td>\n      <td>China</td>\n      <td>福建省</td>\n      <td>Fujian</td>\n      <td>350000</td>\n      <td>CN-35</td>\n      <td>358</td>\n      <td>...</td>\n      <td>355</td>\n      <td>1</td>\n      <td>5/28/2020 9:06</td>\n      <td>福州</td>\n      <td>Fuzhou</td>\n      <td>350100.0</td>\n      <td>72.0</td>\n      <td>0.0</td>\n      <td>71.0</td>\n      <td>1.0</td>\n    </tr>\n    <tr>\n      <th>2</th>\n      <td>2</td>\n      <td>亚洲</td>\n      <td>Asia</td>\n      <td>中国</td>\n      <td>China</td>\n      <td>福建省</td>\n      <td>Fujian</td>\n      <td>350000</td>\n      <td>CN-35</td>\n      <td>358</td>\n      <td>...</td>\n      <td>355</td>\n      <td>1</td>\n      <td>5/28/2020 9:06</td>\n      <td>莆田</td>\n      <td>Putian</td>\n      <td>350300.0</td>\n      <td>56.0</td>\n      <td>0.0</td>\n      <td>56.0</td>\n      <td>0.0</td>\n    </tr>\n    <tr>\n      <th>3</th>\n      <td>3</td>\n      <td>亚洲</td>\n      <td>Asia</td>\n      <td>中国</td>\n      <td>China</td>\n      <td>福建省</td>\n      <td>Fujian</td>\n      <td>350000</td>\n      <td>CN-35</td>\n      <td>358</td>\n      <td>...</td>\n      <td>355</td>\n      <td>1</td>\n      <td>5/28/2020 9:06</td>\n      <td>泉州</td>\n      <td>Quanzhou</td>\n      <td>350500.0</td>\n      <td>47.0</td>\n      <td>0.0</td>\n      <td>47.0</td>\n      <td>0.0</td>\n    </tr>\n    <tr>\n      <th>4</th>\n      <td>4</td>\n      <td>亚洲</td>\n      <td>Asia</td>\n      <td>中国</td>\n      <td>China</td>\n      <td>福建省</td>\n      <td>Fujian</td>\n      <td>350000</td>\n      <td>CN-35</td>\n      <td>358</td>\n      <td>...</td>\n      <td>355</td>\n      <td>1</td>\n      <td>5/28/2020 9:06</td>\n      <td>厦门</td>\n      <td>Xiamen</td>\n      <td>350200.0</td>\n      <td>35.0</td>\n      <td>0.0</td>\n      <td>35.0</td>\n      <td>0.0</td>\n    </tr>\n  </tbody>\n</table>\n<p>5 rows × 21 columns</p>\n</div>"
     },
     "execution_count": 232,
     "metadata": {},
     "output_type": "execute_result"
    }
   ],
   "source": [
    "data = pd.read_csv('/Users/joey/Desktop/superset csv/DXYArea_china.csv')\n",
    "data.head()"
   ],
   "metadata": {
    "collapsed": false,
    "pycharm": {
     "name": "#%%\n"
    }
   }
  },
  {
   "cell_type": "code",
   "execution_count": 185,
   "outputs": [
    {
     "data": {
      "text/plain": "dtype('O')"
     },
     "execution_count": 185,
     "metadata": {},
     "output_type": "execute_result"
    }
   ],
   "source": [
    "data['updateTime'].dtypes\n"
   ],
   "metadata": {
    "collapsed": false,
    "pycharm": {
     "name": "#%%\n"
    }
   }
  },
  {
   "cell_type": "code",
   "execution_count": 234,
   "outputs": [
    {
     "data": {
      "text/plain": "0   2020-05-28 09:06:00\n1   2020-05-28 09:06:00\n2   2020-05-28 09:06:00\n3   2020-05-28 09:06:00\n4   2020-05-28 09:06:00\nName: updateTime, dtype: datetime64[ns]"
     },
     "execution_count": 234,
     "metadata": {},
     "output_type": "execute_result"
    }
   ],
   "source": [
    "a = pd.to_datetime(data['updateTime'],yearfirst=True)\n",
    "a.head()"
   ],
   "metadata": {
    "collapsed": false,
    "pycharm": {
     "name": "#%%\n"
    }
   }
  },
  {
   "cell_type": "code",
   "execution_count": 235,
   "outputs": [
    {
     "data": {
      "text/plain": "0        2020-05-28\n1        2020-05-28\n2        2020-05-28\n3        2020-05-28\n4        2020-05-28\n            ...    \n86065    2020-01-22\n86066    2020-01-22\n86067    2020-01-22\n86068    2020-01-22\n86069    2020-01-22\nName: updateTime, Length: 86070, dtype: object"
     },
     "execution_count": 235,
     "metadata": {},
     "output_type": "execute_result"
    }
   ],
   "source": [
    "a.dt.date"
   ],
   "metadata": {
    "collapsed": false,
    "pycharm": {
     "name": "#%%\n"
    }
   }
  },
  {
   "cell_type": "code",
   "execution_count": 224,
   "outputs": [
    {
     "data": {
      "text/plain": "0    2020-05-28\n1    2020-05-28\n2    2020-05-28\n3    2020-05-28\n4    2020-05-28\nName: updateTime, dtype: object"
     },
     "execution_count": 224,
     "metadata": {},
     "output_type": "execute_result"
    }
   ],
   "source": [
    "data['updateTime'] = pd.to_datetime(data['updateTime'],yearfirst=True).dt.date\n",
    "data['updateTime'].head()"
   ],
   "metadata": {
    "collapsed": false,
    "pycharm": {
     "name": "#%%\n"
    }
   }
  },
  {
   "cell_type": "code",
   "execution_count": 225,
   "outputs": [
    {
     "data": {
      "text/plain": "0   2020-05-28\n1   2020-05-28\n2   2020-05-28\n3   2020-05-28\n4   2020-05-28\nName: updateTime, dtype: datetime64[ns]"
     },
     "execution_count": 225,
     "metadata": {},
     "output_type": "execute_result"
    }
   ],
   "source": [
    "data['updateTime'] = pd.to_datetime(data['updateTime'])\n",
    "data['updateTime'].head()"
   ],
   "metadata": {
    "collapsed": false,
    "pycharm": {
     "name": "#%%\n"
    }
   }
  },
  {
   "cell_type": "code",
   "execution_count": 226,
   "outputs": [
    {
     "data": {
      "text/plain": "            index continentName continentEnglishName countryName  \\\nupdateTime                                                         \n2020-05-28      0            亚洲                 Asia          中国   \n2020-05-28      1            亚洲                 Asia          中国   \n2020-05-28      2            亚洲                 Asia          中国   \n2020-05-28      3            亚洲                 Asia          中国   \n2020-05-28      4            亚洲                 Asia          中国   \n\n           countryEnglishName provinceName provinceEnglishName  \\\nupdateTime                                                       \n2020-05-28              China          福建省              Fujian   \n2020-05-28              China          福建省              Fujian   \n2020-05-28              China          福建省              Fujian   \n2020-05-28              China          福建省              Fujian   \n2020-05-28              China          福建省              Fujian   \n\n            province_zipCode province_code  province_confirmedCount  \\\nupdateTime                                                            \n2020-05-28            350000         CN-35                      358   \n2020-05-28            350000         CN-35                      358   \n2020-05-28            350000         CN-35                      358   \n2020-05-28            350000         CN-35                      358   \n2020-05-28            350000         CN-35                      358   \n\n            province_suspectedCount  province_curedCount  province_deadCount  \\\nupdateTime                                                                     \n2020-05-28                      3.0                  355                   1   \n2020-05-28                      3.0                  355                   1   \n2020-05-28                      3.0                  355                   1   \n2020-05-28                      3.0                  355                   1   \n2020-05-28                      3.0                  355                   1   \n\n           cityName cityEnglishName  city_zipCode  city_confirmedCount  \\\nupdateTime                                                               \n2020-05-28   境外输入人员             NaN           0.0                 62.0   \n2020-05-28       福州          Fuzhou      350100.0                 72.0   \n2020-05-28       莆田          Putian      350300.0                 56.0   \n2020-05-28       泉州        Quanzhou      350500.0                 47.0   \n2020-05-28       厦门          Xiamen      350200.0                 35.0   \n\n            city_suspectedCount  city_curedCount  city_deadCount  \nupdateTime                                                        \n2020-05-28                  1.0             60.0             0.0  \n2020-05-28                  0.0             71.0             1.0  \n2020-05-28                  0.0             56.0             0.0  \n2020-05-28                  0.0             47.0             0.0  \n2020-05-28                  0.0             35.0             0.0  ",
      "text/html": "<div>\n<style scoped>\n    .dataframe tbody tr th:only-of-type {\n        vertical-align: middle;\n    }\n\n    .dataframe tbody tr th {\n        vertical-align: top;\n    }\n\n    .dataframe thead th {\n        text-align: right;\n    }\n</style>\n<table border=\"1\" class=\"dataframe\">\n  <thead>\n    <tr style=\"text-align: right;\">\n      <th></th>\n      <th>index</th>\n      <th>continentName</th>\n      <th>continentEnglishName</th>\n      <th>countryName</th>\n      <th>countryEnglishName</th>\n      <th>provinceName</th>\n      <th>provinceEnglishName</th>\n      <th>province_zipCode</th>\n      <th>province_code</th>\n      <th>province_confirmedCount</th>\n      <th>province_suspectedCount</th>\n      <th>province_curedCount</th>\n      <th>province_deadCount</th>\n      <th>cityName</th>\n      <th>cityEnglishName</th>\n      <th>city_zipCode</th>\n      <th>city_confirmedCount</th>\n      <th>city_suspectedCount</th>\n      <th>city_curedCount</th>\n      <th>city_deadCount</th>\n    </tr>\n    <tr>\n      <th>updateTime</th>\n      <th></th>\n      <th></th>\n      <th></th>\n      <th></th>\n      <th></th>\n      <th></th>\n      <th></th>\n      <th></th>\n      <th></th>\n      <th></th>\n      <th></th>\n      <th></th>\n      <th></th>\n      <th></th>\n      <th></th>\n      <th></th>\n      <th></th>\n      <th></th>\n      <th></th>\n      <th></th>\n    </tr>\n  </thead>\n  <tbody>\n    <tr>\n      <th>2020-05-28</th>\n      <td>0</td>\n      <td>亚洲</td>\n      <td>Asia</td>\n      <td>中国</td>\n      <td>China</td>\n      <td>福建省</td>\n      <td>Fujian</td>\n      <td>350000</td>\n      <td>CN-35</td>\n      <td>358</td>\n      <td>3.0</td>\n      <td>355</td>\n      <td>1</td>\n      <td>境外输入人员</td>\n      <td>NaN</td>\n      <td>0.0</td>\n      <td>62.0</td>\n      <td>1.0</td>\n      <td>60.0</td>\n      <td>0.0</td>\n    </tr>\n    <tr>\n      <th>2020-05-28</th>\n      <td>1</td>\n      <td>亚洲</td>\n      <td>Asia</td>\n      <td>中国</td>\n      <td>China</td>\n      <td>福建省</td>\n      <td>Fujian</td>\n      <td>350000</td>\n      <td>CN-35</td>\n      <td>358</td>\n      <td>3.0</td>\n      <td>355</td>\n      <td>1</td>\n      <td>福州</td>\n      <td>Fuzhou</td>\n      <td>350100.0</td>\n      <td>72.0</td>\n      <td>0.0</td>\n      <td>71.0</td>\n      <td>1.0</td>\n    </tr>\n    <tr>\n      <th>2020-05-28</th>\n      <td>2</td>\n      <td>亚洲</td>\n      <td>Asia</td>\n      <td>中国</td>\n      <td>China</td>\n      <td>福建省</td>\n      <td>Fujian</td>\n      <td>350000</td>\n      <td>CN-35</td>\n      <td>358</td>\n      <td>3.0</td>\n      <td>355</td>\n      <td>1</td>\n      <td>莆田</td>\n      <td>Putian</td>\n      <td>350300.0</td>\n      <td>56.0</td>\n      <td>0.0</td>\n      <td>56.0</td>\n      <td>0.0</td>\n    </tr>\n    <tr>\n      <th>2020-05-28</th>\n      <td>3</td>\n      <td>亚洲</td>\n      <td>Asia</td>\n      <td>中国</td>\n      <td>China</td>\n      <td>福建省</td>\n      <td>Fujian</td>\n      <td>350000</td>\n      <td>CN-35</td>\n      <td>358</td>\n      <td>3.0</td>\n      <td>355</td>\n      <td>1</td>\n      <td>泉州</td>\n      <td>Quanzhou</td>\n      <td>350500.0</td>\n      <td>47.0</td>\n      <td>0.0</td>\n      <td>47.0</td>\n      <td>0.0</td>\n    </tr>\n    <tr>\n      <th>2020-05-28</th>\n      <td>4</td>\n      <td>亚洲</td>\n      <td>Asia</td>\n      <td>中国</td>\n      <td>China</td>\n      <td>福建省</td>\n      <td>Fujian</td>\n      <td>350000</td>\n      <td>CN-35</td>\n      <td>358</td>\n      <td>3.0</td>\n      <td>355</td>\n      <td>1</td>\n      <td>厦门</td>\n      <td>Xiamen</td>\n      <td>350200.0</td>\n      <td>35.0</td>\n      <td>0.0</td>\n      <td>35.0</td>\n      <td>0.0</td>\n    </tr>\n  </tbody>\n</table>\n</div>"
     },
     "execution_count": 226,
     "metadata": {},
     "output_type": "execute_result"
    }
   ],
   "source": [
    "newdata = data.set_index(keys=['updateTime'])\n",
    "newdata.head()"
   ],
   "metadata": {
    "collapsed": false,
    "pycharm": {
     "name": "#%%\n"
    }
   }
  },
  {
   "cell_type": "code",
   "execution_count": 231,
   "outputs": [
    {
     "ename": "ValueError",
     "evalue": "cannot reindex a non-unique index with a method or limit",
     "output_type": "error",
     "traceback": [
      "\u001B[0;31m---------------------------------------------------------------------------\u001B[0m",
      "\u001B[0;31mValueError\u001B[0m                                Traceback (most recent call last)",
      "\u001B[0;32m<ipython-input-231-1516d6a425d7>\u001B[0m in \u001B[0;36m<module>\u001B[0;34m\u001B[0m\n\u001B[1;32m      1\u001B[0m \u001B[0;31m# 重采样\u001B[0m\u001B[0;34m\u001B[0m\u001B[0;34m\u001B[0m\u001B[0;34m\u001B[0m\u001B[0m\n\u001B[0;32m----> 2\u001B[0;31m \u001B[0mnewdata\u001B[0m\u001B[0;34m.\u001B[0m\u001B[0mresample\u001B[0m\u001B[0;34m(\u001B[0m\u001B[0;34m'D'\u001B[0m\u001B[0;34m)\u001B[0m\u001B[0;34m.\u001B[0m\u001B[0mpad\u001B[0m\u001B[0;34m(\u001B[0m\u001B[0;34m)\u001B[0m\u001B[0;34m\u001B[0m\u001B[0;34m\u001B[0m\u001B[0m\n\u001B[0m\u001B[1;32m      3\u001B[0m \u001B[0;34m\u001B[0m\u001B[0m\n\u001B[1;32m      4\u001B[0m \u001B[0;34m\u001B[0m\u001B[0m\n",
      "\u001B[0;32m~/Library/Python/3.7/lib/python/site-packages/pandas/core/resample.py\u001B[0m in \u001B[0;36mpad\u001B[0;34m(self, limit)\u001B[0m\n\u001B[1;32m    451\u001B[0m         \u001B[0mDataFrame\u001B[0m\u001B[0;34m.\u001B[0m\u001B[0mfillna\u001B[0m\u001B[0;34m\u001B[0m\u001B[0;34m\u001B[0m\u001B[0m\n\u001B[1;32m    452\u001B[0m         \"\"\"\n\u001B[0;32m--> 453\u001B[0;31m         \u001B[0;32mreturn\u001B[0m \u001B[0mself\u001B[0m\u001B[0;34m.\u001B[0m\u001B[0m_upsample\u001B[0m\u001B[0;34m(\u001B[0m\u001B[0;34m\"pad\"\u001B[0m\u001B[0;34m,\u001B[0m \u001B[0mlimit\u001B[0m\u001B[0;34m=\u001B[0m\u001B[0mlimit\u001B[0m\u001B[0;34m)\u001B[0m\u001B[0;34m\u001B[0m\u001B[0;34m\u001B[0m\u001B[0m\n\u001B[0m\u001B[1;32m    454\u001B[0m \u001B[0;34m\u001B[0m\u001B[0m\n\u001B[1;32m    455\u001B[0m     \u001B[0mffill\u001B[0m \u001B[0;34m=\u001B[0m \u001B[0mpad\u001B[0m\u001B[0;34m\u001B[0m\u001B[0;34m\u001B[0m\u001B[0m\n",
      "\u001B[0;32m~/Library/Python/3.7/lib/python/site-packages/pandas/core/resample.py\u001B[0m in \u001B[0;36m_upsample\u001B[0;34m(self, method, limit, fill_value)\u001B[0m\n\u001B[1;32m   1093\u001B[0m         \u001B[0;32melse\u001B[0m\u001B[0;34m:\u001B[0m\u001B[0;34m\u001B[0m\u001B[0;34m\u001B[0m\u001B[0m\n\u001B[1;32m   1094\u001B[0m             result = obj.reindex(\n\u001B[0;32m-> 1095\u001B[0;31m                 \u001B[0mres_index\u001B[0m\u001B[0;34m,\u001B[0m \u001B[0mmethod\u001B[0m\u001B[0;34m=\u001B[0m\u001B[0mmethod\u001B[0m\u001B[0;34m,\u001B[0m \u001B[0mlimit\u001B[0m\u001B[0;34m=\u001B[0m\u001B[0mlimit\u001B[0m\u001B[0;34m,\u001B[0m \u001B[0mfill_value\u001B[0m\u001B[0;34m=\u001B[0m\u001B[0mfill_value\u001B[0m\u001B[0;34m\u001B[0m\u001B[0;34m\u001B[0m\u001B[0m\n\u001B[0m\u001B[1;32m   1096\u001B[0m             )\n\u001B[1;32m   1097\u001B[0m \u001B[0;34m\u001B[0m\u001B[0m\n",
      "\u001B[0;32m~/Library/Python/3.7/lib/python/site-packages/pandas/util/_decorators.py\u001B[0m in \u001B[0;36mwrapper\u001B[0;34m(*args, **kwargs)\u001B[0m\n\u001B[1;32m    225\u001B[0m         \u001B[0;34m@\u001B[0m\u001B[0mwraps\u001B[0m\u001B[0;34m(\u001B[0m\u001B[0mfunc\u001B[0m\u001B[0;34m)\u001B[0m\u001B[0;34m\u001B[0m\u001B[0;34m\u001B[0m\u001B[0m\n\u001B[1;32m    226\u001B[0m         \u001B[0;32mdef\u001B[0m \u001B[0mwrapper\u001B[0m\u001B[0;34m(\u001B[0m\u001B[0;34m*\u001B[0m\u001B[0margs\u001B[0m\u001B[0;34m,\u001B[0m \u001B[0;34m**\u001B[0m\u001B[0mkwargs\u001B[0m\u001B[0;34m)\u001B[0m \u001B[0;34m->\u001B[0m \u001B[0mCallable\u001B[0m\u001B[0;34m[\u001B[0m\u001B[0;34m...\u001B[0m\u001B[0;34m,\u001B[0m \u001B[0mAny\u001B[0m\u001B[0;34m]\u001B[0m\u001B[0;34m:\u001B[0m\u001B[0;34m\u001B[0m\u001B[0;34m\u001B[0m\u001B[0m\n\u001B[0;32m--> 227\u001B[0;31m             \u001B[0;32mreturn\u001B[0m \u001B[0mfunc\u001B[0m\u001B[0;34m(\u001B[0m\u001B[0;34m*\u001B[0m\u001B[0margs\u001B[0m\u001B[0;34m,\u001B[0m \u001B[0;34m**\u001B[0m\u001B[0mkwargs\u001B[0m\u001B[0;34m)\u001B[0m\u001B[0;34m\u001B[0m\u001B[0;34m\u001B[0m\u001B[0m\n\u001B[0m\u001B[1;32m    228\u001B[0m \u001B[0;34m\u001B[0m\u001B[0m\n\u001B[1;32m    229\u001B[0m         \u001B[0mkind\u001B[0m \u001B[0;34m=\u001B[0m \u001B[0minspect\u001B[0m\u001B[0;34m.\u001B[0m\u001B[0mParameter\u001B[0m\u001B[0;34m.\u001B[0m\u001B[0mPOSITIONAL_OR_KEYWORD\u001B[0m\u001B[0;34m\u001B[0m\u001B[0;34m\u001B[0m\u001B[0m\n",
      "\u001B[0;32m~/Library/Python/3.7/lib/python/site-packages/pandas/core/frame.py\u001B[0m in \u001B[0;36mreindex\u001B[0;34m(self, *args, **kwargs)\u001B[0m\n\u001B[1;32m   3854\u001B[0m         \u001B[0mkwargs\u001B[0m\u001B[0;34m.\u001B[0m\u001B[0mpop\u001B[0m\u001B[0;34m(\u001B[0m\u001B[0;34m\"axis\"\u001B[0m\u001B[0;34m,\u001B[0m \u001B[0;32mNone\u001B[0m\u001B[0;34m)\u001B[0m\u001B[0;34m\u001B[0m\u001B[0;34m\u001B[0m\u001B[0m\n\u001B[1;32m   3855\u001B[0m         \u001B[0mkwargs\u001B[0m\u001B[0;34m.\u001B[0m\u001B[0mpop\u001B[0m\u001B[0;34m(\u001B[0m\u001B[0;34m\"labels\"\u001B[0m\u001B[0;34m,\u001B[0m \u001B[0;32mNone\u001B[0m\u001B[0;34m)\u001B[0m\u001B[0;34m\u001B[0m\u001B[0;34m\u001B[0m\u001B[0m\n\u001B[0;32m-> 3856\u001B[0;31m         \u001B[0;32mreturn\u001B[0m \u001B[0msuper\u001B[0m\u001B[0;34m(\u001B[0m\u001B[0;34m)\u001B[0m\u001B[0;34m.\u001B[0m\u001B[0mreindex\u001B[0m\u001B[0;34m(\u001B[0m\u001B[0;34m**\u001B[0m\u001B[0mkwargs\u001B[0m\u001B[0;34m)\u001B[0m\u001B[0;34m\u001B[0m\u001B[0;34m\u001B[0m\u001B[0m\n\u001B[0m\u001B[1;32m   3857\u001B[0m \u001B[0;34m\u001B[0m\u001B[0m\n\u001B[1;32m   3858\u001B[0m     def drop(\n",
      "\u001B[0;32m~/Library/Python/3.7/lib/python/site-packages/pandas/core/generic.py\u001B[0m in \u001B[0;36mreindex\u001B[0;34m(self, *args, **kwargs)\u001B[0m\n\u001B[1;32m   4542\u001B[0m         \u001B[0;31m# perform the reindex on the axes\u001B[0m\u001B[0;34m\u001B[0m\u001B[0;34m\u001B[0m\u001B[0;34m\u001B[0m\u001B[0m\n\u001B[1;32m   4543\u001B[0m         return self._reindex_axes(\n\u001B[0;32m-> 4544\u001B[0;31m             \u001B[0maxes\u001B[0m\u001B[0;34m,\u001B[0m \u001B[0mlevel\u001B[0m\u001B[0;34m,\u001B[0m \u001B[0mlimit\u001B[0m\u001B[0;34m,\u001B[0m \u001B[0mtolerance\u001B[0m\u001B[0;34m,\u001B[0m \u001B[0mmethod\u001B[0m\u001B[0;34m,\u001B[0m \u001B[0mfill_value\u001B[0m\u001B[0;34m,\u001B[0m \u001B[0mcopy\u001B[0m\u001B[0;34m\u001B[0m\u001B[0;34m\u001B[0m\u001B[0m\n\u001B[0m\u001B[1;32m   4545\u001B[0m         ).__finalize__(self)\n\u001B[1;32m   4546\u001B[0m \u001B[0;34m\u001B[0m\u001B[0m\n",
      "\u001B[0;32m~/Library/Python/3.7/lib/python/site-packages/pandas/core/frame.py\u001B[0m in \u001B[0;36m_reindex_axes\u001B[0;34m(self, axes, level, limit, tolerance, method, fill_value, copy)\u001B[0m\n\u001B[1;32m   3742\u001B[0m         \u001B[0;32mif\u001B[0m \u001B[0mindex\u001B[0m \u001B[0;32mis\u001B[0m \u001B[0;32mnot\u001B[0m \u001B[0;32mNone\u001B[0m\u001B[0;34m:\u001B[0m\u001B[0;34m\u001B[0m\u001B[0;34m\u001B[0m\u001B[0m\n\u001B[1;32m   3743\u001B[0m             frame = frame._reindex_index(\n\u001B[0;32m-> 3744\u001B[0;31m                 \u001B[0mindex\u001B[0m\u001B[0;34m,\u001B[0m \u001B[0mmethod\u001B[0m\u001B[0;34m,\u001B[0m \u001B[0mcopy\u001B[0m\u001B[0;34m,\u001B[0m \u001B[0mlevel\u001B[0m\u001B[0;34m,\u001B[0m \u001B[0mfill_value\u001B[0m\u001B[0;34m,\u001B[0m \u001B[0mlimit\u001B[0m\u001B[0;34m,\u001B[0m \u001B[0mtolerance\u001B[0m\u001B[0;34m\u001B[0m\u001B[0;34m\u001B[0m\u001B[0m\n\u001B[0m\u001B[1;32m   3745\u001B[0m             )\n\u001B[1;32m   3746\u001B[0m \u001B[0;34m\u001B[0m\u001B[0m\n",
      "\u001B[0;32m~/Library/Python/3.7/lib/python/site-packages/pandas/core/frame.py\u001B[0m in \u001B[0;36m_reindex_index\u001B[0;34m(self, new_index, method, copy, level, fill_value, limit, tolerance)\u001B[0m\n\u001B[1;32m   3758\u001B[0m     ):\n\u001B[1;32m   3759\u001B[0m         new_index, indexer = self.index.reindex(\n\u001B[0;32m-> 3760\u001B[0;31m             \u001B[0mnew_index\u001B[0m\u001B[0;34m,\u001B[0m \u001B[0mmethod\u001B[0m\u001B[0;34m=\u001B[0m\u001B[0mmethod\u001B[0m\u001B[0;34m,\u001B[0m \u001B[0mlevel\u001B[0m\u001B[0;34m=\u001B[0m\u001B[0mlevel\u001B[0m\u001B[0;34m,\u001B[0m \u001B[0mlimit\u001B[0m\u001B[0;34m=\u001B[0m\u001B[0mlimit\u001B[0m\u001B[0;34m,\u001B[0m \u001B[0mtolerance\u001B[0m\u001B[0;34m=\u001B[0m\u001B[0mtolerance\u001B[0m\u001B[0;34m\u001B[0m\u001B[0;34m\u001B[0m\u001B[0m\n\u001B[0m\u001B[1;32m   3761\u001B[0m         )\n\u001B[1;32m   3762\u001B[0m         return self._reindex_with_indexers(\n",
      "\u001B[0;32m~/Library/Python/3.7/lib/python/site-packages/pandas/core/indexes/base.py\u001B[0m in \u001B[0;36mreindex\u001B[0;34m(self, target, method, level, limit, tolerance)\u001B[0m\n\u001B[1;32m   3147\u001B[0m                     \u001B[0;32mif\u001B[0m \u001B[0mmethod\u001B[0m \u001B[0;32mis\u001B[0m \u001B[0;32mnot\u001B[0m \u001B[0;32mNone\u001B[0m \u001B[0;32mor\u001B[0m \u001B[0mlimit\u001B[0m \u001B[0;32mis\u001B[0m \u001B[0;32mnot\u001B[0m \u001B[0;32mNone\u001B[0m\u001B[0;34m:\u001B[0m\u001B[0;34m\u001B[0m\u001B[0;34m\u001B[0m\u001B[0m\n\u001B[1;32m   3148\u001B[0m                         raise ValueError(\n\u001B[0;32m-> 3149\u001B[0;31m                             \u001B[0;34m\"cannot reindex a non-unique index \"\u001B[0m\u001B[0;34m\u001B[0m\u001B[0;34m\u001B[0m\u001B[0m\n\u001B[0m\u001B[1;32m   3150\u001B[0m                             \u001B[0;34m\"with a method or limit\"\u001B[0m\u001B[0;34m\u001B[0m\u001B[0;34m\u001B[0m\u001B[0m\n\u001B[1;32m   3151\u001B[0m                         )\n",
      "\u001B[0;31mValueError\u001B[0m: cannot reindex a non-unique index with a method or limit"
     ]
    }
   ],
   "source": [
    "# 重采样\n",
    "newdata.resample('D').pad()\n"
   ],
   "metadata": {
    "collapsed": false,
    "pycharm": {
     "name": "#%%\n"
    }
   }
  },
  {
   "cell_type": "code",
   "execution_count": 238,
   "outputs": [
    {
     "data": {
      "text/plain": "'5/28/2020 9:06'"
     },
     "execution_count": 238,
     "metadata": {},
     "output_type": "execute_result"
    }
   ],
   "source": [],
   "metadata": {
    "collapsed": false,
    "pycharm": {
     "name": "#%%\n"
    }
   }
  },
  {
   "cell_type": "code",
   "execution_count": null,
   "outputs": [],
   "source": [],
   "metadata": {
    "collapsed": false,
    "pycharm": {
     "name": "#%%\n"
    }
   }
  },
  {
   "cell_type": "code",
   "execution_count": null,
   "outputs": [],
   "source": [],
   "metadata": {
    "collapsed": false,
    "pycharm": {
     "name": "#%%\n"
    }
   }
  },
  {
   "cell_type": "code",
   "execution_count": 189,
   "outputs": [
    {
     "data": {
      "text/plain": "DatetimeIndex(['2020-05-28', '2020-05-28', '2020-05-28', '2020-05-28',\n               '2020-05-28', '2020-05-28', '2020-05-28', '2020-05-28',\n               '2020-05-28', '2020-05-28',\n               ...\n               '2020-01-22', '2020-01-22', '2020-01-22', '2020-01-22',\n               '2020-01-22', '2020-01-22', '2020-01-22', '2020-01-22',\n               '2020-01-22', '2020-01-22'],\n              dtype='datetime64[ns]', name='updateTime', length=86070, freq=None)"
     },
     "execution_count": 189,
     "metadata": {},
     "output_type": "execute_result"
    }
   ],
   "source": [
    "newdata.index"
   ],
   "metadata": {
    "collapsed": false,
    "pycharm": {
     "name": "#%%\n"
    }
   }
  },
  {
   "cell_type": "code",
   "execution_count": 190,
   "outputs": [
    {
     "data": {
      "text/plain": "            index continentName continentEnglishName countryName  \\\nupdateTime                                                         \n2020-05-28      0            亚洲                 Asia          中国   \n2020-05-28      1            亚洲                 Asia          中国   \n2020-05-28      2            亚洲                 Asia          中国   \n2020-05-28      3            亚洲                 Asia          中国   \n2020-05-28      4            亚洲                 Asia          中国   \n\n           countryEnglishName provinceName provinceEnglishName  \\\nupdateTime                                                       \n2020-05-28              China          福建省              Fujian   \n2020-05-28              China          福建省              Fujian   \n2020-05-28              China          福建省              Fujian   \n2020-05-28              China          福建省              Fujian   \n2020-05-28              China          福建省              Fujian   \n\n            province_zipCode province_code  province_confirmedCount  \\\nupdateTime                                                            \n2020-05-28            350000         CN-35                      358   \n2020-05-28            350000         CN-35                      358   \n2020-05-28            350000         CN-35                      358   \n2020-05-28            350000         CN-35                      358   \n2020-05-28            350000         CN-35                      358   \n\n            province_suspectedCount  province_curedCount  province_deadCount  \\\nupdateTime                                                                     \n2020-05-28                      3.0                  355                   1   \n2020-05-28                      3.0                  355                   1   \n2020-05-28                      3.0                  355                   1   \n2020-05-28                      3.0                  355                   1   \n2020-05-28                      3.0                  355                   1   \n\n           cityName cityEnglishName  city_zipCode  city_confirmedCount  \\\nupdateTime                                                               \n2020-05-28   境外输入人员             NaN           0.0                 62.0   \n2020-05-28       福州          Fuzhou      350100.0                 72.0   \n2020-05-28       莆田          Putian      350300.0                 56.0   \n2020-05-28       泉州        Quanzhou      350500.0                 47.0   \n2020-05-28       厦门          Xiamen      350200.0                 35.0   \n\n            city_suspectedCount  city_curedCount  city_deadCount  \nupdateTime                                                        \n2020-05-28                  1.0             60.0             0.0  \n2020-05-28                  0.0             71.0             1.0  \n2020-05-28                  0.0             56.0             0.0  \n2020-05-28                  0.0             47.0             0.0  \n2020-05-28                  0.0             35.0             0.0  ",
      "text/html": "<div>\n<style scoped>\n    .dataframe tbody tr th:only-of-type {\n        vertical-align: middle;\n    }\n\n    .dataframe tbody tr th {\n        vertical-align: top;\n    }\n\n    .dataframe thead th {\n        text-align: right;\n    }\n</style>\n<table border=\"1\" class=\"dataframe\">\n  <thead>\n    <tr style=\"text-align: right;\">\n      <th></th>\n      <th>index</th>\n      <th>continentName</th>\n      <th>continentEnglishName</th>\n      <th>countryName</th>\n      <th>countryEnglishName</th>\n      <th>provinceName</th>\n      <th>provinceEnglishName</th>\n      <th>province_zipCode</th>\n      <th>province_code</th>\n      <th>province_confirmedCount</th>\n      <th>province_suspectedCount</th>\n      <th>province_curedCount</th>\n      <th>province_deadCount</th>\n      <th>cityName</th>\n      <th>cityEnglishName</th>\n      <th>city_zipCode</th>\n      <th>city_confirmedCount</th>\n      <th>city_suspectedCount</th>\n      <th>city_curedCount</th>\n      <th>city_deadCount</th>\n    </tr>\n    <tr>\n      <th>updateTime</th>\n      <th></th>\n      <th></th>\n      <th></th>\n      <th></th>\n      <th></th>\n      <th></th>\n      <th></th>\n      <th></th>\n      <th></th>\n      <th></th>\n      <th></th>\n      <th></th>\n      <th></th>\n      <th></th>\n      <th></th>\n      <th></th>\n      <th></th>\n      <th></th>\n      <th></th>\n      <th></th>\n    </tr>\n  </thead>\n  <tbody>\n    <tr>\n      <th>2020-05-28</th>\n      <td>0</td>\n      <td>亚洲</td>\n      <td>Asia</td>\n      <td>中国</td>\n      <td>China</td>\n      <td>福建省</td>\n      <td>Fujian</td>\n      <td>350000</td>\n      <td>CN-35</td>\n      <td>358</td>\n      <td>3.0</td>\n      <td>355</td>\n      <td>1</td>\n      <td>境外输入人员</td>\n      <td>NaN</td>\n      <td>0.0</td>\n      <td>62.0</td>\n      <td>1.0</td>\n      <td>60.0</td>\n      <td>0.0</td>\n    </tr>\n    <tr>\n      <th>2020-05-28</th>\n      <td>1</td>\n      <td>亚洲</td>\n      <td>Asia</td>\n      <td>中国</td>\n      <td>China</td>\n      <td>福建省</td>\n      <td>Fujian</td>\n      <td>350000</td>\n      <td>CN-35</td>\n      <td>358</td>\n      <td>3.0</td>\n      <td>355</td>\n      <td>1</td>\n      <td>福州</td>\n      <td>Fuzhou</td>\n      <td>350100.0</td>\n      <td>72.0</td>\n      <td>0.0</td>\n      <td>71.0</td>\n      <td>1.0</td>\n    </tr>\n    <tr>\n      <th>2020-05-28</th>\n      <td>2</td>\n      <td>亚洲</td>\n      <td>Asia</td>\n      <td>中国</td>\n      <td>China</td>\n      <td>福建省</td>\n      <td>Fujian</td>\n      <td>350000</td>\n      <td>CN-35</td>\n      <td>358</td>\n      <td>3.0</td>\n      <td>355</td>\n      <td>1</td>\n      <td>莆田</td>\n      <td>Putian</td>\n      <td>350300.0</td>\n      <td>56.0</td>\n      <td>0.0</td>\n      <td>56.0</td>\n      <td>0.0</td>\n    </tr>\n    <tr>\n      <th>2020-05-28</th>\n      <td>3</td>\n      <td>亚洲</td>\n      <td>Asia</td>\n      <td>中国</td>\n      <td>China</td>\n      <td>福建省</td>\n      <td>Fujian</td>\n      <td>350000</td>\n      <td>CN-35</td>\n      <td>358</td>\n      <td>3.0</td>\n      <td>355</td>\n      <td>1</td>\n      <td>泉州</td>\n      <td>Quanzhou</td>\n      <td>350500.0</td>\n      <td>47.0</td>\n      <td>0.0</td>\n      <td>47.0</td>\n      <td>0.0</td>\n    </tr>\n    <tr>\n      <th>2020-05-28</th>\n      <td>4</td>\n      <td>亚洲</td>\n      <td>Asia</td>\n      <td>中国</td>\n      <td>China</td>\n      <td>福建省</td>\n      <td>Fujian</td>\n      <td>350000</td>\n      <td>CN-35</td>\n      <td>358</td>\n      <td>3.0</td>\n      <td>355</td>\n      <td>1</td>\n      <td>厦门</td>\n      <td>Xiamen</td>\n      <td>350200.0</td>\n      <td>35.0</td>\n      <td>0.0</td>\n      <td>35.0</td>\n      <td>0.0</td>\n    </tr>\n  </tbody>\n</table>\n</div>"
     },
     "execution_count": 190,
     "metadata": {},
     "output_type": "execute_result"
    }
   ],
   "source": [
    "period_data = newdata.to_period(freq='D')\n",
    "period_data.head()"
   ],
   "metadata": {
    "collapsed": false,
    "pycharm": {
     "name": "#%%\n"
    }
   }
  },
  {
   "cell_type": "code",
   "execution_count": 191,
   "outputs": [
    {
     "data": {
      "text/plain": "PeriodIndex(['2020-05-28', '2020-05-28', '2020-05-28', '2020-05-28',\n             '2020-05-28', '2020-05-28', '2020-05-28', '2020-05-28',\n             '2020-05-28', '2020-05-28',\n             ...\n             '2020-01-22', '2020-01-22', '2020-01-22', '2020-01-22',\n             '2020-01-22', '2020-01-22', '2020-01-22', '2020-01-22',\n             '2020-01-22', '2020-01-22'],\n            dtype='period[D]', name='updateTime', length=86070, freq='D')"
     },
     "execution_count": 191,
     "metadata": {},
     "output_type": "execute_result"
    }
   ],
   "source": [
    "period_data.index"
   ],
   "metadata": {
    "collapsed": false,
    "pycharm": {
     "name": "#%%\n"
    }
   }
  },
  {
   "cell_type": "code",
   "execution_count": 194,
   "outputs": [
    {
     "data": {
      "text/plain": "PeriodIndex(['2020-05', '2020-05', '2020-05', '2020-05', '2020-05', '2020-05',\n             '2020-05', '2020-05', '2020-05', '2020-05',\n             ...\n             '2020-01', '2020-01', '2020-01', '2020-01', '2020-01', '2020-01',\n             '2020-01', '2020-01', '2020-01', '2020-01'],\n            dtype='period[M]', name='updateTime', length=86070, freq='M')"
     },
     "execution_count": 194,
     "metadata": {},
     "output_type": "execute_result"
    }
   ],
   "source": [
    "newdata.index.to_period(freq='m')"
   ],
   "metadata": {
    "collapsed": false,
    "pycharm": {
     "name": "#%%\n"
    }
   }
  },
  {
   "cell_type": "code",
   "execution_count": 192,
   "outputs": [
    {
     "data": {
      "text/plain": "<pandas.core.resample.PeriodIndexResampler object at 0x7f8739ac7e50>"
     },
     "execution_count": 192,
     "metadata": {},
     "output_type": "execute_result"
    }
   ],
   "source": [
    "period_data.resample('D')"
   ],
   "metadata": {
    "collapsed": false,
    "pycharm": {
     "name": "#%%\n"
    }
   }
  },
  {
   "cell_type": "code",
   "execution_count": 195,
   "outputs": [
    {
     "data": {
      "text/plain": "            index continentName continentEnglishName countryName  \\\nupdateTime                                                         \n2020-05-28      0            亚洲                 Asia          中国   \n2020-05-28      1            亚洲                 Asia          中国   \n2020-05-28      2            亚洲                 Asia          中国   \n2020-05-28      3            亚洲                 Asia          中国   \n2020-05-28      4            亚洲                 Asia          中国   \n\n           countryEnglishName provinceName provinceEnglishName  \\\nupdateTime                                                       \n2020-05-28              China          福建省              Fujian   \n2020-05-28              China          福建省              Fujian   \n2020-05-28              China          福建省              Fujian   \n2020-05-28              China          福建省              Fujian   \n2020-05-28              China          福建省              Fujian   \n\n            province_zipCode province_code  province_confirmedCount  \\\nupdateTime                                                            \n2020-05-28            350000         CN-35                      358   \n2020-05-28            350000         CN-35                      358   \n2020-05-28            350000         CN-35                      358   \n2020-05-28            350000         CN-35                      358   \n2020-05-28            350000         CN-35                      358   \n\n            province_suspectedCount  province_curedCount  province_deadCount  \\\nupdateTime                                                                     \n2020-05-28                      3.0                  355                   1   \n2020-05-28                      3.0                  355                   1   \n2020-05-28                      3.0                  355                   1   \n2020-05-28                      3.0                  355                   1   \n2020-05-28                      3.0                  355                   1   \n\n           cityName cityEnglishName  city_zipCode  city_confirmedCount  \\\nupdateTime                                                               \n2020-05-28   境外输入人员             NaN           0.0                 62.0   \n2020-05-28       福州          Fuzhou      350100.0                 72.0   \n2020-05-28       莆田          Putian      350300.0                 56.0   \n2020-05-28       泉州        Quanzhou      350500.0                 47.0   \n2020-05-28       厦门          Xiamen      350200.0                 35.0   \n\n            city_suspectedCount  city_curedCount  city_deadCount  \nupdateTime                                                        \n2020-05-28                  1.0             60.0             0.0  \n2020-05-28                  0.0             71.0             1.0  \n2020-05-28                  0.0             56.0             0.0  \n2020-05-28                  0.0             47.0             0.0  \n2020-05-28                  0.0             35.0             0.0  ",
      "text/html": "<div>\n<style scoped>\n    .dataframe tbody tr th:only-of-type {\n        vertical-align: middle;\n    }\n\n    .dataframe tbody tr th {\n        vertical-align: top;\n    }\n\n    .dataframe thead th {\n        text-align: right;\n    }\n</style>\n<table border=\"1\" class=\"dataframe\">\n  <thead>\n    <tr style=\"text-align: right;\">\n      <th></th>\n      <th>index</th>\n      <th>continentName</th>\n      <th>continentEnglishName</th>\n      <th>countryName</th>\n      <th>countryEnglishName</th>\n      <th>provinceName</th>\n      <th>provinceEnglishName</th>\n      <th>province_zipCode</th>\n      <th>province_code</th>\n      <th>province_confirmedCount</th>\n      <th>province_suspectedCount</th>\n      <th>province_curedCount</th>\n      <th>province_deadCount</th>\n      <th>cityName</th>\n      <th>cityEnglishName</th>\n      <th>city_zipCode</th>\n      <th>city_confirmedCount</th>\n      <th>city_suspectedCount</th>\n      <th>city_curedCount</th>\n      <th>city_deadCount</th>\n    </tr>\n    <tr>\n      <th>updateTime</th>\n      <th></th>\n      <th></th>\n      <th></th>\n      <th></th>\n      <th></th>\n      <th></th>\n      <th></th>\n      <th></th>\n      <th></th>\n      <th></th>\n      <th></th>\n      <th></th>\n      <th></th>\n      <th></th>\n      <th></th>\n      <th></th>\n      <th></th>\n      <th></th>\n      <th></th>\n      <th></th>\n    </tr>\n  </thead>\n  <tbody>\n    <tr>\n      <th>2020-05-28</th>\n      <td>0</td>\n      <td>亚洲</td>\n      <td>Asia</td>\n      <td>中国</td>\n      <td>China</td>\n      <td>福建省</td>\n      <td>Fujian</td>\n      <td>350000</td>\n      <td>CN-35</td>\n      <td>358</td>\n      <td>3.0</td>\n      <td>355</td>\n      <td>1</td>\n      <td>境外输入人员</td>\n      <td>NaN</td>\n      <td>0.0</td>\n      <td>62.0</td>\n      <td>1.0</td>\n      <td>60.0</td>\n      <td>0.0</td>\n    </tr>\n    <tr>\n      <th>2020-05-28</th>\n      <td>1</td>\n      <td>亚洲</td>\n      <td>Asia</td>\n      <td>中国</td>\n      <td>China</td>\n      <td>福建省</td>\n      <td>Fujian</td>\n      <td>350000</td>\n      <td>CN-35</td>\n      <td>358</td>\n      <td>3.0</td>\n      <td>355</td>\n      <td>1</td>\n      <td>福州</td>\n      <td>Fuzhou</td>\n      <td>350100.0</td>\n      <td>72.0</td>\n      <td>0.0</td>\n      <td>71.0</td>\n      <td>1.0</td>\n    </tr>\n    <tr>\n      <th>2020-05-28</th>\n      <td>2</td>\n      <td>亚洲</td>\n      <td>Asia</td>\n      <td>中国</td>\n      <td>China</td>\n      <td>福建省</td>\n      <td>Fujian</td>\n      <td>350000</td>\n      <td>CN-35</td>\n      <td>358</td>\n      <td>3.0</td>\n      <td>355</td>\n      <td>1</td>\n      <td>莆田</td>\n      <td>Putian</td>\n      <td>350300.0</td>\n      <td>56.0</td>\n      <td>0.0</td>\n      <td>56.0</td>\n      <td>0.0</td>\n    </tr>\n    <tr>\n      <th>2020-05-28</th>\n      <td>3</td>\n      <td>亚洲</td>\n      <td>Asia</td>\n      <td>中国</td>\n      <td>China</td>\n      <td>福建省</td>\n      <td>Fujian</td>\n      <td>350000</td>\n      <td>CN-35</td>\n      <td>358</td>\n      <td>3.0</td>\n      <td>355</td>\n      <td>1</td>\n      <td>泉州</td>\n      <td>Quanzhou</td>\n      <td>350500.0</td>\n      <td>47.0</td>\n      <td>0.0</td>\n      <td>47.0</td>\n      <td>0.0</td>\n    </tr>\n    <tr>\n      <th>2020-05-28</th>\n      <td>4</td>\n      <td>亚洲</td>\n      <td>Asia</td>\n      <td>中国</td>\n      <td>China</td>\n      <td>福建省</td>\n      <td>Fujian</td>\n      <td>350000</td>\n      <td>CN-35</td>\n      <td>358</td>\n      <td>3.0</td>\n      <td>355</td>\n      <td>1</td>\n      <td>厦门</td>\n      <td>Xiamen</td>\n      <td>350200.0</td>\n      <td>35.0</td>\n      <td>0.0</td>\n      <td>35.0</td>\n      <td>0.0</td>\n    </tr>\n  </tbody>\n</table>\n</div>"
     },
     "execution_count": 195,
     "metadata": {},
     "output_type": "execute_result"
    }
   ],
   "source": [
    "a = period_data.to_timestamp()\n",
    "a.head()"
   ],
   "metadata": {
    "collapsed": false,
    "pycharm": {
     "name": "#%%\n"
    }
   }
  },
  {
   "cell_type": "code",
   "execution_count": 196,
   "outputs": [
    {
     "data": {
      "text/plain": "DatetimeIndex(['2020-05-28', '2020-05-28', '2020-05-28', '2020-05-28',\n               '2020-05-28', '2020-05-28', '2020-05-28', '2020-05-28',\n               '2020-05-28', '2020-05-28',\n               ...\n               '2020-01-22', '2020-01-22', '2020-01-22', '2020-01-22',\n               '2020-01-22', '2020-01-22', '2020-01-22', '2020-01-22',\n               '2020-01-22', '2020-01-22'],\n              dtype='datetime64[ns]', name='updateTime', length=86070, freq=None)"
     },
     "execution_count": 196,
     "metadata": {},
     "output_type": "execute_result"
    }
   ],
   "source": [
    "a.index"
   ],
   "metadata": {
    "collapsed": false,
    "pycharm": {
     "name": "#%%\n"
    }
   }
  },
  {
   "cell_type": "code",
   "execution_count": 179,
   "outputs": [
    {
     "data": {
      "text/plain": "array(['2020-05-28T00:00:00.000000000', '2020-05-28T00:00:00.000000000',\n       '2020-05-28T00:00:00.000000000', ...,\n       '2020-01-22T00:00:00.000000000', '2020-01-22T00:00:00.000000000',\n       '2020-01-22T00:00:00.000000000'], dtype='datetime64[ns]')"
     },
     "execution_count": 179,
     "metadata": {},
     "output_type": "execute_result"
    }
   ],
   "source": [
    "a.index.values"
   ],
   "metadata": {
    "collapsed": false,
    "pycharm": {
     "name": "#%%\n"
    }
   }
  },
  {
   "cell_type": "code",
   "execution_count": 180,
   "outputs": [
    {
     "data": {
      "text/plain": "Timestamp('2020-05-28 00:00:00')"
     },
     "execution_count": 180,
     "metadata": {},
     "output_type": "execute_result"
    }
   ],
   "source": [
    "a.index[0]"
   ],
   "metadata": {
    "collapsed": false,
    "pycharm": {
     "name": "#%%\n"
    }
   }
  },
  {
   "cell_type": "code",
   "execution_count": null,
   "outputs": [],
   "source": [
    "\n"
   ],
   "metadata": {
    "collapsed": false,
    "pycharm": {
     "name": "#%%\n"
    }
   }
  },
  {
   "cell_type": "code",
   "execution_count": 201,
   "outputs": [
    {
     "data": {
      "text/plain": "0   2020-05-28 09:06:00\n1   2020-05-28 09:06:00\n2   2020-05-28 09:06:00\n3   2020-05-28 09:06:00\n4   2020-05-28 09:06:00\nName: updateTime, dtype: datetime64[ns]"
     },
     "execution_count": 201,
     "metadata": {},
     "output_type": "execute_result"
    }
   ],
   "source": [
    "a = pd.to_datetime(data['updateTime'])\n",
    "a.head()"
   ],
   "metadata": {
    "collapsed": false,
    "pycharm": {
     "name": "#%%\n"
    }
   }
  },
  {
   "cell_type": "code",
   "execution_count": 203,
   "outputs": [
    {
     "data": {
      "text/plain": "           updateTime\n0 2020-05-28 09:06:00\n1 2020-05-28 09:06:00\n2 2020-05-28 09:06:00\n3 2020-05-28 09:06:00\n4 2020-05-28 09:06:00",
      "text/html": "<div>\n<style scoped>\n    .dataframe tbody tr th:only-of-type {\n        vertical-align: middle;\n    }\n\n    .dataframe tbody tr th {\n        vertical-align: top;\n    }\n\n    .dataframe thead th {\n        text-align: right;\n    }\n</style>\n<table border=\"1\" class=\"dataframe\">\n  <thead>\n    <tr style=\"text-align: right;\">\n      <th></th>\n      <th>updateTime</th>\n    </tr>\n  </thead>\n  <tbody>\n    <tr>\n      <th>0</th>\n      <td>2020-05-28 09:06:00</td>\n    </tr>\n    <tr>\n      <th>1</th>\n      <td>2020-05-28 09:06:00</td>\n    </tr>\n    <tr>\n      <th>2</th>\n      <td>2020-05-28 09:06:00</td>\n    </tr>\n    <tr>\n      <th>3</th>\n      <td>2020-05-28 09:06:00</td>\n    </tr>\n    <tr>\n      <th>4</th>\n      <td>2020-05-28 09:06:00</td>\n    </tr>\n  </tbody>\n</table>\n</div>"
     },
     "execution_count": 203,
     "metadata": {},
     "output_type": "execute_result"
    }
   ],
   "source": [
    "b = pd.DataFrame(a)\n",
    "b.head()"
   ],
   "metadata": {
    "collapsed": false,
    "pycharm": {
     "name": "#%%\n"
    }
   }
  },
  {
   "cell_type": "code",
   "execution_count": 222,
   "outputs": [
    {
     "data": {
      "text/plain": "                    updateTime\nupdateTime                    \n2020-05-28 2020-05-28 09:06:00\n2020-05-28 2020-05-28 09:06:00\n2020-05-28 2020-05-28 09:06:00\n2020-05-28 2020-05-28 09:06:00\n2020-05-28 2020-05-28 09:06:00\n...                        ...\n2020-01-22 2020-01-22 03:28:00\n2020-01-22 2020-01-22 03:28:00\n2020-01-22 2020-01-22 03:28:00\n2020-01-22 2020-01-22 03:28:00\n2020-01-22 2020-01-22 03:28:00\n\n[86070 rows x 1 columns]",
      "text/html": "<div>\n<style scoped>\n    .dataframe tbody tr th:only-of-type {\n        vertical-align: middle;\n    }\n\n    .dataframe tbody tr th {\n        vertical-align: top;\n    }\n\n    .dataframe thead th {\n        text-align: right;\n    }\n</style>\n<table border=\"1\" class=\"dataframe\">\n  <thead>\n    <tr style=\"text-align: right;\">\n      <th></th>\n      <th>updateTime</th>\n    </tr>\n    <tr>\n      <th>updateTime</th>\n      <th></th>\n    </tr>\n  </thead>\n  <tbody>\n    <tr>\n      <th>2020-05-28</th>\n      <td>2020-05-28 09:06:00</td>\n    </tr>\n    <tr>\n      <th>2020-05-28</th>\n      <td>2020-05-28 09:06:00</td>\n    </tr>\n    <tr>\n      <th>2020-05-28</th>\n      <td>2020-05-28 09:06:00</td>\n    </tr>\n    <tr>\n      <th>2020-05-28</th>\n      <td>2020-05-28 09:06:00</td>\n    </tr>\n    <tr>\n      <th>2020-05-28</th>\n      <td>2020-05-28 09:06:00</td>\n    </tr>\n    <tr>\n      <th>...</th>\n      <td>...</td>\n    </tr>\n    <tr>\n      <th>2020-01-22</th>\n      <td>2020-01-22 03:28:00</td>\n    </tr>\n    <tr>\n      <th>2020-01-22</th>\n      <td>2020-01-22 03:28:00</td>\n    </tr>\n    <tr>\n      <th>2020-01-22</th>\n      <td>2020-01-22 03:28:00</td>\n    </tr>\n    <tr>\n      <th>2020-01-22</th>\n      <td>2020-01-22 03:28:00</td>\n    </tr>\n    <tr>\n      <th>2020-01-22</th>\n      <td>2020-01-22 03:28:00</td>\n    </tr>\n  </tbody>\n</table>\n<p>86070 rows × 1 columns</p>\n</div>"
     },
     "execution_count": 222,
     "metadata": {},
     "output_type": "execute_result"
    }
   ],
   "source": [
    "b.set_index(b.updateTime).to_period('D')"
   ],
   "metadata": {
    "collapsed": false,
    "pycharm": {
     "name": "#%%\n"
    }
   }
  },
  {
   "cell_type": "code",
   "execution_count": 82,
   "outputs": [
    {
     "data": {
      "text/plain": "updateTime\n2020-05-28    1.375912\n2020-05-28   -0.265750\n2020-05-28   -1.346837\n2020-05-28   -0.512703\n2020-05-28    0.779965\ndtype: float64"
     },
     "execution_count": 82,
     "metadata": {},
     "output_type": "execute_result"
    }
   ],
   "source": [
    "b =pd.Series(data=np.random.randn(len(data['updateTime'])),index=a)\n",
    "b.head()"
   ],
   "metadata": {
    "collapsed": false,
    "pycharm": {
     "name": "#%%\n"
    }
   }
  },
  {
   "cell_type": "code",
   "execution_count": 83,
   "outputs": [
    {
     "data": {
      "text/plain": "updateTime\n2020-05    1.375912\n2020-05   -0.265750\n2020-05   -1.346837\n2020-05   -0.512703\n2020-05    0.779965\n             ...   \n2020-01   -0.902487\n2020-01    0.245378\n2020-01    0.718088\n2020-01   -0.893968\n2020-01   -0.390329\nFreq: M, Length: 86070, dtype: float64"
     },
     "execution_count": 83,
     "metadata": {},
     "output_type": "execute_result"
    }
   ],
   "source": [
    "b.to_period('M')\n"
   ],
   "metadata": {
    "collapsed": false,
    "pycharm": {
     "name": "#%%\n"
    }
   }
  },
  {
   "cell_type": "code",
   "execution_count": 89,
   "outputs": [],
   "source": [
    "new.to_csv('/Users/joey/Desktop/superset csv/DXYArea_china.csv')\n",
    "\n"
   ],
   "metadata": {
    "collapsed": false,
    "pycharm": {
     "name": "#%%\n"
    }
   }
  },
  {
   "cell_type": "code",
   "execution_count": null,
   "outputs": [],
   "source": [
    "\n"
   ],
   "metadata": {
    "collapsed": false,
    "pycharm": {
     "name": "#%%\n"
    }
   }
  }
 ],
 "metadata": {
  "kernelspec": {
   "display_name": "PyCharm (mywork)",
   "language": "python",
   "name": "pycharm-f39caa95"
  },
  "language_info": {
   "codemirror_mode": {
    "name": "ipython",
    "version": 2
   },
   "file_extension": ".py",
   "mimetype": "text/x-python",
   "name": "python",
   "nbconvert_exporter": "python",
   "pygments_lexer": "ipython2",
   "version": "2.7.6"
  }
 },
 "nbformat": 4,
 "nbformat_minor": 0
}