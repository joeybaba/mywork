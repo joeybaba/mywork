{
 "cells": [
  {
   "cell_type": "code",
   "execution_count": 1,
   "metadata": {
    "colab": {
     "base_uri": "https://localhost:8080/",
     "height": 34
    },
    "colab_type": "code",
    "executionInfo": {
     "elapsed": 6284,
     "status": "ok",
     "timestamp": 1583461808336,
     "user": {
      "displayName": "jian Xu",
      "photoUrl": "",
      "userId": "02019284238930330026"
     },
     "user_tz": 360
    },
    "id": "dkIJ5orxp7Nc",
    "outputId": "a6c38ee3-e339-46eb-cf3e-b29a17b5ac5c"
   },
   "outputs": [
    {
     "name": "stdout",
     "output_type": "stream",
     "text": [
      "fatal: destination path 'nCov2019_analysis' already exists and is not an empty directory.\n"
     ]
    }
   ],
   "source": [
    "! git clone https://github.com/jianxu305/nCov2019_analysis/\n",
    "#! git pull"
   ]
  },
  {
   "cell_type": "code",
   "execution_count": null,
   "metadata": {
    "colab": {},
    "colab_type": "code",
    "id": "YiCtZv8aqASf"
   },
   "outputs": [],
   "source": [
    "import sys\n",
    "import os\n",
    "os.chdir('/content/nCov2019_analysis/src')\n",
    "\n",
    "sys.path.append('/content/nCov2019_analysis/src')"
   ]
  },
  {
   "cell_type": "code",
   "execution_count": 17,
   "metadata": {
    "colab": {},
    "colab_type": "code",
    "id": "LYgkJCsgqP14"
   },
   "outputs": [
    {
     "name": "stdout",
     "output_type": "stream",
     "text": [
      "The autoreload extension is already loaded. To reload it, use:\n",
      "  %reload_ext autoreload\n"
     ]
    }
   ],
   "source": [
    "import pandas as pd\n",
    "import numpy as np\n",
    "import matplotlib.pyplot as plt\n",
    "import utils   # some convenient functions\n",
    "import matplotlib.font_manager as mfm\n",
    "import datetime\n",
    "\n",
    "%load_ext autoreload\n",
    "%autoreload 2"
   ]
  },
  {
   "cell_type": "code",
   "execution_count": 4,
   "metadata": {
    "colab": {
     "base_uri": "https://localhost:8080/",
     "height": 68
    },
    "colab_type": "code",
    "executionInfo": {
     "elapsed": 6831,
     "status": "ok",
     "timestamp": 1583461808968,
     "user": {
      "displayName": "jian Xu",
      "photoUrl": "",
      "userId": "02019284238930330026"
     },
     "user_tz": 360
    },
    "id": "yth1KlwfslkQ",
    "outputId": "33befe25-df25-4894-f64e-f7b2d06b9ae1"
   },
   "outputs": [
    {
     "name": "stdout",
     "output_type": "stream",
     "text": [
      "Last update:  2020-03-06 09:20:02.598000\n",
      "Data date range:  2020-01-24 to 2020-03-06\n",
      "Number of rows in raw data:  64790\n"
     ]
    }
   ],
   "source": [
    "dxy_raw = utils.load_chinese_data()"
   ]
  },
  {
   "cell_type": "code",
   "execution_count": null,
   "metadata": {
    "colab": {},
    "colab_type": "code",
    "id": "mWkO9PYiswpO"
   },
   "outputs": [],
   "source": [
    "dxy_frm = utils.aggDaily(dxy_raw)"
   ]
  },
  {
   "cell_type": "code",
   "execution_count": 18,
   "metadata": {
    "colab": {},
    "colab_type": "code",
    "id": "UEKLvWIheOqI"
   },
   "outputs": [],
   "source": [
    "jhs_raw = utils.load_jhs_raw()"
   ]
  },
  {
   "cell_type": "code",
   "execution_count": 19,
   "metadata": {
    "colab": {},
    "colab_type": "code",
    "id": "ytXSdb87Of91"
   },
   "outputs": [],
   "source": [
    "jhs_frm = utils.jhs_daily(jhs_raw)"
   ]
  },
  {
   "cell_type": "code",
   "execution_count": 8,
   "metadata": {
    "colab": {
     "base_uri": "https://localhost:8080/",
     "height": 326
    },
    "colab_type": "code",
    "executionInfo": {
     "elapsed": 46095,
     "status": "ok",
     "timestamp": 1583461848296,
     "user": {
      "displayName": "jian Xu",
      "photoUrl": "",
      "userId": "02019284238930330026"
     },
     "user_tz": 360
    },
    "id": "dTWZri5fOnBb",
    "outputId": "c95c6c3e-21e4-4d8a-cc8b-f10c4139363e"
   },
   "outputs": [
    {
     "data": {
      "text/html": [
       "<div>\n",
       "<style scoped>\n",
       "    .dataframe tbody tr th:only-of-type {\n",
       "        vertical-align: middle;\n",
       "    }\n",
       "\n",
       "    .dataframe tbody tr th {\n",
       "        vertical-align: top;\n",
       "    }\n",
       "\n",
       "    .dataframe thead th {\n",
       "        text-align: right;\n",
       "    }\n",
       "</style>\n",
       "<table border=\"1\" class=\"dataframe\">\n",
       "  <thead>\n",
       "    <tr style=\"text-align: right;\">\n",
       "      <th></th>\n",
       "      <th>province/state</th>\n",
       "      <th>country/region</th>\n",
       "      <th>Last Update</th>\n",
       "      <th>cum_confirmed</th>\n",
       "      <th>cum_dead</th>\n",
       "      <th>cum_cured</th>\n",
       "      <th>Latitude</th>\n",
       "      <th>Longitude</th>\n",
       "      <th>update_time</th>\n",
       "      <th>update_date</th>\n",
       "      <th>new_confirmed</th>\n",
       "      <th>new_dead</th>\n",
       "      <th>new_cured</th>\n",
       "    </tr>\n",
       "  </thead>\n",
       "  <tbody>\n",
       "    <tr>\n",
       "      <th>2263</th>\n",
       "      <td>Santa Rosa County, FL</td>\n",
       "      <td>US</td>\n",
       "      <td>2020-03-05T20:03:03</td>\n",
       "      <td>1.0</td>\n",
       "      <td>0.0</td>\n",
       "      <td>0.0</td>\n",
       "      <td>30.7690</td>\n",
       "      <td>-86.9824</td>\n",
       "      <td>2020-03-05 20:03:03</td>\n",
       "      <td>2020-03-05</td>\n",
       "      <td>1.0</td>\n",
       "      <td>0.0</td>\n",
       "      <td>0.0</td>\n",
       "    </tr>\n",
       "    <tr>\n",
       "      <th>2264</th>\n",
       "      <td>Snohomish County, WA</td>\n",
       "      <td>US</td>\n",
       "      <td>2020-03-05T20:23:07</td>\n",
       "      <td>18.0</td>\n",
       "      <td>1.0</td>\n",
       "      <td>0.0</td>\n",
       "      <td>48.0330</td>\n",
       "      <td>-121.8339</td>\n",
       "      <td>2020-03-05 20:23:07</td>\n",
       "      <td>2020-03-05</td>\n",
       "      <td>10.0</td>\n",
       "      <td>0.0</td>\n",
       "      <td>0.0</td>\n",
       "    </tr>\n",
       "    <tr>\n",
       "      <th>2265</th>\n",
       "      <td>Westchester County, NY</td>\n",
       "      <td>US</td>\n",
       "      <td>2020-03-05T21:33:03</td>\n",
       "      <td>18.0</td>\n",
       "      <td>0.0</td>\n",
       "      <td>0.0</td>\n",
       "      <td>41.1220</td>\n",
       "      <td>-73.7949</td>\n",
       "      <td>2020-03-05 21:33:03</td>\n",
       "      <td>2020-03-05</td>\n",
       "      <td>8.0</td>\n",
       "      <td>0.0</td>\n",
       "      <td>0.0</td>\n",
       "    </tr>\n",
       "    <tr>\n",
       "      <th>2266</th>\n",
       "      <td>Williamson County, TN</td>\n",
       "      <td>US</td>\n",
       "      <td>2020-03-05T23:33:03</td>\n",
       "      <td>1.0</td>\n",
       "      <td>0.0</td>\n",
       "      <td>0.0</td>\n",
       "      <td>35.9179</td>\n",
       "      <td>-86.8622</td>\n",
       "      <td>2020-03-05 23:33:03</td>\n",
       "      <td>2020-03-05</td>\n",
       "      <td>1.0</td>\n",
       "      <td>0.0</td>\n",
       "      <td>0.0</td>\n",
       "    </tr>\n",
       "    <tr>\n",
       "      <th>2267</th>\n",
       "      <td></td>\n",
       "      <td>United Arab Emirates</td>\n",
       "      <td>2020-03-05T23:53:02</td>\n",
       "      <td>29.0</td>\n",
       "      <td>0.0</td>\n",
       "      <td>5.0</td>\n",
       "      <td>24.0000</td>\n",
       "      <td>54.0000</td>\n",
       "      <td>2020-03-05 23:53:02</td>\n",
       "      <td>2020-03-05</td>\n",
       "      <td>2.0</td>\n",
       "      <td>0.0</td>\n",
       "      <td>0.0</td>\n",
       "    </tr>\n",
       "  </tbody>\n",
       "</table>\n",
       "</div>"
      ],
      "text/plain": [
       "              province/state        country/region  ... new_dead  new_cured\n",
       "2263   Santa Rosa County, FL                    US  ...      0.0        0.0\n",
       "2264    Snohomish County, WA                    US  ...      0.0        0.0\n",
       "2265  Westchester County, NY                    US  ...      0.0        0.0\n",
       "2266   Williamson County, TN                    US  ...      0.0        0.0\n",
       "2267                          United Arab Emirates  ...      0.0        0.0\n",
       "\n",
       "[5 rows x 13 columns]"
      ]
     },
     "execution_count": 8,
     "metadata": {
      "tags": []
     },
     "output_type": "execute_result"
    }
   ],
   "source": [
    "jhs_frm.tail()"
   ]
  },
  {
   "cell_type": "markdown",
   "metadata": {
    "colab_type": "text",
    "id": "XjiQu56eMgvQ"
   },
   "source": [
    "## 1. Sanity Check\n",
    "### 1.1 Take a Brief Look at the data"
   ]
  },
  {
   "cell_type": "code",
   "execution_count": 9,
   "metadata": {
    "colab": {
     "base_uri": "https://localhost:8080/",
     "height": 0
    },
    "colab_type": "code",
    "executionInfo": {
     "elapsed": 47211,
     "status": "ok",
     "timestamp": 1583461849455,
     "user": {
      "displayName": "jian Xu",
      "photoUrl": "",
      "userId": "02019284238930330026"
     },
     "user_tz": 360
    },
    "id": "z3cm-ThnMkVW",
    "outputId": "002dfe83-9250-4f9a-b4ef-9bfb6539606d"
   },
   "outputs": [
    {
     "data": {
      "image/png": "[encoded data removed]",
      "text/plain": [
       "<Figure size 864x576 with 3 Axes>"
      ]
     },
     "metadata": {
      "tags": []
     },
     "output_type": "display_data"
    }
   ],
   "source": [
    "fig = utils.tsplot_conf_dead_cured(jhs_frm[jhs_frm['country/region'] == 'South Korea'], \n",
    "                                   title='Confirmed, Dead, Cured within South Korea', figsize=(12, 8))"
   ]
  },
  {
   "cell_type": "markdown",
   "metadata": {
    "colab_type": "text",
    "id": "tMaiFAL8oyl2"
   },
   "source": [
    "### 1.2 Compare with Ding Xiang Yuan Chinese Data"
   ]
  },
  {
   "cell_type": "code",
   "execution_count": null,
   "metadata": {
    "colab": {},
    "colab_type": "code",
    "id": "lu49nXo6ouzt"
   },
   "outputs": [],
   "source": [
    "jhs_china = jhs_frm[jhs_frm['country/region'] == 'Mainland China'].groupby(['update_date'])[['cum_confirmed', 'cum_dead']].agg('sum')\n",
    "jhs_china = jhs_china.add_suffix('_JHS').reset_index()"
   ]
  },
  {
   "cell_type": "code",
   "execution_count": null,
   "metadata": {
    "colab": {},
    "colab_type": "code",
    "id": "TzuUpE4RQBYr"
   },
   "outputs": [],
   "source": [
    "dxy_china = dxy_frm.groupby(['update_date'])[['cum_confirmed', 'cum_dead']].agg('sum')\n",
    "dxy_china = dxy_china.add_suffix('_DXY').reset_index()"
   ]
  },
  {
   "cell_type": "code",
   "execution_count": null,
   "metadata": {
    "colab": {},
    "colab_type": "code",
    "id": "t6KcGgsJQmPO"
   },
   "outputs": [],
   "source": [
    "comp = pd.merge(jhs_china, dxy_china, on='update_date').set_index('update_date')"
   ]
  },
  {
   "cell_type": "code",
   "execution_count": 13,
   "metadata": {
    "colab": {
     "base_uri": "https://localhost:8080/",
     "height": 0
    },
    "colab_type": "code",
    "executionInfo": {
     "elapsed": 47285,
     "status": "ok",
     "timestamp": 1583461849693,
     "user": {
      "displayName": "jian Xu",
      "photoUrl": "",
      "userId": "02019284238930330026"
     },
     "user_tz": 360
    },
    "id": "beJmI-mzXHnG",
    "outputId": "af8735db-aec7-4926-bad8-27519e4f631d"
   },
   "outputs": [
    {
     "data": {
      "text/plain": [
       "<matplotlib.axes._subplots.AxesSubplot at 0x7f1c310c8550>"
      ]
     },
     "execution_count": 13,
     "metadata": {
      "tags": []
     },
     "output_type": "execute_result"
    },
    {
     "data": {
      "image/png": "[encoded data removed]",
      "text/plain": [
       "<Figure size 432x288 with 1 Axes>"
      ]
     },
     "metadata": {
      "tags": []
     },
     "output_type": "display_data"
    }
   ],
   "source": [
    "comp.plot(y=['cum_confirmed_DXY', 'cum_confirmed_JHS'], marker='*', grid=True)"
   ]
  },
  {
   "cell_type": "code",
   "execution_count": 14,
   "metadata": {
    "colab": {
     "base_uri": "https://localhost:8080/",
     "height": 0
    },
    "colab_type": "code",
    "executionInfo": {
     "elapsed": 47759,
     "status": "ok",
     "timestamp": 1583461850203,
     "user": {
      "displayName": "jian Xu",
      "photoUrl": "",
      "userId": "02019284238930330026"
     },
     "user_tz": 360
    },
    "id": "cWZHFBpGXrAi",
    "outputId": "fd1553aa-801f-4323-9e34-a6124612e3ca"
   },
   "outputs": [
    {
     "data": {
      "text/plain": [
       "<matplotlib.axes._subplots.AxesSubplot at 0x7f1c31224e80>"
      ]
     },
     "execution_count": 14,
     "metadata": {
      "tags": []
     },
     "output_type": "execute_result"
    },
    {
     "data": {
      "image/png": "[encoded data removed]",
      "text/plain": [
       "<Figure size 432x288 with 1 Axes>"
      ]
     },
     "metadata": {
      "tags": []
     },
     "output_type": "display_data"
    }
   ],
   "source": [
    "comp.plot(y=['cum_dead_DXY', 'cum_dead_JHS'], marker='*', grid=True)"
   ]
  },
  {
   "cell_type": "markdown",
   "metadata": {
    "colab_type": "text",
    "id": "2sFu8Jp5NIG2"
   },
   "source": [
    "## 2. Mortality Rate vs Confirmed Count"
   ]
  },
  {
   "cell_type": "code",
   "execution_count": 15,
   "metadata": {
    "colab": {
     "base_uri": "https://localhost:8080/",
     "height": 190
    },
    "colab_type": "code",
    "executionInfo": {
     "elapsed": 50547,
     "status": "ok",
     "timestamp": 1583461853024,
     "user": {
      "displayName": "jian Xu",
      "photoUrl": "",
      "userId": "02019284238930330026"
     },
     "user_tz": 360
    },
    "id": "egit-TifdN9I",
    "outputId": "8cf0c7cd-e4fc-4fc4-e335-98dc636baccf"
   },
   "outputs": [
    {
     "name": "stdout",
     "output_type": "stream",
     "text": [
      "Requirement already satisfied: chart_studio in /usr/local/lib/python3.6/dist-packages (1.0.0)\n",
      "Requirement already satisfied: plotly in /usr/local/lib/python3.6/dist-packages (from chart_studio) (4.4.1)\n",
      "Requirement already satisfied: requests in /usr/local/lib/python3.6/dist-packages (from chart_studio) (2.21.0)\n",
      "Requirement already satisfied: six in /usr/local/lib/python3.6/dist-packages (from chart_studio) (1.12.0)\n",
      "Requirement already satisfied: retrying>=1.3.3 in /usr/local/lib/python3.6/dist-packages (from chart_studio) (1.3.3)\n",
      "Requirement already satisfied: certifi>=2017.4.17 in /usr/local/lib/python3.6/dist-packages (from requests->chart_studio) (2019.11.28)\n",
      "Requirement already satisfied: idna<2.9,>=2.5 in /usr/local/lib/python3.6/dist-packages (from requests->chart_studio) (2.8)\n",
      "Requirement already satisfied: urllib3<1.25,>=1.21.1 in /usr/local/lib/python3.6/dist-packages (from requests->chart_studio) (1.24.3)\n",
      "Requirement already satisfied: chardet<3.1.0,>=3.0.2 in /usr/local/lib/python3.6/dist-packages (from requests->chart_studio) (3.0.4)\n"
     ]
    }
   ],
   "source": [
    "!pip install chart_studio"
   ]
  },
  {
   "cell_type": "code",
   "execution_count": null,
   "metadata": {
    "colab": {},
    "colab_type": "code",
    "id": "4OefTkNUvQ4t"
   },
   "outputs": [],
   "source": [
    "import plotly.express as px\n",
    "import chart_studio\n",
    "import chart_studio.plotly as py\n",
    "import plotly.graph_objects as go\n",
    "import plotly.io as pio"
   ]
  },
  {
   "cell_type": "code",
   "execution_count": null,
   "metadata": {
    "colab": {},
    "colab_type": "code",
    "id": "qYwdMHItYi4B"
   },
   "outputs": [],
   "source": [
    "api_key  = ''  # use you own key\n",
    "user_name = ''  # use your own user name\n",
    "chart_studio.tools.set_credentials_file(username=user_name, api_key=api_key)"
   ]
  },
  {
   "cell_type": "code",
   "execution_count": null,
   "metadata": {
    "colab": {},
    "colab_type": "code",
    "id": "0UyNzX7WdOi4"
   },
   "outputs": [],
   "source": [
    "# most international data only has country info, so do not drill down to finer level now\n",
    "country_frm = jhs_frm.groupby(['country/region', 'update_date']).agg('sum')  "
   ]
  },
  {
   "cell_type": "markdown",
   "metadata": {
    "colab_type": "text",
    "id": "Qa48ptEoBIZp"
   },
   "source": [
    "### Remove Some Data Problem\n",
    "Japan and US has some dates with negative new_confirm"
   ]
  },
  {
   "cell_type": "code",
   "execution_count": 19,
   "metadata": {
    "colab": {
     "base_uri": "https://localhost:8080/",
     "height": 142
    },
    "colab_type": "code",
    "executionInfo": {
     "elapsed": 50784,
     "status": "ok",
     "timestamp": 1583461853420,
     "user": {
      "displayName": "jian Xu",
      "photoUrl": "",
      "userId": "02019284238930330026"
     },
     "user_tz": 360
    },
    "id": "jqkIWY7iA_YU",
    "outputId": "ce232528-8b33-47b4-bfc5-9bba0bd404bc"
   },
   "outputs": [
    {
     "data": {
      "text/html": [
       "<div>\n",
       "<style scoped>\n",
       "    .dataframe tbody tr th:only-of-type {\n",
       "        vertical-align: middle;\n",
       "    }\n",
       "\n",
       "    .dataframe tbody tr th {\n",
       "        vertical-align: top;\n",
       "    }\n",
       "\n",
       "    .dataframe thead th {\n",
       "        text-align: right;\n",
       "    }\n",
       "</style>\n",
       "<table border=\"1\" class=\"dataframe\">\n",
       "  <thead>\n",
       "    <tr style=\"text-align: right;\">\n",
       "      <th></th>\n",
       "      <th></th>\n",
       "      <th>cum_confirmed</th>\n",
       "      <th>cum_dead</th>\n",
       "      <th>cum_cured</th>\n",
       "      <th>Latitude</th>\n",
       "      <th>Longitude</th>\n",
       "      <th>new_confirmed</th>\n",
       "      <th>new_dead</th>\n",
       "      <th>new_cured</th>\n",
       "    </tr>\n",
       "    <tr>\n",
       "      <th>country/region</th>\n",
       "      <th>update_date</th>\n",
       "      <th></th>\n",
       "      <th></th>\n",
       "      <th></th>\n",
       "      <th></th>\n",
       "      <th></th>\n",
       "      <th></th>\n",
       "      <th></th>\n",
       "      <th></th>\n",
       "    </tr>\n",
       "  </thead>\n",
       "  <tbody>\n",
       "    <tr>\n",
       "      <th rowspan=\"2\" valign=\"top\">Japan</th>\n",
       "      <th>2020-01-23</th>\n",
       "      <td>1.0</td>\n",
       "      <td>0.0</td>\n",
       "      <td>0.0</td>\n",
       "      <td>0.0</td>\n",
       "      <td>0.0</td>\n",
       "      <td>-1.0</td>\n",
       "      <td>0.0</td>\n",
       "      <td>0.0</td>\n",
       "    </tr>\n",
       "    <tr>\n",
       "      <th>2020-02-07</th>\n",
       "      <td>25.0</td>\n",
       "      <td>0.0</td>\n",
       "      <td>1.0</td>\n",
       "      <td>0.0</td>\n",
       "      <td>0.0</td>\n",
       "      <td>-20.0</td>\n",
       "      <td>0.0</td>\n",
       "      <td>0.0</td>\n",
       "    </tr>\n",
       "  </tbody>\n",
       "</table>\n",
       "</div>"
      ],
      "text/plain": [
       "                            cum_confirmed  cum_dead  ...  new_dead  new_cured\n",
       "country/region update_date                           ...                     \n",
       "Japan          2020-01-23             1.0       0.0  ...       0.0        0.0\n",
       "               2020-02-07            25.0       0.0  ...       0.0        0.0\n",
       "\n",
       "[2 rows x 8 columns]"
      ]
     },
     "execution_count": 19,
     "metadata": {
      "tags": []
     },
     "output_type": "execute_result"
    }
   ],
   "source": [
    "country_frm[country_frm['new_confirmed'] < 0]"
   ]
  },
  {
   "cell_type": "code",
   "execution_count": null,
   "metadata": {
    "colab": {},
    "colab_type": "code",
    "id": "7oPc6od1f15U"
   },
   "outputs": [],
   "source": [
    "country_frm['new_confirmed'] = np.maximum(0, country_frm['new_confirmed'])   # Japan 1/23, 2/7, US 2/24 have new confirmed < 0, looks like data error"
   ]
  },
  {
   "cell_type": "markdown",
   "metadata": {
    "colab_type": "text",
    "id": "lab92pyKBh7D"
   },
   "source": [
    "### Add Mortality Rate, Moving Average, etc"
   ]
  },
  {
   "cell_type": "code",
   "execution_count": null,
   "metadata": {
    "colab": {},
    "colab_type": "code",
    "id": "dAruDomBdcnV"
   },
   "outputs": [],
   "source": [
    "country_frm['mortality_rate'] = country_frm['cum_dead'] / country_frm['cum_confirmed']\n",
    "country_frm = utils.add_moving_average(country_frm, ['country/region'], win_size=3)"
   ]
  },
  {
   "cell_type": "code",
   "execution_count": null,
   "metadata": {
    "colab": {},
    "colab_type": "code",
    "id": "fen9OlCfhp2C"
   },
   "outputs": [],
   "source": [
    "# The following columns are mainly for plot rendering\n",
    "country_frm['new_confirmed_logMA'] = np.log10(country_frm['new_confirmed_MA'] + 2)\n",
    "color_countries = ['Mainland China', 'Japan', 'South Korea', 'Iran', 'Italy', 'Germany', \n",
    "                   'US', 'France', 'Spain', 'Diamond Princess', 'Thailandl', 'Taiwan', 'Hong Kong',\n",
    "                   'Singapore', 'UK', 'Iraq']\n",
    "country_frm['color'] = np.where(country_frm.index.get_level_values('country/region').isin(color_countries), \n",
    "                                country_frm.index.get_level_values('country/region'), \n",
    "                                'Other')\n",
    "country_ex_china = country_frm[country_frm.index.get_level_values('country/region') != 'Mainland China']"
   ]
  },
  {
   "cell_type": "code",
   "execution_count": 18,
   "metadata": {
    "colab": {
     "base_uri": "https://localhost:8080/",
     "height": 607
    },
    "colab_type": "code",
    "executionInfo": {
     "elapsed": 684,
     "status": "ok",
     "timestamp": 1583457844937,
     "user": {
      "displayName": "jian Xu",
      "photoUrl": "",
      "userId": "02019284238930330026"
     },
     "user_tz": 360
    },
    "id": "-MJWr8js6QL9",
    "outputId": "462332bf-0547-45cc-9584-74100dd48f34"
   },
   "outputs": [
    {
     "data": {
      "image/png": "[encoded data removed]",
      "text/plain": [
       "<Figure size 936x720 with 1 Axes>"
      ]
     },
     "metadata": {
      "tags": []
     },
     "output_type": "display_data"
    }
   ],
   "source": [
    "fig = utils.cross_sectional_bar(country_ex_china.reset_index(), '2020-03-03', 'cum_confirmed', 'country/region', 10,\n",
    "                                title='Top 10 contry/region with the most confirmed cases outside Mainland China')"
   ]
  },
  {
   "cell_type": "markdown",
   "metadata": {
    "colab_type": "text",
    "id": "Jk6hdHhOYXj4"
   },
   "source": [
    "#### Flashback to 2020-02-26"
   ]
  },
  {
   "cell_type": "code",
   "execution_count": 42,
   "metadata": {
    "colab": {
     "base_uri": "https://localhost:8080/",
     "height": 542
    },
    "colab_type": "code",
    "executionInfo": {
     "elapsed": 1178,
     "status": "ok",
     "timestamp": 1583462600580,
     "user": {
      "displayName": "jian Xu",
      "photoUrl": "",
      "userId": "02019284238930330026"
     },
     "user_tz": 360
    },
    "id": "XDNY6GZ9crP3",
    "outputId": "4370f7b9-96be-4f6d-85c2-fa14bce4415d"
   },
   "outputs": [
    {
     "data": {
      "text/html": [
       "<html>\n",
       "<head><meta charset=\"utf-8\" /></head>\n",
       "<body>\n",
       "    <div>\n",
       "            <script src=\"https://cdnjs.cloudflare.com/ajax/libs/mathjax/2.7.5/MathJax.js?config=TeX-AMS-MML_SVG\"></script><script type=\"text/javascript\">if (window.MathJax) {MathJax.Hub.Config({SVG: {font: \"STIX-Web\"}});}</script>\n",
       "                <script type=\"text/javascript\">window.PlotlyConfig = {MathJaxConfig: 'local'};</script>\n",
       "        <script src=\"https://cdn.plot.ly/plotly-latest.min.js\"></script>    \n",
       "            <div id=\"88d300cb-4c39-4d24-b7ed-a496fb1fc9d8\" class=\"plotly-graph-div\" style=\"height:525px; width:100%;\"></div>\n",
       "            <script type=\"text/javascript\">\n",
       "                \n",
       "                    window.PLOTLYENV=window.PLOTLYENV || {};\n",
       "                    \n",
       "                if (document.getElementById(\"88d300cb-4c39-4d24-b7ed-a496fb1fc9d8\")) {\n",
       "                    Plotly.newPlot(\n",
       "                        '88d300cb-4c39-4d24-b7ed-a496fb1fc9d8',\n",
       "                        [{\"customdata\": [[\"Diamond Princess\", 4.0, 705.0, 14.0, 1.0]], \"hoverlabel\": {\"namelength\": 0}, \"hovertemplate\": \"color=Diamond Princess<br>cum_confirmed=%{customdata[2]}<br>mortality_rate=%{y}<br>new_confirmed_logMA=%{marker.size}<br>country/region=%{text}<br>cum_dead=%{customdata[1]}<br>new_confirmed=%{customdata[3]}<br>new_dead=%{customdata[4]}\", \"legendgroup\": \"color=Diamond Princess\", \"marker\": {\"color\": \"#636efa\", \"size\": [1.4771212547196624], \"sizemode\": \"area\", \"sizeref\": 0.006661123501843994, \"symbol\": \"circle\"}, \"mode\": \"markers+text\", \"name\": \"color=Diamond Princess\", \"showlegend\": true, \"text\": [\"Diamond Princess\"], \"textposition\": \"top center\", \"type\": \"scatter\", \"x\": [705.0], \"xaxis\": \"x\", \"y\": [0.005673758865248227], \"yaxis\": \"y\"}, {\"customdata\": [[\"France\", 2.0, 18.0, 4.0, 1.0]], \"hoverlabel\": {\"namelength\": 0}, \"hovertemplate\": \"color=France<br>cum_confirmed=%{customdata[2]}<br>mortality_rate=%{y}<br>new_confirmed_logMA=%{marker.size}<br>country/region=%{text}<br>cum_dead=%{customdata[1]}<br>new_confirmed=%{customdata[3]}<br>new_dead=%{customdata[4]}\", \"legendgroup\": \"color=France\", \"marker\": {\"color\": \"#EF553B\", \"size\": [0.6368220975871743], \"sizemode\": \"area\", \"sizeref\": 0.006661123501843994, \"symbol\": \"circle\"}, \"mode\": \"markers+text\", \"name\": \"color=France\", \"showlegend\": true, \"text\": [\"France\"], \"textposition\": \"top center\", \"type\": \"scatter\", \"x\": [18.0], \"xaxis\": \"x\", \"y\": [0.1111111111111111], \"yaxis\": \"y\"}, {\"customdata\": [[\"Germany\", 0.0, 27.0, 10.0, 0.0]], \"hoverlabel\": {\"namelength\": 0}, \"hovertemplate\": \"color=Germany<br>cum_confirmed=%{customdata[2]}<br>mortality_rate=%{y}<br>new_confirmed_logMA=%{marker.size}<br>country/region=%{text}<br>cum_dead=%{customdata[1]}<br>new_confirmed=%{customdata[3]}<br>new_dead=%{customdata[4]}\", \"legendgroup\": \"color=Germany\", \"marker\": {\"color\": \"#00cc96\", \"size\": [0.7533276666586115], \"sizemode\": \"area\", \"sizeref\": 0.006661123501843994, \"symbol\": \"circle\"}, \"mode\": \"markers+text\", \"name\": \"color=Germany\", \"showlegend\": true, \"text\": [\"Germany\"], \"textposition\": \"top center\", \"type\": \"scatter\", \"x\": [27.0], \"xaxis\": \"x\", \"y\": [0.0], \"yaxis\": \"y\"}, {\"customdata\": [[\"Hong Kong\", 2.0, 91.0, 7.0, 0.0]], \"hoverlabel\": {\"namelength\": 0}, \"hovertemplate\": \"color=Hong Kong<br>cum_confirmed=%{customdata[2]}<br>mortality_rate=%{y}<br>new_confirmed_logMA=%{marker.size}<br>country/region=%{text}<br>cum_dead=%{customdata[1]}<br>new_confirmed=%{customdata[3]}<br>new_dead=%{customdata[4]}\", \"legendgroup\": \"color=Hong Kong\", \"marker\": {\"color\": \"#ab63fa\", \"size\": [0.8846065812979305], \"sizemode\": \"area\", \"sizeref\": 0.006661123501843994, \"symbol\": \"circle\"}, \"mode\": \"markers+text\", \"name\": \"color=Hong Kong\", \"showlegend\": true, \"text\": [\"Hong Kong\"], \"textposition\": \"top center\", \"type\": \"scatter\", \"x\": [91.0], \"xaxis\": \"x\", \"y\": [0.02197802197802198], \"yaxis\": \"y\"}, {\"customdata\": [[\"Iran\", 19.0, 139.0, 44.0, 3.0]], \"hoverlabel\": {\"namelength\": 0}, \"hovertemplate\": \"color=Iran<br>cum_confirmed=%{customdata[2]}<br>mortality_rate=%{y}<br>new_confirmed_logMA=%{marker.size}<br>country/region=%{text}<br>cum_dead=%{customdata[1]}<br>new_confirmed=%{customdata[3]}<br>new_dead=%{customdata[4]}\", \"legendgroup\": \"color=Iran\", \"marker\": {\"color\": \"#FFA15A\", \"size\": [1.5314789170422551], \"sizemode\": \"area\", \"sizeref\": 0.006661123501843994, \"symbol\": \"circle\"}, \"mode\": \"markers+text\", \"name\": \"color=Iran\", \"showlegend\": true, \"text\": [\"Iran\"], \"textposition\": \"top center\", \"type\": \"scatter\", \"x\": [139.0], \"xaxis\": \"x\", \"y\": [0.1366906474820144], \"yaxis\": \"y\"}, {\"customdata\": [[\"Iraq\", 0.0, 5.0, 4.0, 0.0]], \"hoverlabel\": {\"namelength\": 0}, \"hovertemplate\": \"color=Iraq<br>cum_confirmed=%{customdata[2]}<br>mortality_rate=%{y}<br>new_confirmed_logMA=%{marker.size}<br>country/region=%{text}<br>cum_dead=%{customdata[1]}<br>new_confirmed=%{customdata[3]}<br>new_dead=%{customdata[4]}\", \"legendgroup\": \"color=Iraq\", \"marker\": {\"color\": \"#19d3f3\", \"size\": [0.5642714304385626], \"sizemode\": \"area\", \"sizeref\": 0.006661123501843994, \"symbol\": \"circle\"}, \"mode\": \"markers+text\", \"name\": \"color=Iraq\", \"showlegend\": true, \"text\": [\"Iraq\"], \"textposition\": \"top center\", \"type\": \"scatter\", \"x\": [5.0], \"xaxis\": \"x\", \"y\": [0.0], \"yaxis\": \"y\"}, {\"customdata\": [[\"Italy\", 12.0, 453.0, 131.0, 2.0]], \"hoverlabel\": {\"namelength\": 0}, \"hovertemplate\": \"color=Italy<br>cum_confirmed=%{customdata[2]}<br>mortality_rate=%{y}<br>new_confirmed_logMA=%{marker.size}<br>country/region=%{text}<br>cum_dead=%{customdata[1]}<br>new_confirmed=%{customdata[3]}<br>new_dead=%{customdata[4]}\", \"legendgroup\": \"color=Italy\", \"marker\": {\"color\": \"#FF6692\", \"size\": [2.0057523288890913], \"sizemode\": \"area\", \"sizeref\": 0.006661123501843994, \"symbol\": \"circle\"}, \"mode\": \"markers+text\", \"name\": \"color=Italy\", \"showlegend\": true, \"text\": [\"Italy\"], \"textposition\": \"top center\", \"type\": \"scatter\", \"x\": [453.0], \"xaxis\": \"x\", \"y\": [0.026490066225165563], \"yaxis\": \"y\"}, {\"customdata\": [[\"Japan\", 2.0, 189.0, 19.0, 1.0]], \"hoverlabel\": {\"namelength\": 0}, \"hovertemplate\": \"color=Japan<br>cum_confirmed=%{customdata[2]}<br>mortality_rate=%{y}<br>new_confirmed_logMA=%{marker.size}<br>country/region=%{text}<br>cum_dead=%{customdata[1]}<br>new_confirmed=%{customdata[3]}<br>new_dead=%{customdata[4]}\", \"legendgroup\": \"color=Japan\", \"marker\": {\"color\": \"#B6E880\", \"size\": [1.2041199826559248], \"sizemode\": \"area\", \"sizeref\": 0.006661123501843994, \"symbol\": \"circle\"}, \"mode\": \"markers+text\", \"name\": \"color=Japan\", \"showlegend\": true, \"text\": [\"Japan\"], \"textposition\": \"top center\", \"type\": \"scatter\", \"x\": [189.0], \"xaxis\": \"x\", \"y\": [0.010582010582010581], \"yaxis\": \"y\"}, {\"customdata\": [[\"Singapore\", 0.0, 93.0, 2.0, 0.0]], \"hoverlabel\": {\"namelength\": 0}, \"hovertemplate\": \"color=Singapore<br>cum_confirmed=%{customdata[2]}<br>mortality_rate=%{y}<br>new_confirmed_logMA=%{marker.size}<br>country/region=%{text}<br>cum_dead=%{customdata[1]}<br>new_confirmed=%{customdata[3]}<br>new_dead=%{customdata[4]}\", \"legendgroup\": \"color=Singapore\", \"marker\": {\"color\": \"#FF97FF\", \"size\": [0.6690067809585756], \"sizemode\": \"area\", \"sizeref\": 0.006661123501843994, \"symbol\": \"circle\"}, \"mode\": \"markers+text\", \"name\": \"color=Singapore\", \"showlegend\": true, \"text\": [\"Singapore\"], \"textposition\": \"top center\", \"type\": \"scatter\", \"x\": [93.0], \"xaxis\": \"x\", \"y\": [0.0], \"yaxis\": \"y\"}, {\"customdata\": [[\"South Korea\", 12.0, 1261.0, 284.0, 2.0]], \"hoverlabel\": {\"namelength\": 0}, \"hovertemplate\": \"color=South Korea<br>cum_confirmed=%{customdata[2]}<br>mortality_rate=%{y}<br>new_confirmed_logMA=%{marker.size}<br>country/region=%{text}<br>cum_dead=%{customdata[1]}<br>new_confirmed=%{customdata[3]}<br>new_dead=%{customdata[4]}\", \"legendgroup\": \"color=South Korea\", \"marker\": {\"color\": \"#FECB52\", \"size\": [2.345700390583442], \"sizemode\": \"area\", \"sizeref\": 0.006661123501843994, \"symbol\": \"circle\"}, \"mode\": \"markers+text\", \"name\": \"color=South Korea\", \"showlegend\": true, \"text\": [\"South Korea\"], \"textposition\": \"top center\", \"type\": \"scatter\", \"x\": [1261.0], \"xaxis\": \"x\", \"y\": [0.00951625693893735], \"yaxis\": \"y\"}, {\"customdata\": [[\"Spain\", 0.0, 13.0, 7.0, 0.0]], \"hoverlabel\": {\"namelength\": 0}, \"hovertemplate\": \"color=Spain<br>cum_confirmed=%{customdata[2]}<br>mortality_rate=%{y}<br>new_confirmed_logMA=%{marker.size}<br>country/region=%{text}<br>cum_dead=%{customdata[1]}<br>new_confirmed=%{customdata[3]}<br>new_dead=%{customdata[4]}\", \"legendgroup\": \"color=Spain\", \"marker\": {\"color\": \"#636efa\", \"size\": [0.7533276666586115], \"sizemode\": \"area\", \"sizeref\": 0.006661123501843994, \"symbol\": \"circle\"}, \"mode\": \"markers+text\", \"name\": \"color=Spain\", \"showlegend\": true, \"text\": [\"Spain\"], \"textposition\": \"top center\", \"type\": \"scatter\", \"x\": [13.0], \"xaxis\": \"x\", \"y\": [0.0], \"yaxis\": \"y\"}, {\"customdata\": [[\"Taiwan\", 1.0, 32.0, 1.0, 0.0]], \"hoverlabel\": {\"namelength\": 0}, \"hovertemplate\": \"color=Taiwan<br>cum_confirmed=%{customdata[2]}<br>mortality_rate=%{y}<br>new_confirmed_logMA=%{marker.size}<br>country/region=%{text}<br>cum_dead=%{customdata[1]}<br>new_confirmed=%{customdata[3]}<br>new_dead=%{customdata[4]}\", \"legendgroup\": \"color=Taiwan\", \"marker\": {\"color\": \"#EF553B\", \"size\": [0.5228787452803375], \"sizemode\": \"area\", \"sizeref\": 0.006661123501843994, \"symbol\": \"circle\"}, \"mode\": \"markers+text\", \"name\": \"color=Taiwan\", \"showlegend\": true, \"text\": [\"Taiwan\"], \"textposition\": \"top center\", \"type\": \"scatter\", \"x\": [32.0], \"xaxis\": \"x\", \"y\": [0.03125], \"yaxis\": \"y\"}, {\"customdata\": [[\"US\", 0.0, 42.0, 6.0, 0.0]], \"hoverlabel\": {\"namelength\": 0}, \"hovertemplate\": \"color=US<br>cum_confirmed=%{customdata[2]}<br>mortality_rate=%{y}<br>new_confirmed_logMA=%{marker.size}<br>country/region=%{text}<br>cum_dead=%{customdata[1]}<br>new_confirmed=%{customdata[3]}<br>new_dead=%{customdata[4]}\", \"legendgroup\": \"color=US\", \"marker\": {\"color\": \"#00cc96\", \"size\": [1.0], \"sizemode\": \"area\", \"sizeref\": 0.006661123501843994, \"symbol\": \"circle\"}, \"mode\": \"markers+text\", \"name\": \"color=US\", \"showlegend\": true, \"text\": [\"US\"], \"textposition\": \"top center\", \"type\": \"scatter\", \"x\": [42.0], \"xaxis\": \"x\", \"y\": [0.0], \"yaxis\": \"y\"}, {\"line\": {\"color\": \"orange\", \"dash\": \"dot\"}, \"mode\": \"lines\", \"textposition\": \"top center\", \"type\": \"scatter\", \"x\": [100, 100], \"y\": [-0.01, 0.15]}, {\"line\": {\"color\": \"orange\", \"dash\": \"dot\"}, \"mode\": \"lines\", \"textposition\": \"top center\", \"type\": \"scatter\", \"x\": [500, 500], \"y\": [-0.01, 0.15]}, {\"line\": {\"color\": \"orange\", \"dash\": \"dot\"}, \"mode\": \"lines\", \"textposition\": \"top center\", \"type\": \"scatter\", \"x\": [4, 2000], \"y\": [0.02, 0.02]}, {\"line\": {\"color\": \"orange\", \"dash\": \"dot\"}, \"mode\": \"lines\", \"textposition\": \"top center\", \"type\": \"scatter\", \"x\": [4, 2000], \"y\": [0.01, 0.01]}],\n",
       "                        {\"legend\": {\"itemsizing\": \"constant\", \"tracegroupgap\": 0}, \"template\": {\"data\": {\"bar\": [{\"error_x\": {\"color\": \"#2a3f5f\"}, \"error_y\": {\"color\": \"#2a3f5f\"}, \"marker\": {\"line\": {\"color\": \"#E5ECF6\", \"width\": 0.5}}, \"type\": \"bar\"}], \"barpolar\": [{\"marker\": {\"line\": {\"color\": \"#E5ECF6\", \"width\": 0.5}}, \"type\": \"barpolar\"}], \"carpet\": [{\"aaxis\": {\"endlinecolor\": \"#2a3f5f\", \"gridcolor\": \"white\", \"linecolor\": \"white\", \"minorgridcolor\": \"white\", \"startlinecolor\": \"#2a3f5f\"}, \"baxis\": {\"endlinecolor\": \"#2a3f5f\", \"gridcolor\": \"white\", \"linecolor\": \"white\", \"minorgridcolor\": \"white\", \"startlinecolor\": \"#2a3f5f\"}, \"type\": \"carpet\"}], \"choropleth\": [{\"colorbar\": {\"outlinewidth\": 0, \"ticks\": \"\"}, \"type\": \"choropleth\"}], \"contour\": [{\"colorbar\": {\"outlinewidth\": 0, \"ticks\": \"\"}, \"colorscale\": [[0.0, \"#0d0887\"], [0.1111111111111111, \"#46039f\"], [0.2222222222222222, \"#7201a8\"], [0.3333333333333333, \"#9c179e\"], [0.4444444444444444, \"#bd3786\"], [0.5555555555555556, \"#d8576b\"], [0.6666666666666666, \"#ed7953\"], [0.7777777777777778, \"#fb9f3a\"], [0.8888888888888888, \"#fdca26\"], [1.0, \"#f0f921\"]], \"type\": \"contour\"}], \"contourcarpet\": [{\"colorbar\": {\"outlinewidth\": 0, \"ticks\": \"\"}, \"type\": \"contourcarpet\"}], \"heatmap\": [{\"colorbar\": {\"outlinewidth\": 0, \"ticks\": \"\"}, \"colorscale\": [[0.0, \"#0d0887\"], [0.1111111111111111, \"#46039f\"], [0.2222222222222222, \"#7201a8\"], [0.3333333333333333, \"#9c179e\"], [0.4444444444444444, \"#bd3786\"], [0.5555555555555556, \"#d8576b\"], [0.6666666666666666, \"#ed7953\"], [0.7777777777777778, \"#fb9f3a\"], [0.8888888888888888, \"#fdca26\"], [1.0, \"#f0f921\"]], \"type\": \"heatmap\"}], \"heatmapgl\": [{\"colorbar\": {\"outlinewidth\": 0, \"ticks\": \"\"}, \"colorscale\": [[0.0, \"#0d0887\"], [0.1111111111111111, \"#46039f\"], [0.2222222222222222, \"#7201a8\"], [0.3333333333333333, \"#9c179e\"], [0.4444444444444444, \"#bd3786\"], [0.5555555555555556, \"#d8576b\"], [0.6666666666666666, \"#ed7953\"], [0.7777777777777778, \"#fb9f3a\"], [0.8888888888888888, \"#fdca26\"], [1.0, \"#f0f921\"]], \"type\": \"heatmapgl\"}], \"histogram\": [{\"marker\": {\"colorbar\": {\"outlinewidth\": 0, \"ticks\": \"\"}}, \"type\": \"histogram\"}], \"histogram2d\": [{\"colorbar\": {\"outlinewidth\": 0, \"ticks\": \"\"}, \"colorscale\": [[0.0, \"#0d0887\"], [0.1111111111111111, \"#46039f\"], [0.2222222222222222, \"#7201a8\"], [0.3333333333333333, \"#9c179e\"], [0.4444444444444444, \"#bd3786\"], [0.5555555555555556, \"#d8576b\"], [0.6666666666666666, \"#ed7953\"], [0.7777777777777778, \"#fb9f3a\"], [0.8888888888888888, \"#fdca26\"], [1.0, \"#f0f921\"]], \"type\": \"histogram2d\"}], \"histogram2dcontour\": [{\"colorbar\": {\"outlinewidth\": 0, \"ticks\": \"\"}, \"colorscale\": [[0.0, \"#0d0887\"], [0.1111111111111111, \"#46039f\"], [0.2222222222222222, \"#7201a8\"], [0.3333333333333333, \"#9c179e\"], [0.4444444444444444, \"#bd3786\"], [0.5555555555555556, \"#d8576b\"], [0.6666666666666666, \"#ed7953\"], [0.7777777777777778, \"#fb9f3a\"], [0.8888888888888888, \"#fdca26\"], [1.0, \"#f0f921\"]], \"type\": \"histogram2dcontour\"}], \"mesh3d\": [{\"colorbar\": {\"outlinewidth\": 0, \"ticks\": \"\"}, \"type\": \"mesh3d\"}], \"parcoords\": [{\"line\": {\"colorbar\": {\"outlinewidth\": 0, \"ticks\": \"\"}}, \"type\": \"parcoords\"}], \"pie\": [{\"automargin\": true, \"type\": \"pie\"}], \"scatter\": [{\"marker\": {\"colorbar\": {\"outlinewidth\": 0, \"ticks\": \"\"}}, \"type\": \"scatter\"}], \"scatter3d\": [{\"line\": {\"colorbar\": {\"outlinewidth\": 0, \"ticks\": \"\"}}, \"marker\": {\"colorbar\": {\"outlinewidth\": 0, \"ticks\": \"\"}}, \"type\": \"scatter3d\"}], \"scattercarpet\": [{\"marker\": {\"colorbar\": {\"outlinewidth\": 0, \"ticks\": \"\"}}, \"type\": \"scattercarpet\"}], \"scattergeo\": [{\"marker\": {\"colorbar\": {\"outlinewidth\": 0, \"ticks\": \"\"}}, \"type\": \"scattergeo\"}], \"scattergl\": [{\"marker\": {\"colorbar\": {\"outlinewidth\": 0, \"ticks\": \"\"}}, \"type\": \"scattergl\"}], \"scattermapbox\": [{\"marker\": {\"colorbar\": {\"outlinewidth\": 0, \"ticks\": \"\"}}, \"type\": \"scattermapbox\"}], \"scatterpolar\": [{\"marker\": {\"colorbar\": {\"outlinewidth\": 0, \"ticks\": \"\"}}, \"type\": \"scatterpolar\"}], \"scatterpolargl\": [{\"marker\": {\"colorbar\": {\"outlinewidth\": 0, \"ticks\": \"\"}}, \"type\": \"scatterpolargl\"}], \"scatterternary\": [{\"marker\": {\"colorbar\": {\"outlinewidth\": 0, \"ticks\": \"\"}}, \"type\": \"scatterternary\"}], \"surface\": [{\"colorbar\": {\"outlinewidth\": 0, \"ticks\": \"\"}, \"colorscale\": [[0.0, \"#0d0887\"], [0.1111111111111111, \"#46039f\"], [0.2222222222222222, \"#7201a8\"], [0.3333333333333333, \"#9c179e\"], [0.4444444444444444, \"#bd3786\"], [0.5555555555555556, \"#d8576b\"], [0.6666666666666666, \"#ed7953\"], [0.7777777777777778, \"#fb9f3a\"], [0.8888888888888888, \"#fdca26\"], [1.0, \"#f0f921\"]], \"type\": \"surface\"}], \"table\": [{\"cells\": {\"fill\": {\"color\": \"#EBF0F8\"}, \"line\": {\"color\": \"white\"}}, \"header\": {\"fill\": {\"color\": \"#C8D4E3\"}, \"line\": {\"color\": \"white\"}}, \"type\": \"table\"}]}, \"layout\": {\"annotationdefaults\": {\"arrowcolor\": \"#2a3f5f\", \"arrowhead\": 0, \"arrowwidth\": 1}, \"coloraxis\": {\"colorbar\": {\"outlinewidth\": 0, \"ticks\": \"\"}}, \"colorscale\": {\"diverging\": [[0, \"#8e0152\"], [0.1, \"#c51b7d\"], [0.2, \"#de77ae\"], [0.3, \"#f1b6da\"], [0.4, \"#fde0ef\"], [0.5, \"#f7f7f7\"], [0.6, \"#e6f5d0\"], [0.7, \"#b8e186\"], [0.8, \"#7fbc41\"], [0.9, \"#4d9221\"], [1, \"#276419\"]], \"sequential\": [[0.0, \"#0d0887\"], [0.1111111111111111, \"#46039f\"], [0.2222222222222222, \"#7201a8\"], [0.3333333333333333, \"#9c179e\"], [0.4444444444444444, \"#bd3786\"], [0.5555555555555556, \"#d8576b\"], [0.6666666666666666, \"#ed7953\"], [0.7777777777777778, \"#fb9f3a\"], [0.8888888888888888, \"#fdca26\"], [1.0, \"#f0f921\"]], \"sequentialminus\": [[0.0, \"#0d0887\"], [0.1111111111111111, \"#46039f\"], [0.2222222222222222, \"#7201a8\"], [0.3333333333333333, \"#9c179e\"], [0.4444444444444444, \"#bd3786\"], [0.5555555555555556, \"#d8576b\"], [0.6666666666666666, \"#ed7953\"], [0.7777777777777778, \"#fb9f3a\"], [0.8888888888888888, \"#fdca26\"], [1.0, \"#f0f921\"]]}, \"colorway\": [\"#636efa\", \"#EF553B\", \"#00cc96\", \"#ab63fa\", \"#FFA15A\", \"#19d3f3\", \"#FF6692\", \"#B6E880\", \"#FF97FF\", \"#FECB52\"], \"font\": {\"color\": \"#2a3f5f\"}, \"geo\": {\"bgcolor\": \"white\", \"lakecolor\": \"white\", \"landcolor\": \"#E5ECF6\", \"showlakes\": true, \"showland\": true, \"subunitcolor\": \"white\"}, \"hoverlabel\": {\"align\": \"left\"}, \"hovermode\": \"closest\", \"mapbox\": {\"style\": \"light\"}, \"paper_bgcolor\": \"white\", \"plot_bgcolor\": \"#E5ECF6\", \"polar\": {\"angularaxis\": {\"gridcolor\": \"white\", \"linecolor\": \"white\", \"ticks\": \"\"}, \"bgcolor\": \"#E5ECF6\", \"radialaxis\": {\"gridcolor\": \"white\", \"linecolor\": \"white\", \"ticks\": \"\"}}, \"scene\": {\"xaxis\": {\"backgroundcolor\": \"#E5ECF6\", \"gridcolor\": \"white\", \"gridwidth\": 2, \"linecolor\": \"white\", \"showbackground\": true, \"ticks\": \"\", \"zerolinecolor\": \"white\"}, \"yaxis\": {\"backgroundcolor\": \"#E5ECF6\", \"gridcolor\": \"white\", \"gridwidth\": 2, \"linecolor\": \"white\", \"showbackground\": true, \"ticks\": \"\", \"zerolinecolor\": \"white\"}, \"zaxis\": {\"backgroundcolor\": \"#E5ECF6\", \"gridcolor\": \"white\", \"gridwidth\": 2, \"linecolor\": \"white\", \"showbackground\": true, \"ticks\": \"\", \"zerolinecolor\": \"white\"}}, \"shapedefaults\": {\"line\": {\"color\": \"#2a3f5f\"}}, \"ternary\": {\"aaxis\": {\"gridcolor\": \"white\", \"linecolor\": \"white\", \"ticks\": \"\"}, \"baxis\": {\"gridcolor\": \"white\", \"linecolor\": \"white\", \"ticks\": \"\"}, \"bgcolor\": \"#E5ECF6\", \"caxis\": {\"gridcolor\": \"white\", \"linecolor\": \"white\", \"ticks\": \"\"}}, \"title\": {\"x\": 0.05}, \"xaxis\": {\"automargin\": true, \"gridcolor\": \"white\", \"linecolor\": \"white\", \"ticks\": \"\", \"title\": {\"standoff\": 15}, \"zerolinecolor\": \"white\", \"zerolinewidth\": 2}, \"yaxis\": {\"automargin\": true, \"gridcolor\": \"white\", \"linecolor\": \"white\", \"ticks\": \"\", \"title\": {\"standoff\": 15}, \"zerolinecolor\": \"white\", \"zerolinewidth\": 2}}}, \"title\": {\"text\": \"Mortality Rate vs Confirmed by Country/Region as of 2020-02-26\"}, \"xaxis\": {\"anchor\": \"y\", \"domain\": [0.0, 1.0], \"title\": {\"text\": \"Confirmed Count\"}, \"type\": \"log\"}, \"yaxis\": {\"anchor\": \"x\", \"domain\": [0.0, 1.0], \"tickformat\": \",.1%\", \"title\": {\"text\": \"Mortality Rate\"}}},\n",
       "                        {\"responsive\": true}\n",
       "                    ).then(function(){\n",
       "                            \n",
       "var gd = document.getElementById('88d300cb-4c39-4d24-b7ed-a496fb1fc9d8');\n",
       "var x = new MutationObserver(function (mutations, observer) {{\n",
       "        var display = window.getComputedStyle(gd).display;\n",
       "        if (!display || display === 'none') {{\n",
       "            console.log([gd, 'removed!']);\n",
       "            Plotly.purge(gd);\n",
       "            observer.disconnect();\n",
       "        }}\n",
       "}});\n",
       "\n",
       "// Listen for the removal of the full notebook cells\n",
       "var notebookContainer = gd.closest('#notebook-container');\n",
       "if (notebookContainer) {{\n",
       "    x.observe(notebookContainer, {childList: true});\n",
       "}}\n",
       "\n",
       "// Listen for the clearing of the current output cell\n",
       "var outputEl = gd.closest('.output');\n",
       "if (outputEl) {{\n",
       "    x.observe(outputEl, {childList: true});\n",
       "}}\n",
       "\n",
       "                        })\n",
       "                };\n",
       "                \n",
       "            </script>\n",
       "        </div>\n",
       "</body>\n",
       "</html>"
      ]
     },
     "metadata": {
      "tags": []
     },
     "output_type": "display_data"
    }
   ],
   "source": [
    "date = datetime.date(2020, 2, 26)\n",
    "frm = country_ex_china.loc[(slice(None), date), :].reset_index()\n",
    "#frm = frm[frm['cum_confirmed'] >= 5]  # only show countries with more than 5 confirmed cases\n",
    "frm = frm[frm['color'] != 'Other']\n",
    "fig = px.scatter(frm,\n",
    "                 x='cum_confirmed', \n",
    "                 y='mortality_rate',  \n",
    "                 size='new_confirmed_logMA', \n",
    "                 size_max=frm['new_confirmed_logMA'].max() * 8,\n",
    "                 color='color',\n",
    "                 text='country/region',\n",
    "                 #color_continuous_scale=px.colors.sequential.Jet,\n",
    "                 hover_data=['country/region', 'cum_dead', 'cum_confirmed', 'new_confirmed', 'new_dead'],\n",
    "                 title='Mortality Rate vs Confirmed by Country/Region as of ' + str(date))\n",
    "fig.update_layout(xaxis_type=\"log\", xaxis_title='Confirmed Count', yaxis_title='Mortality Rate')\n",
    "fig.layout.yaxis.tickformat = ',.1%'  # set display to % format\n",
    "# add lines to split the region\n",
    "fig.add_trace(go.Scatter(x=[100, 100], y=[-0.01, 0.15], mode=\"lines\", line={'dash': 'dot', 'color': 'orange'}))\n",
    "fig.add_trace(go.Scatter(x=[500, 500], y=[-0.01, 0.15], mode=\"lines\", line={'dash': 'dot', 'color': 'orange'}))\n",
    "fig.add_trace(go.Scatter(x=[4, 2000], y=[0.02, 0.02], mode=\"lines\", line={'dash': 'dot', 'color': 'orange'}))\n",
    "fig.add_trace(go.Scatter(x=[4, 2000], y=[0.01, 0.01], mode=\"lines\", line={'dash': 'dot', 'color': 'orange'}))\n",
    "fig.update_traces(textposition='top center')\n",
    "\n",
    "fig.show()"
   ]
  },
  {
   "cell_type": "code",
   "execution_count": null,
   "metadata": {
    "colab": {},
    "colab_type": "code",
    "id": "YMVTki9CUzUW"
   },
   "outputs": [],
   "source": [
    "pio.write_html(fig, file='index.html', auto_open=True)"
   ]
  },
  {
   "cell_type": "markdown",
   "metadata": {
    "colab_type": "text",
    "id": "GacAyzmYlBHo"
   },
   "source": [
    "### 2020-03-02"
   ]
  },
  {
   "cell_type": "code",
   "execution_count": 43,
   "metadata": {
    "colab": {
     "base_uri": "https://localhost:8080/",
     "height": 542
    },
    "colab_type": "code",
    "executionInfo": {
     "elapsed": 1058,
     "status": "ok",
     "timestamp": 1583462609972,
     "user": {
      "displayName": "jian Xu",
      "photoUrl": "",
      "userId": "02019284238930330026"
     },
     "user_tz": 360
    },
    "id": "X21VlK93WnAj",
    "outputId": "735c97f9-ad96-4891-8261-c217a1a916e9"
   },
   "outputs": [
    {
     "data": {
      "text/html": [
       "<html>\n",
       "<head><meta charset=\"utf-8\" /></head>\n",
       "<body>\n",
       "    <div>\n",
       "            <script src=\"https://cdnjs.cloudflare.com/ajax/libs/mathjax/2.7.5/MathJax.js?config=TeX-AMS-MML_SVG\"></script><script type=\"text/javascript\">if (window.MathJax) {MathJax.Hub.Config({SVG: {font: \"STIX-Web\"}});}</script>\n",
       "                <script type=\"text/javascript\">window.PlotlyConfig = {MathJaxConfig: 'local'};</script>\n",
       "        <script src=\"https://cdn.plot.ly/plotly-latest.min.js\"></script>    \n",
       "            <div id=\"7d3f7e06-d9f6-4d77-9ecf-0e98f3132e26\" class=\"plotly-graph-div\" style=\"height:525px; width:100%;\"></div>\n",
       "            <script type=\"text/javascript\">\n",
       "                \n",
       "                    window.PLOTLYENV=window.PLOTLYENV || {};\n",
       "                    \n",
       "                if (document.getElementById(\"7d3f7e06-d9f6-4d77-9ecf-0e98f3132e26\")) {\n",
       "                    Plotly.newPlot(\n",
       "                        '7d3f7e06-d9f6-4d77-9ecf-0e98f3132e26',\n",
       "                        [{\"customdata\": [[\"Diamond Princess\", 6.0, 705.0, 0.0, 0.0]], \"hoverlabel\": {\"namelength\": 0}, \"hovertemplate\": \"color=Diamond Princess<br>cum_confirmed=%{customdata[2]}<br>mortality_rate=%{y}<br>new_confirmed_logMA=%{marker.size}<br>country/region=%{text}<br>cum_dead=%{customdata[1]}<br>new_confirmed=%{customdata[3]}<br>new_dead=%{customdata[4]}\", \"legendgroup\": \"color=Diamond Princess\", \"marker\": {\"color\": \"#636efa\", \"size\": [0.3010299956639812], \"sizemode\": \"area\", \"sizeref\": 0.00553141114263843, \"symbol\": \"circle\"}, \"mode\": \"markers+text\", \"name\": \"color=Diamond Princess\", \"showlegend\": true, \"text\": [\"Diamond Princess\"], \"textposition\": \"top center\", \"type\": \"scatter\", \"x\": [705.0], \"xaxis\": \"x\", \"y\": [0.00851063829787234], \"yaxis\": \"y\"}, {\"customdata\": [[\"France\", 3.0, 191.0, 61.0, 1.0]], \"hoverlabel\": {\"namelength\": 0}, \"hovertemplate\": \"color=France<br>cum_confirmed=%{customdata[2]}<br>mortality_rate=%{y}<br>new_confirmed_logMA=%{marker.size}<br>country/region=%{text}<br>cum_dead=%{customdata[1]}<br>new_confirmed=%{customdata[3]}<br>new_dead=%{customdata[4]}\", \"legendgroup\": \"color=France\", \"marker\": {\"color\": \"#EF553B\", \"size\": [1.6690067809585756], \"sizemode\": \"area\", \"sizeref\": 0.00553141114263843, \"symbol\": \"circle\"}, \"mode\": \"markers+text\", \"name\": \"color=France\", \"showlegend\": true, \"text\": [\"France\"], \"textposition\": \"top center\", \"type\": \"scatter\", \"x\": [191.0], \"xaxis\": \"x\", \"y\": [0.015706806282722512], \"yaxis\": \"y\"}, {\"customdata\": [[\"Germany\", 0.0, 159.0, 29.0, 0.0]], \"hoverlabel\": {\"namelength\": 0}, \"hovertemplate\": \"color=Germany<br>cum_confirmed=%{customdata[2]}<br>mortality_rate=%{y}<br>new_confirmed_logMA=%{marker.size}<br>country/region=%{text}<br>cum_dead=%{customdata[1]}<br>new_confirmed=%{customdata[3]}<br>new_dead=%{customdata[4]}\", \"legendgroup\": \"color=Germany\", \"marker\": {\"color\": \"#00cc96\", \"size\": [1.591064607026499], \"sizemode\": \"area\", \"sizeref\": 0.00553141114263843, \"symbol\": \"circle\"}, \"mode\": \"markers+text\", \"name\": \"color=Germany\", \"showlegend\": true, \"text\": [\"Germany\"], \"textposition\": \"top center\", \"type\": \"scatter\", \"x\": [159.0], \"xaxis\": \"x\", \"y\": [0.0], \"yaxis\": \"y\"}, {\"customdata\": [[\"Hong Kong\", 2.0, 100.0, 4.0, 0.0]], \"hoverlabel\": {\"namelength\": 0}, \"hovertemplate\": \"color=Hong Kong<br>cum_confirmed=%{customdata[2]}<br>mortality_rate=%{y}<br>new_confirmed_logMA=%{marker.size}<br>country/region=%{text}<br>cum_dead=%{customdata[1]}<br>new_confirmed=%{customdata[3]}<br>new_dead=%{customdata[4]}\", \"legendgroup\": \"color=Hong Kong\", \"marker\": {\"color\": \"#ab63fa\", \"size\": [0.6020599913279624], \"sizemode\": \"area\", \"sizeref\": 0.00553141114263843, \"symbol\": \"circle\"}, \"mode\": \"markers+text\", \"name\": \"color=Hong Kong\", \"showlegend\": true, \"text\": [\"Hong Kong\"], \"textposition\": \"top center\", \"type\": \"scatter\", \"x\": [100.0], \"xaxis\": \"x\", \"y\": [0.02], \"yaxis\": \"y\"}, {\"customdata\": [[\"Iran\", 66.0, 1501.0, 523.0, 12.0]], \"hoverlabel\": {\"namelength\": 0}, \"hovertemplate\": \"color=Iran<br>cum_confirmed=%{customdata[2]}<br>mortality_rate=%{y}<br>new_confirmed_logMA=%{marker.size}<br>country/region=%{text}<br>cum_dead=%{customdata[1]}<br>new_confirmed=%{customdata[3]}<br>new_dead=%{customdata[4]}\", \"legendgroup\": \"color=Iran\", \"marker\": {\"color\": \"#FFA15A\", \"size\": [2.571708831808688], \"sizemode\": \"area\", \"sizeref\": 0.00553141114263843, \"symbol\": \"circle\"}, \"mode\": \"markers+text\", \"name\": \"color=Iran\", \"showlegend\": true, \"text\": [\"Iran\"], \"textposition\": \"top center\", \"type\": \"scatter\", \"x\": [1501.0], \"xaxis\": \"x\", \"y\": [0.04397068620919387], \"yaxis\": \"y\"}, {\"customdata\": [[\"Iraq\", 0.0, 26.0, 7.0, 0.0]], \"hoverlabel\": {\"namelength\": 0}, \"hovertemplate\": \"color=Iraq<br>cum_confirmed=%{customdata[2]}<br>mortality_rate=%{y}<br>new_confirmed_logMA=%{marker.size}<br>country/region=%{text}<br>cum_dead=%{customdata[1]}<br>new_confirmed=%{customdata[3]}<br>new_dead=%{customdata[4]}\", \"legendgroup\": \"color=Iraq\", \"marker\": {\"color\": \"#19d3f3\", \"size\": [0.9208187539523751], \"sizemode\": \"area\", \"sizeref\": 0.00553141114263843, \"symbol\": \"circle\"}, \"mode\": \"markers+text\", \"name\": \"color=Iraq\", \"showlegend\": true, \"text\": [\"Iraq\"], \"textposition\": \"top center\", \"type\": \"scatter\", \"x\": [26.0], \"xaxis\": \"x\", \"y\": [0.0], \"yaxis\": \"y\"}, {\"customdata\": [[\"Italy\", 52.0, 2036.0, 342.0, 18.0]], \"hoverlabel\": {\"namelength\": 0}, \"hovertemplate\": \"color=Italy<br>cum_confirmed=%{customdata[2]}<br>mortality_rate=%{y}<br>new_confirmed_logMA=%{marker.size}<br>country/region=%{text}<br>cum_dead=%{customdata[1]}<br>new_confirmed=%{customdata[3]}<br>new_dead=%{customdata[4]}\", \"legendgroup\": \"color=Italy\", \"marker\": {\"color\": \"#FF6692\", \"size\": [2.58508455410005], \"sizemode\": \"area\", \"sizeref\": 0.00553141114263843, \"symbol\": \"circle\"}, \"mode\": \"markers+text\", \"name\": \"color=Italy\", \"showlegend\": true, \"text\": [\"Italy\"], \"textposition\": \"top center\", \"type\": \"scatter\", \"x\": [2036.0], \"xaxis\": \"x\", \"y\": [0.025540275049115914], \"yaxis\": \"y\"}, {\"customdata\": [[\"Japan\", 6.0, 274.0, 18.0, 0.0]], \"hoverlabel\": {\"namelength\": 0}, \"hovertemplate\": \"color=Japan<br>cum_confirmed=%{customdata[2]}<br>mortality_rate=%{y}<br>new_confirmed_logMA=%{marker.size}<br>country/region=%{text}<br>cum_dead=%{customdata[1]}<br>new_confirmed=%{customdata[3]}<br>new_dead=%{customdata[4]}\", \"legendgroup\": \"color=Japan\", \"marker\": {\"color\": \"#B6E880\", \"size\": [1.2388820889151368], \"sizemode\": \"area\", \"sizeref\": 0.00553141114263843, \"symbol\": \"circle\"}, \"mode\": \"markers+text\", \"name\": \"color=Japan\", \"showlegend\": true, \"text\": [\"Japan\"], \"textposition\": \"top center\", \"type\": \"scatter\", \"x\": [274.0], \"xaxis\": \"x\", \"y\": [0.021897810218978103], \"yaxis\": \"y\"}, {\"customdata\": [[\"Singapore\", 0.0, 108.0, 2.0, 0.0]], \"hoverlabel\": {\"namelength\": 0}, \"hovertemplate\": \"color=Singapore<br>cum_confirmed=%{customdata[2]}<br>mortality_rate=%{y}<br>new_confirmed_logMA=%{marker.size}<br>country/region=%{text}<br>cum_dead=%{customdata[1]}<br>new_confirmed=%{customdata[3]}<br>new_dead=%{customdata[4]}\", \"legendgroup\": \"color=Singapore\", \"marker\": {\"color\": \"#FF97FF\", \"size\": [0.8450980400142568], \"sizemode\": \"area\", \"sizeref\": 0.00553141114263843, \"symbol\": \"circle\"}, \"mode\": \"markers+text\", \"name\": \"color=Singapore\", \"showlegend\": true, \"text\": [\"Singapore\"], \"textposition\": \"top center\", \"type\": \"scatter\", \"x\": [108.0], \"xaxis\": \"x\", \"y\": [0.0], \"yaxis\": \"y\"}, {\"customdata\": [[\"South Korea\", 28.0, 4335.0, 599.0, 11.0]], \"hoverlabel\": {\"namelength\": 0}, \"hovertemplate\": \"color=South Korea<br>cum_confirmed=%{customdata[2]}<br>mortality_rate=%{y}<br>new_confirmed_logMA=%{marker.size}<br>country/region=%{text}<br>cum_dead=%{customdata[1]}<br>new_confirmed=%{customdata[3]}<br>new_dead=%{customdata[4]}\", \"legendgroup\": \"color=South Korea\", \"marker\": {\"color\": \"#FECB52\", \"size\": [2.824776462475546], \"sizemode\": \"area\", \"sizeref\": 0.00553141114263843, \"symbol\": \"circle\"}, \"mode\": \"markers+text\", \"name\": \"color=South Korea\", \"showlegend\": true, \"text\": [\"South Korea\"], \"textposition\": \"top center\", \"type\": \"scatter\", \"x\": [4335.0], \"xaxis\": \"x\", \"y\": [0.006459054209919262], \"yaxis\": \"y\"}, {\"customdata\": [[\"Spain\", 0.0, 120.0, 36.0, 0.0]], \"hoverlabel\": {\"namelength\": 0}, \"hovertemplate\": \"color=Spain<br>cum_confirmed=%{customdata[2]}<br>mortality_rate=%{y}<br>new_confirmed_logMA=%{marker.size}<br>country/region=%{text}<br>cum_dead=%{customdata[1]}<br>new_confirmed=%{customdata[3]}<br>new_dead=%{customdata[4]}\", \"legendgroup\": \"color=Spain\", \"marker\": {\"color\": \"#636efa\", \"size\": [1.4960065988800362], \"sizemode\": \"area\", \"sizeref\": 0.00553141114263843, \"symbol\": \"circle\"}, \"mode\": \"markers+text\", \"name\": \"color=Spain\", \"showlegend\": true, \"text\": [\"Spain\"], \"textposition\": \"top center\", \"type\": \"scatter\", \"x\": [120.0], \"xaxis\": \"x\", \"y\": [0.0], \"yaxis\": \"y\"}, {\"customdata\": [[\"Taiwan\", 1.0, 41.0, 1.0, 0.0]], \"hoverlabel\": {\"namelength\": 0}, \"hovertemplate\": \"color=Taiwan<br>cum_confirmed=%{customdata[2]}<br>mortality_rate=%{y}<br>new_confirmed_logMA=%{marker.size}<br>country/region=%{text}<br>cum_dead=%{customdata[1]}<br>new_confirmed=%{customdata[3]}<br>new_dead=%{customdata[4]}\", \"legendgroup\": \"color=Taiwan\", \"marker\": {\"color\": \"#EF553B\", \"size\": [0.6368220975871743], \"sizemode\": \"area\", \"sizeref\": 0.00553141114263843, \"symbol\": \"circle\"}, \"mode\": \"markers+text\", \"name\": \"color=Taiwan\", \"showlegend\": true, \"text\": [\"Taiwan\"], \"textposition\": \"top center\", \"type\": \"scatter\", \"x\": [41.0], \"xaxis\": \"x\", \"y\": [0.024390243902439025], \"yaxis\": \"y\"}, {\"customdata\": [[\"UK\", 0.0, 40.0, 4.0, 0.0]], \"hoverlabel\": {\"namelength\": 0}, \"hovertemplate\": \"color=UK<br>cum_confirmed=%{customdata[2]}<br>mortality_rate=%{y}<br>new_confirmed_logMA=%{marker.size}<br>country/region=%{text}<br>cum_dead=%{customdata[1]}<br>new_confirmed=%{customdata[3]}<br>new_dead=%{customdata[4]}\", \"legendgroup\": \"color=UK\", \"marker\": {\"color\": \"#00cc96\", \"size\": [0.9378520932511556], \"sizemode\": \"area\", \"sizeref\": 0.00553141114263843, \"symbol\": \"circle\"}, \"mode\": \"markers+text\", \"name\": \"color=UK\", \"showlegend\": true, \"text\": [\"UK\"], \"textposition\": \"top center\", \"type\": \"scatter\", \"x\": [40.0], \"xaxis\": \"x\", \"y\": [0.0], \"yaxis\": \"y\"}, {\"customdata\": [[\"US\", 6.0, 88.0, 37.0, 6.0]], \"hoverlabel\": {\"namelength\": 0}, \"hovertemplate\": \"color=US<br>cum_confirmed=%{customdata[2]}<br>mortality_rate=%{y}<br>new_confirmed_logMA=%{marker.size}<br>country/region=%{text}<br>cum_dead=%{customdata[1]}<br>new_confirmed=%{customdata[3]}<br>new_dead=%{customdata[4]}\", \"legendgroup\": \"color=US\", \"marker\": {\"color\": \"#ab63fa\", \"size\": [1.2787536009528289], \"sizemode\": \"area\", \"sizeref\": 0.00553141114263843, \"symbol\": \"circle\"}, \"mode\": \"markers+text\", \"name\": \"color=US\", \"showlegend\": true, \"text\": [\"US\"], \"textposition\": \"top center\", \"type\": \"scatter\", \"x\": [88.0], \"xaxis\": \"x\", \"y\": [0.06818181818181818], \"yaxis\": \"y\"}, {\"line\": {\"color\": \"orange\", \"dash\": \"dot\"}, \"mode\": \"lines\", \"type\": \"scatter\", \"x\": [100, 100], \"y\": [-0.01, 0.08]}, {\"line\": {\"color\": \"orange\", \"dash\": \"dot\"}, \"mode\": \"lines\", \"type\": \"scatter\", \"x\": [500, 500], \"y\": [-0.01, 0.08]}, {\"line\": {\"color\": \"orange\", \"dash\": \"dot\"}, \"mode\": \"lines\", \"type\": \"scatter\", \"x\": [20, 5000], \"y\": [0.02, 0.02]}, {\"line\": {\"color\": \"orange\", \"dash\": \"dot\"}, \"mode\": \"lines\", \"type\": \"scatter\", \"x\": [20, 5000], \"y\": [0.01, 0.01]}],\n",
       "                        {\"legend\": {\"itemsizing\": \"constant\", \"tracegroupgap\": 0}, \"template\": {\"data\": {\"bar\": [{\"error_x\": {\"color\": \"#2a3f5f\"}, \"error_y\": {\"color\": \"#2a3f5f\"}, \"marker\": {\"line\": {\"color\": \"#E5ECF6\", \"width\": 0.5}}, \"type\": \"bar\"}], \"barpolar\": [{\"marker\": {\"line\": {\"color\": \"#E5ECF6\", \"width\": 0.5}}, \"type\": \"barpolar\"}], \"carpet\": [{\"aaxis\": {\"endlinecolor\": \"#2a3f5f\", \"gridcolor\": \"white\", \"linecolor\": \"white\", \"minorgridcolor\": \"white\", \"startlinecolor\": \"#2a3f5f\"}, \"baxis\": {\"endlinecolor\": \"#2a3f5f\", \"gridcolor\": \"white\", \"linecolor\": \"white\", \"minorgridcolor\": \"white\", \"startlinecolor\": \"#2a3f5f\"}, \"type\": \"carpet\"}], \"choropleth\": [{\"colorbar\": {\"outlinewidth\": 0, \"ticks\": \"\"}, \"type\": \"choropleth\"}], \"contour\": [{\"colorbar\": {\"outlinewidth\": 0, \"ticks\": \"\"}, \"colorscale\": [[0.0, \"#0d0887\"], [0.1111111111111111, \"#46039f\"], [0.2222222222222222, \"#7201a8\"], [0.3333333333333333, \"#9c179e\"], [0.4444444444444444, \"#bd3786\"], [0.5555555555555556, \"#d8576b\"], [0.6666666666666666, \"#ed7953\"], [0.7777777777777778, \"#fb9f3a\"], [0.8888888888888888, \"#fdca26\"], [1.0, \"#f0f921\"]], \"type\": \"contour\"}], \"contourcarpet\": [{\"colorbar\": {\"outlinewidth\": 0, \"ticks\": \"\"}, \"type\": \"contourcarpet\"}], \"heatmap\": [{\"colorbar\": {\"outlinewidth\": 0, \"ticks\": \"\"}, \"colorscale\": [[0.0, \"#0d0887\"], [0.1111111111111111, \"#46039f\"], [0.2222222222222222, \"#7201a8\"], [0.3333333333333333, \"#9c179e\"], [0.4444444444444444, \"#bd3786\"], [0.5555555555555556, \"#d8576b\"], [0.6666666666666666, \"#ed7953\"], [0.7777777777777778, \"#fb9f3a\"], [0.8888888888888888, \"#fdca26\"], [1.0, \"#f0f921\"]], \"type\": \"heatmap\"}], \"heatmapgl\": [{\"colorbar\": {\"outlinewidth\": 0, \"ticks\": \"\"}, \"colorscale\": [[0.0, \"#0d0887\"], [0.1111111111111111, \"#46039f\"], [0.2222222222222222, \"#7201a8\"], [0.3333333333333333, \"#9c179e\"], [0.4444444444444444, \"#bd3786\"], [0.5555555555555556, \"#d8576b\"], [0.6666666666666666, \"#ed7953\"], [0.7777777777777778, \"#fb9f3a\"], [0.8888888888888888, \"#fdca26\"], [1.0, \"#f0f921\"]], \"type\": \"heatmapgl\"}], \"histogram\": [{\"marker\": {\"colorbar\": {\"outlinewidth\": 0, \"ticks\": \"\"}}, \"type\": \"histogram\"}], \"histogram2d\": [{\"colorbar\": {\"outlinewidth\": 0, \"ticks\": \"\"}, \"colorscale\": [[0.0, \"#0d0887\"], [0.1111111111111111, \"#46039f\"], [0.2222222222222222, \"#7201a8\"], [0.3333333333333333, \"#9c179e\"], [0.4444444444444444, \"#bd3786\"], [0.5555555555555556, \"#d8576b\"], [0.6666666666666666, \"#ed7953\"], [0.7777777777777778, \"#fb9f3a\"], [0.8888888888888888, \"#fdca26\"], [1.0, \"#f0f921\"]], \"type\": \"histogram2d\"}], \"histogram2dcontour\": [{\"colorbar\": {\"outlinewidth\": 0, \"ticks\": \"\"}, \"colorscale\": [[0.0, \"#0d0887\"], [0.1111111111111111, \"#46039f\"], [0.2222222222222222, \"#7201a8\"], [0.3333333333333333, \"#9c179e\"], [0.4444444444444444, \"#bd3786\"], [0.5555555555555556, \"#d8576b\"], [0.6666666666666666, \"#ed7953\"], [0.7777777777777778, \"#fb9f3a\"], [0.8888888888888888, \"#fdca26\"], [1.0, \"#f0f921\"]], \"type\": \"histogram2dcontour\"}], \"mesh3d\": [{\"colorbar\": {\"outlinewidth\": 0, \"ticks\": \"\"}, \"type\": \"mesh3d\"}], \"parcoords\": [{\"line\": {\"colorbar\": {\"outlinewidth\": 0, \"ticks\": \"\"}}, \"type\": \"parcoords\"}], \"pie\": [{\"automargin\": true, \"type\": \"pie\"}], \"scatter\": [{\"marker\": {\"colorbar\": {\"outlinewidth\": 0, \"ticks\": \"\"}}, \"type\": \"scatter\"}], \"scatter3d\": [{\"line\": {\"colorbar\": {\"outlinewidth\": 0, \"ticks\": \"\"}}, \"marker\": {\"colorbar\": {\"outlinewidth\": 0, \"ticks\": \"\"}}, \"type\": \"scatter3d\"}], \"scattercarpet\": [{\"marker\": {\"colorbar\": {\"outlinewidth\": 0, \"ticks\": \"\"}}, \"type\": \"scattercarpet\"}], \"scattergeo\": [{\"marker\": {\"colorbar\": {\"outlinewidth\": 0, \"ticks\": \"\"}}, \"type\": \"scattergeo\"}], \"scattergl\": [{\"marker\": {\"colorbar\": {\"outlinewidth\": 0, \"ticks\": \"\"}}, \"type\": \"scattergl\"}], \"scattermapbox\": [{\"marker\": {\"colorbar\": {\"outlinewidth\": 0, \"ticks\": \"\"}}, \"type\": \"scattermapbox\"}], \"scatterpolar\": [{\"marker\": {\"colorbar\": {\"outlinewidth\": 0, \"ticks\": \"\"}}, \"type\": \"scatterpolar\"}], \"scatterpolargl\": [{\"marker\": {\"colorbar\": {\"outlinewidth\": 0, \"ticks\": \"\"}}, \"type\": \"scatterpolargl\"}], \"scatterternary\": [{\"marker\": {\"colorbar\": {\"outlinewidth\": 0, \"ticks\": \"\"}}, \"type\": \"scatterternary\"}], \"surface\": [{\"colorbar\": {\"outlinewidth\": 0, \"ticks\": \"\"}, \"colorscale\": [[0.0, \"#0d0887\"], [0.1111111111111111, \"#46039f\"], [0.2222222222222222, \"#7201a8\"], [0.3333333333333333, \"#9c179e\"], [0.4444444444444444, \"#bd3786\"], [0.5555555555555556, \"#d8576b\"], [0.6666666666666666, \"#ed7953\"], [0.7777777777777778, \"#fb9f3a\"], [0.8888888888888888, \"#fdca26\"], [1.0, \"#f0f921\"]], \"type\": \"surface\"}], \"table\": [{\"cells\": {\"fill\": {\"color\": \"#EBF0F8\"}, \"line\": {\"color\": \"white\"}}, \"header\": {\"fill\": {\"color\": \"#C8D4E3\"}, \"line\": {\"color\": \"white\"}}, \"type\": \"table\"}]}, \"layout\": {\"annotationdefaults\": {\"arrowcolor\": \"#2a3f5f\", \"arrowhead\": 0, \"arrowwidth\": 1}, \"coloraxis\": {\"colorbar\": {\"outlinewidth\": 0, \"ticks\": \"\"}}, \"colorscale\": {\"diverging\": [[0, \"#8e0152\"], [0.1, \"#c51b7d\"], [0.2, \"#de77ae\"], [0.3, \"#f1b6da\"], [0.4, \"#fde0ef\"], [0.5, \"#f7f7f7\"], [0.6, \"#e6f5d0\"], [0.7, \"#b8e186\"], [0.8, \"#7fbc41\"], [0.9, \"#4d9221\"], [1, \"#276419\"]], \"sequential\": [[0.0, \"#0d0887\"], [0.1111111111111111, \"#46039f\"], [0.2222222222222222, \"#7201a8\"], [0.3333333333333333, \"#9c179e\"], [0.4444444444444444, \"#bd3786\"], [0.5555555555555556, \"#d8576b\"], [0.6666666666666666, \"#ed7953\"], [0.7777777777777778, \"#fb9f3a\"], [0.8888888888888888, \"#fdca26\"], [1.0, \"#f0f921\"]], \"sequentialminus\": [[0.0, \"#0d0887\"], [0.1111111111111111, \"#46039f\"], [0.2222222222222222, \"#7201a8\"], [0.3333333333333333, \"#9c179e\"], [0.4444444444444444, \"#bd3786\"], [0.5555555555555556, \"#d8576b\"], [0.6666666666666666, \"#ed7953\"], [0.7777777777777778, \"#fb9f3a\"], [0.8888888888888888, \"#fdca26\"], [1.0, \"#f0f921\"]]}, \"colorway\": [\"#636efa\", \"#EF553B\", \"#00cc96\", \"#ab63fa\", \"#FFA15A\", \"#19d3f3\", \"#FF6692\", \"#B6E880\", \"#FF97FF\", \"#FECB52\"], \"font\": {\"color\": \"#2a3f5f\"}, \"geo\": {\"bgcolor\": \"white\", \"lakecolor\": \"white\", \"landcolor\": \"#E5ECF6\", \"showlakes\": true, \"showland\": true, \"subunitcolor\": \"white\"}, \"hoverlabel\": {\"align\": \"left\"}, \"hovermode\": \"closest\", \"mapbox\": {\"style\": \"light\"}, \"paper_bgcolor\": \"white\", \"plot_bgcolor\": \"#E5ECF6\", \"polar\": {\"angularaxis\": {\"gridcolor\": \"white\", \"linecolor\": \"white\", \"ticks\": \"\"}, \"bgcolor\": \"#E5ECF6\", \"radialaxis\": {\"gridcolor\": \"white\", \"linecolor\": \"white\", \"ticks\": \"\"}}, \"scene\": {\"xaxis\": {\"backgroundcolor\": \"#E5ECF6\", \"gridcolor\": \"white\", \"gridwidth\": 2, \"linecolor\": \"white\", \"showbackground\": true, \"ticks\": \"\", \"zerolinecolor\": \"white\"}, \"yaxis\": {\"backgroundcolor\": \"#E5ECF6\", \"gridcolor\": \"white\", \"gridwidth\": 2, \"linecolor\": \"white\", \"showbackground\": true, \"ticks\": \"\", \"zerolinecolor\": \"white\"}, \"zaxis\": {\"backgroundcolor\": \"#E5ECF6\", \"gridcolor\": \"white\", \"gridwidth\": 2, \"linecolor\": \"white\", \"showbackground\": true, \"ticks\": \"\", \"zerolinecolor\": \"white\"}}, \"shapedefaults\": {\"line\": {\"color\": \"#2a3f5f\"}}, \"ternary\": {\"aaxis\": {\"gridcolor\": \"white\", \"linecolor\": \"white\", \"ticks\": \"\"}, \"baxis\": {\"gridcolor\": \"white\", \"linecolor\": \"white\", \"ticks\": \"\"}, \"bgcolor\": \"#E5ECF6\", \"caxis\": {\"gridcolor\": \"white\", \"linecolor\": \"white\", \"ticks\": \"\"}}, \"title\": {\"x\": 0.05}, \"xaxis\": {\"automargin\": true, \"gridcolor\": \"white\", \"linecolor\": \"white\", \"ticks\": \"\", \"title\": {\"standoff\": 15}, \"zerolinecolor\": \"white\", \"zerolinewidth\": 2}, \"yaxis\": {\"automargin\": true, \"gridcolor\": \"white\", \"linecolor\": \"white\", \"ticks\": \"\", \"title\": {\"standoff\": 15}, \"zerolinecolor\": \"white\", \"zerolinewidth\": 2}}}, \"title\": {\"text\": \"Mortality Rate vs Confirmed by Country/Region as of 2020-03-02\"}, \"xaxis\": {\"anchor\": \"y\", \"domain\": [0.0, 1.0], \"title\": {\"text\": \"Confirmed Count\"}, \"type\": \"log\"}, \"yaxis\": {\"anchor\": \"x\", \"domain\": [0.0, 1.0], \"tickformat\": \",.1%\", \"title\": {\"text\": \"Mortality Rate\"}}},\n",
       "                        {\"responsive\": true}\n",
       "                    ).then(function(){\n",
       "                            \n",
       "var gd = document.getElementById('7d3f7e06-d9f6-4d77-9ecf-0e98f3132e26');\n",
       "var x = new MutationObserver(function (mutations, observer) {{\n",
       "        var display = window.getComputedStyle(gd).display;\n",
       "        if (!display || display === 'none') {{\n",
       "            console.log([gd, 'removed!']);\n",
       "            Plotly.purge(gd);\n",
       "            observer.disconnect();\n",
       "        }}\n",
       "}});\n",
       "\n",
       "// Listen for the removal of the full notebook cells\n",
       "var notebookContainer = gd.closest('#notebook-container');\n",
       "if (notebookContainer) {{\n",
       "    x.observe(notebookContainer, {childList: true});\n",
       "}}\n",
       "\n",
       "// Listen for the clearing of the current output cell\n",
       "var outputEl = gd.closest('.output');\n",
       "if (outputEl) {{\n",
       "    x.observe(outputEl, {childList: true});\n",
       "}}\n",
       "\n",
       "                        })\n",
       "                };\n",
       "                \n",
       "            </script>\n",
       "        </div>\n",
       "</body>\n",
       "</html>"
      ]
     },
     "metadata": {
      "tags": []
     },
     "output_type": "display_data"
    }
   ],
   "source": [
    "date = datetime.date(2020, 3, 2)\n",
    "frm = country_ex_china.loc[(slice(None), date), :].reset_index()\n",
    "#frm = frm[frm['cum_confirmed'] >= 5]  # only show countries with more than 5 confirmed cases\n",
    "frm = frm[frm['color'] != 'Other']\n",
    "fig = px.scatter(frm,\n",
    "                 x='cum_confirmed', \n",
    "                 y='mortality_rate',  \n",
    "                 size='new_confirmed_logMA', \n",
    "                 size_max=frm['new_confirmed_logMA'].max() * 8,\n",
    "                 color='color',\n",
    "                 text='country/region',\n",
    "                 #color_continuous_scale=px.colors.sequential.Jet,\n",
    "                 hover_data=['country/region', 'cum_dead', 'cum_confirmed', 'new_confirmed', 'new_dead'],\n",
    "                 title='Mortality Rate vs Confirmed by Country/Region as of ' + str(date))\n",
    "fig.update_layout(xaxis_type=\"log\", xaxis_title='Confirmed Count', yaxis_title='Mortality Rate')\n",
    "fig.layout.yaxis.tickformat = ',.1%'  # set display to % format\n",
    "fig.update_traces(textposition='top center')\n",
    "# add lines to split the region\n",
    "fig.add_trace(go.Scatter(x=[100, 100], y=[-0.01, 0.08], mode=\"lines\", line={'dash': 'dot', 'color': 'orange'}))\n",
    "fig.add_trace(go.Scatter(x=[500, 500], y=[-0.01, 0.08], mode=\"lines\", line={'dash': 'dot', 'color': 'orange'}))\n",
    "fig.add_trace(go.Scatter(x=[20, 5000], y=[0.02, 0.02], mode=\"lines\", line={'dash': 'dot', 'color': 'orange'}))\n",
    "fig.add_trace(go.Scatter(x=[20, 5000], y=[0.01, 0.01], mode=\"lines\", line={'dash': 'dot', 'color': 'orange'}))\n",
    "fig.show()"
   ]
  },
  {
   "cell_type": "markdown",
   "metadata": {
    "colab_type": "text",
    "id": "NxmpzPpgoG5A"
   },
   "source": [
    "### Comparison: China has been stable in the past two weeks"
   ]
  },
  {
   "cell_type": "code",
   "execution_count": null,
   "metadata": {
    "colab": {},
    "colab_type": "code",
    "id": "oXHO8VEpbeot"
   },
   "outputs": [],
   "source": [
    "china_frm = dxy_frm.copy()\n",
    "china_frm['province_name'] = np.where(china_frm['city_name'] == '武汉', '武汉', china_frm['province_name'])  # treat Wuhan as a province\n",
    "china_frm['province_name'] = np.where(china_frm['province_name'] == '湖北省', '湖北省除武汉', china_frm['province_name'])\n",
    "china_province = china_frm.groupby(['province_name', 'update_date']).agg('sum')"
   ]
  },
  {
   "cell_type": "code",
   "execution_count": 53,
   "metadata": {
    "colab": {
     "base_uri": "https://localhost:8080/",
     "height": 153
    },
    "colab_type": "code",
    "executionInfo": {
     "elapsed": 345,
     "status": "ok",
     "timestamp": 1583463681049,
     "user": {
      "displayName": "jian Xu",
      "photoUrl": "",
      "userId": "02019284238930330026"
     },
     "user_tz": 360
    },
    "id": "kX4yFshIsrTj",
    "outputId": "117b6730-5501-448d-fede-45c05b79c3a2"
   },
   "outputs": [
    {
     "name": "stderr",
     "output_type": "stream",
     "text": [
      "/usr/local/lib/python3.6/dist-packages/pandas/core/series.py:856: RuntimeWarning:\n",
      "\n",
      "divide by zero encountered in log10\n",
      "\n",
      "/usr/local/lib/python3.6/dist-packages/pandas/core/series.py:856: RuntimeWarning:\n",
      "\n",
      "invalid value encountered in log10\n",
      "\n"
     ]
    }
   ],
   "source": [
    "china_province = utils.add_moving_average(china_province, ['province_name'], 3)\n",
    "china_province['mortality_rate'] = china_province['cum_dead'] / china_province['cum_confirmed']\n",
    "china_province['new_confirmed_logMA'] = np.log10(china_province['new_confirmed_MA'] + 2)"
   ]
  },
  {
   "cell_type": "code",
   "execution_count": 61,
   "metadata": {
    "colab": {
     "base_uri": "https://localhost:8080/",
     "height": 542
    },
    "colab_type": "code",
    "executionInfo": {
     "elapsed": 1056,
     "status": "ok",
     "timestamp": 1583464937644,
     "user": {
      "displayName": "jian Xu",
      "photoUrl": "",
      "userId": "02019284238930330026"
     },
     "user_tz": 360
    },
    "id": "LNFymX64suqo",
    "outputId": "3ae212c5-7f7c-46fc-ee9d-6afbbc98bc6d"
   },
   "outputs": [
    {
     "data": {
      "text/html": [
       "<html>\n",
       "<head><meta charset=\"utf-8\" /></head>\n",
       "<body>\n",
       "    <div>\n",
       "            <script src=\"https://cdnjs.cloudflare.com/ajax/libs/mathjax/2.7.5/MathJax.js?config=TeX-AMS-MML_SVG\"></script><script type=\"text/javascript\">if (window.MathJax) {MathJax.Hub.Config({SVG: {font: \"STIX-Web\"}});}</script>\n",
       "                <script type=\"text/javascript\">window.PlotlyConfig = {MathJaxConfig: 'local'};</script>\n",
       "        <script src=\"https://cdn.plot.ly/plotly-latest.min.js\"></script>    \n",
       "            <div id=\"fbe44168-13c5-4dcf-9108-8834813671b1\" class=\"plotly-graph-div\" style=\"height:525px; width:100%;\"></div>\n",
       "            <script type=\"text/javascript\">\n",
       "                \n",
       "                    window.PLOTLYENV=window.PLOTLYENV || {};\n",
       "                    \n",
       "                if (document.getElementById(\"fbe44168-13c5-4dcf-9108-8834813671b1\")) {\n",
       "                    Plotly.newPlot(\n",
       "                        'fbe44168-13c5-4dcf-9108-8834813671b1',\n",
       "                        [{\"customdata\": [[\"\\u4e0a\\u6d77\\u5e02\", 2, 333, 0.0, 1.0], [\"\\u4e91\\u5357\\u7701\", 1, 173, 1.0, 1.0], [\"\\u5185\\u8499\\u53e4\\u81ea\\u6cbb\\u533a\", 0, 75, 2.0, 0.0], [\"\\u5317\\u4eac\\u5e02\", 4, 393, 6.0, 0.0], [\"\\u5409\\u6797\\u7701\", 1, 90, 1.0, 0.0], [\"\\u56db\\u5ddd\\u7701\", 3, 514, 6.0, 0.0], [\"\\u5929\\u6d25\\u5e02\", 3, 130, 2.0, 0.0], [\"\\u5b81\\u590f\\u56de\\u65cf\\u81ea\\u6cbb\\u533a\", 0, 71, 1.0, 0.0], [\"\\u5b89\\u5fbd\\u7701\", 6, 986, 4.0, 0.0], [\"\\u5c71\\u4e1c\\u7701\", 3, 544, 1.0, 0.0], [\"\\u5c71\\u897f\\u7701\", 0, 131, 1.0, 0.0], [\"\\u5e7f\\u4e1c\\u7701\", 5, 1331, 3.0, 1.0], [\"\\u5e7f\\u897f\\u58ee\\u65cf\\u81ea\\u6cbb\\u533a\", 2, 244, 2.0, 0.0], [\"\\u65b0\\u7586\\u7ef4\\u543e\\u5c14\\u81ea\\u6cbb\\u533a\", 1, 76, 0.0, 0.0], [\"\\u6b66\\u6c49\", 1497, 44412, 1660.0, 116.0], [\"\\u6c5f\\u82cf\\u7701\", 0, 631, 2.0, 0.0], [\"\\u6c5f\\u897f\\u7701\", 1, 934, 1.0, 0.0], [\"\\u6cb3\\u5317\\u7701\", 4, 306, 4.0, 0.0], [\"\\u6cb3\\u5357\\u7701\", 19, 1262, 5.0, 0.0], [\"\\u6d59\\u6c5f\\u7701\", 0, 1174, 2.0, 0.0], [\"\\u6d77\\u5357\\u7701\", 4, 163, 0.0, 0.0], [\"\\u6e56\\u5317\\u7701\\u9664\\u6b66\\u6c49\", 424, 17270, 33.0, 16.0], [\"\\u6e56\\u5357\\u7701\", 4, 1008, 1.0, 0.0], [\"\\u7518\\u8083\\u7701\", 2, 91, 0.0, 0.0], [\"\\u798f\\u5efa\\u7701\", 0, 293, 1.0, 0.0], [\"\\u8d35\\u5dde\\u7701\", 2, 146, 0.0, 0.0], [\"\\u8fbd\\u5b81\\u7701\", 1, 121, 0.0, 0.0], [\"\\u91cd\\u5e86\\u5e02\", 5, 553, 0.0, 0.0], [\"\\u9655\\u897f\\u7701\", 0, 242, 2.0, 0.0], [\"\\u9752\\u6d77\\u7701\", 0, 18, 0.0, 0.0], [\"\\u9ed1\\u9f99\\u6c5f\\u7701\", 12, 470, 6.0, 1.0]], \"hoverlabel\": {\"namelength\": 0}, \"hovertemplate\": \"cum_confirmed=%{customdata[2]}<br>mortality_rate=%{y}<br>new_confirmed_logMA=%{marker.size}<br>province_name=%{text}<br>cum_dead=%{customdata[1]}<br>new_confirmed=%{customdata[3]}<br>new_dead=%{customdata[4]}\", \"legendgroup\": \"\", \"marker\": {\"color\": \"#636efa\", \"size\": [0.5642714304385626, 0.4259687322722811, 0.5642714304385626, 0.8016323462331665, 0.36797678529459443, 1.1139433523068367, 0.6020599913279624, 0.36797678529459443, 1.0, 0.6368220975871743, 0.47712125471966244, 0.8450980400142568, 0.6368220975871743, 0.5642714304385626, 3.218010042984363, 0.8239087409443188, 0.6989700043360189, 0.6020599913279624, 1.0910804693473326, 0.6368220975871743, 0.36797678529459443, 2.2121876044039577, 0.5228787452803375, 0.36797678529459443, 0.6020599913279624, 0.4259687322722811, 0.3010299956639812, 0.6020599913279624, 0.6020599913279624, 0.3010299956639812, 1.0], \"sizemode\": \"area\", \"sizeref\": 0.004855485157376783, \"symbol\": \"circle\"}, \"mode\": \"markers+text\", \"name\": \"\", \"showlegend\": false, \"text\": [\"\\u4e0a\\u6d77\\u5e02\", \"\\u4e91\\u5357\\u7701\", \"\\u5185\\u8499\\u53e4\\u81ea\\u6cbb\\u533a\", \"\\u5317\\u4eac\\u5e02\", \"\\u5409\\u6797\\u7701\", \"\\u56db\\u5ddd\\u7701\", \"\\u5929\\u6d25\\u5e02\", \"\\u5b81\\u590f\\u56de\\u65cf\\u81ea\\u6cbb\\u533a\", \"\\u5b89\\u5fbd\\u7701\", \"\\u5c71\\u4e1c\\u7701\", \"\\u5c71\\u897f\\u7701\", \"\\u5e7f\\u4e1c\\u7701\", \"\\u5e7f\\u897f\\u58ee\\u65cf\\u81ea\\u6cbb\\u533a\", \"\\u65b0\\u7586\\u7ef4\\u543e\\u5c14\\u81ea\\u6cbb\\u533a\", \"\\u6b66\\u6c49\", \"\\u6c5f\\u82cf\\u7701\", \"\\u6c5f\\u897f\\u7701\", \"\\u6cb3\\u5317\\u7701\", \"\\u6cb3\\u5357\\u7701\", \"\\u6d59\\u6c5f\\u7701\", \"\\u6d77\\u5357\\u7701\", \"\\u6e56\\u5317\\u7701\\u9664\\u6b66\\u6c49\", \"\\u6e56\\u5357\\u7701\", \"\\u7518\\u8083\\u7701\", \"\\u798f\\u5efa\\u7701\", \"\\u8d35\\u5dde\\u7701\", \"\\u8fbd\\u5b81\\u7701\", \"\\u91cd\\u5e86\\u5e02\", \"\\u9655\\u897f\\u7701\", \"\\u9752\\u6d77\\u7701\", \"\\u9ed1\\u9f99\\u6c5f\\u7701\"], \"textposition\": \"top center\", \"type\": \"scatter\", \"x\": [333, 173, 75, 393, 90, 514, 130, 71, 986, 544, 131, 1331, 244, 76, 44412, 631, 934, 306, 1262, 1174, 163, 17270, 1008, 91, 293, 146, 121, 553, 242, 18, 470], \"xaxis\": \"x\", \"y\": [0.006006006006006006, 0.005780346820809248, 0.0, 0.010178117048346057, 0.011111111111111112, 0.005836575875486381, 0.023076923076923078, 0.0, 0.006085192697768763, 0.0055147058823529415, 0.0, 0.003756574004507889, 0.00819672131147541, 0.013157894736842105, 0.033707106187516885, 0.0, 0.0010706638115631692, 0.013071895424836602, 0.015055467511885896, 0.0, 0.024539877300613498, 0.02455124493341054, 0.003968253968253968, 0.02197802197802198, 0.0, 0.0136986301369863, 0.008264462809917356, 0.009041591320072333, 0.0, 0.0, 0.02553191489361702], \"yaxis\": \"y\"}, {\"line\": {\"color\": \"orange\", \"dash\": \"dot\"}, \"mode\": \"lines\", \"textposition\": \"top center\", \"type\": \"scatter\", \"x\": [100, 100], \"y\": [-0.005, 0.05]}, {\"line\": {\"color\": \"orange\", \"dash\": \"dot\"}, \"mode\": \"lines\", \"textposition\": \"top center\", \"type\": \"scatter\", \"x\": [500, 500], \"y\": [-0.005, 0.05]}, {\"line\": {\"color\": \"orange\", \"dash\": \"dot\"}, \"mode\": \"lines\", \"textposition\": \"top center\", \"type\": \"scatter\", \"x\": [15, 50000], \"y\": [0.02, 0.02]}, {\"line\": {\"color\": \"orange\", \"dash\": \"dot\"}, \"mode\": \"lines\", \"textposition\": \"top center\", \"type\": \"scatter\", \"x\": [15, 50000], \"y\": [0.01, 0.01]}],\n",
       "                        {\"legend\": {\"itemsizing\": \"constant\", \"tracegroupgap\": 0}, \"template\": {\"data\": {\"bar\": [{\"error_x\": {\"color\": \"#2a3f5f\"}, \"error_y\": {\"color\": \"#2a3f5f\"}, \"marker\": {\"line\": {\"color\": \"#E5ECF6\", \"width\": 0.5}}, \"type\": \"bar\"}], \"barpolar\": [{\"marker\": {\"line\": {\"color\": \"#E5ECF6\", \"width\": 0.5}}, \"type\": \"barpolar\"}], \"carpet\": [{\"aaxis\": {\"endlinecolor\": \"#2a3f5f\", \"gridcolor\": \"white\", \"linecolor\": \"white\", \"minorgridcolor\": \"white\", \"startlinecolor\": \"#2a3f5f\"}, \"baxis\": {\"endlinecolor\": \"#2a3f5f\", \"gridcolor\": \"white\", \"linecolor\": \"white\", \"minorgridcolor\": \"white\", \"startlinecolor\": \"#2a3f5f\"}, \"type\": \"carpet\"}], \"choropleth\": [{\"colorbar\": {\"outlinewidth\": 0, \"ticks\": \"\"}, \"type\": \"choropleth\"}], \"contour\": [{\"colorbar\": {\"outlinewidth\": 0, \"ticks\": \"\"}, \"colorscale\": [[0.0, \"#0d0887\"], [0.1111111111111111, \"#46039f\"], [0.2222222222222222, \"#7201a8\"], [0.3333333333333333, \"#9c179e\"], [0.4444444444444444, \"#bd3786\"], [0.5555555555555556, \"#d8576b\"], [0.6666666666666666, \"#ed7953\"], [0.7777777777777778, \"#fb9f3a\"], [0.8888888888888888, \"#fdca26\"], [1.0, \"#f0f921\"]], \"type\": \"contour\"}], \"contourcarpet\": [{\"colorbar\": {\"outlinewidth\": 0, \"ticks\": \"\"}, \"type\": \"contourcarpet\"}], \"heatmap\": [{\"colorbar\": {\"outlinewidth\": 0, \"ticks\": \"\"}, \"colorscale\": [[0.0, \"#0d0887\"], [0.1111111111111111, \"#46039f\"], [0.2222222222222222, \"#7201a8\"], [0.3333333333333333, \"#9c179e\"], [0.4444444444444444, \"#bd3786\"], [0.5555555555555556, \"#d8576b\"], [0.6666666666666666, \"#ed7953\"], [0.7777777777777778, \"#fb9f3a\"], [0.8888888888888888, \"#fdca26\"], [1.0, \"#f0f921\"]], \"type\": \"heatmap\"}], \"heatmapgl\": [{\"colorbar\": {\"outlinewidth\": 0, \"ticks\": \"\"}, \"colorscale\": [[0.0, \"#0d0887\"], [0.1111111111111111, \"#46039f\"], [0.2222222222222222, \"#7201a8\"], [0.3333333333333333, \"#9c179e\"], [0.4444444444444444, \"#bd3786\"], [0.5555555555555556, \"#d8576b\"], [0.6666666666666666, \"#ed7953\"], [0.7777777777777778, \"#fb9f3a\"], [0.8888888888888888, \"#fdca26\"], [1.0, \"#f0f921\"]], \"type\": \"heatmapgl\"}], \"histogram\": [{\"marker\": {\"colorbar\": {\"outlinewidth\": 0, \"ticks\": \"\"}}, \"type\": \"histogram\"}], \"histogram2d\": [{\"colorbar\": {\"outlinewidth\": 0, \"ticks\": \"\"}, \"colorscale\": [[0.0, \"#0d0887\"], [0.1111111111111111, \"#46039f\"], [0.2222222222222222, \"#7201a8\"], [0.3333333333333333, \"#9c179e\"], [0.4444444444444444, \"#bd3786\"], [0.5555555555555556, \"#d8576b\"], [0.6666666666666666, \"#ed7953\"], [0.7777777777777778, \"#fb9f3a\"], [0.8888888888888888, \"#fdca26\"], [1.0, \"#f0f921\"]], \"type\": \"histogram2d\"}], \"histogram2dcontour\": [{\"colorbar\": {\"outlinewidth\": 0, \"ticks\": \"\"}, \"colorscale\": [[0.0, \"#0d0887\"], [0.1111111111111111, \"#46039f\"], [0.2222222222222222, \"#7201a8\"], [0.3333333333333333, \"#9c179e\"], [0.4444444444444444, \"#bd3786\"], [0.5555555555555556, \"#d8576b\"], [0.6666666666666666, \"#ed7953\"], [0.7777777777777778, \"#fb9f3a\"], [0.8888888888888888, \"#fdca26\"], [1.0, \"#f0f921\"]], \"type\": \"histogram2dcontour\"}], \"mesh3d\": [{\"colorbar\": {\"outlinewidth\": 0, \"ticks\": \"\"}, \"type\": \"mesh3d\"}], \"parcoords\": [{\"line\": {\"colorbar\": {\"outlinewidth\": 0, \"ticks\": \"\"}}, \"type\": \"parcoords\"}], \"pie\": [{\"automargin\": true, \"type\": \"pie\"}], \"scatter\": [{\"marker\": {\"colorbar\": {\"outlinewidth\": 0, \"ticks\": \"\"}}, \"type\": \"scatter\"}], \"scatter3d\": [{\"line\": {\"colorbar\": {\"outlinewidth\": 0, \"ticks\": \"\"}}, \"marker\": {\"colorbar\": {\"outlinewidth\": 0, \"ticks\": \"\"}}, \"type\": \"scatter3d\"}], \"scattercarpet\": [{\"marker\": {\"colorbar\": {\"outlinewidth\": 0, \"ticks\": \"\"}}, \"type\": \"scattercarpet\"}], \"scattergeo\": [{\"marker\": {\"colorbar\": {\"outlinewidth\": 0, \"ticks\": \"\"}}, \"type\": \"scattergeo\"}], \"scattergl\": [{\"marker\": {\"colorbar\": {\"outlinewidth\": 0, \"ticks\": \"\"}}, \"type\": \"scattergl\"}], \"scattermapbox\": [{\"marker\": {\"colorbar\": {\"outlinewidth\": 0, \"ticks\": \"\"}}, \"type\": \"scattermapbox\"}], \"scatterpolar\": [{\"marker\": {\"colorbar\": {\"outlinewidth\": 0, \"ticks\": \"\"}}, \"type\": \"scatterpolar\"}], \"scatterpolargl\": [{\"marker\": {\"colorbar\": {\"outlinewidth\": 0, \"ticks\": \"\"}}, \"type\": \"scatterpolargl\"}], \"scatterternary\": [{\"marker\": {\"colorbar\": {\"outlinewidth\": 0, \"ticks\": \"\"}}, \"type\": \"scatterternary\"}], \"surface\": [{\"colorbar\": {\"outlinewidth\": 0, \"ticks\": \"\"}, \"colorscale\": [[0.0, \"#0d0887\"], [0.1111111111111111, \"#46039f\"], [0.2222222222222222, \"#7201a8\"], [0.3333333333333333, \"#9c179e\"], [0.4444444444444444, \"#bd3786\"], [0.5555555555555556, \"#d8576b\"], [0.6666666666666666, \"#ed7953\"], [0.7777777777777778, \"#fb9f3a\"], [0.8888888888888888, \"#fdca26\"], [1.0, \"#f0f921\"]], \"type\": \"surface\"}], \"table\": [{\"cells\": {\"fill\": {\"color\": \"#EBF0F8\"}, \"line\": {\"color\": \"white\"}}, \"header\": {\"fill\": {\"color\": \"#C8D4E3\"}, \"line\": {\"color\": \"white\"}}, \"type\": \"table\"}]}, \"layout\": {\"annotationdefaults\": {\"arrowcolor\": \"#2a3f5f\", \"arrowhead\": 0, \"arrowwidth\": 1}, \"coloraxis\": {\"colorbar\": {\"outlinewidth\": 0, \"ticks\": \"\"}}, \"colorscale\": {\"diverging\": [[0, \"#8e0152\"], [0.1, \"#c51b7d\"], [0.2, \"#de77ae\"], [0.3, \"#f1b6da\"], [0.4, \"#fde0ef\"], [0.5, \"#f7f7f7\"], [0.6, \"#e6f5d0\"], [0.7, \"#b8e186\"], [0.8, \"#7fbc41\"], [0.9, \"#4d9221\"], [1, \"#276419\"]], \"sequential\": [[0.0, \"#0d0887\"], [0.1111111111111111, \"#46039f\"], [0.2222222222222222, \"#7201a8\"], [0.3333333333333333, \"#9c179e\"], [0.4444444444444444, \"#bd3786\"], [0.5555555555555556, \"#d8576b\"], [0.6666666666666666, \"#ed7953\"], [0.7777777777777778, \"#fb9f3a\"], [0.8888888888888888, \"#fdca26\"], [1.0, \"#f0f921\"]], \"sequentialminus\": [[0.0, \"#0d0887\"], [0.1111111111111111, \"#46039f\"], [0.2222222222222222, \"#7201a8\"], [0.3333333333333333, \"#9c179e\"], [0.4444444444444444, \"#bd3786\"], [0.5555555555555556, \"#d8576b\"], [0.6666666666666666, \"#ed7953\"], [0.7777777777777778, \"#fb9f3a\"], [0.8888888888888888, \"#fdca26\"], [1.0, \"#f0f921\"]]}, \"colorway\": [\"#636efa\", \"#EF553B\", \"#00cc96\", \"#ab63fa\", \"#FFA15A\", \"#19d3f3\", \"#FF6692\", \"#B6E880\", \"#FF97FF\", \"#FECB52\"], \"font\": {\"color\": \"#2a3f5f\"}, \"geo\": {\"bgcolor\": \"white\", \"lakecolor\": \"white\", \"landcolor\": \"#E5ECF6\", \"showlakes\": true, \"showland\": true, \"subunitcolor\": \"white\"}, \"hoverlabel\": {\"align\": \"left\"}, \"hovermode\": \"closest\", \"mapbox\": {\"style\": \"light\"}, \"paper_bgcolor\": \"white\", \"plot_bgcolor\": \"#E5ECF6\", \"polar\": {\"angularaxis\": {\"gridcolor\": \"white\", \"linecolor\": \"white\", \"ticks\": \"\"}, \"bgcolor\": \"#E5ECF6\", \"radialaxis\": {\"gridcolor\": \"white\", \"linecolor\": \"white\", \"ticks\": \"\"}}, \"scene\": {\"xaxis\": {\"backgroundcolor\": \"#E5ECF6\", \"gridcolor\": \"white\", \"gridwidth\": 2, \"linecolor\": \"white\", \"showbackground\": true, \"ticks\": \"\", \"zerolinecolor\": \"white\"}, \"yaxis\": {\"backgroundcolor\": \"#E5ECF6\", \"gridcolor\": \"white\", \"gridwidth\": 2, \"linecolor\": \"white\", \"showbackground\": true, \"ticks\": \"\", \"zerolinecolor\": \"white\"}, \"zaxis\": {\"backgroundcolor\": \"#E5ECF6\", \"gridcolor\": \"white\", \"gridwidth\": 2, \"linecolor\": \"white\", \"showbackground\": true, \"ticks\": \"\", \"zerolinecolor\": \"white\"}}, \"shapedefaults\": {\"line\": {\"color\": \"#2a3f5f\"}}, \"ternary\": {\"aaxis\": {\"gridcolor\": \"white\", \"linecolor\": \"white\", \"ticks\": \"\"}, \"baxis\": {\"gridcolor\": \"white\", \"linecolor\": \"white\", \"ticks\": \"\"}, \"bgcolor\": \"#E5ECF6\", \"caxis\": {\"gridcolor\": \"white\", \"linecolor\": \"white\", \"ticks\": \"\"}}, \"title\": {\"x\": 0.05}, \"xaxis\": {\"automargin\": true, \"gridcolor\": \"white\", \"linecolor\": \"white\", \"ticks\": \"\", \"title\": {\"standoff\": 15}, \"zerolinecolor\": \"white\", \"zerolinewidth\": 2}, \"yaxis\": {\"automargin\": true, \"gridcolor\": \"white\", \"linecolor\": \"white\", \"ticks\": \"\", \"title\": {\"standoff\": 15}, \"zerolinecolor\": \"white\", \"zerolinewidth\": 2}}}, \"title\": {\"text\": \"Mortality Rate vs Confirmed by Country/Region as of 2020-02-19\"}, \"xaxis\": {\"anchor\": \"y\", \"domain\": [0.0, 1.0], \"title\": {\"text\": \"Confirmed Count\"}, \"type\": \"log\"}, \"yaxis\": {\"anchor\": \"x\", \"domain\": [0.0, 1.0], \"tickformat\": \",.1%\", \"title\": {\"text\": \"Mortality Rate\"}}},\n",
       "                        {\"responsive\": true}\n",
       "                    ).then(function(){\n",
       "                            \n",
       "var gd = document.getElementById('fbe44168-13c5-4dcf-9108-8834813671b1');\n",
       "var x = new MutationObserver(function (mutations, observer) {{\n",
       "        var display = window.getComputedStyle(gd).display;\n",
       "        if (!display || display === 'none') {{\n",
       "            console.log([gd, 'removed!']);\n",
       "            Plotly.purge(gd);\n",
       "            observer.disconnect();\n",
       "        }}\n",
       "}});\n",
       "\n",
       "// Listen for the removal of the full notebook cells\n",
       "var notebookContainer = gd.closest('#notebook-container');\n",
       "if (notebookContainer) {{\n",
       "    x.observe(notebookContainer, {childList: true});\n",
       "}}\n",
       "\n",
       "// Listen for the clearing of the current output cell\n",
       "var outputEl = gd.closest('.output');\n",
       "if (outputEl) {{\n",
       "    x.observe(outputEl, {childList: true});\n",
       "}}\n",
       "\n",
       "                        })\n",
       "                };\n",
       "                \n",
       "            </script>\n",
       "        </div>\n",
       "</body>\n",
       "</html>"
      ]
     },
     "metadata": {
      "tags": []
     },
     "output_type": "display_data"
    }
   ],
   "source": [
    "date = datetime.date(2020, 2, 19)\n",
    "frm = china_province.loc[(slice(None), date), :].reset_index()\n",
    "#frm = frm[frm['cum_confirmed'] >= 5]  # only show countries with more than 5 confirmed cases\n",
    "#frm = frm[frm['color'] != 'Other']\n",
    "fig = px.scatter(frm,\n",
    "                 x='cum_confirmed', \n",
    "                 y='mortality_rate',  \n",
    "                 size='new_confirmed_logMA', \n",
    "                 size_max=frm['new_confirmed_logMA'].max() * 8,\n",
    "                 #color='color',\n",
    "                 text='province_name',\n",
    "                 #color_continuous_scale=px.colors.sequential.Jet,\n",
    "                 hover_data=['province_name', 'cum_dead', 'cum_confirmed', 'new_confirmed', 'new_dead'],\n",
    "                 title='Mortality Rate vs Confirmed by Country/Region as of ' + str(date))\n",
    "fig.update_layout(xaxis_type=\"log\", xaxis_title='Confirmed Count', yaxis_title='Mortality Rate')\n",
    "fig.layout.yaxis.tickformat = ',.1%'  # set display to % format\n",
    "# add lines to split the region\n",
    "fig.add_trace(go.Scatter(x=[100, 100], y=[-0.005, 0.05], mode=\"lines\", line={'dash': 'dot', 'color': 'orange'}))\n",
    "fig.add_trace(go.Scatter(x=[500, 500], y=[-0.005, 0.05], mode=\"lines\", line={'dash': 'dot', 'color': 'orange'}))\n",
    "fig.add_trace(go.Scatter(x=[15, 50000], y=[0.02, 0.02], mode=\"lines\", line={'dash': 'dot', 'color': 'orange'}))\n",
    "fig.add_trace(go.Scatter(x=[15, 50000], y=[0.01, 0.01], mode=\"lines\", line={'dash': 'dot', 'color': 'orange'}))\n",
    "fig.update_traces(textposition='top center')\n",
    "\n",
    "fig.show()"
   ]
  },
  {
   "cell_type": "markdown",
   "metadata": {
    "colab_type": "text",
    "id": "bzmiKebj24Zi"
   },
   "source": [
    "### China on 2020-03-02, bubbles are diminishing, so spread is slowed down"
   ]
  },
  {
   "cell_type": "code",
   "execution_count": 58,
   "metadata": {
    "colab": {
     "base_uri": "https://localhost:8080/",
     "height": 542
    },
    "colab_type": "code",
    "executionInfo": {
     "elapsed": 795,
     "status": "ok",
     "timestamp": 1583464853082,
     "user": {
      "displayName": "jian Xu",
      "photoUrl": "",
      "userId": "02019284238930330026"
     },
     "user_tz": 360
    },
    "id": "UimRZgiEtUQ5",
    "outputId": "8431fcc0-468b-4c03-b29c-dd1212352517"
   },
   "outputs": [
    {
     "data": {
      "text/html": [
       "<html>\n",
       "<head><meta charset=\"utf-8\" /></head>\n",
       "<body>\n",
       "    <div>\n",
       "            <script src=\"https://cdnjs.cloudflare.com/ajax/libs/mathjax/2.7.5/MathJax.js?config=TeX-AMS-MML_SVG\"></script><script type=\"text/javascript\">if (window.MathJax) {MathJax.Hub.Config({SVG: {font: \"STIX-Web\"}});}</script>\n",
       "                <script type=\"text/javascript\">window.PlotlyConfig = {MathJaxConfig: 'local'};</script>\n",
       "        <script src=\"https://cdn.plot.ly/plotly-latest.min.js\"></script>    \n",
       "            <div id=\"f1cff621-4830-4a3c-b9d3-2c986878e1d8\" class=\"plotly-graph-div\" style=\"height:525px; width:100%;\"></div>\n",
       "            <script type=\"text/javascript\">\n",
       "                \n",
       "                    window.PLOTLYENV=window.PLOTLYENV || {};\n",
       "                    \n",
       "                if (document.getElementById(\"f1cff621-4830-4a3c-b9d3-2c986878e1d8\")) {\n",
       "                    Plotly.newPlot(\n",
       "                        'f1cff621-4830-4a3c-b9d3-2c986878e1d8',\n",
       "                        [{\"customdata\": [[\"\\u4e0a\\u6d77\\u5e02\", 3, 337, 0.0, 0.0], [\"\\u4e91\\u5357\\u7701\", 2, 174, 0.0, 0.0], [\"\\u5185\\u8499\\u53e4\\u81ea\\u6cbb\\u533a\", 0, 75, 0.0, 0.0], [\"\\u5317\\u4eac\\u5e02\", 8, 414, 1.0, 0.0], [\"\\u5409\\u6797\\u7701\", 1, 93, 0.0, 0.0], [\"\\u56db\\u5ddd\\u7701\", 3, 538, 0.0, 0.0], [\"\\u5b81\\u590f\\u56de\\u65cf\\u81ea\\u6cbb\\u533a\", 0, 74, 1.0, 0.0], [\"\\u5b89\\u5fbd\\u7701\", 6, 990, 0.0, 0.0], [\"\\u5c71\\u4e1c\\u7701\", 6, 758, 0.0, 0.0], [\"\\u5c71\\u897f\\u7701\", 0, 133, 0.0, 0.0], [\"\\u5e7f\\u4e1c\\u7701\", 7, 1350, 1.0, 0.0], [\"\\u5e7f\\u897f\\u58ee\\u65cf\\u81ea\\u6cbb\\u533a\", 2, 252, 0.0, 0.0], [\"\\u65b0\\u7586\\u7ef4\\u543e\\u5c14\\u81ea\\u6cbb\\u533a\", 3, 76, 0.0, 0.0], [\"\\u6b66\\u6c49\", 2227, 49315, 193.0, 32.0], [\"\\u6c5f\\u82cf\\u7701\", 0, 631, 0.0, 0.0], [\"\\u6c5f\\u897f\\u7701\", 1, 935, 0.0, 0.0], [\"\\u6cb3\\u5317\\u7701\", 6, 318, 0.0, 0.0], [\"\\u6cb3\\u5357\\u7701\", 28, 1272, 0.0, 6.0], [\"\\u6d59\\u6c5f\\u7701\", 1, 1206, 1.0, 0.0], [\"\\u6e56\\u5317\\u7701\\u9664\\u6b66\\u6c49\", 576, 17788, 3.0, 10.0], [\"\\u6e56\\u5357\\u7701\", 4, 1018, 0.0, 0.0], [\"\\u7518\\u8083\\u7701\", 2, 91, 0.0, 0.0], [\"\\u798f\\u5efa\\u7701\", 1, 296, 0.0, 0.0], [\"\\u8d35\\u5dde\\u7701\", 2, 146, 0.0, 0.0], [\"\\u8fbd\\u5b81\\u7701\", 1, 122, 0.0, 0.0], [\"\\u91cd\\u5e86\\u5e02\", 6, 576, 0.0, 0.0], [\"\\u9655\\u897f\\u7701\", 1, 245, 0.0, 0.0], [\"\\u9ed1\\u9f99\\u6c5f\\u7701\", 13, 480, 0.0, 0.0]], \"hoverlabel\": {\"namelength\": 0}, \"hovertemplate\": \"cum_confirmed=%{customdata[2]}<br>mortality_rate=%{y}<br>new_confirmed_logMA=%{marker.size}<br>province_name=%{text}<br>cum_dead=%{customdata[1]}<br>new_confirmed=%{customdata[3]}<br>new_dead=%{customdata[4]}\", \"legendgroup\": \"\", \"marker\": {\"color\": \"#636efa\", \"size\": [0.3010299956639812, 0.3010299956639812, 0.3010299956639812, 0.5228787452803375, 0.3010299956639812, 0.3010299956639812, 0.47712125471966244, 0.3010299956639812, 0.4259687322722811, 0.3010299956639812, 0.4259687322722811, 0.3010299956639812, 0.3010299956639812, 2.5962304476672386, 0.3010299956639812, 0.3010299956639812, 0.3010299956639812, 0.3010299956639812, 0.36797678529459443, 0.7533276666586115, 0.36797678529459443, 0.3010299956639812, 0.3010299956639812, 0.3010299956639812, 0.36797678529459443, 0.3010299956639812, 0.3010299956639812, 0.3010299956639812], \"sizemode\": \"area\", \"sizeref\": 0.006018340942746185, \"symbol\": \"circle\"}, \"mode\": \"markers+text\", \"name\": \"\", \"showlegend\": false, \"text\": [\"\\u4e0a\\u6d77\\u5e02\", \"\\u4e91\\u5357\\u7701\", \"\\u5185\\u8499\\u53e4\\u81ea\\u6cbb\\u533a\", \"\\u5317\\u4eac\\u5e02\", \"\\u5409\\u6797\\u7701\", \"\\u56db\\u5ddd\\u7701\", \"\\u5b81\\u590f\\u56de\\u65cf\\u81ea\\u6cbb\\u533a\", \"\\u5b89\\u5fbd\\u7701\", \"\\u5c71\\u4e1c\\u7701\", \"\\u5c71\\u897f\\u7701\", \"\\u5e7f\\u4e1c\\u7701\", \"\\u5e7f\\u897f\\u58ee\\u65cf\\u81ea\\u6cbb\\u533a\", \"\\u65b0\\u7586\\u7ef4\\u543e\\u5c14\\u81ea\\u6cbb\\u533a\", \"\\u6b66\\u6c49\", \"\\u6c5f\\u82cf\\u7701\", \"\\u6c5f\\u897f\\u7701\", \"\\u6cb3\\u5317\\u7701\", \"\\u6cb3\\u5357\\u7701\", \"\\u6d59\\u6c5f\\u7701\", \"\\u6e56\\u5317\\u7701\\u9664\\u6b66\\u6c49\", \"\\u6e56\\u5357\\u7701\", \"\\u7518\\u8083\\u7701\", \"\\u798f\\u5efa\\u7701\", \"\\u8d35\\u5dde\\u7701\", \"\\u8fbd\\u5b81\\u7701\", \"\\u91cd\\u5e86\\u5e02\", \"\\u9655\\u897f\\u7701\", \"\\u9ed1\\u9f99\\u6c5f\\u7701\"], \"textposition\": \"top center\", \"type\": \"scatter\", \"x\": [337, 174, 75, 414, 93, 538, 74, 990, 758, 133, 1350, 252, 76, 49315, 631, 935, 318, 1272, 1206, 17788, 1018, 91, 296, 146, 122, 576, 245, 480], \"xaxis\": \"x\", \"y\": [0.008902077151335312, 0.011494252873563218, 0.0, 0.01932367149758454, 0.010752688172043012, 0.0055762081784386614, 0.0, 0.006060606060606061, 0.0079155672823219, 0.0, 0.005185185185185185, 0.007936507936507936, 0.039473684210526314, 0.045158673831491435, 0.0, 0.0010695187165775401, 0.018867924528301886, 0.0220125786163522, 0.0008291873963515755, 0.032381380706094, 0.003929273084479371, 0.02197802197802198, 0.0033783783783783786, 0.0136986301369863, 0.00819672131147541, 0.010416666666666666, 0.004081632653061225, 0.027083333333333334], \"yaxis\": \"y\"}, {\"line\": {\"color\": \"orange\", \"dash\": \"dot\"}, \"mode\": \"lines\", \"textposition\": \"top center\", \"type\": \"scatter\", \"x\": [100, 100], \"y\": [-0.005, 0.05]}, {\"line\": {\"color\": \"orange\", \"dash\": \"dot\"}, \"mode\": \"lines\", \"textposition\": \"top center\", \"type\": \"scatter\", \"x\": [500, 500], \"y\": [-0.005, 0.05]}, {\"line\": {\"color\": \"orange\", \"dash\": \"dot\"}, \"mode\": \"lines\", \"textposition\": \"top center\", \"type\": \"scatter\", \"x\": [50, 50000], \"y\": [0.02, 0.02]}, {\"line\": {\"color\": \"orange\", \"dash\": \"dot\"}, \"mode\": \"lines\", \"textposition\": \"top center\", \"type\": \"scatter\", \"x\": [50, 50000], \"y\": [0.01, 0.01]}],\n",
       "                        {\"legend\": {\"itemsizing\": \"constant\", \"tracegroupgap\": 0}, \"template\": {\"data\": {\"bar\": [{\"error_x\": {\"color\": \"#2a3f5f\"}, \"error_y\": {\"color\": \"#2a3f5f\"}, \"marker\": {\"line\": {\"color\": \"#E5ECF6\", \"width\": 0.5}}, \"type\": \"bar\"}], \"barpolar\": [{\"marker\": {\"line\": {\"color\": \"#E5ECF6\", \"width\": 0.5}}, \"type\": \"barpolar\"}], \"carpet\": [{\"aaxis\": {\"endlinecolor\": \"#2a3f5f\", \"gridcolor\": \"white\", \"linecolor\": \"white\", \"minorgridcolor\": \"white\", \"startlinecolor\": \"#2a3f5f\"}, \"baxis\": {\"endlinecolor\": \"#2a3f5f\", \"gridcolor\": \"white\", \"linecolor\": \"white\", \"minorgridcolor\": \"white\", \"startlinecolor\": \"#2a3f5f\"}, \"type\": \"carpet\"}], \"choropleth\": [{\"colorbar\": {\"outlinewidth\": 0, \"ticks\": \"\"}, \"type\": \"choropleth\"}], \"contour\": [{\"colorbar\": {\"outlinewidth\": 0, \"ticks\": \"\"}, \"colorscale\": [[0.0, \"#0d0887\"], [0.1111111111111111, \"#46039f\"], [0.2222222222222222, \"#7201a8\"], [0.3333333333333333, \"#9c179e\"], [0.4444444444444444, \"#bd3786\"], [0.5555555555555556, \"#d8576b\"], [0.6666666666666666, \"#ed7953\"], [0.7777777777777778, \"#fb9f3a\"], [0.8888888888888888, \"#fdca26\"], [1.0, \"#f0f921\"]], \"type\": \"contour\"}], \"contourcarpet\": [{\"colorbar\": {\"outlinewidth\": 0, \"ticks\": \"\"}, \"type\": \"contourcarpet\"}], \"heatmap\": [{\"colorbar\": {\"outlinewidth\": 0, \"ticks\": \"\"}, \"colorscale\": [[0.0, \"#0d0887\"], [0.1111111111111111, \"#46039f\"], [0.2222222222222222, \"#7201a8\"], [0.3333333333333333, \"#9c179e\"], [0.4444444444444444, \"#bd3786\"], [0.5555555555555556, \"#d8576b\"], [0.6666666666666666, \"#ed7953\"], [0.7777777777777778, \"#fb9f3a\"], [0.8888888888888888, \"#fdca26\"], [1.0, \"#f0f921\"]], \"type\": \"heatmap\"}], \"heatmapgl\": [{\"colorbar\": {\"outlinewidth\": 0, \"ticks\": \"\"}, \"colorscale\": [[0.0, \"#0d0887\"], [0.1111111111111111, \"#46039f\"], [0.2222222222222222, \"#7201a8\"], [0.3333333333333333, \"#9c179e\"], [0.4444444444444444, \"#bd3786\"], [0.5555555555555556, \"#d8576b\"], [0.6666666666666666, \"#ed7953\"], [0.7777777777777778, \"#fb9f3a\"], [0.8888888888888888, \"#fdca26\"], [1.0, \"#f0f921\"]], \"type\": \"heatmapgl\"}], \"histogram\": [{\"marker\": {\"colorbar\": {\"outlinewidth\": 0, \"ticks\": \"\"}}, \"type\": \"histogram\"}], \"histogram2d\": [{\"colorbar\": {\"outlinewidth\": 0, \"ticks\": \"\"}, \"colorscale\": [[0.0, \"#0d0887\"], [0.1111111111111111, \"#46039f\"], [0.2222222222222222, \"#7201a8\"], [0.3333333333333333, \"#9c179e\"], [0.4444444444444444, \"#bd3786\"], [0.5555555555555556, \"#d8576b\"], [0.6666666666666666, \"#ed7953\"], [0.7777777777777778, \"#fb9f3a\"], [0.8888888888888888, \"#fdca26\"], [1.0, \"#f0f921\"]], \"type\": \"histogram2d\"}], \"histogram2dcontour\": [{\"colorbar\": {\"outlinewidth\": 0, \"ticks\": \"\"}, \"colorscale\": [[0.0, \"#0d0887\"], [0.1111111111111111, \"#46039f\"], [0.2222222222222222, \"#7201a8\"], [0.3333333333333333, \"#9c179e\"], [0.4444444444444444, \"#bd3786\"], [0.5555555555555556, \"#d8576b\"], [0.6666666666666666, \"#ed7953\"], [0.7777777777777778, \"#fb9f3a\"], [0.8888888888888888, \"#fdca26\"], [1.0, \"#f0f921\"]], \"type\": \"histogram2dcontour\"}], \"mesh3d\": [{\"colorbar\": {\"outlinewidth\": 0, \"ticks\": \"\"}, \"type\": \"mesh3d\"}], \"parcoords\": [{\"line\": {\"colorbar\": {\"outlinewidth\": 0, \"ticks\": \"\"}}, \"type\": \"parcoords\"}], \"pie\": [{\"automargin\": true, \"type\": \"pie\"}], \"scatter\": [{\"marker\": {\"colorbar\": {\"outlinewidth\": 0, \"ticks\": \"\"}}, \"type\": \"scatter\"}], \"scatter3d\": [{\"line\": {\"colorbar\": {\"outlinewidth\": 0, \"ticks\": \"\"}}, \"marker\": {\"colorbar\": {\"outlinewidth\": 0, \"ticks\": \"\"}}, \"type\": \"scatter3d\"}], \"scattercarpet\": [{\"marker\": {\"colorbar\": {\"outlinewidth\": 0, \"ticks\": \"\"}}, \"type\": \"scattercarpet\"}], \"scattergeo\": [{\"marker\": {\"colorbar\": {\"outlinewidth\": 0, \"ticks\": \"\"}}, \"type\": \"scattergeo\"}], \"scattergl\": [{\"marker\": {\"colorbar\": {\"outlinewidth\": 0, \"ticks\": \"\"}}, \"type\": \"scattergl\"}], \"scattermapbox\": [{\"marker\": {\"colorbar\": {\"outlinewidth\": 0, \"ticks\": \"\"}}, \"type\": \"scattermapbox\"}], \"scatterpolar\": [{\"marker\": {\"colorbar\": {\"outlinewidth\": 0, \"ticks\": \"\"}}, \"type\": \"scatterpolar\"}], \"scatterpolargl\": [{\"marker\": {\"colorbar\": {\"outlinewidth\": 0, \"ticks\": \"\"}}, \"type\": \"scatterpolargl\"}], \"scatterternary\": [{\"marker\": {\"colorbar\": {\"outlinewidth\": 0, \"ticks\": \"\"}}, \"type\": \"scatterternary\"}], \"surface\": [{\"colorbar\": {\"outlinewidth\": 0, \"ticks\": \"\"}, \"colorscale\": [[0.0, \"#0d0887\"], [0.1111111111111111, \"#46039f\"], [0.2222222222222222, \"#7201a8\"], [0.3333333333333333, \"#9c179e\"], [0.4444444444444444, \"#bd3786\"], [0.5555555555555556, \"#d8576b\"], [0.6666666666666666, \"#ed7953\"], [0.7777777777777778, \"#fb9f3a\"], [0.8888888888888888, \"#fdca26\"], [1.0, \"#f0f921\"]], \"type\": \"surface\"}], \"table\": [{\"cells\": {\"fill\": {\"color\": \"#EBF0F8\"}, \"line\": {\"color\": \"white\"}}, \"header\": {\"fill\": {\"color\": \"#C8D4E3\"}, \"line\": {\"color\": \"white\"}}, \"type\": \"table\"}]}, \"layout\": {\"annotationdefaults\": {\"arrowcolor\": \"#2a3f5f\", \"arrowhead\": 0, \"arrowwidth\": 1}, \"coloraxis\": {\"colorbar\": {\"outlinewidth\": 0, \"ticks\": \"\"}}, \"colorscale\": {\"diverging\": [[0, \"#8e0152\"], [0.1, \"#c51b7d\"], [0.2, \"#de77ae\"], [0.3, \"#f1b6da\"], [0.4, \"#fde0ef\"], [0.5, \"#f7f7f7\"], [0.6, \"#e6f5d0\"], [0.7, \"#b8e186\"], [0.8, \"#7fbc41\"], [0.9, \"#4d9221\"], [1, \"#276419\"]], \"sequential\": [[0.0, \"#0d0887\"], [0.1111111111111111, \"#46039f\"], [0.2222222222222222, \"#7201a8\"], [0.3333333333333333, \"#9c179e\"], [0.4444444444444444, \"#bd3786\"], [0.5555555555555556, \"#d8576b\"], [0.6666666666666666, \"#ed7953\"], [0.7777777777777778, \"#fb9f3a\"], [0.8888888888888888, \"#fdca26\"], [1.0, \"#f0f921\"]], \"sequentialminus\": [[0.0, \"#0d0887\"], [0.1111111111111111, \"#46039f\"], [0.2222222222222222, \"#7201a8\"], [0.3333333333333333, \"#9c179e\"], [0.4444444444444444, \"#bd3786\"], [0.5555555555555556, \"#d8576b\"], [0.6666666666666666, \"#ed7953\"], [0.7777777777777778, \"#fb9f3a\"], [0.8888888888888888, \"#fdca26\"], [1.0, \"#f0f921\"]]}, \"colorway\": [\"#636efa\", \"#EF553B\", \"#00cc96\", \"#ab63fa\", \"#FFA15A\", \"#19d3f3\", \"#FF6692\", \"#B6E880\", \"#FF97FF\", \"#FECB52\"], \"font\": {\"color\": \"#2a3f5f\"}, \"geo\": {\"bgcolor\": \"white\", \"lakecolor\": \"white\", \"landcolor\": \"#E5ECF6\", \"showlakes\": true, \"showland\": true, \"subunitcolor\": \"white\"}, \"hoverlabel\": {\"align\": \"left\"}, \"hovermode\": \"closest\", \"mapbox\": {\"style\": \"light\"}, \"paper_bgcolor\": \"white\", \"plot_bgcolor\": \"#E5ECF6\", \"polar\": {\"angularaxis\": {\"gridcolor\": \"white\", \"linecolor\": \"white\", \"ticks\": \"\"}, \"bgcolor\": \"#E5ECF6\", \"radialaxis\": {\"gridcolor\": \"white\", \"linecolor\": \"white\", \"ticks\": \"\"}}, \"scene\": {\"xaxis\": {\"backgroundcolor\": \"#E5ECF6\", \"gridcolor\": \"white\", \"gridwidth\": 2, \"linecolor\": \"white\", \"showbackground\": true, \"ticks\": \"\", \"zerolinecolor\": \"white\"}, \"yaxis\": {\"backgroundcolor\": \"#E5ECF6\", \"gridcolor\": \"white\", \"gridwidth\": 2, \"linecolor\": \"white\", \"showbackground\": true, \"ticks\": \"\", \"zerolinecolor\": \"white\"}, \"zaxis\": {\"backgroundcolor\": \"#E5ECF6\", \"gridcolor\": \"white\", \"gridwidth\": 2, \"linecolor\": \"white\", \"showbackground\": true, \"ticks\": \"\", \"zerolinecolor\": \"white\"}}, \"shapedefaults\": {\"line\": {\"color\": \"#2a3f5f\"}}, \"ternary\": {\"aaxis\": {\"gridcolor\": \"white\", \"linecolor\": \"white\", \"ticks\": \"\"}, \"baxis\": {\"gridcolor\": \"white\", \"linecolor\": \"white\", \"ticks\": \"\"}, \"bgcolor\": \"#E5ECF6\", \"caxis\": {\"gridcolor\": \"white\", \"linecolor\": \"white\", \"ticks\": \"\"}}, \"title\": {\"x\": 0.05}, \"xaxis\": {\"automargin\": true, \"gridcolor\": \"white\", \"linecolor\": \"white\", \"ticks\": \"\", \"title\": {\"standoff\": 15}, \"zerolinecolor\": \"white\", \"zerolinewidth\": 2}, \"yaxis\": {\"automargin\": true, \"gridcolor\": \"white\", \"linecolor\": \"white\", \"ticks\": \"\", \"title\": {\"standoff\": 15}, \"zerolinecolor\": \"white\", \"zerolinewidth\": 2}}}, \"title\": {\"text\": \"Mortality Rate vs Confirmed by Country/Region as of 2020-03-02\"}, \"xaxis\": {\"anchor\": \"y\", \"domain\": [0.0, 1.0], \"title\": {\"text\": \"Confirmed Count\"}, \"type\": \"log\"}, \"yaxis\": {\"anchor\": \"x\", \"domain\": [0.0, 1.0], \"tickformat\": \",.1%\", \"title\": {\"text\": \"Mortality Rate\"}}},\n",
       "                        {\"responsive\": true}\n",
       "                    ).then(function(){\n",
       "                            \n",
       "var gd = document.getElementById('f1cff621-4830-4a3c-b9d3-2c986878e1d8');\n",
       "var x = new MutationObserver(function (mutations, observer) {{\n",
       "        var display = window.getComputedStyle(gd).display;\n",
       "        if (!display || display === 'none') {{\n",
       "            console.log([gd, 'removed!']);\n",
       "            Plotly.purge(gd);\n",
       "            observer.disconnect();\n",
       "        }}\n",
       "}});\n",
       "\n",
       "// Listen for the removal of the full notebook cells\n",
       "var notebookContainer = gd.closest('#notebook-container');\n",
       "if (notebookContainer) {{\n",
       "    x.observe(notebookContainer, {childList: true});\n",
       "}}\n",
       "\n",
       "// Listen for the clearing of the current output cell\n",
       "var outputEl = gd.closest('.output');\n",
       "if (outputEl) {{\n",
       "    x.observe(outputEl, {childList: true});\n",
       "}}\n",
       "\n",
       "                        })\n",
       "                };\n",
       "                \n",
       "            </script>\n",
       "        </div>\n",
       "</body>\n",
       "</html>"
      ]
     },
     "metadata": {
      "tags": []
     },
     "output_type": "display_data"
    }
   ],
   "source": [
    "date = datetime.date(2020, 3, 2)\n",
    "frm = china_province.loc[(slice(None), date), :].reset_index()\n",
    "#frm = frm[frm['cum_confirmed'] >= 5]  # only show countries with more than 5 confirmed cases\n",
    "#frm = frm[frm['color'] != 'Other']\n",
    "fig = px.scatter(frm,\n",
    "                 x='cum_confirmed', \n",
    "                 y='mortality_rate',  \n",
    "                 size='new_confirmed_logMA', \n",
    "                 size_max=frm['new_confirmed_logMA'].max() * 8,\n",
    "                 #color='color',\n",
    "                 text='province_name',\n",
    "                 #color_continuous_scale=px.colors.sequential.Jet,\n",
    "                 hover_data=['province_name', 'cum_dead', 'cum_confirmed', 'new_confirmed', 'new_dead'],\n",
    "                 title='Mortality Rate vs Confirmed by Country/Region as of ' + str(date))\n",
    "fig.update_layout(xaxis_type=\"log\", xaxis_title='Confirmed Count', yaxis_title='Mortality Rate')\n",
    "fig.layout.yaxis.tickformat = ',.1%'  # set display to % format\n",
    "# add lines to split the region\n",
    "fig.add_trace(go.Scatter(x=[100, 100], y=[-0.005, 0.05], mode=\"lines\", line={'dash': 'dot', 'color': 'orange'}))\n",
    "fig.add_trace(go.Scatter(x=[500, 500], y=[-0.005, 0.05], mode=\"lines\", line={'dash': 'dot', 'color': 'orange'}))\n",
    "fig.add_trace(go.Scatter(x=[50, 50000], y=[0.02, 0.02], mode=\"lines\", line={'dash': 'dot', 'color': 'orange'}))\n",
    "fig.add_trace(go.Scatter(x=[50, 50000], y=[0.01, 0.01], mode=\"lines\", line={'dash': 'dot', 'color': 'orange'}))\n",
    "fig.update_traces(textposition='top center')\n",
    "\n",
    "fig.show()"
   ]
  },
  {
   "cell_type": "code",
   "execution_count": null,
   "metadata": {
    "colab": {},
    "colab_type": "code",
    "id": "xtTHiZCo28YT"
   },
   "outputs": [],
   "source": []
  }
 ],
 "metadata": {
  "colab": {
   "authorship_tag": "ABX9TyMmaCpfi68BUbuJlITWP6yF",
   "collapsed_sections": [
    "XjiQu56eMgvQ"
   ],
   "name": "international_colab.ipynb",
   "provenance": [
    {
     "file_id": "https://github.com/jianxu305/DXY-2019-nCoV-Data/blob/master/death_rate_colab.ipynb",
     "timestamp": 1582921394997
    }
   ]
  },
  "kernelspec": {
   "display_name": "Python 3",
   "language": "python",
   "name": "python3"
  },
  "language_info": {
   "codemirror_mode": {
    "name": "ipython",
    "version": 3
   },
   "file_extension": ".py",
   "mimetype": "text/x-python",
   "name": "python",
   "nbconvert_exporter": "python",
   "pygments_lexer": "ipython3",
   "version": "3.6.7"
  }
 },
 "nbformat": 4,
 "nbformat_minor": 4
}
