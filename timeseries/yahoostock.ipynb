{
 "cells": [
  {
   "cell_type": "code",
   "execution_count": 9,
   "metadata": {
    "collapsed": true
   },
   "outputs": [],
   "source": [
    "# 获取股票价格\n",
    "# https://www.jianshu.com/p/799027dd979a\n",
    "import pandas_datareader.data as web\n",
    "import datetime\n",
    "import pandas as pd"
   ]
  },
  {
   "cell_type": "code",
   "execution_count": 14,
   "outputs": [],
   "source": [
    "start = datetime.datetime(2019,6,1)\n",
    "end = datetime.date.today()\n",
    "prices = web.DataReader('AAPL','yahoo',start,end)\n"
   ],
   "metadata": {
    "collapsed": false,
    "pycharm": {
     "name": "#%%\n"
    }
   }
  },
  {
   "cell_type": "code",
   "execution_count": 15,
   "outputs": [
    {
     "data": {
      "text/plain": "                  High         Low        Open       Close      Volume  \\\nDate                                                                     \n2020-06-08  333.600006  327.320007  330.250000  333.459991  23913600.0   \n2020-06-09  345.609985  332.010010  332.140015  343.989990  36928100.0   \n2020-06-10  354.769989  346.089996  347.899994  352.839996  41662900.0   \n2020-06-11  351.059998  335.480011  349.309998  335.899994  50273700.0   \n2020-06-12  347.799988  335.598206  344.720001  339.200012  16059821.0   \n\n             Adj Close  \nDate                    \n2020-06-08  333.459991  \n2020-06-09  343.989990  \n2020-06-10  352.839996  \n2020-06-11  335.899994  \n2020-06-12  339.200012  ",
      "text/html": "<div>\n<style scoped>\n    .dataframe tbody tr th:only-of-type {\n        vertical-align: middle;\n    }\n\n    .dataframe tbody tr th {\n        vertical-align: top;\n    }\n\n    .dataframe thead th {\n        text-align: right;\n    }\n</style>\n<table border=\"1\" class=\"dataframe\">\n  <thead>\n    <tr style=\"text-align: right;\">\n      <th></th>\n      <th>High</th>\n      <th>Low</th>\n      <th>Open</th>\n      <th>Close</th>\n      <th>Volume</th>\n      <th>Adj Close</th>\n    </tr>\n    <tr>\n      <th>Date</th>\n      <th></th>\n      <th></th>\n      <th></th>\n      <th></th>\n      <th></th>\n      <th></th>\n    </tr>\n  </thead>\n  <tbody>\n    <tr>\n      <th>2020-06-08</th>\n      <td>333.600006</td>\n      <td>327.320007</td>\n      <td>330.250000</td>\n      <td>333.459991</td>\n      <td>23913600.0</td>\n      <td>333.459991</td>\n    </tr>\n    <tr>\n      <th>2020-06-09</th>\n      <td>345.609985</td>\n      <td>332.010010</td>\n      <td>332.140015</td>\n      <td>343.989990</td>\n      <td>36928100.0</td>\n      <td>343.989990</td>\n    </tr>\n    <tr>\n      <th>2020-06-10</th>\n      <td>354.769989</td>\n      <td>346.089996</td>\n      <td>347.899994</td>\n      <td>352.839996</td>\n      <td>41662900.0</td>\n      <td>352.839996</td>\n    </tr>\n    <tr>\n      <th>2020-06-11</th>\n      <td>351.059998</td>\n      <td>335.480011</td>\n      <td>349.309998</td>\n      <td>335.899994</td>\n      <td>50273700.0</td>\n      <td>335.899994</td>\n    </tr>\n    <tr>\n      <th>2020-06-12</th>\n      <td>347.799988</td>\n      <td>335.598206</td>\n      <td>344.720001</td>\n      <td>339.200012</td>\n      <td>16059821.0</td>\n      <td>339.200012</td>\n    </tr>\n  </tbody>\n</table>\n</div>"
     },
     "execution_count": 15,
     "metadata": {},
     "output_type": "execute_result"
    }
   ],
   "source": [
    "prices.tail()"
   ],
   "metadata": {
    "collapsed": false,
    "pycharm": {
     "name": "#%%\n"
    }
   }
  },
  {
   "cell_type": "code",
   "execution_count": 16,
   "outputs": [
    {
     "data": {
      "text/plain": "              action  value\n2020-05-08  DIVIDEND   0.82\n2020-02-07  DIVIDEND   0.77\n2019-11-07  DIVIDEND   0.77\n2019-08-09  DIVIDEND   0.77",
      "text/html": "<div>\n<style scoped>\n    .dataframe tbody tr th:only-of-type {\n        vertical-align: middle;\n    }\n\n    .dataframe tbody tr th {\n        vertical-align: top;\n    }\n\n    .dataframe thead th {\n        text-align: right;\n    }\n</style>\n<table border=\"1\" class=\"dataframe\">\n  <thead>\n    <tr style=\"text-align: right;\">\n      <th></th>\n      <th>action</th>\n      <th>value</th>\n    </tr>\n  </thead>\n  <tbody>\n    <tr>\n      <th>2020-05-08</th>\n      <td>DIVIDEND</td>\n      <td>0.82</td>\n    </tr>\n    <tr>\n      <th>2020-02-07</th>\n      <td>DIVIDEND</td>\n      <td>0.77</td>\n    </tr>\n    <tr>\n      <th>2019-11-07</th>\n      <td>DIVIDEND</td>\n      <td>0.77</td>\n    </tr>\n    <tr>\n      <th>2019-08-09</th>\n      <td>DIVIDEND</td>\n      <td>0.77</td>\n    </tr>\n  </tbody>\n</table>\n</div>"
     },
     "execution_count": 16,
     "metadata": {},
     "output_type": "execute_result"
    }
   ],
   "source": [
    "# 获取股利或股票分割等数据\n",
    "actions = web.DataReader('AAPL','yahoo-actions',start,end)\n",
    "actions.tail()"
   ],
   "metadata": {
    "collapsed": false,
    "pycharm": {
     "name": "#%%\n"
    }
   }
  },
  {
   "cell_type": "code",
   "execution_count": 29,
   "outputs": [
    {
     "data": {
      "text/plain": "                  High         Low        Open       Close      Volume  \\\n2020-06-08  333.600006  327.320007  330.250000  333.459991  23913600.0   \n2020-06-09  345.609985  332.010010  332.140015  343.989990  36928100.0   \n2020-06-10  354.769989  346.089996  347.899994  352.839996  41662900.0   \n2020-06-11  351.059998  335.480011  349.309998  335.899994  50273700.0   \n2020-06-12  347.799988  335.598206  344.720001  339.200012  16059821.0   \n\n             Adj Close action_x  value_x action_y  value_y  \n2020-06-08  333.459991      NaN      NaN      NaN      NaN  \n2020-06-09  343.989990      NaN      NaN      NaN      NaN  \n2020-06-10  352.839996      NaN      NaN      NaN      NaN  \n2020-06-11  335.899994      NaN      NaN      NaN      NaN  \n2020-06-12  339.200012      NaN      NaN      NaN      NaN  ",
      "text/html": "<div>\n<style scoped>\n    .dataframe tbody tr th:only-of-type {\n        vertical-align: middle;\n    }\n\n    .dataframe tbody tr th {\n        vertical-align: top;\n    }\n\n    .dataframe thead th {\n        text-align: right;\n    }\n</style>\n<table border=\"1\" class=\"dataframe\">\n  <thead>\n    <tr style=\"text-align: right;\">\n      <th></th>\n      <th>High</th>\n      <th>Low</th>\n      <th>Open</th>\n      <th>Close</th>\n      <th>Volume</th>\n      <th>Adj Close</th>\n      <th>action_x</th>\n      <th>value_x</th>\n      <th>action_y</th>\n      <th>value_y</th>\n    </tr>\n  </thead>\n  <tbody>\n    <tr>\n      <th>2020-06-08</th>\n      <td>333.600006</td>\n      <td>327.320007</td>\n      <td>330.250000</td>\n      <td>333.459991</td>\n      <td>23913600.0</td>\n      <td>333.459991</td>\n      <td>NaN</td>\n      <td>NaN</td>\n      <td>NaN</td>\n      <td>NaN</td>\n    </tr>\n    <tr>\n      <th>2020-06-09</th>\n      <td>345.609985</td>\n      <td>332.010010</td>\n      <td>332.140015</td>\n      <td>343.989990</td>\n      <td>36928100.0</td>\n      <td>343.989990</td>\n      <td>NaN</td>\n      <td>NaN</td>\n      <td>NaN</td>\n      <td>NaN</td>\n    </tr>\n    <tr>\n      <th>2020-06-10</th>\n      <td>354.769989</td>\n      <td>346.089996</td>\n      <td>347.899994</td>\n      <td>352.839996</td>\n      <td>41662900.0</td>\n      <td>352.839996</td>\n      <td>NaN</td>\n      <td>NaN</td>\n      <td>NaN</td>\n      <td>NaN</td>\n    </tr>\n    <tr>\n      <th>2020-06-11</th>\n      <td>351.059998</td>\n      <td>335.480011</td>\n      <td>349.309998</td>\n      <td>335.899994</td>\n      <td>50273700.0</td>\n      <td>335.899994</td>\n      <td>NaN</td>\n      <td>NaN</td>\n      <td>NaN</td>\n      <td>NaN</td>\n    </tr>\n    <tr>\n      <th>2020-06-12</th>\n      <td>347.799988</td>\n      <td>335.598206</td>\n      <td>344.720001</td>\n      <td>339.200012</td>\n      <td>16059821.0</td>\n      <td>339.200012</td>\n      <td>NaN</td>\n      <td>NaN</td>\n      <td>NaN</td>\n      <td>NaN</td>\n    </tr>\n  </tbody>\n</table>\n</div>"
     },
     "execution_count": 29,
     "metadata": {},
     "output_type": "execute_result"
    }
   ],
   "source": [
    "new = pd.merge(prices,actions,how='outer',left_index=True,right_index=True) # how='inner,返回共同存在\n",
    "new.tail()"
   ],
   "metadata": {
    "collapsed": false,
    "pycharm": {
     "name": "#%%\n"
    }
   }
  },
  {
   "cell_type": "code",
   "execution_count": 28,
   "outputs": [
    {
     "data": {
      "text/plain": "                  High         Low        Open       Close      Volume  \\\nDate                                                                     \n2019-05-31  177.990005  174.990005  176.229996  175.070007  27043600.0   \n2019-06-03  177.919998  170.270004  175.600006  173.300003  40396100.0   \n2019-06-04  179.830002  174.520004  175.440002  179.639999  30968000.0   \n2019-06-05  184.990005  181.139999  184.279999  182.539993  29773400.0   \n2019-06-06  185.470001  182.149994  183.080002  185.220001  22526300.0   \n\n             Adj Close action  value  \nDate                                  \n2019-05-31  173.005280    NaN    NaN  \n2019-06-03  171.256134    NaN    NaN  \n2019-06-04  177.521378    NaN    NaN  \n2019-06-05  180.387146    NaN    NaN  \n2019-06-06  183.035568    NaN    NaN  ",
      "text/html": "<div>\n<style scoped>\n    .dataframe tbody tr th:only-of-type {\n        vertical-align: middle;\n    }\n\n    .dataframe tbody tr th {\n        vertical-align: top;\n    }\n\n    .dataframe thead th {\n        text-align: right;\n    }\n</style>\n<table border=\"1\" class=\"dataframe\">\n  <thead>\n    <tr style=\"text-align: right;\">\n      <th></th>\n      <th>High</th>\n      <th>Low</th>\n      <th>Open</th>\n      <th>Close</th>\n      <th>Volume</th>\n      <th>Adj Close</th>\n      <th>action</th>\n      <th>value</th>\n    </tr>\n    <tr>\n      <th>Date</th>\n      <th></th>\n      <th></th>\n      <th></th>\n      <th></th>\n      <th></th>\n      <th></th>\n      <th></th>\n      <th></th>\n    </tr>\n  </thead>\n  <tbody>\n    <tr>\n      <th>2019-05-31</th>\n      <td>177.990005</td>\n      <td>174.990005</td>\n      <td>176.229996</td>\n      <td>175.070007</td>\n      <td>27043600.0</td>\n      <td>173.005280</td>\n      <td>NaN</td>\n      <td>NaN</td>\n    </tr>\n    <tr>\n      <th>2019-06-03</th>\n      <td>177.919998</td>\n      <td>170.270004</td>\n      <td>175.600006</td>\n      <td>173.300003</td>\n      <td>40396100.0</td>\n      <td>171.256134</td>\n      <td>NaN</td>\n      <td>NaN</td>\n    </tr>\n    <tr>\n      <th>2019-06-04</th>\n      <td>179.830002</td>\n      <td>174.520004</td>\n      <td>175.440002</td>\n      <td>179.639999</td>\n      <td>30968000.0</td>\n      <td>177.521378</td>\n      <td>NaN</td>\n      <td>NaN</td>\n    </tr>\n    <tr>\n      <th>2019-06-05</th>\n      <td>184.990005</td>\n      <td>181.139999</td>\n      <td>184.279999</td>\n      <td>182.539993</td>\n      <td>29773400.0</td>\n      <td>180.387146</td>\n      <td>NaN</td>\n      <td>NaN</td>\n    </tr>\n    <tr>\n      <th>2019-06-06</th>\n      <td>185.470001</td>\n      <td>182.149994</td>\n      <td>183.080002</td>\n      <td>185.220001</td>\n      <td>22526300.0</td>\n      <td>183.035568</td>\n      <td>NaN</td>\n      <td>NaN</td>\n    </tr>\n  </tbody>\n</table>\n</div>"
     },
     "execution_count": 28,
     "metadata": {},
     "output_type": "execute_result"
    }
   ],
   "source": [
    "prices['action'],prices['value'] = actions.action, actions.value\n",
    "prices.head()"
   ],
   "metadata": {
    "collapsed": false,
    "pycharm": {
     "name": "#%%\n"
    }
   }
  },
  {
   "cell_type": "code",
   "execution_count": null,
   "outputs": [],
   "source": [
    "\n"
   ],
   "metadata": {
    "collapsed": false,
    "pycharm": {
     "name": "#%%\n"
    }
   }
  }
 ],
 "metadata": {
  "kernelspec": {
   "display_name": "PyCharm (mywork)",
   "language": "python",
   "name": "pycharm-f39caa95"
  },
  "language_info": {
   "codemirror_mode": {
    "name": "ipython",
    "version": 2
   },
   "file_extension": ".py",
   "mimetype": "text/x-python",
   "name": "python",
   "nbconvert_exporter": "python",
   "pygments_lexer": "ipython2",
   "version": "2.7.6"
  }
 },
 "nbformat": 4,
 "nbformat_minor": 0
}