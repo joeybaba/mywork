{
 "cells": [
  {
   "cell_type": "code",
   "execution_count": 68,
   "metadata": {
    "collapsed": true
   },
   "outputs": [],
   "source": [
    "import pandas as pd\n",
    "import numpy as np\n",
    "import time"
   ]
  },
  {
   "cell_type": "code",
   "execution_count": 69,
   "outputs": [
    {
     "data": {
      "text/plain": "  provinceName  province_zipCode  province_confirmedCount  \\\n0          福建省            350000                      358   \n1          福建省            350000                      358   \n2          福建省            350000                      358   \n3          福建省            350000                      358   \n4          福建省            350000                      358   \n\n   province_suspectedCount  province_curedCount  province_deadCount  \\\n0                      3.0                  355                   1   \n1                      3.0                  355                   1   \n2                      3.0                  355                   1   \n3                      3.0                  355                   1   \n4                      3.0                  355                   1   \n\n            updateTime cityName  city_confirmedCount  city_suspectedCount  \\\n0  2020-05-28 09:06:52   境外输入人员                 62.0                  1.0   \n1  2020-05-28 09:06:52       福州                 72.0                  0.0   \n2  2020-05-28 09:06:52       莆田                 56.0                  0.0   \n3  2020-05-28 09:06:52       泉州                 47.0                  0.0   \n4  2020-05-28 09:06:52       厦门                 35.0                  0.0   \n\n   city_curedCount  city_deadCount  \n0             60.0             0.0  \n1             71.0             1.0  \n2             56.0             0.0  \n3             47.0             0.0  \n4             35.0             0.0  ",
      "text/html": "<div>\n<style scoped>\n    .dataframe tbody tr th:only-of-type {\n        vertical-align: middle;\n    }\n\n    .dataframe tbody tr th {\n        vertical-align: top;\n    }\n\n    .dataframe thead th {\n        text-align: right;\n    }\n</style>\n<table border=\"1\" class=\"dataframe\">\n  <thead>\n    <tr style=\"text-align: right;\">\n      <th></th>\n      <th>provinceName</th>\n      <th>province_zipCode</th>\n      <th>province_confirmedCount</th>\n      <th>province_suspectedCount</th>\n      <th>province_curedCount</th>\n      <th>province_deadCount</th>\n      <th>updateTime</th>\n      <th>cityName</th>\n      <th>city_confirmedCount</th>\n      <th>city_suspectedCount</th>\n      <th>city_curedCount</th>\n      <th>city_deadCount</th>\n    </tr>\n  </thead>\n  <tbody>\n    <tr>\n      <th>0</th>\n      <td>福建省</td>\n      <td>350000</td>\n      <td>358</td>\n      <td>3.0</td>\n      <td>355</td>\n      <td>1</td>\n      <td>2020-05-28 09:06:52</td>\n      <td>境外输入人员</td>\n      <td>62.0</td>\n      <td>1.0</td>\n      <td>60.0</td>\n      <td>0.0</td>\n    </tr>\n    <tr>\n      <th>1</th>\n      <td>福建省</td>\n      <td>350000</td>\n      <td>358</td>\n      <td>3.0</td>\n      <td>355</td>\n      <td>1</td>\n      <td>2020-05-28 09:06:52</td>\n      <td>福州</td>\n      <td>72.0</td>\n      <td>0.0</td>\n      <td>71.0</td>\n      <td>1.0</td>\n    </tr>\n    <tr>\n      <th>2</th>\n      <td>福建省</td>\n      <td>350000</td>\n      <td>358</td>\n      <td>3.0</td>\n      <td>355</td>\n      <td>1</td>\n      <td>2020-05-28 09:06:52</td>\n      <td>莆田</td>\n      <td>56.0</td>\n      <td>0.0</td>\n      <td>56.0</td>\n      <td>0.0</td>\n    </tr>\n    <tr>\n      <th>3</th>\n      <td>福建省</td>\n      <td>350000</td>\n      <td>358</td>\n      <td>3.0</td>\n      <td>355</td>\n      <td>1</td>\n      <td>2020-05-28 09:06:52</td>\n      <td>泉州</td>\n      <td>47.0</td>\n      <td>0.0</td>\n      <td>47.0</td>\n      <td>0.0</td>\n    </tr>\n    <tr>\n      <th>4</th>\n      <td>福建省</td>\n      <td>350000</td>\n      <td>358</td>\n      <td>3.0</td>\n      <td>355</td>\n      <td>1</td>\n      <td>2020-05-28 09:06:52</td>\n      <td>厦门</td>\n      <td>35.0</td>\n      <td>0.0</td>\n      <td>35.0</td>\n      <td>0.0</td>\n    </tr>\n  </tbody>\n</table>\n</div>"
     },
     "execution_count": 69,
     "metadata": {},
     "output_type": "execute_result"
    }
   ],
   "source": [
    "# 导入数据\n",
    "data = pd.read_csv('/Users/joey/Desktop/superset csv/DXYArea_china.csv',\n",
    "                   usecols=['provinceName','province_zipCode','province_confirmedCount','province_suspectedCount',\n",
    "                            'province_curedCount','province_deadCount','updateTime','cityName','city_confirmedCount',\n",
    "                            'city_suspectedCount','city_curedCount','city_deadCount'])\n",
    "data.head()"
   ],
   "metadata": {
    "collapsed": false,
    "pycharm": {
     "name": "#%%\n"
    }
   }
  },
  {
   "cell_type": "code",
   "execution_count": 70,
   "outputs": [
    {
     "data": {
      "text/plain": "                    provinceName  province_zipCode  province_confirmedCount  \\\nupdateTime                                                                    \n2020-05-28 09:06:52          福建省            350000                      358   \n2020-05-28 09:06:52          福建省            350000                      358   \n2020-05-28 09:06:52          福建省            350000                      358   \n2020-05-28 09:06:52          福建省            350000                      358   \n2020-05-28 09:06:52          福建省            350000                      358   \n\n                     province_suspectedCount  province_curedCount  \\\nupdateTime                                                          \n2020-05-28 09:06:52                      3.0                  355   \n2020-05-28 09:06:52                      3.0                  355   \n2020-05-28 09:06:52                      3.0                  355   \n2020-05-28 09:06:52                      3.0                  355   \n2020-05-28 09:06:52                      3.0                  355   \n\n                     province_deadCount cityName  city_confirmedCount  \\\nupdateTime                                                              \n2020-05-28 09:06:52                   1   境外输入人员                 62.0   \n2020-05-28 09:06:52                   1       福州                 72.0   \n2020-05-28 09:06:52                   1       莆田                 56.0   \n2020-05-28 09:06:52                   1       泉州                 47.0   \n2020-05-28 09:06:52                   1       厦门                 35.0   \n\n                     city_suspectedCount  city_curedCount  city_deadCount  \nupdateTime                                                                 \n2020-05-28 09:06:52                  1.0             60.0             0.0  \n2020-05-28 09:06:52                  0.0             71.0             1.0  \n2020-05-28 09:06:52                  0.0             56.0             0.0  \n2020-05-28 09:06:52                  0.0             47.0             0.0  \n2020-05-28 09:06:52                  0.0             35.0             0.0  ",
      "text/html": "<div>\n<style scoped>\n    .dataframe tbody tr th:only-of-type {\n        vertical-align: middle;\n    }\n\n    .dataframe tbody tr th {\n        vertical-align: top;\n    }\n\n    .dataframe thead th {\n        text-align: right;\n    }\n</style>\n<table border=\"1\" class=\"dataframe\">\n  <thead>\n    <tr style=\"text-align: right;\">\n      <th></th>\n      <th>provinceName</th>\n      <th>province_zipCode</th>\n      <th>province_confirmedCount</th>\n      <th>province_suspectedCount</th>\n      <th>province_curedCount</th>\n      <th>province_deadCount</th>\n      <th>cityName</th>\n      <th>city_confirmedCount</th>\n      <th>city_suspectedCount</th>\n      <th>city_curedCount</th>\n      <th>city_deadCount</th>\n    </tr>\n    <tr>\n      <th>updateTime</th>\n      <th></th>\n      <th></th>\n      <th></th>\n      <th></th>\n      <th></th>\n      <th></th>\n      <th></th>\n      <th></th>\n      <th></th>\n      <th></th>\n      <th></th>\n    </tr>\n  </thead>\n  <tbody>\n    <tr>\n      <th>2020-05-28 09:06:52</th>\n      <td>福建省</td>\n      <td>350000</td>\n      <td>358</td>\n      <td>3.0</td>\n      <td>355</td>\n      <td>1</td>\n      <td>境外输入人员</td>\n      <td>62.0</td>\n      <td>1.0</td>\n      <td>60.0</td>\n      <td>0.0</td>\n    </tr>\n    <tr>\n      <th>2020-05-28 09:06:52</th>\n      <td>福建省</td>\n      <td>350000</td>\n      <td>358</td>\n      <td>3.0</td>\n      <td>355</td>\n      <td>1</td>\n      <td>福州</td>\n      <td>72.0</td>\n      <td>0.0</td>\n      <td>71.0</td>\n      <td>1.0</td>\n    </tr>\n    <tr>\n      <th>2020-05-28 09:06:52</th>\n      <td>福建省</td>\n      <td>350000</td>\n      <td>358</td>\n      <td>3.0</td>\n      <td>355</td>\n      <td>1</td>\n      <td>莆田</td>\n      <td>56.0</td>\n      <td>0.0</td>\n      <td>56.0</td>\n      <td>0.0</td>\n    </tr>\n    <tr>\n      <th>2020-05-28 09:06:52</th>\n      <td>福建省</td>\n      <td>350000</td>\n      <td>358</td>\n      <td>3.0</td>\n      <td>355</td>\n      <td>1</td>\n      <td>泉州</td>\n      <td>47.0</td>\n      <td>0.0</td>\n      <td>47.0</td>\n      <td>0.0</td>\n    </tr>\n    <tr>\n      <th>2020-05-28 09:06:52</th>\n      <td>福建省</td>\n      <td>350000</td>\n      <td>358</td>\n      <td>3.0</td>\n      <td>355</td>\n      <td>1</td>\n      <td>厦门</td>\n      <td>35.0</td>\n      <td>0.0</td>\n      <td>35.0</td>\n      <td>0.0</td>\n    </tr>\n  </tbody>\n</table>\n</div>"
     },
     "execution_count": 70,
     "metadata": {},
     "output_type": "execute_result"
    }
   ],
   "source": [
    "# 设定时间索引\n",
    "data.set_index('updateTime',drop=True,inplace=True)\n",
    "data.head()"
   ],
   "metadata": {
    "collapsed": false,
    "pycharm": {
     "name": "#%%\n"
    }
   }
  },
  {
   "cell_type": "code",
   "execution_count": 71,
   "outputs": [
    {
     "data": {
      "text/plain": "                    provinceName  province_zipCode  province_confirmedCount  \\\nupdateTime                                                                    \n2020-05-28 09:06:52          福建省            350000                      358   \n2020-05-28 09:06:52          福建省            350000                      358   \n2020-05-28 09:06:52          福建省            350000                      358   \n2020-05-28 09:06:52          福建省            350000                      358   \n2020-05-28 09:06:52          福建省            350000                      358   \n\n                     province_suspectedCount  province_curedCount  \\\nupdateTime                                                          \n2020-05-28 09:06:52                      3.0                  355   \n2020-05-28 09:06:52                      3.0                  355   \n2020-05-28 09:06:52                      3.0                  355   \n2020-05-28 09:06:52                      3.0                  355   \n2020-05-28 09:06:52                      3.0                  355   \n\n                     province_deadCount cityName  city_confirmedCount  \\\nupdateTime                                                              \n2020-05-28 09:06:52                   1   境外输入人员                 62.0   \n2020-05-28 09:06:52                   1       福州                 72.0   \n2020-05-28 09:06:52                   1       莆田                 56.0   \n2020-05-28 09:06:52                   1       泉州                 47.0   \n2020-05-28 09:06:52                   1       厦门                 35.0   \n\n                     city_suspectedCount  city_curedCount  city_deadCount  \\\nupdateTime                                                                  \n2020-05-28 09:06:52                  1.0             60.0             0.0   \n2020-05-28 09:06:52                  0.0             71.0             1.0   \n2020-05-28 09:06:52                  0.0             56.0             0.0   \n2020-05-28 09:06:52                  0.0             47.0             0.0   \n2020-05-28 09:06:52                  0.0             35.0             0.0   \n\n                    pro_Code  \nupdateTime                    \n2020-05-28 09:06:52       35  \n2020-05-28 09:06:52       35  \n2020-05-28 09:06:52       35  \n2020-05-28 09:06:52       35  \n2020-05-28 09:06:52       35  ",
      "text/html": "<div>\n<style scoped>\n    .dataframe tbody tr th:only-of-type {\n        vertical-align: middle;\n    }\n\n    .dataframe tbody tr th {\n        vertical-align: top;\n    }\n\n    .dataframe thead th {\n        text-align: right;\n    }\n</style>\n<table border=\"1\" class=\"dataframe\">\n  <thead>\n    <tr style=\"text-align: right;\">\n      <th></th>\n      <th>provinceName</th>\n      <th>province_zipCode</th>\n      <th>province_confirmedCount</th>\n      <th>province_suspectedCount</th>\n      <th>province_curedCount</th>\n      <th>province_deadCount</th>\n      <th>cityName</th>\n      <th>city_confirmedCount</th>\n      <th>city_suspectedCount</th>\n      <th>city_curedCount</th>\n      <th>city_deadCount</th>\n      <th>pro_Code</th>\n    </tr>\n    <tr>\n      <th>updateTime</th>\n      <th></th>\n      <th></th>\n      <th></th>\n      <th></th>\n      <th></th>\n      <th></th>\n      <th></th>\n      <th></th>\n      <th></th>\n      <th></th>\n      <th></th>\n      <th></th>\n    </tr>\n  </thead>\n  <tbody>\n    <tr>\n      <th>2020-05-28 09:06:52</th>\n      <td>福建省</td>\n      <td>350000</td>\n      <td>358</td>\n      <td>3.0</td>\n      <td>355</td>\n      <td>1</td>\n      <td>境外输入人员</td>\n      <td>62.0</td>\n      <td>1.0</td>\n      <td>60.0</td>\n      <td>0.0</td>\n      <td>35</td>\n    </tr>\n    <tr>\n      <th>2020-05-28 09:06:52</th>\n      <td>福建省</td>\n      <td>350000</td>\n      <td>358</td>\n      <td>3.0</td>\n      <td>355</td>\n      <td>1</td>\n      <td>福州</td>\n      <td>72.0</td>\n      <td>0.0</td>\n      <td>71.0</td>\n      <td>1.0</td>\n      <td>35</td>\n    </tr>\n    <tr>\n      <th>2020-05-28 09:06:52</th>\n      <td>福建省</td>\n      <td>350000</td>\n      <td>358</td>\n      <td>3.0</td>\n      <td>355</td>\n      <td>1</td>\n      <td>莆田</td>\n      <td>56.0</td>\n      <td>0.0</td>\n      <td>56.0</td>\n      <td>0.0</td>\n      <td>35</td>\n    </tr>\n    <tr>\n      <th>2020-05-28 09:06:52</th>\n      <td>福建省</td>\n      <td>350000</td>\n      <td>358</td>\n      <td>3.0</td>\n      <td>355</td>\n      <td>1</td>\n      <td>泉州</td>\n      <td>47.0</td>\n      <td>0.0</td>\n      <td>47.0</td>\n      <td>0.0</td>\n      <td>35</td>\n    </tr>\n    <tr>\n      <th>2020-05-28 09:06:52</th>\n      <td>福建省</td>\n      <td>350000</td>\n      <td>358</td>\n      <td>3.0</td>\n      <td>355</td>\n      <td>1</td>\n      <td>厦门</td>\n      <td>35.0</td>\n      <td>0.0</td>\n      <td>35.0</td>\n      <td>0.0</td>\n      <td>35</td>\n    </tr>\n  </tbody>\n</table>\n</div>"
     },
     "execution_count": 71,
     "metadata": {},
     "output_type": "execute_result"
    }
   ],
   "source": [
    "# 加入中国省份地图代码\n",
    "data['pro_Code'] = data['province_zipCode']/10000\n",
    "data['pro_Code'] = data['pro_Code'].astype('int')\n",
    "data['pro_Code'] = data['pro_Code'].astype('str')\n",
    "data.head()"
   ],
   "metadata": {
    "collapsed": false,
    "pycharm": {
     "name": "#%%\n"
    }
   }
  },
  {
   "cell_type": "code",
   "execution_count": 72,
   "outputs": [
    {
     "data": {
      "text/plain": "                    provinceName  province_confirmedCount  \\\nupdateTime                                                  \n2020-05-28 09:06:52          福建省                      358   \n2020-05-28 09:06:52          福建省                      358   \n2020-05-28 09:06:52          福建省                      358   \n2020-05-28 09:06:52          福建省                      358   \n2020-05-28 09:06:52          福建省                      358   \n\n                     province_suspectedCount  province_curedCount  \\\nupdateTime                                                          \n2020-05-28 09:06:52                      3.0                  355   \n2020-05-28 09:06:52                      3.0                  355   \n2020-05-28 09:06:52                      3.0                  355   \n2020-05-28 09:06:52                      3.0                  355   \n2020-05-28 09:06:52                      3.0                  355   \n\n                     province_deadCount cityName  city_confirmedCount  \\\nupdateTime                                                              \n2020-05-28 09:06:52                   1   境外输入人员                 62.0   \n2020-05-28 09:06:52                   1       福州                 72.0   \n2020-05-28 09:06:52                   1       莆田                 56.0   \n2020-05-28 09:06:52                   1       泉州                 47.0   \n2020-05-28 09:06:52                   1       厦门                 35.0   \n\n                     city_suspectedCount  city_curedCount  city_deadCount  \\\nupdateTime                                                                  \n2020-05-28 09:06:52                  1.0             60.0             0.0   \n2020-05-28 09:06:52                  0.0             71.0             1.0   \n2020-05-28 09:06:52                  0.0             56.0             0.0   \n2020-05-28 09:06:52                  0.0             47.0             0.0   \n2020-05-28 09:06:52                  0.0             35.0             0.0   \n\n                    province_code  \nupdateTime                         \n2020-05-28 09:06:52         CN-35  \n2020-05-28 09:06:52         CN-35  \n2020-05-28 09:06:52         CN-35  \n2020-05-28 09:06:52         CN-35  \n2020-05-28 09:06:52         CN-35  ",
      "text/html": "<div>\n<style scoped>\n    .dataframe tbody tr th:only-of-type {\n        vertical-align: middle;\n    }\n\n    .dataframe tbody tr th {\n        vertical-align: top;\n    }\n\n    .dataframe thead th {\n        text-align: right;\n    }\n</style>\n<table border=\"1\" class=\"dataframe\">\n  <thead>\n    <tr style=\"text-align: right;\">\n      <th></th>\n      <th>provinceName</th>\n      <th>province_confirmedCount</th>\n      <th>province_suspectedCount</th>\n      <th>province_curedCount</th>\n      <th>province_deadCount</th>\n      <th>cityName</th>\n      <th>city_confirmedCount</th>\n      <th>city_suspectedCount</th>\n      <th>city_curedCount</th>\n      <th>city_deadCount</th>\n      <th>province_code</th>\n    </tr>\n    <tr>\n      <th>updateTime</th>\n      <th></th>\n      <th></th>\n      <th></th>\n      <th></th>\n      <th></th>\n      <th></th>\n      <th></th>\n      <th></th>\n      <th></th>\n      <th></th>\n      <th></th>\n    </tr>\n  </thead>\n  <tbody>\n    <tr>\n      <th>2020-05-28 09:06:52</th>\n      <td>福建省</td>\n      <td>358</td>\n      <td>3.0</td>\n      <td>355</td>\n      <td>1</td>\n      <td>境外输入人员</td>\n      <td>62.0</td>\n      <td>1.0</td>\n      <td>60.0</td>\n      <td>0.0</td>\n      <td>CN-35</td>\n    </tr>\n    <tr>\n      <th>2020-05-28 09:06:52</th>\n      <td>福建省</td>\n      <td>358</td>\n      <td>3.0</td>\n      <td>355</td>\n      <td>1</td>\n      <td>福州</td>\n      <td>72.0</td>\n      <td>0.0</td>\n      <td>71.0</td>\n      <td>1.0</td>\n      <td>CN-35</td>\n    </tr>\n    <tr>\n      <th>2020-05-28 09:06:52</th>\n      <td>福建省</td>\n      <td>358</td>\n      <td>3.0</td>\n      <td>355</td>\n      <td>1</td>\n      <td>莆田</td>\n      <td>56.0</td>\n      <td>0.0</td>\n      <td>56.0</td>\n      <td>0.0</td>\n      <td>CN-35</td>\n    </tr>\n    <tr>\n      <th>2020-05-28 09:06:52</th>\n      <td>福建省</td>\n      <td>358</td>\n      <td>3.0</td>\n      <td>355</td>\n      <td>1</td>\n      <td>泉州</td>\n      <td>47.0</td>\n      <td>0.0</td>\n      <td>47.0</td>\n      <td>0.0</td>\n      <td>CN-35</td>\n    </tr>\n    <tr>\n      <th>2020-05-28 09:06:52</th>\n      <td>福建省</td>\n      <td>358</td>\n      <td>3.0</td>\n      <td>355</td>\n      <td>1</td>\n      <td>厦门</td>\n      <td>35.0</td>\n      <td>0.0</td>\n      <td>35.0</td>\n      <td>0.0</td>\n      <td>CN-35</td>\n    </tr>\n  </tbody>\n</table>\n</div>"
     },
     "execution_count": 72,
     "metadata": {},
     "output_type": "execute_result"
    }
   ],
   "source": [
    "data['province_code'] = 'CN-'\n",
    "data['province_code'] = data['province_code'].str.cat(data['pro_Code'])\n",
    "data = data.drop(axis=1,columns=['pro_Code','province_zipCode'])\n",
    "data.head()"
   ],
   "metadata": {
    "collapsed": false,
    "pycharm": {
     "name": "#%%\n"
    }
   }
  },
  {
   "cell_type": "code",
   "execution_count": 73,
   "outputs": [
    {
     "data": {
      "text/plain": "DatetimeIndex(['2020-05-28 09:06:52', '2020-05-28 09:06:52',\n               '2020-05-28 09:06:52', '2020-05-28 09:06:52',\n               '2020-05-28 09:06:52', '2020-05-28 09:06:52',\n               '2020-05-28 09:06:52', '2020-05-28 09:06:52',\n               '2020-05-28 09:06:52', '2020-05-28 09:06:52',\n               ...\n               '2020-01-22 03:28:10', '2020-01-22 03:28:10',\n               '2020-01-22 03:28:10', '2020-01-22 03:28:10',\n               '2020-01-22 03:28:10', '2020-01-22 03:28:10',\n               '2020-01-22 03:28:10', '2020-01-22 03:28:10',\n               '2020-01-22 03:28:10', '2020-01-22 03:28:10'],\n              dtype='datetime64[ns]', name='updateTime', length=86070, freq=None)"
     },
     "execution_count": 73,
     "metadata": {},
     "output_type": "execute_result"
    }
   ],
   "source": [
    "# 转换时间格式\n",
    "data_index = pd.to_datetime(data.index)\n",
    "data_index = data_index.to_period('D')\n",
    "data.index = data_index\n"
   ],
   "metadata": {
    "collapsed": false,
    "pycharm": {
     "name": "#%%\n"
    }
   }
  },
  {
   "cell_type": "code",
   "execution_count": 76,
   "outputs": [
    {
     "data": {
      "text/plain": "array(['福建省', '广东省', '上海市', '吉林省', '香港', '台湾', '湖北省', '内蒙古自治区', '辽宁省',\n       '四川省', '天津市', '陕西省', '北京市', '澳门', '河北省', '黑龙江省', '山东省', '海南省',\n       '山西省', '江苏省', '云南省', '浙江省', '安徽省', '重庆市', '贵州省', '湖南省', '甘肃省',\n       '河南省', '江西省', '广西壮族自治区', '宁夏回族自治区', '新疆维吾尔自治区', '青海省', '西藏自治区'],\n      dtype=object)"
     },
     "execution_count": 76,
     "metadata": {},
     "output_type": "execute_result"
    }
   ],
   "source": [
    "# 获取省份列表\n",
    "provincename = data['provinceName'].unique()\n",
    "provincename"
   ],
   "metadata": {
    "collapsed": false,
    "pycharm": {
     "name": "#%%\n"
    }
   }
  },
  {
   "cell_type": "code",
   "execution_count": 77,
   "outputs": [
    {
     "data": {
      "text/plain": "array(['境外输入人员', '福州', '莆田', '泉州', '厦门', '宁德', '漳州', '南平', '三明', '龙岩',\n       '广州', '深圳', '珠海', '东莞', '佛山', '中山', '惠州', '汕头', '江门', '湛江', '肇庆',\n       '梅州', '阳江', '茂名', '清远', '揭阳', '韶关', '潮州', '汕尾', '河源', '境外输入',\n       '外地来沪', '浦东新区', '宝山区', '闵行区', '徐汇区', '静安区', '松江区', '长宁区', '普陀区',\n       '杨浦区', '嘉定区', '奉贤区', '虹口区', '黄浦区', '青浦区', '金山区', '崇明区', '吉林市',\n       '长春', '四平市', '辽源', '延边', '公主岭', '通化', '松原', '梅河口', '白城', nan, '武汉',\n       '孝感', '黄冈', '荆州', '鄂州', '随州', '襄阳', '黄石', '宜昌', '荆门', '咸宁', '十堰',\n       '仙桃', '天门', '恩施州', '潜江', '神农架林区', '鄂尔多斯', '包头', '赤峰', '锡林郭勒盟',\n       '呼伦贝尔', '巴彦淖尔', '呼和浩特', '通辽', '乌兰察布', '乌海市', '兴安盟', '沈阳', '大连',\n       '锦州', '葫芦岛', '丹东', '盘锦', '阜新', '铁岭', '朝阳', '鞍山', '本溪', '辽阳', '营口',\n       '抚顺', '成都', '甘孜州', '达州', '南充', '广安', '泸州', '巴中', '绵阳', '内江', '德阳',\n       '遂宁', '攀枝花', '凉山州', '宜宾', '自贡', '眉山', '雅安', '广元', '资阳', '乐山',\n       '阿坝州', '宝坻区', '河东区', '河北区', '北辰区', '南开区', '和平区', '外地来津', '东丽区',\n       '宁河区', '河西区', '西青区', '滨海新区', '武清区', '红桥区', '津南区', '西安', '安康', '汉中',\n       '咸阳', '渭南', '宝鸡', '延安', '铜川', '商洛', '榆林', '韩城', '杨凌', '朝阳区', '海淀区',\n       '西城区', '丰台区', '大兴区', '外地来京', '昌平区', '通州区', '房山区', '东城区', '怀柔区',\n       '密云区', '石景山区', '门头沟区', '延庆区', '顺义区', '待明确地区', '唐山', '沧州', '张家口',\n       '保定', '邯郸', '廊坊', '石家庄', '邢台', '秦皇岛', '衡水', '承德', '哈尔滨', '双鸭山',\n       '绥化', '鸡西', '齐齐哈尔', '大庆', '牡丹江', '七台河', '佳木斯', '黑河', '鹤岗', '大兴安岭',\n       '伊春', '济宁', '青岛', '临沂', '济南', '烟台', '潍坊', '威海', '聊城', '德州', '泰安',\n       '淄博', '枣庄', '菏泽', '日照', '滨州', '三亚', '海口', '儋州', '万宁', '澄迈', '昌江',\n       '琼海', '临高', '陵水', '定安', '文昌', '东方', '保亭', '乐东', '琼中', '晋中', '太原',\n       '运城', '大同', '晋城', '长治', '朔州', '忻州', '吕梁', '阳泉', '临汾', '南京', '苏州',\n       '徐州', '淮安', '无锡', '常州', '连云港', '南通', '泰州', '盐城', '扬州', '宿迁', '镇江',\n       '昆明', '昭通', '西双版纳', '玉溪', '曲靖', '大理州', '红河州', '保山', '丽江', '德宏州',\n       '普洱', '楚雄州', '文山州', '临沧', '温州', '杭州', '宁波', '台州', '金华', '嘉兴', '绍兴',\n       '省十里丰监狱', '丽水', '衢州', '湖州', '舟山', '合肥', '蚌埠', '阜阳', '亳州', '安庆',\n       '六安', '宿州', '马鞍山', '芜湖', '铜陵', '淮北', '淮南', '池州', '滁州', '黄山', '宣城',\n       '万州区', '江北区', '云阳县', '合川区', '綦江区', '长寿区', '奉节县', '九龙坡区', '开州区',\n       '忠县', '渝中区', '垫江县', '潼南区', '渝北区', '两江新区', '南岸区', '石柱县', '大足区',\n       '巫溪县', '铜梁区', '丰都县', '巫山县', '沙坪坝区', '璧山区', '荣昌区', '大渡口区', '巴南区',\n       '涪陵区', '永川区', '江津区', '梁平区', '高新区', '黔江区', '城口县', '彭水县', '武隆区',\n       '秀山县', '酉阳县', '万盛经开区', '贵阳', '遵义', '毕节', '黔南州', '六盘水', '铜仁',\n       '黔东南州', '安顺', '黔西南州', '长沙', '岳阳', '邵阳', '常德', '株洲', '娄底', '益阳',\n       '衡阳', '永州', '怀化', '郴州', '湘潭', '湘西自治州', '张家界', '抚顺市', '兰州', '天水',\n       '平凉', '定西', '甘南', '白银', '陇南', '庆阳', '临夏', '张掖', '金昌', '省级（湖北输入）',\n       '信阳', '郑州', '南阳', '驻马店', '商丘', '周口', '平顶山', '新乡', '安阳', '许昌', '漯河',\n       '焦作', '洛阳', '开封', '鹤壁', '濮阳', '三门峡', '济源', '南昌', '新余', '上饶', '九江',\n       '宜春', '赣州', '抚州', '萍乡', '吉安', '鹰潭', '景德镇', '赣江新区', '南宁', '北海',\n       '桂林', '河池', '柳州', '防城港', '玉林', '来宾', '钦州', '贵港', '梧州', '贺州', '百色',\n       '外地来沪人员', '外地来京人员', '外地来津人员', '银川', '吴忠', '固原', '中卫', '宁东', '石嘴山',\n       '乌鲁木齐', '伊犁州', '兵团第四师', '兵团第八师石河子市', '兵团第九师', '昌吉州', '吐鲁番市', '巴州',\n       '兵团第十二师', '兵团第六师五家渠市', '兵团第七师', '阿克苏地区', '酉阳', '监狱系统', '西宁', '海北州',\n       '拉萨', '任城监狱', '未明确地区', '待明确', '吐鲁番', '大理', '红河', '德宏', '楚雄', '文山',\n       '宁东管委会', '未知地区', '未知', '昌吉', '阿克苏', '兵团第五师五家渠市', '塔城', '胡杨河',\n       '石河子', '五家渠', '四平', '第九师', '第八师', '第六师', '第七师', '吉林', '南阳（含邓州）',\n       '商丘（含永城）', '安阳（含滑县）', '新乡（含长垣）', '邓州', '永城', '长垣', '滑县', '乌海',\n       '未明确', '宿松', '长垣县', '安阳市', '漯河市', '琼海市', '陵水县', '临高县', '澄迈县',\n       '东方市', '琼中县', '天水市', '白银市', '金昌市', '平凉市', '西宁市', '石柱', '城口', '秀山',\n       '巫山', '奉节', '丰都', '垫江', '浦东区', '杨浦', '金山', '大兴', '西城', '昌平', '通州',\n       '丰台', '东城', '石景山', '顺义', '门头沟', '怀柔', '云阳', '巫溪', '松江', '海淀',\n       '第八师石河子', '凉山', '临汾市', '外地来穗人员', '外地来粤人员', '朔州市', '歙县', '第八师石河子市',\n       '河源市', '呼和浩特（新城区）', '呼伦贝尔满洲里', '锡林郭勒盟锡林浩特', '锡林郭勒盟二连浩特', '鄂尔多斯东胜区',\n       '鄂尔多斯鄂托克前旗', '赤峰市松山区', '赤峰市林西县', '呼伦贝尔牙克石', '兴安盟乌兰浩特', '包头市昆都仑区',\n       '通辽市经济开发区', '包头市东河区', '满洲里', '邯郸市', '呼伦贝尔牙克石市', '鹤壁市', '淄博市',\n       '固始县', '巩义', '澳门', '锡林郭勒', '丽江市', '西双版纳州', '武汉来京人员', '不明地区'],\n      dtype=object)"
     },
     "execution_count": 77,
     "metadata": {},
     "output_type": "execute_result"
    }
   ],
   "source": [
    "# 获去城市列表\n",
    "cityname = data['cityName'].unique()\n",
    "cityname"
   ],
   "metadata": {
    "collapsed": false,
    "pycharm": {
     "name": "#%%\n"
    }
   }
  },
  {
   "cell_type": "code",
   "execution_count": 78,
   "outputs": [
    {
     "data": {
      "text/plain": "updateTime\n2020-05-28     True\n2020-05-28    False\n2020-05-28    False\n2020-05-28    False\n2020-05-28    False\n              ...  \n2020-01-22    False\n2020-01-22    False\n2020-01-22    False\n2020-01-22    False\n2020-01-22    False\nFreq: D, Name: cityName, Length: 86070, dtype: bool"
     },
     "execution_count": 78,
     "metadata": {},
     "output_type": "execute_result"
    }
   ],
   "source": [
    "# 判断城市所在行位置\n",
    "data['cityName'] == cityname[0]"
   ],
   "metadata": {
    "collapsed": false,
    "pycharm": {
     "name": "#%%\n"
    }
   }
  },
  {
   "cell_type": "code",
   "execution_count": 79,
   "outputs": [
    {
     "data": {
      "text/plain": "updateTime\n2020-05-28     True\n2020-05-28     True\n2020-05-28     True\n2020-05-28     True\n2020-05-28     True\n              ...  \n2020-01-22    False\n2020-01-22    False\n2020-01-22    False\n2020-01-22    False\n2020-01-22    False\nFreq: D, Name: provinceName, Length: 86070, dtype: bool"
     },
     "execution_count": 79,
     "metadata": {},
     "output_type": "execute_result"
    }
   ],
   "source": [
    "# 判断省份所在行位置\n",
    "data['provinceName'] == provincename[0]"
   ],
   "metadata": {
    "collapsed": false,
    "pycharm": {
     "name": "#%%\n"
    }
   }
  },
  {
   "cell_type": "code",
   "source": [
    "# 获取最大、最小时间\n",
    "max = data.index.max()\n",
    "min = data.index.min()\n",
    "max, min\n"
   ],
   "metadata": {
    "collapsed": false,
    "pycharm": {
     "name": "#%%\n"
    }
   },
   "execution_count": 80,
   "outputs": [
    {
     "data": {
      "text/plain": "(Period('2020-05-28', 'D'), Period('2020-01-22', 'D'))"
     },
     "execution_count": 80,
     "metadata": {},
     "output_type": "execute_result"
    }
   ]
  },
  {
   "cell_type": "code",
   "execution_count": 81,
   "outputs": [
    {
     "name": "stderr",
     "output_type": "stream",
     "text": [
      "/Users/joey/Library/Python/3.7/lib/python/site-packages/ipykernel_launcher.py:11: SettingWithCopyWarning: \n",
      "A value is trying to be set on a copy of a slice from a DataFrame.\n",
      "Try using .loc[row_indexer,col_indexer] = value instead\n",
      "\n",
      "See the caveats in the documentation: https://pandas.pydata.org/pandas-docs/stable/user_guide/indexing.html#returning-a-view-versus-a-copy\n",
      "  # This is added back by InteractiveShellApp.init_path()\n"
     ]
    },
    {
     "name": "stdout",
     "output_type": "stream",
     "text": [
      "195.8381485050004\n"
     ]
    }
   ],
   "source": [
    "# 匹配【省-市】，并填充缺失日期的数据\n",
    "start = time.perf_counter()\n",
    "add_datalist = []\n",
    "idx = pd.period_range(min,max,freq='D')\n",
    "for i in range(len(cityname)):\n",
    "    for j in range(len(provincename)):\n",
    "        # if data.loc[:,'cityName'] == cityname[i]:\n",
    "        #         if data.loc[:,'provinceName'] == provincename[j]:\n",
    "                    # if (data['cityName'] == cityname[i]) and (data['provinceName'] == provincename[j]):\n",
    "        fixdata =data[(data.loc[:,'cityName'] == cityname[i]) & (data.loc[:,'provinceName'] == provincename[j])]\n",
    "        if not fixdata.empty:\n",
    "            fixdata['time'] = fixdata.index\n",
    "            second_fixdata = fixdata.drop_duplicates(subset='time',keep='first')\n",
    "            third_fixdata = pd.DataFrame(data=second_fixdata,index=idx)\n",
    "            final_fixdata = third_fixdata.fillna(method='ffill').fillna(method='bfill')\n",
    "            add_datalist.append(final_fixdata)\n",
    "        # add_datalist.append(second_fixdata.resample('D',axis=0).pad())\n",
    "print(f'{time.perf_counter()-start}')"
   ],
   "metadata": {
    "collapsed": false,
    "pycharm": {
     "name": "#%%\n"
    }
   }
  },
  {
   "cell_type": "code",
   "execution_count": 82,
   "outputs": [],
   "source": [
    "# 链接数据\n",
    "finaldata = pd.concat(add_datalist)\n"
   ],
   "metadata": {
    "collapsed": false,
    "pycharm": {
     "name": "#%%\n"
    }
   }
  },
  {
   "cell_type": "code",
   "execution_count": 84,
   "outputs": [],
   "source": [
    "# 去除辅助列，并输出文件\n",
    "finaldata = finaldata.drop(axis=1,columns=['time'])\n",
    "finaldata['indextime'] = finaldata.index\n",
    "finaldata.to_csv('/Users/joey/Desktop/superset csv/DXYArea_china_result.csv')\n",
    "\n"
   ],
   "metadata": {
    "collapsed": false,
    "pycharm": {
     "name": "#%%\n"
    }
   }
  },
  {
   "cell_type": "markdown",
   "source": [
    "## 提取中国地区数据\n"
   ],
   "metadata": {
    "collapsed": false,
    "pycharm": {
     "name": "#%% md\n"
    }
   }
  },
  {
   "cell_type": "code",
   "execution_count": 111,
   "outputs": [
    {
     "data": {
      "text/plain": "  continentName continentEnglishName countryName        countryEnglishName  \\\n0           北美洲        North America          美国  United States of America   \n1            欧洲               Europe          英国            United Kingdom   \n2            欧洲               Europe         俄罗斯                    Russia   \n3           南美洲        South America          巴西                    Brazil   \n4            亚洲                 Asia          印度                     India   \n\n  provinceName       provinceEnglishName  province_zipCode  \\\n0           美国  United States of America            971002   \n1           英国            United Kingdom            961007   \n2          俄罗斯                    Russia            964006   \n3           巴西                    Brazil            973003   \n4           印度                     India            953003   \n\n   province_confirmedCount  province_suspectedCount  province_curedCount  \\\n0                  1698581                      0.0               391508   \n1                   267240                      0.0                  539   \n2                   370680                      0.0               142208   \n3                   411821                      0.0               166647   \n4                   151767                      0.0                64426   \n\n   province_deadCount           updateTime cityName cityEnglishName  \\\n0              100276  2020-05-28 10:01:59      NaN             NaN   \n1               37460  2020-05-28 10:01:59      NaN             NaN   \n2                3968  2020-05-28 10:01:59      NaN             NaN   \n3               25598  2020-05-28 10:01:59      NaN             NaN   \n4                4337  2020-05-28 10:01:59      NaN             NaN   \n\n   city_zipCode  city_confirmedCount  city_suspectedCount  city_curedCount  \\\n0           NaN                  NaN                  NaN              NaN   \n1           NaN                  NaN                  NaN              NaN   \n2           NaN                  NaN                  NaN              NaN   \n3           NaN                  NaN                  NaN              NaN   \n4           NaN                  NaN                  NaN              NaN   \n\n   city_deadCount  \n0             NaN  \n1             NaN  \n2             NaN  \n3             NaN  \n4             NaN  ",
      "text/html": "<div>\n<style scoped>\n    .dataframe tbody tr th:only-of-type {\n        vertical-align: middle;\n    }\n\n    .dataframe tbody tr th {\n        vertical-align: top;\n    }\n\n    .dataframe thead th {\n        text-align: right;\n    }\n</style>\n<table border=\"1\" class=\"dataframe\">\n  <thead>\n    <tr style=\"text-align: right;\">\n      <th></th>\n      <th>continentName</th>\n      <th>continentEnglishName</th>\n      <th>countryName</th>\n      <th>countryEnglishName</th>\n      <th>provinceName</th>\n      <th>provinceEnglishName</th>\n      <th>province_zipCode</th>\n      <th>province_confirmedCount</th>\n      <th>province_suspectedCount</th>\n      <th>province_curedCount</th>\n      <th>province_deadCount</th>\n      <th>updateTime</th>\n      <th>cityName</th>\n      <th>cityEnglishName</th>\n      <th>city_zipCode</th>\n      <th>city_confirmedCount</th>\n      <th>city_suspectedCount</th>\n      <th>city_curedCount</th>\n      <th>city_deadCount</th>\n    </tr>\n  </thead>\n  <tbody>\n    <tr>\n      <th>0</th>\n      <td>北美洲</td>\n      <td>North America</td>\n      <td>美国</td>\n      <td>United States of America</td>\n      <td>美国</td>\n      <td>United States of America</td>\n      <td>971002</td>\n      <td>1698581</td>\n      <td>0.0</td>\n      <td>391508</td>\n      <td>100276</td>\n      <td>2020-05-28 10:01:59</td>\n      <td>NaN</td>\n      <td>NaN</td>\n      <td>NaN</td>\n      <td>NaN</td>\n      <td>NaN</td>\n      <td>NaN</td>\n      <td>NaN</td>\n    </tr>\n    <tr>\n      <th>1</th>\n      <td>欧洲</td>\n      <td>Europe</td>\n      <td>英国</td>\n      <td>United Kingdom</td>\n      <td>英国</td>\n      <td>United Kingdom</td>\n      <td>961007</td>\n      <td>267240</td>\n      <td>0.0</td>\n      <td>539</td>\n      <td>37460</td>\n      <td>2020-05-28 10:01:59</td>\n      <td>NaN</td>\n      <td>NaN</td>\n      <td>NaN</td>\n      <td>NaN</td>\n      <td>NaN</td>\n      <td>NaN</td>\n      <td>NaN</td>\n    </tr>\n    <tr>\n      <th>2</th>\n      <td>欧洲</td>\n      <td>Europe</td>\n      <td>俄罗斯</td>\n      <td>Russia</td>\n      <td>俄罗斯</td>\n      <td>Russia</td>\n      <td>964006</td>\n      <td>370680</td>\n      <td>0.0</td>\n      <td>142208</td>\n      <td>3968</td>\n      <td>2020-05-28 10:01:59</td>\n      <td>NaN</td>\n      <td>NaN</td>\n      <td>NaN</td>\n      <td>NaN</td>\n      <td>NaN</td>\n      <td>NaN</td>\n      <td>NaN</td>\n    </tr>\n    <tr>\n      <th>3</th>\n      <td>南美洲</td>\n      <td>South America</td>\n      <td>巴西</td>\n      <td>Brazil</td>\n      <td>巴西</td>\n      <td>Brazil</td>\n      <td>973003</td>\n      <td>411821</td>\n      <td>0.0</td>\n      <td>166647</td>\n      <td>25598</td>\n      <td>2020-05-28 10:01:59</td>\n      <td>NaN</td>\n      <td>NaN</td>\n      <td>NaN</td>\n      <td>NaN</td>\n      <td>NaN</td>\n      <td>NaN</td>\n      <td>NaN</td>\n    </tr>\n    <tr>\n      <th>4</th>\n      <td>亚洲</td>\n      <td>Asia</td>\n      <td>印度</td>\n      <td>India</td>\n      <td>印度</td>\n      <td>India</td>\n      <td>953003</td>\n      <td>151767</td>\n      <td>0.0</td>\n      <td>64426</td>\n      <td>4337</td>\n      <td>2020-05-28 10:01:59</td>\n      <td>NaN</td>\n      <td>NaN</td>\n      <td>NaN</td>\n      <td>NaN</td>\n      <td>NaN</td>\n      <td>NaN</td>\n      <td>NaN</td>\n    </tr>\n  </tbody>\n</table>\n</div>"
     },
     "execution_count": 111,
     "metadata": {},
     "output_type": "execute_result"
    }
   ],
   "source": [
    "# 提取中国地区数据\n",
    "df = pd.read_csv('/Users/joey/Desktop/superset csv/DXYArea.csv')\n",
    "df.head()"
   ],
   "metadata": {
    "collapsed": false,
    "pycharm": {
     "name": "#%%\n"
    }
   }
  },
  {
   "cell_type": "code",
   "execution_count": 115,
   "outputs": [
    {
     "data": {
      "text/plain": "    continentName continentEnglishName countryName countryEnglishName  \\\n132            亚洲                 Asia          中国              China   \n133            亚洲                 Asia          中国              China   \n134            亚洲                 Asia          中国              China   \n135            亚洲                 Asia          中国              China   \n136            亚洲                 Asia          中国              China   \n\n    provinceName provinceEnglishName  province_zipCode  \\\n132          福建省              Fujian            350000   \n133          福建省              Fujian            350000   \n134          福建省              Fujian            350000   \n135          福建省              Fujian            350000   \n136          福建省              Fujian            350000   \n\n     province_confirmedCount  province_suspectedCount  province_curedCount  \\\n132                      358                      3.0                  355   \n133                      358                      3.0                  355   \n134                      358                      3.0                  355   \n135                      358                      3.0                  355   \n136                      358                      3.0                  355   \n\n     province_deadCount           updateTime cityName cityEnglishName  \\\n132                   1  2020-05-28 09:06:52   境外输入人员             NaN   \n133                   1  2020-05-28 09:06:52       福州          Fuzhou   \n134                   1  2020-05-28 09:06:52       莆田          Putian   \n135                   1  2020-05-28 09:06:52       泉州        Quanzhou   \n136                   1  2020-05-28 09:06:52       厦门          Xiamen   \n\n     city_zipCode  city_confirmedCount  city_suspectedCount  city_curedCount  \\\n132           0.0                 62.0                  1.0             60.0   \n133      350100.0                 72.0                  0.0             71.0   \n134      350300.0                 56.0                  0.0             56.0   \n135      350500.0                 47.0                  0.0             47.0   \n136      350200.0                 35.0                  0.0             35.0   \n\n     city_deadCount  \n132             0.0  \n133             1.0  \n134             0.0  \n135             0.0  \n136             0.0  ",
      "text/html": "<div>\n<style scoped>\n    .dataframe tbody tr th:only-of-type {\n        vertical-align: middle;\n    }\n\n    .dataframe tbody tr th {\n        vertical-align: top;\n    }\n\n    .dataframe thead th {\n        text-align: right;\n    }\n</style>\n<table border=\"1\" class=\"dataframe\">\n  <thead>\n    <tr style=\"text-align: right;\">\n      <th></th>\n      <th>continentName</th>\n      <th>continentEnglishName</th>\n      <th>countryName</th>\n      <th>countryEnglishName</th>\n      <th>provinceName</th>\n      <th>provinceEnglishName</th>\n      <th>province_zipCode</th>\n      <th>province_confirmedCount</th>\n      <th>province_suspectedCount</th>\n      <th>province_curedCount</th>\n      <th>province_deadCount</th>\n      <th>updateTime</th>\n      <th>cityName</th>\n      <th>cityEnglishName</th>\n      <th>city_zipCode</th>\n      <th>city_confirmedCount</th>\n      <th>city_suspectedCount</th>\n      <th>city_curedCount</th>\n      <th>city_deadCount</th>\n    </tr>\n  </thead>\n  <tbody>\n    <tr>\n      <th>132</th>\n      <td>亚洲</td>\n      <td>Asia</td>\n      <td>中国</td>\n      <td>China</td>\n      <td>福建省</td>\n      <td>Fujian</td>\n      <td>350000</td>\n      <td>358</td>\n      <td>3.0</td>\n      <td>355</td>\n      <td>1</td>\n      <td>2020-05-28 09:06:52</td>\n      <td>境外输入人员</td>\n      <td>NaN</td>\n      <td>0.0</td>\n      <td>62.0</td>\n      <td>1.0</td>\n      <td>60.0</td>\n      <td>0.0</td>\n    </tr>\n    <tr>\n      <th>133</th>\n      <td>亚洲</td>\n      <td>Asia</td>\n      <td>中国</td>\n      <td>China</td>\n      <td>福建省</td>\n      <td>Fujian</td>\n      <td>350000</td>\n      <td>358</td>\n      <td>3.0</td>\n      <td>355</td>\n      <td>1</td>\n      <td>2020-05-28 09:06:52</td>\n      <td>福州</td>\n      <td>Fuzhou</td>\n      <td>350100.0</td>\n      <td>72.0</td>\n      <td>0.0</td>\n      <td>71.0</td>\n      <td>1.0</td>\n    </tr>\n    <tr>\n      <th>134</th>\n      <td>亚洲</td>\n      <td>Asia</td>\n      <td>中国</td>\n      <td>China</td>\n      <td>福建省</td>\n      <td>Fujian</td>\n      <td>350000</td>\n      <td>358</td>\n      <td>3.0</td>\n      <td>355</td>\n      <td>1</td>\n      <td>2020-05-28 09:06:52</td>\n      <td>莆田</td>\n      <td>Putian</td>\n      <td>350300.0</td>\n      <td>56.0</td>\n      <td>0.0</td>\n      <td>56.0</td>\n      <td>0.0</td>\n    </tr>\n    <tr>\n      <th>135</th>\n      <td>亚洲</td>\n      <td>Asia</td>\n      <td>中国</td>\n      <td>China</td>\n      <td>福建省</td>\n      <td>Fujian</td>\n      <td>350000</td>\n      <td>358</td>\n      <td>3.0</td>\n      <td>355</td>\n      <td>1</td>\n      <td>2020-05-28 09:06:52</td>\n      <td>泉州</td>\n      <td>Quanzhou</td>\n      <td>350500.0</td>\n      <td>47.0</td>\n      <td>0.0</td>\n      <td>47.0</td>\n      <td>0.0</td>\n    </tr>\n    <tr>\n      <th>136</th>\n      <td>亚洲</td>\n      <td>Asia</td>\n      <td>中国</td>\n      <td>China</td>\n      <td>福建省</td>\n      <td>Fujian</td>\n      <td>350000</td>\n      <td>358</td>\n      <td>3.0</td>\n      <td>355</td>\n      <td>1</td>\n      <td>2020-05-28 09:06:52</td>\n      <td>厦门</td>\n      <td>Xiamen</td>\n      <td>350200.0</td>\n      <td>35.0</td>\n      <td>0.0</td>\n      <td>35.0</td>\n      <td>0.0</td>\n    </tr>\n  </tbody>\n</table>\n</div>"
     },
     "execution_count": 115,
     "metadata": {},
     "output_type": "execute_result"
    }
   ],
   "source": [
    "# 选择中国数据\n",
    "china_df = df[df.loc[:,'countryName']=='中国']\n",
    "china_df.head()"
   ],
   "metadata": {
    "collapsed": false,
    "pycharm": {
     "name": "#%%\n"
    }
   }
  },
  {
   "cell_type": "code",
   "execution_count": 117,
   "outputs": [
    {
     "data": {
      "text/plain": "    continentName continentEnglishName countryName countryEnglishName  \\\n132            亚洲                 Asia          中国              China   \n133            亚洲                 Asia          中国              China   \n134            亚洲                 Asia          中国              China   \n135            亚洲                 Asia          中国              China   \n136            亚洲                 Asia          中国              China   \n\n    provinceName provinceEnglishName  province_zipCode  \\\n132          福建省              Fujian            350000   \n133          福建省              Fujian            350000   \n134          福建省              Fujian            350000   \n135          福建省              Fujian            350000   \n136          福建省              Fujian            350000   \n\n     province_confirmedCount  province_suspectedCount  province_curedCount  \\\n132                      358                      3.0                  355   \n133                      358                      3.0                  355   \n134                      358                      3.0                  355   \n135                      358                      3.0                  355   \n136                      358                      3.0                  355   \n\n     province_deadCount           updateTime cityName cityEnglishName  \\\n132                   1  2020-05-28 09:06:52   境外输入人员             NaN   \n133                   1  2020-05-28 09:06:52       福州          Fuzhou   \n134                   1  2020-05-28 09:06:52       莆田          Putian   \n135                   1  2020-05-28 09:06:52       泉州        Quanzhou   \n136                   1  2020-05-28 09:06:52       厦门          Xiamen   \n\n     city_zipCode  city_confirmedCount  city_suspectedCount  city_curedCount  \\\n132           0.0                 62.0                  1.0             60.0   \n133      350100.0                 72.0                  0.0             71.0   \n134      350300.0                 56.0                  0.0             56.0   \n135      350500.0                 47.0                  0.0             47.0   \n136      350200.0                 35.0                  0.0             35.0   \n\n     city_deadCount  \n132             0.0  \n133             1.0  \n134             0.0  \n135             0.0  \n136             0.0  ",
      "text/html": "<div>\n<style scoped>\n    .dataframe tbody tr th:only-of-type {\n        vertical-align: middle;\n    }\n\n    .dataframe tbody tr th {\n        vertical-align: top;\n    }\n\n    .dataframe thead th {\n        text-align: right;\n    }\n</style>\n<table border=\"1\" class=\"dataframe\">\n  <thead>\n    <tr style=\"text-align: right;\">\n      <th></th>\n      <th>continentName</th>\n      <th>continentEnglishName</th>\n      <th>countryName</th>\n      <th>countryEnglishName</th>\n      <th>provinceName</th>\n      <th>provinceEnglishName</th>\n      <th>province_zipCode</th>\n      <th>province_confirmedCount</th>\n      <th>province_suspectedCount</th>\n      <th>province_curedCount</th>\n      <th>province_deadCount</th>\n      <th>updateTime</th>\n      <th>cityName</th>\n      <th>cityEnglishName</th>\n      <th>city_zipCode</th>\n      <th>city_confirmedCount</th>\n      <th>city_suspectedCount</th>\n      <th>city_curedCount</th>\n      <th>city_deadCount</th>\n    </tr>\n  </thead>\n  <tbody>\n    <tr>\n      <th>132</th>\n      <td>亚洲</td>\n      <td>Asia</td>\n      <td>中国</td>\n      <td>China</td>\n      <td>福建省</td>\n      <td>Fujian</td>\n      <td>350000</td>\n      <td>358</td>\n      <td>3.0</td>\n      <td>355</td>\n      <td>1</td>\n      <td>2020-05-28 09:06:52</td>\n      <td>境外输入人员</td>\n      <td>NaN</td>\n      <td>0.0</td>\n      <td>62.0</td>\n      <td>1.0</td>\n      <td>60.0</td>\n      <td>0.0</td>\n    </tr>\n    <tr>\n      <th>133</th>\n      <td>亚洲</td>\n      <td>Asia</td>\n      <td>中国</td>\n      <td>China</td>\n      <td>福建省</td>\n      <td>Fujian</td>\n      <td>350000</td>\n      <td>358</td>\n      <td>3.0</td>\n      <td>355</td>\n      <td>1</td>\n      <td>2020-05-28 09:06:52</td>\n      <td>福州</td>\n      <td>Fuzhou</td>\n      <td>350100.0</td>\n      <td>72.0</td>\n      <td>0.0</td>\n      <td>71.0</td>\n      <td>1.0</td>\n    </tr>\n    <tr>\n      <th>134</th>\n      <td>亚洲</td>\n      <td>Asia</td>\n      <td>中国</td>\n      <td>China</td>\n      <td>福建省</td>\n      <td>Fujian</td>\n      <td>350000</td>\n      <td>358</td>\n      <td>3.0</td>\n      <td>355</td>\n      <td>1</td>\n      <td>2020-05-28 09:06:52</td>\n      <td>莆田</td>\n      <td>Putian</td>\n      <td>350300.0</td>\n      <td>56.0</td>\n      <td>0.0</td>\n      <td>56.0</td>\n      <td>0.0</td>\n    </tr>\n    <tr>\n      <th>135</th>\n      <td>亚洲</td>\n      <td>Asia</td>\n      <td>中国</td>\n      <td>China</td>\n      <td>福建省</td>\n      <td>Fujian</td>\n      <td>350000</td>\n      <td>358</td>\n      <td>3.0</td>\n      <td>355</td>\n      <td>1</td>\n      <td>2020-05-28 09:06:52</td>\n      <td>泉州</td>\n      <td>Quanzhou</td>\n      <td>350500.0</td>\n      <td>47.0</td>\n      <td>0.0</td>\n      <td>47.0</td>\n      <td>0.0</td>\n    </tr>\n    <tr>\n      <th>136</th>\n      <td>亚洲</td>\n      <td>Asia</td>\n      <td>中国</td>\n      <td>China</td>\n      <td>福建省</td>\n      <td>Fujian</td>\n      <td>350000</td>\n      <td>358</td>\n      <td>3.0</td>\n      <td>355</td>\n      <td>1</td>\n      <td>2020-05-28 09:06:52</td>\n      <td>厦门</td>\n      <td>Xiamen</td>\n      <td>350200.0</td>\n      <td>35.0</td>\n      <td>0.0</td>\n      <td>35.0</td>\n      <td>0.0</td>\n    </tr>\n  </tbody>\n</table>\n</div>"
     },
     "execution_count": 117,
     "metadata": {},
     "output_type": "execute_result"
    }
   ],
   "source": [
    "# 去除省类别为‘中国’的数据\n",
    "filter_china_df = china_df[china_df.loc[:,'provinceName'] !='中国']\n",
    "filter_china_df.head()\n"
   ],
   "metadata": {
    "collapsed": false,
    "pycharm": {
     "name": "#%%\n"
    }
   }
  },
  {
   "cell_type": "code",
   "execution_count": 118,
   "outputs": [],
   "source": [
    "# 输出文件\n",
    "filter_china_df.to_csv('/Users/joey/Desktop/superset csv/DXYArea_china.csv')"
   ],
   "metadata": {
    "collapsed": false,
    "pycharm": {
     "name": "#%%\n"
    }
   }
  },
  {
   "cell_type": "code",
   "execution_count": 119,
   "outputs": [],
   "source": [
    "# 输出测试片段\n",
    "filter_yunnan_df = filter_china_df[filter_china_df.loc[:,'provinceName'] == '云南省']\n",
    "filter_yunnan_df.to_csv('/Users/joey/Desktop/superset csv/test.csv')\n",
    "\n"
   ],
   "metadata": {
    "collapsed": false,
    "pycharm": {
     "name": "#%%\n"
    }
   }
  }
 ],
 "metadata": {
  "kernelspec": {
   "display_name": "PyCharm (mywork)",
   "language": "python",
   "name": "pycharm-f39caa95"
  },
  "language_info": {
   "codemirror_mode": {
    "name": "ipython",
    "version": 2
   },
   "file_extension": ".py",
   "mimetype": "text/x-python",
   "name": "python",
   "nbconvert_exporter": "python",
   "pygments_lexer": "ipython2",
   "version": "2.7.6"
  }
 },
 "nbformat": 4,
 "nbformat_minor": 0
}