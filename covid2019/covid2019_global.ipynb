{
 "cells": [
  {
   "cell_type": "code",
   "execution_count": 86,
   "metadata": {
    "collapsed": true
   },
   "outputs": [],
   "source": [
    "import pandas as pd\n",
    "import numpy as np\n",
    "import os\n",
    "import time\n",
    "\n",
    "os.chdir('/Users/joey/Documents/PycharmProjects/mywork/covid2019/')"
   ]
  },
  {
   "cell_type": "code",
   "execution_count": 67,
   "outputs": [
    {
     "data": {
      "text/plain": "  continentName countryName  province_zipCode  province_confirmedCount  \\\n0           北美洲          美国            971002                  1698581   \n1            欧洲          英国            961007                   267240   \n2            欧洲         俄罗斯            964006                   370680   \n3           南美洲          巴西            973003                   411821   \n4            亚洲          印度            953003                   151767   \n\n   province_curedCount  province_deadCount           updateTime cityName  \n0               391508              100276  2020-05-28 10:01:59      NaN  \n1                  539               37460  2020-05-28 10:01:59      NaN  \n2               142208                3968  2020-05-28 10:01:59      NaN  \n3               166647               25598  2020-05-28 10:01:59      NaN  \n4                64426                4337  2020-05-28 10:01:59      NaN  ",
      "text/html": "<div>\n<style scoped>\n    .dataframe tbody tr th:only-of-type {\n        vertical-align: middle;\n    }\n\n    .dataframe tbody tr th {\n        vertical-align: top;\n    }\n\n    .dataframe thead th {\n        text-align: right;\n    }\n</style>\n<table border=\"1\" class=\"dataframe\">\n  <thead>\n    <tr style=\"text-align: right;\">\n      <th></th>\n      <th>continentName</th>\n      <th>countryName</th>\n      <th>province_zipCode</th>\n      <th>province_confirmedCount</th>\n      <th>province_curedCount</th>\n      <th>province_deadCount</th>\n      <th>updateTime</th>\n      <th>cityName</th>\n    </tr>\n  </thead>\n  <tbody>\n    <tr>\n      <th>0</th>\n      <td>北美洲</td>\n      <td>美国</td>\n      <td>971002</td>\n      <td>1698581</td>\n      <td>391508</td>\n      <td>100276</td>\n      <td>2020-05-28 10:01:59</td>\n      <td>NaN</td>\n    </tr>\n    <tr>\n      <th>1</th>\n      <td>欧洲</td>\n      <td>英国</td>\n      <td>961007</td>\n      <td>267240</td>\n      <td>539</td>\n      <td>37460</td>\n      <td>2020-05-28 10:01:59</td>\n      <td>NaN</td>\n    </tr>\n    <tr>\n      <th>2</th>\n      <td>欧洲</td>\n      <td>俄罗斯</td>\n      <td>964006</td>\n      <td>370680</td>\n      <td>142208</td>\n      <td>3968</td>\n      <td>2020-05-28 10:01:59</td>\n      <td>NaN</td>\n    </tr>\n    <tr>\n      <th>3</th>\n      <td>南美洲</td>\n      <td>巴西</td>\n      <td>973003</td>\n      <td>411821</td>\n      <td>166647</td>\n      <td>25598</td>\n      <td>2020-05-28 10:01:59</td>\n      <td>NaN</td>\n    </tr>\n    <tr>\n      <th>4</th>\n      <td>亚洲</td>\n      <td>印度</td>\n      <td>953003</td>\n      <td>151767</td>\n      <td>64426</td>\n      <td>4337</td>\n      <td>2020-05-28 10:01:59</td>\n      <td>NaN</td>\n    </tr>\n  </tbody>\n</table>\n</div>"
     },
     "execution_count": 67,
     "metadata": {},
     "output_type": "execute_result"
    }
   ],
   "source": [
    "raw_data = pd.read_csv('/Users/joey/Desktop/superset csv/DXYArea.csv',\n",
    "                   usecols=['continentName','countryName','province_zipCode','province_confirmedCount',\n",
    "                            'province_curedCount','province_deadCount','updateTime','cityName'])\n",
    "raw_data.head()"
   ],
   "metadata": {
    "collapsed": false,
    "pycharm": {
     "name": "#%%\n"
    }
   }
  },
  {
   "cell_type": "code",
   "source": [
    "# raw_data[raw_data.loc[:,'cityName'].isnull()] # 第二种方法\n",
    "raw_data = raw_data[raw_data.loc[:,'cityName'].isnull()]\n",
    "raw_data.head()"
   ],
   "metadata": {
    "collapsed": false,
    "pycharm": {
     "name": "#%%\n"
    }
   },
   "execution_count": 68,
   "outputs": [
    {
     "data": {
      "text/plain": "  continentName countryName  province_zipCode  province_confirmedCount  \\\n0           北美洲          美国            971002                  1698581   \n1            欧洲          英国            961007                   267240   \n2            欧洲         俄罗斯            964006                   370680   \n3           南美洲          巴西            973003                   411821   \n4            亚洲          印度            953003                   151767   \n\n   province_curedCount  province_deadCount           updateTime cityName  \n0               391508              100276  2020-05-28 10:01:59      NaN  \n1                  539               37460  2020-05-28 10:01:59      NaN  \n2               142208                3968  2020-05-28 10:01:59      NaN  \n3               166647               25598  2020-05-28 10:01:59      NaN  \n4                64426                4337  2020-05-28 10:01:59      NaN  ",
      "text/html": "<div>\n<style scoped>\n    .dataframe tbody tr th:only-of-type {\n        vertical-align: middle;\n    }\n\n    .dataframe tbody tr th {\n        vertical-align: top;\n    }\n\n    .dataframe thead th {\n        text-align: right;\n    }\n</style>\n<table border=\"1\" class=\"dataframe\">\n  <thead>\n    <tr style=\"text-align: right;\">\n      <th></th>\n      <th>continentName</th>\n      <th>countryName</th>\n      <th>province_zipCode</th>\n      <th>province_confirmedCount</th>\n      <th>province_curedCount</th>\n      <th>province_deadCount</th>\n      <th>updateTime</th>\n      <th>cityName</th>\n    </tr>\n  </thead>\n  <tbody>\n    <tr>\n      <th>0</th>\n      <td>北美洲</td>\n      <td>美国</td>\n      <td>971002</td>\n      <td>1698581</td>\n      <td>391508</td>\n      <td>100276</td>\n      <td>2020-05-28 10:01:59</td>\n      <td>NaN</td>\n    </tr>\n    <tr>\n      <th>1</th>\n      <td>欧洲</td>\n      <td>英国</td>\n      <td>961007</td>\n      <td>267240</td>\n      <td>539</td>\n      <td>37460</td>\n      <td>2020-05-28 10:01:59</td>\n      <td>NaN</td>\n    </tr>\n    <tr>\n      <th>2</th>\n      <td>欧洲</td>\n      <td>俄罗斯</td>\n      <td>964006</td>\n      <td>370680</td>\n      <td>142208</td>\n      <td>3968</td>\n      <td>2020-05-28 10:01:59</td>\n      <td>NaN</td>\n    </tr>\n    <tr>\n      <th>3</th>\n      <td>南美洲</td>\n      <td>巴西</td>\n      <td>973003</td>\n      <td>411821</td>\n      <td>166647</td>\n      <td>25598</td>\n      <td>2020-05-28 10:01:59</td>\n      <td>NaN</td>\n    </tr>\n    <tr>\n      <th>4</th>\n      <td>亚洲</td>\n      <td>印度</td>\n      <td>953003</td>\n      <td>151767</td>\n      <td>64426</td>\n      <td>4337</td>\n      <td>2020-05-28 10:01:59</td>\n      <td>NaN</td>\n    </tr>\n  </tbody>\n</table>\n</div>"
     },
     "execution_count": 68,
     "metadata": {},
     "output_type": "execute_result"
    }
   ]
  },
  {
   "cell_type": "code",
   "execution_count": 69,
   "outputs": [
    {
     "data": {
      "text/plain": "                    continentName countryName  province_zipCode  \\\nupdateTime                                                        \n2020-05-28 10:01:59           北美洲          美国            971002   \n2020-05-28 10:01:59            欧洲          英国            961007   \n2020-05-28 10:01:59            欧洲         俄罗斯            964006   \n2020-05-28 10:01:59           南美洲          巴西            973003   \n2020-05-28 10:01:59            亚洲          印度            953003   \n\n                     province_confirmedCount  province_curedCount  \\\nupdateTime                                                          \n2020-05-28 10:01:59                  1698581               391508   \n2020-05-28 10:01:59                   267240                  539   \n2020-05-28 10:01:59                   370680               142208   \n2020-05-28 10:01:59                   411821               166647   \n2020-05-28 10:01:59                   151767                64426   \n\n                     province_deadCount cityName  \nupdateTime                                        \n2020-05-28 10:01:59              100276      NaN  \n2020-05-28 10:01:59               37460      NaN  \n2020-05-28 10:01:59                3968      NaN  \n2020-05-28 10:01:59               25598      NaN  \n2020-05-28 10:01:59                4337      NaN  ",
      "text/html": "<div>\n<style scoped>\n    .dataframe tbody tr th:only-of-type {\n        vertical-align: middle;\n    }\n\n    .dataframe tbody tr th {\n        vertical-align: top;\n    }\n\n    .dataframe thead th {\n        text-align: right;\n    }\n</style>\n<table border=\"1\" class=\"dataframe\">\n  <thead>\n    <tr style=\"text-align: right;\">\n      <th></th>\n      <th>continentName</th>\n      <th>countryName</th>\n      <th>province_zipCode</th>\n      <th>province_confirmedCount</th>\n      <th>province_curedCount</th>\n      <th>province_deadCount</th>\n      <th>cityName</th>\n    </tr>\n    <tr>\n      <th>updateTime</th>\n      <th></th>\n      <th></th>\n      <th></th>\n      <th></th>\n      <th></th>\n      <th></th>\n      <th></th>\n    </tr>\n  </thead>\n  <tbody>\n    <tr>\n      <th>2020-05-28 10:01:59</th>\n      <td>北美洲</td>\n      <td>美国</td>\n      <td>971002</td>\n      <td>1698581</td>\n      <td>391508</td>\n      <td>100276</td>\n      <td>NaN</td>\n    </tr>\n    <tr>\n      <th>2020-05-28 10:01:59</th>\n      <td>欧洲</td>\n      <td>英国</td>\n      <td>961007</td>\n      <td>267240</td>\n      <td>539</td>\n      <td>37460</td>\n      <td>NaN</td>\n    </tr>\n    <tr>\n      <th>2020-05-28 10:01:59</th>\n      <td>欧洲</td>\n      <td>俄罗斯</td>\n      <td>964006</td>\n      <td>370680</td>\n      <td>142208</td>\n      <td>3968</td>\n      <td>NaN</td>\n    </tr>\n    <tr>\n      <th>2020-05-28 10:01:59</th>\n      <td>南美洲</td>\n      <td>巴西</td>\n      <td>973003</td>\n      <td>411821</td>\n      <td>166647</td>\n      <td>25598</td>\n      <td>NaN</td>\n    </tr>\n    <tr>\n      <th>2020-05-28 10:01:59</th>\n      <td>亚洲</td>\n      <td>印度</td>\n      <td>953003</td>\n      <td>151767</td>\n      <td>64426</td>\n      <td>4337</td>\n      <td>NaN</td>\n    </tr>\n  </tbody>\n</table>\n</div>"
     },
     "execution_count": 69,
     "metadata": {},
     "output_type": "execute_result"
    }
   ],
   "source": [
    "raw_data.set_index('updateTime',drop=True,inplace=True)\n",
    "raw_data.head()"
   ],
   "metadata": {
    "collapsed": false,
    "pycharm": {
     "name": "#%%\n"
    }
   }
  },
  {
   "cell_type": "code",
   "execution_count": 70,
   "outputs": [
    {
     "data": {
      "text/plain": "PeriodIndex(['2020-05-28', '2020-05-28', '2020-05-28', '2020-05-28',\n             '2020-05-28', '2020-05-28', '2020-05-28', '2020-05-28',\n             '2020-05-28', '2020-05-28',\n             ...\n             '2020-01-22', '2020-01-22', '2020-01-22', '2020-01-22',\n             '2020-01-22', '2020-01-22', '2020-01-22', '2020-01-22',\n             '2020-01-22', '2020-01-22'],\n            dtype='period[D]', name='updateTime', length=98413, freq='D')"
     },
     "execution_count": 70,
     "metadata": {},
     "output_type": "execute_result"
    }
   ],
   "source": [
    "raw_data_index = pd.to_datetime(raw_data.index)\n",
    "raw_data_index = raw_data_index.to_period('D')\n",
    "raw_data_index"
   ],
   "metadata": {
    "collapsed": false,
    "pycharm": {
     "name": "#%%\n"
    }
   }
  },
  {
   "cell_type": "code",
   "execution_count": 79,
   "outputs": [
    {
     "data": {
      "text/plain": "           continentName countryName  province_zipCode  \\\nupdateTime                                               \n2020-05-28           北美洲          美国            971002   \n2020-05-28            欧洲          英国            961007   \n2020-05-28            欧洲         俄罗斯            964006   \n2020-05-28           南美洲          巴西            973003   \n2020-05-28            亚洲          印度            953003   \n\n            province_confirmedCount  province_curedCount  province_deadCount  \\\nupdateTime                                                                     \n2020-05-28                  1698581               391508              100276   \n2020-05-28                   267240                  539               37460   \n2020-05-28                   370680               142208                3968   \n2020-05-28                   411821               166647               25598   \n2020-05-28                   151767                64426                4337   \n\n           cityName  \nupdateTime           \n2020-05-28      NaN  \n2020-05-28      NaN  \n2020-05-28      NaN  \n2020-05-28      NaN  \n2020-05-28      NaN  ",
      "text/html": "<div>\n<style scoped>\n    .dataframe tbody tr th:only-of-type {\n        vertical-align: middle;\n    }\n\n    .dataframe tbody tr th {\n        vertical-align: top;\n    }\n\n    .dataframe thead th {\n        text-align: right;\n    }\n</style>\n<table border=\"1\" class=\"dataframe\">\n  <thead>\n    <tr style=\"text-align: right;\">\n      <th></th>\n      <th>continentName</th>\n      <th>countryName</th>\n      <th>province_zipCode</th>\n      <th>province_confirmedCount</th>\n      <th>province_curedCount</th>\n      <th>province_deadCount</th>\n      <th>cityName</th>\n    </tr>\n    <tr>\n      <th>updateTime</th>\n      <th></th>\n      <th></th>\n      <th></th>\n      <th></th>\n      <th></th>\n      <th></th>\n      <th></th>\n    </tr>\n  </thead>\n  <tbody>\n    <tr>\n      <th>2020-05-28</th>\n      <td>北美洲</td>\n      <td>美国</td>\n      <td>971002</td>\n      <td>1698581</td>\n      <td>391508</td>\n      <td>100276</td>\n      <td>NaN</td>\n    </tr>\n    <tr>\n      <th>2020-05-28</th>\n      <td>欧洲</td>\n      <td>英国</td>\n      <td>961007</td>\n      <td>267240</td>\n      <td>539</td>\n      <td>37460</td>\n      <td>NaN</td>\n    </tr>\n    <tr>\n      <th>2020-05-28</th>\n      <td>欧洲</td>\n      <td>俄罗斯</td>\n      <td>964006</td>\n      <td>370680</td>\n      <td>142208</td>\n      <td>3968</td>\n      <td>NaN</td>\n    </tr>\n    <tr>\n      <th>2020-05-28</th>\n      <td>南美洲</td>\n      <td>巴西</td>\n      <td>973003</td>\n      <td>411821</td>\n      <td>166647</td>\n      <td>25598</td>\n      <td>NaN</td>\n    </tr>\n    <tr>\n      <th>2020-05-28</th>\n      <td>亚洲</td>\n      <td>印度</td>\n      <td>953003</td>\n      <td>151767</td>\n      <td>64426</td>\n      <td>4337</td>\n      <td>NaN</td>\n    </tr>\n  </tbody>\n</table>\n</div>"
     },
     "execution_count": 79,
     "metadata": {},
     "output_type": "execute_result"
    }
   ],
   "source": [
    "raw_data.index = raw_data_index\n",
    "raw_data.head()"
   ],
   "metadata": {
    "collapsed": false,
    "pycharm": {
     "name": "#%%\n"
    }
   }
  },
  {
   "cell_type": "code",
   "execution_count": 88,
   "outputs": [],
   "source": [
    "data = raw_data"
   ],
   "metadata": {
    "collapsed": false,
    "pycharm": {
     "name": "#%%\n"
    }
   }
  },
  {
   "cell_type": "code",
   "execution_count": 89,
   "outputs": [
    {
     "data": {
      "text/plain": "array(['北美洲', '欧洲', '南美洲', '亚洲', '非洲', '大洋洲', '其他', nan], dtype=object)"
     },
     "execution_count": 89,
     "metadata": {},
     "output_type": "execute_result"
    }
   ],
   "source": [
    "# 获取洲列表\n",
    "continentName = data['continentName'].unique()\n",
    "continentName"
   ],
   "metadata": {
    "collapsed": false,
    "pycharm": {
     "name": "#%%\n"
    }
   }
  },
  {
   "cell_type": "code",
   "execution_count": 90,
   "outputs": [
    {
     "data": {
      "text/plain": "array(['美国', '英国', '俄罗斯', '巴西', '印度', '秘鲁', '西班牙', '意大利', '法国', '智利',\n       '巴基斯坦', '荷兰', '卡塔尔', '加拿大', '比利时', '土耳其', '孟加拉国', '沙特阿拉伯', '瑞典',\n       '伊朗', '白俄罗斯', '哥伦比亚', '新加坡', '印度尼西亚', '科威特', '墨西哥', '多米尼加', '乌克兰',\n       '南非', '阿富汗', '菲律宾', '巴拿马', '阿根廷', '德国', '玻利维亚', '阿曼', '尼日利亚',\n       '罗马尼亚', '塞尔维亚', '哈萨克斯坦', '加纳', '巴林', '亚美尼亚', '日本', '洪都拉斯', '危地马拉',\n       '摩尔多瓦', '苏丹', '喀麦隆', '波多黎各', '阿尔及利亚', '摩洛哥', '捷克', '刚果（金）', '爱尔兰',\n       '萨尔瓦多', '塔吉克斯坦', '以色列', '加蓬', '塞内加尔', '阿塞拜疆', '马约特', '保加利亚', '芬兰',\n       '匈牙利', '马来西亚', '古巴', '丹麦', '马尔代夫', '希腊', '科特迪瓦', '委内瑞拉', '几内亚比绍',\n       '海地', '肯尼亚', '哥斯达黎加', '奥地利', '南苏丹', '尼泊尔', '韩国', '斯里兰卡', '乌兹别克斯坦',\n       '巴拉圭', '波黑', '乍得', '拉脱维亚', '牙买加', '立陶宛', '吉尔吉斯斯坦', '塞拉利昂', '爱沙尼亚',\n       '澳大利亚', '留尼旺', '北马其顿', '黎巴嫩', '马里', '刚果（布）', '塞浦路斯', '法属圭亚那',\n       '佛得角', '阿尔巴尼亚', '乌干达', '泽西岛', '赞比亚共和国', '多哥', '毛里塔尼亚', '约旦',\n       '斯威士兰', '格鲁吉亚', '也门共和国', '斯洛伐克', '莫桑比克', '乌拉圭', '卢旺达', '关岛', '挪威',\n       '尼日尔', '利比里亚', '布基纳法索', '开曼群岛', '蒙古', '克罗地亚', '圭亚那', '卢森堡', '叙利亚',\n       '泰国', '越南', '安哥拉', '利比亚', '圣马丁岛', '格林那达', '库拉索岛', '埃及', '中国',\n       '阿联酋', '葡萄牙', '波兰', '吉布提', '瑞士', '赤道几内亚', '圣多美和普林西比', '坦桑尼亚',\n       '马恩岛', '尼加拉瓜', '安道尔', '根西岛', '马提尼克', '瓜德罗普岛', '钻石公主号邮轮', '百慕大',\n       '特立尼达和多巴哥', '阿鲁巴', '缅甸', '巴哈马', '突尼斯', '斯洛文尼亚', '冰岛', '毛里求斯', '黑山',\n       '厄瓜多尔', '伊拉克', '索马里', '中非共和国', '圣马力诺', '埃塞俄比亚', '贝宁', '巴勒斯坦',\n       '马耳他', '直布罗陀', '马拉维', '文莱', '新西兰', '几内亚', '马达加斯加', '法罗群岛', '格陵兰',\n       '荷兰加勒比地区', '柬埔寨', '巴巴多斯', '科摩罗', '博茨瓦纳', '不丹', '纳米比亚', '津巴布韦',\n       '法属波利尼西亚', '冈比亚', '北马里亚纳群岛联邦', '圣文森特和格林纳丁斯', '苏里南', '莱索托',\n       '布隆迪共和国', '英属维尔京群岛', '厄立特里亚', '荷属圣马丁', '美属维尔京群岛', '列支敦士登',\n       '安提瓜和巴布达', '圣卢西亚', '福克兰群岛', '梵蒂冈', '特克斯和凯科斯群岛', '蒙特塞拉特', '土库曼斯坦',\n       '东帝汶', '摩纳哥', '老挝', '斐济', '新喀里多尼亚', '伯利兹', '多米尼克', '圣其茨和尼维斯',\n       '塞舌尔', '巴布亚新几内亚', '圣巴泰勒米岛', '安圭拉', '圣皮埃尔和密克隆群岛', '科索沃', '圣巴泰勒米',\n       '留尼汪', '至尊公主邮轮', '大不列颠及北爱尔兰联合王国', '英国（含北爱尔兰）', '北爱尔兰'],\n      dtype=object)"
     },
     "execution_count": 90,
     "metadata": {},
     "output_type": "execute_result"
    }
   ],
   "source": [
    "# 获去国家列表\n",
    "countryName = data['countryName'].unique()\n",
    "countryName"
   ],
   "metadata": {
    "collapsed": false,
    "pycharm": {
     "name": "#%%\n"
    }
   }
  },
  {
   "cell_type": "code",
   "execution_count": 91,
   "outputs": [
    {
     "data": {
      "text/plain": "(Period('2020-05-28', 'D'), Period('2020-01-22', 'D'))"
     },
     "execution_count": 91,
     "metadata": {},
     "output_type": "execute_result"
    }
   ],
   "source": [
    "# 获取最大、最小日期\n",
    "max = data.index.max()\n",
    "min = data.index.min()\n",
    "max, min"
   ],
   "metadata": {
    "collapsed": false,
    "pycharm": {
     "name": "#%%\n"
    }
   }
  },
  {
   "cell_type": "code",
   "execution_count": 92,
   "outputs": [
    {
     "name": "stderr",
     "output_type": "stream",
     "text": [
      "/Users/joey/Library/Python/3.7/lib/python/site-packages/ipykernel_launcher.py:12: SettingWithCopyWarning: \n",
      "A value is trying to be set on a copy of a slice from a DataFrame.\n",
      "Try using .loc[row_indexer,col_indexer] = value instead\n",
      "\n",
      "See the caveats in the documentation: https://pandas.pydata.org/pandas-docs/stable/user_guide/indexing.html#returning-a-view-versus-a-copy\n",
      "  if sys.path[0] == '':\n"
     ]
    },
    {
     "name": "stdout",
     "output_type": "stream",
     "text": [
      "24.367605111001467\n"
     ]
    }
   ],
   "source": [
    "# 匹配【洲-国】，并填充缺失日期的数据\n",
    "start = time.perf_counter()\n",
    "add_datalist = []\n",
    "idx = pd.period_range(min,max,freq='D')\n",
    "for i in range(len(continentName)):\n",
    "    for j in range(len(countryName)):\n",
    "        # if data.loc[:,'cityName'] == cityname[i]:\n",
    "        #         if data.loc[:,'provinceName'] == provincename[j]:\n",
    "                    # if (data['cityName'] == cityname[i]) and (data['provinceName'] == provincename[j]):\n",
    "        fixdata =data[(data.loc[:,'countryName'] == countryName[j]) & (data.loc[:,'continentName'] == continentName[i])]\n",
    "        if not fixdata.empty:\n",
    "            fixdata['time'] = fixdata.index\n",
    "            second_fixdata = fixdata.drop_duplicates(subset='time',keep='first')\n",
    "            third_fixdata = pd.DataFrame(data=second_fixdata,index=idx)\n",
    "            final_fixdata = third_fixdata.fillna(method='ffill').fillna(method='bfill')\n",
    "            add_datalist.append(final_fixdata)\n",
    "        # add_datalist.append(second_fixdata.resample('D',axis=0).pad())\n",
    "print(f'{time.perf_counter()-start}')"
   ],
   "metadata": {
    "collapsed": false,
    "pycharm": {
     "name": "#%%\n"
    }
   }
  },
  {
   "cell_type": "code",
   "execution_count": 93,
   "outputs": [],
   "source": [
    "finaldata = pd.concat(add_datalist)"
   ],
   "metadata": {
    "collapsed": false,
    "pycharm": {
     "name": "#%%\n"
    }
   }
  },
  {
   "cell_type": "code",
   "execution_count": 94,
   "outputs": [],
   "source": [
    "finaldata = finaldata.drop(axis=1,columns=['time'])\n",
    "finaldata['updateTime'] = finaldata.index\n",
    "finaldata.to_csv('/Users/joey/Desktop/superset csv/DXYArea_global.csv')\n"
   ],
   "metadata": {
    "collapsed": false,
    "pycharm": {
     "name": "#%%\n"
    }
   }
  }
 ],
 "metadata": {
  "kernelspec": {
   "name": "pycharm-f39caa95",
   "language": "python",
   "display_name": "PyCharm (mywork)"
  },
  "language_info": {
   "codemirror_mode": {
    "name": "ipython",
    "version": 2
   },
   "file_extension": ".py",
   "mimetype": "text/x-python",
   "name": "python",
   "nbconvert_exporter": "python",
   "pygments_lexer": "ipython2",
   "version": "2.7.6"
  }
 },
 "nbformat": 4,
 "nbformat_minor": 0
}