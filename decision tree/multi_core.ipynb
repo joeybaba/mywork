{
 "cells": [
  {
   "cell_type": "code",
   "execution_count": 1,
   "outputs": [
    {
     "data": {
      "text/plain": "'\\n@author: joey\\n@time: 2020/06/19\\n'"
     },
     "execution_count": 1,
     "metadata": {},
     "output_type": "execute_result"
    }
   ],
   "source": [
    "\"\"\"\n",
    "@author: joey\n",
    "@time: 2020/06/19\n",
    "\"\"\"\n"
   ],
   "metadata": {
    "collapsed": false,
    "pycharm": {
     "name": "#%%\n"
    }
   }
  },
  {
   "cell_type": "code",
   "execution_count": 2,
   "outputs": [],
   "source": [
    "import numpy as np\n",
    "import pandas as pd\n",
    "import seaborn as sns\n",
    "import matplotlib.pyplot as plt\n",
    "%matplotlib inline\n",
    "sns.set(style='ticks',context='poster')\n",
    "SEED = 222\n",
    "np.random.seed(SEED)\n",
    "from joblib import Parallel, delayed"
   ],
   "metadata": {
    "collapsed": false,
    "pycharm": {
     "name": "#%%\n"
    }
   }
  },
  {
   "cell_type": "code",
   "execution_count": 8,
   "outputs": [],
   "source": [
    "\n",
    "filepath = '/Users/joey/Documents/PycharmProjects/mywork/decision tree/science_federal_giving.csv'\n",
    "df = pd.read_csv(filepath,nrows=3000)"
   ],
   "metadata": {
    "collapsed": false,
    "pycharm": {
     "name": "#%%\n"
    }
   }
  },
  {
   "cell_type": "code",
   "execution_count": 9,
   "outputs": [
    {
     "name": "stdout",
     "output_type": "stream",
     "text": [
      "(2983,) (2983, 5248)\n"
     ]
    }
   ],
   "source": [
    "from sklearn.model_selection import train_test_split\n",
    "from sklearn.metrics import roc_auc_score\n",
    "\n",
    "def get_tarin_test(test_size=0.95):\n",
    "    \"\"\"split data into train and test sets\"\"\"\n",
    "    df1 = df.drop(df[df.cand_pty_affiliation.isin(['IND','LIB'])].index)\n",
    "    y = 1 * (df1.cand_pty_affiliation == 'REP') # 转换类型为0和1\n",
    "    X = df1.drop(['cand_pty_affiliation','cand_office_district'], axis=1)\n",
    "    X = X.dropna(axis=1)\n",
    "    X = pd.get_dummies(X, sparse=True) # 字母属性转换为数字\n",
    "    X.drop(X.columns[X.std() == 0], axis=1, inplace=True)\n",
    "    print(y.shape,X.shape)\n",
    "    return train_test_split(X, y, test_size=test_size, random_state=SEED)\n",
    "xtrain, xtest, ytrain, ytest = get_tarin_test()"
   ],
   "metadata": {
    "collapsed": false,
    "pycharm": {
     "name": "#%%\n"
    }
   }
  },
  {
   "cell_type": "code",
   "execution_count": 10,
   "outputs": [],
   "source": [
    "from sklearn.svm import SVC, LinearSVC\n",
    "from sklearn.naive_bayes import GaussianNB\n",
    "from sklearn.ensemble import RandomForestClassifier, GradientBoostingClassifier\n",
    "from sklearn.linear_model import LogisticRegression\n",
    "from sklearn.neighbors import KNeighborsClassifier\n",
    "from sklearn.neural_network import MLPClassifier\n",
    "from sklearn.kernel_approximation import Nystroem, RBFSampler\n",
    "from sklearn.pipeline import make_pipeline\n",
    "\n",
    "def get_models():\n",
    "    \"\"\"Generate a library of base learners\"\"\"\n",
    "    nb = GaussianNB()\n",
    "    svc = SVC(C=100, probability=True)\n",
    "    knn = KNeighborsClassifier(n_neighbors=3)\n",
    "    lr = LogisticRegression(C=100, random_state=SEED, solver='liblinear', max_iter=3000)\n",
    "    nn = MLPClassifier((80, 10), early_stopping=False, random_state=SEED)\n",
    "    gb = GradientBoostingClassifier(n_estimators=100, random_state=SEED)\n",
    "    rf = RandomForestClassifier(n_estimators=10, max_features=3, random_state=SEED)\n",
    "\n",
    "    models = {'svm': svc, 'knn': knn, 'naive bayes': nb, 'mlp-nn':nn, 'random forest': rf, 'gbm': gb, 'logistic': lr}\n",
    "    print('-'* 10)\n",
    "    return models\n"
   ],
   "metadata": {
    "collapsed": false,
    "pycharm": {
     "name": "#%%\n"
    }
   }
  },
  {
   "cell_type": "code",
   "execution_count": null,
   "outputs": [],
   "source": [
    "def train_predict(models_list):\n",
    "    \"\"\"Fit models in list on training set and return preds\"\"\"\n",
    "    P = np.zeros((ytest.shape[0], len(models_list)))\n",
    "    P = pd.DataFrame(P)\n",
    "\n",
    "    print('Fitting models')\n",
    "    cols = list()\n",
    "\n",
    "    Parallel(n_jobs=8)(delayed())\n",
    "\n",
    "    for i, (name, m) in enumerate(models_list.items()):\n",
    "        print('%s...'% name, end=' ', flush=False)\n",
    "        m.fit(xtrain, ytrain)\n",
    "        P.iloc[:,i] = m.predict_proba(xtest)[:,1]\n",
    "        cols.append(name)\n",
    "        print('done')\n",
    "    P.columns = cols\n",
    "    print('done!')\n",
    "    print('-'* 10)\n",
    "    return P"
   ],
   "metadata": {
    "collapsed": false,
    "pycharm": {
     "name": "#%%\n"
    }
   }
  },
  {
   "cell_type": "code",
   "execution_count": null,
   "outputs": [],
   "source": [
    "def score_models(P, ytest):\n",
    "    \"\"\"Score model in prediction DF\"\"\"\n",
    "    print('Scoring models')\n",
    "    for m in P.columns:\n",
    "        score = roc_auc_score(ytest, P.loc[:,m])\n",
    "        print('%s score is %.3f' % (m, score))\n",
    "    print('done!')\n",
    "    print('-'* 10)"
   ],
   "metadata": {
    "collapsed": false,
    "pycharm": {
     "name": "#%%\n"
    }
   }
  },
  {
   "cell_type": "code",
   "execution_count": null,
   "outputs": [],
   "source": [
    "models_list = get_models()\n",
    "P = train_predict(models_list)\n",
    "score_models(P,ytest)\n"
   ],
   "metadata": {
    "collapsed": false,
    "pycharm": {
     "name": "#%%\n"
    }
   }
  }
 ],
 "metadata": {
  "kernelspec": {
   "display_name": "PyCharm (mywork)",
   "language": "python",
   "name": "pycharm-f39caa95"
  },
  "language_info": {
   "codemirror_mode": {
    "name": "ipython",
    "version": 2
   },
   "file_extension": ".py",
   "mimetype": "text/x-python",
   "name": "python",
   "nbconvert_exporter": "python",
   "pygments_lexer": "ipython2",
   "version": "2.7.6"
  }
 },
 "nbformat": 4,
 "nbformat_minor": 0
}