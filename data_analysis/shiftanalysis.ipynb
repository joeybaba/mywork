{
 "cells": [
  {
   "cell_type": "code",
   "execution_count": 1,
   "outputs": [],
   "source": [
    "%matplotlib inline\n",
    "import pandas as pd\n",
    "import numpy as np\n",
    "import os\n",
    "from matplotlib.pylab import mpl\n",
    "from openpyxl import load_workbook\n",
    "from openpyxl.chart import BarChart,Reference\n",
    "\n",
    "mpl.rcParams['font.sans-serif'] = ['Arial Unicode MS'] # 指定默认字体\n",
    "mpl.rcParams['axes.unicode_minus'] = False # 解决保存图像是负号'-'显示为方块的问题"
   ],
   "metadata": {
    "collapsed": false,
    "pycharm": {
     "name": "#%%\n"
    }
   }
  },
  {
   "cell_type": "code",
   "execution_count": 2,
   "metadata": {
    "collapsed": true
   },
   "outputs": [
    {
     "data": {
      "text/plain": "'/Users/joey/Documents/PycharmProjects/mywork/data_analysis'"
     },
     "execution_count": 2,
     "metadata": {},
     "output_type": "execute_result"
    }
   ],
   "source": [
    "%pwd\n",
    "os.chdir('/Users/joey/Documents/PycharmProjects/mywork/data_analysis')\n",
    "%pwd"
   ]
  },
  {
   "cell_type": "code",
   "execution_count": 3,
   "outputs": [],
   "source": [
    "filename = '/Users/joey/Documents/PycharmProjects/mywork/data_analysis/shift/Book2.xlsx'"
   ],
   "metadata": {
    "collapsed": false,
    "pycharm": {
     "name": "#%%\n"
    }
   }
  },
  {
   "cell_type": "code",
   "execution_count": 4,
   "outputs": [
    {
     "data": {
      "text/plain": "   company_id company_name  department_id department_name      上线日期  应排班人数  \\\n0        3600  A01东莞东部管理中心       36000010         Q东莞苏豪名苑  6/1/2017   17.0   \n1        3600  A01东莞东部管理中心       36000010         Q东莞苏豪名苑  6/1/2017   17.0   \n2        3600  A01东莞东部管理中心       36000010         Q东莞苏豪名苑  6/1/2017   17.0   \n3        3600  A01东莞东部管理中心       36000010         Q东莞苏豪名苑  6/1/2017   17.0   \n4        3600  A01东莞东部管理中心       36000010         Q东莞苏豪名苑  6/1/2017   17.0   \n\n   已排班人数        日期      排班率  \n0    9.0  7/1/2019  52.9412  \n1    9.0  7/2/2019  52.9412  \n2    9.0  7/3/2019  52.9412  \n3    9.0  7/4/2019  52.9412  \n4    9.0  7/5/2019  52.9412  ",
      "text/html": "<div>\n<style scoped>\n    .dataframe tbody tr th:only-of-type {\n        vertical-align: middle;\n    }\n\n    .dataframe tbody tr th {\n        vertical-align: top;\n    }\n\n    .dataframe thead th {\n        text-align: right;\n    }\n</style>\n<table border=\"1\" class=\"dataframe\">\n  <thead>\n    <tr style=\"text-align: right;\">\n      <th></th>\n      <th>company_id</th>\n      <th>company_name</th>\n      <th>department_id</th>\n      <th>department_name</th>\n      <th>上线日期</th>\n      <th>应排班人数</th>\n      <th>已排班人数</th>\n      <th>日期</th>\n      <th>排班率</th>\n    </tr>\n  </thead>\n  <tbody>\n    <tr>\n      <th>0</th>\n      <td>3600</td>\n      <td>A01东莞东部管理中心</td>\n      <td>36000010</td>\n      <td>Q东莞苏豪名苑</td>\n      <td>6/1/2017</td>\n      <td>17.0</td>\n      <td>9.0</td>\n      <td>7/1/2019</td>\n      <td>52.9412</td>\n    </tr>\n    <tr>\n      <th>1</th>\n      <td>3600</td>\n      <td>A01东莞东部管理中心</td>\n      <td>36000010</td>\n      <td>Q东莞苏豪名苑</td>\n      <td>6/1/2017</td>\n      <td>17.0</td>\n      <td>9.0</td>\n      <td>7/2/2019</td>\n      <td>52.9412</td>\n    </tr>\n    <tr>\n      <th>2</th>\n      <td>3600</td>\n      <td>A01东莞东部管理中心</td>\n      <td>36000010</td>\n      <td>Q东莞苏豪名苑</td>\n      <td>6/1/2017</td>\n      <td>17.0</td>\n      <td>9.0</td>\n      <td>7/3/2019</td>\n      <td>52.9412</td>\n    </tr>\n    <tr>\n      <th>3</th>\n      <td>3600</td>\n      <td>A01东莞东部管理中心</td>\n      <td>36000010</td>\n      <td>Q东莞苏豪名苑</td>\n      <td>6/1/2017</td>\n      <td>17.0</td>\n      <td>9.0</td>\n      <td>7/4/2019</td>\n      <td>52.9412</td>\n    </tr>\n    <tr>\n      <th>4</th>\n      <td>3600</td>\n      <td>A01东莞东部管理中心</td>\n      <td>36000010</td>\n      <td>Q东莞苏豪名苑</td>\n      <td>6/1/2017</td>\n      <td>17.0</td>\n      <td>9.0</td>\n      <td>7/5/2019</td>\n      <td>52.9412</td>\n    </tr>\n  </tbody>\n</table>\n</div>"
     },
     "execution_count": 4,
     "metadata": {},
     "output_type": "execute_result"
    }
   ],
   "source": [
    "df = pd.read_excel(filename,header=0)\n",
    "df.head()"
   ],
   "metadata": {
    "collapsed": false,
    "pycharm": {
     "name": "#%%\n"
    }
   }
  },
  {
   "cell_type": "code",
   "execution_count": 5,
   "outputs": [
    {
     "data": {
      "text/plain": "               已排班人数    应排班人数\ncompany_name                 \nA01东莞东部管理中心   3110.0   5831.0\nA02阵地经营体      7286.0  11004.0\nA03阵地经营体      2538.0   6909.0\nA04深圳西部管理中心   2238.0   4958.0\nA05阵地经营体      3158.0   6146.0",
      "text/html": "<div>\n<style scoped>\n    .dataframe tbody tr th:only-of-type {\n        vertical-align: middle;\n    }\n\n    .dataframe tbody tr th {\n        vertical-align: top;\n    }\n\n    .dataframe thead th {\n        text-align: right;\n    }\n</style>\n<table border=\"1\" class=\"dataframe\">\n  <thead>\n    <tr style=\"text-align: right;\">\n      <th></th>\n      <th>已排班人数</th>\n      <th>应排班人数</th>\n    </tr>\n    <tr>\n      <th>company_name</th>\n      <th></th>\n      <th></th>\n    </tr>\n  </thead>\n  <tbody>\n    <tr>\n      <th>A01东莞东部管理中心</th>\n      <td>3110.0</td>\n      <td>5831.0</td>\n    </tr>\n    <tr>\n      <th>A02阵地经营体</th>\n      <td>7286.0</td>\n      <td>11004.0</td>\n    </tr>\n    <tr>\n      <th>A03阵地经营体</th>\n      <td>2538.0</td>\n      <td>6909.0</td>\n    </tr>\n    <tr>\n      <th>A04深圳西部管理中心</th>\n      <td>2238.0</td>\n      <td>4958.0</td>\n    </tr>\n    <tr>\n      <th>A05阵地经营体</th>\n      <td>3158.0</td>\n      <td>6146.0</td>\n    </tr>\n  </tbody>\n</table>\n</div>"
     },
     "execution_count": 5,
     "metadata": {},
     "output_type": "execute_result"
    }
   ],
   "source": [
    "shift_pivot = df.pivot_table(values=['应排班人数','已排班人数'],index='company_name',aggfunc='sum')\n",
    "shift_pivot.head()"
   ],
   "metadata": {
    "collapsed": false,
    "pycharm": {
     "name": "#%%\n"
    }
   }
  },
  {
   "cell_type": "code",
   "execution_count": 6,
   "outputs": [
    {
     "data": {
      "text/plain": "               已排班人数    应排班人数     排班率\ncompany_name                         \nA01东莞东部管理中心   3110.0   5831.0  53.34%\nA02阵地经营体      7286.0  11004.0  66.21%\nA03阵地经营体      2538.0   6909.0  36.73%\nA04深圳西部管理中心   2238.0   4958.0  45.14%\nA05阵地经营体      3158.0   6146.0  51.38%",
      "text/html": "<div>\n<style scoped>\n    .dataframe tbody tr th:only-of-type {\n        vertical-align: middle;\n    }\n\n    .dataframe tbody tr th {\n        vertical-align: top;\n    }\n\n    .dataframe thead th {\n        text-align: right;\n    }\n</style>\n<table border=\"1\" class=\"dataframe\">\n  <thead>\n    <tr style=\"text-align: right;\">\n      <th></th>\n      <th>已排班人数</th>\n      <th>应排班人数</th>\n      <th>排班率</th>\n    </tr>\n    <tr>\n      <th>company_name</th>\n      <th></th>\n      <th></th>\n      <th></th>\n    </tr>\n  </thead>\n  <tbody>\n    <tr>\n      <th>A01东莞东部管理中心</th>\n      <td>3110.0</td>\n      <td>5831.0</td>\n      <td>53.34%</td>\n    </tr>\n    <tr>\n      <th>A02阵地经营体</th>\n      <td>7286.0</td>\n      <td>11004.0</td>\n      <td>66.21%</td>\n    </tr>\n    <tr>\n      <th>A03阵地经营体</th>\n      <td>2538.0</td>\n      <td>6909.0</td>\n      <td>36.73%</td>\n    </tr>\n    <tr>\n      <th>A04深圳西部管理中心</th>\n      <td>2238.0</td>\n      <td>4958.0</td>\n      <td>45.14%</td>\n    </tr>\n    <tr>\n      <th>A05阵地经营体</th>\n      <td>3158.0</td>\n      <td>6146.0</td>\n      <td>51.38%</td>\n    </tr>\n  </tbody>\n</table>\n</div>"
     },
     "execution_count": 6,
     "metadata": {},
     "output_type": "execute_result"
    }
   ],
   "source": [
    "shift_pivot['排班率'] = (shift_pivot['已排班人数'] / shift_pivot['应排班人数']).apply(lambda x: '%.2f%%' % (x*100))\n",
    "shift_pivot.head()"
   ],
   "metadata": {
    "collapsed": false,
    "pycharm": {
     "name": "#%%\n"
    }
   }
  },
  {
   "cell_type": "code",
   "execution_count": 13,
   "outputs": [
    {
     "data": {
      "text/plain": "company_id           int64\ncompany_name        object\ndepartment_id        int64\ndepartment_name     object\n上线日期                object\n应排班人数              float64\n已排班人数              float64\n日期                  object\n排班率                float64\ndtype: object"
     },
     "execution_count": 13,
     "metadata": {},
     "output_type": "execute_result"
    }
   ],
   "source": [
    "df.dtypes"
   ],
   "metadata": {
    "collapsed": false,
    "pycharm": {
     "name": "#%%\n"
    }
   }
  },
  {
   "cell_type": "code",
   "execution_count": 8,
   "outputs": [
    {
     "data": {
      "text/plain": "0    7/1/2019\n1    7/2/2019\n2    7/3/2019\n3    7/4/2019\n4    7/5/2019\nName: 日期, dtype: object"
     },
     "execution_count": 8,
     "metadata": {},
     "output_type": "execute_result"
    }
   ],
   "source": [
    "df['日期'].head()"
   ],
   "metadata": {
    "collapsed": false,
    "pycharm": {
     "name": "#%%\n"
    }
   }
  },
  {
   "cell_type": "code",
   "execution_count": 50,
   "outputs": [
    {
     "data": {
      "text/plain": "'/Users/joey/Documents/PycharmProjects/mywork/data_analysis/shift/20190701_20190707.xlsx'"
     },
     "execution_count": 50,
     "metadata": {},
     "output_type": "execute_result"
    }
   ],
   "source": [
    "# a = pd.date_range(df.loc[1,'日期'],periods=30)\n",
    "# a = pd.period_range(df.loc[1,'日期'],periods=30)\n",
    "maxdate = pd.to_datetime(df['日期']).max().strftime('%Y%m%d')\n",
    "mindate = pd.to_datetime(df['日期']).min().strftime('%Y%m%d')\n",
    "filename = '/Users/joey/Documents/PycharmProjects/mywork/data_analysis/shift/' +mindate +'_'+maxdate+'.xlsx'\n",
    "filename"
   ],
   "metadata": {
    "collapsed": false,
    "pycharm": {
     "name": "#%%\n"
    }
   }
  },
  {
   "cell_type": "code",
   "execution_count": 51,
   "outputs": [],
   "source": [
    "write = pd.ExcelWriter(filename)\n",
    "shift_pivot.to_excel(write,sheet_name='1')\n",
    "write.save()"
   ],
   "metadata": {
    "collapsed": false,
    "pycharm": {
     "name": "#%%\n"
    }
   }
  },
  {
   "cell_type": "code",
   "execution_count": 23,
   "outputs": [
    {
     "data": {
      "text/plain": "DatetimeIndex(['2019-07-02', '2019-07-03', '2019-07-04', '2019-07-05',\n               '2019-07-06', '2019-07-07', '2019-07-08', '2019-07-09',\n               '2019-07-10', '2019-07-11',\n               ...\n               '2048-03-03', '2048-03-04', '2048-03-05', '2048-03-06',\n               '2048-03-07', '2048-03-08', '2048-03-09', '2048-03-10',\n               '2048-03-11', '2048-03-12'],\n              dtype='datetime64[ns]', length=10482, freq='D')"
     },
     "execution_count": 23,
     "metadata": {},
     "output_type": "execute_result"
    }
   ],
   "source": [],
   "metadata": {
    "collapsed": false,
    "pycharm": {
     "name": "#%%\n"
    }
   }
  },
  {
   "cell_type": "code",
   "execution_count": null,
   "outputs": [],
   "source": [
    "\n",
    "\n"
   ],
   "metadata": {
    "collapsed": false,
    "pycharm": {
     "name": "#%%\n"
    }
   }
  }
 ],
 "metadata": {
  "kernelspec": {
   "name": "pycharm-f39caa95",
   "language": "python",
   "display_name": "PyCharm (mywork)"
  },
  "language_info": {
   "codemirror_mode": {
    "name": "ipython",
    "version": 2
   },
   "file_extension": ".py",
   "mimetype": "text/x-python",
   "name": "python",
   "nbconvert_exporter": "python",
   "pygments_lexer": "ipython2",
   "version": "2.7.6"
  }
 },
 "nbformat": 4,
 "nbformat_minor": 0
}