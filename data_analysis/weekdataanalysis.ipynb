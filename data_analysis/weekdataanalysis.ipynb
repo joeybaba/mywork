{
 "cells": [
  {
   "cell_type": "code",
   "execution_count": 91,
   "metadata": {
    "collapsed": true
   },
   "outputs": [],
   "source": [
    "%matplotlib inline\n",
    "import pandas as pd\n",
    "import numpy as np\n",
    "import os\n",
    "from matplotlib.pylab import mpl\n",
    "from openpyxl import load_workbook\n",
    "from openpyxl.chart import BarChart,Reference\n",
    "\n",
    "mpl.rcParams['font.sans-serif'] = ['Arial Unicode MS'] # 指定默认字体\n",
    "mpl.rcParams['axes.unicode_minus'] = False # 解决保存图像是负号'-'显示为方块的问题"
   ]
  },
  {
   "cell_type": "code",
   "execution_count": 92,
   "outputs": [
    {
     "data": {
      "text/plain": "'/Users/joey/Documents/PycharmProjects/mywork/data_analysis'"
     },
     "execution_count": 92,
     "metadata": {},
     "output_type": "execute_result"
    }
   ],
   "source": [
    "%pwd\n",
    "os.chdir('/Users/joey/Documents/PycharmProjects/mywork/data_analysis')\n",
    "%pwd"
   ],
   "metadata": {
    "collapsed": false,
    "pycharm": {
     "name": "#%%\n"
    }
   }
  },
  {
   "cell_type": "code",
   "execution_count": 110,
   "outputs": [],
   "source": [
    "newfilename = '/Users/joey/Documents/PycharmProjects/mywork/data_analysis/week/week_analysis.xlsx'\n",
    "filepath = '/Users/joey/Documents/PycharmProjects/mywork/data_analysis/week/'"
   ],
   "metadata": {
    "collapsed": false,
    "pycharm": {
     "name": "#%%\n"
    }
   }
  },
  {
   "cell_type": "code",
   "execution_count": 94,
   "outputs": [
    {
     "data": {
      "text/plain": "['/Users/joey/Documents/PycharmProjects/mywork/data_analysis/week/5.xlsx',\n '/Users/joey/Documents/PycharmProjects/mywork/data_analysis/week/4.xlsx',\n '/Users/joey/Documents/PycharmProjects/mywork/data_analysis/week/3.xlsx',\n '/Users/joey/Documents/PycharmProjects/mywork/data_analysis/week/2.xlsx',\n '/Users/joey/Documents/PycharmProjects/mywork/data_analysis/week/1.xlsx',\n '/Users/joey/Documents/PycharmProjects/mywork/data_analysis/week/7.xlsx',\n '/Users/joey/Documents/PycharmProjects/mywork/data_analysis/week/6.xlsx']"
     },
     "execution_count": 94,
     "metadata": {},
     "output_type": "execute_result"
    }
   ],
   "source": [
    "def filelist(path):\n",
    "    list_files = []\n",
    "    for file in os.listdir(path):\n",
    "        filejudge = os.path.join(path,file)\n",
    "        if os.path.isdir(filejudge):\n",
    "            pass\n",
    "        else:\n",
    "            list_files.append(filejudge)\n",
    "    return list_files\n",
    "filelist(filepath)"
   ],
   "metadata": {
    "collapsed": false,
    "pycharm": {
     "name": "#%%\n"
    }
   }
  },
  {
   "cell_type": "code",
   "execution_count": 95,
   "outputs": [
    {
     "data": {
      "text/plain": "   0            1         2         3           4     5      6           7   \\\n0  大区         管理中心      项目编码      项目名称        考勤日期  在职人数  应排班人数  已排班人数（未剔除）   \n1   A  A01东莞东部管理中心  50908521   Q东莞绿景华府  2019-06-29     6      6           6   \n2   A  A01东莞东部管理中心  50834613    东莞金域蓝湾  2019-06-29    51     49          47   \n3   A  A01东莞东部管理中心  50834619  东莞松湖传奇花园  2019-06-29    52     50          45   \n4   A  A01东莞东部管理中心  50834610   东莞常平万科城  2019-06-29   144    142          99   \n\n           8         9      10      11    12     13     14        15      16  \\\n0  已排班人数（有剔除）       排班率  需打卡人数  无需打卡人数  打卡人数  未打卡人数  补签到人数       签到率  异常考勤人数   \n1           6         1      6       0     5      1      0  0.833333       2   \n2          46  0.938776     39       8    33      6      0  0.846154       7   \n3          45       0.9     37       8    24     13      0  0.648649      14   \n4          98  0.690141     78      21    62     16      0  0.794872      18   \n\n         17  \n0     异常考勤率  \n1  0.333333  \n2  0.148936  \n3  0.311111  \n4  0.181818  ",
      "text/html": "<div>\n<style scoped>\n    .dataframe tbody tr th:only-of-type {\n        vertical-align: middle;\n    }\n\n    .dataframe tbody tr th {\n        vertical-align: top;\n    }\n\n    .dataframe thead th {\n        text-align: right;\n    }\n</style>\n<table border=\"1\" class=\"dataframe\">\n  <thead>\n    <tr style=\"text-align: right;\">\n      <th></th>\n      <th>0</th>\n      <th>1</th>\n      <th>2</th>\n      <th>3</th>\n      <th>4</th>\n      <th>5</th>\n      <th>6</th>\n      <th>7</th>\n      <th>8</th>\n      <th>9</th>\n      <th>10</th>\n      <th>11</th>\n      <th>12</th>\n      <th>13</th>\n      <th>14</th>\n      <th>15</th>\n      <th>16</th>\n      <th>17</th>\n    </tr>\n  </thead>\n  <tbody>\n    <tr>\n      <th>0</th>\n      <td>大区</td>\n      <td>管理中心</td>\n      <td>项目编码</td>\n      <td>项目名称</td>\n      <td>考勤日期</td>\n      <td>在职人数</td>\n      <td>应排班人数</td>\n      <td>已排班人数（未剔除）</td>\n      <td>已排班人数（有剔除）</td>\n      <td>排班率</td>\n      <td>需打卡人数</td>\n      <td>无需打卡人数</td>\n      <td>打卡人数</td>\n      <td>未打卡人数</td>\n      <td>补签到人数</td>\n      <td>签到率</td>\n      <td>异常考勤人数</td>\n      <td>异常考勤率</td>\n    </tr>\n    <tr>\n      <th>1</th>\n      <td>A</td>\n      <td>A01东莞东部管理中心</td>\n      <td>50908521</td>\n      <td>Q东莞绿景华府</td>\n      <td>2019-06-29</td>\n      <td>6</td>\n      <td>6</td>\n      <td>6</td>\n      <td>6</td>\n      <td>1</td>\n      <td>6</td>\n      <td>0</td>\n      <td>5</td>\n      <td>1</td>\n      <td>0</td>\n      <td>0.833333</td>\n      <td>2</td>\n      <td>0.333333</td>\n    </tr>\n    <tr>\n      <th>2</th>\n      <td>A</td>\n      <td>A01东莞东部管理中心</td>\n      <td>50834613</td>\n      <td>东莞金域蓝湾</td>\n      <td>2019-06-29</td>\n      <td>51</td>\n      <td>49</td>\n      <td>47</td>\n      <td>46</td>\n      <td>0.938776</td>\n      <td>39</td>\n      <td>8</td>\n      <td>33</td>\n      <td>6</td>\n      <td>0</td>\n      <td>0.846154</td>\n      <td>7</td>\n      <td>0.148936</td>\n    </tr>\n    <tr>\n      <th>3</th>\n      <td>A</td>\n      <td>A01东莞东部管理中心</td>\n      <td>50834619</td>\n      <td>东莞松湖传奇花园</td>\n      <td>2019-06-29</td>\n      <td>52</td>\n      <td>50</td>\n      <td>45</td>\n      <td>45</td>\n      <td>0.9</td>\n      <td>37</td>\n      <td>8</td>\n      <td>24</td>\n      <td>13</td>\n      <td>0</td>\n      <td>0.648649</td>\n      <td>14</td>\n      <td>0.311111</td>\n    </tr>\n    <tr>\n      <th>4</th>\n      <td>A</td>\n      <td>A01东莞东部管理中心</td>\n      <td>50834610</td>\n      <td>东莞常平万科城</td>\n      <td>2019-06-29</td>\n      <td>144</td>\n      <td>142</td>\n      <td>99</td>\n      <td>98</td>\n      <td>0.690141</td>\n      <td>78</td>\n      <td>21</td>\n      <td>62</td>\n      <td>16</td>\n      <td>0</td>\n      <td>0.794872</td>\n      <td>18</td>\n      <td>0.181818</td>\n    </tr>\n  </tbody>\n</table>\n</div>"
     },
     "execution_count": 95,
     "metadata": {},
     "output_type": "execute_result"
    }
   ],
   "source": [
    "importdata = pd.DataFrame()\n",
    "for file in filelist(filepath):\n",
    "    df = pd.read_excel(file,header=None)\n",
    "    importdata = pd.concat([df,importdata],ignore_index=True)\n",
    "importdata.head()"
   ],
   "metadata": {
    "collapsed": false,
    "pycharm": {
     "name": "#%%\n"
    }
   }
  },
  {
   "cell_type": "code",
   "execution_count": 96,
   "outputs": [],
   "source": [
    "datacleaning = importdata.copy()"
   ],
   "metadata": {
    "collapsed": false,
    "pycharm": {
     "name": "#%%\n"
    }
   }
  },
  {
   "cell_type": "code",
   "execution_count": 97,
   "outputs": [
    {
     "data": {
      "text/plain": "   大区         管理中心      项目编码      项目名称        考勤日期  在职人数  应排班人数  已排班人数（未剔除）  \\\n0  大区         管理中心      项目编码      项目名称        考勤日期  在职人数  应排班人数  已排班人数（未剔除）   \n1   A  A01东莞东部管理中心  50908521   Q东莞绿景华府  2019-06-29     6      6           6   \n2   A  A01东莞东部管理中心  50834613    东莞金域蓝湾  2019-06-29    51     49          47   \n3   A  A01东莞东部管理中心  50834619  东莞松湖传奇花园  2019-06-29    52     50          45   \n4   A  A01东莞东部管理中心  50834610   东莞常平万科城  2019-06-29   144    142          99   \n\n   已排班人数（有剔除）       排班率  需打卡人数  无需打卡人数  打卡人数  未打卡人数  补签到人数       签到率  异常考勤人数  \\\n0  已排班人数（有剔除）       排班率  需打卡人数  无需打卡人数  打卡人数  未打卡人数  补签到人数       签到率  异常考勤人数   \n1           6         1      6       0     5      1      0  0.833333       2   \n2          46  0.938776     39       8    33      6      0  0.846154       7   \n3          45       0.9     37       8    24     13      0  0.648649      14   \n4          98  0.690141     78      21    62     16      0  0.794872      18   \n\n      异常考勤率  \n0     异常考勤率  \n1  0.333333  \n2  0.148936  \n3  0.311111  \n4  0.181818  ",
      "text/html": "<div>\n<style scoped>\n    .dataframe tbody tr th:only-of-type {\n        vertical-align: middle;\n    }\n\n    .dataframe tbody tr th {\n        vertical-align: top;\n    }\n\n    .dataframe thead th {\n        text-align: right;\n    }\n</style>\n<table border=\"1\" class=\"dataframe\">\n  <thead>\n    <tr style=\"text-align: right;\">\n      <th></th>\n      <th>大区</th>\n      <th>管理中心</th>\n      <th>项目编码</th>\n      <th>项目名称</th>\n      <th>考勤日期</th>\n      <th>在职人数</th>\n      <th>应排班人数</th>\n      <th>已排班人数（未剔除）</th>\n      <th>已排班人数（有剔除）</th>\n      <th>排班率</th>\n      <th>需打卡人数</th>\n      <th>无需打卡人数</th>\n      <th>打卡人数</th>\n      <th>未打卡人数</th>\n      <th>补签到人数</th>\n      <th>签到率</th>\n      <th>异常考勤人数</th>\n      <th>异常考勤率</th>\n    </tr>\n  </thead>\n  <tbody>\n    <tr>\n      <th>0</th>\n      <td>大区</td>\n      <td>管理中心</td>\n      <td>项目编码</td>\n      <td>项目名称</td>\n      <td>考勤日期</td>\n      <td>在职人数</td>\n      <td>应排班人数</td>\n      <td>已排班人数（未剔除）</td>\n      <td>已排班人数（有剔除）</td>\n      <td>排班率</td>\n      <td>需打卡人数</td>\n      <td>无需打卡人数</td>\n      <td>打卡人数</td>\n      <td>未打卡人数</td>\n      <td>补签到人数</td>\n      <td>签到率</td>\n      <td>异常考勤人数</td>\n      <td>异常考勤率</td>\n    </tr>\n    <tr>\n      <th>1</th>\n      <td>A</td>\n      <td>A01东莞东部管理中心</td>\n      <td>50908521</td>\n      <td>Q东莞绿景华府</td>\n      <td>2019-06-29</td>\n      <td>6</td>\n      <td>6</td>\n      <td>6</td>\n      <td>6</td>\n      <td>1</td>\n      <td>6</td>\n      <td>0</td>\n      <td>5</td>\n      <td>1</td>\n      <td>0</td>\n      <td>0.833333</td>\n      <td>2</td>\n      <td>0.333333</td>\n    </tr>\n    <tr>\n      <th>2</th>\n      <td>A</td>\n      <td>A01东莞东部管理中心</td>\n      <td>50834613</td>\n      <td>东莞金域蓝湾</td>\n      <td>2019-06-29</td>\n      <td>51</td>\n      <td>49</td>\n      <td>47</td>\n      <td>46</td>\n      <td>0.938776</td>\n      <td>39</td>\n      <td>8</td>\n      <td>33</td>\n      <td>6</td>\n      <td>0</td>\n      <td>0.846154</td>\n      <td>7</td>\n      <td>0.148936</td>\n    </tr>\n    <tr>\n      <th>3</th>\n      <td>A</td>\n      <td>A01东莞东部管理中心</td>\n      <td>50834619</td>\n      <td>东莞松湖传奇花园</td>\n      <td>2019-06-29</td>\n      <td>52</td>\n      <td>50</td>\n      <td>45</td>\n      <td>45</td>\n      <td>0.9</td>\n      <td>37</td>\n      <td>8</td>\n      <td>24</td>\n      <td>13</td>\n      <td>0</td>\n      <td>0.648649</td>\n      <td>14</td>\n      <td>0.311111</td>\n    </tr>\n    <tr>\n      <th>4</th>\n      <td>A</td>\n      <td>A01东莞东部管理中心</td>\n      <td>50834610</td>\n      <td>东莞常平万科城</td>\n      <td>2019-06-29</td>\n      <td>144</td>\n      <td>142</td>\n      <td>99</td>\n      <td>98</td>\n      <td>0.690141</td>\n      <td>78</td>\n      <td>21</td>\n      <td>62</td>\n      <td>16</td>\n      <td>0</td>\n      <td>0.794872</td>\n      <td>18</td>\n      <td>0.181818</td>\n    </tr>\n  </tbody>\n</table>\n</div>"
     },
     "execution_count": 97,
     "metadata": {},
     "output_type": "execute_result"
    }
   ],
   "source": [
    "datacleaning.rename(columns=datacleaning.iloc[0],inplace=True)\n",
    "datacleaning.head()"
   ],
   "metadata": {
    "collapsed": false,
    "pycharm": {
     "name": "#%%\n"
    }
   }
  },
  {
   "cell_type": "code",
   "execution_count": 98,
   "outputs": [
    {
     "data": {
      "text/plain": "  大区         管理中心      项目编码      项目名称        考勤日期 在职人数 应排班人数 已排班人数（未剔除）  \\\n1  A  A01东莞东部管理中心  50908521   Q东莞绿景华府  2019-06-29    6     6          6   \n2  A  A01东莞东部管理中心  50834613    东莞金域蓝湾  2019-06-29   51    49         47   \n3  A  A01东莞东部管理中心  50834619  东莞松湖传奇花园  2019-06-29   52    50         45   \n4  A  A01东莞东部管理中心  50834610   东莞常平万科城  2019-06-29  144   142         99   \n5  A  A01东莞东部管理中心  50834612  东莞金色城市花园  2019-06-29   32    32         24   \n\n  已排班人数（有剔除）       排班率 需打卡人数 无需打卡人数 打卡人数 未打卡人数 补签到人数       签到率 异常考勤人数  \\\n1          6         1     6      0    5     1     0  0.833333      2   \n2         46  0.938776    39      8   33     6     0  0.846154      7   \n3         45       0.9    37      8   24    13     0  0.648649     14   \n4         98  0.690141    78     21   62    16     0  0.794872     18   \n5         24      0.75    21      3   20     1     0  0.952381      1   \n\n       异常考勤率  \n1   0.333333  \n2   0.148936  \n3   0.311111  \n4   0.181818  \n5  0.0416667  ",
      "text/html": "<div>\n<style scoped>\n    .dataframe tbody tr th:only-of-type {\n        vertical-align: middle;\n    }\n\n    .dataframe tbody tr th {\n        vertical-align: top;\n    }\n\n    .dataframe thead th {\n        text-align: right;\n    }\n</style>\n<table border=\"1\" class=\"dataframe\">\n  <thead>\n    <tr style=\"text-align: right;\">\n      <th></th>\n      <th>大区</th>\n      <th>管理中心</th>\n      <th>项目编码</th>\n      <th>项目名称</th>\n      <th>考勤日期</th>\n      <th>在职人数</th>\n      <th>应排班人数</th>\n      <th>已排班人数（未剔除）</th>\n      <th>已排班人数（有剔除）</th>\n      <th>排班率</th>\n      <th>需打卡人数</th>\n      <th>无需打卡人数</th>\n      <th>打卡人数</th>\n      <th>未打卡人数</th>\n      <th>补签到人数</th>\n      <th>签到率</th>\n      <th>异常考勤人数</th>\n      <th>异常考勤率</th>\n    </tr>\n  </thead>\n  <tbody>\n    <tr>\n      <th>1</th>\n      <td>A</td>\n      <td>A01东莞东部管理中心</td>\n      <td>50908521</td>\n      <td>Q东莞绿景华府</td>\n      <td>2019-06-29</td>\n      <td>6</td>\n      <td>6</td>\n      <td>6</td>\n      <td>6</td>\n      <td>1</td>\n      <td>6</td>\n      <td>0</td>\n      <td>5</td>\n      <td>1</td>\n      <td>0</td>\n      <td>0.833333</td>\n      <td>2</td>\n      <td>0.333333</td>\n    </tr>\n    <tr>\n      <th>2</th>\n      <td>A</td>\n      <td>A01东莞东部管理中心</td>\n      <td>50834613</td>\n      <td>东莞金域蓝湾</td>\n      <td>2019-06-29</td>\n      <td>51</td>\n      <td>49</td>\n      <td>47</td>\n      <td>46</td>\n      <td>0.938776</td>\n      <td>39</td>\n      <td>8</td>\n      <td>33</td>\n      <td>6</td>\n      <td>0</td>\n      <td>0.846154</td>\n      <td>7</td>\n      <td>0.148936</td>\n    </tr>\n    <tr>\n      <th>3</th>\n      <td>A</td>\n      <td>A01东莞东部管理中心</td>\n      <td>50834619</td>\n      <td>东莞松湖传奇花园</td>\n      <td>2019-06-29</td>\n      <td>52</td>\n      <td>50</td>\n      <td>45</td>\n      <td>45</td>\n      <td>0.9</td>\n      <td>37</td>\n      <td>8</td>\n      <td>24</td>\n      <td>13</td>\n      <td>0</td>\n      <td>0.648649</td>\n      <td>14</td>\n      <td>0.311111</td>\n    </tr>\n    <tr>\n      <th>4</th>\n      <td>A</td>\n      <td>A01东莞东部管理中心</td>\n      <td>50834610</td>\n      <td>东莞常平万科城</td>\n      <td>2019-06-29</td>\n      <td>144</td>\n      <td>142</td>\n      <td>99</td>\n      <td>98</td>\n      <td>0.690141</td>\n      <td>78</td>\n      <td>21</td>\n      <td>62</td>\n      <td>16</td>\n      <td>0</td>\n      <td>0.794872</td>\n      <td>18</td>\n      <td>0.181818</td>\n    </tr>\n    <tr>\n      <th>5</th>\n      <td>A</td>\n      <td>A01东莞东部管理中心</td>\n      <td>50834612</td>\n      <td>东莞金色城市花园</td>\n      <td>2019-06-29</td>\n      <td>32</td>\n      <td>32</td>\n      <td>24</td>\n      <td>24</td>\n      <td>0.75</td>\n      <td>21</td>\n      <td>3</td>\n      <td>20</td>\n      <td>1</td>\n      <td>0</td>\n      <td>0.952381</td>\n      <td>1</td>\n      <td>0.0416667</td>\n    </tr>\n  </tbody>\n</table>\n</div>"
     },
     "execution_count": 98,
     "metadata": {},
     "output_type": "execute_result"
    }
   ],
   "source": [
    "datacleaning.drop_duplicates(subset=['项目名称','考勤日期','项目编码'],keep=False,\n",
    "                             inplace=True)\n",
    "datacleaning.head()"
   ],
   "metadata": {
    "collapsed": false,
    "pycharm": {
     "name": "#%%\n"
    }
   }
  },
  {
   "cell_type": "code",
   "execution_count": 99,
   "outputs": [],
   "source": [
    "donesheet = datacleaning.reset_index(level=0,drop=True)"
   ],
   "metadata": {
    "collapsed": false,
    "pycharm": {
     "name": "#%%\n"
    }
   }
  },
  {
   "cell_type": "code",
   "execution_count": 100,
   "outputs": [
    {
     "data": {
      "text/plain": "  大区         管理中心      项目编码      项目名称        考勤日期 在职人数 应排班人数 已排班人数（未剔除）  \\\n0  A  A01东莞东部管理中心  50908521   Q东莞绿景华府  2019-06-29    6     6          6   \n1  A  A01东莞东部管理中心  50834613    东莞金域蓝湾  2019-06-29   51    49         47   \n2  A  A01东莞东部管理中心  50834619  东莞松湖传奇花园  2019-06-29   52    50         45   \n3  A  A01东莞东部管理中心  50834610   东莞常平万科城  2019-06-29  144   142         99   \n4  A  A01东莞东部管理中心  50834612  东莞金色城市花园  2019-06-29   32    32         24   \n\n  已排班人数（有剔除）       排班率 需打卡人数 无需打卡人数 打卡人数 未打卡人数 补签到人数       签到率 异常考勤人数  \\\n0          6         1     6      0    5     1     0  0.833333      2   \n1         46  0.938776    39      8   33     6     0  0.846154      7   \n2         45       0.9    37      8   24    13     0  0.648649     14   \n3         98  0.690141    78     21   62    16     0  0.794872     18   \n4         24      0.75    21      3   20     1     0  0.952381      1   \n\n       异常考勤率  \n0   0.333333  \n1   0.148936  \n2   0.311111  \n3   0.181818  \n4  0.0416667  ",
      "text/html": "<div>\n<style scoped>\n    .dataframe tbody tr th:only-of-type {\n        vertical-align: middle;\n    }\n\n    .dataframe tbody tr th {\n        vertical-align: top;\n    }\n\n    .dataframe thead th {\n        text-align: right;\n    }\n</style>\n<table border=\"1\" class=\"dataframe\">\n  <thead>\n    <tr style=\"text-align: right;\">\n      <th></th>\n      <th>大区</th>\n      <th>管理中心</th>\n      <th>项目编码</th>\n      <th>项目名称</th>\n      <th>考勤日期</th>\n      <th>在职人数</th>\n      <th>应排班人数</th>\n      <th>已排班人数（未剔除）</th>\n      <th>已排班人数（有剔除）</th>\n      <th>排班率</th>\n      <th>需打卡人数</th>\n      <th>无需打卡人数</th>\n      <th>打卡人数</th>\n      <th>未打卡人数</th>\n      <th>补签到人数</th>\n      <th>签到率</th>\n      <th>异常考勤人数</th>\n      <th>异常考勤率</th>\n    </tr>\n  </thead>\n  <tbody>\n    <tr>\n      <th>0</th>\n      <td>A</td>\n      <td>A01东莞东部管理中心</td>\n      <td>50908521</td>\n      <td>Q东莞绿景华府</td>\n      <td>2019-06-29</td>\n      <td>6</td>\n      <td>6</td>\n      <td>6</td>\n      <td>6</td>\n      <td>1</td>\n      <td>6</td>\n      <td>0</td>\n      <td>5</td>\n      <td>1</td>\n      <td>0</td>\n      <td>0.833333</td>\n      <td>2</td>\n      <td>0.333333</td>\n    </tr>\n    <tr>\n      <th>1</th>\n      <td>A</td>\n      <td>A01东莞东部管理中心</td>\n      <td>50834613</td>\n      <td>东莞金域蓝湾</td>\n      <td>2019-06-29</td>\n      <td>51</td>\n      <td>49</td>\n      <td>47</td>\n      <td>46</td>\n      <td>0.938776</td>\n      <td>39</td>\n      <td>8</td>\n      <td>33</td>\n      <td>6</td>\n      <td>0</td>\n      <td>0.846154</td>\n      <td>7</td>\n      <td>0.148936</td>\n    </tr>\n    <tr>\n      <th>2</th>\n      <td>A</td>\n      <td>A01东莞东部管理中心</td>\n      <td>50834619</td>\n      <td>东莞松湖传奇花园</td>\n      <td>2019-06-29</td>\n      <td>52</td>\n      <td>50</td>\n      <td>45</td>\n      <td>45</td>\n      <td>0.9</td>\n      <td>37</td>\n      <td>8</td>\n      <td>24</td>\n      <td>13</td>\n      <td>0</td>\n      <td>0.648649</td>\n      <td>14</td>\n      <td>0.311111</td>\n    </tr>\n    <tr>\n      <th>3</th>\n      <td>A</td>\n      <td>A01东莞东部管理中心</td>\n      <td>50834610</td>\n      <td>东莞常平万科城</td>\n      <td>2019-06-29</td>\n      <td>144</td>\n      <td>142</td>\n      <td>99</td>\n      <td>98</td>\n      <td>0.690141</td>\n      <td>78</td>\n      <td>21</td>\n      <td>62</td>\n      <td>16</td>\n      <td>0</td>\n      <td>0.794872</td>\n      <td>18</td>\n      <td>0.181818</td>\n    </tr>\n    <tr>\n      <th>4</th>\n      <td>A</td>\n      <td>A01东莞东部管理中心</td>\n      <td>50834612</td>\n      <td>东莞金色城市花园</td>\n      <td>2019-06-29</td>\n      <td>32</td>\n      <td>32</td>\n      <td>24</td>\n      <td>24</td>\n      <td>0.75</td>\n      <td>21</td>\n      <td>3</td>\n      <td>20</td>\n      <td>1</td>\n      <td>0</td>\n      <td>0.952381</td>\n      <td>1</td>\n      <td>0.0416667</td>\n    </tr>\n  </tbody>\n</table>\n</div>"
     },
     "execution_count": 100,
     "metadata": {},
     "output_type": "execute_result"
    }
   ],
   "source": [
    "sheet = donesheet.copy()\n",
    "sheet.head()"
   ],
   "metadata": {
    "collapsed": false,
    "pycharm": {
     "name": "#%%\n"
    }
   }
  },
  {
   "cell_type": "code",
   "execution_count": 101,
   "outputs": [
    {
     "data": {
      "text/plain": "  大区         管理中心      项目编码      项目名称        考勤日期 在职人数 应排班人数 已排班人数（未剔除）  \\\n0  A  A01东莞东部管理中心  50908521   Q东莞绿景华府  2019-06-29    6     6          6   \n1  A  A01东莞东部管理中心  50834613    东莞金域蓝湾  2019-06-29   51    49         47   \n2  A  A01东莞东部管理中心  50834619  东莞松湖传奇花园  2019-06-29   52    50         45   \n3  A  A01东莞东部管理中心  50834610   东莞常平万科城  2019-06-29  144   142         99   \n4  A  A01东莞东部管理中心  50834612  东莞金色城市花园  2019-06-29   32    32         24   \n\n  已排班人数（有剔除）       排班率 需打卡人数 无需打卡人数 打卡人数 未打卡人数 补签到人数       签到率 异常考勤人数  \\\n0          6         1     6      0    5     1     0  0.833333      2   \n1         46  0.938776    39      8   33     6     0  0.846154      7   \n2         45       0.9    37      8   24    13     0  0.648649     14   \n3         98  0.690141    78     21   62    16     0  0.794872     18   \n4         24      0.75    21      3   20     1     0  0.952381      1   \n\n       异常考勤率      异常签到率  需打卡人数处理0  \n0   0.333333   0.333333         6  \n1   0.148936   0.152174        39  \n2   0.311111   0.311111        37  \n3   0.181818   0.183673        78  \n4  0.0416667  0.0416667        21  ",
      "text/html": "<div>\n<style scoped>\n    .dataframe tbody tr th:only-of-type {\n        vertical-align: middle;\n    }\n\n    .dataframe tbody tr th {\n        vertical-align: top;\n    }\n\n    .dataframe thead th {\n        text-align: right;\n    }\n</style>\n<table border=\"1\" class=\"dataframe\">\n  <thead>\n    <tr style=\"text-align: right;\">\n      <th></th>\n      <th>大区</th>\n      <th>管理中心</th>\n      <th>项目编码</th>\n      <th>项目名称</th>\n      <th>考勤日期</th>\n      <th>在职人数</th>\n      <th>应排班人数</th>\n      <th>已排班人数（未剔除）</th>\n      <th>已排班人数（有剔除）</th>\n      <th>排班率</th>\n      <th>需打卡人数</th>\n      <th>无需打卡人数</th>\n      <th>打卡人数</th>\n      <th>未打卡人数</th>\n      <th>补签到人数</th>\n      <th>签到率</th>\n      <th>异常考勤人数</th>\n      <th>异常考勤率</th>\n      <th>异常签到率</th>\n      <th>需打卡人数处理0</th>\n    </tr>\n  </thead>\n  <tbody>\n    <tr>\n      <th>0</th>\n      <td>A</td>\n      <td>A01东莞东部管理中心</td>\n      <td>50908521</td>\n      <td>Q东莞绿景华府</td>\n      <td>2019-06-29</td>\n      <td>6</td>\n      <td>6</td>\n      <td>6</td>\n      <td>6</td>\n      <td>1</td>\n      <td>6</td>\n      <td>0</td>\n      <td>5</td>\n      <td>1</td>\n      <td>0</td>\n      <td>0.833333</td>\n      <td>2</td>\n      <td>0.333333</td>\n      <td>0.333333</td>\n      <td>6</td>\n    </tr>\n    <tr>\n      <th>1</th>\n      <td>A</td>\n      <td>A01东莞东部管理中心</td>\n      <td>50834613</td>\n      <td>东莞金域蓝湾</td>\n      <td>2019-06-29</td>\n      <td>51</td>\n      <td>49</td>\n      <td>47</td>\n      <td>46</td>\n      <td>0.938776</td>\n      <td>39</td>\n      <td>8</td>\n      <td>33</td>\n      <td>6</td>\n      <td>0</td>\n      <td>0.846154</td>\n      <td>7</td>\n      <td>0.148936</td>\n      <td>0.152174</td>\n      <td>39</td>\n    </tr>\n    <tr>\n      <th>2</th>\n      <td>A</td>\n      <td>A01东莞东部管理中心</td>\n      <td>50834619</td>\n      <td>东莞松湖传奇花园</td>\n      <td>2019-06-29</td>\n      <td>52</td>\n      <td>50</td>\n      <td>45</td>\n      <td>45</td>\n      <td>0.9</td>\n      <td>37</td>\n      <td>8</td>\n      <td>24</td>\n      <td>13</td>\n      <td>0</td>\n      <td>0.648649</td>\n      <td>14</td>\n      <td>0.311111</td>\n      <td>0.311111</td>\n      <td>37</td>\n    </tr>\n    <tr>\n      <th>3</th>\n      <td>A</td>\n      <td>A01东莞东部管理中心</td>\n      <td>50834610</td>\n      <td>东莞常平万科城</td>\n      <td>2019-06-29</td>\n      <td>144</td>\n      <td>142</td>\n      <td>99</td>\n      <td>98</td>\n      <td>0.690141</td>\n      <td>78</td>\n      <td>21</td>\n      <td>62</td>\n      <td>16</td>\n      <td>0</td>\n      <td>0.794872</td>\n      <td>18</td>\n      <td>0.181818</td>\n      <td>0.183673</td>\n      <td>78</td>\n    </tr>\n    <tr>\n      <th>4</th>\n      <td>A</td>\n      <td>A01东莞东部管理中心</td>\n      <td>50834612</td>\n      <td>东莞金色城市花园</td>\n      <td>2019-06-29</td>\n      <td>32</td>\n      <td>32</td>\n      <td>24</td>\n      <td>24</td>\n      <td>0.75</td>\n      <td>21</td>\n      <td>3</td>\n      <td>20</td>\n      <td>1</td>\n      <td>0</td>\n      <td>0.952381</td>\n      <td>1</td>\n      <td>0.0416667</td>\n      <td>0.0416667</td>\n      <td>21</td>\n    </tr>\n  </tbody>\n</table>\n</div>"
     },
     "execution_count": 101,
     "metadata": {},
     "output_type": "execute_result"
    }
   ],
   "source": [
    "sheet['异常签到率'] = sheet['异常考勤人数'] / sheet['已排班人数（有剔除）']\n",
    "sheet['需打卡人数处理0'] = sheet['需打卡人数'].agg(lambda x : x if x !=0 else 1)\n",
    "sheet.head()"
   ],
   "metadata": {
    "collapsed": false,
    "pycharm": {
     "name": "#%%\n"
    }
   }
  },
  {
   "cell_type": "code",
   "execution_count": 102,
   "outputs": [
    {
     "data": {
      "text/plain": "             已排班人数（有剔除）  异常考勤人数  打卡人数  需打卡人数\n管理中心                                        \nA01东莞东部管理中心        5128     867  3710   4498\nA02阵地经营体           9609     852  7258   8046\nA03阵地经营体           5975     244  4855   5092\nA04深圳西部管理中心        4259     481  3205   3588\nA05阵地经营体           5367     376  4324   4641",
      "text/html": "<div>\n<style scoped>\n    .dataframe tbody tr th:only-of-type {\n        vertical-align: middle;\n    }\n\n    .dataframe tbody tr th {\n        vertical-align: top;\n    }\n\n    .dataframe thead th {\n        text-align: right;\n    }\n</style>\n<table border=\"1\" class=\"dataframe\">\n  <thead>\n    <tr style=\"text-align: right;\">\n      <th></th>\n      <th>已排班人数（有剔除）</th>\n      <th>异常考勤人数</th>\n      <th>打卡人数</th>\n      <th>需打卡人数</th>\n    </tr>\n    <tr>\n      <th>管理中心</th>\n      <th></th>\n      <th></th>\n      <th></th>\n      <th></th>\n    </tr>\n  </thead>\n  <tbody>\n    <tr>\n      <th>A01东莞东部管理中心</th>\n      <td>5128</td>\n      <td>867</td>\n      <td>3710</td>\n      <td>4498</td>\n    </tr>\n    <tr>\n      <th>A02阵地经营体</th>\n      <td>9609</td>\n      <td>852</td>\n      <td>7258</td>\n      <td>8046</td>\n    </tr>\n    <tr>\n      <th>A03阵地经营体</th>\n      <td>5975</td>\n      <td>244</td>\n      <td>4855</td>\n      <td>5092</td>\n    </tr>\n    <tr>\n      <th>A04深圳西部管理中心</th>\n      <td>4259</td>\n      <td>481</td>\n      <td>3205</td>\n      <td>3588</td>\n    </tr>\n    <tr>\n      <th>A05阵地经营体</th>\n      <td>5367</td>\n      <td>376</td>\n      <td>4324</td>\n      <td>4641</td>\n    </tr>\n  </tbody>\n</table>\n</div>"
     },
     "execution_count": 102,
     "metadata": {},
     "output_type": "execute_result"
    }
   ],
   "source": [
    "pivotsheet = sheet.pivot_table(index='管理中心',\n",
    "                               values=['已排班人数（有剔除）','需打卡人数','打卡人数','异常考勤人数'],\n",
    "                               aggfunc='sum'\n",
    "                               )\n",
    "pivotsheet.head()"
   ],
   "metadata": {
    "collapsed": false,
    "pycharm": {
     "name": "#%%\n"
    }
   }
  },
  {
   "cell_type": "code",
   "execution_count": 103,
   "outputs": [
    {
     "data": {
      "text/plain": "             已排班人数（有剔除）  异常考勤人数  打卡人数  需打卡人数   异常签到率     签到率\n管理中心                                                        \nA01东莞东部管理中心        5128     867  3710   4498  16.91%  82.48%\nA02阵地经营体           9609     852  7258   8046   8.87%  90.21%\nA03阵地经营体           5975     244  4855   5092   4.08%  95.35%\nA04深圳西部管理中心        4259     481  3205   3588  11.29%  89.33%\nA05阵地经营体           5367     376  4324   4641   7.01%  93.17%",
      "text/html": "<div>\n<style scoped>\n    .dataframe tbody tr th:only-of-type {\n        vertical-align: middle;\n    }\n\n    .dataframe tbody tr th {\n        vertical-align: top;\n    }\n\n    .dataframe thead th {\n        text-align: right;\n    }\n</style>\n<table border=\"1\" class=\"dataframe\">\n  <thead>\n    <tr style=\"text-align: right;\">\n      <th></th>\n      <th>已排班人数（有剔除）</th>\n      <th>异常考勤人数</th>\n      <th>打卡人数</th>\n      <th>需打卡人数</th>\n      <th>异常签到率</th>\n      <th>签到率</th>\n    </tr>\n    <tr>\n      <th>管理中心</th>\n      <th></th>\n      <th></th>\n      <th></th>\n      <th></th>\n      <th></th>\n      <th></th>\n    </tr>\n  </thead>\n  <tbody>\n    <tr>\n      <th>A01东莞东部管理中心</th>\n      <td>5128</td>\n      <td>867</td>\n      <td>3710</td>\n      <td>4498</td>\n      <td>16.91%</td>\n      <td>82.48%</td>\n    </tr>\n    <tr>\n      <th>A02阵地经营体</th>\n      <td>9609</td>\n      <td>852</td>\n      <td>7258</td>\n      <td>8046</td>\n      <td>8.87%</td>\n      <td>90.21%</td>\n    </tr>\n    <tr>\n      <th>A03阵地经营体</th>\n      <td>5975</td>\n      <td>244</td>\n      <td>4855</td>\n      <td>5092</td>\n      <td>4.08%</td>\n      <td>95.35%</td>\n    </tr>\n    <tr>\n      <th>A04深圳西部管理中心</th>\n      <td>4259</td>\n      <td>481</td>\n      <td>3205</td>\n      <td>3588</td>\n      <td>11.29%</td>\n      <td>89.33%</td>\n    </tr>\n    <tr>\n      <th>A05阵地经营体</th>\n      <td>5367</td>\n      <td>376</td>\n      <td>4324</td>\n      <td>4641</td>\n      <td>7.01%</td>\n      <td>93.17%</td>\n    </tr>\n  </tbody>\n</table>\n</div>"
     },
     "execution_count": 103,
     "metadata": {},
     "output_type": "execute_result"
    }
   ],
   "source": [
    "pivotsheet['异常签到率'] = (pivotsheet['异常考勤人数'] / pivotsheet['已排班人数（有剔除）']).apply(lambda x: '%.2f%%' % (x*100))\n",
    "pivotsheet['签到率'] = (pivotsheet['打卡人数'] / pivotsheet['需打卡人数']).apply(lambda x: '%.2f%%' % (x*100))\n",
    "pivotsheet.head()"
   ],
   "metadata": {
    "collapsed": false,
    "pycharm": {
     "name": "#%%\n"
    }
   }
  },
  {
   "cell_type": "code",
   "execution_count": 104,
   "outputs": [
    {
     "data": {
      "text/plain": "    已排班人数（有剔除）  异常考勤人数   打卡人数  需打卡人数\n大区                                  \nA        60566    6585  45652  51410\nB        37596    3268  29679  32393\nC        39903    2396  29720  31788\nD        49605    4618  38089  42100\nE        66395    6180  49857  55347",
      "text/html": "<div>\n<style scoped>\n    .dataframe tbody tr th:only-of-type {\n        vertical-align: middle;\n    }\n\n    .dataframe tbody tr th {\n        vertical-align: top;\n    }\n\n    .dataframe thead th {\n        text-align: right;\n    }\n</style>\n<table border=\"1\" class=\"dataframe\">\n  <thead>\n    <tr style=\"text-align: right;\">\n      <th></th>\n      <th>已排班人数（有剔除）</th>\n      <th>异常考勤人数</th>\n      <th>打卡人数</th>\n      <th>需打卡人数</th>\n    </tr>\n    <tr>\n      <th>大区</th>\n      <th></th>\n      <th></th>\n      <th></th>\n      <th></th>\n    </tr>\n  </thead>\n  <tbody>\n    <tr>\n      <th>A</th>\n      <td>60566</td>\n      <td>6585</td>\n      <td>45652</td>\n      <td>51410</td>\n    </tr>\n    <tr>\n      <th>B</th>\n      <td>37596</td>\n      <td>3268</td>\n      <td>29679</td>\n      <td>32393</td>\n    </tr>\n    <tr>\n      <th>C</th>\n      <td>39903</td>\n      <td>2396</td>\n      <td>29720</td>\n      <td>31788</td>\n    </tr>\n    <tr>\n      <th>D</th>\n      <td>49605</td>\n      <td>4618</td>\n      <td>38089</td>\n      <td>42100</td>\n    </tr>\n    <tr>\n      <th>E</th>\n      <td>66395</td>\n      <td>6180</td>\n      <td>49857</td>\n      <td>55347</td>\n    </tr>\n  </tbody>\n</table>\n</div>"
     },
     "execution_count": 104,
     "metadata": {},
     "output_type": "execute_result"
    }
   ],
   "source": [
    "pivotsheet_region = sheet.pivot_table(index='大区',\n",
    "                               values=['已排班人数（有剔除）','需打卡人数','打卡人数','异常考勤人数'],\n",
    "                               aggfunc='sum'\n",
    "                               )\n",
    "pivotsheet_region.head()"
   ],
   "metadata": {
    "collapsed": false,
    "pycharm": {
     "name": "#%%\n"
    }
   }
  },
  {
   "cell_type": "code",
   "execution_count": 105,
   "outputs": [
    {
     "data": {
      "text/plain": "    已排班人数（有剔除）  异常考勤人数   打卡人数  需打卡人数   异常签到率     签到率\n大区                                                  \nA        60566    6585  45652  51410  10.87%  88.80%\nB        37596    3268  29679  32393   8.69%  91.62%\nC        39903    2396  29720  31788   6.00%  93.49%\nD        49605    4618  38089  42100   9.31%  90.47%\nE        66395    6180  49857  55347   9.31%  90.08%",
      "text/html": "<div>\n<style scoped>\n    .dataframe tbody tr th:only-of-type {\n        vertical-align: middle;\n    }\n\n    .dataframe tbody tr th {\n        vertical-align: top;\n    }\n\n    .dataframe thead th {\n        text-align: right;\n    }\n</style>\n<table border=\"1\" class=\"dataframe\">\n  <thead>\n    <tr style=\"text-align: right;\">\n      <th></th>\n      <th>已排班人数（有剔除）</th>\n      <th>异常考勤人数</th>\n      <th>打卡人数</th>\n      <th>需打卡人数</th>\n      <th>异常签到率</th>\n      <th>签到率</th>\n    </tr>\n    <tr>\n      <th>大区</th>\n      <th></th>\n      <th></th>\n      <th></th>\n      <th></th>\n      <th></th>\n      <th></th>\n    </tr>\n  </thead>\n  <tbody>\n    <tr>\n      <th>A</th>\n      <td>60566</td>\n      <td>6585</td>\n      <td>45652</td>\n      <td>51410</td>\n      <td>10.87%</td>\n      <td>88.80%</td>\n    </tr>\n    <tr>\n      <th>B</th>\n      <td>37596</td>\n      <td>3268</td>\n      <td>29679</td>\n      <td>32393</td>\n      <td>8.69%</td>\n      <td>91.62%</td>\n    </tr>\n    <tr>\n      <th>C</th>\n      <td>39903</td>\n      <td>2396</td>\n      <td>29720</td>\n      <td>31788</td>\n      <td>6.00%</td>\n      <td>93.49%</td>\n    </tr>\n    <tr>\n      <th>D</th>\n      <td>49605</td>\n      <td>4618</td>\n      <td>38089</td>\n      <td>42100</td>\n      <td>9.31%</td>\n      <td>90.47%</td>\n    </tr>\n    <tr>\n      <th>E</th>\n      <td>66395</td>\n      <td>6180</td>\n      <td>49857</td>\n      <td>55347</td>\n      <td>9.31%</td>\n      <td>90.08%</td>\n    </tr>\n  </tbody>\n</table>\n</div>"
     },
     "execution_count": 105,
     "metadata": {},
     "output_type": "execute_result"
    }
   ],
   "source": [
    "pivotsheet_region['异常签到率'] = (pivotsheet_region['异常考勤人数'] / pivotsheet_region['已排班人数（有剔除）']).apply(lambda x: '%.2f%%' % (x*100))\n",
    "pivotsheet_region['签到率'] = (pivotsheet_region['打卡人数'] / pivotsheet_region['需打卡人数']).apply(lambda x: '%.2f%%' % (x*100))\n",
    "pivotsheet_region.head()"
   ],
   "metadata": {
    "collapsed": false,
    "pycharm": {
     "name": "#%%\n"
    }
   }
  },
  {
   "cell_type": "code",
   "execution_count": 111,
   "outputs": [],
   "source": [
    "write = pd.ExcelWriter(newfilename)"
   ],
   "metadata": {
    "collapsed": false,
    "pycharm": {
     "name": "#%%\n"
    }
   }
  },
  {
   "cell_type": "code",
   "execution_count": 112,
   "outputs": [],
   "source": [
    "pivotsheet_region.to_excel(write,sheet_name='1')"
   ],
   "metadata": {
    "collapsed": false,
    "pycharm": {
     "name": "#%%\n"
    }
   }
  },
  {
   "cell_type": "code",
   "execution_count": 113,
   "outputs": [],
   "source": [
    "pivotsheet.to_excel(write,sheet_name='2')"
   ],
   "metadata": {
    "collapsed": false,
    "pycharm": {
     "name": "#%%\n"
    }
   }
  },
  {
   "cell_type": "code",
   "execution_count": 114,
   "outputs": [],
   "source": [
    "write.save()"
   ],
   "metadata": {
    "collapsed": false,
    "pycharm": {
     "name": "#%%\n"
    }
   }
  }
 ],
 "metadata": {
  "kernelspec": {
   "display_name": "PyCharm (mywork)",
   "language": "python",
   "name": "pycharm-f39caa95"
  },
  "language_info": {
   "codemirror_mode": {
    "name": "ipython",
    "version": 2
   },
   "file_extension": ".py",
   "mimetype": "text/x-python",
   "name": "python",
   "nbconvert_exporter": "python",
   "pygments_lexer": "ipython2",
   "version": "2.7.6"
  }
 },
 "nbformat": 4,
 "nbformat_minor": 0
}