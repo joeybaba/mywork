{
 "cells": [
  {
   "cell_type": "code",
   "execution_count": 1,
   "metadata": {
    "collapsed": true
   },
   "outputs": [],
   "source": [
    "import pandas as pd\n",
    "import numpy as np"
   ]
  },
  {
   "cell_type": "code",
   "execution_count": 2,
   "outputs": [
    {
     "data": {
      "text/plain": "a   -0.088046\nb    1.687586\nc   -1.089411\nd   -0.454270\ne    1.671553\ndtype: float64"
     },
     "execution_count": 2,
     "metadata": {},
     "output_type": "execute_result"
    }
   ],
   "source": [
    "s = pd.Series(np.random.randn(5), index=['a', 'b', 'c', 'd', 'e'])\n",
    "s"
   ],
   "metadata": {
    "collapsed": false,
    "pycharm": {
     "name": "#%%\n"
    }
   }
  },
  {
   "cell_type": "code",
   "execution_count": 3,
   "outputs": [
    {
     "data": {
      "text/plain": "Index(['a', 'b', 'c', 'd', 'e'], dtype='object')"
     },
     "execution_count": 3,
     "metadata": {},
     "output_type": "execute_result"
    }
   ],
   "source": [
    "s.index\n",
    "\n"
   ],
   "metadata": {
    "collapsed": false,
    "pycharm": {
     "name": "#%%\n"
    }
   }
  },
  {
   "cell_type": "code",
   "execution_count": 4,
   "outputs": [
    {
     "data": {
      "text/plain": "a    0.0\nb    1.0\nc    NaN\ne    NaN\ndtype: float64"
     },
     "execution_count": 4,
     "metadata": {},
     "output_type": "execute_result"
    }
   ],
   "source": [
    "d = {'a':0.,'b':1.}\n",
    "s = pd.Series(d,index=list('abce'))\n",
    "s"
   ],
   "metadata": {
    "collapsed": false,
    "pycharm": {
     "name": "#%%\n"
    }
   }
  },
  {
   "cell_type": "code",
   "execution_count": 5,
   "outputs": [
    {
     "data": {
      "text/plain": "a    5\nb    5\nc    5\nd    5\ndtype: int64"
     },
     "execution_count": 5,
     "metadata": {},
     "output_type": "execute_result"
    }
   ],
   "source": [
    "pd.Series(5,index=list('abcd'))"
   ],
   "metadata": {
    "collapsed": false,
    "pycharm": {
     "name": "#%%\n"
    }
   }
  },
  {
   "cell_type": "code",
   "execution_count": 6,
   "outputs": [
    {
     "name": "stdout",
     "output_type": "stream",
     "text": [
      "abc ['aaa', 'bbb']\n"
     ]
    }
   ],
   "source": [
    "print(\"abc {values}\".format(values= ['aaa', 'bbb']))"
   ],
   "metadata": {
    "collapsed": false,
    "pycharm": {
     "name": "#%%\n"
    }
   }
  },
  {
   "cell_type": "code",
   "execution_count": 7,
   "outputs": [
    {
     "data": {
      "text/plain": "0   -1.198152\n1   -2.079635\n2   -0.028312\n3   -0.975079\n4    0.289128\ndtype: float64"
     },
     "execution_count": 7,
     "metadata": {},
     "output_type": "execute_result"
    }
   ],
   "source": [
    "s = pd.Series(np.random.randn(5))\n",
    "s"
   ],
   "metadata": {
    "collapsed": false,
    "pycharm": {
     "name": "#%%\n"
    }
   }
  },
  {
   "cell_type": "code",
   "execution_count": 8,
   "outputs": [
    {
     "data": {
      "text/plain": "1   -2.079635\n3   -0.975079\n4    0.289128\ndtype: float64"
     },
     "execution_count": 8,
     "metadata": {},
     "output_type": "execute_result"
    }
   ],
   "source": [
    "# 索引值\n",
    "# s[0]\n",
    "# s[1:3]\n",
    "s[[1,3,4]]"
   ],
   "metadata": {
    "collapsed": false,
    "pycharm": {
     "name": "#%%\n"
    }
   }
  },
  {
   "cell_type": "code",
   "execution_count": 9,
   "outputs": [
    {
     "data": {
      "text/plain": "0    0.301751\n1    0.124976\n2    0.972085\n3    0.377162\n4    1.335263\ndtype: float64"
     },
     "execution_count": 9,
     "metadata": {},
     "output_type": "execute_result"
    }
   ],
   "source": [
    "np.exp(s)"
   ],
   "metadata": {
    "collapsed": false,
    "pycharm": {
     "name": "#%%\n"
    }
   }
  },
  {
   "cell_type": "code",
   "execution_count": 10,
   "outputs": [
    {
     "data": {
      "text/plain": "0   -0.931368\n1   -0.873311\n2   -0.028308\n3   -0.827746\n4    0.285117\ndtype: float64"
     },
     "execution_count": 10,
     "metadata": {},
     "output_type": "execute_result"
    }
   ],
   "source": [
    "np.sin(s)"
   ],
   "metadata": {
    "collapsed": false,
    "pycharm": {
     "name": "#%%\n"
    }
   }
  },
  {
   "cell_type": "code",
   "execution_count": 11,
   "outputs": [
    {
     "data": {
      "text/plain": "a   -1.231458\nb    0.915244\nc    0.736468\nd   -1.492824\ne   -0.260045\ndtype: float64"
     },
     "execution_count": 11,
     "metadata": {},
     "output_type": "execute_result"
    }
   ],
   "source": [
    "s = pd.Series(np.random.randn(5), index=['a', 'b', 'c', 'd', 'e'])\n",
    "s"
   ],
   "metadata": {
    "collapsed": false,
    "pycharm": {
     "name": "#%%\n"
    }
   }
  },
  {
   "cell_type": "code",
   "execution_count": 12,
   "outputs": [
    {
     "data": {
      "text/plain": "a   -1.231458\nb    0.915244\nc    0.736468\nd   -1.492824\ne    5.000000\ndtype: float64"
     },
     "execution_count": 12,
     "metadata": {},
     "output_type": "execute_result"
    }
   ],
   "source": [
    "s['a']\n",
    "s['e'] = 5\n",
    "s"
   ],
   "metadata": {
    "collapsed": false,
    "pycharm": {
     "name": "#%%\n"
    }
   }
  },
  {
   "cell_type": "code",
   "execution_count": 13,
   "outputs": [
    {
     "data": {
      "text/plain": "a     -1.231458\nb      0.915244\nc      0.736468\nd     -1.492824\ne      5.000000\ng    100.000000\ndtype: float64"
     },
     "execution_count": 13,
     "metadata": {},
     "output_type": "execute_result"
    }
   ],
   "source": [
    "s['g'] = 100\n",
    "s"
   ],
   "metadata": {
    "collapsed": false,
    "pycharm": {
     "name": "#%%\n"
    }
   }
  },
  {
   "cell_type": "code",
   "execution_count": 14,
   "outputs": [
    {
     "data": {
      "text/plain": "True"
     },
     "execution_count": 14,
     "metadata": {},
     "output_type": "execute_result"
    }
   ],
   "source": [
    "'e' in s"
   ],
   "metadata": {
    "collapsed": false,
    "pycharm": {
     "name": "#%%\n"
    }
   }
  },
  {
   "cell_type": "code",
   "execution_count": 15,
   "outputs": [
    {
     "name": "stdout",
     "output_type": "stream",
     "text": [
      "-1.2314582588723662\n",
      "nan\n"
     ]
    }
   ],
   "source": [
    "print(s.get('a'))\n",
    "print(s.get('gg',np.nan))"
   ],
   "metadata": {
    "collapsed": false,
    "pycharm": {
     "name": "#%%\n"
    }
   }
  },
  {
   "cell_type": "code",
   "execution_count": 16,
   "outputs": [
    {
     "name": "stdout",
     "output_type": "stream",
     "text": [
      "a    0.734645\n",
      "d    2.620956\n",
      "e   -0.088575\n",
      "dtype: float64\n",
      "\n",
      "a   -0.252467\n",
      "c   -0.760080\n",
      "e    0.564388\n",
      "dtype: float64\n"
     ]
    }
   ],
   "source": [
    "s1 = pd.Series(np.random.randn(3), index=['a', 'c', 'e'])\n",
    "s2 = pd.Series(np.random.randn(3), index=['a', 'd', 'e'])\n",
    "print('{1}\\n\\n{0}'.format(s1,s2))"
   ],
   "metadata": {
    "collapsed": false,
    "pycharm": {
     "name": "#%%\n"
    }
   }
  },
  {
   "cell_type": "code",
   "execution_count": 17,
   "outputs": [
    {
     "data": {
      "text/plain": "a   -0.504935\nc   -1.520160\ne    1.128777\ndtype: float64"
     },
     "execution_count": 17,
     "metadata": {},
     "output_type": "execute_result"
    }
   ],
   "source": [
    "s1 +s1"
   ],
   "metadata": {
    "collapsed": false,
    "pycharm": {
     "name": "#%%\n"
    }
   }
  },
  {
   "cell_type": "code",
   "execution_count": 18,
   "outputs": [
    {
     "data": {
      "text/plain": "0   -0.983287\n1   -0.498444\n2    0.013748\n3   -1.054802\n4   -0.069690\nName: Some Thing, dtype: float64"
     },
     "execution_count": 18,
     "metadata": {},
     "output_type": "execute_result"
    }
   ],
   "source": [
    "# name属性\n",
    "s = pd.Series(np.random.randn(5), name='Some Thing')\n",
    "s"
   ],
   "metadata": {
    "collapsed": false,
    "pycharm": {
     "name": "#%%\n"
    }
   }
  },
  {
   "cell_type": "code",
   "execution_count": 19,
   "outputs": [
    {
     "data": {
      "text/plain": "'Some Thing'"
     },
     "execution_count": 19,
     "metadata": {},
     "output_type": "execute_result"
    }
   ],
   "source": [
    "s.name"
   ],
   "metadata": {
    "collapsed": false,
    "pycharm": {
     "name": "#%%\n"
    }
   }
  },
  {
   "cell_type": "markdown",
   "source": [
    "# DataFrame\n",
    "\n"
   ],
   "metadata": {
    "collapsed": false,
    "pycharm": {
     "name": "#%% md\n"
    }
   }
  },
  {
   "cell_type": "code",
   "execution_count": 20,
   "outputs": [
    {
     "name": "stdout",
     "output_type": "stream",
     "text": [
      "<class 'dict'>\n"
     ]
    },
    {
     "data": {
      "text/plain": "   one  two\na  1.0    1\nb  2.0    2\nc  3.0    3\nd  NaN    4",
      "text/html": "<div>\n<style scoped>\n    .dataframe tbody tr th:only-of-type {\n        vertical-align: middle;\n    }\n\n    .dataframe tbody tr th {\n        vertical-align: top;\n    }\n\n    .dataframe thead th {\n        text-align: right;\n    }\n</style>\n<table border=\"1\" class=\"dataframe\">\n  <thead>\n    <tr style=\"text-align: right;\">\n      <th></th>\n      <th>one</th>\n      <th>two</th>\n    </tr>\n  </thead>\n  <tbody>\n    <tr>\n      <th>a</th>\n      <td>1.0</td>\n      <td>1</td>\n    </tr>\n    <tr>\n      <th>b</th>\n      <td>2.0</td>\n      <td>2</td>\n    </tr>\n    <tr>\n      <th>c</th>\n      <td>3.0</td>\n      <td>3</td>\n    </tr>\n    <tr>\n      <th>d</th>\n      <td>NaN</td>\n      <td>4</td>\n    </tr>\n  </tbody>\n</table>\n</div>"
     },
     "execution_count": 20,
     "metadata": {},
     "output_type": "execute_result"
    }
   ],
   "source": [
    "d = {'one' : pd.Series([1, 2, 3], index=['a', 'b', 'c']),\n",
    "     'two' : pd.Series([1, 2, 3, 4], index=['a', 'b', 'c', 'd'])}\n",
    "print(type(d))\n",
    "pd.DataFrame(d)"
   ],
   "metadata": {
    "collapsed": false,
    "pycharm": {
     "name": "#%%\n"
    }
   }
  },
  {
   "cell_type": "code",
   "execution_count": 21,
   "outputs": [
    {
     "data": {
      "text/plain": "   one  two\nd  NaN    4\nb  2.0    2\na  1.0    1",
      "text/html": "<div>\n<style scoped>\n    .dataframe tbody tr th:only-of-type {\n        vertical-align: middle;\n    }\n\n    .dataframe tbody tr th {\n        vertical-align: top;\n    }\n\n    .dataframe thead th {\n        text-align: right;\n    }\n</style>\n<table border=\"1\" class=\"dataframe\">\n  <thead>\n    <tr style=\"text-align: right;\">\n      <th></th>\n      <th>one</th>\n      <th>two</th>\n    </tr>\n  </thead>\n  <tbody>\n    <tr>\n      <th>d</th>\n      <td>NaN</td>\n      <td>4</td>\n    </tr>\n    <tr>\n      <th>b</th>\n      <td>2.0</td>\n      <td>2</td>\n    </tr>\n    <tr>\n      <th>a</th>\n      <td>1.0</td>\n      <td>1</td>\n    </tr>\n  </tbody>\n</table>\n</div>"
     },
     "execution_count": 21,
     "metadata": {},
     "output_type": "execute_result"
    }
   ],
   "source": [
    "pd.DataFrame(d,index=['d','b','a'])"
   ],
   "metadata": {
    "collapsed": false,
    "pycharm": {
     "name": "#%%\n"
    }
   }
  },
  {
   "cell_type": "code",
   "execution_count": 22,
   "outputs": [
    {
     "data": {
      "text/plain": "   two three\nd    4   NaN\nb    2   NaN\na    1   NaN",
      "text/html": "<div>\n<style scoped>\n    .dataframe tbody tr th:only-of-type {\n        vertical-align: middle;\n    }\n\n    .dataframe tbody tr th {\n        vertical-align: top;\n    }\n\n    .dataframe thead th {\n        text-align: right;\n    }\n</style>\n<table border=\"1\" class=\"dataframe\">\n  <thead>\n    <tr style=\"text-align: right;\">\n      <th></th>\n      <th>two</th>\n      <th>three</th>\n    </tr>\n  </thead>\n  <tbody>\n    <tr>\n      <th>d</th>\n      <td>4</td>\n      <td>NaN</td>\n    </tr>\n    <tr>\n      <th>b</th>\n      <td>2</td>\n      <td>NaN</td>\n    </tr>\n    <tr>\n      <th>a</th>\n      <td>1</td>\n      <td>NaN</td>\n    </tr>\n  </tbody>\n</table>\n</div>"
     },
     "execution_count": 22,
     "metadata": {},
     "output_type": "execute_result"
    }
   ],
   "source": [
    "pd.DataFrame(d,index=['d','b','a'],columns=['two','three'])"
   ],
   "metadata": {
    "collapsed": false,
    "pycharm": {
     "name": "#%%\n"
    }
   }
  },
  {
   "cell_type": "code",
   "execution_count": 23,
   "outputs": [
    {
     "data": {
      "text/plain": "   one  two\na    1   22\nb    2   33\nc    3    4\nd    4    5",
      "text/html": "<div>\n<style scoped>\n    .dataframe tbody tr th:only-of-type {\n        vertical-align: middle;\n    }\n\n    .dataframe tbody tr th {\n        vertical-align: top;\n    }\n\n    .dataframe thead th {\n        text-align: right;\n    }\n</style>\n<table border=\"1\" class=\"dataframe\">\n  <thead>\n    <tr style=\"text-align: right;\">\n      <th></th>\n      <th>one</th>\n      <th>two</th>\n    </tr>\n  </thead>\n  <tbody>\n    <tr>\n      <th>a</th>\n      <td>1</td>\n      <td>22</td>\n    </tr>\n    <tr>\n      <th>b</th>\n      <td>2</td>\n      <td>33</td>\n    </tr>\n    <tr>\n      <th>c</th>\n      <td>3</td>\n      <td>4</td>\n    </tr>\n    <tr>\n      <th>d</th>\n      <td>4</td>\n      <td>5</td>\n    </tr>\n  </tbody>\n</table>\n</div>"
     },
     "execution_count": 23,
     "metadata": {},
     "output_type": "execute_result"
    }
   ],
   "source": [
    "d = {'one':[1,2,3,4],\n",
    "     'two':[22,33,4,5]}\n",
    "pd.DataFrame(d)\n",
    "\n",
    "pd.DataFrame(d,index=['a','b','c','d'])"
   ],
   "metadata": {
    "collapsed": false,
    "pycharm": {
     "name": "#%%\n"
    }
   }
  },
  {
   "cell_type": "code",
   "execution_count": 24,
   "outputs": [
    {
     "data": {
      "text/plain": "        A  B\nfirst   2  a\ntwo    34  b",
      "text/html": "<div>\n<style scoped>\n    .dataframe tbody tr th:only-of-type {\n        vertical-align: middle;\n    }\n\n    .dataframe tbody tr th {\n        vertical-align: top;\n    }\n\n    .dataframe thead th {\n        text-align: right;\n    }\n</style>\n<table border=\"1\" class=\"dataframe\">\n  <thead>\n    <tr style=\"text-align: right;\">\n      <th></th>\n      <th>A</th>\n      <th>B</th>\n    </tr>\n  </thead>\n  <tbody>\n    <tr>\n      <th>first</th>\n      <td>2</td>\n      <td>a</td>\n    </tr>\n    <tr>\n      <th>two</th>\n      <td>34</td>\n      <td>b</td>\n    </tr>\n  </tbody>\n</table>\n</div>"
     },
     "execution_count": 24,
     "metadata": {},
     "output_type": "execute_result"
    }
   ],
   "source": [
    "data = [(2,'a'),(34,'b')]\n",
    "# pd.DataFrame(data)\n",
    "pd.DataFrame(data,index=['first','two'],columns=['A','B'])"
   ],
   "metadata": {
    "collapsed": false,
    "pycharm": {
     "name": "#%%\n"
    }
   }
  },
  {
   "cell_type": "code",
   "execution_count": 25,
   "outputs": [
    {
     "data": {
      "text/plain": "   a   b\n0  1   2\n1  5  10",
      "text/html": "<div>\n<style scoped>\n    .dataframe tbody tr th:only-of-type {\n        vertical-align: middle;\n    }\n\n    .dataframe tbody tr th {\n        vertical-align: top;\n    }\n\n    .dataframe thead th {\n        text-align: right;\n    }\n</style>\n<table border=\"1\" class=\"dataframe\">\n  <thead>\n    <tr style=\"text-align: right;\">\n      <th></th>\n      <th>a</th>\n      <th>b</th>\n    </tr>\n  </thead>\n  <tbody>\n    <tr>\n      <th>0</th>\n      <td>1</td>\n      <td>2</td>\n    </tr>\n    <tr>\n      <th>1</th>\n      <td>5</td>\n      <td>10</td>\n    </tr>\n  </tbody>\n</table>\n</div>"
     },
     "execution_count": 25,
     "metadata": {},
     "output_type": "execute_result"
    }
   ],
   "source": [
    "# 包装后输入list\n",
    "data = [{'a': 1, 'b': 2}, {'a': 5, 'b': 10, 'c': 20}]\n",
    "pd.DataFrame(data)\n",
    "pd.DataFrame(data, index=['first', 'second'])\n",
    "pd.DataFrame(data, columns=['a', 'b'])"
   ],
   "metadata": {
    "collapsed": false,
    "pycharm": {
     "name": "#%%\n"
    }
   }
  },
  {
   "cell_type": "code",
   "execution_count": 26,
   "outputs": [
    {
     "data": {
      "text/plain": "       a              b      \n       b    a    c    a     b\nA B  1.0  4.0  5.0  8.0  10.0\n  C  2.0  3.0  6.0  7.0   NaN\n  D  NaN  NaN  NaN  NaN   9.0",
      "text/html": "<div>\n<style scoped>\n    .dataframe tbody tr th:only-of-type {\n        vertical-align: middle;\n    }\n\n    .dataframe tbody tr th {\n        vertical-align: top;\n    }\n\n    .dataframe thead tr th {\n        text-align: left;\n    }\n</style>\n<table border=\"1\" class=\"dataframe\">\n  <thead>\n    <tr>\n      <th></th>\n      <th></th>\n      <th colspan=\"3\" halign=\"left\">a</th>\n      <th colspan=\"2\" halign=\"left\">b</th>\n    </tr>\n    <tr>\n      <th></th>\n      <th></th>\n      <th>b</th>\n      <th>a</th>\n      <th>c</th>\n      <th>a</th>\n      <th>b</th>\n    </tr>\n  </thead>\n  <tbody>\n    <tr>\n      <th rowspan=\"3\" valign=\"top\">A</th>\n      <th>B</th>\n      <td>1.0</td>\n      <td>4.0</td>\n      <td>5.0</td>\n      <td>8.0</td>\n      <td>10.0</td>\n    </tr>\n    <tr>\n      <th>C</th>\n      <td>2.0</td>\n      <td>3.0</td>\n      <td>6.0</td>\n      <td>7.0</td>\n      <td>NaN</td>\n    </tr>\n    <tr>\n      <th>D</th>\n      <td>NaN</td>\n      <td>NaN</td>\n      <td>NaN</td>\n      <td>NaN</td>\n      <td>9.0</td>\n    </tr>\n  </tbody>\n</table>\n</div>"
     },
     "execution_count": 26,
     "metadata": {},
     "output_type": "execute_result"
    }
   ],
   "source": [
    "d = {('a', 'b'): {('A', 'B'): 1, ('A', 'C'): 2},\n",
    "     ('a', 'a'): {('A', 'C'): 3, ('A', 'B'): 4},\n",
    "     ('a', 'c'): {('A', 'B'): 5, ('A', 'C'): 6},\n",
    "     ('b', 'a'): {('A', 'C'): 7, ('A', 'B'): 8},\n",
    "     ('b', 'b'): {('A', 'D'): 9, ('A', 'B'): 10}}\n",
    "pd.DataFrame(d)"
   ],
   "metadata": {
    "collapsed": false,
    "pycharm": {
     "name": "#%%\n"
    }
   }
  },
  {
   "cell_type": "markdown",
   "source": [
    "## 从Series创建"
   ],
   "metadata": {
    "collapsed": false,
    "pycharm": {
     "name": "#%% md\n"
    }
   }
  },
  {
   "cell_type": "code",
   "execution_count": 27,
   "outputs": [
    {
     "data": {
      "text/plain": "          A\na -0.678851\nc  1.249038\nd  1.165293",
      "text/html": "<div>\n<style scoped>\n    .dataframe tbody tr th:only-of-type {\n        vertical-align: middle;\n    }\n\n    .dataframe tbody tr th {\n        vertical-align: top;\n    }\n\n    .dataframe thead th {\n        text-align: right;\n    }\n</style>\n<table border=\"1\" class=\"dataframe\">\n  <thead>\n    <tr style=\"text-align: right;\">\n      <th></th>\n      <th>A</th>\n    </tr>\n  </thead>\n  <tbody>\n    <tr>\n      <th>a</th>\n      <td>-0.678851</td>\n    </tr>\n    <tr>\n      <th>c</th>\n      <td>1.249038</td>\n    </tr>\n    <tr>\n      <th>d</th>\n      <td>1.165293</td>\n    </tr>\n  </tbody>\n</table>\n</div>"
     },
     "execution_count": 27,
     "metadata": {},
     "output_type": "execute_result"
    }
   ],
   "source": [
    "s = pd.Series(np.random.randn(5),index=['a','b','c','d','e'])\n",
    "pd.DataFrame(s,index=['a', 'c', 'd'])\n",
    "pd.DataFrame(s,index=['a', 'c', 'd'],columns=['A'])"
   ],
   "metadata": {
    "collapsed": false,
    "pycharm": {
     "name": "#%%\n"
    }
   }
  },
  {
   "cell_type": "markdown",
   "source": [
    "# 列选择/增加/删除"
   ],
   "metadata": {
    "collapsed": false,
    "pycharm": {
     "name": "#%% md\n"
    }
   }
  },
  {
   "cell_type": "code",
   "execution_count": 28,
   "outputs": [
    {
     "data": {
      "text/plain": "        one       two     three      four\n0  1.527169 -0.885098  1.051836  0.715393\n1 -0.099573 -0.417929 -0.724062  1.235151\n2  2.013602  0.539670  1.020744 -1.281166\n3  0.601021  0.297628 -0.451809  0.054916\n4  1.503907  0.348318  0.407566  0.624712\n5  1.007180 -0.278039  0.818277  0.318731",
      "text/html": "<div>\n<style scoped>\n    .dataframe tbody tr th:only-of-type {\n        vertical-align: middle;\n    }\n\n    .dataframe tbody tr th {\n        vertical-align: top;\n    }\n\n    .dataframe thead th {\n        text-align: right;\n    }\n</style>\n<table border=\"1\" class=\"dataframe\">\n  <thead>\n    <tr style=\"text-align: right;\">\n      <th></th>\n      <th>one</th>\n      <th>two</th>\n      <th>three</th>\n      <th>four</th>\n    </tr>\n  </thead>\n  <tbody>\n    <tr>\n      <th>0</th>\n      <td>1.527169</td>\n      <td>-0.885098</td>\n      <td>1.051836</td>\n      <td>0.715393</td>\n    </tr>\n    <tr>\n      <th>1</th>\n      <td>-0.099573</td>\n      <td>-0.417929</td>\n      <td>-0.724062</td>\n      <td>1.235151</td>\n    </tr>\n    <tr>\n      <th>2</th>\n      <td>2.013602</td>\n      <td>0.539670</td>\n      <td>1.020744</td>\n      <td>-1.281166</td>\n    </tr>\n    <tr>\n      <th>3</th>\n      <td>0.601021</td>\n      <td>0.297628</td>\n      <td>-0.451809</td>\n      <td>0.054916</td>\n    </tr>\n    <tr>\n      <th>4</th>\n      <td>1.503907</td>\n      <td>0.348318</td>\n      <td>0.407566</td>\n      <td>0.624712</td>\n    </tr>\n    <tr>\n      <th>5</th>\n      <td>1.007180</td>\n      <td>-0.278039</td>\n      <td>0.818277</td>\n      <td>0.318731</td>\n    </tr>\n  </tbody>\n</table>\n</div>"
     },
     "execution_count": 28,
     "metadata": {},
     "output_type": "execute_result"
    }
   ],
   "source": [
    "df = pd.DataFrame(np.random.randn(6, 4), columns=['one', 'two', 'three', 'four'])\n",
    "df"
   ],
   "metadata": {
    "collapsed": false,
    "pycharm": {
     "name": "#%%\n"
    }
   }
  },
  {
   "cell_type": "code",
   "execution_count": 29,
   "outputs": [
    {
     "data": {
      "text/plain": "0    1.527169\n1   -0.099573\n2    2.013602\n3    0.601021\n4    1.503907\n5    1.007180\nName: one, dtype: float64"
     },
     "execution_count": 29,
     "metadata": {},
     "output_type": "execute_result"
    }
   ],
   "source": [
    "df['one']"
   ],
   "metadata": {
    "collapsed": false,
    "pycharm": {
     "name": "#%%\n"
    }
   }
  },
  {
   "cell_type": "code",
   "execution_count": 30,
   "outputs": [
    {
     "data": {
      "text/plain": "        one       two     three      four\n0  1.527169 -0.885098  0.642071  0.715393\n1 -0.099573 -0.417929 -0.517502  1.235151\n2  2.013602  0.539670  2.553272 -1.281166\n3  0.601021  0.297628  0.898649  0.054916\n4  1.503907  0.348318  1.852225  0.624712\n5  1.007180 -0.278039  0.729141  0.318731",
      "text/html": "<div>\n<style scoped>\n    .dataframe tbody tr th:only-of-type {\n        vertical-align: middle;\n    }\n\n    .dataframe tbody tr th {\n        vertical-align: top;\n    }\n\n    .dataframe thead th {\n        text-align: right;\n    }\n</style>\n<table border=\"1\" class=\"dataframe\">\n  <thead>\n    <tr style=\"text-align: right;\">\n      <th></th>\n      <th>one</th>\n      <th>two</th>\n      <th>three</th>\n      <th>four</th>\n    </tr>\n  </thead>\n  <tbody>\n    <tr>\n      <th>0</th>\n      <td>1.527169</td>\n      <td>-0.885098</td>\n      <td>0.642071</td>\n      <td>0.715393</td>\n    </tr>\n    <tr>\n      <th>1</th>\n      <td>-0.099573</td>\n      <td>-0.417929</td>\n      <td>-0.517502</td>\n      <td>1.235151</td>\n    </tr>\n    <tr>\n      <th>2</th>\n      <td>2.013602</td>\n      <td>0.539670</td>\n      <td>2.553272</td>\n      <td>-1.281166</td>\n    </tr>\n    <tr>\n      <th>3</th>\n      <td>0.601021</td>\n      <td>0.297628</td>\n      <td>0.898649</td>\n      <td>0.054916</td>\n    </tr>\n    <tr>\n      <th>4</th>\n      <td>1.503907</td>\n      <td>0.348318</td>\n      <td>1.852225</td>\n      <td>0.624712</td>\n    </tr>\n    <tr>\n      <th>5</th>\n      <td>1.007180</td>\n      <td>-0.278039</td>\n      <td>0.729141</td>\n      <td>0.318731</td>\n    </tr>\n  </tbody>\n</table>\n</div>"
     },
     "execution_count": 30,
     "metadata": {},
     "output_type": "execute_result"
    }
   ],
   "source": [
    "df['three'] = df['one'] + df['two']\n",
    "df"
   ],
   "metadata": {
    "collapsed": false,
    "pycharm": {
     "name": "#%%\n"
    }
   }
  },
  {
   "cell_type": "code",
   "execution_count": 31,
   "outputs": [
    {
     "data": {
      "text/plain": "        one       two     three      four   flag\n0  1.527169 -0.885098  0.642071  0.715393   True\n1 -0.099573 -0.417929 -0.517502  1.235151  False\n2  2.013602  0.539670  2.553272 -1.281166   True\n3  0.601021  0.297628  0.898649  0.054916   True\n4  1.503907  0.348318  1.852225  0.624712   True\n5  1.007180 -0.278039  0.729141  0.318731   True",
      "text/html": "<div>\n<style scoped>\n    .dataframe tbody tr th:only-of-type {\n        vertical-align: middle;\n    }\n\n    .dataframe tbody tr th {\n        vertical-align: top;\n    }\n\n    .dataframe thead th {\n        text-align: right;\n    }\n</style>\n<table border=\"1\" class=\"dataframe\">\n  <thead>\n    <tr style=\"text-align: right;\">\n      <th></th>\n      <th>one</th>\n      <th>two</th>\n      <th>three</th>\n      <th>four</th>\n      <th>flag</th>\n    </tr>\n  </thead>\n  <tbody>\n    <tr>\n      <th>0</th>\n      <td>1.527169</td>\n      <td>-0.885098</td>\n      <td>0.642071</td>\n      <td>0.715393</td>\n      <td>True</td>\n    </tr>\n    <tr>\n      <th>1</th>\n      <td>-0.099573</td>\n      <td>-0.417929</td>\n      <td>-0.517502</td>\n      <td>1.235151</td>\n      <td>False</td>\n    </tr>\n    <tr>\n      <th>2</th>\n      <td>2.013602</td>\n      <td>0.539670</td>\n      <td>2.553272</td>\n      <td>-1.281166</td>\n      <td>True</td>\n    </tr>\n    <tr>\n      <th>3</th>\n      <td>0.601021</td>\n      <td>0.297628</td>\n      <td>0.898649</td>\n      <td>0.054916</td>\n      <td>True</td>\n    </tr>\n    <tr>\n      <th>4</th>\n      <td>1.503907</td>\n      <td>0.348318</td>\n      <td>1.852225</td>\n      <td>0.624712</td>\n      <td>True</td>\n    </tr>\n    <tr>\n      <th>5</th>\n      <td>1.007180</td>\n      <td>-0.278039</td>\n      <td>0.729141</td>\n      <td>0.318731</td>\n      <td>True</td>\n    </tr>\n  </tbody>\n</table>\n</div>"
     },
     "execution_count": 31,
     "metadata": {},
     "output_type": "execute_result"
    }
   ],
   "source": [
    "df['flag'] = df['one'] > 0\n",
    "df"
   ],
   "metadata": {
    "collapsed": false,
    "pycharm": {
     "name": "#%%\n"
    }
   }
  },
  {
   "cell_type": "code",
   "execution_count": 32,
   "outputs": [
    {
     "data": {
      "text/plain": "        one       two      four   flag\n0  1.527169 -0.885098  0.715393   True\n1 -0.099573 -0.417929  1.235151  False\n2  2.013602  0.539670 -1.281166   True\n3  0.601021  0.297628  0.054916   True\n4  1.503907  0.348318  0.624712   True\n5  1.007180 -0.278039  0.318731   True",
      "text/html": "<div>\n<style scoped>\n    .dataframe tbody tr th:only-of-type {\n        vertical-align: middle;\n    }\n\n    .dataframe tbody tr th {\n        vertical-align: top;\n    }\n\n    .dataframe thead th {\n        text-align: right;\n    }\n</style>\n<table border=\"1\" class=\"dataframe\">\n  <thead>\n    <tr style=\"text-align: right;\">\n      <th></th>\n      <th>one</th>\n      <th>two</th>\n      <th>four</th>\n      <th>flag</th>\n    </tr>\n  </thead>\n  <tbody>\n    <tr>\n      <th>0</th>\n      <td>1.527169</td>\n      <td>-0.885098</td>\n      <td>0.715393</td>\n      <td>True</td>\n    </tr>\n    <tr>\n      <th>1</th>\n      <td>-0.099573</td>\n      <td>-0.417929</td>\n      <td>1.235151</td>\n      <td>False</td>\n    </tr>\n    <tr>\n      <th>2</th>\n      <td>2.013602</td>\n      <td>0.539670</td>\n      <td>-1.281166</td>\n      <td>True</td>\n    </tr>\n    <tr>\n      <th>3</th>\n      <td>0.601021</td>\n      <td>0.297628</td>\n      <td>0.054916</td>\n      <td>True</td>\n    </tr>\n    <tr>\n      <th>4</th>\n      <td>1.503907</td>\n      <td>0.348318</td>\n      <td>0.624712</td>\n      <td>True</td>\n    </tr>\n    <tr>\n      <th>5</th>\n      <td>1.007180</td>\n      <td>-0.278039</td>\n      <td>0.318731</td>\n      <td>True</td>\n    </tr>\n  </tbody>\n</table>\n</div>"
     },
     "execution_count": 32,
     "metadata": {},
     "output_type": "execute_result"
    }
   ],
   "source": [
    "del df['three']\n",
    "df"
   ],
   "metadata": {
    "collapsed": false,
    "pycharm": {
     "name": "#%%\n"
    }
   }
  },
  {
   "cell_type": "code",
   "execution_count": 33,
   "outputs": [
    {
     "data": {
      "text/plain": "0    0.715393\n1    1.235151\n2   -1.281166\n3    0.054916\n4    0.624712\n5    0.318731\nName: four, dtype: float64"
     },
     "execution_count": 33,
     "metadata": {},
     "output_type": "execute_result"
    }
   ],
   "source": [
    "four = df.pop('four')\n",
    "four"
   ],
   "metadata": {
    "collapsed": false,
    "pycharm": {
     "name": "#%%\n"
    }
   }
  },
  {
   "cell_type": "code",
   "execution_count": 34,
   "outputs": [
    {
     "data": {
      "text/plain": "        one       two   flag  one_trunc\n0  1.527169 -0.885098   True   1.527169\n1 -0.099573 -0.417929  False  -0.099573\n2  2.013602  0.539670   True        NaN\n3  0.601021  0.297628   True        NaN\n4  1.503907  0.348318   True        NaN\n5  1.007180 -0.278039   True        NaN",
      "text/html": "<div>\n<style scoped>\n    .dataframe tbody tr th:only-of-type {\n        vertical-align: middle;\n    }\n\n    .dataframe tbody tr th {\n        vertical-align: top;\n    }\n\n    .dataframe thead th {\n        text-align: right;\n    }\n</style>\n<table border=\"1\" class=\"dataframe\">\n  <thead>\n    <tr style=\"text-align: right;\">\n      <th></th>\n      <th>one</th>\n      <th>two</th>\n      <th>flag</th>\n      <th>one_trunc</th>\n    </tr>\n  </thead>\n  <tbody>\n    <tr>\n      <th>0</th>\n      <td>1.527169</td>\n      <td>-0.885098</td>\n      <td>True</td>\n      <td>1.527169</td>\n    </tr>\n    <tr>\n      <th>1</th>\n      <td>-0.099573</td>\n      <td>-0.417929</td>\n      <td>False</td>\n      <td>-0.099573</td>\n    </tr>\n    <tr>\n      <th>2</th>\n      <td>2.013602</td>\n      <td>0.539670</td>\n      <td>True</td>\n      <td>NaN</td>\n    </tr>\n    <tr>\n      <th>3</th>\n      <td>0.601021</td>\n      <td>0.297628</td>\n      <td>True</td>\n      <td>NaN</td>\n    </tr>\n    <tr>\n      <th>4</th>\n      <td>1.503907</td>\n      <td>0.348318</td>\n      <td>True</td>\n      <td>NaN</td>\n    </tr>\n    <tr>\n      <th>5</th>\n      <td>1.007180</td>\n      <td>-0.278039</td>\n      <td>True</td>\n      <td>NaN</td>\n    </tr>\n  </tbody>\n</table>\n</div>"
     },
     "execution_count": 34,
     "metadata": {},
     "output_type": "execute_result"
    }
   ],
   "source": [
    "df['one_trunc'] = df['one'][:2]\n",
    "df"
   ],
   "metadata": {
    "collapsed": false,
    "pycharm": {
     "name": "#%%\n"
    }
   }
  },
  {
   "cell_type": "code",
   "execution_count": 35,
   "outputs": [],
   "source": [
    "# 指定插入位置\n",
    "df.insert(1,'bar',df['one'])\n"
   ],
   "metadata": {
    "collapsed": false,
    "pycharm": {
     "name": "#%%\n"
    }
   }
  },
  {
   "cell_type": "markdown",
   "source": [
    "# 使用 assign() 方法来插入新列"
   ],
   "metadata": {
    "collapsed": false,
    "pycharm": {
     "name": "#%% md\n"
    }
   }
  },
  {
   "cell_type": "code",
   "execution_count": 36,
   "outputs": [
    {
     "data": {
      "text/plain": "   A  B  C  D\n0  1  1  1  1\n1  4  2  1  1\n2  1  3  3  1\n3  1  1  2  1\n4  1  4  1  4\n5  2  3  2  4",
      "text/html": "<div>\n<style scoped>\n    .dataframe tbody tr th:only-of-type {\n        vertical-align: middle;\n    }\n\n    .dataframe tbody tr th {\n        vertical-align: top;\n    }\n\n    .dataframe thead th {\n        text-align: right;\n    }\n</style>\n<table border=\"1\" class=\"dataframe\">\n  <thead>\n    <tr style=\"text-align: right;\">\n      <th></th>\n      <th>A</th>\n      <th>B</th>\n      <th>C</th>\n      <th>D</th>\n    </tr>\n  </thead>\n  <tbody>\n    <tr>\n      <th>0</th>\n      <td>1</td>\n      <td>1</td>\n      <td>1</td>\n      <td>1</td>\n    </tr>\n    <tr>\n      <th>1</th>\n      <td>4</td>\n      <td>2</td>\n      <td>1</td>\n      <td>1</td>\n    </tr>\n    <tr>\n      <th>2</th>\n      <td>1</td>\n      <td>3</td>\n      <td>3</td>\n      <td>1</td>\n    </tr>\n    <tr>\n      <th>3</th>\n      <td>1</td>\n      <td>1</td>\n      <td>2</td>\n      <td>1</td>\n    </tr>\n    <tr>\n      <th>4</th>\n      <td>1</td>\n      <td>4</td>\n      <td>1</td>\n      <td>4</td>\n    </tr>\n    <tr>\n      <th>5</th>\n      <td>2</td>\n      <td>3</td>\n      <td>2</td>\n      <td>4</td>\n    </tr>\n  </tbody>\n</table>\n</div>"
     },
     "execution_count": 36,
     "metadata": {},
     "output_type": "execute_result"
    }
   ],
   "source": [
    "df = pd.DataFrame(np.random.randint(1,5,(6,4)),columns=list('ABCD'))\n",
    "df"
   ],
   "metadata": {
    "collapsed": false,
    "pycharm": {
     "name": "#%%\n"
    }
   }
  },
  {
   "cell_type": "code",
   "execution_count": 37,
   "outputs": [
    {
     "data": {
      "text/plain": "   A  B  C  D     Ratio\n0  1  1  1  1  1.000000\n1  4  2  1  1  2.000000\n2  1  3  3  1  0.333333\n3  1  1  2  1  1.000000\n4  1  4  1  4  0.250000\n5  2  3  2  4  0.666667",
      "text/html": "<div>\n<style scoped>\n    .dataframe tbody tr th:only-of-type {\n        vertical-align: middle;\n    }\n\n    .dataframe tbody tr th {\n        vertical-align: top;\n    }\n\n    .dataframe thead th {\n        text-align: right;\n    }\n</style>\n<table border=\"1\" class=\"dataframe\">\n  <thead>\n    <tr style=\"text-align: right;\">\n      <th></th>\n      <th>A</th>\n      <th>B</th>\n      <th>C</th>\n      <th>D</th>\n      <th>Ratio</th>\n    </tr>\n  </thead>\n  <tbody>\n    <tr>\n      <th>0</th>\n      <td>1</td>\n      <td>1</td>\n      <td>1</td>\n      <td>1</td>\n      <td>1.000000</td>\n    </tr>\n    <tr>\n      <th>1</th>\n      <td>4</td>\n      <td>2</td>\n      <td>1</td>\n      <td>1</td>\n      <td>2.000000</td>\n    </tr>\n    <tr>\n      <th>2</th>\n      <td>1</td>\n      <td>3</td>\n      <td>3</td>\n      <td>1</td>\n      <td>0.333333</td>\n    </tr>\n    <tr>\n      <th>3</th>\n      <td>1</td>\n      <td>1</td>\n      <td>2</td>\n      <td>1</td>\n      <td>1.000000</td>\n    </tr>\n    <tr>\n      <th>4</th>\n      <td>1</td>\n      <td>4</td>\n      <td>1</td>\n      <td>4</td>\n      <td>0.250000</td>\n    </tr>\n    <tr>\n      <th>5</th>\n      <td>2</td>\n      <td>3</td>\n      <td>2</td>\n      <td>4</td>\n      <td>0.666667</td>\n    </tr>\n  </tbody>\n</table>\n</div>"
     },
     "execution_count": 37,
     "metadata": {},
     "output_type": "execute_result"
    }
   ],
   "source": [
    "df.assign(Ratio=df['A']/df['B'])"
   ],
   "metadata": {
    "collapsed": false,
    "pycharm": {
     "name": "#%%\n"
    }
   }
  },
  {
   "cell_type": "code",
   "execution_count": 38,
   "outputs": [
    {
     "data": {
      "text/plain": "   A  B  C  D  AB_Ratio  CD_Ratio\n0  1  1  1  1  1.000000         0\n1  4  2  1  1  2.000000         0\n2  1  3  3  1  0.333333         2\n3  1  1  2  1  1.000000         1\n4  1  4  1  4  0.250000        -3\n5  2  3  2  4  0.666667        -2",
      "text/html": "<div>\n<style scoped>\n    .dataframe tbody tr th:only-of-type {\n        vertical-align: middle;\n    }\n\n    .dataframe tbody tr th {\n        vertical-align: top;\n    }\n\n    .dataframe thead th {\n        text-align: right;\n    }\n</style>\n<table border=\"1\" class=\"dataframe\">\n  <thead>\n    <tr style=\"text-align: right;\">\n      <th></th>\n      <th>A</th>\n      <th>B</th>\n      <th>C</th>\n      <th>D</th>\n      <th>AB_Ratio</th>\n      <th>CD_Ratio</th>\n    </tr>\n  </thead>\n  <tbody>\n    <tr>\n      <th>0</th>\n      <td>1</td>\n      <td>1</td>\n      <td>1</td>\n      <td>1</td>\n      <td>1.000000</td>\n      <td>0</td>\n    </tr>\n    <tr>\n      <th>1</th>\n      <td>4</td>\n      <td>2</td>\n      <td>1</td>\n      <td>1</td>\n      <td>2.000000</td>\n      <td>0</td>\n    </tr>\n    <tr>\n      <th>2</th>\n      <td>1</td>\n      <td>3</td>\n      <td>3</td>\n      <td>1</td>\n      <td>0.333333</td>\n      <td>2</td>\n    </tr>\n    <tr>\n      <th>3</th>\n      <td>1</td>\n      <td>1</td>\n      <td>2</td>\n      <td>1</td>\n      <td>1.000000</td>\n      <td>1</td>\n    </tr>\n    <tr>\n      <th>4</th>\n      <td>1</td>\n      <td>4</td>\n      <td>1</td>\n      <td>4</td>\n      <td>0.250000</td>\n      <td>-3</td>\n    </tr>\n    <tr>\n      <th>5</th>\n      <td>2</td>\n      <td>3</td>\n      <td>2</td>\n      <td>4</td>\n      <td>0.666667</td>\n      <td>-2</td>\n    </tr>\n  </tbody>\n</table>\n</div>"
     },
     "execution_count": 38,
     "metadata": {},
     "output_type": "execute_result"
    }
   ],
   "source": [
    "df.assign(AB_Ratio = lambda x:x.A/x.B, CD_Ratio = lambda x:x.C-x.D)"
   ],
   "metadata": {
    "collapsed": false,
    "pycharm": {
     "name": "#%%\n"
    }
   }
  },
  {
   "cell_type": "code",
   "execution_count": 39,
   "outputs": [
    {
     "data": {
      "text/plain": "   A  B  C  D  AB_Ratio  ABD_Ratio\n0  1  1  1  1  1.000000   1.000000\n1  4  2  1  1  2.000000   2.000000\n2  1  3  3  1  0.333333   0.333333\n3  1  1  2  1  1.000000   1.000000\n4  1  4  1  4  0.250000   1.000000\n5  2  3  2  4  0.666667   2.666667",
      "text/html": "<div>\n<style scoped>\n    .dataframe tbody tr th:only-of-type {\n        vertical-align: middle;\n    }\n\n    .dataframe tbody tr th {\n        vertical-align: top;\n    }\n\n    .dataframe thead th {\n        text-align: right;\n    }\n</style>\n<table border=\"1\" class=\"dataframe\">\n  <thead>\n    <tr style=\"text-align: right;\">\n      <th></th>\n      <th>A</th>\n      <th>B</th>\n      <th>C</th>\n      <th>D</th>\n      <th>AB_Ratio</th>\n      <th>ABD_Ratio</th>\n    </tr>\n  </thead>\n  <tbody>\n    <tr>\n      <th>0</th>\n      <td>1</td>\n      <td>1</td>\n      <td>1</td>\n      <td>1</td>\n      <td>1.000000</td>\n      <td>1.000000</td>\n    </tr>\n    <tr>\n      <th>1</th>\n      <td>4</td>\n      <td>2</td>\n      <td>1</td>\n      <td>1</td>\n      <td>2.000000</td>\n      <td>2.000000</td>\n    </tr>\n    <tr>\n      <th>2</th>\n      <td>1</td>\n      <td>3</td>\n      <td>3</td>\n      <td>1</td>\n      <td>0.333333</td>\n      <td>0.333333</td>\n    </tr>\n    <tr>\n      <th>3</th>\n      <td>1</td>\n      <td>1</td>\n      <td>2</td>\n      <td>1</td>\n      <td>1.000000</td>\n      <td>1.000000</td>\n    </tr>\n    <tr>\n      <th>4</th>\n      <td>1</td>\n      <td>4</td>\n      <td>1</td>\n      <td>4</td>\n      <td>0.250000</td>\n      <td>1.000000</td>\n    </tr>\n    <tr>\n      <th>5</th>\n      <td>2</td>\n      <td>3</td>\n      <td>2</td>\n      <td>4</td>\n      <td>0.666667</td>\n      <td>2.666667</td>\n    </tr>\n  </tbody>\n</table>\n</div>"
     },
     "execution_count": 39,
     "metadata": {},
     "output_type": "execute_result"
    }
   ],
   "source": [
    "df.assign(AB_Ratio = lambda x: x.A / x.B).assign(ABD_Ratio = lambda x: x.AB_Ratio * x.D)"
   ],
   "metadata": {
    "collapsed": false,
    "pycharm": {
     "name": "#%%\n"
    }
   }
  },
  {
   "cell_type": "markdown",
   "source": [
    "# 索引和选择\n",
    "\n",
    "- 选择一列 df[col] -->Series\n",
    "- 根据行标签选择一行 ->df.loc[lable] ->Series\n",
    "- 根据行位置选择一行 ->df.iloc[lable] ->Series\n",
    "- 选择多行 -> df[5:10] ->DataFrame\n",
    "- 根据布尔向量选择多行 -> df[bool_vector] -> DataFrame\n"
   ],
   "metadata": {
    "collapsed": false,
    "pycharm": {
     "name": "#%% md\n"
    }
   }
  },
  {
   "cell_type": "code",
   "execution_count": 40,
   "outputs": [
    {
     "data": {
      "text/plain": "   A  B  C  D\na  2  8  9  2\nb  7  5  8  5\nc  7  2  2  9\nd  4  9  3  2\ne  5  2  4  8\nf  6  8  5  6",
      "text/html": "<div>\n<style scoped>\n    .dataframe tbody tr th:only-of-type {\n        vertical-align: middle;\n    }\n\n    .dataframe tbody tr th {\n        vertical-align: top;\n    }\n\n    .dataframe thead th {\n        text-align: right;\n    }\n</style>\n<table border=\"1\" class=\"dataframe\">\n  <thead>\n    <tr style=\"text-align: right;\">\n      <th></th>\n      <th>A</th>\n      <th>B</th>\n      <th>C</th>\n      <th>D</th>\n    </tr>\n  </thead>\n  <tbody>\n    <tr>\n      <th>a</th>\n      <td>2</td>\n      <td>8</td>\n      <td>9</td>\n      <td>2</td>\n    </tr>\n    <tr>\n      <th>b</th>\n      <td>7</td>\n      <td>5</td>\n      <td>8</td>\n      <td>5</td>\n    </tr>\n    <tr>\n      <th>c</th>\n      <td>7</td>\n      <td>2</td>\n      <td>2</td>\n      <td>9</td>\n    </tr>\n    <tr>\n      <th>d</th>\n      <td>4</td>\n      <td>9</td>\n      <td>3</td>\n      <td>2</td>\n    </tr>\n    <tr>\n      <th>e</th>\n      <td>5</td>\n      <td>2</td>\n      <td>4</td>\n      <td>8</td>\n    </tr>\n    <tr>\n      <th>f</th>\n      <td>6</td>\n      <td>8</td>\n      <td>5</td>\n      <td>6</td>\n    </tr>\n  </tbody>\n</table>\n</div>"
     },
     "execution_count": 40,
     "metadata": {},
     "output_type": "execute_result"
    }
   ],
   "source": [
    "df = pd.DataFrame(np.random.randint(1,10,(6,4)),index=list('abcdef'),columns=list('ABCD'))\n",
    "df"
   ],
   "metadata": {
    "collapsed": false,
    "pycharm": {
     "name": "#%%\n"
    }
   }
  },
  {
   "cell_type": "code",
   "execution_count": 41,
   "outputs": [
    {
     "data": {
      "text/plain": "a    2\nb    7\nc    7\nd    4\ne    5\nf    6\nName: A, dtype: int64"
     },
     "execution_count": 41,
     "metadata": {},
     "output_type": "execute_result"
    }
   ],
   "source": [
    "df['A']"
   ],
   "metadata": {
    "collapsed": false,
    "pycharm": {
     "name": "#%%\n"
    }
   }
  },
  {
   "cell_type": "code",
   "execution_count": 42,
   "outputs": [
    {
     "data": {
      "text/plain": "A    2\nB    8\nC    9\nD    2\nName: a, dtype: int64"
     },
     "execution_count": 42,
     "metadata": {},
     "output_type": "execute_result"
    }
   ],
   "source": [
    "df.loc['a']"
   ],
   "metadata": {
    "collapsed": false,
    "pycharm": {
     "name": "#%%\n"
    }
   }
  },
  {
   "cell_type": "code",
   "execution_count": 43,
   "outputs": [
    {
     "data": {
      "text/plain": "A    2\nB    8\nC    9\nD    2\nName: a, dtype: int64"
     },
     "execution_count": 43,
     "metadata": {},
     "output_type": "execute_result"
    }
   ],
   "source": [
    "df.iloc[0]"
   ],
   "metadata": {
    "collapsed": false,
    "pycharm": {
     "name": "#%%\n"
    }
   }
  },
  {
   "cell_type": "code",
   "execution_count": 44,
   "outputs": [
    {
     "data": {
      "text/plain": "   A  B  C  D\nb  7  5  8  5\nc  7  2  2  9\nd  4  9  3  2",
      "text/html": "<div>\n<style scoped>\n    .dataframe tbody tr th:only-of-type {\n        vertical-align: middle;\n    }\n\n    .dataframe tbody tr th {\n        vertical-align: top;\n    }\n\n    .dataframe thead th {\n        text-align: right;\n    }\n</style>\n<table border=\"1\" class=\"dataframe\">\n  <thead>\n    <tr style=\"text-align: right;\">\n      <th></th>\n      <th>A</th>\n      <th>B</th>\n      <th>C</th>\n      <th>D</th>\n    </tr>\n  </thead>\n  <tbody>\n    <tr>\n      <th>b</th>\n      <td>7</td>\n      <td>5</td>\n      <td>8</td>\n      <td>5</td>\n    </tr>\n    <tr>\n      <th>c</th>\n      <td>7</td>\n      <td>2</td>\n      <td>2</td>\n      <td>9</td>\n    </tr>\n    <tr>\n      <th>d</th>\n      <td>4</td>\n      <td>9</td>\n      <td>3</td>\n      <td>2</td>\n    </tr>\n  </tbody>\n</table>\n</div>"
     },
     "execution_count": 44,
     "metadata": {},
     "output_type": "execute_result"
    }
   ],
   "source": [
    "df[1:4]"
   ],
   "metadata": {
    "collapsed": false,
    "pycharm": {
     "name": "#%%\n"
    }
   }
  },
  {
   "cell_type": "code",
   "execution_count": 45,
   "outputs": [
    {
     "data": {
      "text/plain": "   A  B  C  D\nb  7  5  8  5\nd  4  9  3  2\ne  5  2  4  8",
      "text/html": "<div>\n<style scoped>\n    .dataframe tbody tr th:only-of-type {\n        vertical-align: middle;\n    }\n\n    .dataframe tbody tr th {\n        vertical-align: top;\n    }\n\n    .dataframe thead th {\n        text-align: right;\n    }\n</style>\n<table border=\"1\" class=\"dataframe\">\n  <thead>\n    <tr style=\"text-align: right;\">\n      <th></th>\n      <th>A</th>\n      <th>B</th>\n      <th>C</th>\n      <th>D</th>\n    </tr>\n  </thead>\n  <tbody>\n    <tr>\n      <th>b</th>\n      <td>7</td>\n      <td>5</td>\n      <td>8</td>\n      <td>5</td>\n    </tr>\n    <tr>\n      <th>d</th>\n      <td>4</td>\n      <td>9</td>\n      <td>3</td>\n      <td>2</td>\n    </tr>\n    <tr>\n      <th>e</th>\n      <td>5</td>\n      <td>2</td>\n      <td>4</td>\n      <td>8</td>\n    </tr>\n  </tbody>\n</table>\n</div>"
     },
     "execution_count": 45,
     "metadata": {},
     "output_type": "execute_result"
    }
   ],
   "source": [
    "df[[False,True,False,True,True,False]]"
   ],
   "metadata": {
    "collapsed": false,
    "pycharm": {
     "name": "#%%\n"
    }
   }
  },
  {
   "cell_type": "markdown",
   "source": [
    "# 数据对齐\n",
    "DataFrame 在进行数据计算时，会自动按行和列进行数据对齐。最终的计算结果会合并两个 DataFrame。\n"
   ],
   "metadata": {
    "collapsed": false,
    "pycharm": {
     "name": "#%% md\n"
    }
   }
  },
  {
   "cell_type": "code",
   "execution_count": 46,
   "outputs": [
    {
     "data": {
      "text/plain": "          A         B         C         D\na  0.025223 -1.045444 -0.417773  0.371423\nb  0.850921  0.394350 -0.413675 -0.025602\nc  2.675517 -1.806428  0.471473  0.419389\nd  1.021910  0.082197 -0.099722 -1.769934\ne -0.271311  0.175311  0.444270  0.928480\nf -0.011409 -0.305372  0.737511 -1.509894\ng  0.979489  0.800915 -0.839026 -1.876445\nh -0.726175 -0.481371 -2.622468 -1.059625\ni -2.555670 -0.491765  0.228877 -1.379855\nj  0.210447 -0.337041  0.678297  1.289777",
      "text/html": "<div>\n<style scoped>\n    .dataframe tbody tr th:only-of-type {\n        vertical-align: middle;\n    }\n\n    .dataframe tbody tr th {\n        vertical-align: top;\n    }\n\n    .dataframe thead th {\n        text-align: right;\n    }\n</style>\n<table border=\"1\" class=\"dataframe\">\n  <thead>\n    <tr style=\"text-align: right;\">\n      <th></th>\n      <th>A</th>\n      <th>B</th>\n      <th>C</th>\n      <th>D</th>\n    </tr>\n  </thead>\n  <tbody>\n    <tr>\n      <th>a</th>\n      <td>0.025223</td>\n      <td>-1.045444</td>\n      <td>-0.417773</td>\n      <td>0.371423</td>\n    </tr>\n    <tr>\n      <th>b</th>\n      <td>0.850921</td>\n      <td>0.394350</td>\n      <td>-0.413675</td>\n      <td>-0.025602</td>\n    </tr>\n    <tr>\n      <th>c</th>\n      <td>2.675517</td>\n      <td>-1.806428</td>\n      <td>0.471473</td>\n      <td>0.419389</td>\n    </tr>\n    <tr>\n      <th>d</th>\n      <td>1.021910</td>\n      <td>0.082197</td>\n      <td>-0.099722</td>\n      <td>-1.769934</td>\n    </tr>\n    <tr>\n      <th>e</th>\n      <td>-0.271311</td>\n      <td>0.175311</td>\n      <td>0.444270</td>\n      <td>0.928480</td>\n    </tr>\n    <tr>\n      <th>f</th>\n      <td>-0.011409</td>\n      <td>-0.305372</td>\n      <td>0.737511</td>\n      <td>-1.509894</td>\n    </tr>\n    <tr>\n      <th>g</th>\n      <td>0.979489</td>\n      <td>0.800915</td>\n      <td>-0.839026</td>\n      <td>-1.876445</td>\n    </tr>\n    <tr>\n      <th>h</th>\n      <td>-0.726175</td>\n      <td>-0.481371</td>\n      <td>-2.622468</td>\n      <td>-1.059625</td>\n    </tr>\n    <tr>\n      <th>i</th>\n      <td>-2.555670</td>\n      <td>-0.491765</td>\n      <td>0.228877</td>\n      <td>-1.379855</td>\n    </tr>\n    <tr>\n      <th>j</th>\n      <td>0.210447</td>\n      <td>-0.337041</td>\n      <td>0.678297</td>\n      <td>1.289777</td>\n    </tr>\n  </tbody>\n</table>\n</div>"
     },
     "execution_count": 46,
     "metadata": {},
     "output_type": "execute_result"
    }
   ],
   "source": [
    "df1 = pd.DataFrame(np.random.randn(10, 4), index=list('abcdefghij'), columns=['A', 'B', 'C', 'D'])\n",
    "df1"
   ],
   "metadata": {
    "collapsed": false,
    "pycharm": {
     "name": "#%%\n"
    }
   }
  },
  {
   "cell_type": "code",
   "execution_count": 47,
   "outputs": [
    {
     "data": {
      "text/plain": "          A         B         C\nc  1.187221  0.030246  1.190615\nd  1.766080 -0.686804  1.149836\ne -0.184424  2.312595 -0.765716\nf -1.573984  0.355354 -2.058031\ng  0.041023 -1.280107  0.278857\nh -0.448080 -0.254745  1.242555\ni -0.781409 -0.652909  0.196122",
      "text/html": "<div>\n<style scoped>\n    .dataframe tbody tr th:only-of-type {\n        vertical-align: middle;\n    }\n\n    .dataframe tbody tr th {\n        vertical-align: top;\n    }\n\n    .dataframe thead th {\n        text-align: right;\n    }\n</style>\n<table border=\"1\" class=\"dataframe\">\n  <thead>\n    <tr style=\"text-align: right;\">\n      <th></th>\n      <th>A</th>\n      <th>B</th>\n      <th>C</th>\n    </tr>\n  </thead>\n  <tbody>\n    <tr>\n      <th>c</th>\n      <td>1.187221</td>\n      <td>0.030246</td>\n      <td>1.190615</td>\n    </tr>\n    <tr>\n      <th>d</th>\n      <td>1.766080</td>\n      <td>-0.686804</td>\n      <td>1.149836</td>\n    </tr>\n    <tr>\n      <th>e</th>\n      <td>-0.184424</td>\n      <td>2.312595</td>\n      <td>-0.765716</td>\n    </tr>\n    <tr>\n      <th>f</th>\n      <td>-1.573984</td>\n      <td>0.355354</td>\n      <td>-2.058031</td>\n    </tr>\n    <tr>\n      <th>g</th>\n      <td>0.041023</td>\n      <td>-1.280107</td>\n      <td>0.278857</td>\n    </tr>\n    <tr>\n      <th>h</th>\n      <td>-0.448080</td>\n      <td>-0.254745</td>\n      <td>1.242555</td>\n    </tr>\n    <tr>\n      <th>i</th>\n      <td>-0.781409</td>\n      <td>-0.652909</td>\n      <td>0.196122</td>\n    </tr>\n  </tbody>\n</table>\n</div>"
     },
     "execution_count": 47,
     "metadata": {},
     "output_type": "execute_result"
    }
   ],
   "source": [
    "df2 = pd.DataFrame(np.random.randn(7, 3), index=list('cdefghi'), columns=['A', 'B', 'C'])\n",
    "df2\n",
    "\n"
   ],
   "metadata": {
    "collapsed": false,
    "pycharm": {
     "name": "#%%\n"
    }
   }
  },
  {
   "cell_type": "code",
   "execution_count": 48,
   "outputs": [
    {
     "data": {
      "text/plain": "          A         B         C   D\na       NaN       NaN       NaN NaN\nb       NaN       NaN       NaN NaN\nc  3.862738 -1.776183  1.662088 NaN\nd  2.787990 -0.604606  1.050113 NaN\ne -0.455735  2.487907 -0.321446 NaN\nf -1.585393  0.049982 -1.320519 NaN\ng  1.020513 -0.479192 -0.560170 NaN\nh -1.174255 -0.736117 -1.379913 NaN\ni -3.337079 -1.144675  0.424999 NaN\nj       NaN       NaN       NaN NaN",
      "text/html": "<div>\n<style scoped>\n    .dataframe tbody tr th:only-of-type {\n        vertical-align: middle;\n    }\n\n    .dataframe tbody tr th {\n        vertical-align: top;\n    }\n\n    .dataframe thead th {\n        text-align: right;\n    }\n</style>\n<table border=\"1\" class=\"dataframe\">\n  <thead>\n    <tr style=\"text-align: right;\">\n      <th></th>\n      <th>A</th>\n      <th>B</th>\n      <th>C</th>\n      <th>D</th>\n    </tr>\n  </thead>\n  <tbody>\n    <tr>\n      <th>a</th>\n      <td>NaN</td>\n      <td>NaN</td>\n      <td>NaN</td>\n      <td>NaN</td>\n    </tr>\n    <tr>\n      <th>b</th>\n      <td>NaN</td>\n      <td>NaN</td>\n      <td>NaN</td>\n      <td>NaN</td>\n    </tr>\n    <tr>\n      <th>c</th>\n      <td>3.862738</td>\n      <td>-1.776183</td>\n      <td>1.662088</td>\n      <td>NaN</td>\n    </tr>\n    <tr>\n      <th>d</th>\n      <td>2.787990</td>\n      <td>-0.604606</td>\n      <td>1.050113</td>\n      <td>NaN</td>\n    </tr>\n    <tr>\n      <th>e</th>\n      <td>-0.455735</td>\n      <td>2.487907</td>\n      <td>-0.321446</td>\n      <td>NaN</td>\n    </tr>\n    <tr>\n      <th>f</th>\n      <td>-1.585393</td>\n      <td>0.049982</td>\n      <td>-1.320519</td>\n      <td>NaN</td>\n    </tr>\n    <tr>\n      <th>g</th>\n      <td>1.020513</td>\n      <td>-0.479192</td>\n      <td>-0.560170</td>\n      <td>NaN</td>\n    </tr>\n    <tr>\n      <th>h</th>\n      <td>-1.174255</td>\n      <td>-0.736117</td>\n      <td>-1.379913</td>\n      <td>NaN</td>\n    </tr>\n    <tr>\n      <th>i</th>\n      <td>-3.337079</td>\n      <td>-1.144675</td>\n      <td>0.424999</td>\n      <td>NaN</td>\n    </tr>\n    <tr>\n      <th>j</th>\n      <td>NaN</td>\n      <td>NaN</td>\n      <td>NaN</td>\n      <td>NaN</td>\n    </tr>\n  </tbody>\n</table>\n</div>"
     },
     "execution_count": 48,
     "metadata": {},
     "output_type": "execute_result"
    }
   ],
   "source": [
    "df1+df2"
   ],
   "metadata": {
    "collapsed": false,
    "pycharm": {
     "name": "#%%\n"
    }
   }
  },
  {
   "cell_type": "code",
   "execution_count": 49,
   "outputs": [
    {
     "data": {
      "text/plain": "          A         B         C         D\na  0.000000  0.000000  0.000000  0.000000\nb  0.825698  1.439794  0.004098 -0.397025\nc  2.650294 -0.760984  0.889246  0.047966\nd  0.996687  1.127641  0.318051 -2.141357\ne -0.296534  1.220755  0.862043  0.557057\nf -0.036632  0.740072  1.155285 -1.881316\ng  0.954266  1.846358 -0.421253 -2.247867\nh -0.751398  0.564072 -2.204694 -1.431048\ni -2.580893  0.553679  0.646650 -1.751278\nj  0.185224  0.708402  1.096070  0.918354",
      "text/html": "<div>\n<style scoped>\n    .dataframe tbody tr th:only-of-type {\n        vertical-align: middle;\n    }\n\n    .dataframe tbody tr th {\n        vertical-align: top;\n    }\n\n    .dataframe thead th {\n        text-align: right;\n    }\n</style>\n<table border=\"1\" class=\"dataframe\">\n  <thead>\n    <tr style=\"text-align: right;\">\n      <th></th>\n      <th>A</th>\n      <th>B</th>\n      <th>C</th>\n      <th>D</th>\n    </tr>\n  </thead>\n  <tbody>\n    <tr>\n      <th>a</th>\n      <td>0.000000</td>\n      <td>0.000000</td>\n      <td>0.000000</td>\n      <td>0.000000</td>\n    </tr>\n    <tr>\n      <th>b</th>\n      <td>0.825698</td>\n      <td>1.439794</td>\n      <td>0.004098</td>\n      <td>-0.397025</td>\n    </tr>\n    <tr>\n      <th>c</th>\n      <td>2.650294</td>\n      <td>-0.760984</td>\n      <td>0.889246</td>\n      <td>0.047966</td>\n    </tr>\n    <tr>\n      <th>d</th>\n      <td>0.996687</td>\n      <td>1.127641</td>\n      <td>0.318051</td>\n      <td>-2.141357</td>\n    </tr>\n    <tr>\n      <th>e</th>\n      <td>-0.296534</td>\n      <td>1.220755</td>\n      <td>0.862043</td>\n      <td>0.557057</td>\n    </tr>\n    <tr>\n      <th>f</th>\n      <td>-0.036632</td>\n      <td>0.740072</td>\n      <td>1.155285</td>\n      <td>-1.881316</td>\n    </tr>\n    <tr>\n      <th>g</th>\n      <td>0.954266</td>\n      <td>1.846358</td>\n      <td>-0.421253</td>\n      <td>-2.247867</td>\n    </tr>\n    <tr>\n      <th>h</th>\n      <td>-0.751398</td>\n      <td>0.564072</td>\n      <td>-2.204694</td>\n      <td>-1.431048</td>\n    </tr>\n    <tr>\n      <th>i</th>\n      <td>-2.580893</td>\n      <td>0.553679</td>\n      <td>0.646650</td>\n      <td>-1.751278</td>\n    </tr>\n    <tr>\n      <th>j</th>\n      <td>0.185224</td>\n      <td>0.708402</td>\n      <td>1.096070</td>\n      <td>0.918354</td>\n    </tr>\n  </tbody>\n</table>\n</div>"
     },
     "execution_count": 49,
     "metadata": {},
     "output_type": "execute_result"
    }
   ],
   "source": [
    "df1- df1.iloc[0]"
   ],
   "metadata": {
    "collapsed": false,
    "pycharm": {
     "name": "#%%\n"
    }
   }
  },
  {
   "cell_type": "markdown",
   "source": [
    "# 使用numpy函数\n"
   ],
   "metadata": {
    "collapsed": false,
    "pycharm": {
     "name": "#%% md\n"
    }
   }
  },
  {
   "cell_type": "code",
   "execution_count": 50,
   "outputs": [
    {
     "data": {
      "text/plain": "        one       two     three      four\n0 -0.187557 -0.197274 -1.019984  0.388258\n1  0.839656  1.476997  0.719181  1.545046\n2 -0.405529  1.212363  0.248773  0.026924\n3 -0.940333 -1.025381  0.336969  0.755469\n4  0.144525 -0.012411 -0.482070  1.893578\n5 -0.948299  0.694397  0.115759 -0.587998\n6 -0.480368  1.089048  2.493533 -1.053460\n7 -0.655343  0.602504  0.454453  0.803756\n8 -0.755817  0.557875 -1.091183  0.608781\n9 -0.626020  0.715124  1.247618 -0.437698",
      "text/html": "<div>\n<style scoped>\n    .dataframe tbody tr th:only-of-type {\n        vertical-align: middle;\n    }\n\n    .dataframe tbody tr th {\n        vertical-align: top;\n    }\n\n    .dataframe thead th {\n        text-align: right;\n    }\n</style>\n<table border=\"1\" class=\"dataframe\">\n  <thead>\n    <tr style=\"text-align: right;\">\n      <th></th>\n      <th>one</th>\n      <th>two</th>\n      <th>three</th>\n      <th>four</th>\n    </tr>\n  </thead>\n  <tbody>\n    <tr>\n      <th>0</th>\n      <td>-0.187557</td>\n      <td>-0.197274</td>\n      <td>-1.019984</td>\n      <td>0.388258</td>\n    </tr>\n    <tr>\n      <th>1</th>\n      <td>0.839656</td>\n      <td>1.476997</td>\n      <td>0.719181</td>\n      <td>1.545046</td>\n    </tr>\n    <tr>\n      <th>2</th>\n      <td>-0.405529</td>\n      <td>1.212363</td>\n      <td>0.248773</td>\n      <td>0.026924</td>\n    </tr>\n    <tr>\n      <th>3</th>\n      <td>-0.940333</td>\n      <td>-1.025381</td>\n      <td>0.336969</td>\n      <td>0.755469</td>\n    </tr>\n    <tr>\n      <th>4</th>\n      <td>0.144525</td>\n      <td>-0.012411</td>\n      <td>-0.482070</td>\n      <td>1.893578</td>\n    </tr>\n    <tr>\n      <th>5</th>\n      <td>-0.948299</td>\n      <td>0.694397</td>\n      <td>0.115759</td>\n      <td>-0.587998</td>\n    </tr>\n    <tr>\n      <th>6</th>\n      <td>-0.480368</td>\n      <td>1.089048</td>\n      <td>2.493533</td>\n      <td>-1.053460</td>\n    </tr>\n    <tr>\n      <th>7</th>\n      <td>-0.655343</td>\n      <td>0.602504</td>\n      <td>0.454453</td>\n      <td>0.803756</td>\n    </tr>\n    <tr>\n      <th>8</th>\n      <td>-0.755817</td>\n      <td>0.557875</td>\n      <td>-1.091183</td>\n      <td>0.608781</td>\n    </tr>\n    <tr>\n      <th>9</th>\n      <td>-0.626020</td>\n      <td>0.715124</td>\n      <td>1.247618</td>\n      <td>-0.437698</td>\n    </tr>\n  </tbody>\n</table>\n</div>"
     },
     "execution_count": 50,
     "metadata": {},
     "output_type": "execute_result"
    }
   ],
   "source": [
    "df = pd.DataFrame(np.random.randn(10, 4), columns=['one', 'two', 'three', 'four'])\n",
    "df"
   ],
   "metadata": {
    "collapsed": false,
    "pycharm": {
     "name": "#%%\n"
    }
   }
  },
  {
   "cell_type": "code",
   "execution_count": 51,
   "outputs": [
    {
     "data": {
      "text/plain": "        one       two      three      four\n0  0.828982  0.820966   0.360601  1.474410\n1  2.315570  4.379776   2.052751  4.688188\n2  0.666624  3.361418   1.282451  1.027289\n3  0.390498  0.358660   1.400696  2.128609\n4  1.155491  0.987665   0.617504  6.643094\n5  0.387399  2.002501   1.122725  0.555438\n6  0.618556  2.971442  12.103959  0.348729\n7  0.519264  1.826688   1.575312  2.233916\n8  0.469627  1.746955   0.335819  1.838189\n9  0.534716  2.044441   3.482040  0.645521",
      "text/html": "<div>\n<style scoped>\n    .dataframe tbody tr th:only-of-type {\n        vertical-align: middle;\n    }\n\n    .dataframe tbody tr th {\n        vertical-align: top;\n    }\n\n    .dataframe thead th {\n        text-align: right;\n    }\n</style>\n<table border=\"1\" class=\"dataframe\">\n  <thead>\n    <tr style=\"text-align: right;\">\n      <th></th>\n      <th>one</th>\n      <th>two</th>\n      <th>three</th>\n      <th>four</th>\n    </tr>\n  </thead>\n  <tbody>\n    <tr>\n      <th>0</th>\n      <td>0.828982</td>\n      <td>0.820966</td>\n      <td>0.360601</td>\n      <td>1.474410</td>\n    </tr>\n    <tr>\n      <th>1</th>\n      <td>2.315570</td>\n      <td>4.379776</td>\n      <td>2.052751</td>\n      <td>4.688188</td>\n    </tr>\n    <tr>\n      <th>2</th>\n      <td>0.666624</td>\n      <td>3.361418</td>\n      <td>1.282451</td>\n      <td>1.027289</td>\n    </tr>\n    <tr>\n      <th>3</th>\n      <td>0.390498</td>\n      <td>0.358660</td>\n      <td>1.400696</td>\n      <td>2.128609</td>\n    </tr>\n    <tr>\n      <th>4</th>\n      <td>1.155491</td>\n      <td>0.987665</td>\n      <td>0.617504</td>\n      <td>6.643094</td>\n    </tr>\n    <tr>\n      <th>5</th>\n      <td>0.387399</td>\n      <td>2.002501</td>\n      <td>1.122725</td>\n      <td>0.555438</td>\n    </tr>\n    <tr>\n      <th>6</th>\n      <td>0.618556</td>\n      <td>2.971442</td>\n      <td>12.103959</td>\n      <td>0.348729</td>\n    </tr>\n    <tr>\n      <th>7</th>\n      <td>0.519264</td>\n      <td>1.826688</td>\n      <td>1.575312</td>\n      <td>2.233916</td>\n    </tr>\n    <tr>\n      <th>8</th>\n      <td>0.469627</td>\n      <td>1.746955</td>\n      <td>0.335819</td>\n      <td>1.838189</td>\n    </tr>\n    <tr>\n      <th>9</th>\n      <td>0.534716</td>\n      <td>2.044441</td>\n      <td>3.482040</td>\n      <td>0.645521</td>\n    </tr>\n  </tbody>\n</table>\n</div>"
     },
     "execution_count": 51,
     "metadata": {},
     "output_type": "execute_result"
    }
   ],
   "source": [
    "np.exp(df)"
   ],
   "metadata": {
    "collapsed": false,
    "pycharm": {
     "name": "#%%\n"
    }
   }
  },
  {
   "cell_type": "code",
   "execution_count": 52,
   "outputs": [
    {
     "data": {
      "text/plain": "array([[-0.18755673, -0.19727383, -1.01998371,  0.38825781],\n       [ 0.83965579,  1.47699748,  0.71918094,  1.54504622],\n       [-0.40552948,  1.21236294,  0.24877285,  0.02692372],\n       [-0.94033305, -1.02538134,  0.33696916,  0.75546875],\n       [ 0.14452519, -0.0124115 , -0.48207009,  1.89357775],\n       [-0.94829938,  0.69439676,  0.11575862, -0.58799799],\n       [-0.48036825,  1.08904751,  2.49353258, -1.05345986],\n       [-0.65534349,  0.60250439,  0.45445321,  0.80375603],\n       [-0.75581723,  0.55787452, -1.09118272,  0.6087808 ],\n       [-0.62601975,  0.71512426,  1.24761823, -0.43769757]])"
     },
     "execution_count": 52,
     "metadata": {},
     "output_type": "execute_result"
    }
   ],
   "source": [
    "df.values"
   ],
   "metadata": {
    "collapsed": false,
    "pycharm": {
     "name": "#%%\n"
    }
   }
  },
  {
   "cell_type": "code",
   "execution_count": 53,
   "outputs": [
    {
     "data": {
      "text/plain": "array([[ True,  True,  True,  True],\n       [ True,  True,  True,  True],\n       [ True,  True,  True,  True],\n       [ True,  True,  True,  True],\n       [ True,  True,  True,  True],\n       [ True,  True,  True,  True],\n       [ True,  True,  True,  True],\n       [ True,  True,  True,  True],\n       [ True,  True,  True,  True],\n       [ True,  True,  True,  True]])"
     },
     "execution_count": 53,
     "metadata": {},
     "output_type": "execute_result"
    }
   ],
   "source": [
    "np.asarray(df) == df.values"
   ],
   "metadata": {
    "collapsed": false,
    "pycharm": {
     "name": "#%%\n"
    }
   }
  },
  {
   "cell_type": "code",
   "execution_count": 54,
   "outputs": [
    {
     "name": "stdout",
     "output_type": "stream",
     "text": [
      "<class 'numpy.ndarray'>\n",
      "<class 'numpy.ndarray'>\n"
     ]
    }
   ],
   "source": [
    "print(type(np.asarray(df)))\n",
    "print(type(df.values))"
   ],
   "metadata": {
    "collapsed": false,
    "pycharm": {
     "name": "#%%\n"
    }
   }
  },
  {
   "cell_type": "code",
   "execution_count": 55,
   "outputs": [
    {
     "data": {
      "text/plain": "    one   two  three  four\n0  True  True   True  True\n1  True  True   True  True\n2  True  True   True  True\n3  True  True   True  True\n4  True  True   True  True\n5  True  True   True  True\n6  True  True   True  True\n7  True  True   True  True\n8  True  True   True  True\n9  True  True   True  True",
      "text/html": "<div>\n<style scoped>\n    .dataframe tbody tr th:only-of-type {\n        vertical-align: middle;\n    }\n\n    .dataframe tbody tr th {\n        vertical-align: top;\n    }\n\n    .dataframe thead th {\n        text-align: right;\n    }\n</style>\n<table border=\"1\" class=\"dataframe\">\n  <thead>\n    <tr style=\"text-align: right;\">\n      <th></th>\n      <th>one</th>\n      <th>two</th>\n      <th>three</th>\n      <th>four</th>\n    </tr>\n  </thead>\n  <tbody>\n    <tr>\n      <th>0</th>\n      <td>True</td>\n      <td>True</td>\n      <td>True</td>\n      <td>True</td>\n    </tr>\n    <tr>\n      <th>1</th>\n      <td>True</td>\n      <td>True</td>\n      <td>True</td>\n      <td>True</td>\n    </tr>\n    <tr>\n      <th>2</th>\n      <td>True</td>\n      <td>True</td>\n      <td>True</td>\n      <td>True</td>\n    </tr>\n    <tr>\n      <th>3</th>\n      <td>True</td>\n      <td>True</td>\n      <td>True</td>\n      <td>True</td>\n    </tr>\n    <tr>\n      <th>4</th>\n      <td>True</td>\n      <td>True</td>\n      <td>True</td>\n      <td>True</td>\n    </tr>\n    <tr>\n      <th>5</th>\n      <td>True</td>\n      <td>True</td>\n      <td>True</td>\n      <td>True</td>\n    </tr>\n    <tr>\n      <th>6</th>\n      <td>True</td>\n      <td>True</td>\n      <td>True</td>\n      <td>True</td>\n    </tr>\n    <tr>\n      <th>7</th>\n      <td>True</td>\n      <td>True</td>\n      <td>True</td>\n      <td>True</td>\n    </tr>\n    <tr>\n      <th>8</th>\n      <td>True</td>\n      <td>True</td>\n      <td>True</td>\n      <td>True</td>\n    </tr>\n    <tr>\n      <th>9</th>\n      <td>True</td>\n      <td>True</td>\n      <td>True</td>\n      <td>True</td>\n    </tr>\n  </tbody>\n</table>\n</div>"
     },
     "execution_count": 55,
     "metadata": {},
     "output_type": "execute_result"
    }
   ],
   "source": [
    "np.asarray(df) == df"
   ],
   "metadata": {
    "collapsed": false,
    "pycharm": {
     "name": "#%%\n"
    }
   }
  },
  {
   "cell_type": "code",
   "execution_count": 56,
   "outputs": [
    {
     "name": "stdout",
     "output_type": "stream",
     "text": [
      "<class 'pandas.core.series.Series'>\n"
     ]
    }
   ],
   "source": [
    "df.one\n",
    "print(type(df.one))"
   ],
   "metadata": {
    "collapsed": false,
    "pycharm": {
     "name": "#%%\n"
    }
   }
  },
  {
   "cell_type": "markdown",
   "source": [
    "# Panel（已移除）\n",
    "三维带标签的数组。实际上，Pandas 的名称由来就是由 Panel 演进的，即 pan(el)-da(ta)-s。Panel 比较少用，但依然是最重要的基础数据结构之一。\n",
    "\n",
    "* items: 坐标轴 0，索引对应的元素是一个 DataFrame\n",
    "* major_axis: 坐标轴 1, DataFrame 里的行标签\n",
    "* minor_axis: 坐标轴 2, DataFrame 里的列标签"
   ],
   "metadata": {
    "collapsed": false,
    "pycharm": {
     "name": "#%% md\n"
    }
   }
  },
  {
   "cell_type": "code",
   "execution_count": 57,
   "outputs": [
    {
     "data": {
      "text/plain": "{'Item1':           0         1         2\n 0 -0.238616 -0.929232  1.021262\n 1  1.402642  0.514837 -0.356546\n 2  2.133046  0.080600 -1.253659\n 3  0.753965  0.851323 -0.960841,\n 'Item2':           0         1\n 0 -0.762238 -1.217875\n 1  1.822522 -1.027137\n 2 -0.983389 -1.459650\n 3 -0.056314  0.244090}"
     },
     "execution_count": 57,
     "metadata": {},
     "output_type": "execute_result"
    }
   ],
   "source": [
    "data = {'Item1' : pd.DataFrame(np.random.randn(4, 3)),\n",
    "        'Item2' : pd.DataFrame(np.random.randn(4, 2))}\n",
    "data"
   ],
   "metadata": {
    "collapsed": false,
    "pycharm": {
     "name": "#%%\n"
    }
   }
  },
  {
   "cell_type": "code",
   "execution_count": 58,
   "outputs": [
    {
     "name": "stderr",
     "output_type": "stream",
     "text": [
      "/Library/Frameworks/Python.framework/Versions/3.7/lib/python3.7/site-packages/ipykernel_launcher.py:1: FutureWarning: The Panel class is removed from pandas. Accessing it from the top-level namespace will also be removed in the next version\n",
      "  \"\"\"Entry point for launching an IPython kernel.\n"
     ]
    },
    {
     "ename": "TypeError",
     "evalue": "Panel() takes no arguments",
     "output_type": "error",
     "traceback": [
      "\u001B[0;31m---------------------------------------------------------------------------\u001B[0m",
      "\u001B[0;31mTypeError\u001B[0m                                 Traceback (most recent call last)",
      "\u001B[0;32m<ipython-input-58-2c57910dd9d7>\u001B[0m in \u001B[0;36m<module>\u001B[0;34m\u001B[0m\n\u001B[0;32m----> 1\u001B[0;31m \u001B[0mpn\u001B[0m \u001B[0;34m=\u001B[0m \u001B[0mpd\u001B[0m\u001B[0;34m.\u001B[0m\u001B[0mPanel\u001B[0m\u001B[0;34m(\u001B[0m\u001B[0mdata\u001B[0m\u001B[0;34m)\u001B[0m\u001B[0;34m\u001B[0m\u001B[0;34m\u001B[0m\u001B[0m\n\u001B[0m\u001B[1;32m      2\u001B[0m \u001B[0mpn\u001B[0m\u001B[0;34m\u001B[0m\u001B[0;34m\u001B[0m\u001B[0m\n\u001B[1;32m      3\u001B[0m \u001B[0;34m\u001B[0m\u001B[0m\n",
      "\u001B[0;31mTypeError\u001B[0m: Panel() takes no arguments"
     ]
    }
   ],
   "source": [
    "pn = pd.Panel(data)\n",
    "pn"
   ],
   "metadata": {
    "collapsed": false,
    "pycharm": {
     "name": "#%%\n"
    }
   }
  },
  {
   "cell_type": "code",
   "execution_count": null,
   "outputs": [],
   "source": [
    "\n"
   ],
   "metadata": {
    "collapsed": false,
    "pycharm": {
     "name": "#%%\n"
    }
   }
  }
 ],
 "metadata": {
  "kernelspec": {
   "name": "pycharm-2bc0cf0c",
   "language": "python",
   "display_name": "PyCharm (mywork)"
  },
  "language_info": {
   "codemirror_mode": {
    "name": "ipython",
    "version": 2
   },
   "file_extension": ".py",
   "mimetype": "text/x-python",
   "name": "python",
   "nbconvert_exporter": "python",
   "pygments_lexer": "ipython2",
   "version": "2.7.6"
  }
 },
 "nbformat": 4,
 "nbformat_minor": 0
}