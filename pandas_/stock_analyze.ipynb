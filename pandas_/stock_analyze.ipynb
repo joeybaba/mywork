{
 "cells": [
  {
   "cell_type": "code",
   "execution_count": 15,
   "metadata": {
    "collapsed": true
   },
   "outputs": [],
   "source": [
    "%matplotlib inline\n",
    "import pandas as pd\n",
    "import numpy as np\n",
    "import os\n",
    "import matplotlib.pyplot as plt"
   ]
  },
  {
   "cell_type": "markdown",
   "source": [
    "# 股票数据分析\n",
    "##分析数据幅度\n"
   ],
   "metadata": {
    "collapsed": false,
    "pycharm": {
     "name": "#%% md\n"
    }
   }
  },
  {
   "cell_type": "code",
   "execution_count": 16,
   "outputs": [
    {
     "data": {
      "text/plain": "'/Users/joey/PycharmProjects/mywork/Pandas'"
     },
     "execution_count": 16,
     "metadata": {},
     "output_type": "execute_result"
    }
   ],
   "source": [
    "%pwd"
   ],
   "metadata": {
    "collapsed": false,
    "pycharm": {
     "name": "#%%\n"
    }
   }
  },
  {
   "cell_type": "code",
   "execution_count": 17,
   "outputs": [
    {
     "data": {
      "text/plain": "             Open   High    Low  Close    Volume  Adj Close\nDate                                                       \n2015-12-22  16.86  17.13  16.48  16.95  13519900      16.95\n2015-12-21  16.31  17.00  16.20  16.85  14132200      16.85\n2015-12-18  16.59  16.70  16.21  16.31  10524300      16.31\n2015-12-17  16.28  16.75  16.16  16.60  12326500      16.60\n2015-12-16  16.23  16.42  16.05  16.28   8026000      16.28\n2015-12-15  16.06  16.31  15.95  16.18   6647500      16.18\n2015-12-14  15.60  16.06  15.45  16.06   8355200      16.06\n2015-12-11  15.50  15.80  15.41  15.62   7243500      15.62\n2015-12-10  15.99  16.05  15.51  15.56   7654900      15.56\n2015-12-09  16.00  16.19  15.80  15.83   7926900      15.83\n2015-12-08  16.54  16.55  16.01  16.05   7640100      16.05\n2015-12-07  16.50  17.04  16.48  16.63  11917200      16.63\n2015-12-04  16.13  16.85  16.01  16.62  14011100      16.62\n2015-12-03  15.97  16.34  15.88  16.21   9504000      16.21\n2015-12-02  15.89  16.04  15.50  15.88  11229600      15.88\n2015-12-01  15.67  15.96  15.50  15.85   7192200      15.85\n2015-11-30  15.54  15.90  15.05  15.70  11615200      15.70\n2015-11-27  16.61  16.99  15.10  15.54  15177000      15.54\n2015-11-26  16.98  17.22  16.62  16.78  13196300      16.78\n2015-11-25  16.15  17.04  16.03  16.94  18600100      16.94\n2015-11-24  15.90  16.20  15.70  16.15   8561200      16.15\n2015-11-23  16.09  16.32  16.00  16.05   9441700      16.05\n2015-11-20  15.96  16.17  15.81  16.08   8022200      16.08\n2015-11-19  15.75  16.05  15.71  16.02   5193300      16.02\n2015-11-18  16.26  16.30  15.72  15.75   7318500      15.75\n2015-11-17  16.41  16.47  16.11  16.22  11479800      16.22\n2015-11-16  15.70  16.22  15.61  16.21   9083200      16.21\n2015-11-13  16.36  16.47  15.90  15.95  12924400      15.95\n2015-11-12  16.23  16.92  16.00  16.59  16492800      16.59\n2015-11-11  16.16  16.28  15.81  16.22  15661900      16.22\n2015-11-10  16.29  16.69  16.04  16.15  21457600      16.15\n2015-11-09  15.70  16.29  15.56  16.02  20842600      16.02\n2015-11-06  15.53  16.01  15.41  15.86  17735800      15.86\n2015-11-05  15.33  15.79  15.21  15.52  19051400      15.52\n2015-11-04  14.65  15.35  14.65  15.33  14578200      15.33\n2015-11-03  14.84  14.96  14.44  14.62   6576300      14.62\n2015-11-02  14.91  15.18  14.74  14.74   9487800      14.74\n2015-10-30  15.25  15.52  14.81  15.22  12908500      15.22\n2015-10-29  15.01  15.36  14.96  15.30  11177100      15.30\n2015-10-28  15.14  15.50  14.96  15.02  11373200      15.02\n2015-10-27  15.10  15.17  14.51  15.15  12950400      15.15\n2015-10-26  15.41  15.55  14.87  15.18  15844500      15.18\n2015-10-23  14.80  15.23  14.75  15.20  14769000      15.20\n2015-10-22  14.28  14.82  14.25  14.73  10428900      14.73\n2015-10-21  15.24  15.70  14.08  14.26  21113500      14.26\n2015-10-20  14.99  15.24  14.89  15.22  11935800      15.22\n2015-10-19  15.27  15.35  14.85  15.03  11601300      15.03\n2015-10-16  15.23  15.35  14.82  15.25  14168700      15.25\n2015-10-15  14.73  15.15  14.60  15.12  11177700      15.12\n2015-10-14  14.99  15.12  14.72  14.73  10368900      14.73\n2015-10-13  15.02  15.19  14.85  15.07  13408200      15.07\n2015-10-12  14.63  15.43  14.41  15.30  24110800      15.30\n2015-10-09  14.50  14.79  14.11  14.62  23818500      14.62\n2015-10-08  14.75  14.75  14.65  14.75  18317200      14.75\n2015-10-07  13.41  13.41  13.41  13.41         0      13.41\n2015-10-06  13.41  13.41  13.41  13.41         0      13.41\n2015-10-05  13.41  13.41  13.41  13.41         0      13.41\n2015-10-02  13.41  13.41  13.41  13.41         0      13.41\n2015-10-01  13.41  13.41  13.41  13.41         0      13.41",
      "text/html": "<div>\n<style scoped>\n    .dataframe tbody tr th:only-of-type {\n        vertical-align: middle;\n    }\n\n    .dataframe tbody tr th {\n        vertical-align: top;\n    }\n\n    .dataframe thead th {\n        text-align: right;\n    }\n</style>\n<table border=\"1\" class=\"dataframe\">\n  <thead>\n    <tr style=\"text-align: right;\">\n      <th></th>\n      <th>Open</th>\n      <th>High</th>\n      <th>Low</th>\n      <th>Close</th>\n      <th>Volume</th>\n      <th>Adj Close</th>\n    </tr>\n    <tr>\n      <th>Date</th>\n      <th></th>\n      <th></th>\n      <th></th>\n      <th></th>\n      <th></th>\n      <th></th>\n    </tr>\n  </thead>\n  <tbody>\n    <tr>\n      <th>2015-12-22</th>\n      <td>16.86</td>\n      <td>17.13</td>\n      <td>16.48</td>\n      <td>16.95</td>\n      <td>13519900</td>\n      <td>16.95</td>\n    </tr>\n    <tr>\n      <th>2015-12-21</th>\n      <td>16.31</td>\n      <td>17.00</td>\n      <td>16.20</td>\n      <td>16.85</td>\n      <td>14132200</td>\n      <td>16.85</td>\n    </tr>\n    <tr>\n      <th>2015-12-18</th>\n      <td>16.59</td>\n      <td>16.70</td>\n      <td>16.21</td>\n      <td>16.31</td>\n      <td>10524300</td>\n      <td>16.31</td>\n    </tr>\n    <tr>\n      <th>2015-12-17</th>\n      <td>16.28</td>\n      <td>16.75</td>\n      <td>16.16</td>\n      <td>16.60</td>\n      <td>12326500</td>\n      <td>16.60</td>\n    </tr>\n    <tr>\n      <th>2015-12-16</th>\n      <td>16.23</td>\n      <td>16.42</td>\n      <td>16.05</td>\n      <td>16.28</td>\n      <td>8026000</td>\n      <td>16.28</td>\n    </tr>\n    <tr>\n      <th>2015-12-15</th>\n      <td>16.06</td>\n      <td>16.31</td>\n      <td>15.95</td>\n      <td>16.18</td>\n      <td>6647500</td>\n      <td>16.18</td>\n    </tr>\n    <tr>\n      <th>2015-12-14</th>\n      <td>15.60</td>\n      <td>16.06</td>\n      <td>15.45</td>\n      <td>16.06</td>\n      <td>8355200</td>\n      <td>16.06</td>\n    </tr>\n    <tr>\n      <th>2015-12-11</th>\n      <td>15.50</td>\n      <td>15.80</td>\n      <td>15.41</td>\n      <td>15.62</td>\n      <td>7243500</td>\n      <td>15.62</td>\n    </tr>\n    <tr>\n      <th>2015-12-10</th>\n      <td>15.99</td>\n      <td>16.05</td>\n      <td>15.51</td>\n      <td>15.56</td>\n      <td>7654900</td>\n      <td>15.56</td>\n    </tr>\n    <tr>\n      <th>2015-12-09</th>\n      <td>16.00</td>\n      <td>16.19</td>\n      <td>15.80</td>\n      <td>15.83</td>\n      <td>7926900</td>\n      <td>15.83</td>\n    </tr>\n    <tr>\n      <th>2015-12-08</th>\n      <td>16.54</td>\n      <td>16.55</td>\n      <td>16.01</td>\n      <td>16.05</td>\n      <td>7640100</td>\n      <td>16.05</td>\n    </tr>\n    <tr>\n      <th>2015-12-07</th>\n      <td>16.50</td>\n      <td>17.04</td>\n      <td>16.48</td>\n      <td>16.63</td>\n      <td>11917200</td>\n      <td>16.63</td>\n    </tr>\n    <tr>\n      <th>2015-12-04</th>\n      <td>16.13</td>\n      <td>16.85</td>\n      <td>16.01</td>\n      <td>16.62</td>\n      <td>14011100</td>\n      <td>16.62</td>\n    </tr>\n    <tr>\n      <th>2015-12-03</th>\n      <td>15.97</td>\n      <td>16.34</td>\n      <td>15.88</td>\n      <td>16.21</td>\n      <td>9504000</td>\n      <td>16.21</td>\n    </tr>\n    <tr>\n      <th>2015-12-02</th>\n      <td>15.89</td>\n      <td>16.04</td>\n      <td>15.50</td>\n      <td>15.88</td>\n      <td>11229600</td>\n      <td>15.88</td>\n    </tr>\n    <tr>\n      <th>2015-12-01</th>\n      <td>15.67</td>\n      <td>15.96</td>\n      <td>15.50</td>\n      <td>15.85</td>\n      <td>7192200</td>\n      <td>15.85</td>\n    </tr>\n    <tr>\n      <th>2015-11-30</th>\n      <td>15.54</td>\n      <td>15.90</td>\n      <td>15.05</td>\n      <td>15.70</td>\n      <td>11615200</td>\n      <td>15.70</td>\n    </tr>\n    <tr>\n      <th>2015-11-27</th>\n      <td>16.61</td>\n      <td>16.99</td>\n      <td>15.10</td>\n      <td>15.54</td>\n      <td>15177000</td>\n      <td>15.54</td>\n    </tr>\n    <tr>\n      <th>2015-11-26</th>\n      <td>16.98</td>\n      <td>17.22</td>\n      <td>16.62</td>\n      <td>16.78</td>\n      <td>13196300</td>\n      <td>16.78</td>\n    </tr>\n    <tr>\n      <th>2015-11-25</th>\n      <td>16.15</td>\n      <td>17.04</td>\n      <td>16.03</td>\n      <td>16.94</td>\n      <td>18600100</td>\n      <td>16.94</td>\n    </tr>\n    <tr>\n      <th>2015-11-24</th>\n      <td>15.90</td>\n      <td>16.20</td>\n      <td>15.70</td>\n      <td>16.15</td>\n      <td>8561200</td>\n      <td>16.15</td>\n    </tr>\n    <tr>\n      <th>2015-11-23</th>\n      <td>16.09</td>\n      <td>16.32</td>\n      <td>16.00</td>\n      <td>16.05</td>\n      <td>9441700</td>\n      <td>16.05</td>\n    </tr>\n    <tr>\n      <th>2015-11-20</th>\n      <td>15.96</td>\n      <td>16.17</td>\n      <td>15.81</td>\n      <td>16.08</td>\n      <td>8022200</td>\n      <td>16.08</td>\n    </tr>\n    <tr>\n      <th>2015-11-19</th>\n      <td>15.75</td>\n      <td>16.05</td>\n      <td>15.71</td>\n      <td>16.02</td>\n      <td>5193300</td>\n      <td>16.02</td>\n    </tr>\n    <tr>\n      <th>2015-11-18</th>\n      <td>16.26</td>\n      <td>16.30</td>\n      <td>15.72</td>\n      <td>15.75</td>\n      <td>7318500</td>\n      <td>15.75</td>\n    </tr>\n    <tr>\n      <th>2015-11-17</th>\n      <td>16.41</td>\n      <td>16.47</td>\n      <td>16.11</td>\n      <td>16.22</td>\n      <td>11479800</td>\n      <td>16.22</td>\n    </tr>\n    <tr>\n      <th>2015-11-16</th>\n      <td>15.70</td>\n      <td>16.22</td>\n      <td>15.61</td>\n      <td>16.21</td>\n      <td>9083200</td>\n      <td>16.21</td>\n    </tr>\n    <tr>\n      <th>2015-11-13</th>\n      <td>16.36</td>\n      <td>16.47</td>\n      <td>15.90</td>\n      <td>15.95</td>\n      <td>12924400</td>\n      <td>15.95</td>\n    </tr>\n    <tr>\n      <th>2015-11-12</th>\n      <td>16.23</td>\n      <td>16.92</td>\n      <td>16.00</td>\n      <td>16.59</td>\n      <td>16492800</td>\n      <td>16.59</td>\n    </tr>\n    <tr>\n      <th>2015-11-11</th>\n      <td>16.16</td>\n      <td>16.28</td>\n      <td>15.81</td>\n      <td>16.22</td>\n      <td>15661900</td>\n      <td>16.22</td>\n    </tr>\n    <tr>\n      <th>2015-11-10</th>\n      <td>16.29</td>\n      <td>16.69</td>\n      <td>16.04</td>\n      <td>16.15</td>\n      <td>21457600</td>\n      <td>16.15</td>\n    </tr>\n    <tr>\n      <th>2015-11-09</th>\n      <td>15.70</td>\n      <td>16.29</td>\n      <td>15.56</td>\n      <td>16.02</td>\n      <td>20842600</td>\n      <td>16.02</td>\n    </tr>\n    <tr>\n      <th>2015-11-06</th>\n      <td>15.53</td>\n      <td>16.01</td>\n      <td>15.41</td>\n      <td>15.86</td>\n      <td>17735800</td>\n      <td>15.86</td>\n    </tr>\n    <tr>\n      <th>2015-11-05</th>\n      <td>15.33</td>\n      <td>15.79</td>\n      <td>15.21</td>\n      <td>15.52</td>\n      <td>19051400</td>\n      <td>15.52</td>\n    </tr>\n    <tr>\n      <th>2015-11-04</th>\n      <td>14.65</td>\n      <td>15.35</td>\n      <td>14.65</td>\n      <td>15.33</td>\n      <td>14578200</td>\n      <td>15.33</td>\n    </tr>\n    <tr>\n      <th>2015-11-03</th>\n      <td>14.84</td>\n      <td>14.96</td>\n      <td>14.44</td>\n      <td>14.62</td>\n      <td>6576300</td>\n      <td>14.62</td>\n    </tr>\n    <tr>\n      <th>2015-11-02</th>\n      <td>14.91</td>\n      <td>15.18</td>\n      <td>14.74</td>\n      <td>14.74</td>\n      <td>9487800</td>\n      <td>14.74</td>\n    </tr>\n    <tr>\n      <th>2015-10-30</th>\n      <td>15.25</td>\n      <td>15.52</td>\n      <td>14.81</td>\n      <td>15.22</td>\n      <td>12908500</td>\n      <td>15.22</td>\n    </tr>\n    <tr>\n      <th>2015-10-29</th>\n      <td>15.01</td>\n      <td>15.36</td>\n      <td>14.96</td>\n      <td>15.30</td>\n      <td>11177100</td>\n      <td>15.30</td>\n    </tr>\n    <tr>\n      <th>2015-10-28</th>\n      <td>15.14</td>\n      <td>15.50</td>\n      <td>14.96</td>\n      <td>15.02</td>\n      <td>11373200</td>\n      <td>15.02</td>\n    </tr>\n    <tr>\n      <th>2015-10-27</th>\n      <td>15.10</td>\n      <td>15.17</td>\n      <td>14.51</td>\n      <td>15.15</td>\n      <td>12950400</td>\n      <td>15.15</td>\n    </tr>\n    <tr>\n      <th>2015-10-26</th>\n      <td>15.41</td>\n      <td>15.55</td>\n      <td>14.87</td>\n      <td>15.18</td>\n      <td>15844500</td>\n      <td>15.18</td>\n    </tr>\n    <tr>\n      <th>2015-10-23</th>\n      <td>14.80</td>\n      <td>15.23</td>\n      <td>14.75</td>\n      <td>15.20</td>\n      <td>14769000</td>\n      <td>15.20</td>\n    </tr>\n    <tr>\n      <th>2015-10-22</th>\n      <td>14.28</td>\n      <td>14.82</td>\n      <td>14.25</td>\n      <td>14.73</td>\n      <td>10428900</td>\n      <td>14.73</td>\n    </tr>\n    <tr>\n      <th>2015-10-21</th>\n      <td>15.24</td>\n      <td>15.70</td>\n      <td>14.08</td>\n      <td>14.26</td>\n      <td>21113500</td>\n      <td>14.26</td>\n    </tr>\n    <tr>\n      <th>2015-10-20</th>\n      <td>14.99</td>\n      <td>15.24</td>\n      <td>14.89</td>\n      <td>15.22</td>\n      <td>11935800</td>\n      <td>15.22</td>\n    </tr>\n    <tr>\n      <th>2015-10-19</th>\n      <td>15.27</td>\n      <td>15.35</td>\n      <td>14.85</td>\n      <td>15.03</td>\n      <td>11601300</td>\n      <td>15.03</td>\n    </tr>\n    <tr>\n      <th>2015-10-16</th>\n      <td>15.23</td>\n      <td>15.35</td>\n      <td>14.82</td>\n      <td>15.25</td>\n      <td>14168700</td>\n      <td>15.25</td>\n    </tr>\n    <tr>\n      <th>2015-10-15</th>\n      <td>14.73</td>\n      <td>15.15</td>\n      <td>14.60</td>\n      <td>15.12</td>\n      <td>11177700</td>\n      <td>15.12</td>\n    </tr>\n    <tr>\n      <th>2015-10-14</th>\n      <td>14.99</td>\n      <td>15.12</td>\n      <td>14.72</td>\n      <td>14.73</td>\n      <td>10368900</td>\n      <td>14.73</td>\n    </tr>\n    <tr>\n      <th>2015-10-13</th>\n      <td>15.02</td>\n      <td>15.19</td>\n      <td>14.85</td>\n      <td>15.07</td>\n      <td>13408200</td>\n      <td>15.07</td>\n    </tr>\n    <tr>\n      <th>2015-10-12</th>\n      <td>14.63</td>\n      <td>15.43</td>\n      <td>14.41</td>\n      <td>15.30</td>\n      <td>24110800</td>\n      <td>15.30</td>\n    </tr>\n    <tr>\n      <th>2015-10-09</th>\n      <td>14.50</td>\n      <td>14.79</td>\n      <td>14.11</td>\n      <td>14.62</td>\n      <td>23818500</td>\n      <td>14.62</td>\n    </tr>\n    <tr>\n      <th>2015-10-08</th>\n      <td>14.75</td>\n      <td>14.75</td>\n      <td>14.65</td>\n      <td>14.75</td>\n      <td>18317200</td>\n      <td>14.75</td>\n    </tr>\n    <tr>\n      <th>2015-10-07</th>\n      <td>13.41</td>\n      <td>13.41</td>\n      <td>13.41</td>\n      <td>13.41</td>\n      <td>0</td>\n      <td>13.41</td>\n    </tr>\n    <tr>\n      <th>2015-10-06</th>\n      <td>13.41</td>\n      <td>13.41</td>\n      <td>13.41</td>\n      <td>13.41</td>\n      <td>0</td>\n      <td>13.41</td>\n    </tr>\n    <tr>\n      <th>2015-10-05</th>\n      <td>13.41</td>\n      <td>13.41</td>\n      <td>13.41</td>\n      <td>13.41</td>\n      <td>0</td>\n      <td>13.41</td>\n    </tr>\n    <tr>\n      <th>2015-10-02</th>\n      <td>13.41</td>\n      <td>13.41</td>\n      <td>13.41</td>\n      <td>13.41</td>\n      <td>0</td>\n      <td>13.41</td>\n    </tr>\n    <tr>\n      <th>2015-10-01</th>\n      <td>13.41</td>\n      <td>13.41</td>\n      <td>13.41</td>\n      <td>13.41</td>\n      <td>0</td>\n      <td>13.41</td>\n    </tr>\n  </tbody>\n</table>\n</div>"
     },
     "execution_count": 17,
     "metadata": {},
     "output_type": "execute_result"
    }
   ],
   "source": [
    "datadir =''\n",
    "fname = '002001.csv'\n",
    "data = pd.read_csv(os.path.join(datadir,fname),index_col='Date',parse_dates=True)\n",
    "data"
   ],
   "metadata": {
    "collapsed": false,
    "pycharm": {
     "name": "#%%\n"
    }
   }
  },
  {
   "cell_type": "code",
   "execution_count": 18,
   "outputs": [
    {
     "data": {
      "text/plain": "Date\n2015-12-22    16.95\n2015-12-21    16.85\n2015-12-18    16.31\n2015-12-17    16.60\n2015-12-16    16.28\n2015-12-15    16.18\n2015-12-14    16.06\n2015-12-11    15.62\n2015-12-10    15.56\n2015-12-09    15.83\n2015-12-08    16.05\n2015-12-07    16.63\n2015-12-04    16.62\n2015-12-03    16.21\n2015-12-02    15.88\n2015-12-01    15.85\n2015-11-30    15.70\n2015-11-27    15.54\n2015-11-26    16.78\n2015-11-25    16.94\n2015-11-24    16.15\n2015-11-23    16.05\n2015-11-20    16.08\n2015-11-19    16.02\n2015-11-18    15.75\n2015-11-17    16.22\n2015-11-16    16.21\n2015-11-13    15.95\n2015-11-12    16.59\n2015-11-11    16.22\n2015-11-10    16.15\n2015-11-09    16.02\n2015-11-06    15.86\n2015-11-05    15.52\n2015-11-04    15.33\n2015-11-03    14.62\n2015-11-02    14.74\n2015-10-30    15.22\n2015-10-29    15.30\n2015-10-28    15.02\n2015-10-27    15.15\n2015-10-26    15.18\n2015-10-23    15.20\n2015-10-22    14.73\n2015-10-21    14.26\n2015-10-20    15.22\n2015-10-19    15.03\n2015-10-16    15.25\n2015-10-15    15.12\n2015-10-14    14.73\n2015-10-13    15.07\n2015-10-12    15.30\n2015-10-09    14.62\n2015-10-08    14.75\n2015-10-07    13.41\n2015-10-06    13.41\n2015-10-05    13.41\n2015-10-02    13.41\n2015-10-01    13.41\nName: Adj Close, dtype: float64"
     },
     "execution_count": 18,
     "metadata": {},
     "output_type": "execute_result"
    }
   ],
   "source": [
    "## 使用 resample 针对复权收盘价进行重采样\n",
    "adj_price = data['Adj Close']\n",
    "adj_price"
   ],
   "metadata": {
    "collapsed": false,
    "pycharm": {
     "name": "#%%\n"
    }
   }
  },
  {
   "cell_type": "code",
   "execution_count": 19,
   "outputs": [
    {
     "data": {
      "text/plain": "             open   high    low  close\nDate                                  \n2015-10-31  13.41  15.30  13.41  15.22\n2015-11-30  14.74  16.94  14.62  15.70\n2015-12-31  15.85  16.95  15.56  16.95",
      "text/html": "<div>\n<style scoped>\n    .dataframe tbody tr th:only-of-type {\n        vertical-align: middle;\n    }\n\n    .dataframe tbody tr th {\n        vertical-align: top;\n    }\n\n    .dataframe thead th {\n        text-align: right;\n    }\n</style>\n<table border=\"1\" class=\"dataframe\">\n  <thead>\n    <tr style=\"text-align: right;\">\n      <th></th>\n      <th>open</th>\n      <th>high</th>\n      <th>low</th>\n      <th>close</th>\n    </tr>\n    <tr>\n      <th>Date</th>\n      <th></th>\n      <th></th>\n      <th></th>\n      <th></th>\n    </tr>\n  </thead>\n  <tbody>\n    <tr>\n      <th>2015-10-31</th>\n      <td>13.41</td>\n      <td>15.30</td>\n      <td>13.41</td>\n      <td>15.22</td>\n    </tr>\n    <tr>\n      <th>2015-11-30</th>\n      <td>14.74</td>\n      <td>16.94</td>\n      <td>14.62</td>\n      <td>15.70</td>\n    </tr>\n    <tr>\n      <th>2015-12-31</th>\n      <td>15.85</td>\n      <td>16.95</td>\n      <td>15.56</td>\n      <td>16.95</td>\n    </tr>\n  </tbody>\n</table>\n</div>"
     },
     "execution_count": 19,
     "metadata": {},
     "output_type": "execute_result"
    }
   ],
   "source": [
    "resampled = adj_price.resample('m').ohlc()\n",
    "resampled"
   ],
   "metadata": {
    "collapsed": false,
    "pycharm": {
     "name": "#%%\n"
    }
   }
  },
  {
   "cell_type": "code",
   "execution_count": 20,
   "outputs": [
    {
     "data": {
      "text/plain": "Date\n2015-10-31    0.140940\n2015-11-30    0.158687\n2015-12-31    0.089332\nFreq: M, dtype: float64"
     },
     "execution_count": 20,
     "metadata": {},
     "output_type": "execute_result"
    }
   ],
   "source": [],
   "metadata": {
    "collapsed": false,
    "pycharm": {
     "name": "#%%\n"
    }
   }
  },
  {
   "cell_type": "markdown",
   "source": [
    "## 增长曲线"
   ],
   "metadata": {
    "collapsed": false,
    "pycharm": {
     "name": "#%% md\n"
    }
   }
  },
  {
   "cell_type": "code",
   "execution_count": 21,
   "outputs": [
    {
     "data": {
      "text/plain": "            Open  High   Low  Close    Volume  Adj Close\nDate                                                    \n2016-05-20  8.74  9.15  8.74   9.14  55390400       9.14\n2016-05-19  8.84  9.05  8.81   8.84  34785900       8.84\n2016-05-18  8.82  8.93  8.65   8.88  44254300       8.88\n2016-05-17  9.08  9.08  8.82   8.83  42392200       8.83\n2016-05-16  8.90  9.08  8.80   9.07  59749500       9.07",
      "text/html": "<div>\n<style scoped>\n    .dataframe tbody tr th:only-of-type {\n        vertical-align: middle;\n    }\n\n    .dataframe tbody tr th {\n        vertical-align: top;\n    }\n\n    .dataframe thead th {\n        text-align: right;\n    }\n</style>\n<table border=\"1\" class=\"dataframe\">\n  <thead>\n    <tr style=\"text-align: right;\">\n      <th></th>\n      <th>Open</th>\n      <th>High</th>\n      <th>Low</th>\n      <th>Close</th>\n      <th>Volume</th>\n      <th>Adj Close</th>\n    </tr>\n    <tr>\n      <th>Date</th>\n      <th></th>\n      <th></th>\n      <th></th>\n      <th></th>\n      <th></th>\n      <th></th>\n    </tr>\n  </thead>\n  <tbody>\n    <tr>\n      <th>2016-05-20</th>\n      <td>8.74</td>\n      <td>9.15</td>\n      <td>8.74</td>\n      <td>9.14</td>\n      <td>55390400</td>\n      <td>9.14</td>\n    </tr>\n    <tr>\n      <th>2016-05-19</th>\n      <td>8.84</td>\n      <td>9.05</td>\n      <td>8.81</td>\n      <td>8.84</td>\n      <td>34785900</td>\n      <td>8.84</td>\n    </tr>\n    <tr>\n      <th>2016-05-18</th>\n      <td>8.82</td>\n      <td>8.93</td>\n      <td>8.65</td>\n      <td>8.88</td>\n      <td>44254300</td>\n      <td>8.88</td>\n    </tr>\n    <tr>\n      <th>2016-05-17</th>\n      <td>9.08</td>\n      <td>9.08</td>\n      <td>8.82</td>\n      <td>8.83</td>\n      <td>42392200</td>\n      <td>8.83</td>\n    </tr>\n    <tr>\n      <th>2016-05-16</th>\n      <td>8.90</td>\n      <td>9.08</td>\n      <td>8.80</td>\n      <td>9.07</td>\n      <td>59749500</td>\n      <td>9.07</td>\n    </tr>\n  </tbody>\n</table>\n</div>"
     },
     "execution_count": 21,
     "metadata": {},
     "output_type": "execute_result"
    }
   ],
   "source": [
    "stockid = '600690.sz'\n",
    "stockfile = '600690.csv'\n",
    "ds = pd.read_csv(os.path.join('yahoo-data',stockfile),index_col='Date', parse_dates=True)\n",
    "ds.head()"
   ],
   "metadata": {
    "collapsed": false,
    "pycharm": {
     "name": "#%%\n"
    }
   }
  },
  {
   "cell_type": "code",
   "execution_count": 22,
   "outputs": [
    {
     "data": {
      "text/plain": "<matplotlib.axes._subplots.AxesSubplot at 0x11c101550>"
     },
     "execution_count": 22,
     "metadata": {},
     "output_type": "execute_result"
    },
    {
     "data": {
      "text/plain": "<Figure size 576x432 with 1 Axes>",
      "image/png": "[encoded data removed]"
     },
     "metadata": {
      "needs_background": "light"
     },
     "output_type": "display_data"
    }
   ],
   "source": [
    "adj_price = ds['Adj Close']\n",
    "adj_price.plot(figsize=(8,6))"
   ],
   "metadata": {
    "collapsed": false,
    "pycharm": {
     "name": "#%%\n"
    }
   }
  },
  {
   "cell_type": "markdown",
   "source": [
    "### 增长倍数\n",
    "\n",
    "#### 最大增长倍数及最大年化复合增长率\n",
    "计算最低价和最高价之间的收盘价比较，以及增长的倍数和年化复全增长率，这个反应的是一个股票最好的情况下的投资收益情况。"
   ],
   "metadata": {
    "collapsed": false
   }
  },
  {
   "cell_type": "code",
   "execution_count": 23,
   "outputs": [
    {
     "data": {
      "text/plain": "1113.2977809591985"
     },
     "execution_count": 23,
     "metadata": {},
     "output_type": "execute_result"
    }
   ],
   "source": [
    "total_max_growth = adj_price.max() / adj_price.min()\n",
    "total_max_growth"
   ],
   "metadata": {
    "collapsed": false,
    "pycharm": {
     "name": "#%%\n"
    }
   }
  },
  {
   "cell_type": "code",
   "execution_count": 24,
   "outputs": [
    {
     "data": {
      "text/plain": "0.9987063031574349"
     },
     "execution_count": 24,
     "metadata": {},
     "output_type": "execute_result"
    }
   ],
   "source": [
    "# 最大年均复合增长率\n",
    "min_date = adj_price.argmin()\n",
    "max_date = adj_price.argmax()\n",
    "# error\n",
    "# max_growth_per_year = total_max_growth ** (1.0 / (max_date.year - min_date.year))\n",
    "max_growth_per_year = total_max_growth ** (1.0 / (max_date - min_date))\n",
    "max_growth_per_year"
   ],
   "metadata": {
    "collapsed": false,
    "pycharm": {
     "name": "#%%\n"
    }
   }
  },
  {
   "cell_type": "markdown",
   "source": [
    "### 当前增长倍数及复合增长率\n",
    "计算上市时的收盘价与当前的收盘价比较，增长的倍数和年化复全增长率。"
   ],
   "metadata": {
    "collapsed": false,
    "pycharm": {
     "name": "#%% md\n"
    }
   }
  },
  {
   "cell_type": "code",
   "execution_count": 25,
   "outputs": [
    {
     "data": {
      "text/plain": "180.205047318612"
     },
     "execution_count": 25,
     "metadata": {},
     "output_type": "execute_result"
    }
   ],
   "source": [
    "total_growth = adj_price.iloc[0] / adj_price.iloc[-1]\n",
    "total_growth"
   ],
   "metadata": {
    "collapsed": false,
    "pycharm": {
     "name": "#%%\n"
    }
   }
  },
  {
   "cell_type": "code",
   "execution_count": 26,
   "outputs": [
    {
     "data": {
      "text/plain": "1.2533628673066715"
     },
     "execution_count": 26,
     "metadata": {},
     "output_type": "execute_result"
    }
   ],
   "source": [
    "old_date = adj_price.index[-1]\n",
    "new_date = adj_price.index[0]\n",
    "growth_per_year = total_growth ** (1.0 / (new_date.year - old_date.year))\n",
    "growth_per_year"
   ],
   "metadata": {
    "collapsed": false,
    "pycharm": {
     "name": "#%%\n"
    }
   }
  },
  {
   "cell_type": "markdown",
   "source": [
    "### 平均年化增长率\n",
    "\n",
    "计算每年的增长率，然后再求平均值。也可以计算每月的增长率，再求平均值，可以看到更短的一些周期变化。"
   ],
   "metadata": {
    "collapsed": false,
    "pycharm": {
     "name": "#%% md\n"
    }
   }
  },
  {
   "cell_type": "code",
   "execution_count": 46,
   "outputs": [
    {
     "data": {
      "text/plain": "Date\n1993    0.03573\n1994    0.02459\n1995    0.07254\n1996    0.27879\n1997    0.69135\n1998    0.50219\n1999    0.48011\n2000    0.80252\n2001    0.78662\n2002    0.53786\n2003    0.60910\n2004    0.56913\n2005    0.60712\n2006    1.50079\n2007    3.80700\n2008    1.67358\n2009    4.82062\n2010    5.76779\n2011    3.70347\n2012    5.72073\n2013    8.85739\n2014    8.96458\n2015    9.92000\n2016    9.14000\nFreq: A-DEC, Name: Adj Close, dtype: float64"
     },
     "execution_count": 46,
     "metadata": {},
     "output_type": "execute_result"
    }
   ],
   "source": [
    "price_in_years = adj_price.to_period(freq='A-DEC').groupby(by='Date').first() # 第一个非NA值\n",
    "price_in_years"
   ],
   "metadata": {
    "collapsed": false,
    "pycharm": {
     "name": "#%%\n"
    }
   }
  },
  {
   "cell_type": "code",
   "execution_count": 28,
   "outputs": [
    {
     "data": {
      "text/plain": "<matplotlib.axes._subplots.AxesSubplot at 0x11b57f0d0>"
     },
     "execution_count": 28,
     "metadata": {},
     "output_type": "execute_result"
    },
    {
     "data": {
      "text/plain": "<Figure size 576x432 with 1 Axes>",
      "image/png": "[encoded data removed]"
     },
     "metadata": {
      "needs_background": "light"
     },
     "output_type": "display_data"
    }
   ],
   "source": [
    "price_in_years.plot(figsize=(8,6))"
   ],
   "metadata": {
    "collapsed": false,
    "pycharm": {
     "name": "#%%\n"
    }
   }
  },
  {
   "cell_type": "code",
   "execution_count": 30,
   "outputs": [
    {
     "data": {
      "text/plain": "Date\n1993         NaN\n1994   -0.311783\n1995    1.949980\n1996    2.843259\n1997    1.479824\n1998   -0.273610\n1999   -0.043967\n2000    0.671534\n2001   -0.019813\n2002   -0.316239\n2003    0.132451\n2004   -0.065621\n2005    0.066751\n2006    1.471982\n2007    1.536664\n2008   -0.560394\n2009    1.880424\n2010    0.196483\n2011   -0.357905\n2012    0.544695\n2013    0.548297\n2014    0.012102\n2015    0.106577\n2016   -0.078629\nFreq: A-DEC, Name: Adj Close, dtype: float64"
     },
     "execution_count": 30,
     "metadata": {},
     "output_type": "execute_result"
    }
   ],
   "source": [
    "# 这里的关键信息：\n",
    "# 计算年化收益率时，diff 应该要除以前一年的价格，即在前一年的价格的基础上上涨了多少，而不是在当前年的价格。\n",
    "diff = price_in_years.diff()\n",
    "rate_in_years =  diff / (price_in_years - diff)\n",
    "rate_in_years\n"
   ],
   "metadata": {
    "collapsed": false,
    "pycharm": {
     "name": "#%%\n"
    }
   }
  },
  {
   "cell_type": "code",
   "execution_count": 31,
   "outputs": [
    {
     "data": {
      "text/plain": "0.4962200398459932"
     },
     "execution_count": 31,
     "metadata": {},
     "output_type": "execute_result"
    }
   ],
   "source": [
    "rate_in_years.mean()"
   ],
   "metadata": {
    "collapsed": false,
    "pycharm": {
     "name": "#%%\n"
    }
   }
  },
  {
   "cell_type": "code",
   "execution_count": 50,
   "outputs": [
    {
     "data": {
      "text/plain": "[<matplotlib.lines.Line2D at 0x11d2131d0>]"
     },
     "execution_count": 50,
     "metadata": {},
     "output_type": "execute_result"
    },
    {
     "data": {
      "text/plain": "<Figure size 576x432 with 1 Axes>",
      "image/png": "[encoded data removed]"
     },
     "metadata": {
      "needs_background": "light"
     },
     "output_type": "display_data"
    }
   ],
   "source": [
    "rate_in_years.plot(kind='bar',figsize=(8,6))\n",
    "x = [0,len(rate_in_years)]\n",
    "y = [0,0]\n",
    "plt.plot(x,y,color='red',linestyle='-')"
   ],
   "metadata": {
    "collapsed": false,
    "pycharm": {
     "name": "#%%\n"
    }
   }
  },
  {
   "cell_type": "code",
   "execution_count": null,
   "outputs": [],
   "source": [
    "\n"
   ],
   "metadata": {
    "collapsed": false,
    "pycharm": {
     "name": "#%%\n"
    }
   }
  }
 ],
 "metadata": {
  "kernelspec": {
   "name": "pycharm-2bc0cf0c",
   "language": "python",
   "display_name": "PyCharm (mywork)"
  },
  "language_info": {
   "codemirror_mode": {
    "name": "ipython",
    "version": 2
   },
   "file_extension": ".py",
   "mimetype": "text/x-python",
   "name": "python",
   "nbconvert_exporter": "python",
   "pygments_lexer": "ipython2",
   "version": "2.7.6"
  }
 },
 "nbformat": 4,
 "nbformat_minor": 0
}