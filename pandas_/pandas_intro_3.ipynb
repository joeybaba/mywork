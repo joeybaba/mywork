{
 "cells": [
  {
   "cell_type": "code",
   "execution_count": 6,
   "metadata": {
    "collapsed": true,
    "pycharm": {
     "name": "#%%\n"
    }
   },
   "outputs": [],
   "source": [
    "%matplotlib inline\n",
    "import pandas as pd\n",
    "import numpy as np\n",
    "import matplotlib.pyplot as plt"
   ]
  },
  {
   "cell_type": "markdown",
   "source": [
    "# 数据整型"
   ],
   "metadata": {
    "collapsed": false
   }
  },
  {
   "cell_type": "code",
   "execution_count": 7,
   "outputs": [
    {
     "data": {
      "text/plain": "[('bar', 'one'),\n ('bar', 'two'),\n ('baz', 'one'),\n ('baz', 'two'),\n ('foo', 'one'),\n ('foo', 'two'),\n ('qux', 'one'),\n ('qux', 'two')]"
     },
     "execution_count": 7,
     "metadata": {},
     "output_type": "execute_result"
    }
   ],
   "source": [
    "tuples =list(zip(*[['bar', 'bar', 'baz', 'baz',\n",
    "                     'foo', 'foo', 'qux', 'qux'],\n",
    "                    ['one', 'two', 'one', 'two',\n",
    "                     'one', 'two', 'one', 'two']]))\n",
    "tuples"
   ],
   "metadata": {
    "collapsed": false,
    "pycharm": {
     "name": "#%%\n"
    }
   }
  },
  {
   "cell_type": "code",
   "execution_count": 8,
   "outputs": [
    {
     "data": {
      "text/plain": "MultiIndex([('bar', 'one'),\n            ('bar', 'two'),\n            ('baz', 'one'),\n            ('baz', 'two'),\n            ('foo', 'one'),\n            ('foo', 'two'),\n            ('qux', 'one'),\n            ('qux', 'two')],\n           names=['first', 'second'])"
     },
     "execution_count": 8,
     "metadata": {},
     "output_type": "execute_result"
    }
   ],
   "source": [
    "index = pd.MultiIndex.from_tuples(tuples,names=['first','second'])\n",
    "index"
   ],
   "metadata": {
    "collapsed": false,
    "pycharm": {
     "name": "#%%\n"
    }
   }
  },
  {
   "cell_type": "code",
   "execution_count": 9,
   "outputs": [
    {
     "data": {
      "text/plain": "                     A         B\nfirst second                    \nbar   one    -1.665837 -1.424310\n      two    -0.141271 -0.014858\nbaz   one    -0.077566  0.744656\n      two    -1.129370  0.796641\nfoo   one     0.336380 -1.416431\n      two     0.298238 -1.053190\nqux   one     1.175172 -0.454645\n      two     1.283872  1.318517",
      "text/html": "<div>\n<style scoped>\n    .dataframe tbody tr th:only-of-type {\n        vertical-align: middle;\n    }\n\n    .dataframe tbody tr th {\n        vertical-align: top;\n    }\n\n    .dataframe thead th {\n        text-align: right;\n    }\n</style>\n<table border=\"1\" class=\"dataframe\">\n  <thead>\n    <tr style=\"text-align: right;\">\n      <th></th>\n      <th></th>\n      <th>A</th>\n      <th>B</th>\n    </tr>\n    <tr>\n      <th>first</th>\n      <th>second</th>\n      <th></th>\n      <th></th>\n    </tr>\n  </thead>\n  <tbody>\n    <tr>\n      <th rowspan=\"2\" valign=\"top\">bar</th>\n      <th>one</th>\n      <td>-1.665837</td>\n      <td>-1.424310</td>\n    </tr>\n    <tr>\n      <th>two</th>\n      <td>-0.141271</td>\n      <td>-0.014858</td>\n    </tr>\n    <tr>\n      <th rowspan=\"2\" valign=\"top\">baz</th>\n      <th>one</th>\n      <td>-0.077566</td>\n      <td>0.744656</td>\n    </tr>\n    <tr>\n      <th>two</th>\n      <td>-1.129370</td>\n      <td>0.796641</td>\n    </tr>\n    <tr>\n      <th rowspan=\"2\" valign=\"top\">foo</th>\n      <th>one</th>\n      <td>0.336380</td>\n      <td>-1.416431</td>\n    </tr>\n    <tr>\n      <th>two</th>\n      <td>0.298238</td>\n      <td>-1.053190</td>\n    </tr>\n    <tr>\n      <th rowspan=\"2\" valign=\"top\">qux</th>\n      <th>one</th>\n      <td>1.175172</td>\n      <td>-0.454645</td>\n    </tr>\n    <tr>\n      <th>two</th>\n      <td>1.283872</td>\n      <td>1.318517</td>\n    </tr>\n  </tbody>\n</table>\n</div>"
     },
     "execution_count": 9,
     "metadata": {},
     "output_type": "execute_result"
    }
   ],
   "source": [
    "df = pd.DataFrame(np.random.randn(8,2), index=index,columns=['A','B'])\n",
    "df"
   ],
   "metadata": {
    "collapsed": false,
    "pycharm": {
     "name": "#%%\n"
    }
   }
  },
  {
   "cell_type": "code",
   "execution_count": 10,
   "outputs": [
    {
     "data": {
      "text/plain": "A   -1.665837\nB   -1.424310\nName: one, dtype: float64"
     },
     "execution_count": 10,
     "metadata": {},
     "output_type": "execute_result"
    }
   ],
   "source": [
    "df.loc['bar'].loc['one']"
   ],
   "metadata": {
    "collapsed": false,
    "pycharm": {
     "name": "#%%\n"
    }
   }
  },
  {
   "cell_type": "code",
   "execution_count": 11,
   "outputs": [
    {
     "data": {
      "text/plain": "first  second   \nbar    one     A   -1.665837\n               B   -1.424310\n       two     A   -0.141271\n               B   -0.014858\nbaz    one     A   -0.077566\n               B    0.744656\n       two     A   -1.129370\n               B    0.796641\nfoo    one     A    0.336380\n               B   -1.416431\n       two     A    0.298238\n               B   -1.053190\nqux    one     A    1.175172\n               B   -0.454645\n       two     A    1.283872\n               B    1.318517\ndtype: float64"
     },
     "execution_count": 11,
     "metadata": {},
     "output_type": "execute_result"
    }
   ],
   "source": [
    "#\n",
    "stacked = df.stack()\n",
    "stacked"
   ],
   "metadata": {
    "collapsed": false,
    "pycharm": {
     "name": "#%%\n"
    }
   }
  },
  {
   "cell_type": "code",
   "execution_count": 12,
   "outputs": [
    {
     "data": {
      "text/plain": "MultiIndex([('bar', 'one', 'A'),\n            ('bar', 'one', 'B'),\n            ('bar', 'two', 'A'),\n            ('bar', 'two', 'B'),\n            ('baz', 'one', 'A'),\n            ('baz', 'one', 'B'),\n            ('baz', 'two', 'A'),\n            ('baz', 'two', 'B'),\n            ('foo', 'one', 'A'),\n            ('foo', 'one', 'B'),\n            ('foo', 'two', 'A'),\n            ('foo', 'two', 'B'),\n            ('qux', 'one', 'A'),\n            ('qux', 'one', 'B'),\n            ('qux', 'two', 'A'),\n            ('qux', 'two', 'B')],\n           names=['first', 'second', None])"
     },
     "execution_count": 12,
     "metadata": {},
     "output_type": "execute_result"
    }
   ],
   "source": [
    "stacked.index"
   ],
   "metadata": {
    "collapsed": false,
    "pycharm": {
     "name": "#%%\n"
    }
   }
  },
  {
   "cell_type": "code",
   "execution_count": 13,
   "outputs": [
    {
     "data": {
      "text/plain": "                     A         B\nfirst second                    \nbar   one    -1.665837 -1.424310\n      two    -0.141271 -0.014858\nbaz   one    -0.077566  0.744656\n      two    -1.129370  0.796641\nfoo   one     0.336380 -1.416431\n      two     0.298238 -1.053190\nqux   one     1.175172 -0.454645\n      two     1.283872  1.318517",
      "text/html": "<div>\n<style scoped>\n    .dataframe tbody tr th:only-of-type {\n        vertical-align: middle;\n    }\n\n    .dataframe tbody tr th {\n        vertical-align: top;\n    }\n\n    .dataframe thead th {\n        text-align: right;\n    }\n</style>\n<table border=\"1\" class=\"dataframe\">\n  <thead>\n    <tr style=\"text-align: right;\">\n      <th></th>\n      <th></th>\n      <th>A</th>\n      <th>B</th>\n    </tr>\n    <tr>\n      <th>first</th>\n      <th>second</th>\n      <th></th>\n      <th></th>\n    </tr>\n  </thead>\n  <tbody>\n    <tr>\n      <th rowspan=\"2\" valign=\"top\">bar</th>\n      <th>one</th>\n      <td>-1.665837</td>\n      <td>-1.424310</td>\n    </tr>\n    <tr>\n      <th>two</th>\n      <td>-0.141271</td>\n      <td>-0.014858</td>\n    </tr>\n    <tr>\n      <th rowspan=\"2\" valign=\"top\">baz</th>\n      <th>one</th>\n      <td>-0.077566</td>\n      <td>0.744656</td>\n    </tr>\n    <tr>\n      <th>two</th>\n      <td>-1.129370</td>\n      <td>0.796641</td>\n    </tr>\n    <tr>\n      <th rowspan=\"2\" valign=\"top\">foo</th>\n      <th>one</th>\n      <td>0.336380</td>\n      <td>-1.416431</td>\n    </tr>\n    <tr>\n      <th>two</th>\n      <td>0.298238</td>\n      <td>-1.053190</td>\n    </tr>\n    <tr>\n      <th rowspan=\"2\" valign=\"top\">qux</th>\n      <th>one</th>\n      <td>1.175172</td>\n      <td>-0.454645</td>\n    </tr>\n    <tr>\n      <th>two</th>\n      <td>1.283872</td>\n      <td>1.318517</td>\n    </tr>\n  </tbody>\n</table>\n</div>"
     },
     "execution_count": 13,
     "metadata": {},
     "output_type": "execute_result"
    }
   ],
   "source": [
    "stacked.unstack()\n",
    "# stacked.unstack(1)\n",
    "# stacked.unstack(2)"
   ],
   "metadata": {
    "collapsed": false,
    "pycharm": {
     "name": "#%%\n"
    }
   }
  },
  {
   "cell_type": "code",
   "execution_count": 14,
   "outputs": [
    {
     "data": {
      "text/plain": "               A                   B          \nsecond       one       two       one       two\nfirst                                         \nbar    -1.665837 -0.141271 -1.424310 -0.014858\nbaz    -0.077566 -1.129370  0.744656  0.796641\nfoo     0.336380  0.298238 -1.416431 -1.053190\nqux     1.175172  1.283872 -0.454645  1.318517",
      "text/html": "<div>\n<style scoped>\n    .dataframe tbody tr th:only-of-type {\n        vertical-align: middle;\n    }\n\n    .dataframe tbody tr th {\n        vertical-align: top;\n    }\n\n    .dataframe thead tr th {\n        text-align: left;\n    }\n\n    .dataframe thead tr:last-of-type th {\n        text-align: right;\n    }\n</style>\n<table border=\"1\" class=\"dataframe\">\n  <thead>\n    <tr>\n      <th></th>\n      <th colspan=\"2\" halign=\"left\">A</th>\n      <th colspan=\"2\" halign=\"left\">B</th>\n    </tr>\n    <tr>\n      <th>second</th>\n      <th>one</th>\n      <th>two</th>\n      <th>one</th>\n      <th>two</th>\n    </tr>\n    <tr>\n      <th>first</th>\n      <th></th>\n      <th></th>\n      <th></th>\n      <th></th>\n    </tr>\n  </thead>\n  <tbody>\n    <tr>\n      <th>bar</th>\n      <td>-1.665837</td>\n      <td>-0.141271</td>\n      <td>-1.424310</td>\n      <td>-0.014858</td>\n    </tr>\n    <tr>\n      <th>baz</th>\n      <td>-0.077566</td>\n      <td>-1.129370</td>\n      <td>0.744656</td>\n      <td>0.796641</td>\n    </tr>\n    <tr>\n      <th>foo</th>\n      <td>0.336380</td>\n      <td>0.298238</td>\n      <td>-1.416431</td>\n      <td>-1.053190</td>\n    </tr>\n    <tr>\n      <th>qux</th>\n      <td>1.175172</td>\n      <td>1.283872</td>\n      <td>-0.454645</td>\n      <td>1.318517</td>\n    </tr>\n  </tbody>\n</table>\n</div>"
     },
     "execution_count": 14,
     "metadata": {},
     "output_type": "execute_result"
    }
   ],
   "source": [
    "stacked.unstack().unstack()"
   ],
   "metadata": {
    "collapsed": false,
    "pycharm": {
     "name": "#%%\n"
    }
   }
  },
  {
   "cell_type": "markdown",
   "source": [
    "# 数据透视表\n",
    "# pviot table/轴向旋转表"
   ],
   "metadata": {
    "collapsed": false
   }
  },
  {
   "cell_type": "code",
   "execution_count": 15,
   "outputs": [
    {
     "data": {
      "text/plain": "        A  B    C         D         E\n0     one  A  foo  0.790629 -1.039295\n1     one  B  foo -1.825176 -0.904315\n2     two  C  foo  1.627930  0.399284\n3   three  A  bar  1.322256  1.571481\n4     one  B  bar -0.359093 -0.649856\n5     one  C  bar  0.003862 -0.316731\n6     two  A  foo  1.098788  0.258952\n7   three  B  foo  0.396739 -0.287395\n8     one  C  foo  0.607065  1.439628\n9     one  A  bar  0.119201  0.124964\n10    two  B  bar -0.038360 -0.398616\n11  three  C  bar  0.029979 -0.389313",
      "text/html": "<div>\n<style scoped>\n    .dataframe tbody tr th:only-of-type {\n        vertical-align: middle;\n    }\n\n    .dataframe tbody tr th {\n        vertical-align: top;\n    }\n\n    .dataframe thead th {\n        text-align: right;\n    }\n</style>\n<table border=\"1\" class=\"dataframe\">\n  <thead>\n    <tr style=\"text-align: right;\">\n      <th></th>\n      <th>A</th>\n      <th>B</th>\n      <th>C</th>\n      <th>D</th>\n      <th>E</th>\n    </tr>\n  </thead>\n  <tbody>\n    <tr>\n      <th>0</th>\n      <td>one</td>\n      <td>A</td>\n      <td>foo</td>\n      <td>0.790629</td>\n      <td>-1.039295</td>\n    </tr>\n    <tr>\n      <th>1</th>\n      <td>one</td>\n      <td>B</td>\n      <td>foo</td>\n      <td>-1.825176</td>\n      <td>-0.904315</td>\n    </tr>\n    <tr>\n      <th>2</th>\n      <td>two</td>\n      <td>C</td>\n      <td>foo</td>\n      <td>1.627930</td>\n      <td>0.399284</td>\n    </tr>\n    <tr>\n      <th>3</th>\n      <td>three</td>\n      <td>A</td>\n      <td>bar</td>\n      <td>1.322256</td>\n      <td>1.571481</td>\n    </tr>\n    <tr>\n      <th>4</th>\n      <td>one</td>\n      <td>B</td>\n      <td>bar</td>\n      <td>-0.359093</td>\n      <td>-0.649856</td>\n    </tr>\n    <tr>\n      <th>5</th>\n      <td>one</td>\n      <td>C</td>\n      <td>bar</td>\n      <td>0.003862</td>\n      <td>-0.316731</td>\n    </tr>\n    <tr>\n      <th>6</th>\n      <td>two</td>\n      <td>A</td>\n      <td>foo</td>\n      <td>1.098788</td>\n      <td>0.258952</td>\n    </tr>\n    <tr>\n      <th>7</th>\n      <td>three</td>\n      <td>B</td>\n      <td>foo</td>\n      <td>0.396739</td>\n      <td>-0.287395</td>\n    </tr>\n    <tr>\n      <th>8</th>\n      <td>one</td>\n      <td>C</td>\n      <td>foo</td>\n      <td>0.607065</td>\n      <td>1.439628</td>\n    </tr>\n    <tr>\n      <th>9</th>\n      <td>one</td>\n      <td>A</td>\n      <td>bar</td>\n      <td>0.119201</td>\n      <td>0.124964</td>\n    </tr>\n    <tr>\n      <th>10</th>\n      <td>two</td>\n      <td>B</td>\n      <td>bar</td>\n      <td>-0.038360</td>\n      <td>-0.398616</td>\n    </tr>\n    <tr>\n      <th>11</th>\n      <td>three</td>\n      <td>C</td>\n      <td>bar</td>\n      <td>0.029979</td>\n      <td>-0.389313</td>\n    </tr>\n  </tbody>\n</table>\n</div>"
     },
     "execution_count": 15,
     "metadata": {},
     "output_type": "execute_result"
    }
   ],
   "source": [
    "df = pd.DataFrame({'A':['one','one','two','three']*3,\n",
    "              'B':['A','B','C']*4,\n",
    "              'C':['foo', 'foo', 'foo', 'bar', 'bar', 'bar'] * 2,\n",
    "              'D':np.random.randn(12),\n",
    "              'E':np.random.randn(12)\n",
    "              })\n",
    "df"
   ],
   "metadata": {
    "collapsed": false,
    "pycharm": {
     "name": "#%%\n"
    }
   }
  },
  {
   "cell_type": "code",
   "execution_count": 16,
   "outputs": [
    {
     "data": {
      "text/plain": "                D          \nC             bar       foo\nA     B                    \none   A  0.119201  0.790629\n      B -0.359093 -1.825176\n      C  0.003862  0.607065\nthree A  1.322256       NaN\n      B       NaN  0.396739\n      C  0.029979       NaN\ntwo   A       NaN  1.098788\n      B -0.038360       NaN\n      C       NaN  1.627930",
      "text/html": "<div>\n<style scoped>\n    .dataframe tbody tr th:only-of-type {\n        vertical-align: middle;\n    }\n\n    .dataframe tbody tr th {\n        vertical-align: top;\n    }\n\n    .dataframe thead tr th {\n        text-align: left;\n    }\n\n    .dataframe thead tr:last-of-type th {\n        text-align: right;\n    }\n</style>\n<table border=\"1\" class=\"dataframe\">\n  <thead>\n    <tr>\n      <th></th>\n      <th></th>\n      <th colspan=\"2\" halign=\"left\">D</th>\n    </tr>\n    <tr>\n      <th></th>\n      <th>C</th>\n      <th>bar</th>\n      <th>foo</th>\n    </tr>\n    <tr>\n      <th>A</th>\n      <th>B</th>\n      <th></th>\n      <th></th>\n    </tr>\n  </thead>\n  <tbody>\n    <tr>\n      <th rowspan=\"3\" valign=\"top\">one</th>\n      <th>A</th>\n      <td>0.119201</td>\n      <td>0.790629</td>\n    </tr>\n    <tr>\n      <th>B</th>\n      <td>-0.359093</td>\n      <td>-1.825176</td>\n    </tr>\n    <tr>\n      <th>C</th>\n      <td>0.003862</td>\n      <td>0.607065</td>\n    </tr>\n    <tr>\n      <th rowspan=\"3\" valign=\"top\">three</th>\n      <th>A</th>\n      <td>1.322256</td>\n      <td>NaN</td>\n    </tr>\n    <tr>\n      <th>B</th>\n      <td>NaN</td>\n      <td>0.396739</td>\n    </tr>\n    <tr>\n      <th>C</th>\n      <td>0.029979</td>\n      <td>NaN</td>\n    </tr>\n    <tr>\n      <th rowspan=\"3\" valign=\"top\">two</th>\n      <th>A</th>\n      <td>NaN</td>\n      <td>1.098788</td>\n    </tr>\n    <tr>\n      <th>B</th>\n      <td>-0.038360</td>\n      <td>NaN</td>\n    </tr>\n    <tr>\n      <th>C</th>\n      <td>NaN</td>\n      <td>1.627930</td>\n    </tr>\n  </tbody>\n</table>\n</div>"
     },
     "execution_count": 16,
     "metadata": {},
     "output_type": "execute_result"
    }
   ],
   "source": [
    "df.pivot_table(values=['D'], index=['A','B'], columns='C')\n",
    "# pd.pivot_table(df,values=['D'], index=['A','B'], columns='C')"
   ],
   "metadata": {
    "collapsed": false,
    "pycharm": {
     "name": "#%%\n"
    }
   }
  },
  {
   "cell_type": "code",
   "execution_count": 17,
   "outputs": [
    {
     "data": {
      "text/plain": "              E          \nC           bar       foo\nA                        \none   -0.280541 -0.167994\nthree  0.591084 -0.287395\ntwo   -0.398616  0.329118",
      "text/html": "<div>\n<style scoped>\n    .dataframe tbody tr th:only-of-type {\n        vertical-align: middle;\n    }\n\n    .dataframe tbody tr th {\n        vertical-align: top;\n    }\n\n    .dataframe thead tr th {\n        text-align: left;\n    }\n\n    .dataframe thead tr:last-of-type th {\n        text-align: right;\n    }\n</style>\n<table border=\"1\" class=\"dataframe\">\n  <thead>\n    <tr>\n      <th></th>\n      <th colspan=\"2\" halign=\"left\">E</th>\n    </tr>\n    <tr>\n      <th>C</th>\n      <th>bar</th>\n      <th>foo</th>\n    </tr>\n    <tr>\n      <th>A</th>\n      <th></th>\n      <th></th>\n    </tr>\n  </thead>\n  <tbody>\n    <tr>\n      <th>one</th>\n      <td>-0.280541</td>\n      <td>-0.167994</td>\n    </tr>\n    <tr>\n      <th>three</th>\n      <td>0.591084</td>\n      <td>-0.287395</td>\n    </tr>\n    <tr>\n      <th>two</th>\n      <td>-0.398616</td>\n      <td>0.329118</td>\n    </tr>\n  </tbody>\n</table>\n</div>"
     },
     "execution_count": 17,
     "metadata": {},
     "output_type": "execute_result"
    }
   ],
   "source": [
    "df.pivot_table(values=['E'],index=['A'],columns=['C'])"
   ],
   "metadata": {
    "collapsed": false,
    "pycharm": {
     "name": "#%%\n"
    }
   }
  },
  {
   "cell_type": "code",
   "execution_count": 18,
   "outputs": [
    {
     "data": {
      "text/plain": "            D         E\nC                      \nbar -0.078677 -0.280541\nfoo -0.142494 -0.167994",
      "text/html": "<div>\n<style scoped>\n    .dataframe tbody tr th:only-of-type {\n        vertical-align: middle;\n    }\n\n    .dataframe tbody tr th {\n        vertical-align: top;\n    }\n\n    .dataframe thead th {\n        text-align: right;\n    }\n</style>\n<table border=\"1\" class=\"dataframe\">\n  <thead>\n    <tr style=\"text-align: right;\">\n      <th></th>\n      <th>D</th>\n      <th>E</th>\n    </tr>\n    <tr>\n      <th>C</th>\n      <th></th>\n      <th></th>\n    </tr>\n  </thead>\n  <tbody>\n    <tr>\n      <th>bar</th>\n      <td>-0.078677</td>\n      <td>-0.280541</td>\n    </tr>\n    <tr>\n      <th>foo</th>\n      <td>-0.142494</td>\n      <td>-0.167994</td>\n    </tr>\n  </tbody>\n</table>\n</div>"
     },
     "execution_count": 18,
     "metadata": {},
     "output_type": "execute_result"
    }
   ],
   "source": [
    "df[df.A=='one'].groupby('C').mean()"
   ],
   "metadata": {
    "collapsed": false,
    "pycharm": {
     "name": "#%%\n"
    }
   }
  },
  {
   "cell_type": "markdown",
   "source": [
    "# 时间序列\n",
    "pandas 提供了强大的时间序列功能，比如把秒级的股票数据转换为5分钟周期数据等。"
   ],
   "metadata": {
    "collapsed": false,
    "pycharm": {
     "name": "#%% md\n"
    }
   }
  },
  {
   "cell_type": "code",
   "execution_count": 19,
   "outputs": [
    {
     "data": {
      "text/plain": "DatetimeIndex(['2016-03-01 00:00:00', '2016-03-01 00:00:01',\n               '2016-03-01 00:00:02', '2016-03-01 00:00:03',\n               '2016-03-01 00:00:04', '2016-03-01 00:00:05',\n               '2016-03-01 00:00:06', '2016-03-01 00:00:07',\n               '2016-03-01 00:00:08', '2016-03-01 00:00:09',\n               ...\n               '2016-03-01 00:09:50', '2016-03-01 00:09:51',\n               '2016-03-01 00:09:52', '2016-03-01 00:09:53',\n               '2016-03-01 00:09:54', '2016-03-01 00:09:55',\n               '2016-03-01 00:09:56', '2016-03-01 00:09:57',\n               '2016-03-01 00:09:58', '2016-03-01 00:09:59'],\n              dtype='datetime64[ns]', length=600, freq='S')"
     },
     "execution_count": 19,
     "metadata": {},
     "output_type": "execute_result"
    }
   ],
   "source": [
    "rng = pd.date_range('20160301',periods=600,freq='s')\n",
    "rng"
   ],
   "metadata": {
    "collapsed": false,
    "pycharm": {
     "name": "#%%\n"
    }
   }
  },
  {
   "cell_type": "code",
   "execution_count": 21,
   "outputs": [
    {
     "data": {
      "text/plain": "2016-03-01 00:00:00    387\n2016-03-01 00:00:01    475\n2016-03-01 00:00:02    452\n2016-03-01 00:00:03    162\n2016-03-01 00:00:04    484\n                      ... \n2016-03-01 00:09:55    291\n2016-03-01 00:09:56    190\n2016-03-01 00:09:57    139\n2016-03-01 00:09:58    188\n2016-03-01 00:09:59    337\nFreq: S, Length: 600, dtype: int64"
     },
     "execution_count": 21,
     "metadata": {},
     "output_type": "execute_result"
    }
   ],
   "source": [
    "s = pd.Series(np.random.randint(0,500,len(rng)),index=rng)\n",
    "s"
   ],
   "metadata": {
    "collapsed": false,
    "pycharm": {
     "name": "#%%\n"
    }
   }
  },
  {
   "cell_type": "code",
   "execution_count": 22,
   "outputs": [
    {
     "data": {
      "text/plain": "2016-03-01 00:00:00    387\n2016-03-01 00:00:01    475\n2016-03-01 00:00:02    452\n2016-03-01 00:00:03    162\n2016-03-01 00:00:04    484\n                      ... \n2016-03-01 00:09:55    291\n2016-03-01 00:09:56    190\n2016-03-01 00:09:57    139\n2016-03-01 00:09:58    188\n2016-03-01 00:09:59    337\nFreq: S, Length: 600, dtype: int64"
     },
     "execution_count": 22,
     "metadata": {},
     "output_type": "execute_result"
    }
   ],
   "source": [
    "ts = s.to_period()\n",
    "ts"
   ],
   "metadata": {
    "collapsed": false,
    "pycharm": {
     "name": "#%%\n"
    }
   }
  },
  {
   "cell_type": "code",
   "execution_count": 23,
   "outputs": [
    {
     "data": {
      "text/plain": "2016-03-01 00:00:00    387\n2016-03-01 00:00:01    475\n2016-03-01 00:00:02    452\n2016-03-01 00:00:03    162\n2016-03-01 00:00:04    484\n                      ... \n2016-03-01 00:09:55    291\n2016-03-01 00:09:56    190\n2016-03-01 00:09:57    139\n2016-03-01 00:09:58    188\n2016-03-01 00:09:59    337\nFreq: S, Length: 600, dtype: int64"
     },
     "execution_count": 23,
     "metadata": {},
     "output_type": "execute_result"
    }
   ],
   "source": [
    "ts = ts.to_timestamp()\n",
    "ts"
   ],
   "metadata": {
    "collapsed": false,
    "pycharm": {
     "name": "#%%\n"
    }
   }
  },
  {
   "cell_type": "code",
   "execution_count": 24,
   "outputs": [
    {
     "data": {
      "text/plain": "2016-03-01 00:00:00    231.708333\n2016-03-01 00:02:00    237.866667\n2016-03-01 00:04:00    259.783333\n2016-03-01 00:06:00    251.850000\n2016-03-01 00:08:00    256.108333\nFreq: 2T, dtype: float64"
     },
     "execution_count": 24,
     "metadata": {},
     "output_type": "execute_result"
    }
   ],
   "source": [
    "s.resample('2Min').mean()\n",
    "# ts.resample('2Min', how='sum') failure"
   ],
   "metadata": {
    "collapsed": false,
    "pycharm": {
     "name": "#%%\n"
    }
   }
  },
  {
   "cell_type": "markdown",
   "source": [
    "在不同时间表达式内转换"
   ],
   "metadata": {
    "collapsed": false,
    "pycharm": {
     "name": "#%% md\n"
    }
   }
  },
  {
   "cell_type": "code",
   "execution_count": 25,
   "outputs": [
    {
     "data": {
      "text/plain": "PeriodIndex(['2000Q1', '2000Q2', '2000Q3', '2000Q4', '2001Q1', '2001Q2',\n             '2001Q3', '2001Q4', '2002Q1', '2002Q2', '2002Q3', '2002Q4',\n             '2003Q1', '2003Q2', '2003Q3', '2003Q4', '2004Q1', '2004Q2',\n             '2004Q3', '2004Q4', '2005Q1', '2005Q2', '2005Q3', '2005Q4',\n             '2006Q1', '2006Q2', '2006Q3', '2006Q4', '2007Q1', '2007Q2',\n             '2007Q3', '2007Q4', '2008Q1', '2008Q2', '2008Q3', '2008Q4',\n             '2009Q1', '2009Q2', '2009Q3', '2009Q4', '2010Q1', '2010Q2',\n             '2010Q3', '2010Q4', '2011Q1', '2011Q2', '2011Q3', '2011Q4',\n             '2012Q1', '2012Q2', '2012Q3', '2012Q4', '2013Q1', '2013Q2',\n             '2013Q3', '2013Q4', '2014Q1', '2014Q2', '2014Q3', '2014Q4',\n             '2015Q1', '2015Q2', '2015Q3', '2015Q4', '2016Q1'],\n            dtype='period[Q-DEC]', freq='Q-DEC')"
     },
     "execution_count": 25,
     "metadata": {},
     "output_type": "execute_result"
    }
   ],
   "source": [
    "rng = pd.period_range('2000Q1','2016Q1',freq='Q')\n",
    "rng\n",
    "\n"
   ],
   "metadata": {
    "collapsed": false,
    "pycharm": {
     "name": "#%%\n"
    }
   }
  },
  {
   "cell_type": "code",
   "execution_count": 26,
   "outputs": [
    {
     "data": {
      "text/plain": "DatetimeIndex(['2000-01-01', '2000-04-01', '2000-07-01', '2000-10-01',\n               '2001-01-01', '2001-04-01', '2001-07-01', '2001-10-01',\n               '2002-01-01', '2002-04-01', '2002-07-01', '2002-10-01',\n               '2003-01-01', '2003-04-01', '2003-07-01', '2003-10-01',\n               '2004-01-01', '2004-04-01', '2004-07-01', '2004-10-01',\n               '2005-01-01', '2005-04-01', '2005-07-01', '2005-10-01',\n               '2006-01-01', '2006-04-01', '2006-07-01', '2006-10-01',\n               '2007-01-01', '2007-04-01', '2007-07-01', '2007-10-01',\n               '2008-01-01', '2008-04-01', '2008-07-01', '2008-10-01',\n               '2009-01-01', '2009-04-01', '2009-07-01', '2009-10-01',\n               '2010-01-01', '2010-04-01', '2010-07-01', '2010-10-01',\n               '2011-01-01', '2011-04-01', '2011-07-01', '2011-10-01',\n               '2012-01-01', '2012-04-01', '2012-07-01', '2012-10-01',\n               '2013-01-01', '2013-04-01', '2013-07-01', '2013-10-01',\n               '2014-01-01', '2014-04-01', '2014-07-01', '2014-10-01',\n               '2015-01-01', '2015-04-01', '2015-07-01', '2015-10-01',\n               '2016-01-01'],\n              dtype='datetime64[ns]', freq='QS-OCT')"
     },
     "execution_count": 26,
     "metadata": {},
     "output_type": "execute_result"
    }
   ],
   "source": [
    "rng.to_timestamp()"
   ],
   "metadata": {
    "collapsed": false,
    "pycharm": {
     "name": "#%%\n"
    }
   }
  },
  {
   "cell_type": "code",
   "execution_count": 27,
   "outputs": [
    {
     "data": {
      "text/plain": "Timedelta('29 days 00:00:00')"
     },
     "execution_count": 27,
     "metadata": {},
     "output_type": "execute_result"
    }
   ],
   "source": [
    "pd.Timestamp('20160301') - pd.Timestamp('20160201')"
   ],
   "metadata": {
    "collapsed": false,
    "pycharm": {
     "name": "#%%\n"
    }
   }
  },
  {
   "cell_type": "code",
   "execution_count": 28,
   "outputs": [
    {
     "data": {
      "text/plain": "Timestamp('2016-03-06 00:00:00')"
     },
     "execution_count": 28,
     "metadata": {},
     "output_type": "execute_result"
    }
   ],
   "source": [
    "pd.Timestamp('20160301') + pd.Timedelta(days=5)"
   ],
   "metadata": {
    "collapsed": false,
    "pycharm": {
     "name": "#%%\n"
    }
   }
  },
  {
   "cell_type": "markdown",
   "source": [
    "# 类别数据\n",
    "Categorical 是 pandas 0.15 版本才加入的新功能。用来表达类别数据。"
   ],
   "metadata": {
    "collapsed": false,
    "pycharm": {
     "name": "#%% md\n"
    }
   }
  },
  {
   "cell_type": "code",
   "execution_count": 29,
   "outputs": [
    {
     "data": {
      "text/plain": "   id raw_grade\n0   1         a\n1   2         b\n2   3         d\n3   4         d\n4   5         a\n5   6         b",
      "text/html": "<div>\n<style scoped>\n    .dataframe tbody tr th:only-of-type {\n        vertical-align: middle;\n    }\n\n    .dataframe tbody tr th {\n        vertical-align: top;\n    }\n\n    .dataframe thead th {\n        text-align: right;\n    }\n</style>\n<table border=\"1\" class=\"dataframe\">\n  <thead>\n    <tr style=\"text-align: right;\">\n      <th></th>\n      <th>id</th>\n      <th>raw_grade</th>\n    </tr>\n  </thead>\n  <tbody>\n    <tr>\n      <th>0</th>\n      <td>1</td>\n      <td>a</td>\n    </tr>\n    <tr>\n      <th>1</th>\n      <td>2</td>\n      <td>b</td>\n    </tr>\n    <tr>\n      <th>2</th>\n      <td>3</td>\n      <td>d</td>\n    </tr>\n    <tr>\n      <th>3</th>\n      <td>4</td>\n      <td>d</td>\n    </tr>\n    <tr>\n      <th>4</th>\n      <td>5</td>\n      <td>a</td>\n    </tr>\n    <tr>\n      <th>5</th>\n      <td>6</td>\n      <td>b</td>\n    </tr>\n  </tbody>\n</table>\n</div>"
     },
     "execution_count": 29,
     "metadata": {},
     "output_type": "execute_result"
    }
   ],
   "source": [
    "df = pd.DataFrame({'id':[1,2,3,4,5,6],'raw_grade':['a','b','d','d','a','b']})\n",
    "df"
   ],
   "metadata": {
    "collapsed": false,
    "pycharm": {
     "name": "#%%\n"
    }
   }
  },
  {
   "cell_type": "code",
   "execution_count": 30,
   "outputs": [
    {
     "data": {
      "text/plain": "0    a\n1    b\n2    d\n3    d\n4    a\n5    b\nName: grade, dtype: category\nCategories (3, object): [a, b, d]"
     },
     "execution_count": 30,
     "metadata": {},
     "output_type": "execute_result"
    }
   ],
   "source": [
    "df['grade'] = df.raw_grade.astype('category')\n",
    "df.grade"
   ],
   "metadata": {
    "collapsed": false,
    "pycharm": {
     "name": "#%%\n"
    }
   }
  },
  {
   "cell_type": "code",
   "execution_count": 31,
   "outputs": [
    {
     "data": {
      "text/plain": "Index(['a', 'b', 'd'], dtype='object')"
     },
     "execution_count": 31,
     "metadata": {},
     "output_type": "execute_result"
    }
   ],
   "source": [
    "df.grade.cat.categories"
   ],
   "metadata": {
    "collapsed": false,
    "pycharm": {
     "name": "#%%\n"
    }
   }
  },
  {
   "cell_type": "code",
   "execution_count": 32,
   "outputs": [
    {
     "data": {
      "text/plain": "   id raw_grade      grade\n0   1         a  very good\n1   2         b       good\n2   3         d        bad\n3   4         d        bad\n4   5         a  very good\n5   6         b       good",
      "text/html": "<div>\n<style scoped>\n    .dataframe tbody tr th:only-of-type {\n        vertical-align: middle;\n    }\n\n    .dataframe tbody tr th {\n        vertical-align: top;\n    }\n\n    .dataframe thead th {\n        text-align: right;\n    }\n</style>\n<table border=\"1\" class=\"dataframe\">\n  <thead>\n    <tr style=\"text-align: right;\">\n      <th></th>\n      <th>id</th>\n      <th>raw_grade</th>\n      <th>grade</th>\n    </tr>\n  </thead>\n  <tbody>\n    <tr>\n      <th>0</th>\n      <td>1</td>\n      <td>a</td>\n      <td>very good</td>\n    </tr>\n    <tr>\n      <th>1</th>\n      <td>2</td>\n      <td>b</td>\n      <td>good</td>\n    </tr>\n    <tr>\n      <th>2</th>\n      <td>3</td>\n      <td>d</td>\n      <td>bad</td>\n    </tr>\n    <tr>\n      <th>3</th>\n      <td>4</td>\n      <td>d</td>\n      <td>bad</td>\n    </tr>\n    <tr>\n      <th>4</th>\n      <td>5</td>\n      <td>a</td>\n      <td>very good</td>\n    </tr>\n    <tr>\n      <th>5</th>\n      <td>6</td>\n      <td>b</td>\n      <td>good</td>\n    </tr>\n  </tbody>\n</table>\n</div>"
     },
     "execution_count": 32,
     "metadata": {},
     "output_type": "execute_result"
    }
   ],
   "source": [
    "df.grade.cat.categories = ['very good','good', 'bad']\n",
    "df"
   ],
   "metadata": {
    "collapsed": false,
    "pycharm": {
     "name": "#%%\n"
    }
   }
  },
  {
   "cell_type": "code",
   "execution_count": 33,
   "outputs": [
    {
     "data": {
      "text/plain": "   id raw_grade      grade\n2   3         d        bad\n3   4         d        bad\n1   2         b       good\n5   6         b       good\n0   1         a  very good\n4   5         a  very good",
      "text/html": "<div>\n<style scoped>\n    .dataframe tbody tr th:only-of-type {\n        vertical-align: middle;\n    }\n\n    .dataframe tbody tr th {\n        vertical-align: top;\n    }\n\n    .dataframe thead th {\n        text-align: right;\n    }\n</style>\n<table border=\"1\" class=\"dataframe\">\n  <thead>\n    <tr style=\"text-align: right;\">\n      <th></th>\n      <th>id</th>\n      <th>raw_grade</th>\n      <th>grade</th>\n    </tr>\n  </thead>\n  <tbody>\n    <tr>\n      <th>2</th>\n      <td>3</td>\n      <td>d</td>\n      <td>bad</td>\n    </tr>\n    <tr>\n      <th>3</th>\n      <td>4</td>\n      <td>d</td>\n      <td>bad</td>\n    </tr>\n    <tr>\n      <th>1</th>\n      <td>2</td>\n      <td>b</td>\n      <td>good</td>\n    </tr>\n    <tr>\n      <th>5</th>\n      <td>6</td>\n      <td>b</td>\n      <td>good</td>\n    </tr>\n    <tr>\n      <th>0</th>\n      <td>1</td>\n      <td>a</td>\n      <td>very good</td>\n    </tr>\n    <tr>\n      <th>4</th>\n      <td>5</td>\n      <td>a</td>\n      <td>very good</td>\n    </tr>\n  </tbody>\n</table>\n</div>"
     },
     "execution_count": 33,
     "metadata": {},
     "output_type": "execute_result"
    }
   ],
   "source": [
    "df.sort_values(by='grade',ascending=False)"
   ],
   "metadata": {
    "collapsed": false,
    "pycharm": {
     "name": "#%%\n"
    }
   }
  },
  {
   "cell_type": "code",
   "execution_count": 34,
   "outputs": [
    {
     "data": {
      "text/plain": "2000-01-01   -1.673158\n2000-01-02   -0.765142\n2000-01-03    0.777250\n2000-01-04    0.193263\n2000-01-05    0.685959\n                ...   \n2002-09-22   -1.465747\n2002-09-23    0.004825\n2002-09-24    0.238439\n2002-09-25    0.039487\n2002-09-26   -0.157407\nFreq: D, Length: 1000, dtype: float64"
     },
     "execution_count": 34,
     "metadata": {},
     "output_type": "execute_result"
    }
   ],
   "source": [
    "s = pd.Series(np.random.randn(1000),index=pd.date_range('20000101',periods=1000))\n",
    "s"
   ],
   "metadata": {
    "collapsed": false,
    "pycharm": {
     "name": "#%%\n"
    }
   }
  },
  {
   "cell_type": "code",
   "execution_count": 35,
   "outputs": [],
   "source": [
    "s = s.cumsum()"
   ],
   "metadata": {
    "collapsed": false,
    "pycharm": {
     "name": "#%%\n"
    }
   }
  },
  {
   "cell_type": "code",
   "execution_count": 36,
   "outputs": [
    {
     "data": {
      "text/plain": "<Figure size 432x288 with 1 Axes>",
      "image/png": "[encoded data removed]"
     },
     "metadata": {
      "needs_background": "light"
     },
     "output_type": "display_data"
    }
   ],
   "source": [
    "s = s.plot()"
   ],
   "metadata": {
    "collapsed": false,
    "pycharm": {
     "name": "#%%\n"
    }
   }
  },
  {
   "cell_type": "code",
   "execution_count": 37,
   "outputs": [
    {
     "data": {
      "text/plain": "           A         B         C         D\n0  -0.428490 -0.396381 -0.473957 -0.556750\n1  -0.387848  1.483454  0.129753 -0.417024\n2   1.548396  1.311216 -0.400603  1.141239\n3  -1.023868  0.976802 -0.132711 -0.130323\n4   1.353663 -0.990014  1.261553  0.498696\n..       ...       ...       ...       ...\n95 -0.608433 -1.723088 -0.259079  1.561197\n96  0.012569  0.364154 -0.911368 -0.176425\n97 -1.202575  0.508102  0.828572 -2.058489\n98 -1.492914  0.031363  0.077484 -0.529433\n99 -1.681377  1.700972  1.272168  0.281660\n\n[100 rows x 4 columns]",
      "text/html": "<div>\n<style scoped>\n    .dataframe tbody tr th:only-of-type {\n        vertical-align: middle;\n    }\n\n    .dataframe tbody tr th {\n        vertical-align: top;\n    }\n\n    .dataframe thead th {\n        text-align: right;\n    }\n</style>\n<table border=\"1\" class=\"dataframe\">\n  <thead>\n    <tr style=\"text-align: right;\">\n      <th></th>\n      <th>A</th>\n      <th>B</th>\n      <th>C</th>\n      <th>D</th>\n    </tr>\n  </thead>\n  <tbody>\n    <tr>\n      <th>0</th>\n      <td>-0.428490</td>\n      <td>-0.396381</td>\n      <td>-0.473957</td>\n      <td>-0.556750</td>\n    </tr>\n    <tr>\n      <th>1</th>\n      <td>-0.387848</td>\n      <td>1.483454</td>\n      <td>0.129753</td>\n      <td>-0.417024</td>\n    </tr>\n    <tr>\n      <th>2</th>\n      <td>1.548396</td>\n      <td>1.311216</td>\n      <td>-0.400603</td>\n      <td>1.141239</td>\n    </tr>\n    <tr>\n      <th>3</th>\n      <td>-1.023868</td>\n      <td>0.976802</td>\n      <td>-0.132711</td>\n      <td>-0.130323</td>\n    </tr>\n    <tr>\n      <th>4</th>\n      <td>1.353663</td>\n      <td>-0.990014</td>\n      <td>1.261553</td>\n      <td>0.498696</td>\n    </tr>\n    <tr>\n      <th>...</th>\n      <td>...</td>\n      <td>...</td>\n      <td>...</td>\n      <td>...</td>\n    </tr>\n    <tr>\n      <th>95</th>\n      <td>-0.608433</td>\n      <td>-1.723088</td>\n      <td>-0.259079</td>\n      <td>1.561197</td>\n    </tr>\n    <tr>\n      <th>96</th>\n      <td>0.012569</td>\n      <td>0.364154</td>\n      <td>-0.911368</td>\n      <td>-0.176425</td>\n    </tr>\n    <tr>\n      <th>97</th>\n      <td>-1.202575</td>\n      <td>0.508102</td>\n      <td>0.828572</td>\n      <td>-2.058489</td>\n    </tr>\n    <tr>\n      <th>98</th>\n      <td>-1.492914</td>\n      <td>0.031363</td>\n      <td>0.077484</td>\n      <td>-0.529433</td>\n    </tr>\n    <tr>\n      <th>99</th>\n      <td>-1.681377</td>\n      <td>1.700972</td>\n      <td>1.272168</td>\n      <td>0.281660</td>\n    </tr>\n  </tbody>\n</table>\n<p>100 rows × 4 columns</p>\n</div>"
     },
     "execution_count": 37,
     "metadata": {},
     "output_type": "execute_result"
    }
   ],
   "source": [
    "df = pd.DataFrame(np.random.randn(100,4), columns=list('ABCD'))\n",
    "df"
   ],
   "metadata": {
    "collapsed": false,
    "pycharm": {
     "name": "#%%\n"
    }
   }
  },
  {
   "cell_type": "code",
   "execution_count": 38,
   "outputs": [],
   "source": [
    "df.to_csv('data.csv')"
   ],
   "metadata": {
    "collapsed": false,
    "pycharm": {
     "name": "#%%\n"
    }
   }
  },
  {
   "cell_type": "code",
   "execution_count": 39,
   "outputs": [
    {
     "name": "stdout",
     "output_type": "stream",
     "text": [
      "data.csv              pandas_intro.ipynb    series_intro.ipynb\r\n",
      "numpy.ipynb           pandas_intro_3.ipynb  test1.ipynb\r\n"
     ]
    }
   ],
   "source": [
    "%ls"
   ],
   "metadata": {
    "collapsed": false,
    "pycharm": {
     "name": "#%%\n"
    }
   }
  },
  {
   "cell_type": "code",
   "execution_count": 40,
   "outputs": [],
   "source": [
    "%more data.csv"
   ],
   "metadata": {
    "collapsed": false,
    "pycharm": {
     "name": "#%%\n"
    }
   }
  },
  {
   "cell_type": "code",
   "execution_count": 41,
   "outputs": [
    {
     "data": {
      "text/plain": "           A         B         C         D\n0  -0.428490 -0.396381 -0.473957 -0.556750\n1  -0.387848  1.483454  0.129753 -0.417024\n2   1.548396  1.311216 -0.400603  1.141239\n3  -1.023868  0.976802 -0.132711 -0.130323\n4   1.353663 -0.990014  1.261553  0.498696\n..       ...       ...       ...       ...\n95 -0.608433 -1.723088 -0.259079  1.561197\n96  0.012569  0.364154 -0.911368 -0.176425\n97 -1.202575  0.508102  0.828572 -2.058489\n98 -1.492914  0.031363  0.077484 -0.529433\n99 -1.681377  1.700972  1.272168  0.281660\n\n[100 rows x 4 columns]",
      "text/html": "<div>\n<style scoped>\n    .dataframe tbody tr th:only-of-type {\n        vertical-align: middle;\n    }\n\n    .dataframe tbody tr th {\n        vertical-align: top;\n    }\n\n    .dataframe thead th {\n        text-align: right;\n    }\n</style>\n<table border=\"1\" class=\"dataframe\">\n  <thead>\n    <tr style=\"text-align: right;\">\n      <th></th>\n      <th>A</th>\n      <th>B</th>\n      <th>C</th>\n      <th>D</th>\n    </tr>\n  </thead>\n  <tbody>\n    <tr>\n      <th>0</th>\n      <td>-0.428490</td>\n      <td>-0.396381</td>\n      <td>-0.473957</td>\n      <td>-0.556750</td>\n    </tr>\n    <tr>\n      <th>1</th>\n      <td>-0.387848</td>\n      <td>1.483454</td>\n      <td>0.129753</td>\n      <td>-0.417024</td>\n    </tr>\n    <tr>\n      <th>2</th>\n      <td>1.548396</td>\n      <td>1.311216</td>\n      <td>-0.400603</td>\n      <td>1.141239</td>\n    </tr>\n    <tr>\n      <th>3</th>\n      <td>-1.023868</td>\n      <td>0.976802</td>\n      <td>-0.132711</td>\n      <td>-0.130323</td>\n    </tr>\n    <tr>\n      <th>4</th>\n      <td>1.353663</td>\n      <td>-0.990014</td>\n      <td>1.261553</td>\n      <td>0.498696</td>\n    </tr>\n    <tr>\n      <th>...</th>\n      <td>...</td>\n      <td>...</td>\n      <td>...</td>\n      <td>...</td>\n    </tr>\n    <tr>\n      <th>95</th>\n      <td>-0.608433</td>\n      <td>-1.723088</td>\n      <td>-0.259079</td>\n      <td>1.561197</td>\n    </tr>\n    <tr>\n      <th>96</th>\n      <td>0.012569</td>\n      <td>0.364154</td>\n      <td>-0.911368</td>\n      <td>-0.176425</td>\n    </tr>\n    <tr>\n      <th>97</th>\n      <td>-1.202575</td>\n      <td>0.508102</td>\n      <td>0.828572</td>\n      <td>-2.058489</td>\n    </tr>\n    <tr>\n      <th>98</th>\n      <td>-1.492914</td>\n      <td>0.031363</td>\n      <td>0.077484</td>\n      <td>-0.529433</td>\n    </tr>\n    <tr>\n      <th>99</th>\n      <td>-1.681377</td>\n      <td>1.700972</td>\n      <td>1.272168</td>\n      <td>0.281660</td>\n    </tr>\n  </tbody>\n</table>\n<p>100 rows × 4 columns</p>\n</div>"
     },
     "execution_count": 41,
     "metadata": {},
     "output_type": "execute_result"
    }
   ],
   "source": [
    "pd.read_csv('data.csv',index_col=0)"
   ],
   "metadata": {
    "collapsed": false,
    "pycharm": {
     "name": "#%%\n"
    }
   }
  },
  {
   "cell_type": "code",
   "execution_count": 54,
   "outputs": [
    {
     "data": {
      "text/plain": "DatetimeIndex(['2019-01-31', '2019-02-28', '2019-03-31', '2019-04-30',\n               '2019-05-31'],\n              dtype='datetime64[ns]', freq='M')"
     },
     "execution_count": 54,
     "metadata": {},
     "output_type": "execute_result"
    }
   ],
   "source": [
    "ts = pd.date_range('20190101',periods=5,freq='M')\n",
    "ts"
   ],
   "metadata": {
    "collapsed": false,
    "pycharm": {
     "name": "#%%\n"
    }
   }
  },
  {
   "cell_type": "code",
   "execution_count": 55,
   "outputs": [
    {
     "data": {
      "text/plain": "2019-01-31   -0.144036\n2019-02-28   -0.538820\n2019-03-31   -0.667488\n2019-04-30    1.785844\n2019-05-31    0.269508\nFreq: M, dtype: float64"
     },
     "execution_count": 55,
     "metadata": {},
     "output_type": "execute_result"
    }
   ],
   "source": [
    "sd = pd.Series(np.random.randn(5),index=ts)\n",
    "sd"
   ],
   "metadata": {
    "collapsed": false,
    "pycharm": {
     "name": "#%%\n"
    }
   }
  },
  {
   "cell_type": "code",
   "execution_count": 56,
   "outputs": [
    {
     "data": {
      "text/plain": "2019-01   -0.144036\n2019-02   -0.538820\n2019-03   -0.667488\n2019-04    1.785844\n2019-05    0.269508\nFreq: M, dtype: float64"
     },
     "execution_count": 56,
     "metadata": {},
     "output_type": "execute_result"
    }
   ],
   "source": [
    "ts = sd.to_period()\n",
    "ts"
   ],
   "metadata": {
    "collapsed": false,
    "pycharm": {
     "name": "#%%\n"
    }
   }
  },
  {
   "cell_type": "code",
   "execution_count": 57,
   "outputs": [
    {
     "data": {
      "text/plain": "2019-01-01   -0.144036\n2019-02-01   -0.538820\n2019-03-01   -0.667488\n2019-04-01    1.785844\n2019-05-01    0.269508\nFreq: MS, dtype: float64"
     },
     "execution_count": 57,
     "metadata": {},
     "output_type": "execute_result"
    }
   ],
   "source": [
    "ts.to_timestamp()"
   ],
   "metadata": {
    "collapsed": false,
    "pycharm": {
     "name": "#%%\n"
    }
   }
  },
  {
   "cell_type": "code",
   "execution_count": 45,
   "outputs": [],
   "source": [
    "\n"
   ],
   "metadata": {
    "collapsed": false,
    "pycharm": {
     "name": "#%%\n"
    }
   }
  }
 ],
 "metadata": {
  "kernelspec": {
   "display_name": "Python 3",
   "language": "python",
   "name": "python3"
  },
  "language_info": {
   "codemirror_mode": {
    "name": "ipython",
    "version": 2
   },
   "file_extension": ".py",
   "mimetype": "text/x-python",
   "name": "python",
   "nbconvert_exporter": "python",
   "pygments_lexer": "ipython2",
   "version": "2.7.6"
  }
 },
 "nbformat": 4,
 "nbformat_minor": 0
}