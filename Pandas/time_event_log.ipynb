{
 "cells": [
  {
   "cell_type": "markdown",
   "metadata": {
    "collapsed": true,
    "pycharm": {
     "name": "#%% md\n"
    }
   },
   "source": [
    "# 时间日志分析\n",
    "\n",
    "## 读取数据\n",
    "分析并读取数据"
   ]
  },
  {
   "cell_type": "code",
   "execution_count": 1,
   "outputs": [],
   "source": [
    "%matplotlib inline\n",
    "import pandas as pd\n",
    "import matplotlib.pyplot as plt"
   ],
   "metadata": {
    "collapsed": false,
    "pycharm": {
     "name": "#%%\n"
    }
   }
  },
  {
   "cell_type": "code",
   "execution_count": 2,
   "outputs": [],
   "source": [
    "from matplotlib.pylab import mpl\n",
    "\n",
    "mpl.rcParams['font.sans-serif'] = ['Arial Unicode MS']  # 指定默认字体\n",
    "mpl.rcParams['axes.unicode_minus'] = False  # 解决保存图像是负号'-'显示为方块的问题"
   ],
   "metadata": {
    "collapsed": false,
    "pycharm": {
     "name": "#%%\n"
    }
   }
  },
  {
   "cell_type": "code",
   "execution_count": 3,
   "outputs": [
    {
     "data": {
      "text/plain": "           List Name                            Title  \\\nDue Date                                                \n2016-05-24      自我成长    [编程] javascript exercism [1h]   \n2016-05-23      自我成长  [编程] javascript exercism [0.5h]   \n2016-05-23      自我成长   [编程] clojure ring request [2h]   \n2016-05-22      自我成长       [编程] clojure ring 入门 [30m]   \n2016-05-22      自我成长         [探索发现] 体验 iMac 开发环境 [3h]   \n\n                                          Content Is Checklist  Reminder  \\\nDue Date                                                                   \n2016-05-24                                    NaN            N       NaN   \n2016-05-23                                    NaN            N       NaN   \n2016-05-23              阅读 ring.util.request 源码\\r            N       NaN   \n2016-05-22                                    NaN            N       NaN   \n2016-05-22  iMac 的屏幕体验很棒，但使用非SSD硬盘速度上和mpb想着非常多。\\r            N       NaN   \n\n            Repeat  Priority  Status            Completed Time  \\\nDue Date                                                         \n2016-05-24     NaN         0       2  2016-05-25T14:15:10+0000   \n2016-05-23     NaN         0       2  2016-05-24T15:59:08+0000   \n2016-05-23     NaN         0       2  2016-05-24T15:58:56+0000   \n2016-05-22     NaN         0       2  2016-05-23T15:03:24+0000   \n2016-05-22     NaN         0       2  2016-05-23T14:33:35+0000   \n\n                      Order       Timezone  Is All Day  \nDue Date                                                \n2016-05-24 -235295488344064  Asia/Shanghai        True  \n2016-05-23 -234195976716288  Asia/Shanghai        True  \n2016-05-23 -233096465088512  Asia/Shanghai        True  \n2016-05-22 -231996953460736  Asia/Shanghai        True  \n2016-05-22 -230897441832960  Asia/Shanghai        True  ",
      "text/html": "<div>\n<style scoped>\n    .dataframe tbody tr th:only-of-type {\n        vertical-align: middle;\n    }\n\n    .dataframe tbody tr th {\n        vertical-align: top;\n    }\n\n    .dataframe thead th {\n        text-align: right;\n    }\n</style>\n<table border=\"1\" class=\"dataframe\">\n  <thead>\n    <tr style=\"text-align: right;\">\n      <th></th>\n      <th>List Name</th>\n      <th>Title</th>\n      <th>Content</th>\n      <th>Is Checklist</th>\n      <th>Reminder</th>\n      <th>Repeat</th>\n      <th>Priority</th>\n      <th>Status</th>\n      <th>Completed Time</th>\n      <th>Order</th>\n      <th>Timezone</th>\n      <th>Is All Day</th>\n    </tr>\n    <tr>\n      <th>Due Date</th>\n      <th></th>\n      <th></th>\n      <th></th>\n      <th></th>\n      <th></th>\n      <th></th>\n      <th></th>\n      <th></th>\n      <th></th>\n      <th></th>\n      <th></th>\n      <th></th>\n    </tr>\n  </thead>\n  <tbody>\n    <tr>\n      <th>2016-05-24</th>\n      <td>自我成长</td>\n      <td>[编程] javascript exercism [1h]</td>\n      <td>NaN</td>\n      <td>N</td>\n      <td>NaN</td>\n      <td>NaN</td>\n      <td>0</td>\n      <td>2</td>\n      <td>2016-05-25T14:15:10+0000</td>\n      <td>-235295488344064</td>\n      <td>Asia/Shanghai</td>\n      <td>True</td>\n    </tr>\n    <tr>\n      <th>2016-05-23</th>\n      <td>自我成长</td>\n      <td>[编程] javascript exercism [0.5h]</td>\n      <td>NaN</td>\n      <td>N</td>\n      <td>NaN</td>\n      <td>NaN</td>\n      <td>0</td>\n      <td>2</td>\n      <td>2016-05-24T15:59:08+0000</td>\n      <td>-234195976716288</td>\n      <td>Asia/Shanghai</td>\n      <td>True</td>\n    </tr>\n    <tr>\n      <th>2016-05-23</th>\n      <td>自我成长</td>\n      <td>[编程] clojure ring request [2h]</td>\n      <td>阅读 ring.util.request 源码\\r</td>\n      <td>N</td>\n      <td>NaN</td>\n      <td>NaN</td>\n      <td>0</td>\n      <td>2</td>\n      <td>2016-05-24T15:58:56+0000</td>\n      <td>-233096465088512</td>\n      <td>Asia/Shanghai</td>\n      <td>True</td>\n    </tr>\n    <tr>\n      <th>2016-05-22</th>\n      <td>自我成长</td>\n      <td>[编程] clojure ring 入门 [30m]</td>\n      <td>NaN</td>\n      <td>N</td>\n      <td>NaN</td>\n      <td>NaN</td>\n      <td>0</td>\n      <td>2</td>\n      <td>2016-05-23T15:03:24+0000</td>\n      <td>-231996953460736</td>\n      <td>Asia/Shanghai</td>\n      <td>True</td>\n    </tr>\n    <tr>\n      <th>2016-05-22</th>\n      <td>自我成长</td>\n      <td>[探索发现] 体验 iMac 开发环境 [3h]</td>\n      <td>iMac 的屏幕体验很棒，但使用非SSD硬盘速度上和mpb想着非常多。\\r</td>\n      <td>N</td>\n      <td>NaN</td>\n      <td>NaN</td>\n      <td>0</td>\n      <td>2</td>\n      <td>2016-05-23T14:33:35+0000</td>\n      <td>-230897441832960</td>\n      <td>Asia/Shanghai</td>\n      <td>True</td>\n    </tr>\n  </tbody>\n</table>\n</div>"
     },
     "execution_count": 3,
     "metadata": {},
     "output_type": "execute_result"
    }
   ],
   "source": [
    "def _date_parser(dstr):\n",
    "    return pd.Timestamp(dstr).date()\n",
    "data = pd.read_csv('dida365.csv',header=3,index_col='Due Date',parse_dates=True,date_parser=_date_parser)\n",
    "data.head()"
   ],
   "metadata": {
    "collapsed": false,
    "pycharm": {
     "name": "#%%\n"
    }
   }
  },
  {
   "cell_type": "markdown",
   "source": [
    "## 数据清洗\n",
    "* 只关心己完成或己达成的事件，即 `status != 0` 的事件\n",
    "* 只需要 `List Name` 和 `Title` 字段\n"
   ],
   "metadata": {
    "collapsed": false,
    "pycharm": {
     "name": "#%% md\n"
    }
   }
  },
  {
   "cell_type": "code",
   "execution_count": 4,
   "outputs": [
    {
     "data": {
      "text/plain": "           List Name                            Title\nDue Date                                             \n2016-05-24      自我成长    [编程] javascript exercism [1h]\n2016-05-23      自我成长  [编程] javascript exercism [0.5h]\n2016-05-23      自我成长   [编程] clojure ring request [2h]\n2016-05-22      自我成长       [编程] clojure ring 入门 [30m]\n2016-05-22      自我成长         [探索发现] 体验 iMac 开发环境 [3h]",
      "text/html": "<div>\n<style scoped>\n    .dataframe tbody tr th:only-of-type {\n        vertical-align: middle;\n    }\n\n    .dataframe tbody tr th {\n        vertical-align: top;\n    }\n\n    .dataframe thead th {\n        text-align: right;\n    }\n</style>\n<table border=\"1\" class=\"dataframe\">\n  <thead>\n    <tr style=\"text-align: right;\">\n      <th></th>\n      <th>List Name</th>\n      <th>Title</th>\n    </tr>\n    <tr>\n      <th>Due Date</th>\n      <th></th>\n      <th></th>\n    </tr>\n  </thead>\n  <tbody>\n    <tr>\n      <th>2016-05-24</th>\n      <td>自我成长</td>\n      <td>[编程] javascript exercism [1h]</td>\n    </tr>\n    <tr>\n      <th>2016-05-23</th>\n      <td>自我成长</td>\n      <td>[编程] javascript exercism [0.5h]</td>\n    </tr>\n    <tr>\n      <th>2016-05-23</th>\n      <td>自我成长</td>\n      <td>[编程] clojure ring request [2h]</td>\n    </tr>\n    <tr>\n      <th>2016-05-22</th>\n      <td>自我成长</td>\n      <td>[编程] clojure ring 入门 [30m]</td>\n    </tr>\n    <tr>\n      <th>2016-05-22</th>\n      <td>自我成长</td>\n      <td>[探索发现] 体验 iMac 开发环境 [3h]</td>\n    </tr>\n  </tbody>\n</table>\n</div>"
     },
     "execution_count": 4,
     "metadata": {},
     "output_type": "execute_result"
    }
   ],
   "source": [
    "df = data[data['Status'] != 0].loc[:,['List Name','Title']]\n",
    "df.head()"
   ],
   "metadata": {
    "collapsed": false,
    "pycharm": {
     "name": "#%%\n"
    }
   }
  },
  {
   "cell_type": "markdown",
   "source": [
    "## 数据解析\n",
    "解析事件类别和和花费的时间"
   ],
   "metadata": {
    "collapsed": false,
    "pycharm": {
     "name": "#%% md\n"
    }
   }
  },
  {
   "cell_type": "code",
   "execution_count": 5,
   "outputs": [
    {
     "data": {
      "text/plain": "           List Name                            Title   Tag  Duration\nDue Date                                                             \n2016-05-24      自我成长    [编程] javascript exercism [1h]    编程       1.0\n2016-05-23      自我成长  [编程] javascript exercism [0.5h]    编程       0.0\n2016-05-23      自我成长   [编程] clojure ring request [2h]    编程       2.0\n2016-05-22      自我成长       [编程] clojure ring 入门 [30m]    编程      30.0\n2016-05-22      自我成长         [探索发现] 体验 iMac 开发环境 [3h]  探索发现       3.0",
      "text/html": "<div>\n<style scoped>\n    .dataframe tbody tr th:only-of-type {\n        vertical-align: middle;\n    }\n\n    .dataframe tbody tr th {\n        vertical-align: top;\n    }\n\n    .dataframe thead th {\n        text-align: right;\n    }\n</style>\n<table border=\"1\" class=\"dataframe\">\n  <thead>\n    <tr style=\"text-align: right;\">\n      <th></th>\n      <th>List Name</th>\n      <th>Title</th>\n      <th>Tag</th>\n      <th>Duration</th>\n    </tr>\n    <tr>\n      <th>Due Date</th>\n      <th></th>\n      <th></th>\n      <th></th>\n      <th></th>\n    </tr>\n  </thead>\n  <tbody>\n    <tr>\n      <th>2016-05-24</th>\n      <td>自我成长</td>\n      <td>[编程] javascript exercism [1h]</td>\n      <td>编程</td>\n      <td>1.0</td>\n    </tr>\n    <tr>\n      <th>2016-05-23</th>\n      <td>自我成长</td>\n      <td>[编程] javascript exercism [0.5h]</td>\n      <td>编程</td>\n      <td>0.0</td>\n    </tr>\n    <tr>\n      <th>2016-05-23</th>\n      <td>自我成长</td>\n      <td>[编程] clojure ring request [2h]</td>\n      <td>编程</td>\n      <td>2.0</td>\n    </tr>\n    <tr>\n      <th>2016-05-22</th>\n      <td>自我成长</td>\n      <td>[编程] clojure ring 入门 [30m]</td>\n      <td>编程</td>\n      <td>30.0</td>\n    </tr>\n    <tr>\n      <th>2016-05-22</th>\n      <td>自我成长</td>\n      <td>[探索发现] 体验 iMac 开发环境 [3h]</td>\n      <td>探索发现</td>\n      <td>3.0</td>\n    </tr>\n  </tbody>\n</table>\n</div>"
     },
     "execution_count": 5,
     "metadata": {},
     "output_type": "execute_result"
    }
   ],
   "source": [
    "import re\n",
    "def parse_tag(value):\n",
    "    m = re.match(r'^\\[(.*)].*]$', value)\n",
    "    if m and m.group(1):\n",
    "        return m.group(1)\n",
    "    else:\n",
    "        return 'other'\n",
    "\n",
    "def parse_duration(value):\n",
    "    m = re.match(r'^\\[.*].*\\[(\\d{1,2})([hm])]$',value)\n",
    "    if m:\n",
    "        dur = 0\n",
    "        try:\n",
    "            dur = float(m.group(1))\n",
    "        except Exception as e:\n",
    "            print('parse duration error: \\n%s' % e)\n",
    "        if m.group(2) == 'm':\n",
    "            fur = dur /60.0\n",
    "        return dur\n",
    "    else:\n",
    "        return 0\n",
    "\n",
    "titles = df['Title']\n",
    "df['Tag'] = titles.map(parse_tag)\n",
    "df['Duration'] = titles.map(parse_duration)\n",
    "df.head()"
   ],
   "metadata": {
    "collapsed": false,
    "pycharm": {
     "name": "#%%\n"
    }
   }
  },
  {
   "cell_type": "code",
   "execution_count": 6,
   "outputs": [
    {
     "data": {
      "text/plain": "List Name    232\nTitle        232\nTag          232\nDuration     232\ndtype: int64"
     },
     "execution_count": 6,
     "metadata": {},
     "output_type": "execute_result"
    }
   ],
   "source": [
    "df.count()"
   ],
   "metadata": {
    "collapsed": false,
    "pycharm": {
     "name": "#%%\n"
    }
   }
  },
  {
   "cell_type": "code",
   "execution_count": 7,
   "outputs": [
    {
     "data": {
      "text/plain": "datetime.date(2015, 12, 2)"
     },
     "execution_count": 7,
     "metadata": {},
     "output_type": "execute_result"
    }
   ],
   "source": [
    "start_date = df.index.min().date()\n",
    "start_date"
   ],
   "metadata": {
    "collapsed": false,
    "pycharm": {
     "name": "#%%\n"
    }
   }
  },
  {
   "cell_type": "code",
   "execution_count": 8,
   "outputs": [
    {
     "data": {
      "text/plain": "datetime.date(2016, 5, 24)"
     },
     "execution_count": 8,
     "metadata": {},
     "output_type": "execute_result"
    }
   ],
   "source": [
    "end_date = df.index.max().date()\n",
    "end_date"
   ],
   "metadata": {
    "collapsed": false,
    "pycharm": {
     "name": "#%%\n"
    }
   }
  },
  {
   "cell_type": "markdown",
   "source": [
    "## 数据分析\n",
    "\n",
    "#### 时间总览\n",
    "平均每天投资在自己身上的时间是多少？-> *全部时间 / 总天数*"
   ],
   "metadata": {
    "collapsed": false,
    "pycharm": {
     "name": "#%% md\n"
    }
   }
  },
  {
   "cell_type": "code",
   "execution_count": 9,
   "outputs": [
    {
     "data": {
      "text/plain": "datetime.timedelta(days=174)"
     },
     "execution_count": 9,
     "metadata": {},
     "output_type": "execute_result"
    }
   ],
   "source": [
    "end_date - start_date"
   ],
   "metadata": {
    "collapsed": false,
    "pycharm": {
     "name": "#%%\n"
    }
   }
  },
  {
   "cell_type": "code",
   "execution_count": 10,
   "outputs": [
    {
     "data": {
      "text/plain": "700.0"
     },
     "execution_count": 10,
     "metadata": {},
     "output_type": "execute_result"
    }
   ],
   "source": [
    "df['Duration'].sum()"
   ],
   "metadata": {
    "collapsed": false,
    "pycharm": {
     "name": "#%%\n"
    }
   }
  },
  {
   "cell_type": "code",
   "execution_count": 11,
   "outputs": [
    {
     "data": {
      "text/plain": "4.022988505747127"
     },
     "execution_count": 11,
     "metadata": {},
     "output_type": "execute_result"
    }
   ],
   "source": [
    "df['Duration'].sum() / (end_date - start_date).days"
   ],
   "metadata": {
    "collapsed": false,
    "pycharm": {
     "name": "#%%\n"
    }
   }
  },
  {
   "cell_type": "markdown",
   "source": [
    "#### 精力分配"
   ],
   "metadata": {
    "collapsed": false,
    "pycharm": {
     "name": "#%% md\n"
    }
   }
  },
  {
   "cell_type": "code",
   "execution_count": 12,
   "outputs": [
    {
     "data": {
      "text/plain": "      Duration\nTag           \n写作        42.0\n探索发现      84.0\n机器学习      23.0\n电影        49.0\n编程       333.0\n阅读       169.0",
      "text/html": "<div>\n<style scoped>\n    .dataframe tbody tr th:only-of-type {\n        vertical-align: middle;\n    }\n\n    .dataframe tbody tr th {\n        vertical-align: top;\n    }\n\n    .dataframe thead th {\n        text-align: right;\n    }\n</style>\n<table border=\"1\" class=\"dataframe\">\n  <thead>\n    <tr style=\"text-align: right;\">\n      <th></th>\n      <th>Duration</th>\n    </tr>\n    <tr>\n      <th>Tag</th>\n      <th></th>\n    </tr>\n  </thead>\n  <tbody>\n    <tr>\n      <th>写作</th>\n      <td>42.0</td>\n    </tr>\n    <tr>\n      <th>探索发现</th>\n      <td>84.0</td>\n    </tr>\n    <tr>\n      <th>机器学习</th>\n      <td>23.0</td>\n    </tr>\n    <tr>\n      <th>电影</th>\n      <td>49.0</td>\n    </tr>\n    <tr>\n      <th>编程</th>\n      <td>333.0</td>\n    </tr>\n    <tr>\n      <th>阅读</th>\n      <td>169.0</td>\n    </tr>\n  </tbody>\n</table>\n</div>"
     },
     "execution_count": 12,
     "metadata": {},
     "output_type": "execute_result"
    }
   ],
   "source": [
    "tag_list = df.groupby('Tag').sum()\n",
    "tag_list"
   ],
   "metadata": {
    "collapsed": false,
    "pycharm": {
     "name": "#%%\n"
    }
   }
  },
  {
   "cell_type": "code",
   "execution_count": 13,
   "outputs": [
    {
     "data": {
      "text/plain": "<matplotlib.axes._subplots.AxesSubplot at 0x1192ac150>"
     },
     "execution_count": 13,
     "metadata": {},
     "output_type": "execute_result"
    },
    {
     "data": {
      "text/plain": "<Figure size 576x576 with 1 Axes>",
      "image/png": "[encoded data removed]"
     },
     "metadata": {},
     "output_type": "display_data"
    }
   ],
   "source": [
    "tag_list['Duration'].plot(kind='pie',figsize=(8,8),fontsize=16,autopct='%.2f%%')"
   ],
   "metadata": {
    "collapsed": false,
    "pycharm": {
     "name": "#%%\n"
    }
   }
  },
  {
   "cell_type": "markdown",
   "source": [
    "## 专注力\n",
    "长时间学习某项技能的能力"
   ],
   "metadata": {
    "collapsed": false,
    "pycharm": {
     "name": "#%% md\n"
    }
   }
  },
  {
   "cell_type": "code",
   "execution_count": 14,
   "outputs": [
    {
     "data": {
      "text/plain": "           List Name                            Title Tag  Duration\nDue Date                                                           \n2016-05-24      自我成长    [编程] javascript exercism [1h]  编程       1.0\n2016-05-23      自我成长  [编程] javascript exercism [0.5h]  编程       0.0\n2016-05-23      自我成长   [编程] clojure ring request [2h]  编程       2.0\n2016-05-22      自我成长       [编程] clojure ring 入门 [30m]  编程      30.0\n2016-05-22      自我成长  [编程] javascript exercism [0.5h]  编程       0.0",
      "text/html": "<div>\n<style scoped>\n    .dataframe tbody tr th:only-of-type {\n        vertical-align: middle;\n    }\n\n    .dataframe tbody tr th {\n        vertical-align: top;\n    }\n\n    .dataframe thead th {\n        text-align: right;\n    }\n</style>\n<table border=\"1\" class=\"dataframe\">\n  <thead>\n    <tr style=\"text-align: right;\">\n      <th></th>\n      <th>List Name</th>\n      <th>Title</th>\n      <th>Tag</th>\n      <th>Duration</th>\n    </tr>\n    <tr>\n      <th>Due Date</th>\n      <th></th>\n      <th></th>\n      <th></th>\n      <th></th>\n    </tr>\n  </thead>\n  <tbody>\n    <tr>\n      <th>2016-05-24</th>\n      <td>自我成长</td>\n      <td>[编程] javascript exercism [1h]</td>\n      <td>编程</td>\n      <td>1.0</td>\n    </tr>\n    <tr>\n      <th>2016-05-23</th>\n      <td>自我成长</td>\n      <td>[编程] javascript exercism [0.5h]</td>\n      <td>编程</td>\n      <td>0.0</td>\n    </tr>\n    <tr>\n      <th>2016-05-23</th>\n      <td>自我成长</td>\n      <td>[编程] clojure ring request [2h]</td>\n      <td>编程</td>\n      <td>2.0</td>\n    </tr>\n    <tr>\n      <th>2016-05-22</th>\n      <td>自我成长</td>\n      <td>[编程] clojure ring 入门 [30m]</td>\n      <td>编程</td>\n      <td>30.0</td>\n    </tr>\n    <tr>\n      <th>2016-05-22</th>\n      <td>自我成长</td>\n      <td>[编程] javascript exercism [0.5h]</td>\n      <td>编程</td>\n      <td>0.0</td>\n    </tr>\n  </tbody>\n</table>\n</div>"
     },
     "execution_count": 14,
     "metadata": {},
     "output_type": "execute_result"
    }
   ],
   "source": [
    "programming = df[df['Tag'] == '编程']\n",
    "programming.head()\n"
   ],
   "metadata": {
    "collapsed": false,
    "pycharm": {
     "name": "#%%\n"
    }
   }
  },
  {
   "cell_type": "code",
   "execution_count": 15,
   "outputs": [
    {
     "data": {
      "text/plain": "<matplotlib.axes._subplots.AxesSubplot at 0x11b5b2d90>"
     },
     "execution_count": 15,
     "metadata": {},
     "output_type": "execute_result"
    },
    {
     "data": {
      "text/plain": "<Figure size 576x576 with 1 Axes>",
      "image/png": "[encoded data removed]"
     },
     "metadata": {
      "needs_background": "light"
     },
     "output_type": "display_data"
    }
   ],
   "source": [
    "programming.resample('m').sum().to_period(freq='m').plot(kind='bar', figsize=(8, 8), fontsize=16)"
   ],
   "metadata": {
    "collapsed": false,
    "pycharm": {
     "name": "#%%\n"
    }
   }
  },
  {
   "cell_type": "code",
   "execution_count": 16,
   "outputs": [
    {
     "data": {
      "text/plain": "          Duration\nDue Date          \n2015          32.0\n2016          59.0\n2016          86.0\n2016          21.0\n2016          44.0\n2016          91.0",
      "text/html": "<div>\n<style scoped>\n    .dataframe tbody tr th:only-of-type {\n        vertical-align: middle;\n    }\n\n    .dataframe tbody tr th {\n        vertical-align: top;\n    }\n\n    .dataframe thead th {\n        text-align: right;\n    }\n</style>\n<table border=\"1\" class=\"dataframe\">\n  <thead>\n    <tr style=\"text-align: right;\">\n      <th></th>\n      <th>Duration</th>\n    </tr>\n    <tr>\n      <th>Due Date</th>\n      <th></th>\n    </tr>\n  </thead>\n  <tbody>\n    <tr>\n      <th>2015</th>\n      <td>32.0</td>\n    </tr>\n    <tr>\n      <th>2016</th>\n      <td>59.0</td>\n    </tr>\n    <tr>\n      <th>2016</th>\n      <td>86.0</td>\n    </tr>\n    <tr>\n      <th>2016</th>\n      <td>21.0</td>\n    </tr>\n    <tr>\n      <th>2016</th>\n      <td>44.0</td>\n    </tr>\n    <tr>\n      <th>2016</th>\n      <td>91.0</td>\n    </tr>\n  </tbody>\n</table>\n</div>"
     },
     "execution_count": 16,
     "metadata": {},
     "output_type": "execute_result"
    }
   ],
   "source": [
    "programming.resample('m').sum().to_period(freq='A-DEC')"
   ],
   "metadata": {
    "collapsed": false,
    "pycharm": {
     "name": "#%%\n"
    }
   }
  },
  {
   "cell_type": "markdown",
   "source": [
    "#### 连续时间的精力分配\n",
    "\n",
    "以时间为横轴，查看精力分配。"
   ],
   "metadata": {
    "collapsed": false,
    "pycharm": {
     "name": "#%% md\n"
    }
   }
  },
  {
   "cell_type": "code",
   "execution_count": 17,
   "outputs": [
    {
     "data": {
      "text/plain": "                 Duration\nDue Date   Tag           \n2015-12-02 写作         3.0\n2015-12-04 阅读         3.0\n2015-12-06 写作         4.0\n           机器学习       3.0\n2015-12-07 写作         1.0\n...                   ...\n2016-05-20 编程         4.0\n2016-05-22 探索发现       3.0\n           编程        30.0\n2016-05-23 编程         2.0\n2016-05-24 编程         1.0\n\n[187 rows x 1 columns]",
      "text/html": "<div>\n<style scoped>\n    .dataframe tbody tr th:only-of-type {\n        vertical-align: middle;\n    }\n\n    .dataframe tbody tr th {\n        vertical-align: top;\n    }\n\n    .dataframe thead th {\n        text-align: right;\n    }\n</style>\n<table border=\"1\" class=\"dataframe\">\n  <thead>\n    <tr style=\"text-align: right;\">\n      <th></th>\n      <th></th>\n      <th>Duration</th>\n    </tr>\n    <tr>\n      <th>Due Date</th>\n      <th>Tag</th>\n      <th></th>\n    </tr>\n  </thead>\n  <tbody>\n    <tr>\n      <th>2015-12-02</th>\n      <th>写作</th>\n      <td>3.0</td>\n    </tr>\n    <tr>\n      <th>2015-12-04</th>\n      <th>阅读</th>\n      <td>3.0</td>\n    </tr>\n    <tr>\n      <th rowspan=\"2\" valign=\"top\">2015-12-06</th>\n      <th>写作</th>\n      <td>4.0</td>\n    </tr>\n    <tr>\n      <th>机器学习</th>\n      <td>3.0</td>\n    </tr>\n    <tr>\n      <th>2015-12-07</th>\n      <th>写作</th>\n      <td>1.0</td>\n    </tr>\n    <tr>\n      <th>...</th>\n      <th>...</th>\n      <td>...</td>\n    </tr>\n    <tr>\n      <th>2016-05-20</th>\n      <th>编程</th>\n      <td>4.0</td>\n    </tr>\n    <tr>\n      <th rowspan=\"2\" valign=\"top\">2016-05-22</th>\n      <th>探索发现</th>\n      <td>3.0</td>\n    </tr>\n    <tr>\n      <th>编程</th>\n      <td>30.0</td>\n    </tr>\n    <tr>\n      <th>2016-05-23</th>\n      <th>编程</th>\n      <td>2.0</td>\n    </tr>\n    <tr>\n      <th>2016-05-24</th>\n      <th>编程</th>\n      <td>1.0</td>\n    </tr>\n  </tbody>\n</table>\n<p>187 rows × 1 columns</p>\n</div>"
     },
     "execution_count": 17,
     "metadata": {},
     "output_type": "execute_result"
    }
   ],
   "source": [
    "# 为什么不直接使用 df.pivot()? 因为有重复的行索引，如 2016-05-23\n",
    "date_tags = df.reset_index().groupby(['Due Date', 'Tag']).sum()\n",
    "date_tags\n",
    "\n"
   ],
   "metadata": {
    "collapsed": false,
    "pycharm": {
     "name": "#%%\n"
    }
   }
  },
  {
   "cell_type": "code",
   "execution_count": 18,
   "outputs": [
    {
     "data": {
      "text/plain": "Tag          写作  探索发现  机器学习  电影    编程   阅读\nDue Date                                  \n2015-12-02  3.0   NaN   NaN NaN   NaN  NaN\n2015-12-04  NaN   NaN   NaN NaN   NaN  3.0\n2015-12-06  4.0   NaN   3.0 NaN   NaN  NaN\n2015-12-07  1.0   NaN   NaN NaN   NaN  NaN\n2015-12-08  NaN   NaN   1.0 NaN   4.0  NaN\n...         ...   ...   ...  ..   ...  ...\n2016-05-19  NaN   NaN   NaN NaN   1.0  NaN\n2016-05-20  NaN   NaN   NaN NaN   4.0  NaN\n2016-05-22  NaN   3.0   NaN NaN  30.0  NaN\n2016-05-23  NaN   NaN   NaN NaN   2.0  NaN\n2016-05-24  NaN   NaN   NaN NaN   1.0  NaN\n\n[133 rows x 6 columns]",
      "text/html": "<div>\n<style scoped>\n    .dataframe tbody tr th:only-of-type {\n        vertical-align: middle;\n    }\n\n    .dataframe tbody tr th {\n        vertical-align: top;\n    }\n\n    .dataframe thead th {\n        text-align: right;\n    }\n</style>\n<table border=\"1\" class=\"dataframe\">\n  <thead>\n    <tr style=\"text-align: right;\">\n      <th>Tag</th>\n      <th>写作</th>\n      <th>探索发现</th>\n      <th>机器学习</th>\n      <th>电影</th>\n      <th>编程</th>\n      <th>阅读</th>\n    </tr>\n    <tr>\n      <th>Due Date</th>\n      <th></th>\n      <th></th>\n      <th></th>\n      <th></th>\n      <th></th>\n      <th></th>\n    </tr>\n  </thead>\n  <tbody>\n    <tr>\n      <th>2015-12-02</th>\n      <td>3.0</td>\n      <td>NaN</td>\n      <td>NaN</td>\n      <td>NaN</td>\n      <td>NaN</td>\n      <td>NaN</td>\n    </tr>\n    <tr>\n      <th>2015-12-04</th>\n      <td>NaN</td>\n      <td>NaN</td>\n      <td>NaN</td>\n      <td>NaN</td>\n      <td>NaN</td>\n      <td>3.0</td>\n    </tr>\n    <tr>\n      <th>2015-12-06</th>\n      <td>4.0</td>\n      <td>NaN</td>\n      <td>3.0</td>\n      <td>NaN</td>\n      <td>NaN</td>\n      <td>NaN</td>\n    </tr>\n    <tr>\n      <th>2015-12-07</th>\n      <td>1.0</td>\n      <td>NaN</td>\n      <td>NaN</td>\n      <td>NaN</td>\n      <td>NaN</td>\n      <td>NaN</td>\n    </tr>\n    <tr>\n      <th>2015-12-08</th>\n      <td>NaN</td>\n      <td>NaN</td>\n      <td>1.0</td>\n      <td>NaN</td>\n      <td>4.0</td>\n      <td>NaN</td>\n    </tr>\n    <tr>\n      <th>...</th>\n      <td>...</td>\n      <td>...</td>\n      <td>...</td>\n      <td>...</td>\n      <td>...</td>\n      <td>...</td>\n    </tr>\n    <tr>\n      <th>2016-05-19</th>\n      <td>NaN</td>\n      <td>NaN</td>\n      <td>NaN</td>\n      <td>NaN</td>\n      <td>1.0</td>\n      <td>NaN</td>\n    </tr>\n    <tr>\n      <th>2016-05-20</th>\n      <td>NaN</td>\n      <td>NaN</td>\n      <td>NaN</td>\n      <td>NaN</td>\n      <td>4.0</td>\n      <td>NaN</td>\n    </tr>\n    <tr>\n      <th>2016-05-22</th>\n      <td>NaN</td>\n      <td>3.0</td>\n      <td>NaN</td>\n      <td>NaN</td>\n      <td>30.0</td>\n      <td>NaN</td>\n    </tr>\n    <tr>\n      <th>2016-05-23</th>\n      <td>NaN</td>\n      <td>NaN</td>\n      <td>NaN</td>\n      <td>NaN</td>\n      <td>2.0</td>\n      <td>NaN</td>\n    </tr>\n    <tr>\n      <th>2016-05-24</th>\n      <td>NaN</td>\n      <td>NaN</td>\n      <td>NaN</td>\n      <td>NaN</td>\n      <td>1.0</td>\n      <td>NaN</td>\n    </tr>\n  </tbody>\n</table>\n<p>133 rows × 6 columns</p>\n</div>"
     },
     "execution_count": 18,
     "metadata": {},
     "output_type": "execute_result"
    }
   ],
   "source": [
    "# 以 tag 作为列索引\n",
    "dates = date_tags.reset_index().pivot(index='Due Date',columns='Tag',values='Duration')\n",
    "dates"
   ],
   "metadata": {
    "collapsed": false,
    "pycharm": {
     "name": "#%%\n"
    }
   }
  },
  {
   "cell_type": "code",
   "execution_count": 19,
   "outputs": [
    {
     "data": {
      "text/plain": "Tag          写作  探索发现  机器学习   电影    编程   阅读\n2015-12-02  3.0   0.0   0.0  0.0   0.0  0.0\n2015-12-03  0.0   0.0   0.0  0.0   0.0  0.0\n2015-12-04  0.0   0.0   0.0  0.0   0.0  3.0\n2015-12-05  0.0   0.0   0.0  0.0   0.0  0.0\n2015-12-06  4.0   0.0   3.0  0.0   0.0  0.0\n...         ...   ...   ...  ...   ...  ...\n2016-05-20  0.0   0.0   0.0  0.0   4.0  0.0\n2016-05-21  0.0   0.0   0.0  0.0   0.0  0.0\n2016-05-22  0.0   3.0   0.0  0.0  30.0  0.0\n2016-05-23  0.0   0.0   0.0  0.0   2.0  0.0\n2016-05-24  0.0   0.0   0.0  0.0   1.0  0.0\n\n[175 rows x 6 columns]",
      "text/html": "<div>\n<style scoped>\n    .dataframe tbody tr th:only-of-type {\n        vertical-align: middle;\n    }\n\n    .dataframe tbody tr th {\n        vertical-align: top;\n    }\n\n    .dataframe thead th {\n        text-align: right;\n    }\n</style>\n<table border=\"1\" class=\"dataframe\">\n  <thead>\n    <tr style=\"text-align: right;\">\n      <th>Tag</th>\n      <th>写作</th>\n      <th>探索发现</th>\n      <th>机器学习</th>\n      <th>电影</th>\n      <th>编程</th>\n      <th>阅读</th>\n    </tr>\n  </thead>\n  <tbody>\n    <tr>\n      <th>2015-12-02</th>\n      <td>3.0</td>\n      <td>0.0</td>\n      <td>0.0</td>\n      <td>0.0</td>\n      <td>0.0</td>\n      <td>0.0</td>\n    </tr>\n    <tr>\n      <th>2015-12-03</th>\n      <td>0.0</td>\n      <td>0.0</td>\n      <td>0.0</td>\n      <td>0.0</td>\n      <td>0.0</td>\n      <td>0.0</td>\n    </tr>\n    <tr>\n      <th>2015-12-04</th>\n      <td>0.0</td>\n      <td>0.0</td>\n      <td>0.0</td>\n      <td>0.0</td>\n      <td>0.0</td>\n      <td>3.0</td>\n    </tr>\n    <tr>\n      <th>2015-12-05</th>\n      <td>0.0</td>\n      <td>0.0</td>\n      <td>0.0</td>\n      <td>0.0</td>\n      <td>0.0</td>\n      <td>0.0</td>\n    </tr>\n    <tr>\n      <th>2015-12-06</th>\n      <td>4.0</td>\n      <td>0.0</td>\n      <td>3.0</td>\n      <td>0.0</td>\n      <td>0.0</td>\n      <td>0.0</td>\n    </tr>\n    <tr>\n      <th>...</th>\n      <td>...</td>\n      <td>...</td>\n      <td>...</td>\n      <td>...</td>\n      <td>...</td>\n      <td>...</td>\n    </tr>\n    <tr>\n      <th>2016-05-20</th>\n      <td>0.0</td>\n      <td>0.0</td>\n      <td>0.0</td>\n      <td>0.0</td>\n      <td>4.0</td>\n      <td>0.0</td>\n    </tr>\n    <tr>\n      <th>2016-05-21</th>\n      <td>0.0</td>\n      <td>0.0</td>\n      <td>0.0</td>\n      <td>0.0</td>\n      <td>0.0</td>\n      <td>0.0</td>\n    </tr>\n    <tr>\n      <th>2016-05-22</th>\n      <td>0.0</td>\n      <td>3.0</td>\n      <td>0.0</td>\n      <td>0.0</td>\n      <td>30.0</td>\n      <td>0.0</td>\n    </tr>\n    <tr>\n      <th>2016-05-23</th>\n      <td>0.0</td>\n      <td>0.0</td>\n      <td>0.0</td>\n      <td>0.0</td>\n      <td>2.0</td>\n      <td>0.0</td>\n    </tr>\n    <tr>\n      <th>2016-05-24</th>\n      <td>0.0</td>\n      <td>0.0</td>\n      <td>0.0</td>\n      <td>0.0</td>\n      <td>1.0</td>\n      <td>0.0</td>\n    </tr>\n  </tbody>\n</table>\n<p>175 rows × 6 columns</p>\n</div>"
     },
     "execution_count": 19,
     "metadata": {},
     "output_type": "execute_result"
    }
   ],
   "source": [
    "# 补足连续时间，可以看到哪些天没有在学习\n",
    "full_dates = dates.reindex(pd.date_range(start_date, end_date)).fillna(0)\n",
    "full_dates"
   ],
   "metadata": {
    "collapsed": false,
    "pycharm": {
     "name": "#%%\n"
    }
   }
  },
  {
   "cell_type": "code",
   "execution_count": 20,
   "outputs": [
    {
     "data": {
      "text/plain": "<matplotlib.axes._subplots.AxesSubplot at 0x11d1a3b50>"
     },
     "execution_count": 20,
     "metadata": {},
     "output_type": "execute_result"
    },
    {
     "data": {
      "text/plain": "<Figure size 1152x576 with 1 Axes>",
      "image/png": "[encoded data removed]"
     },
     "metadata": {
      "needs_background": "light"
     },
     "output_type": "display_data"
    }
   ],
   "source": [
    "# 画出柱状图\n",
    "full_dates.plot(kind='bar', stacked=True, figsize=(16, 8))\n"
   ],
   "metadata": {
    "collapsed": false,
    "pycharm": {
     "name": "#%%\n"
    }
   }
  },
  {
   "cell_type": "code",
   "execution_count": 22,
   "outputs": [
    {
     "data": {
      "text/plain": "<matplotlib.axes._subplots.AxesSubplot at 0x11e833f10>"
     },
     "execution_count": 22,
     "metadata": {},
     "output_type": "execute_result"
    },
    {
     "data": {
      "text/plain": "<Figure size 576x576 with 1 Axes>",
      "image/png": "[encoded data removed]"
     },
     "metadata": {
      "needs_background": "light"
     },
     "output_type": "display_data"
    }
   ],
   "source": [
    "full_dates.resample('m').sum().to_period('m').plot(kind='bar', stacked=True, figsize=(8, 8))\n"
   ],
   "metadata": {
    "collapsed": false,
    "pycharm": {
     "name": "#%%\n"
    }
   }
  },
  {
   "cell_type": "code",
   "execution_count": 25,
   "outputs": [
    {
     "data": {
      "text/plain": "Tag        写作  探索发现  机器学习    电影    编程     阅读\n2015-12  17.0  45.0   5.0   0.0  32.0  135.0\n2016-01   6.0  10.0   3.0  25.0  59.0   19.0\n2016-02   3.0   6.0   6.0  22.0  86.0    0.0\n2016-03  16.0  16.0   9.0   0.0  21.0    9.0\n2016-04   0.0   2.0   0.0   2.0  44.0    6.0\n2016-05   0.0   5.0   0.0   0.0  91.0    0.0",
      "text/html": "<div>\n<style scoped>\n    .dataframe tbody tr th:only-of-type {\n        vertical-align: middle;\n    }\n\n    .dataframe tbody tr th {\n        vertical-align: top;\n    }\n\n    .dataframe thead th {\n        text-align: right;\n    }\n</style>\n<table border=\"1\" class=\"dataframe\">\n  <thead>\n    <tr style=\"text-align: right;\">\n      <th>Tag</th>\n      <th>写作</th>\n      <th>探索发现</th>\n      <th>机器学习</th>\n      <th>电影</th>\n      <th>编程</th>\n      <th>阅读</th>\n    </tr>\n  </thead>\n  <tbody>\n    <tr>\n      <th>2015-12</th>\n      <td>17.0</td>\n      <td>45.0</td>\n      <td>5.0</td>\n      <td>0.0</td>\n      <td>32.0</td>\n      <td>135.0</td>\n    </tr>\n    <tr>\n      <th>2016-01</th>\n      <td>6.0</td>\n      <td>10.0</td>\n      <td>3.0</td>\n      <td>25.0</td>\n      <td>59.0</td>\n      <td>19.0</td>\n    </tr>\n    <tr>\n      <th>2016-02</th>\n      <td>3.0</td>\n      <td>6.0</td>\n      <td>6.0</td>\n      <td>22.0</td>\n      <td>86.0</td>\n      <td>0.0</td>\n    </tr>\n    <tr>\n      <th>2016-03</th>\n      <td>16.0</td>\n      <td>16.0</td>\n      <td>9.0</td>\n      <td>0.0</td>\n      <td>21.0</td>\n      <td>9.0</td>\n    </tr>\n    <tr>\n      <th>2016-04</th>\n      <td>0.0</td>\n      <td>2.0</td>\n      <td>0.0</td>\n      <td>2.0</td>\n      <td>44.0</td>\n      <td>6.0</td>\n    </tr>\n    <tr>\n      <th>2016-05</th>\n      <td>0.0</td>\n      <td>5.0</td>\n      <td>0.0</td>\n      <td>0.0</td>\n      <td>91.0</td>\n      <td>0.0</td>\n    </tr>\n  </tbody>\n</table>\n</div>"
     },
     "execution_count": 25,
     "metadata": {},
     "output_type": "execute_result"
    }
   ],
   "source": [
    "\n"
   ],
   "metadata": {
    "collapsed": false,
    "pycharm": {
     "name": "#%%\n"
    }
   }
  },
  {
   "cell_type": "code",
   "execution_count": null,
   "outputs": [],
   "source": [
    "\n"
   ],
   "metadata": {
    "collapsed": false,
    "pycharm": {
     "name": "#%%\n"
    }
   }
  }
 ],
 "metadata": {
  "kernelspec": {
   "display_name": "Python 3",
   "language": "python",
   "name": "python3"
  },
  "language_info": {
   "codemirror_mode": {
    "name": "ipython",
    "version": 2
   },
   "file_extension": ".py",
   "mimetype": "text/x-python",
   "name": "python",
   "nbconvert_exporter": "python",
   "pygments_lexer": "ipython2",
   "version": "2.7.6"
  }
 },
 "nbformat": 4,
 "nbformat_minor": 0
}