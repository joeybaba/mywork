{
 "cells": [
  {
   "cell_type": "code",
   "execution_count": 2,
   "metadata": {
    "collapsed": true
   },
   "outputs": [],
   "source": [
    "import numpy as np\n",
    "import pandas as pd"
   ]
  },
  {
   "cell_type": "code",
   "execution_count": 3,
   "outputs": [
    {
     "data": {
      "text/plain": "0    1.0\n1    3.0\n2    4.0\n3    NaN\n4    8.0\n5    4.0\ndtype: float64"
     },
     "execution_count": 3,
     "metadata": {},
     "output_type": "execute_result"
    }
   ],
   "source": [
    "s = pd.Series([1,3,4,np.NaN,8,4])\n",
    "s"
   ],
   "metadata": {
    "collapsed": false,
    "pycharm": {
     "name": "#%%\n"
    }
   }
  },
  {
   "cell_type": "code",
   "execution_count": 4,
   "outputs": [
    {
     "data": {
      "text/plain": "DatetimeIndex(['2010-04-01', '2010-04-02', '2010-04-03', '2010-04-04',\n               '2010-04-05', '2010-04-06'],\n              dtype='datetime64[ns]', freq='D')"
     },
     "execution_count": 4,
     "metadata": {},
     "output_type": "execute_result"
    }
   ],
   "source": [
    "dates = pd.date_range('20100401',periods=6)\n",
    "dates"
   ],
   "metadata": {
    "collapsed": false,
    "pycharm": {
     "name": "#%%\n"
    }
   }
  },
  {
   "cell_type": "code",
   "execution_count": 5,
   "outputs": [
    {
     "data": {
      "text/plain": "                   A         B         C         D\n2010-04-01  0.239190 -1.293059  1.572040  0.248397\n2010-04-02  0.192910 -1.013177  0.827929 -0.418419\n2010-04-03  0.092265 -0.558448  1.160528  1.457165\n2010-04-04 -1.357121 -0.089931  0.589897 -0.179615\n2010-04-05 -0.155340  0.496811 -0.642814 -0.052642\n2010-04-06 -0.100567 -0.606490 -0.281082 -0.632530",
      "text/html": "<div>\n<style scoped>\n    .dataframe tbody tr th:only-of-type {\n        vertical-align: middle;\n    }\n\n    .dataframe tbody tr th {\n        vertical-align: top;\n    }\n\n    .dataframe thead th {\n        text-align: right;\n    }\n</style>\n<table border=\"1\" class=\"dataframe\">\n  <thead>\n    <tr style=\"text-align: right;\">\n      <th></th>\n      <th>A</th>\n      <th>B</th>\n      <th>C</th>\n      <th>D</th>\n    </tr>\n  </thead>\n  <tbody>\n    <tr>\n      <th>2010-04-01</th>\n      <td>0.239190</td>\n      <td>-1.293059</td>\n      <td>1.572040</td>\n      <td>0.248397</td>\n    </tr>\n    <tr>\n      <th>2010-04-02</th>\n      <td>0.192910</td>\n      <td>-1.013177</td>\n      <td>0.827929</td>\n      <td>-0.418419</td>\n    </tr>\n    <tr>\n      <th>2010-04-03</th>\n      <td>0.092265</td>\n      <td>-0.558448</td>\n      <td>1.160528</td>\n      <td>1.457165</td>\n    </tr>\n    <tr>\n      <th>2010-04-04</th>\n      <td>-1.357121</td>\n      <td>-0.089931</td>\n      <td>0.589897</td>\n      <td>-0.179615</td>\n    </tr>\n    <tr>\n      <th>2010-04-05</th>\n      <td>-0.155340</td>\n      <td>0.496811</td>\n      <td>-0.642814</td>\n      <td>-0.052642</td>\n    </tr>\n    <tr>\n      <th>2010-04-06</th>\n      <td>-0.100567</td>\n      <td>-0.606490</td>\n      <td>-0.281082</td>\n      <td>-0.632530</td>\n    </tr>\n  </tbody>\n</table>\n</div>"
     },
     "execution_count": 5,
     "metadata": {},
     "output_type": "execute_result"
    }
   ],
   "source": [
    "data = pd.DataFrame(np.random.randn(6,4),index=dates,columns=list('ABCD'))\n",
    "data"
   ],
   "metadata": {
    "collapsed": false,
    "pycharm": {
     "name": "#%%\n"
    }
   }
  },
  {
   "cell_type": "code",
   "execution_count": 6,
   "outputs": [
    {
     "data": {
      "text/plain": "array([[ 0.72132671, -0.90767729, -0.45287917, -0.40475941],\n       [-1.77860773, -1.11867246, -1.36509317,  0.24198728],\n       [ 0.55197643, -0.3866452 , -0.01885038, -1.05213237],\n       [-0.52530873, -1.11376286,  2.29422022, -0.95086486],\n       [-1.99066065, -0.39360642,  1.8766901 , -1.35516911],\n       [-0.47078943,  1.14085777,  0.43608841,  0.52497264]])"
     },
     "execution_count": 6,
     "metadata": {},
     "output_type": "execute_result"
    }
   ],
   "source": [
    "s = np.random.randn(6,4)\n",
    "s"
   ],
   "metadata": {
    "collapsed": false,
    "pycharm": {
     "name": "#%%\n"
    }
   }
  },
  {
   "cell_type": "code",
   "execution_count": 7,
   "outputs": [
    {
     "data": {
      "text/plain": "(6, 4)"
     },
     "execution_count": 7,
     "metadata": {},
     "output_type": "execute_result"
    }
   ],
   "source": [
    "data.shape"
   ],
   "metadata": {
    "collapsed": false,
    "pycharm": {
     "name": "#%%\n"
    }
   }
  },
  {
   "cell_type": "code",
   "execution_count": 8,
   "outputs": [
    {
     "data": {
      "text/plain": "array([[ 0.23918995, -1.29305868,  1.57204043,  0.24839674],\n       [ 0.19291046, -1.01317734,  0.82792893, -0.41841874],\n       [ 0.09226524, -0.55844751,  1.16052781,  1.45716494],\n       [-1.35712088, -0.08993081,  0.58989699, -0.17961531],\n       [-0.15533982,  0.49681102, -0.64281434, -0.05264167],\n       [-0.10056705, -0.60649027, -0.28108215, -0.6325305 ]])"
     },
     "execution_count": 8,
     "metadata": {},
     "output_type": "execute_result"
    }
   ],
   "source": [
    "data.values"
   ],
   "metadata": {
    "collapsed": false,
    "pycharm": {
     "name": "#%%\n"
    }
   }
  },
  {
   "cell_type": "code",
   "execution_count": 9,
   "outputs": [
    {
     "data": {
      "text/plain": "{'A': 1,\n 'B': Timestamp('2019-01-01 11:11:11'),\n 'C': [0, 1, 2, 3],\n 'D': array([0, 1, 2, 3])}"
     },
     "execution_count": 9,
     "metadata": {},
     "output_type": "execute_result"
    }
   ],
   "source": [
    "d = {'A':1, 'B':pd.Timestamp('20190101 11:11:11'),'C':[0,1,2,3],'D':np.array([0,1,2,3])}\n",
    "d"
   ],
   "metadata": {
    "collapsed": false,
    "pycharm": {
     "name": "#%%\n"
    }
   }
  },
  {
   "cell_type": "code",
   "execution_count": 10,
   "outputs": [
    {
     "data": {
      "text/plain": "   A                   B  C  D\n0  1 2019-01-01 11:11:11  0  0\n1  1 2019-01-01 11:11:11  1  1\n2  1 2019-01-01 11:11:11  2  2\n3  1 2019-01-01 11:11:11  3  3",
      "text/html": "<div>\n<style scoped>\n    .dataframe tbody tr th:only-of-type {\n        vertical-align: middle;\n    }\n\n    .dataframe tbody tr th {\n        vertical-align: top;\n    }\n\n    .dataframe thead th {\n        text-align: right;\n    }\n</style>\n<table border=\"1\" class=\"dataframe\">\n  <thead>\n    <tr style=\"text-align: right;\">\n      <th></th>\n      <th>A</th>\n      <th>B</th>\n      <th>C</th>\n      <th>D</th>\n    </tr>\n  </thead>\n  <tbody>\n    <tr>\n      <th>0</th>\n      <td>1</td>\n      <td>2019-01-01 11:11:11</td>\n      <td>0</td>\n      <td>0</td>\n    </tr>\n    <tr>\n      <th>1</th>\n      <td>1</td>\n      <td>2019-01-01 11:11:11</td>\n      <td>1</td>\n      <td>1</td>\n    </tr>\n    <tr>\n      <th>2</th>\n      <td>1</td>\n      <td>2019-01-01 11:11:11</td>\n      <td>2</td>\n      <td>2</td>\n    </tr>\n    <tr>\n      <th>3</th>\n      <td>1</td>\n      <td>2019-01-01 11:11:11</td>\n      <td>3</td>\n      <td>3</td>\n    </tr>\n  </tbody>\n</table>\n</div>"
     },
     "execution_count": 10,
     "metadata": {},
     "output_type": "execute_result"
    }
   ],
   "source": [
    "df = pd.DataFrame(d)\n",
    "df"
   ],
   "metadata": {
    "collapsed": false,
    "pycharm": {
     "name": "#%%\n"
    }
   }
  },
  {
   "cell_type": "code",
   "execution_count": 11,
   "outputs": [
    {
     "data": {
      "text/plain": "A             int64\nB    datetime64[ns]\nC             int64\nD             int64\ndtype: object"
     },
     "execution_count": 11,
     "metadata": {},
     "output_type": "execute_result"
    }
   ],
   "source": [
    "df.dtypes"
   ],
   "metadata": {
    "collapsed": false,
    "pycharm": {
     "name": "#%%\n"
    }
   }
  },
  {
   "cell_type": "code",
   "execution_count": 12,
   "outputs": [
    {
     "data": {
      "text/plain": "0    1\n1    1\n2    1\n3    1\nName: A, dtype: int64"
     },
     "execution_count": 12,
     "metadata": {},
     "output_type": "execute_result"
    }
   ],
   "source": [
    "df.A"
   ],
   "metadata": {
    "collapsed": false,
    "pycharm": {
     "name": "#%%\n"
    }
   }
  },
  {
   "cell_type": "code",
   "execution_count": 13,
   "outputs": [
    {
     "data": {
      "text/plain": "0   2019-01-01 11:11:11\n1   2019-01-01 11:11:11\n2   2019-01-01 11:11:11\n3   2019-01-01 11:11:11\nName: B, dtype: datetime64[ns]"
     },
     "execution_count": 13,
     "metadata": {},
     "output_type": "execute_result"
    }
   ],
   "source": [
    "df.B"
   ],
   "metadata": {
    "collapsed": false,
    "pycharm": {
     "name": "#%%\n"
    }
   }
  },
  {
   "cell_type": "code",
   "execution_count": 14,
   "outputs": [
    {
     "data": {
      "text/plain": "pandas.core.series.Series"
     },
     "execution_count": 14,
     "metadata": {},
     "output_type": "execute_result"
    }
   ],
   "source": [
    "type(df.A)"
   ],
   "metadata": {
    "collapsed": false,
    "pycharm": {
     "name": "#%%\n"
    }
   }
  },
  {
   "cell_type": "code",
   "execution_count": 15,
   "outputs": [
    {
     "data": {
      "text/plain": "                  A         B         C         D\n2010-04-01  0.23919 -1.293059  1.572040  0.248397\n2010-04-02  0.19291 -1.013177  0.827929 -0.418419",
      "text/html": "<div>\n<style scoped>\n    .dataframe tbody tr th:only-of-type {\n        vertical-align: middle;\n    }\n\n    .dataframe tbody tr th {\n        vertical-align: top;\n    }\n\n    .dataframe thead th {\n        text-align: right;\n    }\n</style>\n<table border=\"1\" class=\"dataframe\">\n  <thead>\n    <tr style=\"text-align: right;\">\n      <th></th>\n      <th>A</th>\n      <th>B</th>\n      <th>C</th>\n      <th>D</th>\n    </tr>\n  </thead>\n  <tbody>\n    <tr>\n      <th>2010-04-01</th>\n      <td>0.23919</td>\n      <td>-1.293059</td>\n      <td>1.572040</td>\n      <td>0.248397</td>\n    </tr>\n    <tr>\n      <th>2010-04-02</th>\n      <td>0.19291</td>\n      <td>-1.013177</td>\n      <td>0.827929</td>\n      <td>-0.418419</td>\n    </tr>\n  </tbody>\n</table>\n</div>"
     },
     "execution_count": 15,
     "metadata": {},
     "output_type": "execute_result"
    }
   ],
   "source": [
    "data.head(2)"
   ],
   "metadata": {
    "collapsed": false,
    "pycharm": {
     "name": "#%%\n"
    }
   }
  },
  {
   "cell_type": "code",
   "execution_count": 16,
   "outputs": [
    {
     "data": {
      "text/plain": "                   A         B         C         D\n2010-04-02  0.192910 -1.013177  0.827929 -0.418419\n2010-04-03  0.092265 -0.558448  1.160528  1.457165\n2010-04-04 -1.357121 -0.089931  0.589897 -0.179615\n2010-04-05 -0.155340  0.496811 -0.642814 -0.052642\n2010-04-06 -0.100567 -0.606490 -0.281082 -0.632530",
      "text/html": "<div>\n<style scoped>\n    .dataframe tbody tr th:only-of-type {\n        vertical-align: middle;\n    }\n\n    .dataframe tbody tr th {\n        vertical-align: top;\n    }\n\n    .dataframe thead th {\n        text-align: right;\n    }\n</style>\n<table border=\"1\" class=\"dataframe\">\n  <thead>\n    <tr style=\"text-align: right;\">\n      <th></th>\n      <th>A</th>\n      <th>B</th>\n      <th>C</th>\n      <th>D</th>\n    </tr>\n  </thead>\n  <tbody>\n    <tr>\n      <th>2010-04-02</th>\n      <td>0.192910</td>\n      <td>-1.013177</td>\n      <td>0.827929</td>\n      <td>-0.418419</td>\n    </tr>\n    <tr>\n      <th>2010-04-03</th>\n      <td>0.092265</td>\n      <td>-0.558448</td>\n      <td>1.160528</td>\n      <td>1.457165</td>\n    </tr>\n    <tr>\n      <th>2010-04-04</th>\n      <td>-1.357121</td>\n      <td>-0.089931</td>\n      <td>0.589897</td>\n      <td>-0.179615</td>\n    </tr>\n    <tr>\n      <th>2010-04-05</th>\n      <td>-0.155340</td>\n      <td>0.496811</td>\n      <td>-0.642814</td>\n      <td>-0.052642</td>\n    </tr>\n    <tr>\n      <th>2010-04-06</th>\n      <td>-0.100567</td>\n      <td>-0.606490</td>\n      <td>-0.281082</td>\n      <td>-0.632530</td>\n    </tr>\n  </tbody>\n</table>\n</div>"
     },
     "execution_count": 16,
     "metadata": {},
     "output_type": "execute_result"
    }
   ],
   "source": [
    "data.tail()"
   ],
   "metadata": {
    "collapsed": false,
    "pycharm": {
     "name": "#%%\n"
    }
   }
  },
  {
   "cell_type": "code",
   "execution_count": 17,
   "outputs": [
    {
     "data": {
      "text/plain": "DatetimeIndex(['2010-04-01', '2010-04-02', '2010-04-03', '2010-04-04',\n               '2010-04-05', '2010-04-06'],\n              dtype='datetime64[ns]', freq='D')"
     },
     "execution_count": 17,
     "metadata": {},
     "output_type": "execute_result"
    }
   ],
   "source": [
    "data.index"
   ],
   "metadata": {
    "collapsed": false,
    "pycharm": {
     "name": "#%%\n"
    }
   }
  },
  {
   "cell_type": "code",
   "execution_count": 18,
   "outputs": [
    {
     "data": {
      "text/plain": "array([[ 0.23918995, -1.29305868,  1.57204043,  0.24839674],\n       [ 0.19291046, -1.01317734,  0.82792893, -0.41841874],\n       [ 0.09226524, -0.55844751,  1.16052781,  1.45716494],\n       [-1.35712088, -0.08993081,  0.58989699, -0.17961531],\n       [-0.15533982,  0.49681102, -0.64281434, -0.05264167],\n       [-0.10056705, -0.60649027, -0.28108215, -0.6325305 ]])"
     },
     "execution_count": 18,
     "metadata": {},
     "output_type": "execute_result"
    }
   ],
   "source": [
    "data.values"
   ],
   "metadata": {
    "collapsed": false,
    "pycharm": {
     "name": "#%%\n"
    }
   }
  },
  {
   "cell_type": "code",
   "execution_count": 19,
   "outputs": [
    {
     "data": {
      "text/plain": "              A         B         C         D\ncount  6.000000  6.000000  6.000000  6.000000\nmean  -0.181444 -0.510716  0.537750  0.070393\nstd    0.596897  0.643141  0.849559  0.743707\nmin   -1.357121 -1.293059 -0.642814 -0.632530\n25%   -0.141647 -0.911506 -0.063337 -0.358718\n50%   -0.004151 -0.582469  0.708913 -0.116128\n75%    0.167749 -0.207060  1.077378  0.173137\nmax    0.239190  0.496811  1.572040  1.457165",
      "text/html": "<div>\n<style scoped>\n    .dataframe tbody tr th:only-of-type {\n        vertical-align: middle;\n    }\n\n    .dataframe tbody tr th {\n        vertical-align: top;\n    }\n\n    .dataframe thead th {\n        text-align: right;\n    }\n</style>\n<table border=\"1\" class=\"dataframe\">\n  <thead>\n    <tr style=\"text-align: right;\">\n      <th></th>\n      <th>A</th>\n      <th>B</th>\n      <th>C</th>\n      <th>D</th>\n    </tr>\n  </thead>\n  <tbody>\n    <tr>\n      <th>count</th>\n      <td>6.000000</td>\n      <td>6.000000</td>\n      <td>6.000000</td>\n      <td>6.000000</td>\n    </tr>\n    <tr>\n      <th>mean</th>\n      <td>-0.181444</td>\n      <td>-0.510716</td>\n      <td>0.537750</td>\n      <td>0.070393</td>\n    </tr>\n    <tr>\n      <th>std</th>\n      <td>0.596897</td>\n      <td>0.643141</td>\n      <td>0.849559</td>\n      <td>0.743707</td>\n    </tr>\n    <tr>\n      <th>min</th>\n      <td>-1.357121</td>\n      <td>-1.293059</td>\n      <td>-0.642814</td>\n      <td>-0.632530</td>\n    </tr>\n    <tr>\n      <th>25%</th>\n      <td>-0.141647</td>\n      <td>-0.911506</td>\n      <td>-0.063337</td>\n      <td>-0.358718</td>\n    </tr>\n    <tr>\n      <th>50%</th>\n      <td>-0.004151</td>\n      <td>-0.582469</td>\n      <td>0.708913</td>\n      <td>-0.116128</td>\n    </tr>\n    <tr>\n      <th>75%</th>\n      <td>0.167749</td>\n      <td>-0.207060</td>\n      <td>1.077378</td>\n      <td>0.173137</td>\n    </tr>\n    <tr>\n      <th>max</th>\n      <td>0.239190</td>\n      <td>0.496811</td>\n      <td>1.572040</td>\n      <td>1.457165</td>\n    </tr>\n  </tbody>\n</table>\n</div>"
     },
     "execution_count": 19,
     "metadata": {},
     "output_type": "execute_result"
    }
   ],
   "source": [
    "data.describe()"
   ],
   "metadata": {
    "collapsed": false,
    "pycharm": {
     "name": "#%%\n"
    }
   }
  },
  {
   "cell_type": "code",
   "execution_count": 20,
   "outputs": [
    {
     "data": {
      "text/plain": "(6, 4)"
     },
     "execution_count": 20,
     "metadata": {},
     "output_type": "execute_result"
    }
   ],
   "source": [
    "data.shape"
   ],
   "metadata": {
    "collapsed": false,
    "pycharm": {
     "name": "#%%\n"
    }
   }
  },
  {
   "cell_type": "code",
   "execution_count": 21,
   "outputs": [
    {
     "data": {
      "text/plain": "                   D         C         B         A\n2010-04-01  0.248397  1.572040 -1.293059  0.239190\n2010-04-02 -0.418419  0.827929 -1.013177  0.192910\n2010-04-03  1.457165  1.160528 -0.558448  0.092265\n2010-04-04 -0.179615  0.589897 -0.089931 -1.357121\n2010-04-05 -0.052642 -0.642814  0.496811 -0.155340\n2010-04-06 -0.632530 -0.281082 -0.606490 -0.100567",
      "text/html": "<div>\n<style scoped>\n    .dataframe tbody tr th:only-of-type {\n        vertical-align: middle;\n    }\n\n    .dataframe tbody tr th {\n        vertical-align: top;\n    }\n\n    .dataframe thead th {\n        text-align: right;\n    }\n</style>\n<table border=\"1\" class=\"dataframe\">\n  <thead>\n    <tr style=\"text-align: right;\">\n      <th></th>\n      <th>D</th>\n      <th>C</th>\n      <th>B</th>\n      <th>A</th>\n    </tr>\n  </thead>\n  <tbody>\n    <tr>\n      <th>2010-04-01</th>\n      <td>0.248397</td>\n      <td>1.572040</td>\n      <td>-1.293059</td>\n      <td>0.239190</td>\n    </tr>\n    <tr>\n      <th>2010-04-02</th>\n      <td>-0.418419</td>\n      <td>0.827929</td>\n      <td>-1.013177</td>\n      <td>0.192910</td>\n    </tr>\n    <tr>\n      <th>2010-04-03</th>\n      <td>1.457165</td>\n      <td>1.160528</td>\n      <td>-0.558448</td>\n      <td>0.092265</td>\n    </tr>\n    <tr>\n      <th>2010-04-04</th>\n      <td>-0.179615</td>\n      <td>0.589897</td>\n      <td>-0.089931</td>\n      <td>-1.357121</td>\n    </tr>\n    <tr>\n      <th>2010-04-05</th>\n      <td>-0.052642</td>\n      <td>-0.642814</td>\n      <td>0.496811</td>\n      <td>-0.155340</td>\n    </tr>\n    <tr>\n      <th>2010-04-06</th>\n      <td>-0.632530</td>\n      <td>-0.281082</td>\n      <td>-0.606490</td>\n      <td>-0.100567</td>\n    </tr>\n  </tbody>\n</table>\n</div>"
     },
     "execution_count": 21,
     "metadata": {},
     "output_type": "execute_result"
    }
   ],
   "source": [
    "data.sort_index(axis=1,ascending=False)"
   ],
   "metadata": {
    "collapsed": false,
    "pycharm": {
     "name": "#%%\n"
    }
   }
  },
  {
   "cell_type": "code",
   "execution_count": 22,
   "outputs": [
    {
     "data": {
      "text/plain": "                   A         B         C         D\n2010-04-01  0.239190 -1.293059  1.572040  0.248397\n2010-04-02  0.192910 -1.013177  0.827929 -0.418419\n2010-04-03  0.092265 -0.558448  1.160528  1.457165\n2010-04-04 -1.357121 -0.089931  0.589897 -0.179615\n2010-04-05 -0.155340  0.496811 -0.642814 -0.052642\n2010-04-06 -0.100567 -0.606490 -0.281082 -0.632530",
      "text/html": "<div>\n<style scoped>\n    .dataframe tbody tr th:only-of-type {\n        vertical-align: middle;\n    }\n\n    .dataframe tbody tr th {\n        vertical-align: top;\n    }\n\n    .dataframe thead th {\n        text-align: right;\n    }\n</style>\n<table border=\"1\" class=\"dataframe\">\n  <thead>\n    <tr style=\"text-align: right;\">\n      <th></th>\n      <th>A</th>\n      <th>B</th>\n      <th>C</th>\n      <th>D</th>\n    </tr>\n  </thead>\n  <tbody>\n    <tr>\n      <th>2010-04-01</th>\n      <td>0.239190</td>\n      <td>-1.293059</td>\n      <td>1.572040</td>\n      <td>0.248397</td>\n    </tr>\n    <tr>\n      <th>2010-04-02</th>\n      <td>0.192910</td>\n      <td>-1.013177</td>\n      <td>0.827929</td>\n      <td>-0.418419</td>\n    </tr>\n    <tr>\n      <th>2010-04-03</th>\n      <td>0.092265</td>\n      <td>-0.558448</td>\n      <td>1.160528</td>\n      <td>1.457165</td>\n    </tr>\n    <tr>\n      <th>2010-04-04</th>\n      <td>-1.357121</td>\n      <td>-0.089931</td>\n      <td>0.589897</td>\n      <td>-0.179615</td>\n    </tr>\n    <tr>\n      <th>2010-04-05</th>\n      <td>-0.155340</td>\n      <td>0.496811</td>\n      <td>-0.642814</td>\n      <td>-0.052642</td>\n    </tr>\n    <tr>\n      <th>2010-04-06</th>\n      <td>-0.100567</td>\n      <td>-0.606490</td>\n      <td>-0.281082</td>\n      <td>-0.632530</td>\n    </tr>\n  </tbody>\n</table>\n</div>"
     },
     "execution_count": 22,
     "metadata": {},
     "output_type": "execute_result"
    }
   ],
   "source": [
    "data.sort_index(axis=0,ascending=True)"
   ],
   "metadata": {
    "collapsed": false,
    "pycharm": {
     "name": "#%%\n"
    }
   }
  },
  {
   "cell_type": "code",
   "execution_count": 23,
   "outputs": [
    {
     "data": {
      "text/plain": "                   A         B         C         D\n2010-04-04 -1.357121 -0.089931  0.589897 -0.179615\n2010-04-05 -0.155340  0.496811 -0.642814 -0.052642\n2010-04-06 -0.100567 -0.606490 -0.281082 -0.632530\n2010-04-03  0.092265 -0.558448  1.160528  1.457165\n2010-04-02  0.192910 -1.013177  0.827929 -0.418419\n2010-04-01  0.239190 -1.293059  1.572040  0.248397",
      "text/html": "<div>\n<style scoped>\n    .dataframe tbody tr th:only-of-type {\n        vertical-align: middle;\n    }\n\n    .dataframe tbody tr th {\n        vertical-align: top;\n    }\n\n    .dataframe thead th {\n        text-align: right;\n    }\n</style>\n<table border=\"1\" class=\"dataframe\">\n  <thead>\n    <tr style=\"text-align: right;\">\n      <th></th>\n      <th>A</th>\n      <th>B</th>\n      <th>C</th>\n      <th>D</th>\n    </tr>\n  </thead>\n  <tbody>\n    <tr>\n      <th>2010-04-04</th>\n      <td>-1.357121</td>\n      <td>-0.089931</td>\n      <td>0.589897</td>\n      <td>-0.179615</td>\n    </tr>\n    <tr>\n      <th>2010-04-05</th>\n      <td>-0.155340</td>\n      <td>0.496811</td>\n      <td>-0.642814</td>\n      <td>-0.052642</td>\n    </tr>\n    <tr>\n      <th>2010-04-06</th>\n      <td>-0.100567</td>\n      <td>-0.606490</td>\n      <td>-0.281082</td>\n      <td>-0.632530</td>\n    </tr>\n    <tr>\n      <th>2010-04-03</th>\n      <td>0.092265</td>\n      <td>-0.558448</td>\n      <td>1.160528</td>\n      <td>1.457165</td>\n    </tr>\n    <tr>\n      <th>2010-04-02</th>\n      <td>0.192910</td>\n      <td>-1.013177</td>\n      <td>0.827929</td>\n      <td>-0.418419</td>\n    </tr>\n    <tr>\n      <th>2010-04-01</th>\n      <td>0.239190</td>\n      <td>-1.293059</td>\n      <td>1.572040</td>\n      <td>0.248397</td>\n    </tr>\n  </tbody>\n</table>\n</div>"
     },
     "execution_count": 23,
     "metadata": {},
     "output_type": "execute_result"
    }
   ],
   "source": [
    "data.sort_values(by='A')"
   ],
   "metadata": {
    "collapsed": false,
    "pycharm": {
     "name": "#%%\n"
    }
   }
  },
  {
   "cell_type": "code",
   "execution_count": 24,
   "outputs": [
    {
     "data": {
      "text/plain": "(4, 6)"
     },
     "execution_count": 24,
     "metadata": {},
     "output_type": "execute_result"
    }
   ],
   "source": [
    "data.T.shape"
   ],
   "metadata": {
    "collapsed": false,
    "pycharm": {
     "name": "#%%\n"
    }
   }
  },
  {
   "cell_type": "code",
   "execution_count": 25,
   "outputs": [
    {
     "data": {
      "text/plain": "2010-04-01    0.239190\n2010-04-02    0.192910\n2010-04-03    0.092265\n2010-04-04   -1.357121\n2010-04-05   -0.155340\n2010-04-06   -0.100567\nFreq: D, Name: A, dtype: float64"
     },
     "execution_count": 25,
     "metadata": {},
     "output_type": "execute_result"
    }
   ],
   "source": [
    "data.A"
   ],
   "metadata": {
    "collapsed": false,
    "pycharm": {
     "name": "#%%\n"
    }
   }
  },
  {
   "cell_type": "code",
   "execution_count": 26,
   "outputs": [
    {
     "data": {
      "text/plain": "                  A         B         C         D\n2010-04-02  0.19291 -1.013177  0.827929 -0.418419",
      "text/html": "<div>\n<style scoped>\n    .dataframe tbody tr th:only-of-type {\n        vertical-align: middle;\n    }\n\n    .dataframe tbody tr th {\n        vertical-align: top;\n    }\n\n    .dataframe thead th {\n        text-align: right;\n    }\n</style>\n<table border=\"1\" class=\"dataframe\">\n  <thead>\n    <tr style=\"text-align: right;\">\n      <th></th>\n      <th>A</th>\n      <th>B</th>\n      <th>C</th>\n      <th>D</th>\n    </tr>\n  </thead>\n  <tbody>\n    <tr>\n      <th>2010-04-02</th>\n      <td>0.19291</td>\n      <td>-1.013177</td>\n      <td>0.827929</td>\n      <td>-0.418419</td>\n    </tr>\n  </tbody>\n</table>\n</div>"
     },
     "execution_count": 26,
     "metadata": {},
     "output_type": "execute_result"
    }
   ],
   "source": [
    "data[1:2]"
   ],
   "metadata": {
    "collapsed": false,
    "pycharm": {
     "name": "#%%\n"
    }
   }
  },
  {
   "cell_type": "code",
   "execution_count": 27,
   "outputs": [
    {
     "data": {
      "text/plain": "                   A         B         C         D\n2010-04-02  0.192910 -1.013177  0.827929 -0.418419\n2010-04-03  0.092265 -0.558448  1.160528  1.457165",
      "text/html": "<div>\n<style scoped>\n    .dataframe tbody tr th:only-of-type {\n        vertical-align: middle;\n    }\n\n    .dataframe tbody tr th {\n        vertical-align: top;\n    }\n\n    .dataframe thead th {\n        text-align: right;\n    }\n</style>\n<table border=\"1\" class=\"dataframe\">\n  <thead>\n    <tr style=\"text-align: right;\">\n      <th></th>\n      <th>A</th>\n      <th>B</th>\n      <th>C</th>\n      <th>D</th>\n    </tr>\n  </thead>\n  <tbody>\n    <tr>\n      <th>2010-04-02</th>\n      <td>0.192910</td>\n      <td>-1.013177</td>\n      <td>0.827929</td>\n      <td>-0.418419</td>\n    </tr>\n    <tr>\n      <th>2010-04-03</th>\n      <td>0.092265</td>\n      <td>-0.558448</td>\n      <td>1.160528</td>\n      <td>1.457165</td>\n    </tr>\n  </tbody>\n</table>\n</div>"
     },
     "execution_count": 27,
     "metadata": {},
     "output_type": "execute_result"
    }
   ],
   "source": [
    "# data['20100402']\n",
    "data['20100402':'20100403']"
   ],
   "metadata": {
    "collapsed": false,
    "pycharm": {
     "name": "#%%\n"
    }
   }
  },
  {
   "cell_type": "code",
   "execution_count": 28,
   "outputs": [
    {
     "data": {
      "text/plain": "                   A         B         C         D\n2010-04-02  0.192910 -1.013177  0.827929 -0.418419\n2010-04-03  0.092265 -0.558448  1.160528  1.457165",
      "text/html": "<div>\n<style scoped>\n    .dataframe tbody tr th:only-of-type {\n        vertical-align: middle;\n    }\n\n    .dataframe tbody tr th {\n        vertical-align: top;\n    }\n\n    .dataframe thead th {\n        text-align: right;\n    }\n</style>\n<table border=\"1\" class=\"dataframe\">\n  <thead>\n    <tr style=\"text-align: right;\">\n      <th></th>\n      <th>A</th>\n      <th>B</th>\n      <th>C</th>\n      <th>D</th>\n    </tr>\n  </thead>\n  <tbody>\n    <tr>\n      <th>2010-04-02</th>\n      <td>0.192910</td>\n      <td>-1.013177</td>\n      <td>0.827929</td>\n      <td>-0.418419</td>\n    </tr>\n    <tr>\n      <th>2010-04-03</th>\n      <td>0.092265</td>\n      <td>-0.558448</td>\n      <td>1.160528</td>\n      <td>1.457165</td>\n    </tr>\n  </tbody>\n</table>\n</div>"
     },
     "execution_count": 28,
     "metadata": {},
     "output_type": "execute_result"
    }
   ],
   "source": [
    "# 认index\n",
    "data.loc['20100402':'20100403']\n"
   ],
   "metadata": {
    "collapsed": false,
    "pycharm": {
     "name": "#%%\n"
    }
   }
  },
  {
   "cell_type": "code",
   "execution_count": 29,
   "outputs": [
    {
     "data": {
      "text/plain": "<pandas.core.indexing._iLocIndexer at 0x121343a10>"
     },
     "execution_count": 29,
     "metadata": {},
     "output_type": "execute_result"
    }
   ],
   "source": [
    "data.iloc(1)"
   ],
   "metadata": {
    "collapsed": false,
    "pycharm": {
     "name": "#%%\n"
    }
   }
  },
  {
   "cell_type": "code",
   "execution_count": 30,
   "outputs": [
    {
     "data": {
      "text/plain": "                  A         B         C         D\n2010-04-02  0.19291 -1.013177  0.827929 -0.418419",
      "text/html": "<div>\n<style scoped>\n    .dataframe tbody tr th:only-of-type {\n        vertical-align: middle;\n    }\n\n    .dataframe tbody tr th {\n        vertical-align: top;\n    }\n\n    .dataframe thead th {\n        text-align: right;\n    }\n</style>\n<table border=\"1\" class=\"dataframe\">\n  <thead>\n    <tr style=\"text-align: right;\">\n      <th></th>\n      <th>A</th>\n      <th>B</th>\n      <th>C</th>\n      <th>D</th>\n    </tr>\n  </thead>\n  <tbody>\n    <tr>\n      <th>2010-04-02</th>\n      <td>0.19291</td>\n      <td>-1.013177</td>\n      <td>0.827929</td>\n      <td>-0.418419</td>\n    </tr>\n  </tbody>\n</table>\n</div>"
     },
     "execution_count": 30,
     "metadata": {},
     "output_type": "execute_result"
    }
   ],
   "source": [
    "# 认位置,半开区间\n",
    "data.iloc[1:2]\n",
    "# data.iat[1,1] 高效"
   ],
   "metadata": {
    "collapsed": false,
    "pycharm": {
     "name": "#%%\n"
    }
   }
  },
  {
   "cell_type": "code",
   "execution_count": 31,
   "outputs": [
    {
     "data": {
      "text/plain": "                   B\n2010-04-01 -1.293059\n2010-04-02 -1.013177",
      "text/html": "<div>\n<style scoped>\n    .dataframe tbody tr th:only-of-type {\n        vertical-align: middle;\n    }\n\n    .dataframe tbody tr th {\n        vertical-align: top;\n    }\n\n    .dataframe thead th {\n        text-align: right;\n    }\n</style>\n<table border=\"1\" class=\"dataframe\">\n  <thead>\n    <tr style=\"text-align: right;\">\n      <th></th>\n      <th>B</th>\n    </tr>\n  </thead>\n  <tbody>\n    <tr>\n      <th>2010-04-01</th>\n      <td>-1.293059</td>\n    </tr>\n    <tr>\n      <th>2010-04-02</th>\n      <td>-1.013177</td>\n    </tr>\n  </tbody>\n</table>\n</div>"
     },
     "execution_count": 31,
     "metadata": {},
     "output_type": "execute_result"
    }
   ],
   "source": [
    "data.iloc[0:2,1:2]"
   ],
   "metadata": {
    "collapsed": false,
    "pycharm": {
     "name": "#%%\n"
    }
   }
  },
  {
   "cell_type": "code",
   "execution_count": 32,
   "outputs": [
    {
     "data": {
      "text/plain": "                   B\n2010-04-01 -1.293059\n2010-04-02 -1.013177\n2010-04-03 -0.558448\n2010-04-04 -0.089931\n2010-04-05  0.496811\n2010-04-06 -0.606490",
      "text/html": "<div>\n<style scoped>\n    .dataframe tbody tr th:only-of-type {\n        vertical-align: middle;\n    }\n\n    .dataframe tbody tr th {\n        vertical-align: top;\n    }\n\n    .dataframe thead th {\n        text-align: right;\n    }\n</style>\n<table border=\"1\" class=\"dataframe\">\n  <thead>\n    <tr style=\"text-align: right;\">\n      <th></th>\n      <th>B</th>\n    </tr>\n  </thead>\n  <tbody>\n    <tr>\n      <th>2010-04-01</th>\n      <td>-1.293059</td>\n    </tr>\n    <tr>\n      <th>2010-04-02</th>\n      <td>-1.013177</td>\n    </tr>\n    <tr>\n      <th>2010-04-03</th>\n      <td>-0.558448</td>\n    </tr>\n    <tr>\n      <th>2010-04-04</th>\n      <td>-0.089931</td>\n    </tr>\n    <tr>\n      <th>2010-04-05</th>\n      <td>0.496811</td>\n    </tr>\n    <tr>\n      <th>2010-04-06</th>\n      <td>-0.606490</td>\n    </tr>\n  </tbody>\n</table>\n</div>"
     },
     "execution_count": 32,
     "metadata": {},
     "output_type": "execute_result"
    }
   ],
   "source": [
    "data.iloc[:,1:2]"
   ],
   "metadata": {
    "collapsed": false,
    "pycharm": {
     "name": "#%%\n"
    }
   }
  },
  {
   "cell_type": "code",
   "execution_count": 33,
   "outputs": [
    {
     "data": {
      "text/plain": "                   A         B\n2010-04-01  0.239190 -1.293059\n2010-04-02  0.192910 -1.013177\n2010-04-03  0.092265 -0.558448\n2010-04-04 -1.357121 -0.089931\n2010-04-05 -0.155340  0.496811\n2010-04-06 -0.100567 -0.606490",
      "text/html": "<div>\n<style scoped>\n    .dataframe tbody tr th:only-of-type {\n        vertical-align: middle;\n    }\n\n    .dataframe tbody tr th {\n        vertical-align: top;\n    }\n\n    .dataframe thead th {\n        text-align: right;\n    }\n</style>\n<table border=\"1\" class=\"dataframe\">\n  <thead>\n    <tr style=\"text-align: right;\">\n      <th></th>\n      <th>A</th>\n      <th>B</th>\n    </tr>\n  </thead>\n  <tbody>\n    <tr>\n      <th>2010-04-01</th>\n      <td>0.239190</td>\n      <td>-1.293059</td>\n    </tr>\n    <tr>\n      <th>2010-04-02</th>\n      <td>0.192910</td>\n      <td>-1.013177</td>\n    </tr>\n    <tr>\n      <th>2010-04-03</th>\n      <td>0.092265</td>\n      <td>-0.558448</td>\n    </tr>\n    <tr>\n      <th>2010-04-04</th>\n      <td>-1.357121</td>\n      <td>-0.089931</td>\n    </tr>\n    <tr>\n      <th>2010-04-05</th>\n      <td>-0.155340</td>\n      <td>0.496811</td>\n    </tr>\n    <tr>\n      <th>2010-04-06</th>\n      <td>-0.100567</td>\n      <td>-0.606490</td>\n    </tr>\n  </tbody>\n</table>\n</div>"
     },
     "execution_count": 33,
     "metadata": {},
     "output_type": "execute_result"
    }
   ],
   "source": [
    "data.loc[:,['A','B']]"
   ],
   "metadata": {
    "collapsed": false,
    "pycharm": {
     "name": "#%%\n"
    }
   }
  },
  {
   "cell_type": "code",
   "execution_count": 34,
   "outputs": [
    {
     "data": {
      "text/plain": "                   A         B\n2010-04-02  0.192910 -1.013177\n2010-04-03  0.092265 -0.558448",
      "text/html": "<div>\n<style scoped>\n    .dataframe tbody tr th:only-of-type {\n        vertical-align: middle;\n    }\n\n    .dataframe tbody tr th {\n        vertical-align: top;\n    }\n\n    .dataframe thead th {\n        text-align: right;\n    }\n</style>\n<table border=\"1\" class=\"dataframe\">\n  <thead>\n    <tr style=\"text-align: right;\">\n      <th></th>\n      <th>A</th>\n      <th>B</th>\n    </tr>\n  </thead>\n  <tbody>\n    <tr>\n      <th>2010-04-02</th>\n      <td>0.192910</td>\n      <td>-1.013177</td>\n    </tr>\n    <tr>\n      <th>2010-04-03</th>\n      <td>0.092265</td>\n      <td>-0.558448</td>\n    </tr>\n  </tbody>\n</table>\n</div>"
     },
     "execution_count": 34,
     "metadata": {},
     "output_type": "execute_result"
    }
   ],
   "source": [
    "data.loc['20100402':'20100403',['A','B']]"
   ],
   "metadata": {
    "collapsed": false,
    "pycharm": {
     "name": "#%%\n"
    }
   }
  },
  {
   "cell_type": "code",
   "execution_count": 35,
   "outputs": [
    {
     "data": {
      "text/plain": "-1.0131773443412657"
     },
     "execution_count": 35,
     "metadata": {},
     "output_type": "execute_result"
    }
   ],
   "source": [
    "data.loc['20100402','B']"
   ],
   "metadata": {
    "collapsed": false,
    "pycharm": {
     "name": "#%%\n"
    }
   }
  },
  {
   "cell_type": "code",
   "execution_count": 36,
   "outputs": [
    {
     "data": {
      "text/plain": "-1.0131773443412657"
     },
     "execution_count": 36,
     "metadata": {},
     "output_type": "execute_result"
    }
   ],
   "source": [
    "data.at[pd.Timestamp('20100402'),'B']"
   ],
   "metadata": {
    "collapsed": false,
    "pycharm": {
     "name": "#%%\n"
    }
   }
  },
  {
   "cell_type": "code",
   "execution_count": 37,
   "outputs": [
    {
     "data": {
      "text/plain": "                   A         B         C         D\n2010-04-01  0.239190       NaN  1.572040  0.248397\n2010-04-02  0.192910       NaN  0.827929       NaN\n2010-04-03  0.092265       NaN  1.160528  1.457165\n2010-04-04       NaN       NaN  0.589897       NaN\n2010-04-05       NaN  0.496811       NaN       NaN\n2010-04-06       NaN       NaN       NaN       NaN",
      "text/html": "<div>\n<style scoped>\n    .dataframe tbody tr th:only-of-type {\n        vertical-align: middle;\n    }\n\n    .dataframe tbody tr th {\n        vertical-align: top;\n    }\n\n    .dataframe thead th {\n        text-align: right;\n    }\n</style>\n<table border=\"1\" class=\"dataframe\">\n  <thead>\n    <tr style=\"text-align: right;\">\n      <th></th>\n      <th>A</th>\n      <th>B</th>\n      <th>C</th>\n      <th>D</th>\n    </tr>\n  </thead>\n  <tbody>\n    <tr>\n      <th>2010-04-01</th>\n      <td>0.239190</td>\n      <td>NaN</td>\n      <td>1.572040</td>\n      <td>0.248397</td>\n    </tr>\n    <tr>\n      <th>2010-04-02</th>\n      <td>0.192910</td>\n      <td>NaN</td>\n      <td>0.827929</td>\n      <td>NaN</td>\n    </tr>\n    <tr>\n      <th>2010-04-03</th>\n      <td>0.092265</td>\n      <td>NaN</td>\n      <td>1.160528</td>\n      <td>1.457165</td>\n    </tr>\n    <tr>\n      <th>2010-04-04</th>\n      <td>NaN</td>\n      <td>NaN</td>\n      <td>0.589897</td>\n      <td>NaN</td>\n    </tr>\n    <tr>\n      <th>2010-04-05</th>\n      <td>NaN</td>\n      <td>0.496811</td>\n      <td>NaN</td>\n      <td>NaN</td>\n    </tr>\n    <tr>\n      <th>2010-04-06</th>\n      <td>NaN</td>\n      <td>NaN</td>\n      <td>NaN</td>\n      <td>NaN</td>\n    </tr>\n  </tbody>\n</table>\n</div>"
     },
     "execution_count": 37,
     "metadata": {},
     "output_type": "execute_result"
    }
   ],
   "source": [
    "data[data>0]"
   ],
   "metadata": {
    "collapsed": false,
    "pycharm": {
     "name": "#%%\n"
    }
   }
  },
  {
   "cell_type": "code",
   "execution_count": 38,
   "outputs": [],
   "source": [
    "data2 = data.copy()"
   ],
   "metadata": {
    "collapsed": false,
    "pycharm": {
     "name": "#%%\n"
    }
   }
  },
  {
   "cell_type": "code",
   "execution_count": 39,
   "outputs": [
    {
     "data": {
      "text/plain": "                   A         B         C         D  tag\n2010-04-01  0.239190 -1.293059  1.572040  0.248397    1\n2010-04-02  0.192910 -1.013177  0.827929 -0.418419    2\n2010-04-03  0.092265 -0.558448  1.160528  1.457165    3\n2010-04-04 -1.357121 -0.089931  0.589897 -0.179615    4\n2010-04-05 -0.155340  0.496811 -0.642814 -0.052642    5\n2010-04-06 -0.100567 -0.606490 -0.281082 -0.632530    6",
      "text/html": "<div>\n<style scoped>\n    .dataframe tbody tr th:only-of-type {\n        vertical-align: middle;\n    }\n\n    .dataframe tbody tr th {\n        vertical-align: top;\n    }\n\n    .dataframe thead th {\n        text-align: right;\n    }\n</style>\n<table border=\"1\" class=\"dataframe\">\n  <thead>\n    <tr style=\"text-align: right;\">\n      <th></th>\n      <th>A</th>\n      <th>B</th>\n      <th>C</th>\n      <th>D</th>\n      <th>tag</th>\n    </tr>\n  </thead>\n  <tbody>\n    <tr>\n      <th>2010-04-01</th>\n      <td>0.239190</td>\n      <td>-1.293059</td>\n      <td>1.572040</td>\n      <td>0.248397</td>\n      <td>1</td>\n    </tr>\n    <tr>\n      <th>2010-04-02</th>\n      <td>0.192910</td>\n      <td>-1.013177</td>\n      <td>0.827929</td>\n      <td>-0.418419</td>\n      <td>2</td>\n    </tr>\n    <tr>\n      <th>2010-04-03</th>\n      <td>0.092265</td>\n      <td>-0.558448</td>\n      <td>1.160528</td>\n      <td>1.457165</td>\n      <td>3</td>\n    </tr>\n    <tr>\n      <th>2010-04-04</th>\n      <td>-1.357121</td>\n      <td>-0.089931</td>\n      <td>0.589897</td>\n      <td>-0.179615</td>\n      <td>4</td>\n    </tr>\n    <tr>\n      <th>2010-04-05</th>\n      <td>-0.155340</td>\n      <td>0.496811</td>\n      <td>-0.642814</td>\n      <td>-0.052642</td>\n      <td>5</td>\n    </tr>\n    <tr>\n      <th>2010-04-06</th>\n      <td>-0.100567</td>\n      <td>-0.606490</td>\n      <td>-0.281082</td>\n      <td>-0.632530</td>\n      <td>6</td>\n    </tr>\n  </tbody>\n</table>\n</div>"
     },
     "execution_count": 39,
     "metadata": {},
     "output_type": "execute_result"
    }
   ],
   "source": [
    "\n",
    "tag = [1,2,3,4,5,6]\n",
    "data2['tag'] = tag\n",
    "data2"
   ],
   "metadata": {
    "collapsed": false,
    "pycharm": {
     "name": "#%%\n"
    }
   }
  },
  {
   "cell_type": "code",
   "execution_count": 40,
   "outputs": [
    {
     "data": {
      "text/plain": "                   A         B         C         D  tag tag_list\n2010-04-01  0.239190 -1.293059  1.572040  0.248397    1        a\n2010-04-02  0.192910 -1.013177  0.827929 -0.418419    2        a\n2010-04-03  0.092265 -0.558448  1.160528  1.457165    3        b\n2010-04-04 -1.357121 -0.089931  0.589897 -0.179615    4        b\n2010-04-05 -0.155340  0.496811 -0.642814 -0.052642    5        c\n2010-04-06 -0.100567 -0.606490 -0.281082 -0.632530    6        c",
      "text/html": "<div>\n<style scoped>\n    .dataframe tbody tr th:only-of-type {\n        vertical-align: middle;\n    }\n\n    .dataframe tbody tr th {\n        vertical-align: top;\n    }\n\n    .dataframe thead th {\n        text-align: right;\n    }\n</style>\n<table border=\"1\" class=\"dataframe\">\n  <thead>\n    <tr style=\"text-align: right;\">\n      <th></th>\n      <th>A</th>\n      <th>B</th>\n      <th>C</th>\n      <th>D</th>\n      <th>tag</th>\n      <th>tag_list</th>\n    </tr>\n  </thead>\n  <tbody>\n    <tr>\n      <th>2010-04-01</th>\n      <td>0.239190</td>\n      <td>-1.293059</td>\n      <td>1.572040</td>\n      <td>0.248397</td>\n      <td>1</td>\n      <td>a</td>\n    </tr>\n    <tr>\n      <th>2010-04-02</th>\n      <td>0.192910</td>\n      <td>-1.013177</td>\n      <td>0.827929</td>\n      <td>-0.418419</td>\n      <td>2</td>\n      <td>a</td>\n    </tr>\n    <tr>\n      <th>2010-04-03</th>\n      <td>0.092265</td>\n      <td>-0.558448</td>\n      <td>1.160528</td>\n      <td>1.457165</td>\n      <td>3</td>\n      <td>b</td>\n    </tr>\n    <tr>\n      <th>2010-04-04</th>\n      <td>-1.357121</td>\n      <td>-0.089931</td>\n      <td>0.589897</td>\n      <td>-0.179615</td>\n      <td>4</td>\n      <td>b</td>\n    </tr>\n    <tr>\n      <th>2010-04-05</th>\n      <td>-0.155340</td>\n      <td>0.496811</td>\n      <td>-0.642814</td>\n      <td>-0.052642</td>\n      <td>5</td>\n      <td>c</td>\n    </tr>\n    <tr>\n      <th>2010-04-06</th>\n      <td>-0.100567</td>\n      <td>-0.606490</td>\n      <td>-0.281082</td>\n      <td>-0.632530</td>\n      <td>6</td>\n      <td>c</td>\n    </tr>\n  </tbody>\n</table>\n</div>"
     },
     "execution_count": 40,
     "metadata": {},
     "output_type": "execute_result"
    }
   ],
   "source": [
    "tag_list = ['a'] * 2 + ['b'] * 2 + ['c'] * 2\n",
    "data2['tag_list'] = tag_list\n",
    "data2"
   ],
   "metadata": {
    "collapsed": false,
    "pycharm": {
     "name": "#%%\n"
    }
   }
  },
  {
   "cell_type": "code",
   "execution_count": 41,
   "outputs": [
    {
     "data": {
      "text/plain": "                   A         B         C         D  tag tag_list\n2010-04-01  0.239190 -1.293059  1.572040  0.248397    1        a\n2010-04-02  0.192910 -1.013177  0.827929 -0.418419    2        a\n2010-04-03  0.092265 -0.558448  1.160528  1.457165    3        b\n2010-04-04 -1.357121 -0.089931  0.589897 -0.179615    4        b",
      "text/html": "<div>\n<style scoped>\n    .dataframe tbody tr th:only-of-type {\n        vertical-align: middle;\n    }\n\n    .dataframe tbody tr th {\n        vertical-align: top;\n    }\n\n    .dataframe thead th {\n        text-align: right;\n    }\n</style>\n<table border=\"1\" class=\"dataframe\">\n  <thead>\n    <tr style=\"text-align: right;\">\n      <th></th>\n      <th>A</th>\n      <th>B</th>\n      <th>C</th>\n      <th>D</th>\n      <th>tag</th>\n      <th>tag_list</th>\n    </tr>\n  </thead>\n  <tbody>\n    <tr>\n      <th>2010-04-01</th>\n      <td>0.239190</td>\n      <td>-1.293059</td>\n      <td>1.572040</td>\n      <td>0.248397</td>\n      <td>1</td>\n      <td>a</td>\n    </tr>\n    <tr>\n      <th>2010-04-02</th>\n      <td>0.192910</td>\n      <td>-1.013177</td>\n      <td>0.827929</td>\n      <td>-0.418419</td>\n      <td>2</td>\n      <td>a</td>\n    </tr>\n    <tr>\n      <th>2010-04-03</th>\n      <td>0.092265</td>\n      <td>-0.558448</td>\n      <td>1.160528</td>\n      <td>1.457165</td>\n      <td>3</td>\n      <td>b</td>\n    </tr>\n    <tr>\n      <th>2010-04-04</th>\n      <td>-1.357121</td>\n      <td>-0.089931</td>\n      <td>0.589897</td>\n      <td>-0.179615</td>\n      <td>4</td>\n      <td>b</td>\n    </tr>\n  </tbody>\n</table>\n</div>"
     },
     "execution_count": 41,
     "metadata": {},
     "output_type": "execute_result"
    }
   ],
   "source": [
    "data2[data2.tag_list.isin(['a','b'])]\n"
   ],
   "metadata": {
    "collapsed": false,
    "pycharm": {
     "name": "#%%\n"
    }
   }
  },
  {
   "cell_type": "code",
   "execution_count": 42,
   "outputs": [
    {
     "data": {
      "text/plain": "                     A         B         C         D\n2010-04-01  100.000000 -1.293059  1.572040  0.248397\n2010-04-02    0.192910 -1.013177  0.827929 -0.418419\n2010-04-03    0.092265 -0.558448  1.160528  1.457165\n2010-04-04   -1.357121 -0.089931  0.589897 -0.179615\n2010-04-05   -0.155340  0.496811 -0.642814 -0.052642\n2010-04-06   -0.100567 -0.606490 -0.281082 -0.632530",
      "text/html": "<div>\n<style scoped>\n    .dataframe tbody tr th:only-of-type {\n        vertical-align: middle;\n    }\n\n    .dataframe tbody tr th {\n        vertical-align: top;\n    }\n\n    .dataframe thead th {\n        text-align: right;\n    }\n</style>\n<table border=\"1\" class=\"dataframe\">\n  <thead>\n    <tr style=\"text-align: right;\">\n      <th></th>\n      <th>A</th>\n      <th>B</th>\n      <th>C</th>\n      <th>D</th>\n    </tr>\n  </thead>\n  <tbody>\n    <tr>\n      <th>2010-04-01</th>\n      <td>100.000000</td>\n      <td>-1.293059</td>\n      <td>1.572040</td>\n      <td>0.248397</td>\n    </tr>\n    <tr>\n      <th>2010-04-02</th>\n      <td>0.192910</td>\n      <td>-1.013177</td>\n      <td>0.827929</td>\n      <td>-0.418419</td>\n    </tr>\n    <tr>\n      <th>2010-04-03</th>\n      <td>0.092265</td>\n      <td>-0.558448</td>\n      <td>1.160528</td>\n      <td>1.457165</td>\n    </tr>\n    <tr>\n      <th>2010-04-04</th>\n      <td>-1.357121</td>\n      <td>-0.089931</td>\n      <td>0.589897</td>\n      <td>-0.179615</td>\n    </tr>\n    <tr>\n      <th>2010-04-05</th>\n      <td>-0.155340</td>\n      <td>0.496811</td>\n      <td>-0.642814</td>\n      <td>-0.052642</td>\n    </tr>\n    <tr>\n      <th>2010-04-06</th>\n      <td>-0.100567</td>\n      <td>-0.606490</td>\n      <td>-0.281082</td>\n      <td>-0.632530</td>\n    </tr>\n  </tbody>\n</table>\n</div>"
     },
     "execution_count": 42,
     "metadata": {},
     "output_type": "execute_result"
    }
   ],
   "source": [
    "data.iat[0,0] = 100\n",
    "data"
   ],
   "metadata": {
    "collapsed": false,
    "pycharm": {
     "name": "#%%\n"
    }
   }
  },
  {
   "cell_type": "code",
   "execution_count": 43,
   "outputs": [
    {
     "data": {
      "text/plain": "            A         B         C         D\n2010-04-01  0 -1.293059  1.572040  0.248397\n2010-04-02  1 -1.013177  0.827929 -0.418419\n2010-04-03  2 -0.558448  1.160528  1.457165\n2010-04-04  3 -0.089931  0.589897 -0.179615\n2010-04-05  4  0.496811 -0.642814 -0.052642\n2010-04-06  5 -0.606490 -0.281082 -0.632530",
      "text/html": "<div>\n<style scoped>\n    .dataframe tbody tr th:only-of-type {\n        vertical-align: middle;\n    }\n\n    .dataframe tbody tr th {\n        vertical-align: top;\n    }\n\n    .dataframe thead th {\n        text-align: right;\n    }\n</style>\n<table border=\"1\" class=\"dataframe\">\n  <thead>\n    <tr style=\"text-align: right;\">\n      <th></th>\n      <th>A</th>\n      <th>B</th>\n      <th>C</th>\n      <th>D</th>\n    </tr>\n  </thead>\n  <tbody>\n    <tr>\n      <th>2010-04-01</th>\n      <td>0</td>\n      <td>-1.293059</td>\n      <td>1.572040</td>\n      <td>0.248397</td>\n    </tr>\n    <tr>\n      <th>2010-04-02</th>\n      <td>1</td>\n      <td>-1.013177</td>\n      <td>0.827929</td>\n      <td>-0.418419</td>\n    </tr>\n    <tr>\n      <th>2010-04-03</th>\n      <td>2</td>\n      <td>-0.558448</td>\n      <td>1.160528</td>\n      <td>1.457165</td>\n    </tr>\n    <tr>\n      <th>2010-04-04</th>\n      <td>3</td>\n      <td>-0.089931</td>\n      <td>0.589897</td>\n      <td>-0.179615</td>\n    </tr>\n    <tr>\n      <th>2010-04-05</th>\n      <td>4</td>\n      <td>0.496811</td>\n      <td>-0.642814</td>\n      <td>-0.052642</td>\n    </tr>\n    <tr>\n      <th>2010-04-06</th>\n      <td>5</td>\n      <td>-0.606490</td>\n      <td>-0.281082</td>\n      <td>-0.632530</td>\n    </tr>\n  </tbody>\n</table>\n</div>"
     },
     "execution_count": 43,
     "metadata": {},
     "output_type": "execute_result"
    }
   ],
   "source": [
    "data.A = range(6)\n",
    "data"
   ],
   "metadata": {
    "collapsed": false,
    "pycharm": {
     "name": "#%%\n"
    }
   }
  },
  {
   "cell_type": "code",
   "execution_count": 44,
   "outputs": [
    {
     "data": {
      "text/plain": "            A    B         C         D\n2010-04-01  0  200  1.572040  0.248397\n2010-04-02  1  200  0.827929 -0.418419\n2010-04-03  2  200  1.160528  1.457165\n2010-04-04  3  200  0.589897 -0.179615\n2010-04-05  4  200 -0.642814 -0.052642\n2010-04-06  5  200 -0.281082 -0.632530",
      "text/html": "<div>\n<style scoped>\n    .dataframe tbody tr th:only-of-type {\n        vertical-align: middle;\n    }\n\n    .dataframe tbody tr th {\n        vertical-align: top;\n    }\n\n    .dataframe thead th {\n        text-align: right;\n    }\n</style>\n<table border=\"1\" class=\"dataframe\">\n  <thead>\n    <tr style=\"text-align: right;\">\n      <th></th>\n      <th>A</th>\n      <th>B</th>\n      <th>C</th>\n      <th>D</th>\n    </tr>\n  </thead>\n  <tbody>\n    <tr>\n      <th>2010-04-01</th>\n      <td>0</td>\n      <td>200</td>\n      <td>1.572040</td>\n      <td>0.248397</td>\n    </tr>\n    <tr>\n      <th>2010-04-02</th>\n      <td>1</td>\n      <td>200</td>\n      <td>0.827929</td>\n      <td>-0.418419</td>\n    </tr>\n    <tr>\n      <th>2010-04-03</th>\n      <td>2</td>\n      <td>200</td>\n      <td>1.160528</td>\n      <td>1.457165</td>\n    </tr>\n    <tr>\n      <th>2010-04-04</th>\n      <td>3</td>\n      <td>200</td>\n      <td>0.589897</td>\n      <td>-0.179615</td>\n    </tr>\n    <tr>\n      <th>2010-04-05</th>\n      <td>4</td>\n      <td>200</td>\n      <td>-0.642814</td>\n      <td>-0.052642</td>\n    </tr>\n    <tr>\n      <th>2010-04-06</th>\n      <td>5</td>\n      <td>200</td>\n      <td>-0.281082</td>\n      <td>-0.632530</td>\n    </tr>\n  </tbody>\n</table>\n</div>"
     },
     "execution_count": 44,
     "metadata": {},
     "output_type": "execute_result"
    }
   ],
   "source": [
    "data.B = 200\n",
    "data"
   ],
   "metadata": {
    "collapsed": false,
    "pycharm": {
     "name": "#%%\n"
    }
   }
  },
  {
   "cell_type": "code",
   "execution_count": 45,
   "outputs": [],
   "source": [
    "# error\n",
    "# data.C = range(5)\n"
   ],
   "metadata": {
    "collapsed": false,
    "pycharm": {
     "name": "#%%\n"
    }
   }
  },
  {
   "cell_type": "code",
   "execution_count": 50,
   "outputs": [
    {
     "data": {
      "text/plain": "            A    B     C     D\n2010-04-01  0  200  1000  1000\n2010-04-02  1  200  1000  1000\n2010-04-03  2  200  1000  1000\n2010-04-04  3  200  1000  1000\n2010-04-05  4  200  1000  1000\n2010-04-06  5  200  1000  1000",
      "text/html": "<div>\n<style scoped>\n    .dataframe tbody tr th:only-of-type {\n        vertical-align: middle;\n    }\n\n    .dataframe tbody tr th {\n        vertical-align: top;\n    }\n\n    .dataframe thead th {\n        text-align: right;\n    }\n</style>\n<table border=\"1\" class=\"dataframe\">\n  <thead>\n    <tr style=\"text-align: right;\">\n      <th></th>\n      <th>A</th>\n      <th>B</th>\n      <th>C</th>\n      <th>D</th>\n    </tr>\n  </thead>\n  <tbody>\n    <tr>\n      <th>2010-04-01</th>\n      <td>0</td>\n      <td>200</td>\n      <td>1000</td>\n      <td>1000</td>\n    </tr>\n    <tr>\n      <th>2010-04-02</th>\n      <td>1</td>\n      <td>200</td>\n      <td>1000</td>\n      <td>1000</td>\n    </tr>\n    <tr>\n      <th>2010-04-03</th>\n      <td>2</td>\n      <td>200</td>\n      <td>1000</td>\n      <td>1000</td>\n    </tr>\n    <tr>\n      <th>2010-04-04</th>\n      <td>3</td>\n      <td>200</td>\n      <td>1000</td>\n      <td>1000</td>\n    </tr>\n    <tr>\n      <th>2010-04-05</th>\n      <td>4</td>\n      <td>200</td>\n      <td>1000</td>\n      <td>1000</td>\n    </tr>\n    <tr>\n      <th>2010-04-06</th>\n      <td>5</td>\n      <td>200</td>\n      <td>1000</td>\n      <td>1000</td>\n    </tr>\n  </tbody>\n</table>\n</div>"
     },
     "execution_count": 50,
     "metadata": {},
     "output_type": "execute_result"
    }
   ],
   "source": [
    "data.iloc[:, 2:4] = 1000\n",
    "data"
   ],
   "metadata": {
    "collapsed": false,
    "pycharm": {
     "name": "#%%\n"
    }
   }
  },
  {
   "cell_type": "code",
   "execution_count": null,
   "outputs": [],
   "source": [
    "\n"
   ],
   "metadata": {
    "collapsed": false,
    "pycharm": {
     "name": "#%%\n"
    }
   }
  }
 ],
 "metadata": {
  "kernelspec": {
   "display_name": "Python 3",
   "language": "python",
   "name": "python3"
  },
  "language_info": {
   "codemirror_mode": {
    "name": "ipython",
    "version": 2
   },
   "file_extension": ".py",
   "mimetype": "text/x-python",
   "name": "python",
   "nbconvert_exporter": "python",
   "pygments_lexer": "ipython2",
   "version": "2.7.6"
  }
 },
 "nbformat": 4,
 "nbformat_minor": 0
}