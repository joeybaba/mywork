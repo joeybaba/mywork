{
 "cells": [
  {
   "cell_type": "code",
   "execution_count": 25,
   "metadata": {
    "collapsed": true
   },
   "outputs": [],
   "source": [
    "import  pandas as pd"
   ]
  },
  {
   "cell_type": "code",
   "execution_count": 26,
   "outputs": [
    {
     "name": "stderr",
     "output_type": "stream",
     "text": [
      "/Library/Frameworks/Python.framework/Versions/3.7/lib/python3.7/site-packages/ipykernel_launcher.py:2: ParserWarning: Falling back to the 'python' engine because the 'c' engine does not support regex separators (separators > 1 char and different from '\\s+' are interpreted as regex); you can avoid this warning by specifying engine='python'.\n",
      "  \n"
     ]
    },
    {
     "data": {
      "text/plain": "   user_id gender  age  occupation    zip\n0        1      F    1          10  48067\n1        2      M   56          16  70072\n2        3      M   25          15  55117\n3        4      M   45           7  02460\n4        5      M   25          20  55455",
      "text/html": "<div>\n<style scoped>\n    .dataframe tbody tr th:only-of-type {\n        vertical-align: middle;\n    }\n\n    .dataframe tbody tr th {\n        vertical-align: top;\n    }\n\n    .dataframe thead th {\n        text-align: right;\n    }\n</style>\n<table border=\"1\" class=\"dataframe\">\n  <thead>\n    <tr style=\"text-align: right;\">\n      <th></th>\n      <th>user_id</th>\n      <th>gender</th>\n      <th>age</th>\n      <th>occupation</th>\n      <th>zip</th>\n    </tr>\n  </thead>\n  <tbody>\n    <tr>\n      <th>0</th>\n      <td>1</td>\n      <td>F</td>\n      <td>1</td>\n      <td>10</td>\n      <td>48067</td>\n    </tr>\n    <tr>\n      <th>1</th>\n      <td>2</td>\n      <td>M</td>\n      <td>56</td>\n      <td>16</td>\n      <td>70072</td>\n    </tr>\n    <tr>\n      <th>2</th>\n      <td>3</td>\n      <td>M</td>\n      <td>25</td>\n      <td>15</td>\n      <td>55117</td>\n    </tr>\n    <tr>\n      <th>3</th>\n      <td>4</td>\n      <td>M</td>\n      <td>45</td>\n      <td>7</td>\n      <td>02460</td>\n    </tr>\n    <tr>\n      <th>4</th>\n      <td>5</td>\n      <td>M</td>\n      <td>25</td>\n      <td>20</td>\n      <td>55455</td>\n    </tr>\n  </tbody>\n</table>\n</div>"
     },
     "execution_count": 26,
     "metadata": {},
     "output_type": "execute_result"
    }
   ],
   "source": [
    "unames = ['user_id', 'gender', 'age', 'occupation', 'zip']\n",
    "users = pd.read_table('/Users/joey/Desktop/pandas_tutor-master/ml-1m/users.dat',sep='::',header=None,names=unames)\n",
    "users.head(5)"
   ],
   "metadata": {
    "collapsed": false,
    "pycharm": {
     "name": "#%%\n"
    }
   }
  },
  {
   "cell_type": "code",
   "execution_count": 27,
   "outputs": [
    {
     "name": "stderr",
     "output_type": "stream",
     "text": [
      "/Library/Frameworks/Python.framework/Versions/3.7/lib/python3.7/site-packages/ipykernel_launcher.py:2: ParserWarning: Falling back to the 'python' engine because the 'c' engine does not support regex separators (separators > 1 char and different from '\\s+' are interpreted as regex); you can avoid this warning by specifying engine='python'.\n",
      "  \n"
     ]
    },
    {
     "data": {
      "text/plain": "   user_id  movie_id  rating  timestamp\n0        1      1193       5  978300760\n1        1       661       3  978302109\n2        1       914       3  978301968\n3        1      3408       4  978300275\n4        1      2355       5  978824291",
      "text/html": "<div>\n<style scoped>\n    .dataframe tbody tr th:only-of-type {\n        vertical-align: middle;\n    }\n\n    .dataframe tbody tr th {\n        vertical-align: top;\n    }\n\n    .dataframe thead th {\n        text-align: right;\n    }\n</style>\n<table border=\"1\" class=\"dataframe\">\n  <thead>\n    <tr style=\"text-align: right;\">\n      <th></th>\n      <th>user_id</th>\n      <th>movie_id</th>\n      <th>rating</th>\n      <th>timestamp</th>\n    </tr>\n  </thead>\n  <tbody>\n    <tr>\n      <th>0</th>\n      <td>1</td>\n      <td>1193</td>\n      <td>5</td>\n      <td>978300760</td>\n    </tr>\n    <tr>\n      <th>1</th>\n      <td>1</td>\n      <td>661</td>\n      <td>3</td>\n      <td>978302109</td>\n    </tr>\n    <tr>\n      <th>2</th>\n      <td>1</td>\n      <td>914</td>\n      <td>3</td>\n      <td>978301968</td>\n    </tr>\n    <tr>\n      <th>3</th>\n      <td>1</td>\n      <td>3408</td>\n      <td>4</td>\n      <td>978300275</td>\n    </tr>\n    <tr>\n      <th>4</th>\n      <td>1</td>\n      <td>2355</td>\n      <td>5</td>\n      <td>978824291</td>\n    </tr>\n  </tbody>\n</table>\n</div>"
     },
     "execution_count": 27,
     "metadata": {},
     "output_type": "execute_result"
    }
   ],
   "source": [
    "rating_names = ['user_id','movie_id','rating','timestamp']\n",
    "ratings = pd.read_table(r'/Users/joey/Desktop/pandas_tutor-master/ml-1m/ratings.dat',sep='::',header=None,names=rating_names)\n",
    "ratings.head(5)"
   ],
   "metadata": {
    "collapsed": false,
    "pycharm": {
     "name": "#%%\n"
    }
   }
  },
  {
   "cell_type": "code",
   "execution_count": 28,
   "outputs": [
    {
     "name": "stderr",
     "output_type": "stream",
     "text": [
      "/Library/Frameworks/Python.framework/Versions/3.7/lib/python3.7/site-packages/ipykernel_launcher.py:2: ParserWarning: Falling back to the 'python' engine because the 'c' engine does not support regex separators (separators > 1 char and different from '\\s+' are interpreted as regex); you can avoid this warning by specifying engine='python'.\n",
      "  \n"
     ]
    },
    {
     "data": {
      "text/plain": "   movie_id                               title                        genres\n0         1                    Toy Story (1995)   Animation|Children's|Comedy\n1         2                      Jumanji (1995)  Adventure|Children's|Fantasy\n2         3             Grumpier Old Men (1995)                Comedy|Romance\n3         4            Waiting to Exhale (1995)                  Comedy|Drama\n4         5  Father of the Bride Part II (1995)                        Comedy",
      "text/html": "<div>\n<style scoped>\n    .dataframe tbody tr th:only-of-type {\n        vertical-align: middle;\n    }\n\n    .dataframe tbody tr th {\n        vertical-align: top;\n    }\n\n    .dataframe thead th {\n        text-align: right;\n    }\n</style>\n<table border=\"1\" class=\"dataframe\">\n  <thead>\n    <tr style=\"text-align: right;\">\n      <th></th>\n      <th>movie_id</th>\n      <th>title</th>\n      <th>genres</th>\n    </tr>\n  </thead>\n  <tbody>\n    <tr>\n      <th>0</th>\n      <td>1</td>\n      <td>Toy Story (1995)</td>\n      <td>Animation|Children's|Comedy</td>\n    </tr>\n    <tr>\n      <th>1</th>\n      <td>2</td>\n      <td>Jumanji (1995)</td>\n      <td>Adventure|Children's|Fantasy</td>\n    </tr>\n    <tr>\n      <th>2</th>\n      <td>3</td>\n      <td>Grumpier Old Men (1995)</td>\n      <td>Comedy|Romance</td>\n    </tr>\n    <tr>\n      <th>3</th>\n      <td>4</td>\n      <td>Waiting to Exhale (1995)</td>\n      <td>Comedy|Drama</td>\n    </tr>\n    <tr>\n      <th>4</th>\n      <td>5</td>\n      <td>Father of the Bride Part II (1995)</td>\n      <td>Comedy</td>\n    </tr>\n  </tbody>\n</table>\n</div>"
     },
     "execution_count": 28,
     "metadata": {},
     "output_type": "execute_result"
    }
   ],
   "source": [
    "movie_names = ['movie_id','title','genres']\n",
    "movies = pd.read_table(r'/Users/joey/Desktop/pandas_tutor-master/ml-1m/movies.dat',sep='::',header=None,names=movie_names)\n",
    "movies.head(5)"
   ],
   "metadata": {
    "collapsed": false,
    "pycharm": {
     "name": "#%%\n"
    }
   }
  },
  {
   "cell_type": "code",
   "execution_count": 29,
   "outputs": [
    {
     "name": "stdout",
     "output_type": "stream",
     "text": [
      "1000209\n"
     ]
    }
   ],
   "source": [
    "print(len(ratings))"
   ],
   "metadata": {
    "collapsed": false,
    "pycharm": {
     "name": "#%%\n"
    }
   }
  },
  {
   "cell_type": "code",
   "execution_count": 96,
   "outputs": [
    {
     "name": "stdout",
     "output_type": "stream",
     "text": [
      "<class 'pandas.core.frame.DataFrame'>\n"
     ]
    },
    {
     "data": {
      "text/plain": "   user_id gender  age  occupation    zip  movie_id  rating  timestamp  \\\n0        1      F    1          10  48067      1193       5  978300760   \n1        2      M   56          16  70072      1193       5  978298413   \n2       12      M   25          12  32793      1193       4  978220179   \n3       15      M   25           7  22903      1193       4  978199279   \n4       17      M   50           1  95350      1193       5  978158471   \n\n                                    title genres  \n0  One Flew Over the Cuckoo's Nest (1975)  Drama  \n1  One Flew Over the Cuckoo's Nest (1975)  Drama  \n2  One Flew Over the Cuckoo's Nest (1975)  Drama  \n3  One Flew Over the Cuckoo's Nest (1975)  Drama  \n4  One Flew Over the Cuckoo's Nest (1975)  Drama  ",
      "text/html": "<div>\n<style scoped>\n    .dataframe tbody tr th:only-of-type {\n        vertical-align: middle;\n    }\n\n    .dataframe tbody tr th {\n        vertical-align: top;\n    }\n\n    .dataframe thead th {\n        text-align: right;\n    }\n</style>\n<table border=\"1\" class=\"dataframe\">\n  <thead>\n    <tr style=\"text-align: right;\">\n      <th></th>\n      <th>user_id</th>\n      <th>gender</th>\n      <th>age</th>\n      <th>occupation</th>\n      <th>zip</th>\n      <th>movie_id</th>\n      <th>rating</th>\n      <th>timestamp</th>\n      <th>title</th>\n      <th>genres</th>\n    </tr>\n  </thead>\n  <tbody>\n    <tr>\n      <th>0</th>\n      <td>1</td>\n      <td>F</td>\n      <td>1</td>\n      <td>10</td>\n      <td>48067</td>\n      <td>1193</td>\n      <td>5</td>\n      <td>978300760</td>\n      <td>One Flew Over the Cuckoo's Nest (1975)</td>\n      <td>Drama</td>\n    </tr>\n    <tr>\n      <th>1</th>\n      <td>2</td>\n      <td>M</td>\n      <td>56</td>\n      <td>16</td>\n      <td>70072</td>\n      <td>1193</td>\n      <td>5</td>\n      <td>978298413</td>\n      <td>One Flew Over the Cuckoo's Nest (1975)</td>\n      <td>Drama</td>\n    </tr>\n    <tr>\n      <th>2</th>\n      <td>12</td>\n      <td>M</td>\n      <td>25</td>\n      <td>12</td>\n      <td>32793</td>\n      <td>1193</td>\n      <td>4</td>\n      <td>978220179</td>\n      <td>One Flew Over the Cuckoo's Nest (1975)</td>\n      <td>Drama</td>\n    </tr>\n    <tr>\n      <th>3</th>\n      <td>15</td>\n      <td>M</td>\n      <td>25</td>\n      <td>7</td>\n      <td>22903</td>\n      <td>1193</td>\n      <td>4</td>\n      <td>978199279</td>\n      <td>One Flew Over the Cuckoo's Nest (1975)</td>\n      <td>Drama</td>\n    </tr>\n    <tr>\n      <th>4</th>\n      <td>17</td>\n      <td>M</td>\n      <td>50</td>\n      <td>1</td>\n      <td>95350</td>\n      <td>1193</td>\n      <td>5</td>\n      <td>978158471</td>\n      <td>One Flew Over the Cuckoo's Nest (1975)</td>\n      <td>Drama</td>\n    </tr>\n  </tbody>\n</table>\n</div>"
     },
     "execution_count": 96,
     "metadata": {},
     "output_type": "execute_result"
    }
   ],
   "source": [
    "data = pd.merge(pd.merge(users,ratings),movies)\n",
    "data.head()"
   ],
   "metadata": {
    "collapsed": false,
    "pycharm": {
     "name": "#%%\n"
    }
   }
  },
  {
   "cell_type": "code",
   "execution_count": 33,
   "outputs": [
    {
     "data": {
      "text/plain": "       user_id gender  age  occupation    zip  movie_id  rating  timestamp  \\\n0            1      F    1          10  48067      1193       5  978300760   \n1725         1      F    1          10  48067       661       3  978302109   \n2250         1      F    1          10  48067       914       3  978301968   \n2886         1      F    1          10  48067      3408       4  978300275   \n4201         1      F    1          10  48067      2355       5  978824291   \n5904         1      F    1          10  48067      1197       3  978302268   \n8222         1      F    1          10  48067      1287       5  978302039   \n8926         1      F    1          10  48067      2804       5  978300719   \n10278        1      F    1          10  48067       594       4  978302268   \n11041        1      F    1          10  48067       919       4  978301368   \n12759        1      F    1          10  48067       595       5  978824268   \n13819        1      F    1          10  48067       938       4  978301752   \n14006        1      F    1          10  48067      2398       4  978302281   \n14386        1      F    1          10  48067      2918       4  978302124   \n15859        1      F    1          10  48067      1035       5  978301753   \n16741        1      F    1          10  48067      2791       4  978302188   \n18472        1      F    1          10  48067      2687       3  978824268   \n18914        1      F    1          10  48067      2018       4  978301777   \n19503        1      F    1          10  48067      3105       5  978301713   \n20183        1      F    1          10  48067      2797       4  978302039   \n21674        1      F    1          10  48067      2321       3  978302205   \n22832        1      F    1          10  48067       720       3  978300760   \n23270        1      F    1          10  48067      1270       5  978300055   \n25853        1      F    1          10  48067       527       5  978824195   \n28157        1      F    1          10  48067      2340       3  978300103   \n28501        1      F    1          10  48067        48       5  978824351   \n28883        1      F    1          10  48067      1097       4  978301953   \n31152        1      F    1          10  48067      1721       4  978300055   \n32698        1      F    1          10  48067      1545       4  978824139   \n32771        1      F    1          10  48067       745       3  978824268   \n33428        1      F    1          10  48067      2294       4  978824291   \n34073        1      F    1          10  48067      3186       4  978300019   \n34504        1      F    1          10  48067      1566       4  978824330   \n34973        1      F    1          10  48067       588       4  978824268   \n36324        1      F    1          10  48067      1907       4  978824330   \n36814        1      F    1          10  48067       783       4  978824291   \n37204        1      F    1          10  48067      1836       5  978300172   \n37339        1      F    1          10  48067      1022       5  978300055   \n37916        1      F    1          10  48067      2762       4  978302091   \n40375        1      F    1          10  48067       150       5  978301777   \n41626        1      F    1          10  48067         1       5  978824268   \n43703        1      F    1          10  48067      1961       5  978301590   \n45033        1      F    1          10  48067      1962       4  978301753   \n45685        1      F    1          10  48067      2692       4  978301570   \n46757        1      F    1          10  48067       260       4  978300760   \n49748        1      F    1          10  48067      1028       5  978301777   \n50759        1      F    1          10  48067      1029       5  978302205   \n51327        1      F    1          10  48067      1207       4  978300719   \n52255        1      F    1          10  48067      2028       5  978301619   \n54908        1      F    1          10  48067       531       4  978302149   \n55246        1      F    1          10  48067      3114       4  978302174   \n56831        1      F    1          10  48067       608       4  978301398   \n59344        1      F    1          10  48067      1246       4  978302091   \n\n                                                   title  \\\n0                 One Flew Over the Cuckoo's Nest (1975)   \n1725                    James and the Giant Peach (1996)   \n2250                                 My Fair Lady (1964)   \n2886                              Erin Brockovich (2000)   \n4201                                Bug's Life, A (1998)   \n5904                          Princess Bride, The (1987)   \n8222                                      Ben-Hur (1959)   \n8926                           Christmas Story, A (1983)   \n10278             Snow White and the Seven Dwarfs (1937)   \n11041                           Wizard of Oz, The (1939)   \n12759                        Beauty and the Beast (1991)   \n13819                                        Gigi (1958)   \n14006                      Miracle on 34th Street (1947)   \n14386                    Ferris Bueller's Day Off (1986)   \n15859                         Sound of Music, The (1965)   \n16741                                   Airplane! (1980)   \n18472                                      Tarzan (1999)   \n18914                                       Bambi (1942)   \n19503                                  Awakenings (1990)   \n20183                                         Big (1988)   \n21674                               Pleasantville (1998)   \n22832  Wallace & Gromit: The Best of Aardman Animatio...   \n23270                          Back to the Future (1985)   \n25853                            Schindler's List (1993)   \n28157                              Meet Joe Black (1998)   \n28501                                  Pocahontas (1995)   \n28883                  E.T. the Extra-Terrestrial (1982)   \n31152                                     Titanic (1997)   \n32698                                     Ponette (1996)   \n32771                              Close Shave, A (1995)   \n33428                                        Antz (1998)   \n34073                           Girl, Interrupted (1999)   \n34504                                    Hercules (1997)   \n34973                                     Aladdin (1992)   \n36324                                       Mulan (1998)   \n36814                Hunchback of Notre Dame, The (1996)   \n37204                     Last Days of Disco, The (1998)   \n37339                                  Cinderella (1950)   \n37916                            Sixth Sense, The (1999)   \n40375                                   Apollo 13 (1995)   \n41626                                   Toy Story (1995)   \n43703                                    Rain Man (1988)   \n45033                          Driving Miss Daisy (1989)   \n45685                   Run Lola Run (Lola rennt) (1998)   \n46757          Star Wars: Episode IV - A New Hope (1977)   \n49748                                Mary Poppins (1964)   \n50759                                       Dumbo (1941)   \n51327                       To Kill a Mockingbird (1962)   \n52255                         Saving Private Ryan (1998)   \n54908                          Secret Garden, The (1993)   \n55246                                 Toy Story 2 (1999)   \n56831                                       Fargo (1996)   \n59344                          Dead Poets Society (1989)   \n\n                                              genres  \n0                                              Drama  \n1725                    Animation|Children's|Musical  \n2250                                 Musical|Romance  \n2886                                           Drama  \n4201                     Animation|Children's|Comedy  \n5904                 Action|Adventure|Comedy|Romance  \n8222                          Action|Adventure|Drama  \n8926                                    Comedy|Drama  \n10278                   Animation|Children's|Musical  \n11041             Adventure|Children's|Drama|Musical  \n12759                   Animation|Children's|Musical  \n13819                                        Musical  \n14006                                          Drama  \n14386                                         Comedy  \n15859                                        Musical  \n16741                                         Comedy  \n18472                           Animation|Children's  \n18914                           Animation|Children's  \n19503                                          Drama  \n20183                                 Comedy|Fantasy  \n21674                                         Comedy  \n22832                                      Animation  \n23270                                  Comedy|Sci-Fi  \n25853                                      Drama|War  \n28157                                        Romance  \n28501           Animation|Children's|Musical|Romance  \n28883                Children's|Drama|Fantasy|Sci-Fi  \n31152                                  Drama|Romance  \n32698                                          Drama  \n32771                      Animation|Comedy|Thriller  \n33428                           Animation|Children's  \n34073                                          Drama  \n34504  Adventure|Animation|Children's|Comedy|Musical  \n34973            Animation|Children's|Comedy|Musical  \n36324                           Animation|Children's  \n36814                   Animation|Children's|Musical  \n37204                                          Drama  \n37339                   Animation|Children's|Musical  \n37916                                       Thriller  \n40375                                          Drama  \n41626                    Animation|Children's|Comedy  \n43703                                          Drama  \n45033                                          Drama  \n45685                           Action|Crime|Romance  \n46757                Action|Adventure|Fantasy|Sci-Fi  \n49748                      Children's|Comedy|Musical  \n50759                   Animation|Children's|Musical  \n51327                                          Drama  \n52255                               Action|Drama|War  \n54908                               Children's|Drama  \n55246                    Animation|Children's|Comedy  \n56831                           Crime|Drama|Thriller  \n59344                                          Drama  ",
      "text/html": "<div>\n<style scoped>\n    .dataframe tbody tr th:only-of-type {\n        vertical-align: middle;\n    }\n\n    .dataframe tbody tr th {\n        vertical-align: top;\n    }\n\n    .dataframe thead th {\n        text-align: right;\n    }\n</style>\n<table border=\"1\" class=\"dataframe\">\n  <thead>\n    <tr style=\"text-align: right;\">\n      <th></th>\n      <th>user_id</th>\n      <th>gender</th>\n      <th>age</th>\n      <th>occupation</th>\n      <th>zip</th>\n      <th>movie_id</th>\n      <th>rating</th>\n      <th>timestamp</th>\n      <th>title</th>\n      <th>genres</th>\n    </tr>\n  </thead>\n  <tbody>\n    <tr>\n      <th>0</th>\n      <td>1</td>\n      <td>F</td>\n      <td>1</td>\n      <td>10</td>\n      <td>48067</td>\n      <td>1193</td>\n      <td>5</td>\n      <td>978300760</td>\n      <td>One Flew Over the Cuckoo's Nest (1975)</td>\n      <td>Drama</td>\n    </tr>\n    <tr>\n      <th>1725</th>\n      <td>1</td>\n      <td>F</td>\n      <td>1</td>\n      <td>10</td>\n      <td>48067</td>\n      <td>661</td>\n      <td>3</td>\n      <td>978302109</td>\n      <td>James and the Giant Peach (1996)</td>\n      <td>Animation|Children's|Musical</td>\n    </tr>\n    <tr>\n      <th>2250</th>\n      <td>1</td>\n      <td>F</td>\n      <td>1</td>\n      <td>10</td>\n      <td>48067</td>\n      <td>914</td>\n      <td>3</td>\n      <td>978301968</td>\n      <td>My Fair Lady (1964)</td>\n      <td>Musical|Romance</td>\n    </tr>\n    <tr>\n      <th>2886</th>\n      <td>1</td>\n      <td>F</td>\n      <td>1</td>\n      <td>10</td>\n      <td>48067</td>\n      <td>3408</td>\n      <td>4</td>\n      <td>978300275</td>\n      <td>Erin Brockovich (2000)</td>\n      <td>Drama</td>\n    </tr>\n    <tr>\n      <th>4201</th>\n      <td>1</td>\n      <td>F</td>\n      <td>1</td>\n      <td>10</td>\n      <td>48067</td>\n      <td>2355</td>\n      <td>5</td>\n      <td>978824291</td>\n      <td>Bug's Life, A (1998)</td>\n      <td>Animation|Children's|Comedy</td>\n    </tr>\n    <tr>\n      <th>5904</th>\n      <td>1</td>\n      <td>F</td>\n      <td>1</td>\n      <td>10</td>\n      <td>48067</td>\n      <td>1197</td>\n      <td>3</td>\n      <td>978302268</td>\n      <td>Princess Bride, The (1987)</td>\n      <td>Action|Adventure|Comedy|Romance</td>\n    </tr>\n    <tr>\n      <th>8222</th>\n      <td>1</td>\n      <td>F</td>\n      <td>1</td>\n      <td>10</td>\n      <td>48067</td>\n      <td>1287</td>\n      <td>5</td>\n      <td>978302039</td>\n      <td>Ben-Hur (1959)</td>\n      <td>Action|Adventure|Drama</td>\n    </tr>\n    <tr>\n      <th>8926</th>\n      <td>1</td>\n      <td>F</td>\n      <td>1</td>\n      <td>10</td>\n      <td>48067</td>\n      <td>2804</td>\n      <td>5</td>\n      <td>978300719</td>\n      <td>Christmas Story, A (1983)</td>\n      <td>Comedy|Drama</td>\n    </tr>\n    <tr>\n      <th>10278</th>\n      <td>1</td>\n      <td>F</td>\n      <td>1</td>\n      <td>10</td>\n      <td>48067</td>\n      <td>594</td>\n      <td>4</td>\n      <td>978302268</td>\n      <td>Snow White and the Seven Dwarfs (1937)</td>\n      <td>Animation|Children's|Musical</td>\n    </tr>\n    <tr>\n      <th>11041</th>\n      <td>1</td>\n      <td>F</td>\n      <td>1</td>\n      <td>10</td>\n      <td>48067</td>\n      <td>919</td>\n      <td>4</td>\n      <td>978301368</td>\n      <td>Wizard of Oz, The (1939)</td>\n      <td>Adventure|Children's|Drama|Musical</td>\n    </tr>\n    <tr>\n      <th>12759</th>\n      <td>1</td>\n      <td>F</td>\n      <td>1</td>\n      <td>10</td>\n      <td>48067</td>\n      <td>595</td>\n      <td>5</td>\n      <td>978824268</td>\n      <td>Beauty and the Beast (1991)</td>\n      <td>Animation|Children's|Musical</td>\n    </tr>\n    <tr>\n      <th>13819</th>\n      <td>1</td>\n      <td>F</td>\n      <td>1</td>\n      <td>10</td>\n      <td>48067</td>\n      <td>938</td>\n      <td>4</td>\n      <td>978301752</td>\n      <td>Gigi (1958)</td>\n      <td>Musical</td>\n    </tr>\n    <tr>\n      <th>14006</th>\n      <td>1</td>\n      <td>F</td>\n      <td>1</td>\n      <td>10</td>\n      <td>48067</td>\n      <td>2398</td>\n      <td>4</td>\n      <td>978302281</td>\n      <td>Miracle on 34th Street (1947)</td>\n      <td>Drama</td>\n    </tr>\n    <tr>\n      <th>14386</th>\n      <td>1</td>\n      <td>F</td>\n      <td>1</td>\n      <td>10</td>\n      <td>48067</td>\n      <td>2918</td>\n      <td>4</td>\n      <td>978302124</td>\n      <td>Ferris Bueller's Day Off (1986)</td>\n      <td>Comedy</td>\n    </tr>\n    <tr>\n      <th>15859</th>\n      <td>1</td>\n      <td>F</td>\n      <td>1</td>\n      <td>10</td>\n      <td>48067</td>\n      <td>1035</td>\n      <td>5</td>\n      <td>978301753</td>\n      <td>Sound of Music, The (1965)</td>\n      <td>Musical</td>\n    </tr>\n    <tr>\n      <th>16741</th>\n      <td>1</td>\n      <td>F</td>\n      <td>1</td>\n      <td>10</td>\n      <td>48067</td>\n      <td>2791</td>\n      <td>4</td>\n      <td>978302188</td>\n      <td>Airplane! (1980)</td>\n      <td>Comedy</td>\n    </tr>\n    <tr>\n      <th>18472</th>\n      <td>1</td>\n      <td>F</td>\n      <td>1</td>\n      <td>10</td>\n      <td>48067</td>\n      <td>2687</td>\n      <td>3</td>\n      <td>978824268</td>\n      <td>Tarzan (1999)</td>\n      <td>Animation|Children's</td>\n    </tr>\n    <tr>\n      <th>18914</th>\n      <td>1</td>\n      <td>F</td>\n      <td>1</td>\n      <td>10</td>\n      <td>48067</td>\n      <td>2018</td>\n      <td>4</td>\n      <td>978301777</td>\n      <td>Bambi (1942)</td>\n      <td>Animation|Children's</td>\n    </tr>\n    <tr>\n      <th>19503</th>\n      <td>1</td>\n      <td>F</td>\n      <td>1</td>\n      <td>10</td>\n      <td>48067</td>\n      <td>3105</td>\n      <td>5</td>\n      <td>978301713</td>\n      <td>Awakenings (1990)</td>\n      <td>Drama</td>\n    </tr>\n    <tr>\n      <th>20183</th>\n      <td>1</td>\n      <td>F</td>\n      <td>1</td>\n      <td>10</td>\n      <td>48067</td>\n      <td>2797</td>\n      <td>4</td>\n      <td>978302039</td>\n      <td>Big (1988)</td>\n      <td>Comedy|Fantasy</td>\n    </tr>\n    <tr>\n      <th>21674</th>\n      <td>1</td>\n      <td>F</td>\n      <td>1</td>\n      <td>10</td>\n      <td>48067</td>\n      <td>2321</td>\n      <td>3</td>\n      <td>978302205</td>\n      <td>Pleasantville (1998)</td>\n      <td>Comedy</td>\n    </tr>\n    <tr>\n      <th>22832</th>\n      <td>1</td>\n      <td>F</td>\n      <td>1</td>\n      <td>10</td>\n      <td>48067</td>\n      <td>720</td>\n      <td>3</td>\n      <td>978300760</td>\n      <td>Wallace &amp; Gromit: The Best of Aardman Animatio...</td>\n      <td>Animation</td>\n    </tr>\n    <tr>\n      <th>23270</th>\n      <td>1</td>\n      <td>F</td>\n      <td>1</td>\n      <td>10</td>\n      <td>48067</td>\n      <td>1270</td>\n      <td>5</td>\n      <td>978300055</td>\n      <td>Back to the Future (1985)</td>\n      <td>Comedy|Sci-Fi</td>\n    </tr>\n    <tr>\n      <th>25853</th>\n      <td>1</td>\n      <td>F</td>\n      <td>1</td>\n      <td>10</td>\n      <td>48067</td>\n      <td>527</td>\n      <td>5</td>\n      <td>978824195</td>\n      <td>Schindler's List (1993)</td>\n      <td>Drama|War</td>\n    </tr>\n    <tr>\n      <th>28157</th>\n      <td>1</td>\n      <td>F</td>\n      <td>1</td>\n      <td>10</td>\n      <td>48067</td>\n      <td>2340</td>\n      <td>3</td>\n      <td>978300103</td>\n      <td>Meet Joe Black (1998)</td>\n      <td>Romance</td>\n    </tr>\n    <tr>\n      <th>28501</th>\n      <td>1</td>\n      <td>F</td>\n      <td>1</td>\n      <td>10</td>\n      <td>48067</td>\n      <td>48</td>\n      <td>5</td>\n      <td>978824351</td>\n      <td>Pocahontas (1995)</td>\n      <td>Animation|Children's|Musical|Romance</td>\n    </tr>\n    <tr>\n      <th>28883</th>\n      <td>1</td>\n      <td>F</td>\n      <td>1</td>\n      <td>10</td>\n      <td>48067</td>\n      <td>1097</td>\n      <td>4</td>\n      <td>978301953</td>\n      <td>E.T. the Extra-Terrestrial (1982)</td>\n      <td>Children's|Drama|Fantasy|Sci-Fi</td>\n    </tr>\n    <tr>\n      <th>31152</th>\n      <td>1</td>\n      <td>F</td>\n      <td>1</td>\n      <td>10</td>\n      <td>48067</td>\n      <td>1721</td>\n      <td>4</td>\n      <td>978300055</td>\n      <td>Titanic (1997)</td>\n      <td>Drama|Romance</td>\n    </tr>\n    <tr>\n      <th>32698</th>\n      <td>1</td>\n      <td>F</td>\n      <td>1</td>\n      <td>10</td>\n      <td>48067</td>\n      <td>1545</td>\n      <td>4</td>\n      <td>978824139</td>\n      <td>Ponette (1996)</td>\n      <td>Drama</td>\n    </tr>\n    <tr>\n      <th>32771</th>\n      <td>1</td>\n      <td>F</td>\n      <td>1</td>\n      <td>10</td>\n      <td>48067</td>\n      <td>745</td>\n      <td>3</td>\n      <td>978824268</td>\n      <td>Close Shave, A (1995)</td>\n      <td>Animation|Comedy|Thriller</td>\n    </tr>\n    <tr>\n      <th>33428</th>\n      <td>1</td>\n      <td>F</td>\n      <td>1</td>\n      <td>10</td>\n      <td>48067</td>\n      <td>2294</td>\n      <td>4</td>\n      <td>978824291</td>\n      <td>Antz (1998)</td>\n      <td>Animation|Children's</td>\n    </tr>\n    <tr>\n      <th>34073</th>\n      <td>1</td>\n      <td>F</td>\n      <td>1</td>\n      <td>10</td>\n      <td>48067</td>\n      <td>3186</td>\n      <td>4</td>\n      <td>978300019</td>\n      <td>Girl, Interrupted (1999)</td>\n      <td>Drama</td>\n    </tr>\n    <tr>\n      <th>34504</th>\n      <td>1</td>\n      <td>F</td>\n      <td>1</td>\n      <td>10</td>\n      <td>48067</td>\n      <td>1566</td>\n      <td>4</td>\n      <td>978824330</td>\n      <td>Hercules (1997)</td>\n      <td>Adventure|Animation|Children's|Comedy|Musical</td>\n    </tr>\n    <tr>\n      <th>34973</th>\n      <td>1</td>\n      <td>F</td>\n      <td>1</td>\n      <td>10</td>\n      <td>48067</td>\n      <td>588</td>\n      <td>4</td>\n      <td>978824268</td>\n      <td>Aladdin (1992)</td>\n      <td>Animation|Children's|Comedy|Musical</td>\n    </tr>\n    <tr>\n      <th>36324</th>\n      <td>1</td>\n      <td>F</td>\n      <td>1</td>\n      <td>10</td>\n      <td>48067</td>\n      <td>1907</td>\n      <td>4</td>\n      <td>978824330</td>\n      <td>Mulan (1998)</td>\n      <td>Animation|Children's</td>\n    </tr>\n    <tr>\n      <th>36814</th>\n      <td>1</td>\n      <td>F</td>\n      <td>1</td>\n      <td>10</td>\n      <td>48067</td>\n      <td>783</td>\n      <td>4</td>\n      <td>978824291</td>\n      <td>Hunchback of Notre Dame, The (1996)</td>\n      <td>Animation|Children's|Musical</td>\n    </tr>\n    <tr>\n      <th>37204</th>\n      <td>1</td>\n      <td>F</td>\n      <td>1</td>\n      <td>10</td>\n      <td>48067</td>\n      <td>1836</td>\n      <td>5</td>\n      <td>978300172</td>\n      <td>Last Days of Disco, The (1998)</td>\n      <td>Drama</td>\n    </tr>\n    <tr>\n      <th>37339</th>\n      <td>1</td>\n      <td>F</td>\n      <td>1</td>\n      <td>10</td>\n      <td>48067</td>\n      <td>1022</td>\n      <td>5</td>\n      <td>978300055</td>\n      <td>Cinderella (1950)</td>\n      <td>Animation|Children's|Musical</td>\n    </tr>\n    <tr>\n      <th>37916</th>\n      <td>1</td>\n      <td>F</td>\n      <td>1</td>\n      <td>10</td>\n      <td>48067</td>\n      <td>2762</td>\n      <td>4</td>\n      <td>978302091</td>\n      <td>Sixth Sense, The (1999)</td>\n      <td>Thriller</td>\n    </tr>\n    <tr>\n      <th>40375</th>\n      <td>1</td>\n      <td>F</td>\n      <td>1</td>\n      <td>10</td>\n      <td>48067</td>\n      <td>150</td>\n      <td>5</td>\n      <td>978301777</td>\n      <td>Apollo 13 (1995)</td>\n      <td>Drama</td>\n    </tr>\n    <tr>\n      <th>41626</th>\n      <td>1</td>\n      <td>F</td>\n      <td>1</td>\n      <td>10</td>\n      <td>48067</td>\n      <td>1</td>\n      <td>5</td>\n      <td>978824268</td>\n      <td>Toy Story (1995)</td>\n      <td>Animation|Children's|Comedy</td>\n    </tr>\n    <tr>\n      <th>43703</th>\n      <td>1</td>\n      <td>F</td>\n      <td>1</td>\n      <td>10</td>\n      <td>48067</td>\n      <td>1961</td>\n      <td>5</td>\n      <td>978301590</td>\n      <td>Rain Man (1988)</td>\n      <td>Drama</td>\n    </tr>\n    <tr>\n      <th>45033</th>\n      <td>1</td>\n      <td>F</td>\n      <td>1</td>\n      <td>10</td>\n      <td>48067</td>\n      <td>1962</td>\n      <td>4</td>\n      <td>978301753</td>\n      <td>Driving Miss Daisy (1989)</td>\n      <td>Drama</td>\n    </tr>\n    <tr>\n      <th>45685</th>\n      <td>1</td>\n      <td>F</td>\n      <td>1</td>\n      <td>10</td>\n      <td>48067</td>\n      <td>2692</td>\n      <td>4</td>\n      <td>978301570</td>\n      <td>Run Lola Run (Lola rennt) (1998)</td>\n      <td>Action|Crime|Romance</td>\n    </tr>\n    <tr>\n      <th>46757</th>\n      <td>1</td>\n      <td>F</td>\n      <td>1</td>\n      <td>10</td>\n      <td>48067</td>\n      <td>260</td>\n      <td>4</td>\n      <td>978300760</td>\n      <td>Star Wars: Episode IV - A New Hope (1977)</td>\n      <td>Action|Adventure|Fantasy|Sci-Fi</td>\n    </tr>\n    <tr>\n      <th>49748</th>\n      <td>1</td>\n      <td>F</td>\n      <td>1</td>\n      <td>10</td>\n      <td>48067</td>\n      <td>1028</td>\n      <td>5</td>\n      <td>978301777</td>\n      <td>Mary Poppins (1964)</td>\n      <td>Children's|Comedy|Musical</td>\n    </tr>\n    <tr>\n      <th>50759</th>\n      <td>1</td>\n      <td>F</td>\n      <td>1</td>\n      <td>10</td>\n      <td>48067</td>\n      <td>1029</td>\n      <td>5</td>\n      <td>978302205</td>\n      <td>Dumbo (1941)</td>\n      <td>Animation|Children's|Musical</td>\n    </tr>\n    <tr>\n      <th>51327</th>\n      <td>1</td>\n      <td>F</td>\n      <td>1</td>\n      <td>10</td>\n      <td>48067</td>\n      <td>1207</td>\n      <td>4</td>\n      <td>978300719</td>\n      <td>To Kill a Mockingbird (1962)</td>\n      <td>Drama</td>\n    </tr>\n    <tr>\n      <th>52255</th>\n      <td>1</td>\n      <td>F</td>\n      <td>1</td>\n      <td>10</td>\n      <td>48067</td>\n      <td>2028</td>\n      <td>5</td>\n      <td>978301619</td>\n      <td>Saving Private Ryan (1998)</td>\n      <td>Action|Drama|War</td>\n    </tr>\n    <tr>\n      <th>54908</th>\n      <td>1</td>\n      <td>F</td>\n      <td>1</td>\n      <td>10</td>\n      <td>48067</td>\n      <td>531</td>\n      <td>4</td>\n      <td>978302149</td>\n      <td>Secret Garden, The (1993)</td>\n      <td>Children's|Drama</td>\n    </tr>\n    <tr>\n      <th>55246</th>\n      <td>1</td>\n      <td>F</td>\n      <td>1</td>\n      <td>10</td>\n      <td>48067</td>\n      <td>3114</td>\n      <td>4</td>\n      <td>978302174</td>\n      <td>Toy Story 2 (1999)</td>\n      <td>Animation|Children's|Comedy</td>\n    </tr>\n    <tr>\n      <th>56831</th>\n      <td>1</td>\n      <td>F</td>\n      <td>1</td>\n      <td>10</td>\n      <td>48067</td>\n      <td>608</td>\n      <td>4</td>\n      <td>978301398</td>\n      <td>Fargo (1996)</td>\n      <td>Crime|Drama|Thriller</td>\n    </tr>\n    <tr>\n      <th>59344</th>\n      <td>1</td>\n      <td>F</td>\n      <td>1</td>\n      <td>10</td>\n      <td>48067</td>\n      <td>1246</td>\n      <td>4</td>\n      <td>978302091</td>\n      <td>Dead Poets Society (1989)</td>\n      <td>Drama</td>\n    </tr>\n  </tbody>\n</table>\n</div>"
     },
     "execution_count": 33,
     "metadata": {},
     "output_type": "execute_result"
    }
   ],
   "source": [
    "data[data.user_id == 1]"
   ],
   "metadata": {
    "collapsed": false,
    "pycharm": {
     "name": "#%%\n"
    }
   }
  },
  {
   "cell_type": "code",
   "execution_count": 36,
   "outputs": [
    {
     "data": {
      "text/plain": "gender                                F         M\ntitle                                            \n$1,000,000 Duck (1971)         3.375000  2.761905\n'Night Mother (1986)           3.388889  3.352941\n'Til There Was You (1997)      2.675676  2.733333\n'burbs, The (1989)             2.793478  2.962085\n...And Justice for All (1979)  3.828571  3.689024",
      "text/html": "<div>\n<style scoped>\n    .dataframe tbody tr th:only-of-type {\n        vertical-align: middle;\n    }\n\n    .dataframe tbody tr th {\n        vertical-align: top;\n    }\n\n    .dataframe thead th {\n        text-align: right;\n    }\n</style>\n<table border=\"1\" class=\"dataframe\">\n  <thead>\n    <tr style=\"text-align: right;\">\n      <th>gender</th>\n      <th>F</th>\n      <th>M</th>\n    </tr>\n    <tr>\n      <th>title</th>\n      <th></th>\n      <th></th>\n    </tr>\n  </thead>\n  <tbody>\n    <tr>\n      <th>$1,000,000 Duck (1971)</th>\n      <td>3.375000</td>\n      <td>2.761905</td>\n    </tr>\n    <tr>\n      <th>'Night Mother (1986)</th>\n      <td>3.388889</td>\n      <td>3.352941</td>\n    </tr>\n    <tr>\n      <th>'Til There Was You (1997)</th>\n      <td>2.675676</td>\n      <td>2.733333</td>\n    </tr>\n    <tr>\n      <th>'burbs, The (1989)</th>\n      <td>2.793478</td>\n      <td>2.962085</td>\n    </tr>\n    <tr>\n      <th>...And Justice for All (1979)</th>\n      <td>3.828571</td>\n      <td>3.689024</td>\n    </tr>\n  </tbody>\n</table>\n</div>"
     },
     "execution_count": 36,
     "metadata": {},
     "output_type": "execute_result"
    }
   ],
   "source": [
    "ratings_by_gender = data.pivot_table(values='rating',index='title',columns='gender',aggfunc='mean')\n",
    "ratings_by_gender.head()"
   ],
   "metadata": {
    "collapsed": false,
    "pycharm": {
     "name": "#%%\n"
    }
   }
  },
  {
   "cell_type": "code",
   "execution_count": 38,
   "outputs": [
    {
     "data": {
      "text/plain": "gender                                F         M      diff\ntitle                                                      \n$1,000,000 Duck (1971)         3.375000  2.761905  0.613095\n'Night Mother (1986)           3.388889  3.352941  0.035948\n'Til There Was You (1997)      2.675676  2.733333 -0.057658\n'burbs, The (1989)             2.793478  2.962085 -0.168607\n...And Justice for All (1979)  3.828571  3.689024  0.139547",
      "text/html": "<div>\n<style scoped>\n    .dataframe tbody tr th:only-of-type {\n        vertical-align: middle;\n    }\n\n    .dataframe tbody tr th {\n        vertical-align: top;\n    }\n\n    .dataframe thead th {\n        text-align: right;\n    }\n</style>\n<table border=\"1\" class=\"dataframe\">\n  <thead>\n    <tr style=\"text-align: right;\">\n      <th>gender</th>\n      <th>F</th>\n      <th>M</th>\n      <th>diff</th>\n    </tr>\n    <tr>\n      <th>title</th>\n      <th></th>\n      <th></th>\n      <th></th>\n    </tr>\n  </thead>\n  <tbody>\n    <tr>\n      <th>$1,000,000 Duck (1971)</th>\n      <td>3.375000</td>\n      <td>2.761905</td>\n      <td>0.613095</td>\n    </tr>\n    <tr>\n      <th>'Night Mother (1986)</th>\n      <td>3.388889</td>\n      <td>3.352941</td>\n      <td>0.035948</td>\n    </tr>\n    <tr>\n      <th>'Til There Was You (1997)</th>\n      <td>2.675676</td>\n      <td>2.733333</td>\n      <td>-0.057658</td>\n    </tr>\n    <tr>\n      <th>'burbs, The (1989)</th>\n      <td>2.793478</td>\n      <td>2.962085</td>\n      <td>-0.168607</td>\n    </tr>\n    <tr>\n      <th>...And Justice for All (1979)</th>\n      <td>3.828571</td>\n      <td>3.689024</td>\n      <td>0.139547</td>\n    </tr>\n  </tbody>\n</table>\n</div>"
     },
     "execution_count": 38,
     "metadata": {},
     "output_type": "execute_result"
    }
   ],
   "source": [
    "ratings_by_gender['diff'] = ratings_by_gender.F - ratings_by_gender.M\n",
    "ratings_by_gender.head()"
   ],
   "metadata": {
    "collapsed": false,
    "pycharm": {
     "name": "#%%\n"
    }
   }
  },
  {
   "cell_type": "code",
   "execution_count": 39,
   "outputs": [
    {
     "data": {
      "text/plain": "gender                                                     F         M  \\\ntitle                                                                    \nJames Dean Story, The (1957)                        4.000000  1.000000   \nSpiders, The (Die Spinnen, 1. Teil: Der Goldene...  4.000000  1.000000   \nCountry Life (1994)                                 5.000000  2.000000   \nBabyfever (1994)                                    3.666667  1.000000   \nWoman of Paris, A (1923)                            5.000000  2.428571   \n\ngender                                                  diff  \ntitle                                                         \nJames Dean Story, The (1957)                        3.000000  \nSpiders, The (Die Spinnen, 1. Teil: Der Goldene...  3.000000  \nCountry Life (1994)                                 3.000000  \nBabyfever (1994)                                    2.666667  \nWoman of Paris, A (1923)                            2.571429  ",
      "text/html": "<div>\n<style scoped>\n    .dataframe tbody tr th:only-of-type {\n        vertical-align: middle;\n    }\n\n    .dataframe tbody tr th {\n        vertical-align: top;\n    }\n\n    .dataframe thead th {\n        text-align: right;\n    }\n</style>\n<table border=\"1\" class=\"dataframe\">\n  <thead>\n    <tr style=\"text-align: right;\">\n      <th>gender</th>\n      <th>F</th>\n      <th>M</th>\n      <th>diff</th>\n    </tr>\n    <tr>\n      <th>title</th>\n      <th></th>\n      <th></th>\n      <th></th>\n    </tr>\n  </thead>\n  <tbody>\n    <tr>\n      <th>James Dean Story, The (1957)</th>\n      <td>4.000000</td>\n      <td>1.000000</td>\n      <td>3.000000</td>\n    </tr>\n    <tr>\n      <th>Spiders, The (Die Spinnen, 1. Teil: Der Goldene See) (1919)</th>\n      <td>4.000000</td>\n      <td>1.000000</td>\n      <td>3.000000</td>\n    </tr>\n    <tr>\n      <th>Country Life (1994)</th>\n      <td>5.000000</td>\n      <td>2.000000</td>\n      <td>3.000000</td>\n    </tr>\n    <tr>\n      <th>Babyfever (1994)</th>\n      <td>3.666667</td>\n      <td>1.000000</td>\n      <td>2.666667</td>\n    </tr>\n    <tr>\n      <th>Woman of Paris, A (1923)</th>\n      <td>5.000000</td>\n      <td>2.428571</td>\n      <td>2.571429</td>\n    </tr>\n  </tbody>\n</table>\n</div>"
     },
     "execution_count": 39,
     "metadata": {},
     "output_type": "execute_result"
    }
   ],
   "source": [
    "ratings_by_gender.sort_values(by='diff',ascending=False).head()"
   ],
   "metadata": {
    "collapsed": false,
    "pycharm": {
     "name": "#%%\n"
    }
   }
  },
  {
   "cell_type": "code",
   "execution_count": 87,
   "outputs": [
    {
     "name": "stdout",
     "output_type": "stream",
     "text": [
      "<class 'pandas.core.series.Series'>\n"
     ]
    },
    {
     "data": {
      "text/plain": "title\nAmerican Beauty (1999)                                   3428\nStar Wars: Episode IV - A New Hope (1977)                2991\nStar Wars: Episode V - The Empire Strikes Back (1980)    2990\nStar Wars: Episode VI - Return of the Jedi (1983)        2883\nJurassic Park (1993)                                     2672\ndtype: int64"
     },
     "execution_count": 87,
     "metadata": {},
     "output_type": "execute_result"
    }
   ],
   "source": [
    "ratings_by_title = data.groupby('title').size()\n",
    "print(type(ratings_by_title))\n",
    "ratings_by_title.sort_values(ascending=False).head()"
   ],
   "metadata": {
    "collapsed": false,
    "pycharm": {
     "name": "#%%\n"
    }
   }
  },
  {
   "cell_type": "code",
   "execution_count": 143,
   "outputs": [
    {
     "data": {
      "text/plain": "title\nGate of Heavenly Peace, The (1995)                                     5.000000\nLured (1947)                                                           5.000000\nUlysses (Ulisse) (1954)                                                5.000000\nSmashing Time (1967)                                                   5.000000\nFollow the Bitch (1998)                                                5.000000\nSong of Freedom (1936)                                                 5.000000\nBittersweet Motel (2000)                                               5.000000\nBaby, The (1973)                                                       5.000000\nOne Little Indian (1973)                                               5.000000\nSchlafes Bruder (Brother of Sleep) (1995)                              5.000000\nI Am Cuba (Soy Cuba/Ya Kuba) (1964)                                    4.800000\nLamerica (1994)                                                        4.750000\nApple, The (Sib) (1998)                                                4.666667\nSanjuro (1962)                                                         4.608696\nSeven Samurai (The Magnificent Seven) (Shichinin no samurai) (1954)    4.560510\nShawshank Redemption, The (1994)                                       4.554558\nGodfather, The (1972)                                                  4.524966\nClose Shave, A (1995)                                                  4.520548\nUsual Suspects, The (1995)                                             4.517106\nSchindler's List (1993)                                                4.510417\nName: rating, dtype: float64"
     },
     "execution_count": 143,
     "metadata": {},
     "output_type": "execute_result"
    }
   ],
   "source": [
    "mean_ratings = data.pivot_table(values='rating',index='title',aggfunc='mean')\n",
    "# 版本差异，要转为Series\n",
    "# mean_ratings.head()\n",
    "# mean_ratings.groupby('title').head()\n",
    "# data[data.title == '$1,000,000 Duck (1971)']\n",
    "# mean_ratings = pd.Series(mean_ratings['rating'],index=mean_ratings.index)\n",
    "\n",
    "mean_ratings = mean_ratings.rating\n",
    "mean_ratings.sort_values(ascending=False).head(20)"
   ],
   "metadata": {
    "collapsed": false,
    "pycharm": {
     "name": "#%%\n"
    }
   }
  },
  {
   "cell_type": "code",
   "execution_count": 145,
   "outputs": [
    {
     "data": {
      "text/plain": "title\nAmerican Beauty (1999)                                   3428\nStar Wars: Episode IV - A New Hope (1977)                2991\nStar Wars: Episode V - The Empire Strikes Back (1980)    2990\nStar Wars: Episode VI - Return of the Jedi (1983)        2883\nJurassic Park (1993)                                     2672\nSaving Private Ryan (1998)                               2653\nTerminator 2: Judgment Day (1991)                        2649\nMatrix, The (1999)                                       2590\nBack to the Future (1985)                                2583\nSilence of the Lambs, The (1991)                         2578\ndtype: int64"
     },
     "execution_count": 145,
     "metadata": {},
     "output_type": "execute_result"
    }
   ],
   "source": [
    "top_10_hot = ratings_by_title.sort_values(ascending=False).head(10)\n",
    "top_10_hot"
   ],
   "metadata": {
    "collapsed": false,
    "pycharm": {
     "name": "#%%\n"
    }
   }
  },
  {
   "cell_type": "code",
   "execution_count": 146,
   "outputs": [
    {
     "data": {
      "text/plain": "title\nAmerican Beauty (1999)                                   4.317386\nStar Wars: Episode IV - A New Hope (1977)                4.453694\nStar Wars: Episode V - The Empire Strikes Back (1980)    4.292977\nStar Wars: Episode VI - Return of the Jedi (1983)        4.022893\nJurassic Park (1993)                                     3.763847\nSaving Private Ryan (1998)                               4.337354\nTerminator 2: Judgment Day (1991)                        4.058513\nMatrix, The (1999)                                       4.315830\nBack to the Future (1985)                                3.990321\nSilence of the Lambs, The (1991)                         4.351823\nName: rating, dtype: float64"
     },
     "execution_count": 146,
     "metadata": {},
     "output_type": "execute_result"
    }
   ],
   "source": [
    "mean_ratings[top_10_hot.index]\n"
   ],
   "metadata": {
    "collapsed": false,
    "pycharm": {
     "name": "#%%\n"
    }
   }
  },
  {
   "cell_type": "code",
   "execution_count": 150,
   "outputs": [
    {
     "data": {
      "text/plain": "title\nGate of Heavenly Peace, The (1995)                                        3\nLured (1947)                                                              1\nUlysses (Ulisse) (1954)                                                   1\nSmashing Time (1967)                                                      2\nFollow the Bitch (1998)                                                   1\nSong of Freedom (1936)                                                    1\nBittersweet Motel (2000)                                                  1\nBaby, The (1973)                                                          1\nOne Little Indian (1973)                                                  1\nSchlafes Bruder (Brother of Sleep) (1995)                                 1\nI Am Cuba (Soy Cuba/Ya Kuba) (1964)                                       5\nLamerica (1994)                                                           8\nApple, The (Sib) (1998)                                                   9\nSanjuro (1962)                                                           69\nSeven Samurai (The Magnificent Seven) (Shichinin no samurai) (1954)     628\nShawshank Redemption, The (1994)                                       2227\nGodfather, The (1972)                                                  2223\nClose Shave, A (1995)                                                   657\nUsual Suspects, The (1995)                                             1783\nSchindler's List (1993)                                                2304\ndtype: int64"
     },
     "execution_count": 150,
     "metadata": {},
     "output_type": "execute_result"
    }
   ],
   "source": [
    "top_20_score = mean_ratings.sort_values(ascending=False).head(20)\n",
    "ratings_by_title[top_20_score.index]"
   ],
   "metadata": {
    "collapsed": false,
    "pycharm": {
     "name": "#%%\n"
    }
   }
  },
  {
   "cell_type": "code",
   "execution_count": 154,
   "outputs": [
    {
     "name": "stdout",
     "output_type": "stream",
     "text": [
      "207\n"
     ]
    },
    {
     "data": {
      "text/plain": "title\n2001: A Space Odyssey (1968)    1716\nAbyss, The (1989)               1715\nAfrican Queen, The (1951)       1057\nAir Force One (1997)            1076\nAirplane! (1980)                1731\nAladdin (1992)                  1351\nAlien (1979)                    2024\nAliens (1986)                   1820\nAmadeus (1984)                  1382\nAmerican Beauty (1999)          3428\ndtype: int64"
     },
     "execution_count": 154,
     "metadata": {},
     "output_type": "execute_result"
    }
   ],
   "source": [
    "hot_movies = ratings_by_title[ratings_by_title > 1000]\n",
    "print(len(hot_movies))\n",
    "hot_movies.head(10)"
   ],
   "metadata": {
    "collapsed": false,
    "pycharm": {
     "name": "#%%\n"
    }
   }
  },
  {
   "cell_type": "code",
   "execution_count": 157,
   "outputs": [
    {
     "data": {
      "text/plain": "title\nShawshank Redemption, The (1994)                                               4.554558\nGodfather, The (1972)                                                          4.524966\nUsual Suspects, The (1995)                                                     4.517106\nSchindler's List (1993)                                                        4.510417\nRaiders of the Lost Ark (1981)                                                 4.477725\nRear Window (1954)                                                             4.476190\nStar Wars: Episode IV - A New Hope (1977)                                      4.453694\nDr. Strangelove or: How I Learned to Stop Worrying and Love the Bomb (1963)    4.449890\nCasablanca (1942)                                                              4.412822\nSixth Sense, The (1999)                                                        4.406263\nName: rating, dtype: float64"
     },
     "execution_count": 157,
     "metadata": {},
     "output_type": "execute_result"
    }
   ],
   "source": [
    "hot_movies_rating = mean_ratings[hot_movies.index]\n",
    "top_10_hot_good_movies = hot_movies_rating.sort_values(ascending=False).head(10)\n",
    "top_10_hot_good_movies"
   ],
   "metadata": {
    "collapsed": false,
    "pycharm": {
     "name": "#%%\n"
    }
   }
  },
  {
   "cell_type": "code",
   "execution_count": null,
   "outputs": [],
   "source": [
    "\n"
   ],
   "metadata": {
    "collapsed": false,
    "pycharm": {
     "name": "#%%\n"
    }
   }
  }
 ],
 "metadata": {
  "kernelspec": {
   "display_name": "Python 3",
   "language": "python",
   "name": "python3"
  },
  "language_info": {
   "codemirror_mode": {
    "name": "ipython",
    "version": 2
   },
   "file_extension": ".py",
   "mimetype": "text/x-python",
   "name": "python",
   "nbconvert_exporter": "python",
   "pygments_lexer": "ipython2",
   "version": "2.7.6"
  }
 },
 "nbformat": 4,
 "nbformat_minor": 0
}