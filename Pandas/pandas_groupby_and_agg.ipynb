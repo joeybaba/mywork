{
 "cells": [
  {
   "cell_type": "code",
   "execution_count": 1,
   "metadata": {
    "collapsed": true
   },
   "outputs": [],
   "source": [
    "import pandas as pd\n",
    "import numpy as np"
   ]
  },
  {
   "cell_type": "markdown",
   "source": [
    "## 分组计算\n",
    "\n",
    "分组计算三步曲：拆分 -> 应用 -> 合并\n",
    "* 拆分：根据什么进行分组？\n",
    "* 应用：每个分组进行什么样的计算？\n",
    "* 合并：把每个分组的计算结果合并起来。\n",
    "\n",
    "![groupby](imgs/groupby.png)"
   ],
   "metadata": {
    "collapsed": false,
    "pycharm": {
     "name": "#%% md\n"
    }
   }
  },
  {
   "cell_type": "code",
   "execution_count": 2,
   "outputs": [
    {
     "data": {
      "text/plain": "  key1 key2  data1  data2\n0    a  one      2      7\n1    a  two      9      6\n2    b  one      1      1\n3    b  two      9      5\n4    a  one      6      2",
      "text/html": "<div>\n<style scoped>\n    .dataframe tbody tr th:only-of-type {\n        vertical-align: middle;\n    }\n\n    .dataframe tbody tr th {\n        vertical-align: top;\n    }\n\n    .dataframe thead th {\n        text-align: right;\n    }\n</style>\n<table border=\"1\" class=\"dataframe\">\n  <thead>\n    <tr style=\"text-align: right;\">\n      <th></th>\n      <th>key1</th>\n      <th>key2</th>\n      <th>data1</th>\n      <th>data2</th>\n    </tr>\n  </thead>\n  <tbody>\n    <tr>\n      <th>0</th>\n      <td>a</td>\n      <td>one</td>\n      <td>2</td>\n      <td>7</td>\n    </tr>\n    <tr>\n      <th>1</th>\n      <td>a</td>\n      <td>two</td>\n      <td>9</td>\n      <td>6</td>\n    </tr>\n    <tr>\n      <th>2</th>\n      <td>b</td>\n      <td>one</td>\n      <td>1</td>\n      <td>1</td>\n    </tr>\n    <tr>\n      <th>3</th>\n      <td>b</td>\n      <td>two</td>\n      <td>9</td>\n      <td>5</td>\n    </tr>\n    <tr>\n      <th>4</th>\n      <td>a</td>\n      <td>one</td>\n      <td>6</td>\n      <td>2</td>\n    </tr>\n  </tbody>\n</table>\n</div>"
     },
     "execution_count": 2,
     "metadata": {},
     "output_type": "execute_result"
    }
   ],
   "source": [
    "df = pd.DataFrame({'key1': ['a', 'a', 'b', 'b', 'a'],\n",
    "                  'key2': ['one', 'two', 'one', 'two', 'one'],\n",
    "                  'data1': np.random.randint(1, 10, 5),\n",
    "                  'data2': np.random.randint(1, 10, 5)})\n",
    "df"
   ],
   "metadata": {
    "collapsed": false,
    "pycharm": {
     "name": "#%%\n"
    }
   }
  },
  {
   "cell_type": "markdown",
   "source": [
    "## 对Series进行分组\n",
    "通过索引对齐关联起来"
   ],
   "metadata": {
    "collapsed": false,
    "pycharm": {
     "name": "#%% md\n"
    }
   }
  },
  {
   "cell_type": "code",
   "execution_count": 3,
   "outputs": [
    {
     "data": {
      "text/plain": "key1\na    17\nb    10\nName: data1, dtype: int64"
     },
     "execution_count": 3,
     "metadata": {},
     "output_type": "execute_result"
    }
   ],
   "source": [
    "grouped = df['data1'].groupby(df['key1']).sum()\n",
    "grouped"
   ],
   "metadata": {
    "collapsed": false,
    "pycharm": {
     "name": "#%%\n"
    }
   }
  },
  {
   "cell_type": "code",
   "execution_count": 4,
   "outputs": [
    {
     "data": {
      "text/plain": "key1  key2\na     one     4\n      two     9\nb     one     1\n      two     9\nName: data1, dtype: int64"
     },
     "execution_count": 4,
     "metadata": {},
     "output_type": "execute_result"
    }
   ],
   "source": [
    "df['data1'].groupby([df['key1'],df['key2']]).mean()"
   ],
   "metadata": {
    "collapsed": false,
    "pycharm": {
     "name": "#%%\n"
    }
   }
  },
  {
   "cell_type": "markdown",
   "source": [
    "## 对DataFrame进行分组\n",
    "通过索引对齐关联起来"
   ],
   "metadata": {
    "collapsed": false,
    "pycharm": {
     "name": "#%% md\n"
    }
   }
  },
  {
   "cell_type": "code",
   "execution_count": 5,
   "outputs": [
    {
     "data": {
      "text/plain": "         data1  data2\nkey1                 \na     5.666667    5.0\nb     5.000000    3.0",
      "text/html": "<div>\n<style scoped>\n    .dataframe tbody tr th:only-of-type {\n        vertical-align: middle;\n    }\n\n    .dataframe tbody tr th {\n        vertical-align: top;\n    }\n\n    .dataframe thead th {\n        text-align: right;\n    }\n</style>\n<table border=\"1\" class=\"dataframe\">\n  <thead>\n    <tr style=\"text-align: right;\">\n      <th></th>\n      <th>data1</th>\n      <th>data2</th>\n    </tr>\n    <tr>\n      <th>key1</th>\n      <th></th>\n      <th></th>\n    </tr>\n  </thead>\n  <tbody>\n    <tr>\n      <th>a</th>\n      <td>5.666667</td>\n      <td>5.0</td>\n    </tr>\n    <tr>\n      <th>b</th>\n      <td>5.000000</td>\n      <td>3.0</td>\n    </tr>\n  </tbody>\n</table>\n</div>"
     },
     "execution_count": 5,
     "metadata": {},
     "output_type": "execute_result"
    }
   ],
   "source": [
    "df.groupby(by='key1').mean()\n"
   ],
   "metadata": {
    "collapsed": false,
    "pycharm": {
     "name": "#%%\n"
    }
   }
  },
  {
   "cell_type": "code",
   "execution_count": 6,
   "outputs": [
    {
     "data": {
      "text/plain": "           data1  data2\nkey1 key2              \na    one     4.0    4.5\n     two     9.0    6.0\nb    one     1.0    1.0\n     two     9.0    5.0",
      "text/html": "<div>\n<style scoped>\n    .dataframe tbody tr th:only-of-type {\n        vertical-align: middle;\n    }\n\n    .dataframe tbody tr th {\n        vertical-align: top;\n    }\n\n    .dataframe thead th {\n        text-align: right;\n    }\n</style>\n<table border=\"1\" class=\"dataframe\">\n  <thead>\n    <tr style=\"text-align: right;\">\n      <th></th>\n      <th></th>\n      <th>data1</th>\n      <th>data2</th>\n    </tr>\n    <tr>\n      <th>key1</th>\n      <th>key2</th>\n      <th></th>\n      <th></th>\n    </tr>\n  </thead>\n  <tbody>\n    <tr>\n      <th rowspan=\"2\" valign=\"top\">a</th>\n      <th>one</th>\n      <td>4.0</td>\n      <td>4.5</td>\n    </tr>\n    <tr>\n      <th>two</th>\n      <td>9.0</td>\n      <td>6.0</td>\n    </tr>\n    <tr>\n      <th rowspan=\"2\" valign=\"top\">b</th>\n      <th>one</th>\n      <td>1.0</td>\n      <td>1.0</td>\n    </tr>\n    <tr>\n      <th>two</th>\n      <td>9.0</td>\n      <td>5.0</td>\n    </tr>\n  </tbody>\n</table>\n</div>"
     },
     "execution_count": 6,
     "metadata": {},
     "output_type": "execute_result"
    }
   ],
   "source": [
    "means = df.groupby(by=['key1','key2']).mean()\n",
    "means"
   ],
   "metadata": {
    "collapsed": false,
    "pycharm": {
     "name": "#%%\n"
    }
   }
  },
  {
   "cell_type": "markdown",
   "source": [
    "## 每个分组的元素个数"
   ],
   "metadata": {
    "collapsed": false,
    "pycharm": {
     "name": "#%% md\n"
    }
   }
  },
  {
   "cell_type": "code",
   "execution_count": 7,
   "outputs": [
    {
     "data": {
      "text/plain": "key1  key2\na     one     2\n      two     1\nb     one     1\n      two     1\ndtype: int64"
     },
     "execution_count": 7,
     "metadata": {},
     "output_type": "execute_result"
    }
   ],
   "source": [
    "df.groupby(['key1','key2']).size()"
   ],
   "metadata": {
    "collapsed": false,
    "pycharm": {
     "name": "#%%\n"
    }
   }
  },
  {
   "cell_type": "markdown",
   "source": [
    "## 对分组进行迭代"
   ],
   "metadata": {
    "collapsed": false,
    "pycharm": {
     "name": "#%% md\n"
    }
   }
  },
  {
   "cell_type": "code",
   "execution_count": 8,
   "outputs": [
    {
     "name": "stdout",
     "output_type": "stream",
     "text": [
      "a\n",
      "  key1 key2  data1  data2\n",
      "0    a  one      2      7\n",
      "1    a  two      9      6\n",
      "4    a  one      6      2\n",
      "b\n",
      "  key1 key2  data1  data2\n",
      "2    b  one      1      1\n",
      "3    b  two      9      5\n"
     ]
    }
   ],
   "source": [
    "for name, group in df.groupby('key1'):\n",
    "    print(name)\n",
    "    print(group)"
   ],
   "metadata": {
    "collapsed": false,
    "pycharm": {
     "name": "#%%\n"
    }
   }
  },
  {
   "cell_type": "markdown",
   "source": [
    "## 转换为字典"
   ],
   "metadata": {
    "collapsed": false,
    "pycharm": {
     "name": "#%% md\n"
    }
   }
  },
  {
   "cell_type": "code",
   "execution_count": 9,
   "outputs": [
    {
     "data": {
      "text/plain": "{'a':   key1 key2  data1  data2\n 0    a  one      2      7\n 1    a  two      9      6\n 4    a  one      6      2,\n 'b':   key1 key2  data1  data2\n 2    b  one      1      1\n 3    b  two      9      5}"
     },
     "execution_count": 9,
     "metadata": {},
     "output_type": "execute_result"
    }
   ],
   "source": [
    "d = dict(list(df.groupby('key1')))\n",
    "d"
   ],
   "metadata": {
    "collapsed": false,
    "pycharm": {
     "name": "#%%\n"
    }
   }
  },
  {
   "cell_type": "code",
   "execution_count": 10,
   "outputs": [
    {
     "data": {
      "text/plain": "  key1 key2  data1  data2\n0    a  one      2      7\n1    a  two      9      6\n4    a  one      6      2",
      "text/html": "<div>\n<style scoped>\n    .dataframe tbody tr th:only-of-type {\n        vertical-align: middle;\n    }\n\n    .dataframe tbody tr th {\n        vertical-align: top;\n    }\n\n    .dataframe thead th {\n        text-align: right;\n    }\n</style>\n<table border=\"1\" class=\"dataframe\">\n  <thead>\n    <tr style=\"text-align: right;\">\n      <th></th>\n      <th>key1</th>\n      <th>key2</th>\n      <th>data1</th>\n      <th>data2</th>\n    </tr>\n  </thead>\n  <tbody>\n    <tr>\n      <th>0</th>\n      <td>a</td>\n      <td>one</td>\n      <td>2</td>\n      <td>7</td>\n    </tr>\n    <tr>\n      <th>1</th>\n      <td>a</td>\n      <td>two</td>\n      <td>9</td>\n      <td>6</td>\n    </tr>\n    <tr>\n      <th>4</th>\n      <td>a</td>\n      <td>one</td>\n      <td>6</td>\n      <td>2</td>\n    </tr>\n  </tbody>\n</table>\n</div>"
     },
     "execution_count": 10,
     "metadata": {},
     "output_type": "execute_result"
    }
   ],
   "source": [
    "d['a']"
   ],
   "metadata": {
    "collapsed": false,
    "pycharm": {
     "name": "#%%\n"
    }
   }
  },
  {
   "cell_type": "markdown",
   "source": [
    "## 按列分组"
   ],
   "metadata": {
    "collapsed": false,
    "pycharm": {
     "name": "#%% md\n"
    }
   }
  },
  {
   "cell_type": "code",
   "execution_count": 11,
   "outputs": [
    {
     "data": {
      "text/plain": "key1     object\nkey2     object\ndata1     int64\ndata2     int64\ndtype: object"
     },
     "execution_count": 11,
     "metadata": {},
     "output_type": "execute_result"
    }
   ],
   "source": [
    "df.dtypes"
   ],
   "metadata": {
    "collapsed": false,
    "pycharm": {
     "name": "#%%\n"
    }
   }
  },
  {
   "cell_type": "code",
   "execution_count": 12,
   "outputs": [
    {
     "data": {
      "text/plain": "   int64 object\n0      9   aone\n1     15   atwo\n2      2   bone\n3     14   btwo\n4      8   aone",
      "text/html": "<div>\n<style scoped>\n    .dataframe tbody tr th:only-of-type {\n        vertical-align: middle;\n    }\n\n    .dataframe tbody tr th {\n        vertical-align: top;\n    }\n\n    .dataframe thead th {\n        text-align: right;\n    }\n</style>\n<table border=\"1\" class=\"dataframe\">\n  <thead>\n    <tr style=\"text-align: right;\">\n      <th></th>\n      <th>int64</th>\n      <th>object</th>\n    </tr>\n  </thead>\n  <tbody>\n    <tr>\n      <th>0</th>\n      <td>9</td>\n      <td>aone</td>\n    </tr>\n    <tr>\n      <th>1</th>\n      <td>15</td>\n      <td>atwo</td>\n    </tr>\n    <tr>\n      <th>2</th>\n      <td>2</td>\n      <td>bone</td>\n    </tr>\n    <tr>\n      <th>3</th>\n      <td>14</td>\n      <td>btwo</td>\n    </tr>\n    <tr>\n      <th>4</th>\n      <td>8</td>\n      <td>aone</td>\n    </tr>\n  </tbody>\n</table>\n</div>"
     },
     "execution_count": 12,
     "metadata": {},
     "output_type": "execute_result"
    }
   ],
   "source": [
    "grouped = df.groupby(df.dtypes,axis=1).sum()\n",
    "grouped\n",
    "# list(grouped)"
   ],
   "metadata": {
    "collapsed": false,
    "pycharm": {
     "name": "#%%\n"
    }
   }
  },
  {
   "cell_type": "markdown",
   "source": [
    "# 通过字典进行分组"
   ],
   "metadata": {
    "collapsed": false,
    "pycharm": {
     "name": "#%% md\n"
    }
   }
  },
  {
   "cell_type": "code",
   "execution_count": 13,
   "outputs": [
    {
     "data": {
      "text/plain": "       a  b  c  d  e\nAlice  1  6  4  6  3\nBob    8  6  4  1  4\nCandy  1  3  3  1  7\nDark   8  2  5  8  4\nEmily  3  1  7  4  4",
      "text/html": "<div>\n<style scoped>\n    .dataframe tbody tr th:only-of-type {\n        vertical-align: middle;\n    }\n\n    .dataframe tbody tr th {\n        vertical-align: top;\n    }\n\n    .dataframe thead th {\n        text-align: right;\n    }\n</style>\n<table border=\"1\" class=\"dataframe\">\n  <thead>\n    <tr style=\"text-align: right;\">\n      <th></th>\n      <th>a</th>\n      <th>b</th>\n      <th>c</th>\n      <th>d</th>\n      <th>e</th>\n    </tr>\n  </thead>\n  <tbody>\n    <tr>\n      <th>Alice</th>\n      <td>1</td>\n      <td>6</td>\n      <td>4</td>\n      <td>6</td>\n      <td>3</td>\n    </tr>\n    <tr>\n      <th>Bob</th>\n      <td>8</td>\n      <td>6</td>\n      <td>4</td>\n      <td>1</td>\n      <td>4</td>\n    </tr>\n    <tr>\n      <th>Candy</th>\n      <td>1</td>\n      <td>3</td>\n      <td>3</td>\n      <td>1</td>\n      <td>7</td>\n    </tr>\n    <tr>\n      <th>Dark</th>\n      <td>8</td>\n      <td>2</td>\n      <td>5</td>\n      <td>8</td>\n      <td>4</td>\n    </tr>\n    <tr>\n      <th>Emily</th>\n      <td>3</td>\n      <td>1</td>\n      <td>7</td>\n      <td>4</td>\n      <td>4</td>\n    </tr>\n  </tbody>\n</table>\n</div>"
     },
     "execution_count": 13,
     "metadata": {},
     "output_type": "execute_result"
    }
   ],
   "source": [
    "df = pd.DataFrame(np.random.randint(1, 10, (5, 5)),\n",
    "                  columns=['a', 'b', 'c', 'd', 'e'],\n",
    "                  index=['Alice', 'Bob', 'Candy', 'Dark', 'Emily'])\n",
    "df\n",
    "\n"
   ],
   "metadata": {
    "collapsed": false,
    "pycharm": {
     "name": "#%%\n"
    }
   }
  },
  {
   "cell_type": "code",
   "execution_count": 14,
   "outputs": [
    {
     "data": {
      "text/plain": "       a    b    c  d  e\nAlice  1  6.0  4.0  6  3\nBob    8  NaN  NaN  1  4\nCandy  1  3.0  3.0  1  7\nDark   8  2.0  5.0  8  4\nEmily  3  1.0  7.0  4  4",
      "text/html": "<div>\n<style scoped>\n    .dataframe tbody tr th:only-of-type {\n        vertical-align: middle;\n    }\n\n    .dataframe tbody tr th {\n        vertical-align: top;\n    }\n\n    .dataframe thead th {\n        text-align: right;\n    }\n</style>\n<table border=\"1\" class=\"dataframe\">\n  <thead>\n    <tr style=\"text-align: right;\">\n      <th></th>\n      <th>a</th>\n      <th>b</th>\n      <th>c</th>\n      <th>d</th>\n      <th>e</th>\n    </tr>\n  </thead>\n  <tbody>\n    <tr>\n      <th>Alice</th>\n      <td>1</td>\n      <td>6.0</td>\n      <td>4.0</td>\n      <td>6</td>\n      <td>3</td>\n    </tr>\n    <tr>\n      <th>Bob</th>\n      <td>8</td>\n      <td>NaN</td>\n      <td>NaN</td>\n      <td>1</td>\n      <td>4</td>\n    </tr>\n    <tr>\n      <th>Candy</th>\n      <td>1</td>\n      <td>3.0</td>\n      <td>3.0</td>\n      <td>1</td>\n      <td>7</td>\n    </tr>\n    <tr>\n      <th>Dark</th>\n      <td>8</td>\n      <td>2.0</td>\n      <td>5.0</td>\n      <td>8</td>\n      <td>4</td>\n    </tr>\n    <tr>\n      <th>Emily</th>\n      <td>3</td>\n      <td>1.0</td>\n      <td>7.0</td>\n      <td>4</td>\n      <td>4</td>\n    </tr>\n  </tbody>\n</table>\n</div>"
     },
     "execution_count": 14,
     "metadata": {},
     "output_type": "execute_result"
    }
   ],
   "source": [
    "df.iloc[1,1:3] = np.NaN\n",
    "df"
   ],
   "metadata": {
    "collapsed": false,
    "pycharm": {
     "name": "#%%\n"
    }
   }
  },
  {
   "cell_type": "code",
   "execution_count": 15,
   "outputs": [],
   "source": [
    "mapping = {'a':'red','b':'red','c': 'blue', 'd': 'orange', 'e': 'blue'}\n",
    "grouped = df.groupby(mapping,axis=1)"
   ],
   "metadata": {
    "collapsed": false,
    "pycharm": {
     "name": "#%%\n"
    }
   }
  },
  {
   "cell_type": "code",
   "execution_count": 16,
   "outputs": [
    {
     "data": {
      "text/plain": "       blue  orange   red\nAlice   7.0     6.0   7.0\nBob     4.0     1.0   8.0\nCandy  10.0     1.0   4.0\nDark    9.0     8.0  10.0\nEmily  11.0     4.0   4.0",
      "text/html": "<div>\n<style scoped>\n    .dataframe tbody tr th:only-of-type {\n        vertical-align: middle;\n    }\n\n    .dataframe tbody tr th {\n        vertical-align: top;\n    }\n\n    .dataframe thead th {\n        text-align: right;\n    }\n</style>\n<table border=\"1\" class=\"dataframe\">\n  <thead>\n    <tr style=\"text-align: right;\">\n      <th></th>\n      <th>blue</th>\n      <th>orange</th>\n      <th>red</th>\n    </tr>\n  </thead>\n  <tbody>\n    <tr>\n      <th>Alice</th>\n      <td>7.0</td>\n      <td>6.0</td>\n      <td>7.0</td>\n    </tr>\n    <tr>\n      <th>Bob</th>\n      <td>4.0</td>\n      <td>1.0</td>\n      <td>8.0</td>\n    </tr>\n    <tr>\n      <th>Candy</th>\n      <td>10.0</td>\n      <td>1.0</td>\n      <td>4.0</td>\n    </tr>\n    <tr>\n      <th>Dark</th>\n      <td>9.0</td>\n      <td>8.0</td>\n      <td>10.0</td>\n    </tr>\n    <tr>\n      <th>Emily</th>\n      <td>11.0</td>\n      <td>4.0</td>\n      <td>4.0</td>\n    </tr>\n  </tbody>\n</table>\n</div>"
     },
     "execution_count": 16,
     "metadata": {},
     "output_type": "execute_result"
    }
   ],
   "source": [
    "grouped.sum()"
   ],
   "metadata": {
    "collapsed": false,
    "pycharm": {
     "name": "#%%\n"
    }
   }
  },
  {
   "cell_type": "code",
   "execution_count": 17,
   "outputs": [
    {
     "data": {
      "text/plain": "       blue  orange  red\nAlice     2       1    2\nBob       1       1    1\nCandy     2       1    2\nDark      2       1    2\nEmily     2       1    2",
      "text/html": "<div>\n<style scoped>\n    .dataframe tbody tr th:only-of-type {\n        vertical-align: middle;\n    }\n\n    .dataframe tbody tr th {\n        vertical-align: top;\n    }\n\n    .dataframe thead th {\n        text-align: right;\n    }\n</style>\n<table border=\"1\" class=\"dataframe\">\n  <thead>\n    <tr style=\"text-align: right;\">\n      <th></th>\n      <th>blue</th>\n      <th>orange</th>\n      <th>red</th>\n    </tr>\n  </thead>\n  <tbody>\n    <tr>\n      <th>Alice</th>\n      <td>2</td>\n      <td>1</td>\n      <td>2</td>\n    </tr>\n    <tr>\n      <th>Bob</th>\n      <td>1</td>\n      <td>1</td>\n      <td>1</td>\n    </tr>\n    <tr>\n      <th>Candy</th>\n      <td>2</td>\n      <td>1</td>\n      <td>2</td>\n    </tr>\n    <tr>\n      <th>Dark</th>\n      <td>2</td>\n      <td>1</td>\n      <td>2</td>\n    </tr>\n    <tr>\n      <th>Emily</th>\n      <td>2</td>\n      <td>1</td>\n      <td>2</td>\n    </tr>\n  </tbody>\n</table>\n</div>"
     },
     "execution_count": 17,
     "metadata": {},
     "output_type": "execute_result"
    }
   ],
   "source": [
    "grouped.count()"
   ],
   "metadata": {
    "collapsed": false,
    "pycharm": {
     "name": "#%%\n"
    }
   }
  },
  {
   "cell_type": "code",
   "execution_count": 18,
   "outputs": [
    {
     "data": {
      "text/plain": "blue      2\norange    1\nred       2\ndtype: int64"
     },
     "execution_count": 18,
     "metadata": {},
     "output_type": "execute_result"
    }
   ],
   "source": [
    "grouped.size()"
   ],
   "metadata": {
    "collapsed": false,
    "pycharm": {
     "name": "#%%\n"
    }
   }
  },
  {
   "cell_type": "markdown",
   "source": [
    "## 通过函数来分组\n",
    "当函数作为分组依据时，数据表里的每个索引（可以是行索引，也可以是列索引）都会调用一次函数，函数的返回值作为分组的索引，即相同的返回值分在同一组。"
   ],
   "metadata": {
    "collapsed": false,
    "pycharm": {
     "name": "#%% md\n"
    }
   }
  },
  {
   "cell_type": "code",
   "execution_count": 19,
   "outputs": [
    {
     "name": "stdout",
     "output_type": "stream",
     "text": [
      "Alice\n",
      "Bob\n",
      "Candy\n",
      "Dark\n",
      "Emily\n"
     ]
    },
    {
     "data": {
      "text/plain": "<pandas.core.groupby.generic.DataFrameGroupBy object at 0x11834e810>"
     },
     "execution_count": 19,
     "metadata": {},
     "output_type": "execute_result"
    }
   ],
   "source": [
    "# 传入索引值\n",
    "def _dummpy_groupy(idx):\n",
    "    print(idx)\n",
    "    return idx\n",
    "df.groupby(_dummpy_groupy)"
   ],
   "metadata": {
    "collapsed": false,
    "pycharm": {
     "name": "#%%\n"
    }
   }
  },
  {
   "cell_type": "code",
   "execution_count": 20,
   "outputs": [
    {
     "name": "stdout",
     "output_type": "stream",
     "text": [
      "a\n",
      "b\n",
      "c\n",
      "d\n",
      "e\n"
     ]
    },
    {
     "data": {
      "text/plain": "<pandas.core.groupby.generic.DataFrameGroupBy object at 0x118351050>"
     },
     "execution_count": 20,
     "metadata": {},
     "output_type": "execute_result"
    }
   ],
   "source": [
    "df.groupby(_dummpy_groupy,axis=1)"
   ],
   "metadata": {
    "collapsed": false,
    "pycharm": {
     "name": "#%%\n"
    }
   }
  },
  {
   "cell_type": "code",
   "execution_count": 21,
   "outputs": [
    {
     "data": {
      "text/plain": "       a    b    c  d  e\nAlice  1  6.0  4.0  6  3\nBob    8  NaN  NaN  1  4\nCandy  1  3.0  3.0  1  7\nDark   8  2.0  5.0  8  4\nEmily  3  1.0  7.0  4  4",
      "text/html": "<div>\n<style scoped>\n    .dataframe tbody tr th:only-of-type {\n        vertical-align: middle;\n    }\n\n    .dataframe tbody tr th {\n        vertical-align: top;\n    }\n\n    .dataframe thead th {\n        text-align: right;\n    }\n</style>\n<table border=\"1\" class=\"dataframe\">\n  <thead>\n    <tr style=\"text-align: right;\">\n      <th></th>\n      <th>a</th>\n      <th>b</th>\n      <th>c</th>\n      <th>d</th>\n      <th>e</th>\n    </tr>\n  </thead>\n  <tbody>\n    <tr>\n      <th>Alice</th>\n      <td>1</td>\n      <td>6.0</td>\n      <td>4.0</td>\n      <td>6</td>\n      <td>3</td>\n    </tr>\n    <tr>\n      <th>Bob</th>\n      <td>8</td>\n      <td>NaN</td>\n      <td>NaN</td>\n      <td>1</td>\n      <td>4</td>\n    </tr>\n    <tr>\n      <th>Candy</th>\n      <td>1</td>\n      <td>3.0</td>\n      <td>3.0</td>\n      <td>1</td>\n      <td>7</td>\n    </tr>\n    <tr>\n      <th>Dark</th>\n      <td>8</td>\n      <td>2.0</td>\n      <td>5.0</td>\n      <td>8</td>\n      <td>4</td>\n    </tr>\n    <tr>\n      <th>Emily</th>\n      <td>3</td>\n      <td>1.0</td>\n      <td>7.0</td>\n      <td>4</td>\n      <td>4</td>\n    </tr>\n  </tbody>\n</table>\n</div>"
     },
     "execution_count": 21,
     "metadata": {},
     "output_type": "execute_result"
    }
   ],
   "source": [
    "df"
   ],
   "metadata": {
    "collapsed": false,
    "pycharm": {
     "name": "#%%\n"
    }
   }
  },
  {
   "cell_type": "code",
   "execution_count": 22,
   "outputs": [],
   "source": [
    "grouped = df.groupby(len)"
   ],
   "metadata": {
    "collapsed": false,
    "pycharm": {
     "name": "#%%\n"
    }
   }
  },
  {
   "cell_type": "code",
   "execution_count": 23,
   "outputs": [
    {
     "data": {
      "text/plain": "   a     b     c   d   e\n3  8   0.0   0.0   1   4\n4  8   2.0   5.0   8   4\n5  5  10.0  14.0  11  14",
      "text/html": "<div>\n<style scoped>\n    .dataframe tbody tr th:only-of-type {\n        vertical-align: middle;\n    }\n\n    .dataframe tbody tr th {\n        vertical-align: top;\n    }\n\n    .dataframe thead th {\n        text-align: right;\n    }\n</style>\n<table border=\"1\" class=\"dataframe\">\n  <thead>\n    <tr style=\"text-align: right;\">\n      <th></th>\n      <th>a</th>\n      <th>b</th>\n      <th>c</th>\n      <th>d</th>\n      <th>e</th>\n    </tr>\n  </thead>\n  <tbody>\n    <tr>\n      <th>3</th>\n      <td>8</td>\n      <td>0.0</td>\n      <td>0.0</td>\n      <td>1</td>\n      <td>4</td>\n    </tr>\n    <tr>\n      <th>4</th>\n      <td>8</td>\n      <td>2.0</td>\n      <td>5.0</td>\n      <td>8</td>\n      <td>4</td>\n    </tr>\n    <tr>\n      <th>5</th>\n      <td>5</td>\n      <td>10.0</td>\n      <td>14.0</td>\n      <td>11</td>\n      <td>14</td>\n    </tr>\n  </tbody>\n</table>\n</div>"
     },
     "execution_count": 23,
     "metadata": {},
     "output_type": "execute_result"
    }
   ],
   "source": [
    "grouped.sum()"
   ],
   "metadata": {
    "collapsed": false,
    "pycharm": {
     "name": "#%%\n"
    }
   }
  },
  {
   "cell_type": "code",
   "execution_count": 24,
   "outputs": [
    {
     "data": {
      "text/plain": "   a  b  c  d  e\n3  1  0  0  1  1\n4  1  1  1  1  1\n5  3  3  3  3  3",
      "text/html": "<div>\n<style scoped>\n    .dataframe tbody tr th:only-of-type {\n        vertical-align: middle;\n    }\n\n    .dataframe tbody tr th {\n        vertical-align: top;\n    }\n\n    .dataframe thead th {\n        text-align: right;\n    }\n</style>\n<table border=\"1\" class=\"dataframe\">\n  <thead>\n    <tr style=\"text-align: right;\">\n      <th></th>\n      <th>a</th>\n      <th>b</th>\n      <th>c</th>\n      <th>d</th>\n      <th>e</th>\n    </tr>\n  </thead>\n  <tbody>\n    <tr>\n      <th>3</th>\n      <td>1</td>\n      <td>0</td>\n      <td>0</td>\n      <td>1</td>\n      <td>1</td>\n    </tr>\n    <tr>\n      <th>4</th>\n      <td>1</td>\n      <td>1</td>\n      <td>1</td>\n      <td>1</td>\n      <td>1</td>\n    </tr>\n    <tr>\n      <th>5</th>\n      <td>3</td>\n      <td>3</td>\n      <td>3</td>\n      <td>3</td>\n      <td>3</td>\n    </tr>\n  </tbody>\n</table>\n</div>"
     },
     "execution_count": 24,
     "metadata": {},
     "output_type": "execute_result"
    }
   ],
   "source": [
    "grouped.count()"
   ],
   "metadata": {
    "collapsed": false,
    "pycharm": {
     "name": "#%%\n"
    }
   }
  },
  {
   "cell_type": "markdown",
   "source": [
    "## 多级索引数据根据索引级别来分组"
   ],
   "metadata": {
    "collapsed": false,
    "pycharm": {
     "name": "#%% md\n"
    }
   }
  },
  {
   "cell_type": "code",
   "execution_count": 25,
   "outputs": [
    {
     "data": {
      "text/plain": "country China USA China USA China\nindex       A   A     B   C     B\n0           1   5     8   8     6\n1           6   6     7   4     4\n2           5   5     7   5     7\n3           5   8     8   2     5\n4           1   2     4   8     9",
      "text/html": "<div>\n<style scoped>\n    .dataframe tbody tr th:only-of-type {\n        vertical-align: middle;\n    }\n\n    .dataframe tbody tr th {\n        vertical-align: top;\n    }\n\n    .dataframe thead tr th {\n        text-align: left;\n    }\n</style>\n<table border=\"1\" class=\"dataframe\">\n  <thead>\n    <tr>\n      <th>country</th>\n      <th>China</th>\n      <th>USA</th>\n      <th>China</th>\n      <th>USA</th>\n      <th>China</th>\n    </tr>\n    <tr>\n      <th>index</th>\n      <th>A</th>\n      <th>A</th>\n      <th>B</th>\n      <th>C</th>\n      <th>B</th>\n    </tr>\n  </thead>\n  <tbody>\n    <tr>\n      <th>0</th>\n      <td>1</td>\n      <td>5</td>\n      <td>8</td>\n      <td>8</td>\n      <td>6</td>\n    </tr>\n    <tr>\n      <th>1</th>\n      <td>6</td>\n      <td>6</td>\n      <td>7</td>\n      <td>4</td>\n      <td>4</td>\n    </tr>\n    <tr>\n      <th>2</th>\n      <td>5</td>\n      <td>5</td>\n      <td>7</td>\n      <td>5</td>\n      <td>7</td>\n    </tr>\n    <tr>\n      <th>3</th>\n      <td>5</td>\n      <td>8</td>\n      <td>8</td>\n      <td>2</td>\n      <td>5</td>\n    </tr>\n    <tr>\n      <th>4</th>\n      <td>1</td>\n      <td>2</td>\n      <td>4</td>\n      <td>8</td>\n      <td>9</td>\n    </tr>\n  </tbody>\n</table>\n</div>"
     },
     "execution_count": 25,
     "metadata": {},
     "output_type": "execute_result"
    }
   ],
   "source": [
    "columns = pd.MultiIndex.from_arrays([['China', 'USA', 'China', 'USA', 'China'],['A', 'A', 'B', 'C', 'B']],names=['country', 'index'])\n",
    "df = pd.DataFrame(np.random.randint(1,10,(5,5)), columns=columns)\n",
    "df"
   ],
   "metadata": {
    "collapsed": false,
    "pycharm": {
     "name": "#%%\n"
    }
   }
  },
  {
   "cell_type": "code",
   "execution_count": 26,
   "outputs": [
    {
     "data": {
      "text/plain": "country  China  USA\n0            3    2\n1            3    2\n2            3    2\n3            3    2\n4            3    2",
      "text/html": "<div>\n<style scoped>\n    .dataframe tbody tr th:only-of-type {\n        vertical-align: middle;\n    }\n\n    .dataframe tbody tr th {\n        vertical-align: top;\n    }\n\n    .dataframe thead th {\n        text-align: right;\n    }\n</style>\n<table border=\"1\" class=\"dataframe\">\n  <thead>\n    <tr style=\"text-align: right;\">\n      <th>country</th>\n      <th>China</th>\n      <th>USA</th>\n    </tr>\n  </thead>\n  <tbody>\n    <tr>\n      <th>0</th>\n      <td>3</td>\n      <td>2</td>\n    </tr>\n    <tr>\n      <th>1</th>\n      <td>3</td>\n      <td>2</td>\n    </tr>\n    <tr>\n      <th>2</th>\n      <td>3</td>\n      <td>2</td>\n    </tr>\n    <tr>\n      <th>3</th>\n      <td>3</td>\n      <td>2</td>\n    </tr>\n    <tr>\n      <th>4</th>\n      <td>3</td>\n      <td>2</td>\n    </tr>\n  </tbody>\n</table>\n</div>"
     },
     "execution_count": 26,
     "metadata": {},
     "output_type": "execute_result"
    }
   ],
   "source": [
    "df.groupby(level='country',axis=1).count()"
   ],
   "metadata": {
    "collapsed": false,
    "pycharm": {
     "name": "#%%\n"
    }
   }
  },
  {
   "cell_type": "code",
   "execution_count": 27,
   "outputs": [
    {
     "data": {
      "text/plain": "country  China  USA\n0           15   13\n1           17   10\n2           19   10\n3           18   10\n4           14   10",
      "text/html": "<div>\n<style scoped>\n    .dataframe tbody tr th:only-of-type {\n        vertical-align: middle;\n    }\n\n    .dataframe tbody tr th {\n        vertical-align: top;\n    }\n\n    .dataframe thead th {\n        text-align: right;\n    }\n</style>\n<table border=\"1\" class=\"dataframe\">\n  <thead>\n    <tr style=\"text-align: right;\">\n      <th>country</th>\n      <th>China</th>\n      <th>USA</th>\n    </tr>\n  </thead>\n  <tbody>\n    <tr>\n      <th>0</th>\n      <td>15</td>\n      <td>13</td>\n    </tr>\n    <tr>\n      <th>1</th>\n      <td>17</td>\n      <td>10</td>\n    </tr>\n    <tr>\n      <th>2</th>\n      <td>19</td>\n      <td>10</td>\n    </tr>\n    <tr>\n      <th>3</th>\n      <td>18</td>\n      <td>10</td>\n    </tr>\n    <tr>\n      <th>4</th>\n      <td>14</td>\n      <td>10</td>\n    </tr>\n  </tbody>\n</table>\n</div>"
     },
     "execution_count": 27,
     "metadata": {},
     "output_type": "execute_result"
    }
   ],
   "source": [
    "df.groupby(level='country',axis=1).sum()"
   ],
   "metadata": {
    "collapsed": false,
    "pycharm": {
     "name": "#%%\n"
    }
   }
  },
  {
   "cell_type": "code",
   "execution_count": 28,
   "outputs": [
    {
     "data": {
      "text/plain": "index  A  B  C\n0      2  2  1\n1      2  2  1\n2      2  2  1\n3      2  2  1\n4      2  2  1",
      "text/html": "<div>\n<style scoped>\n    .dataframe tbody tr th:only-of-type {\n        vertical-align: middle;\n    }\n\n    .dataframe tbody tr th {\n        vertical-align: top;\n    }\n\n    .dataframe thead th {\n        text-align: right;\n    }\n</style>\n<table border=\"1\" class=\"dataframe\">\n  <thead>\n    <tr style=\"text-align: right;\">\n      <th>index</th>\n      <th>A</th>\n      <th>B</th>\n      <th>C</th>\n    </tr>\n  </thead>\n  <tbody>\n    <tr>\n      <th>0</th>\n      <td>2</td>\n      <td>2</td>\n      <td>1</td>\n    </tr>\n    <tr>\n      <th>1</th>\n      <td>2</td>\n      <td>2</td>\n      <td>1</td>\n    </tr>\n    <tr>\n      <th>2</th>\n      <td>2</td>\n      <td>2</td>\n      <td>1</td>\n    </tr>\n    <tr>\n      <th>3</th>\n      <td>2</td>\n      <td>2</td>\n      <td>1</td>\n    </tr>\n    <tr>\n      <th>4</th>\n      <td>2</td>\n      <td>2</td>\n      <td>1</td>\n    </tr>\n  </tbody>\n</table>\n</div>"
     },
     "execution_count": 28,
     "metadata": {},
     "output_type": "execute_result"
    }
   ],
   "source": [
    "df.groupby(level='index',axis=1).count()"
   ],
   "metadata": {
    "collapsed": false,
    "pycharm": {
     "name": "#%%\n"
    }
   }
  },
  {
   "cell_type": "markdown",
   "source": [
    "## 数据聚合\n",
    "分组运算，先根据一定规则拆分后的数据，然后对数据进行聚合运算，如前面见到的 `mean()`, `sum()` 等就是聚合的例子。聚合时，拆分后的第一个索引指定的数据都会依次传给聚合函数进行运算。最后再把运算结果合并起来，生成最终结果。\n",
    "聚合函数除了内置的 `sum()`, `min()`, `max()`, `mean()` 等等之外，还可以自定义聚合函数。自定义聚合函数时，使用 `agg()` 或 `aggregate()` 函数。"
   ],
   "metadata": {
    "collapsed": false,
    "pycharm": {
     "name": "#%% md\n"
    }
   }
  },
  {
   "cell_type": "markdown",
   "source": [
    "## 内置聚合函数"
   ],
   "metadata": {
    "collapsed": false
   }
  },
  {
   "cell_type": "code",
   "execution_count": 29,
   "outputs": [
    {
     "data": {
      "text/plain": "  key1 key2  data1  data2\n0    a  one      5      6\n1    a  two      9      9\n2    b  one      9      7\n3    b  two      8      1\n4    a  one      3      4",
      "text/html": "<div>\n<style scoped>\n    .dataframe tbody tr th:only-of-type {\n        vertical-align: middle;\n    }\n\n    .dataframe tbody tr th {\n        vertical-align: top;\n    }\n\n    .dataframe thead th {\n        text-align: right;\n    }\n</style>\n<table border=\"1\" class=\"dataframe\">\n  <thead>\n    <tr style=\"text-align: right;\">\n      <th></th>\n      <th>key1</th>\n      <th>key2</th>\n      <th>data1</th>\n      <th>data2</th>\n    </tr>\n  </thead>\n  <tbody>\n    <tr>\n      <th>0</th>\n      <td>a</td>\n      <td>one</td>\n      <td>5</td>\n      <td>6</td>\n    </tr>\n    <tr>\n      <th>1</th>\n      <td>a</td>\n      <td>two</td>\n      <td>9</td>\n      <td>9</td>\n    </tr>\n    <tr>\n      <th>2</th>\n      <td>b</td>\n      <td>one</td>\n      <td>9</td>\n      <td>7</td>\n    </tr>\n    <tr>\n      <th>3</th>\n      <td>b</td>\n      <td>two</td>\n      <td>8</td>\n      <td>1</td>\n    </tr>\n    <tr>\n      <th>4</th>\n      <td>a</td>\n      <td>one</td>\n      <td>3</td>\n      <td>4</td>\n    </tr>\n  </tbody>\n</table>\n</div>"
     },
     "execution_count": 29,
     "metadata": {},
     "output_type": "execute_result"
    }
   ],
   "source": [
    "df = pd.DataFrame({'key1': ['a', 'a', 'b', 'b', 'a'],\n",
    "                  'key2': ['one', 'two', 'one', 'two', 'one'],\n",
    "                  'data1': np.random.randint(1, 10, 5),\n",
    "                  'data2': np.random.randint(1, 10, 5)})\n",
    "df"
   ],
   "metadata": {
    "collapsed": false,
    "pycharm": {
     "name": "#%%\n"
    }
   }
  },
  {
   "cell_type": "code",
   "execution_count": 30,
   "outputs": [
    {
     "data": {
      "text/plain": "key1\na    17\nb    17\nName: data1, dtype: int64"
     },
     "execution_count": 30,
     "metadata": {},
     "output_type": "execute_result"
    }
   ],
   "source": [
    "df['data1'].groupby(df['key1']).sum()"
   ],
   "metadata": {
    "collapsed": false,
    "pycharm": {
     "name": "#%%\n"
    }
   }
  },
  {
   "cell_type": "markdown",
   "source": [
    "### 自定义聚合函数"
   ],
   "metadata": {
    "collapsed": false
   }
  },
  {
   "cell_type": "code",
   "execution_count": 31,
   "outputs": [],
   "source": [
    "def peak_verbose(s):\n",
    "    # print(type(s))\n",
    "    print(s)\n",
    "    # print(s.values)\n",
    "    return s.max() - s.min()\n",
    "\n",
    "def peak(s):\n",
    "    print(type(s))\n",
    "    return s.max() - s.min()"
   ],
   "metadata": {
    "collapsed": false,
    "pycharm": {
     "name": "#%%\n"
    }
   }
  },
  {
   "cell_type": "code",
   "execution_count": 32,
   "outputs": [
    {
     "data": {
      "text/plain": "<pandas.core.groupby.generic.DataFrameGroupBy object at 0x11836d1d0>"
     },
     "execution_count": 32,
     "metadata": {},
     "output_type": "execute_result"
    }
   ],
   "source": [
    "grouped = df.groupby('key1')\n",
    "grouped"
   ],
   "metadata": {
    "collapsed": false,
    "pycharm": {
     "name": "#%%\n"
    }
   }
  },
  {
   "cell_type": "code",
   "execution_count": 33,
   "outputs": [
    {
     "name": "stdout",
     "output_type": "stream",
     "text": [
      "0    one\n",
      "1    two\n",
      "4    one\n",
      "Name: key2, dtype: object\n",
      "0    one\n",
      "1    two\n",
      "4    one\n",
      "Name: a, dtype: object\n",
      "0    5\n",
      "1    9\n",
      "4    3\n",
      "Name: data1, dtype: int64\n",
      "2    9\n",
      "3    8\n",
      "Name: data1, dtype: int64\n",
      "0    6\n",
      "1    9\n",
      "4    4\n",
      "Name: data2, dtype: int64\n",
      "2    7\n",
      "3    1\n",
      "Name: data2, dtype: int64\n"
     ]
    },
    {
     "data": {
      "text/plain": "      data1  data2\nkey1              \na         6      5\nb         1      6",
      "text/html": "<div>\n<style scoped>\n    .dataframe tbody tr th:only-of-type {\n        vertical-align: middle;\n    }\n\n    .dataframe tbody tr th {\n        vertical-align: top;\n    }\n\n    .dataframe thead th {\n        text-align: right;\n    }\n</style>\n<table border=\"1\" class=\"dataframe\">\n  <thead>\n    <tr style=\"text-align: right;\">\n      <th></th>\n      <th>data1</th>\n      <th>data2</th>\n    </tr>\n    <tr>\n      <th>key1</th>\n      <th></th>\n      <th></th>\n    </tr>\n  </thead>\n  <tbody>\n    <tr>\n      <th>a</th>\n      <td>6</td>\n      <td>5</td>\n    </tr>\n    <tr>\n      <th>b</th>\n      <td>1</td>\n      <td>6</td>\n    </tr>\n  </tbody>\n</table>\n</div>"
     },
     "execution_count": 33,
     "metadata": {},
     "output_type": "execute_result"
    }
   ],
   "source": [
    "grouped.agg(peak_verbose)"
   ],
   "metadata": {
    "collapsed": false,
    "pycharm": {
     "name": "#%%\n"
    }
   }
  },
  {
   "cell_type": "code",
   "execution_count": 34,
   "outputs": [
    {
     "name": "stdout",
     "output_type": "stream",
     "text": [
      "<class 'pandas.core.series.Series'>\n",
      "<class 'pandas.core.series.Series'>\n",
      "<class 'pandas.core.series.Series'>\n",
      "<class 'pandas.core.series.Series'>\n",
      "<class 'pandas.core.series.Series'>\n",
      "<class 'pandas.core.series.Series'>\n"
     ]
    },
    {
     "data": {
      "text/plain": "      data1  data2\nkey1              \na         6      5\nb         1      6",
      "text/html": "<div>\n<style scoped>\n    .dataframe tbody tr th:only-of-type {\n        vertical-align: middle;\n    }\n\n    .dataframe tbody tr th {\n        vertical-align: top;\n    }\n\n    .dataframe thead th {\n        text-align: right;\n    }\n</style>\n<table border=\"1\" class=\"dataframe\">\n  <thead>\n    <tr style=\"text-align: right;\">\n      <th></th>\n      <th>data1</th>\n      <th>data2</th>\n    </tr>\n    <tr>\n      <th>key1</th>\n      <th></th>\n      <th></th>\n    </tr>\n  </thead>\n  <tbody>\n    <tr>\n      <th>a</th>\n      <td>6</td>\n      <td>5</td>\n    </tr>\n    <tr>\n      <th>b</th>\n      <td>1</td>\n      <td>6</td>\n    </tr>\n  </tbody>\n</table>\n</div>"
     },
     "execution_count": 34,
     "metadata": {},
     "output_type": "execute_result"
    }
   ],
   "source": [
    "grouped.agg(peak)"
   ],
   "metadata": {
    "collapsed": false,
    "pycharm": {
     "name": "#%%\n"
    }
   }
  },
  {
   "cell_type": "code",
   "execution_count": 35,
   "outputs": [
    {
     "data": {
      "text/plain": "key1       b\nkey2     two\ndata1      9\ndata2      9\ndtype: object"
     },
     "execution_count": 35,
     "metadata": {},
     "output_type": "execute_result"
    }
   ],
   "source": [
    "df.max()"
   ],
   "metadata": {
    "collapsed": false,
    "pycharm": {
     "name": "#%%\n"
    }
   }
  },
  {
   "cell_type": "markdown",
   "source": [
    "## 应用多个聚合函数"
   ],
   "metadata": {
    "collapsed": false,
    "pycharm": {
     "name": "#%% md\n"
    }
   }
  },
  {
   "cell_type": "code",
   "source": [
    "# grouped.agg(['mean','std',peak])\n",
    "grouped['data1','data2'].agg(['mean','std',peak])"
   ],
   "metadata": {
    "collapsed": false,
    "pycharm": {
     "name": "#%%\n"
    }
   },
   "execution_count": 36,
   "outputs": [
    {
     "name": "stdout",
     "output_type": "stream",
     "text": [
      "<class 'pandas.core.series.Series'>\n",
      "<class 'pandas.core.series.Series'>\n",
      "<class 'pandas.core.series.Series'>\n",
      "<class 'pandas.core.series.Series'>\n"
     ]
    },
    {
     "name": "stderr",
     "output_type": "stream",
     "text": [
      "/Library/Frameworks/Python.framework/Versions/3.7/lib/python3.7/site-packages/ipykernel_launcher.py:2: FutureWarning: Indexing with multiple keys (implicitly converted to a tuple of keys) will be deprecated, use a list instead.\n",
      "  \n"
     ]
    },
    {
     "data": {
      "text/plain": "         data1                    data2               \n          mean       std peak      mean       std peak\nkey1                                                  \na     5.666667  3.055050    6  6.333333  2.516611    5\nb     8.500000  0.707107    1  4.000000  4.242641    6",
      "text/html": "<div>\n<style scoped>\n    .dataframe tbody tr th:only-of-type {\n        vertical-align: middle;\n    }\n\n    .dataframe tbody tr th {\n        vertical-align: top;\n    }\n\n    .dataframe thead tr th {\n        text-align: left;\n    }\n\n    .dataframe thead tr:last-of-type th {\n        text-align: right;\n    }\n</style>\n<table border=\"1\" class=\"dataframe\">\n  <thead>\n    <tr>\n      <th></th>\n      <th colspan=\"3\" halign=\"left\">data1</th>\n      <th colspan=\"3\" halign=\"left\">data2</th>\n    </tr>\n    <tr>\n      <th></th>\n      <th>mean</th>\n      <th>std</th>\n      <th>peak</th>\n      <th>mean</th>\n      <th>std</th>\n      <th>peak</th>\n    </tr>\n    <tr>\n      <th>key1</th>\n      <th></th>\n      <th></th>\n      <th></th>\n      <th></th>\n      <th></th>\n      <th></th>\n    </tr>\n  </thead>\n  <tbody>\n    <tr>\n      <th>a</th>\n      <td>5.666667</td>\n      <td>3.055050</td>\n      <td>6</td>\n      <td>6.333333</td>\n      <td>2.516611</td>\n      <td>5</td>\n    </tr>\n    <tr>\n      <th>b</th>\n      <td>8.500000</td>\n      <td>0.707107</td>\n      <td>1</td>\n      <td>4.000000</td>\n      <td>4.242641</td>\n      <td>6</td>\n    </tr>\n  </tbody>\n</table>\n</div>"
     },
     "execution_count": 36,
     "metadata": {},
     "output_type": "execute_result"
    }
   ]
  },
  {
   "cell_type": "code",
   "execution_count": 37,
   "outputs": [
    {
     "name": "stdout",
     "output_type": "stream",
     "text": [
      "<class 'pandas.core.series.Series'>\n",
      "<class 'pandas.core.series.Series'>\n"
     ]
    },
    {
     "data": {
      "text/plain": "       agerage  max-range\nkey1                     \na     5.666667          6\nb     8.500000          1",
      "text/html": "<div>\n<style scoped>\n    .dataframe tbody tr th:only-of-type {\n        vertical-align: middle;\n    }\n\n    .dataframe tbody tr th {\n        vertical-align: top;\n    }\n\n    .dataframe thead th {\n        text-align: right;\n    }\n</style>\n<table border=\"1\" class=\"dataframe\">\n  <thead>\n    <tr style=\"text-align: right;\">\n      <th></th>\n      <th>agerage</th>\n      <th>max-range</th>\n    </tr>\n    <tr>\n      <th>key1</th>\n      <th></th>\n      <th></th>\n    </tr>\n  </thead>\n  <tbody>\n    <tr>\n      <th>a</th>\n      <td>5.666667</td>\n      <td>6</td>\n    </tr>\n    <tr>\n      <th>b</th>\n      <td>8.500000</td>\n      <td>1</td>\n    </tr>\n  </tbody>\n</table>\n</div>"
     },
     "execution_count": 37,
     "metadata": {},
     "output_type": "execute_result"
    }
   ],
   "source": [
    "grouped['data1'].agg([('agerage','mean'),('max-range',peak)])"
   ],
   "metadata": {
    "collapsed": false,
    "pycharm": {
     "name": "#%%\n"
    }
   }
  },
  {
   "cell_type": "markdown",
   "source": [
    "## 给不同的列应用不同的聚合函数\n",
    "使用 dict 作为参数来实现"
   ],
   "metadata": {
    "collapsed": false,
    "pycharm": {
     "name": "#%% md\n"
    }
   }
  },
  {
   "cell_type": "code",
   "execution_count": 38,
   "outputs": [
    {
     "name": "stdout",
     "output_type": "stream",
     "text": [
      "<class 'pandas.core.series.Series'>\n",
      "<class 'pandas.core.series.Series'>\n"
     ]
    },
    {
     "data": {
      "text/plain": "         data1              data2\n          mean peak max min   sum\nkey1                             \na     5.666667    6   9   3    19\nb     8.500000    1   9   8     8",
      "text/html": "<div>\n<style scoped>\n    .dataframe tbody tr th:only-of-type {\n        vertical-align: middle;\n    }\n\n    .dataframe tbody tr th {\n        vertical-align: top;\n    }\n\n    .dataframe thead tr th {\n        text-align: left;\n    }\n\n    .dataframe thead tr:last-of-type th {\n        text-align: right;\n    }\n</style>\n<table border=\"1\" class=\"dataframe\">\n  <thead>\n    <tr>\n      <th></th>\n      <th colspan=\"4\" halign=\"left\">data1</th>\n      <th>data2</th>\n    </tr>\n    <tr>\n      <th></th>\n      <th>mean</th>\n      <th>peak</th>\n      <th>max</th>\n      <th>min</th>\n      <th>sum</th>\n    </tr>\n    <tr>\n      <th>key1</th>\n      <th></th>\n      <th></th>\n      <th></th>\n      <th></th>\n      <th></th>\n    </tr>\n  </thead>\n  <tbody>\n    <tr>\n      <th>a</th>\n      <td>5.666667</td>\n      <td>6</td>\n      <td>9</td>\n      <td>3</td>\n      <td>19</td>\n    </tr>\n    <tr>\n      <th>b</th>\n      <td>8.500000</td>\n      <td>1</td>\n      <td>9</td>\n      <td>8</td>\n      <td>8</td>\n    </tr>\n  </tbody>\n</table>\n</div>"
     },
     "execution_count": 38,
     "metadata": {},
     "output_type": "execute_result"
    }
   ],
   "source": [
    "d = {'data1': ['mean', peak, 'max', 'min'],\n",
    "     'data2': 'sum'}\n",
    "grouped.agg(d)"
   ],
   "metadata": {
    "collapsed": false,
    "pycharm": {
     "name": "#%%\n"
    }
   }
  },
  {
   "cell_type": "markdown",
   "source": [
    "## 重置索引"
   ],
   "metadata": {
    "collapsed": false,
    "pycharm": {
     "name": "#%% md\n"
    }
   }
  },
  {
   "cell_type": "code",
   "execution_count": 39,
   "outputs": [
    {
     "name": "stdout",
     "output_type": "stream",
     "text": [
      "<class 'pandas.core.series.Series'>\n",
      "<class 'pandas.core.series.Series'>\n"
     ]
    },
    {
     "data": {
      "text/plain": "  key1     data1              data2\n            mean peak max min   sum\n0    a  5.666667    6   9   3    19\n1    b  8.500000    1   9   8     8",
      "text/html": "<div>\n<style scoped>\n    .dataframe tbody tr th:only-of-type {\n        vertical-align: middle;\n    }\n\n    .dataframe tbody tr th {\n        vertical-align: top;\n    }\n\n    .dataframe thead tr th {\n        text-align: left;\n    }\n</style>\n<table border=\"1\" class=\"dataframe\">\n  <thead>\n    <tr>\n      <th></th>\n      <th>key1</th>\n      <th colspan=\"4\" halign=\"left\">data1</th>\n      <th>data2</th>\n    </tr>\n    <tr>\n      <th></th>\n      <th></th>\n      <th>mean</th>\n      <th>peak</th>\n      <th>max</th>\n      <th>min</th>\n      <th>sum</th>\n    </tr>\n  </thead>\n  <tbody>\n    <tr>\n      <th>0</th>\n      <td>a</td>\n      <td>5.666667</td>\n      <td>6</td>\n      <td>9</td>\n      <td>3</td>\n      <td>19</td>\n    </tr>\n    <tr>\n      <th>1</th>\n      <td>b</td>\n      <td>8.500000</td>\n      <td>1</td>\n      <td>9</td>\n      <td>8</td>\n      <td>8</td>\n    </tr>\n  </tbody>\n</table>\n</div>"
     },
     "execution_count": 39,
     "metadata": {},
     "output_type": "execute_result"
    }
   ],
   "source": [
    "grouped.agg(d).reset_index()"
   ],
   "metadata": {
    "collapsed": false,
    "pycharm": {
     "name": "#%%\n"
    }
   }
  },
  {
   "cell_type": "code",
   "execution_count": 40,
   "outputs": [
    {
     "name": "stdout",
     "output_type": "stream",
     "text": [
      "<class 'pandas.core.series.Series'>\n",
      "<class 'pandas.core.series.Series'>\n"
     ]
    },
    {
     "data": {
      "text/plain": "  key1     data1              data2\n            mean peak max min   sum\n0    a  5.666667    6   9   3    19\n1    b  8.500000    1   9   8     8",
      "text/html": "<div>\n<style scoped>\n    .dataframe tbody tr th:only-of-type {\n        vertical-align: middle;\n    }\n\n    .dataframe tbody tr th {\n        vertical-align: top;\n    }\n\n    .dataframe thead tr th {\n        text-align: left;\n    }\n</style>\n<table border=\"1\" class=\"dataframe\">\n  <thead>\n    <tr>\n      <th></th>\n      <th>key1</th>\n      <th colspan=\"4\" halign=\"left\">data1</th>\n      <th>data2</th>\n    </tr>\n    <tr>\n      <th></th>\n      <th></th>\n      <th>mean</th>\n      <th>peak</th>\n      <th>max</th>\n      <th>min</th>\n      <th>sum</th>\n    </tr>\n  </thead>\n  <tbody>\n    <tr>\n      <th>0</th>\n      <td>a</td>\n      <td>5.666667</td>\n      <td>6</td>\n      <td>9</td>\n      <td>3</td>\n      <td>19</td>\n    </tr>\n    <tr>\n      <th>1</th>\n      <td>b</td>\n      <td>8.500000</td>\n      <td>1</td>\n      <td>9</td>\n      <td>8</td>\n      <td>8</td>\n    </tr>\n  </tbody>\n</table>\n</div>"
     },
     "execution_count": 40,
     "metadata": {},
     "output_type": "execute_result"
    }
   ],
   "source": [
    "df.groupby('key1',as_index=False).agg(d)"
   ],
   "metadata": {
    "collapsed": false,
    "pycharm": {
     "name": "#%%\n"
    }
   }
  },
  {
   "cell_type": "markdown",
   "source": [
    "## 分组运算和转换\n",
    "groupby 是特殊的分组运算。更一般的分组运算包括 “拆分 - 应用 - 合并”。这里介绍 `transform()` 和 `apply()` 来实现分组运算。"
   ],
   "metadata": {
    "collapsed": false,
    "pycharm": {
     "name": "#%% md\n"
    }
   }
  },
  {
   "cell_type": "code",
   "execution_count": 41,
   "outputs": [
    {
     "data": {
      "text/plain": "  key1 key2  data1  data2\n0    a  one      8      8\n1    a  two      5      2\n2    b  one      4      9\n3    b  two      8      7\n4    a  one      4      9",
      "text/html": "<div>\n<style scoped>\n    .dataframe tbody tr th:only-of-type {\n        vertical-align: middle;\n    }\n\n    .dataframe tbody tr th {\n        vertical-align: top;\n    }\n\n    .dataframe thead th {\n        text-align: right;\n    }\n</style>\n<table border=\"1\" class=\"dataframe\">\n  <thead>\n    <tr style=\"text-align: right;\">\n      <th></th>\n      <th>key1</th>\n      <th>key2</th>\n      <th>data1</th>\n      <th>data2</th>\n    </tr>\n  </thead>\n  <tbody>\n    <tr>\n      <th>0</th>\n      <td>a</td>\n      <td>one</td>\n      <td>8</td>\n      <td>8</td>\n    </tr>\n    <tr>\n      <th>1</th>\n      <td>a</td>\n      <td>two</td>\n      <td>5</td>\n      <td>2</td>\n    </tr>\n    <tr>\n      <th>2</th>\n      <td>b</td>\n      <td>one</td>\n      <td>4</td>\n      <td>9</td>\n    </tr>\n    <tr>\n      <th>3</th>\n      <td>b</td>\n      <td>two</td>\n      <td>8</td>\n      <td>7</td>\n    </tr>\n    <tr>\n      <th>4</th>\n      <td>a</td>\n      <td>one</td>\n      <td>4</td>\n      <td>9</td>\n    </tr>\n  </tbody>\n</table>\n</div>"
     },
     "execution_count": 41,
     "metadata": {},
     "output_type": "execute_result"
    }
   ],
   "source": [
    "df = pd.DataFrame({'key1': ['a', 'a', 'b', 'b', 'a'],\n",
    "                  'key2': ['one', 'two', 'one', 'two', 'one'],\n",
    "                  'data1': np.random.randint(1, 10, 5),\n",
    "                  'data2': np.random.randint(1, 10, 5)})\n",
    "df\n",
    "\n"
   ],
   "metadata": {
    "collapsed": false,
    "pycharm": {
     "name": "#%%\n"
    }
   }
  },
  {
   "cell_type": "code",
   "execution_count": 42,
   "outputs": [
    {
     "data": {
      "text/plain": "      abc_data1  abc_data2\nkey1                      \na      5.666667   6.333333\nb      6.000000   8.000000",
      "text/html": "<div>\n<style scoped>\n    .dataframe tbody tr th:only-of-type {\n        vertical-align: middle;\n    }\n\n    .dataframe tbody tr th {\n        vertical-align: top;\n    }\n\n    .dataframe thead th {\n        text-align: right;\n    }\n</style>\n<table border=\"1\" class=\"dataframe\">\n  <thead>\n    <tr style=\"text-align: right;\">\n      <th></th>\n      <th>abc_data1</th>\n      <th>abc_data2</th>\n    </tr>\n    <tr>\n      <th>key1</th>\n      <th></th>\n      <th></th>\n    </tr>\n  </thead>\n  <tbody>\n    <tr>\n      <th>a</th>\n      <td>5.666667</td>\n      <td>6.333333</td>\n    </tr>\n    <tr>\n      <th>b</th>\n      <td>6.000000</td>\n      <td>8.000000</td>\n    </tr>\n  </tbody>\n</table>\n</div>"
     },
     "execution_count": 42,
     "metadata": {},
     "output_type": "execute_result"
    }
   ],
   "source": [
    "k1_mean = df.groupby('key1').mean().add_prefix('abc_')\n",
    "k1_mean"
   ],
   "metadata": {
    "collapsed": false,
    "pycharm": {
     "name": "#%%\n"
    }
   }
  },
  {
   "cell_type": "code",
   "execution_count": 43,
   "outputs": [
    {
     "data": {
      "text/plain": "  key1 key2  data1  data2  abc_data1  abc_data2\n0    a  one      8      8   5.666667   6.333333\n1    a  two      5      2   5.666667   6.333333\n4    a  one      4      9   5.666667   6.333333\n2    b  one      4      9   6.000000   8.000000\n3    b  two      8      7   6.000000   8.000000",
      "text/html": "<div>\n<style scoped>\n    .dataframe tbody tr th:only-of-type {\n        vertical-align: middle;\n    }\n\n    .dataframe tbody tr th {\n        vertical-align: top;\n    }\n\n    .dataframe thead th {\n        text-align: right;\n    }\n</style>\n<table border=\"1\" class=\"dataframe\">\n  <thead>\n    <tr style=\"text-align: right;\">\n      <th></th>\n      <th>key1</th>\n      <th>key2</th>\n      <th>data1</th>\n      <th>data2</th>\n      <th>abc_data1</th>\n      <th>abc_data2</th>\n    </tr>\n  </thead>\n  <tbody>\n    <tr>\n      <th>0</th>\n      <td>a</td>\n      <td>one</td>\n      <td>8</td>\n      <td>8</td>\n      <td>5.666667</td>\n      <td>6.333333</td>\n    </tr>\n    <tr>\n      <th>1</th>\n      <td>a</td>\n      <td>two</td>\n      <td>5</td>\n      <td>2</td>\n      <td>5.666667</td>\n      <td>6.333333</td>\n    </tr>\n    <tr>\n      <th>4</th>\n      <td>a</td>\n      <td>one</td>\n      <td>4</td>\n      <td>9</td>\n      <td>5.666667</td>\n      <td>6.333333</td>\n    </tr>\n    <tr>\n      <th>2</th>\n      <td>b</td>\n      <td>one</td>\n      <td>4</td>\n      <td>9</td>\n      <td>6.000000</td>\n      <td>8.000000</td>\n    </tr>\n    <tr>\n      <th>3</th>\n      <td>b</td>\n      <td>two</td>\n      <td>8</td>\n      <td>7</td>\n      <td>6.000000</td>\n      <td>8.000000</td>\n    </tr>\n  </tbody>\n</table>\n</div>"
     },
     "execution_count": 43,
     "metadata": {},
     "output_type": "execute_result"
    }
   ],
   "source": [
    "pd.merge(df,k1_mean,left_on='key1',right_index=True)"
   ],
   "metadata": {
    "collapsed": false,
    "pycharm": {
     "name": "#%%\n"
    }
   }
  },
  {
   "cell_type": "code",
   "execution_count": 44,
   "outputs": [
    {
     "data": {
      "text/plain": "  key1 key2  data1  data2\n0    a  one      8      8\n1    a  two      5      2\n2    b  one      4      9\n3    b  two      8      7\n4    a  one      4      9",
      "text/html": "<div>\n<style scoped>\n    .dataframe tbody tr th:only-of-type {\n        vertical-align: middle;\n    }\n\n    .dataframe tbody tr th {\n        vertical-align: top;\n    }\n\n    .dataframe thead th {\n        text-align: right;\n    }\n</style>\n<table border=\"1\" class=\"dataframe\">\n  <thead>\n    <tr style=\"text-align: right;\">\n      <th></th>\n      <th>key1</th>\n      <th>key2</th>\n      <th>data1</th>\n      <th>data2</th>\n    </tr>\n  </thead>\n  <tbody>\n    <tr>\n      <th>0</th>\n      <td>a</td>\n      <td>one</td>\n      <td>8</td>\n      <td>8</td>\n    </tr>\n    <tr>\n      <th>1</th>\n      <td>a</td>\n      <td>two</td>\n      <td>5</td>\n      <td>2</td>\n    </tr>\n    <tr>\n      <th>2</th>\n      <td>b</td>\n      <td>one</td>\n      <td>4</td>\n      <td>9</td>\n    </tr>\n    <tr>\n      <th>3</th>\n      <td>b</td>\n      <td>two</td>\n      <td>8</td>\n      <td>7</td>\n    </tr>\n    <tr>\n      <th>4</th>\n      <td>a</td>\n      <td>one</td>\n      <td>4</td>\n      <td>9</td>\n    </tr>\n  </tbody>\n</table>\n</div>"
     },
     "execution_count": 44,
     "metadata": {},
     "output_type": "execute_result"
    }
   ],
   "source": [
    "df"
   ],
   "metadata": {
    "collapsed": false,
    "pycharm": {
     "name": "#%%\n"
    }
   }
  },
  {
   "cell_type": "code",
   "execution_count": 45,
   "outputs": [
    {
     "data": {
      "text/plain": "   mean___data1  mean___data2\n0      5.666667      6.333333\n1      5.666667      6.333333\n2      6.000000      8.000000\n3      6.000000      8.000000\n4      5.666667      6.333333",
      "text/html": "<div>\n<style scoped>\n    .dataframe tbody tr th:only-of-type {\n        vertical-align: middle;\n    }\n\n    .dataframe tbody tr th {\n        vertical-align: top;\n    }\n\n    .dataframe thead th {\n        text-align: right;\n    }\n</style>\n<table border=\"1\" class=\"dataframe\">\n  <thead>\n    <tr style=\"text-align: right;\">\n      <th></th>\n      <th>mean___data1</th>\n      <th>mean___data2</th>\n    </tr>\n  </thead>\n  <tbody>\n    <tr>\n      <th>0</th>\n      <td>5.666667</td>\n      <td>6.333333</td>\n    </tr>\n    <tr>\n      <th>1</th>\n      <td>5.666667</td>\n      <td>6.333333</td>\n    </tr>\n    <tr>\n      <th>2</th>\n      <td>6.000000</td>\n      <td>8.000000</td>\n    </tr>\n    <tr>\n      <th>3</th>\n      <td>6.000000</td>\n      <td>8.000000</td>\n    </tr>\n    <tr>\n      <th>4</th>\n      <td>5.666667</td>\n      <td>6.333333</td>\n    </tr>\n  </tbody>\n</table>\n</div>"
     },
     "execution_count": 45,
     "metadata": {},
     "output_type": "execute_result"
    }
   ],
   "source": [
    "# 使用 transform 简化处理\n",
    "k1_mean = df.groupby('key1').transform(np.mean).add_prefix('mean___')\n",
    "k1_mean"
   ],
   "metadata": {
    "collapsed": false,
    "pycharm": {
     "name": "#%%\n"
    }
   }
  },
  {
   "cell_type": "code",
   "execution_count": 46,
   "outputs": [
    {
     "data": {
      "text/plain": "  key1 key2  data1  data2  mean___data1  mean___data2\n0    a  one      8      8      5.666667      6.333333\n1    a  two      5      2      5.666667      6.333333\n2    b  one      4      9      6.000000      8.000000\n3    b  two      8      7      6.000000      8.000000\n4    a  one      4      9      5.666667      6.333333",
      "text/html": "<div>\n<style scoped>\n    .dataframe tbody tr th:only-of-type {\n        vertical-align: middle;\n    }\n\n    .dataframe tbody tr th {\n        vertical-align: top;\n    }\n\n    .dataframe thead th {\n        text-align: right;\n    }\n</style>\n<table border=\"1\" class=\"dataframe\">\n  <thead>\n    <tr style=\"text-align: right;\">\n      <th></th>\n      <th>key1</th>\n      <th>key2</th>\n      <th>data1</th>\n      <th>data2</th>\n      <th>mean___data1</th>\n      <th>mean___data2</th>\n    </tr>\n  </thead>\n  <tbody>\n    <tr>\n      <th>0</th>\n      <td>a</td>\n      <td>one</td>\n      <td>8</td>\n      <td>8</td>\n      <td>5.666667</td>\n      <td>6.333333</td>\n    </tr>\n    <tr>\n      <th>1</th>\n      <td>a</td>\n      <td>two</td>\n      <td>5</td>\n      <td>2</td>\n      <td>5.666667</td>\n      <td>6.333333</td>\n    </tr>\n    <tr>\n      <th>2</th>\n      <td>b</td>\n      <td>one</td>\n      <td>4</td>\n      <td>9</td>\n      <td>6.000000</td>\n      <td>8.000000</td>\n    </tr>\n    <tr>\n      <th>3</th>\n      <td>b</td>\n      <td>two</td>\n      <td>8</td>\n      <td>7</td>\n      <td>6.000000</td>\n      <td>8.000000</td>\n    </tr>\n    <tr>\n      <th>4</th>\n      <td>a</td>\n      <td>one</td>\n      <td>4</td>\n      <td>9</td>\n      <td>5.666667</td>\n      <td>6.333333</td>\n    </tr>\n  </tbody>\n</table>\n</div>"
     },
     "execution_count": 46,
     "metadata": {},
     "output_type": "execute_result"
    }
   ],
   "source": [
    "df[k1_mean.columns] = k1_mean\n",
    "df"
   ],
   "metadata": {
    "collapsed": false,
    "pycharm": {
     "name": "#%%\n"
    }
   }
  },
  {
   "cell_type": "markdown",
   "source": [
    "## 距平化\n",
    "与平均值的差异值"
   ],
   "metadata": {
    "collapsed": false,
    "pycharm": {
     "name": "#%% md\n"
    }
   }
  },
  {
   "cell_type": "code",
   "execution_count": 47,
   "outputs": [
    {
     "data": {
      "text/plain": "       a  b  c  d  e\nAlice  1  7  3  2  5\nBob    1  7  5  1  4\nCandy  9  1  4  5  9\nDark   6  7  5  2  8\nEmily  8  4  4  7  7",
      "text/html": "<div>\n<style scoped>\n    .dataframe tbody tr th:only-of-type {\n        vertical-align: middle;\n    }\n\n    .dataframe tbody tr th {\n        vertical-align: top;\n    }\n\n    .dataframe thead th {\n        text-align: right;\n    }\n</style>\n<table border=\"1\" class=\"dataframe\">\n  <thead>\n    <tr style=\"text-align: right;\">\n      <th></th>\n      <th>a</th>\n      <th>b</th>\n      <th>c</th>\n      <th>d</th>\n      <th>e</th>\n    </tr>\n  </thead>\n  <tbody>\n    <tr>\n      <th>Alice</th>\n      <td>1</td>\n      <td>7</td>\n      <td>3</td>\n      <td>2</td>\n      <td>5</td>\n    </tr>\n    <tr>\n      <th>Bob</th>\n      <td>1</td>\n      <td>7</td>\n      <td>5</td>\n      <td>1</td>\n      <td>4</td>\n    </tr>\n    <tr>\n      <th>Candy</th>\n      <td>9</td>\n      <td>1</td>\n      <td>4</td>\n      <td>5</td>\n      <td>9</td>\n    </tr>\n    <tr>\n      <th>Dark</th>\n      <td>6</td>\n      <td>7</td>\n      <td>5</td>\n      <td>2</td>\n      <td>8</td>\n    </tr>\n    <tr>\n      <th>Emily</th>\n      <td>8</td>\n      <td>4</td>\n      <td>4</td>\n      <td>7</td>\n      <td>7</td>\n    </tr>\n  </tbody>\n</table>\n</div>"
     },
     "execution_count": 47,
     "metadata": {},
     "output_type": "execute_result"
    }
   ],
   "source": [
    "df = pd.DataFrame(np.random.randint(1, 10, (5, 5)),\n",
    "                  columns=['a', 'b', 'c', 'd', 'e'],\n",
    "                  index=['Alice', 'Bob', 'Candy', 'Dark', 'Emily'])\n",
    "df\n"
   ],
   "metadata": {
    "collapsed": false,
    "pycharm": {
     "name": "#%%\n"
    }
   }
  },
  {
   "cell_type": "code",
   "execution_count": 48,
   "outputs": [
    {
     "data": {
      "text/plain": "              a    b         c         d         e\nAlice -1.666667  0.0 -1.333333  0.333333 -0.666667\nBob   -1.666667  0.0  0.666667 -0.666667 -1.666667\nCandy  0.500000 -1.5  0.000000 -1.000000  1.000000\nDark   3.333333  0.0  0.666667  0.333333  2.333333\nEmily -0.500000  1.5  0.000000  1.000000 -1.000000",
      "text/html": "<div>\n<style scoped>\n    .dataframe tbody tr th:only-of-type {\n        vertical-align: middle;\n    }\n\n    .dataframe tbody tr th {\n        vertical-align: top;\n    }\n\n    .dataframe thead th {\n        text-align: right;\n    }\n</style>\n<table border=\"1\" class=\"dataframe\">\n  <thead>\n    <tr style=\"text-align: right;\">\n      <th></th>\n      <th>a</th>\n      <th>b</th>\n      <th>c</th>\n      <th>d</th>\n      <th>e</th>\n    </tr>\n  </thead>\n  <tbody>\n    <tr>\n      <th>Alice</th>\n      <td>-1.666667</td>\n      <td>0.0</td>\n      <td>-1.333333</td>\n      <td>0.333333</td>\n      <td>-0.666667</td>\n    </tr>\n    <tr>\n      <th>Bob</th>\n      <td>-1.666667</td>\n      <td>0.0</td>\n      <td>0.666667</td>\n      <td>-0.666667</td>\n      <td>-1.666667</td>\n    </tr>\n    <tr>\n      <th>Candy</th>\n      <td>0.500000</td>\n      <td>-1.5</td>\n      <td>0.000000</td>\n      <td>-1.000000</td>\n      <td>1.000000</td>\n    </tr>\n    <tr>\n      <th>Dark</th>\n      <td>3.333333</td>\n      <td>0.0</td>\n      <td>0.666667</td>\n      <td>0.333333</td>\n      <td>2.333333</td>\n    </tr>\n    <tr>\n      <th>Emily</th>\n      <td>-0.500000</td>\n      <td>1.5</td>\n      <td>0.000000</td>\n      <td>1.000000</td>\n      <td>-1.000000</td>\n    </tr>\n  </tbody>\n</table>\n</div>"
     },
     "execution_count": 48,
     "metadata": {},
     "output_type": "execute_result"
    }
   ],
   "source": [
    "def demean(s):\n",
    "    return s - s.mean()\n",
    "key = ['one', 'one', 'two', 'one', 'two']\n",
    "demeaned = df.groupby(key).transform(demean)\n",
    "demeaned"
   ],
   "metadata": {
    "collapsed": false,
    "pycharm": {
     "name": "#%%\n"
    }
   }
  },
  {
   "cell_type": "code",
   "execution_count": 49,
   "outputs": [
    {
     "data": {
      "text/plain": "                a    b             c             d             e\none  1.480297e-16  0.0  2.960595e-16 -7.401487e-17 -2.960595e-16\ntwo  0.000000e+00  0.0  0.000000e+00  0.000000e+00  0.000000e+00",
      "text/html": "<div>\n<style scoped>\n    .dataframe tbody tr th:only-of-type {\n        vertical-align: middle;\n    }\n\n    .dataframe tbody tr th {\n        vertical-align: top;\n    }\n\n    .dataframe thead th {\n        text-align: right;\n    }\n</style>\n<table border=\"1\" class=\"dataframe\">\n  <thead>\n    <tr style=\"text-align: right;\">\n      <th></th>\n      <th>a</th>\n      <th>b</th>\n      <th>c</th>\n      <th>d</th>\n      <th>e</th>\n    </tr>\n  </thead>\n  <tbody>\n    <tr>\n      <th>one</th>\n      <td>1.480297e-16</td>\n      <td>0.0</td>\n      <td>2.960595e-16</td>\n      <td>-7.401487e-17</td>\n      <td>-2.960595e-16</td>\n    </tr>\n    <tr>\n      <th>two</th>\n      <td>0.000000e+00</td>\n      <td>0.0</td>\n      <td>0.000000e+00</td>\n      <td>0.000000e+00</td>\n      <td>0.000000e+00</td>\n    </tr>\n  </tbody>\n</table>\n</div>"
     },
     "execution_count": 49,
     "metadata": {},
     "output_type": "execute_result"
    }
   ],
   "source": [
    "demeaned.groupby(key).mean()"
   ],
   "metadata": {
    "collapsed": false,
    "pycharm": {
     "name": "#%%\n"
    }
   }
  },
  {
   "cell_type": "markdown",
   "source": [
    "## apply函数\n",
    "我们介绍过 DataFrame 的 apply 函数是逐行或逐列来处理数据。GroupBy 的 apply 函数对每个分组进行计算。\n"
   ],
   "metadata": {
    "collapsed": false,
    "pycharm": {
     "name": "#%% md\n"
    }
   }
  },
  {
   "cell_type": "code",
   "execution_count": 50,
   "outputs": [
    {
     "data": {
      "text/plain": "  key1 key2  data1  data2\n0    a  one      9      6\n1    a  two      2      1\n2    b  one      5      3\n3    b  two      2      8\n4    a  one      9      3\n5    a  one      7      8\n6    a  two      6      1\n7    b  one      9      9\n8    b  two      3      2\n9    a  one      9      8",
      "text/html": "<div>\n<style scoped>\n    .dataframe tbody tr th:only-of-type {\n        vertical-align: middle;\n    }\n\n    .dataframe tbody tr th {\n        vertical-align: top;\n    }\n\n    .dataframe thead th {\n        text-align: right;\n    }\n</style>\n<table border=\"1\" class=\"dataframe\">\n  <thead>\n    <tr style=\"text-align: right;\">\n      <th></th>\n      <th>key1</th>\n      <th>key2</th>\n      <th>data1</th>\n      <th>data2</th>\n    </tr>\n  </thead>\n  <tbody>\n    <tr>\n      <th>0</th>\n      <td>a</td>\n      <td>one</td>\n      <td>9</td>\n      <td>6</td>\n    </tr>\n    <tr>\n      <th>1</th>\n      <td>a</td>\n      <td>two</td>\n      <td>2</td>\n      <td>1</td>\n    </tr>\n    <tr>\n      <th>2</th>\n      <td>b</td>\n      <td>one</td>\n      <td>5</td>\n      <td>3</td>\n    </tr>\n    <tr>\n      <th>3</th>\n      <td>b</td>\n      <td>two</td>\n      <td>2</td>\n      <td>8</td>\n    </tr>\n    <tr>\n      <th>4</th>\n      <td>a</td>\n      <td>one</td>\n      <td>9</td>\n      <td>3</td>\n    </tr>\n    <tr>\n      <th>5</th>\n      <td>a</td>\n      <td>one</td>\n      <td>7</td>\n      <td>8</td>\n    </tr>\n    <tr>\n      <th>6</th>\n      <td>a</td>\n      <td>two</td>\n      <td>6</td>\n      <td>1</td>\n    </tr>\n    <tr>\n      <th>7</th>\n      <td>b</td>\n      <td>one</td>\n      <td>9</td>\n      <td>9</td>\n    </tr>\n    <tr>\n      <th>8</th>\n      <td>b</td>\n      <td>two</td>\n      <td>3</td>\n      <td>2</td>\n    </tr>\n    <tr>\n      <th>9</th>\n      <td>a</td>\n      <td>one</td>\n      <td>9</td>\n      <td>8</td>\n    </tr>\n  </tbody>\n</table>\n</div>"
     },
     "execution_count": 50,
     "metadata": {},
     "output_type": "execute_result"
    }
   ],
   "source": [
    "df = pd.DataFrame({'key1': ['a', 'a', 'b', 'b', 'a', 'a', 'a', 'b', 'b', 'a'],\n",
    "                  'key2': ['one', 'two', 'one', 'two', 'one', 'one', 'two', 'one', 'two', 'one'],\n",
    "                  'data1': np.random.randint(1, 10, 10),\n",
    "                  'data2': np.random.randint(1, 10, 10)})\n",
    "df\n"
   ],
   "metadata": {
    "collapsed": false,
    "pycharm": {
     "name": "#%%\n"
    }
   }
  },
  {
   "cell_type": "code",
   "execution_count": 51,
   "outputs": [],
   "source": [
    "# 根据 column 排序，输出其最大的 n 行数据\n",
    "def top(df, n=2, column='data1'):\n",
    "    return df.sort_values(by=column, ascending=False)[:n]\n",
    "\n",
    "# top(df, n=5)"
   ],
   "metadata": {
    "collapsed": false,
    "pycharm": {
     "name": "#%%\n"
    }
   }
  },
  {
   "cell_type": "code",
   "execution_count": 52,
   "outputs": [
    {
     "data": {
      "text/plain": "       key1 key2  data1  data2\nkey1                          \na    0    a  one      9      6\n     4    a  one      9      3\nb    7    b  one      9      9\n     2    b  one      5      3",
      "text/html": "<div>\n<style scoped>\n    .dataframe tbody tr th:only-of-type {\n        vertical-align: middle;\n    }\n\n    .dataframe tbody tr th {\n        vertical-align: top;\n    }\n\n    .dataframe thead th {\n        text-align: right;\n    }\n</style>\n<table border=\"1\" class=\"dataframe\">\n  <thead>\n    <tr style=\"text-align: right;\">\n      <th></th>\n      <th></th>\n      <th>key1</th>\n      <th>key2</th>\n      <th>data1</th>\n      <th>data2</th>\n    </tr>\n    <tr>\n      <th>key1</th>\n      <th></th>\n      <th></th>\n      <th></th>\n      <th></th>\n      <th></th>\n    </tr>\n  </thead>\n  <tbody>\n    <tr>\n      <th rowspan=\"2\" valign=\"top\">a</th>\n      <th>0</th>\n      <td>a</td>\n      <td>one</td>\n      <td>9</td>\n      <td>6</td>\n    </tr>\n    <tr>\n      <th>4</th>\n      <td>a</td>\n      <td>one</td>\n      <td>9</td>\n      <td>3</td>\n    </tr>\n    <tr>\n      <th rowspan=\"2\" valign=\"top\">b</th>\n      <th>7</th>\n      <td>b</td>\n      <td>one</td>\n      <td>9</td>\n      <td>9</td>\n    </tr>\n    <tr>\n      <th>2</th>\n      <td>b</td>\n      <td>one</td>\n      <td>5</td>\n      <td>3</td>\n    </tr>\n  </tbody>\n</table>\n</div>"
     },
     "execution_count": 52,
     "metadata": {},
     "output_type": "execute_result"
    }
   ],
   "source": [
    "df.groupby('key1').apply(top)"
   ],
   "metadata": {
    "collapsed": false,
    "pycharm": {
     "name": "#%%\n"
    }
   }
  },
  {
   "cell_type": "code",
   "execution_count": 53,
   "outputs": [
    {
     "data": {
      "text/plain": "       key1 key2  data1  data2\nkey1                          \na    5    a  one      7      8\n     9    a  one      9      8\n     0    a  one      9      6\nb    7    b  one      9      9\n     3    b  two      2      8\n     2    b  one      5      3",
      "text/html": "<div>\n<style scoped>\n    .dataframe tbody tr th:only-of-type {\n        vertical-align: middle;\n    }\n\n    .dataframe tbody tr th {\n        vertical-align: top;\n    }\n\n    .dataframe thead th {\n        text-align: right;\n    }\n</style>\n<table border=\"1\" class=\"dataframe\">\n  <thead>\n    <tr style=\"text-align: right;\">\n      <th></th>\n      <th></th>\n      <th>key1</th>\n      <th>key2</th>\n      <th>data1</th>\n      <th>data2</th>\n    </tr>\n    <tr>\n      <th>key1</th>\n      <th></th>\n      <th></th>\n      <th></th>\n      <th></th>\n      <th></th>\n    </tr>\n  </thead>\n  <tbody>\n    <tr>\n      <th rowspan=\"3\" valign=\"top\">a</th>\n      <th>5</th>\n      <td>a</td>\n      <td>one</td>\n      <td>7</td>\n      <td>8</td>\n    </tr>\n    <tr>\n      <th>9</th>\n      <td>a</td>\n      <td>one</td>\n      <td>9</td>\n      <td>8</td>\n    </tr>\n    <tr>\n      <th>0</th>\n      <td>a</td>\n      <td>one</td>\n      <td>9</td>\n      <td>6</td>\n    </tr>\n    <tr>\n      <th rowspan=\"3\" valign=\"top\">b</th>\n      <th>7</th>\n      <td>b</td>\n      <td>one</td>\n      <td>9</td>\n      <td>9</td>\n    </tr>\n    <tr>\n      <th>3</th>\n      <td>b</td>\n      <td>two</td>\n      <td>2</td>\n      <td>8</td>\n    </tr>\n    <tr>\n      <th>2</th>\n      <td>b</td>\n      <td>one</td>\n      <td>5</td>\n      <td>3</td>\n    </tr>\n  </tbody>\n</table>\n</div>"
     },
     "execution_count": 53,
     "metadata": {},
     "output_type": "execute_result"
    }
   ],
   "source": [
    "df.groupby('key1').apply(top,n=3,column='data2')\n"
   ],
   "metadata": {
    "collapsed": false,
    "pycharm": {
     "name": "#%%\n"
    }
   }
  },
  {
   "cell_type": "code",
   "execution_count": 57,
   "outputs": [
    {
     "data": {
      "text/plain": "  key1 key2  data1  data2\n0    a  one      9      6\n4    a  one      9      3\n7    b  one      9      9\n2    b  one      5      3",
      "text/html": "<div>\n<style scoped>\n    .dataframe tbody tr th:only-of-type {\n        vertical-align: middle;\n    }\n\n    .dataframe tbody tr th {\n        vertical-align: top;\n    }\n\n    .dataframe thead th {\n        text-align: right;\n    }\n</style>\n<table border=\"1\" class=\"dataframe\">\n  <thead>\n    <tr style=\"text-align: right;\">\n      <th></th>\n      <th>key1</th>\n      <th>key2</th>\n      <th>data1</th>\n      <th>data2</th>\n    </tr>\n  </thead>\n  <tbody>\n    <tr>\n      <th>0</th>\n      <td>a</td>\n      <td>one</td>\n      <td>9</td>\n      <td>6</td>\n    </tr>\n    <tr>\n      <th>4</th>\n      <td>a</td>\n      <td>one</td>\n      <td>9</td>\n      <td>3</td>\n    </tr>\n    <tr>\n      <th>7</th>\n      <td>b</td>\n      <td>one</td>\n      <td>9</td>\n      <td>9</td>\n    </tr>\n    <tr>\n      <th>2</th>\n      <td>b</td>\n      <td>one</td>\n      <td>5</td>\n      <td>3</td>\n    </tr>\n  </tbody>\n</table>\n</div>"
     },
     "execution_count": 57,
     "metadata": {},
     "output_type": "execute_result"
    }
   ],
   "source": [
    "# 禁用分组键\n",
    "df.groupby('key1',group_keys=False).apply(top)\n"
   ],
   "metadata": {
    "collapsed": false,
    "pycharm": {
     "name": "#%%\n"
    }
   }
  },
  {
   "cell_type": "code",
   "execution_count": null,
   "outputs": [],
   "source": [],
   "metadata": {
    "collapsed": false,
    "pycharm": {
     "name": "#%%\n"
    }
   }
  },
  {
   "cell_type": "markdown",
   "source": [
    "## apply 应用示例：用不同的分组平均值填充空缺数据"
   ],
   "metadata": {
    "collapsed": false
   }
  },
  {
   "cell_type": "code",
   "execution_count": 58,
   "outputs": [
    {
     "data": {
      "text/plain": "Ohio          0.190571\nNew York      0.729647\nVermont            NaN\nFlorida       0.358883\nOregon        1.188723\nNevada             NaN\nCalifornia   -0.073364\nIdaho              NaN\ndtype: float64"
     },
     "execution_count": 58,
     "metadata": {},
     "output_type": "execute_result"
    }
   ],
   "source": [
    "states = ['Ohio', 'New York', 'Vermont', 'Florida',\n",
    "          'Oregon', 'Nevada', 'California', 'Idaho']\n",
    "group_key = ['East'] * 4 + ['West'] * 4\n",
    "data = pd.Series(np.random.randn(8), index=states)\n",
    "data[['Vermont', 'Nevada', 'Idaho']] = np.nan\n",
    "data"
   ],
   "metadata": {
    "collapsed": false,
    "pycharm": {
     "name": "#%%\n"
    }
   }
  },
  {
   "cell_type": "code",
   "execution_count": 59,
   "outputs": [
    {
     "data": {
      "text/plain": "East    0.426367\nWest    0.557680\ndtype: float64"
     },
     "execution_count": 59,
     "metadata": {},
     "output_type": "execute_result"
    }
   ],
   "source": [
    "data.groupby(group_key).mean()"
   ],
   "metadata": {
    "collapsed": false,
    "pycharm": {
     "name": "#%%\n"
    }
   }
  },
  {
   "cell_type": "code",
   "execution_count": 60,
   "outputs": [
    {
     "data": {
      "text/plain": "Ohio          0.190571\nNew York      0.729647\nVermont       0.426367\nFlorida       0.358883\nOregon        1.188723\nNevada        0.557680\nCalifornia   -0.073364\nIdaho         0.557680\ndtype: float64"
     },
     "execution_count": 60,
     "metadata": {},
     "output_type": "execute_result"
    }
   ],
   "source": [
    "fill_mean = lambda g: g.fillna(g.mean())\n",
    "data.groupby(group_key).apply(fill_mean)"
   ],
   "metadata": {
    "collapsed": false,
    "pycharm": {
     "name": "#%%\n"
    }
   }
  },
  {
   "cell_type": "code",
   "execution_count": null,
   "outputs": [],
   "source": [
    "\n"
   ],
   "metadata": {
    "collapsed": false,
    "pycharm": {
     "name": "#%%\n"
    }
   }
  }
 ],
 "metadata": {
  "kernelspec": {
   "display_name": "PyCharm (mywork)",
   "language": "python",
   "name": "pycharm-2bc0cf0c"
  },
  "language_info": {
   "codemirror_mode": {
    "name": "ipython",
    "version": 2
   },
   "file_extension": ".py",
   "mimetype": "text/x-python",
   "name": "python",
   "nbconvert_exporter": "python",
   "pygments_lexer": "ipython2",
   "version": "2.7.6"
  }
 },
 "nbformat": 4,
 "nbformat_minor": 0
}