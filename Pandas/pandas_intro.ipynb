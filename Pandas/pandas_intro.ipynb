{
 "cells": [
  {
   "cell_type": "code",
   "execution_count": 2,
   "metadata": {
    "collapsed": true
   },
   "outputs": [],
   "source": [
    "# coding:utf-8\n",
    "%matplotlib inline\n",
    "import pandas as pd\n",
    "import numpy as np\n",
    "import matplotlib.pyplot as plt"
   ]
  },
  {
   "cell_type": "code",
   "execution_count": 5,
   "outputs": [
    {
     "data": {
      "text/plain": "                   A         B         C         D\n2010-01-01 -1.566345  1.383035  1.382587 -1.997936\n2010-01-02 -1.338479 -0.547220 -0.806314  0.784684\n2010-01-03  0.105139 -1.270087 -1.494131  0.674953\n2010-01-04  0.501927  2.008476  1.546199  0.559860\n2010-01-05 -0.153110 -0.233740  2.261399 -0.434355\n2010-01-06 -0.386100 -0.458326  1.071128 -0.236456",
      "text/html": "<div>\n<style scoped>\n    .dataframe tbody tr th:only-of-type {\n        vertical-align: middle;\n    }\n\n    .dataframe tbody tr th {\n        vertical-align: top;\n    }\n\n    .dataframe thead th {\n        text-align: right;\n    }\n</style>\n<table border=\"1\" class=\"dataframe\">\n  <thead>\n    <tr style=\"text-align: right;\">\n      <th></th>\n      <th>A</th>\n      <th>B</th>\n      <th>C</th>\n      <th>D</th>\n    </tr>\n  </thead>\n  <tbody>\n    <tr>\n      <th>2010-01-01</th>\n      <td>-1.566345</td>\n      <td>1.383035</td>\n      <td>1.382587</td>\n      <td>-1.997936</td>\n    </tr>\n    <tr>\n      <th>2010-01-02</th>\n      <td>-1.338479</td>\n      <td>-0.547220</td>\n      <td>-0.806314</td>\n      <td>0.784684</td>\n    </tr>\n    <tr>\n      <th>2010-01-03</th>\n      <td>0.105139</td>\n      <td>-1.270087</td>\n      <td>-1.494131</td>\n      <td>0.674953</td>\n    </tr>\n    <tr>\n      <th>2010-01-04</th>\n      <td>0.501927</td>\n      <td>2.008476</td>\n      <td>1.546199</td>\n      <td>0.559860</td>\n    </tr>\n    <tr>\n      <th>2010-01-05</th>\n      <td>-0.153110</td>\n      <td>-0.233740</td>\n      <td>2.261399</td>\n      <td>-0.434355</td>\n    </tr>\n    <tr>\n      <th>2010-01-06</th>\n      <td>-0.386100</td>\n      <td>-0.458326</td>\n      <td>1.071128</td>\n      <td>-0.236456</td>\n    </tr>\n  </tbody>\n</table>\n</div>"
     },
     "execution_count": 5,
     "metadata": {},
     "output_type": "execute_result"
    }
   ],
   "source": [
    "dates = pd.date_range('20100101', periods=6)\n",
    "type(dates)\n",
    "df = pd.DataFrame(np.random.randn(6,4), index=dates, columns=list('ABCD'))\n",
    "df"
   ],
   "metadata": {
    "collapsed": false,
    "pycharm": {
     "name": "#%%\n"
    }
   }
  },
  {
   "cell_type": "code",
   "execution_count": 6,
   "outputs": [
    {
     "data": {
      "text/plain": "                   A         B         C         D   E\n2010-01-01 -1.566345  1.383035  1.382587 -1.997936 NaN\n2010-01-02 -1.338479 -0.547220 -0.806314  0.784684 NaN\n2010-01-03  0.105139 -1.270087 -1.494131  0.674953 NaN\n2010-01-04  0.501927  2.008476  1.546199  0.559860 NaN",
      "text/html": "<div>\n<style scoped>\n    .dataframe tbody tr th:only-of-type {\n        vertical-align: middle;\n    }\n\n    .dataframe tbody tr th {\n        vertical-align: top;\n    }\n\n    .dataframe thead th {\n        text-align: right;\n    }\n</style>\n<table border=\"1\" class=\"dataframe\">\n  <thead>\n    <tr style=\"text-align: right;\">\n      <th></th>\n      <th>A</th>\n      <th>B</th>\n      <th>C</th>\n      <th>D</th>\n      <th>E</th>\n    </tr>\n  </thead>\n  <tbody>\n    <tr>\n      <th>2010-01-01</th>\n      <td>-1.566345</td>\n      <td>1.383035</td>\n      <td>1.382587</td>\n      <td>-1.997936</td>\n      <td>NaN</td>\n    </tr>\n    <tr>\n      <th>2010-01-02</th>\n      <td>-1.338479</td>\n      <td>-0.547220</td>\n      <td>-0.806314</td>\n      <td>0.784684</td>\n      <td>NaN</td>\n    </tr>\n    <tr>\n      <th>2010-01-03</th>\n      <td>0.105139</td>\n      <td>-1.270087</td>\n      <td>-1.494131</td>\n      <td>0.674953</td>\n      <td>NaN</td>\n    </tr>\n    <tr>\n      <th>2010-01-04</th>\n      <td>0.501927</td>\n      <td>2.008476</td>\n      <td>1.546199</td>\n      <td>0.559860</td>\n      <td>NaN</td>\n    </tr>\n  </tbody>\n</table>\n</div>"
     },
     "execution_count": 6,
     "metadata": {},
     "output_type": "execute_result"
    }
   ],
   "source": [
    "df1 = df.reindex(index=dates[0:4], columns=list(df.columns)+['E'])\n",
    "df1"
   ],
   "metadata": {
    "collapsed": false,
    "pycharm": {
     "name": "#%%\n"
    }
   }
  },
  {
   "cell_type": "code",
   "execution_count": 7,
   "outputs": [
    {
     "data": {
      "text/plain": "                   A         B         C         D    E\n2010-01-01 -1.566345  1.383035  1.382587 -1.997936  NaN\n2010-01-02 -1.338479 -0.547220 -0.806314  0.784684  2.0\n2010-01-03  0.105139 -1.270087 -1.494131  0.674953  2.0\n2010-01-04  0.501927  2.008476  1.546199  0.559860  NaN",
      "text/html": "<div>\n<style scoped>\n    .dataframe tbody tr th:only-of-type {\n        vertical-align: middle;\n    }\n\n    .dataframe tbody tr th {\n        vertical-align: top;\n    }\n\n    .dataframe thead th {\n        text-align: right;\n    }\n</style>\n<table border=\"1\" class=\"dataframe\">\n  <thead>\n    <tr style=\"text-align: right;\">\n      <th></th>\n      <th>A</th>\n      <th>B</th>\n      <th>C</th>\n      <th>D</th>\n      <th>E</th>\n    </tr>\n  </thead>\n  <tbody>\n    <tr>\n      <th>2010-01-01</th>\n      <td>-1.566345</td>\n      <td>1.383035</td>\n      <td>1.382587</td>\n      <td>-1.997936</td>\n      <td>NaN</td>\n    </tr>\n    <tr>\n      <th>2010-01-02</th>\n      <td>-1.338479</td>\n      <td>-0.547220</td>\n      <td>-0.806314</td>\n      <td>0.784684</td>\n      <td>2.0</td>\n    </tr>\n    <tr>\n      <th>2010-01-03</th>\n      <td>0.105139</td>\n      <td>-1.270087</td>\n      <td>-1.494131</td>\n      <td>0.674953</td>\n      <td>2.0</td>\n    </tr>\n    <tr>\n      <th>2010-01-04</th>\n      <td>0.501927</td>\n      <td>2.008476</td>\n      <td>1.546199</td>\n      <td>0.559860</td>\n      <td>NaN</td>\n    </tr>\n  </tbody>\n</table>\n</div>"
     },
     "execution_count": 7,
     "metadata": {},
     "output_type": "execute_result"
    }
   ],
   "source": [
    "df1.loc[dates[1:3],'E'] = 2\n",
    "df1"
   ],
   "metadata": {
    "collapsed": false,
    "pycharm": {
     "name": "#%%\n"
    }
   }
  },
  {
   "cell_type": "code",
   "execution_count": 8,
   "outputs": [
    {
     "data": {
      "text/plain": "                   A         B         C         D    E\n2010-01-02 -1.338479 -0.547220 -0.806314  0.784684  2.0\n2010-01-03  0.105139 -1.270087 -1.494131  0.674953  2.0",
      "text/html": "<div>\n<style scoped>\n    .dataframe tbody tr th:only-of-type {\n        vertical-align: middle;\n    }\n\n    .dataframe tbody tr th {\n        vertical-align: top;\n    }\n\n    .dataframe thead th {\n        text-align: right;\n    }\n</style>\n<table border=\"1\" class=\"dataframe\">\n  <thead>\n    <tr style=\"text-align: right;\">\n      <th></th>\n      <th>A</th>\n      <th>B</th>\n      <th>C</th>\n      <th>D</th>\n      <th>E</th>\n    </tr>\n  </thead>\n  <tbody>\n    <tr>\n      <th>2010-01-02</th>\n      <td>-1.338479</td>\n      <td>-0.547220</td>\n      <td>-0.806314</td>\n      <td>0.784684</td>\n      <td>2.0</td>\n    </tr>\n    <tr>\n      <th>2010-01-03</th>\n      <td>0.105139</td>\n      <td>-1.270087</td>\n      <td>-1.494131</td>\n      <td>0.674953</td>\n      <td>2.0</td>\n    </tr>\n  </tbody>\n</table>\n</div>"
     },
     "execution_count": 8,
     "metadata": {},
     "output_type": "execute_result"
    }
   ],
   "source": [
    "df1.dropna()"
   ],
   "metadata": {
    "collapsed": false,
    "pycharm": {
     "name": "#%%\n"
    }
   }
  },
  {
   "cell_type": "code",
   "execution_count": 9,
   "outputs": [
    {
     "data": {
      "text/plain": "                   A         B         C         D    E\n2010-01-01 -1.566345  1.383035  1.382587 -1.997936  5.0\n2010-01-02 -1.338479 -0.547220 -0.806314  0.784684  2.0\n2010-01-03  0.105139 -1.270087 -1.494131  0.674953  2.0\n2010-01-04  0.501927  2.008476  1.546199  0.559860  5.0",
      "text/html": "<div>\n<style scoped>\n    .dataframe tbody tr th:only-of-type {\n        vertical-align: middle;\n    }\n\n    .dataframe tbody tr th {\n        vertical-align: top;\n    }\n\n    .dataframe thead th {\n        text-align: right;\n    }\n</style>\n<table border=\"1\" class=\"dataframe\">\n  <thead>\n    <tr style=\"text-align: right;\">\n      <th></th>\n      <th>A</th>\n      <th>B</th>\n      <th>C</th>\n      <th>D</th>\n      <th>E</th>\n    </tr>\n  </thead>\n  <tbody>\n    <tr>\n      <th>2010-01-01</th>\n      <td>-1.566345</td>\n      <td>1.383035</td>\n      <td>1.382587</td>\n      <td>-1.997936</td>\n      <td>5.0</td>\n    </tr>\n    <tr>\n      <th>2010-01-02</th>\n      <td>-1.338479</td>\n      <td>-0.547220</td>\n      <td>-0.806314</td>\n      <td>0.784684</td>\n      <td>2.0</td>\n    </tr>\n    <tr>\n      <th>2010-01-03</th>\n      <td>0.105139</td>\n      <td>-1.270087</td>\n      <td>-1.494131</td>\n      <td>0.674953</td>\n      <td>2.0</td>\n    </tr>\n    <tr>\n      <th>2010-01-04</th>\n      <td>0.501927</td>\n      <td>2.008476</td>\n      <td>1.546199</td>\n      <td>0.559860</td>\n      <td>5.0</td>\n    </tr>\n  </tbody>\n</table>\n</div>"
     },
     "execution_count": 9,
     "metadata": {},
     "output_type": "execute_result"
    }
   ],
   "source": [
    "df1.fillna(value=5)"
   ],
   "metadata": {
    "collapsed": false,
    "pycharm": {
     "name": "#%%\n"
    }
   }
  },
  {
   "cell_type": "code",
   "execution_count": 11,
   "outputs": [
    {
     "data": {
      "text/plain": "                A      B      C      D      E\n2010-01-01  False  False  False  False   True\n2010-01-02  False  False  False  False  False\n2010-01-03  False  False  False  False  False\n2010-01-04  False  False  False  False   True",
      "text/html": "<div>\n<style scoped>\n    .dataframe tbody tr th:only-of-type {\n        vertical-align: middle;\n    }\n\n    .dataframe tbody tr th {\n        vertical-align: top;\n    }\n\n    .dataframe thead th {\n        text-align: right;\n    }\n</style>\n<table border=\"1\" class=\"dataframe\">\n  <thead>\n    <tr style=\"text-align: right;\">\n      <th></th>\n      <th>A</th>\n      <th>B</th>\n      <th>C</th>\n      <th>D</th>\n      <th>E</th>\n    </tr>\n  </thead>\n  <tbody>\n    <tr>\n      <th>2010-01-01</th>\n      <td>False</td>\n      <td>False</td>\n      <td>False</td>\n      <td>False</td>\n      <td>True</td>\n    </tr>\n    <tr>\n      <th>2010-01-02</th>\n      <td>False</td>\n      <td>False</td>\n      <td>False</td>\n      <td>False</td>\n      <td>False</td>\n    </tr>\n    <tr>\n      <th>2010-01-03</th>\n      <td>False</td>\n      <td>False</td>\n      <td>False</td>\n      <td>False</td>\n      <td>False</td>\n    </tr>\n    <tr>\n      <th>2010-01-04</th>\n      <td>False</td>\n      <td>False</td>\n      <td>False</td>\n      <td>False</td>\n      <td>True</td>\n    </tr>\n  </tbody>\n</table>\n</div>"
     },
     "execution_count": 11,
     "metadata": {},
     "output_type": "execute_result"
    }
   ],
   "source": [
    "pd.isnull(df1)"
   ],
   "metadata": {
    "collapsed": false,
    "pycharm": {
     "name": "#%%\n"
    }
   }
  },
  {
   "cell_type": "code",
   "execution_count": 15,
   "outputs": [
    {
     "data": {
      "text/plain": "A   -0.574439\nB    0.393551\nC    0.157085\nD    0.005390\nE    2.000000\ndtype: float64"
     },
     "execution_count": 15,
     "metadata": {},
     "output_type": "execute_result"
    }
   ],
   "source": [
    "df1.loc[dates[1:3], 'E'] = 2\n",
    "df1"
   ],
   "metadata": {
    "collapsed": false,
    "pycharm": {
     "name": "#%%\n"
    }
   }
  },
  {
   "cell_type": "code",
   "execution_count": 16,
   "outputs": [
    {
     "data": {
      "text/plain": "A   -0.574439\nB    0.393551\nC    0.157085\nD    0.005390\nE    2.000000\ndtype: float64"
     },
     "execution_count": 16,
     "metadata": {},
     "output_type": "execute_result"
    }
   ],
   "source": [
    "df1.mean()\n",
    "# NaN participate in calculations"
   ],
   "metadata": {
    "collapsed": false,
    "pycharm": {
     "name": "#%%\n"
    }
   }
  },
  {
   "cell_type": "code",
   "execution_count": 18,
   "outputs": [
    {
     "data": {
      "text/plain": "2010-01-01   -0.199665\n2010-01-02    0.018534\n2010-01-03    0.003175\n2010-01-04    1.154115\nFreq: D, dtype: float64"
     },
     "execution_count": 18,
     "metadata": {},
     "output_type": "execute_result"
    }
   ],
   "source": [
    "df1.mean(axis=1)\n",
    "# axis contrast"
   ],
   "metadata": {
    "collapsed": false,
    "pycharm": {
     "name": "#%%\n"
    }
   }
  },
  {
   "cell_type": "code",
   "execution_count": 17,
   "outputs": [
    {
     "data": {
      "text/plain": "                   A         B         C         D    E\n2010-01-01 -1.566345  1.383035  1.382587 -1.997936  NaN\n2010-01-02 -2.904824  0.835815  0.576274 -1.213253  2.0\n2010-01-03 -2.799685 -0.434272 -0.917857 -0.538300  4.0\n2010-01-04 -2.297758  1.574204  0.628342  0.021560  NaN",
      "text/html": "<div>\n<style scoped>\n    .dataframe tbody tr th:only-of-type {\n        vertical-align: middle;\n    }\n\n    .dataframe tbody tr th {\n        vertical-align: top;\n    }\n\n    .dataframe thead th {\n        text-align: right;\n    }\n</style>\n<table border=\"1\" class=\"dataframe\">\n  <thead>\n    <tr style=\"text-align: right;\">\n      <th></th>\n      <th>A</th>\n      <th>B</th>\n      <th>C</th>\n      <th>D</th>\n      <th>E</th>\n    </tr>\n  </thead>\n  <tbody>\n    <tr>\n      <th>2010-01-01</th>\n      <td>-1.566345</td>\n      <td>1.383035</td>\n      <td>1.382587</td>\n      <td>-1.997936</td>\n      <td>NaN</td>\n    </tr>\n    <tr>\n      <th>2010-01-02</th>\n      <td>-2.904824</td>\n      <td>0.835815</td>\n      <td>0.576274</td>\n      <td>-1.213253</td>\n      <td>2.0</td>\n    </tr>\n    <tr>\n      <th>2010-01-03</th>\n      <td>-2.799685</td>\n      <td>-0.434272</td>\n      <td>-0.917857</td>\n      <td>-0.538300</td>\n      <td>4.0</td>\n    </tr>\n    <tr>\n      <th>2010-01-04</th>\n      <td>-2.297758</td>\n      <td>1.574204</td>\n      <td>0.628342</td>\n      <td>0.021560</td>\n      <td>NaN</td>\n    </tr>\n  </tbody>\n</table>\n</div>"
     },
     "execution_count": 17,
     "metadata": {},
     "output_type": "execute_result"
    }
   ],
   "source": [
    "# 累计\n",
    "df1.cumsum()"
   ],
   "metadata": {
    "collapsed": false,
    "pycharm": {
     "name": "#%%\n"
    }
   }
  },
  {
   "cell_type": "code",
   "execution_count": 25,
   "outputs": [
    {
     "data": {
      "text/plain": "2010-01-01    NaN\n2010-01-02    NaN\n2010-01-03    1.0\n2010-01-04    3.0\n2010-01-05    4.0\n2010-01-06    NaN\nFreq: D, dtype: float64"
     },
     "execution_count": 25,
     "metadata": {},
     "output_type": "execute_result"
    }
   ],
   "source": [
    "s = pd.Series([1,3,4,np.nan,6,9],index=dates).shift(2)\n",
    "s\n",
    "# shift() data is shifted upward or downward"
   ],
   "metadata": {
    "collapsed": false,
    "pycharm": {
     "name": "#%%\n"
    }
   }
  },
  {
   "cell_type": "code",
   "execution_count": 32,
   "outputs": [
    {
     "data": {
      "text/plain": "                   A         B         C         D\n2010-01-01       NaN       NaN       NaN       NaN\n2010-01-02       NaN       NaN       NaN       NaN\n2010-01-03 -0.894861 -2.270087 -2.494131 -0.325047\n2010-01-04 -2.498073 -0.991524 -1.453801 -2.440140\n2010-01-05 -4.153110 -4.233740 -1.738601 -4.434355\n2010-01-06       NaN       NaN       NaN       NaN",
      "text/html": "<div>\n<style scoped>\n    .dataframe tbody tr th:only-of-type {\n        vertical-align: middle;\n    }\n\n    .dataframe tbody tr th {\n        vertical-align: top;\n    }\n\n    .dataframe thead th {\n        text-align: right;\n    }\n</style>\n<table border=\"1\" class=\"dataframe\">\n  <thead>\n    <tr style=\"text-align: right;\">\n      <th></th>\n      <th>A</th>\n      <th>B</th>\n      <th>C</th>\n      <th>D</th>\n    </tr>\n  </thead>\n  <tbody>\n    <tr>\n      <th>2010-01-01</th>\n      <td>NaN</td>\n      <td>NaN</td>\n      <td>NaN</td>\n      <td>NaN</td>\n    </tr>\n    <tr>\n      <th>2010-01-02</th>\n      <td>NaN</td>\n      <td>NaN</td>\n      <td>NaN</td>\n      <td>NaN</td>\n    </tr>\n    <tr>\n      <th>2010-01-03</th>\n      <td>-0.894861</td>\n      <td>-2.270087</td>\n      <td>-2.494131</td>\n      <td>-0.325047</td>\n    </tr>\n    <tr>\n      <th>2010-01-04</th>\n      <td>-2.498073</td>\n      <td>-0.991524</td>\n      <td>-1.453801</td>\n      <td>-2.440140</td>\n    </tr>\n    <tr>\n      <th>2010-01-05</th>\n      <td>-4.153110</td>\n      <td>-4.233740</td>\n      <td>-1.738601</td>\n      <td>-4.434355</td>\n    </tr>\n    <tr>\n      <th>2010-01-06</th>\n      <td>NaN</td>\n      <td>NaN</td>\n      <td>NaN</td>\n      <td>NaN</td>\n    </tr>\n  </tbody>\n</table>\n</div>"
     },
     "execution_count": 32,
     "metadata": {},
     "output_type": "execute_result"
    }
   ],
   "source": [
    "# subtraction\n",
    "df.sub(s, axis='index')"
   ],
   "metadata": {
    "collapsed": false,
    "pycharm": {
     "name": "#%%\n"
    }
   }
  },
  {
   "cell_type": "code",
   "execution_count": 34,
   "outputs": [
    {
     "data": {
      "text/plain": "                   A         B         C         D\n2010-01-01 -1.566345  1.383035  1.382587 -1.997936\n2010-01-02 -2.904824  0.835815  0.576274 -1.213253\n2010-01-03 -2.799685 -0.434272 -0.917857 -0.538300\n2010-01-04 -2.297758  1.574204  0.628342  0.021560\n2010-01-05 -2.450867  1.340464  2.889741 -0.412796\n2010-01-06 -2.836967  0.882138  3.960869 -0.649252",
      "text/html": "<div>\n<style scoped>\n    .dataframe tbody tr th:only-of-type {\n        vertical-align: middle;\n    }\n\n    .dataframe tbody tr th {\n        vertical-align: top;\n    }\n\n    .dataframe thead th {\n        text-align: right;\n    }\n</style>\n<table border=\"1\" class=\"dataframe\">\n  <thead>\n    <tr style=\"text-align: right;\">\n      <th></th>\n      <th>A</th>\n      <th>B</th>\n      <th>C</th>\n      <th>D</th>\n    </tr>\n  </thead>\n  <tbody>\n    <tr>\n      <th>2010-01-01</th>\n      <td>-1.566345</td>\n      <td>1.383035</td>\n      <td>1.382587</td>\n      <td>-1.997936</td>\n    </tr>\n    <tr>\n      <th>2010-01-02</th>\n      <td>-2.904824</td>\n      <td>0.835815</td>\n      <td>0.576274</td>\n      <td>-1.213253</td>\n    </tr>\n    <tr>\n      <th>2010-01-03</th>\n      <td>-2.799685</td>\n      <td>-0.434272</td>\n      <td>-0.917857</td>\n      <td>-0.538300</td>\n    </tr>\n    <tr>\n      <th>2010-01-04</th>\n      <td>-2.297758</td>\n      <td>1.574204</td>\n      <td>0.628342</td>\n      <td>0.021560</td>\n    </tr>\n    <tr>\n      <th>2010-01-05</th>\n      <td>-2.450867</td>\n      <td>1.340464</td>\n      <td>2.889741</td>\n      <td>-0.412796</td>\n    </tr>\n    <tr>\n      <th>2010-01-06</th>\n      <td>-2.836967</td>\n      <td>0.882138</td>\n      <td>3.960869</td>\n      <td>-0.649252</td>\n    </tr>\n  </tbody>\n</table>\n</div>"
     },
     "execution_count": 34,
     "metadata": {},
     "output_type": "execute_result"
    }
   ],
   "source": [
    "# accumulate\n",
    "# act on columns\n",
    "df.apply(np.cumsum)"
   ],
   "metadata": {
    "collapsed": false,
    "pycharm": {
     "name": "#%%\n"
    }
   }
  },
  {
   "cell_type": "code",
   "execution_count": 35,
   "outputs": [
    {
     "data": {
      "text/plain": "A    2.068272\nB    3.278563\nC    3.755530\nD    2.782620\ndtype: float64"
     },
     "execution_count": 35,
     "metadata": {},
     "output_type": "execute_result"
    }
   ],
   "source": [
    "df.apply(lambda x : x.max()-x.min())"
   ],
   "metadata": {
    "collapsed": false,
    "pycharm": {
     "name": "#%%\n"
    }
   }
  },
  {
   "cell_type": "code",
   "execution_count": 37,
   "outputs": [
    {
     "name": "stdout",
     "output_type": "stream",
     "text": [
      "<class 'pandas.core.series.Series'>\n",
      "<class 'pandas.core.series.Series'>\n",
      "<class 'pandas.core.series.Series'>\n",
      "<class 'pandas.core.series.Series'>\n"
     ]
    },
    {
     "data": {
      "text/plain": "A   -2.836967\nB    0.882138\nC    3.960869\nD   -0.649252\ndtype: float64"
     },
     "execution_count": 37,
     "metadata": {},
     "output_type": "execute_result"
    }
   ],
   "source": [
    "def _sum(x):\n",
    "    print(type(x))\n",
    "    return x.sum()\n",
    "df.apply(_sum)"
   ],
   "metadata": {
    "collapsed": false,
    "pycharm": {
     "name": "#%%\n"
    }
   }
  },
  {
   "cell_type": "code",
   "execution_count": 47,
   "outputs": [
    {
     "data": {
      "text/plain": "0     10\n1     10\n2     19\n3     14\n4     19\n5     12\n6     11\n7     10\n8     13\n9     16\n10    18\n11    13\n12    13\n13    10\n14    16\n15    15\n16    19\n17    12\n18    19\n19    17\ndtype: int64"
     },
     "execution_count": 47,
     "metadata": {},
     "output_type": "execute_result"
    }
   ],
   "source": [
    "s = pd.Series(np.random.randint(10,20,size=20))\n",
    "s"
   ],
   "metadata": {
    "collapsed": false,
    "pycharm": {
     "name": "#%%\n"
    }
   }
  },
  {
   "cell_type": "code",
   "execution_count": 48,
   "outputs": [
    {
     "data": {
      "text/plain": "19    4\n10    4\n13    3\n16    2\n12    2\n18    1\n17    1\n15    1\n14    1\n11    1\ndtype: int64"
     },
     "execution_count": 48,
     "metadata": {},
     "output_type": "execute_result"
    }
   ],
   "source": [
    "s.value_counts()"
   ],
   "metadata": {
    "collapsed": false,
    "pycharm": {
     "name": "#%%\n"
    }
   }
  },
  {
   "cell_type": "code",
   "execution_count": 49,
   "outputs": [
    {
     "data": {
      "text/plain": "0    10\n1    19\ndtype: int64"
     },
     "execution_count": 49,
     "metadata": {},
     "output_type": "execute_result"
    }
   ],
   "source": [
    "s.mode()"
   ],
   "metadata": {
    "collapsed": false,
    "pycharm": {
     "name": "#%%\n"
    }
   }
  },
  {
   "cell_type": "code",
   "execution_count": 3,
   "outputs": [
    {
     "data": {
      "text/plain": "          A         B         C         D\n0  0.293722  0.941057  1.318273 -0.611039\n1 -1.003853 -0.165594  1.329508  0.019507\n2  0.550339  1.321888  0.962718 -0.662366\n3 -0.026428  1.476260 -0.833723 -1.982850\n4  0.190968  1.045765  0.721781 -1.604059\n5 -0.237403  1.013374  0.079837 -1.110158\n6  0.269763  1.072155 -0.643350  0.722202\n7  2.239495  0.106453  0.250099  0.475875\n8 -0.627645  0.479200 -0.256033  1.543641\n9  0.397674 -0.757901 -0.246991 -0.457452",
      "text/html": "<div>\n<style scoped>\n    .dataframe tbody tr th:only-of-type {\n        vertical-align: middle;\n    }\n\n    .dataframe tbody tr th {\n        vertical-align: top;\n    }\n\n    .dataframe thead th {\n        text-align: right;\n    }\n</style>\n<table border=\"1\" class=\"dataframe\">\n  <thead>\n    <tr style=\"text-align: right;\">\n      <th></th>\n      <th>A</th>\n      <th>B</th>\n      <th>C</th>\n      <th>D</th>\n    </tr>\n  </thead>\n  <tbody>\n    <tr>\n      <th>0</th>\n      <td>0.293722</td>\n      <td>0.941057</td>\n      <td>1.318273</td>\n      <td>-0.611039</td>\n    </tr>\n    <tr>\n      <th>1</th>\n      <td>-1.003853</td>\n      <td>-0.165594</td>\n      <td>1.329508</td>\n      <td>0.019507</td>\n    </tr>\n    <tr>\n      <th>2</th>\n      <td>0.550339</td>\n      <td>1.321888</td>\n      <td>0.962718</td>\n      <td>-0.662366</td>\n    </tr>\n    <tr>\n      <th>3</th>\n      <td>-0.026428</td>\n      <td>1.476260</td>\n      <td>-0.833723</td>\n      <td>-1.982850</td>\n    </tr>\n    <tr>\n      <th>4</th>\n      <td>0.190968</td>\n      <td>1.045765</td>\n      <td>0.721781</td>\n      <td>-1.604059</td>\n    </tr>\n    <tr>\n      <th>5</th>\n      <td>-0.237403</td>\n      <td>1.013374</td>\n      <td>0.079837</td>\n      <td>-1.110158</td>\n    </tr>\n    <tr>\n      <th>6</th>\n      <td>0.269763</td>\n      <td>1.072155</td>\n      <td>-0.643350</td>\n      <td>0.722202</td>\n    </tr>\n    <tr>\n      <th>7</th>\n      <td>2.239495</td>\n      <td>0.106453</td>\n      <td>0.250099</td>\n      <td>0.475875</td>\n    </tr>\n    <tr>\n      <th>8</th>\n      <td>-0.627645</td>\n      <td>0.479200</td>\n      <td>-0.256033</td>\n      <td>1.543641</td>\n    </tr>\n    <tr>\n      <th>9</th>\n      <td>0.397674</td>\n      <td>-0.757901</td>\n      <td>-0.246991</td>\n      <td>-0.457452</td>\n    </tr>\n  </tbody>\n</table>\n</div>"
     },
     "execution_count": 3,
     "metadata": {},
     "output_type": "execute_result"
    }
   ],
   "source": [
    "df = pd.DataFrame(np.random.randn(10,4),columns=list('ABCD'))\n",
    "df"
   ],
   "metadata": {
    "collapsed": false,
    "pycharm": {
     "name": "#%%\n"
    }
   }
  },
  {
   "cell_type": "code",
   "execution_count": 55,
   "outputs": [
    {
     "data": {
      "text/plain": "          A         B         C         D\n7  0.513568  1.119992  1.082130 -0.598657\n8 -0.757952 -1.046412 -0.132164 -0.178228\n9  1.203935 -0.024309  0.566863  0.121778",
      "text/html": "<div>\n<style scoped>\n    .dataframe tbody tr th:only-of-type {\n        vertical-align: middle;\n    }\n\n    .dataframe tbody tr th {\n        vertical-align: top;\n    }\n\n    .dataframe thead th {\n        text-align: right;\n    }\n</style>\n<table border=\"1\" class=\"dataframe\">\n  <thead>\n    <tr style=\"text-align: right;\">\n      <th></th>\n      <th>A</th>\n      <th>B</th>\n      <th>C</th>\n      <th>D</th>\n    </tr>\n  </thead>\n  <tbody>\n    <tr>\n      <th>7</th>\n      <td>0.513568</td>\n      <td>1.119992</td>\n      <td>1.082130</td>\n      <td>-0.598657</td>\n    </tr>\n    <tr>\n      <th>8</th>\n      <td>-0.757952</td>\n      <td>-1.046412</td>\n      <td>-0.132164</td>\n      <td>-0.178228</td>\n    </tr>\n    <tr>\n      <th>9</th>\n      <td>1.203935</td>\n      <td>-0.024309</td>\n      <td>0.566863</td>\n      <td>0.121778</td>\n    </tr>\n  </tbody>\n</table>\n</div>"
     },
     "execution_count": 55,
     "metadata": {},
     "output_type": "execute_result"
    }
   ],
   "source": [
    "df.iloc[1:3]\n",
    "df.iloc[3:7]\n",
    "df.iloc[7:]"
   ],
   "metadata": {
    "collapsed": false,
    "pycharm": {
     "name": "#%%\n"
    }
   }
  },
  {
   "cell_type": "code",
   "execution_count": null,
   "outputs": [],
   "source": [
    "df.iloc[:,[5,6,11]]"
   ],
   "metadata": {
    "collapsed": false,
    "pycharm": {
     "name": "#%%\n"
    }
   }
  },
  {
   "cell_type": "code",
   "execution_count": 4,
   "outputs": [
    {
     "data": {
      "text/plain": "          A         B         C         D\n0  0.293722  0.941057  1.318273 -0.611039\n1 -1.003853 -0.165594  1.329508  0.019507\n2  0.550339  1.321888  0.962718 -0.662366\n3 -0.026428  1.476260 -0.833723 -1.982850\n4  0.190968  1.045765  0.721781 -1.604059\n5 -0.237403  1.013374  0.079837 -1.110158\n6  0.269763  1.072155 -0.643350  0.722202\n7  2.239495  0.106453  0.250099  0.475875\n8 -0.627645  0.479200 -0.256033  1.543641\n9  0.397674 -0.757901 -0.246991 -0.457452",
      "text/html": "<div>\n<style scoped>\n    .dataframe tbody tr th:only-of-type {\n        vertical-align: middle;\n    }\n\n    .dataframe tbody tr th {\n        vertical-align: top;\n    }\n\n    .dataframe thead th {\n        text-align: right;\n    }\n</style>\n<table border=\"1\" class=\"dataframe\">\n  <thead>\n    <tr style=\"text-align: right;\">\n      <th></th>\n      <th>A</th>\n      <th>B</th>\n      <th>C</th>\n      <th>D</th>\n    </tr>\n  </thead>\n  <tbody>\n    <tr>\n      <th>0</th>\n      <td>0.293722</td>\n      <td>0.941057</td>\n      <td>1.318273</td>\n      <td>-0.611039</td>\n    </tr>\n    <tr>\n      <th>1</th>\n      <td>-1.003853</td>\n      <td>-0.165594</td>\n      <td>1.329508</td>\n      <td>0.019507</td>\n    </tr>\n    <tr>\n      <th>2</th>\n      <td>0.550339</td>\n      <td>1.321888</td>\n      <td>0.962718</td>\n      <td>-0.662366</td>\n    </tr>\n    <tr>\n      <th>3</th>\n      <td>-0.026428</td>\n      <td>1.476260</td>\n      <td>-0.833723</td>\n      <td>-1.982850</td>\n    </tr>\n    <tr>\n      <th>4</th>\n      <td>0.190968</td>\n      <td>1.045765</td>\n      <td>0.721781</td>\n      <td>-1.604059</td>\n    </tr>\n    <tr>\n      <th>5</th>\n      <td>-0.237403</td>\n      <td>1.013374</td>\n      <td>0.079837</td>\n      <td>-1.110158</td>\n    </tr>\n    <tr>\n      <th>6</th>\n      <td>0.269763</td>\n      <td>1.072155</td>\n      <td>-0.643350</td>\n      <td>0.722202</td>\n    </tr>\n    <tr>\n      <th>7</th>\n      <td>2.239495</td>\n      <td>0.106453</td>\n      <td>0.250099</td>\n      <td>0.475875</td>\n    </tr>\n    <tr>\n      <th>8</th>\n      <td>-0.627645</td>\n      <td>0.479200</td>\n      <td>-0.256033</td>\n      <td>1.543641</td>\n    </tr>\n    <tr>\n      <th>9</th>\n      <td>0.397674</td>\n      <td>-0.757901</td>\n      <td>-0.246991</td>\n      <td>-0.457452</td>\n    </tr>\n  </tbody>\n</table>\n</div>"
     },
     "execution_count": 4,
     "metadata": {},
     "output_type": "execute_result"
    }
   ],
   "source": [
    "# df1 = pd.concat([df.iloc[:3],df.iloc[3:7],df.iloc[7:]],axis=1)\n",
    "df1 = pd.concat([df.iloc[:3],df.iloc[3:7],df.iloc[7:]],axis=0)\n",
    "df1"
   ],
   "metadata": {
    "collapsed": false,
    "pycharm": {
     "name": "#%%\n"
    }
   }
  },
  {
   "cell_type": "code",
   "execution_count": 5,
   "outputs": [
    {
     "data": {
      "text/plain": "      A     B     C     D\n0  True  True  True  True\n1  True  True  True  True\n2  True  True  True  True\n3  True  True  True  True\n4  True  True  True  True\n5  True  True  True  True\n6  True  True  True  True\n7  True  True  True  True\n8  True  True  True  True\n9  True  True  True  True",
      "text/html": "<div>\n<style scoped>\n    .dataframe tbody tr th:only-of-type {\n        vertical-align: middle;\n    }\n\n    .dataframe tbody tr th {\n        vertical-align: top;\n    }\n\n    .dataframe thead th {\n        text-align: right;\n    }\n</style>\n<table border=\"1\" class=\"dataframe\">\n  <thead>\n    <tr style=\"text-align: right;\">\n      <th></th>\n      <th>A</th>\n      <th>B</th>\n      <th>C</th>\n      <th>D</th>\n    </tr>\n  </thead>\n  <tbody>\n    <tr>\n      <th>0</th>\n      <td>True</td>\n      <td>True</td>\n      <td>True</td>\n      <td>True</td>\n    </tr>\n    <tr>\n      <th>1</th>\n      <td>True</td>\n      <td>True</td>\n      <td>True</td>\n      <td>True</td>\n    </tr>\n    <tr>\n      <th>2</th>\n      <td>True</td>\n      <td>True</td>\n      <td>True</td>\n      <td>True</td>\n    </tr>\n    <tr>\n      <th>3</th>\n      <td>True</td>\n      <td>True</td>\n      <td>True</td>\n      <td>True</td>\n    </tr>\n    <tr>\n      <th>4</th>\n      <td>True</td>\n      <td>True</td>\n      <td>True</td>\n      <td>True</td>\n    </tr>\n    <tr>\n      <th>5</th>\n      <td>True</td>\n      <td>True</td>\n      <td>True</td>\n      <td>True</td>\n    </tr>\n    <tr>\n      <th>6</th>\n      <td>True</td>\n      <td>True</td>\n      <td>True</td>\n      <td>True</td>\n    </tr>\n    <tr>\n      <th>7</th>\n      <td>True</td>\n      <td>True</td>\n      <td>True</td>\n      <td>True</td>\n    </tr>\n    <tr>\n      <th>8</th>\n      <td>True</td>\n      <td>True</td>\n      <td>True</td>\n      <td>True</td>\n    </tr>\n    <tr>\n      <th>9</th>\n      <td>True</td>\n      <td>True</td>\n      <td>True</td>\n      <td>True</td>\n    </tr>\n  </tbody>\n</table>\n</div>"
     },
     "execution_count": 5,
     "metadata": {},
     "output_type": "execute_result"
    }
   ],
   "source": [
    "df == df1"
   ],
   "metadata": {
    "collapsed": false,
    "pycharm": {
     "name": "#%%\n"
    }
   }
  },
  {
   "cell_type": "code",
   "execution_count": 9,
   "outputs": [
    {
     "data": {
      "text/plain": "A    True\nB    True\nC    True\nD    True\ndtype: bool"
     },
     "execution_count": 9,
     "metadata": {},
     "output_type": "execute_result"
    }
   ],
   "source": [
    "(df == df1).all()"
   ],
   "metadata": {
    "collapsed": false,
    "pycharm": {
     "name": "#%%\n"
    }
   }
  },
  {
   "cell_type": "code",
   "execution_count": 61,
   "outputs": [
    {
     "data": {
      "text/plain": "True"
     },
     "execution_count": 61,
     "metadata": {},
     "output_type": "execute_result"
    }
   ],
   "source": [
    "(df == df1).all().all()"
   ],
   "metadata": {
    "collapsed": false,
    "pycharm": {
     "name": "#%%\n"
    }
   }
  },
  {
   "cell_type": "code",
   "execution_count": 86,
   "outputs": [],
   "source": [
    "left = pd.DataFrame({'key':['foo','foo1'], 'lval':[1,2]})\n",
    "right = pd.DataFrame({'key':['foo','foo1'],'rval':[1,22]})"
   ],
   "metadata": {
    "collapsed": false,
    "pycharm": {
     "name": "#%%\n"
    }
   }
  },
  {
   "cell_type": "code",
   "execution_count": 87,
   "outputs": [
    {
     "data": {
      "text/plain": "    key  lval\n0   foo     1\n1  foo1     2",
      "text/html": "<div>\n<style scoped>\n    .dataframe tbody tr th:only-of-type {\n        vertical-align: middle;\n    }\n\n    .dataframe tbody tr th {\n        vertical-align: top;\n    }\n\n    .dataframe thead th {\n        text-align: right;\n    }\n</style>\n<table border=\"1\" class=\"dataframe\">\n  <thead>\n    <tr style=\"text-align: right;\">\n      <th></th>\n      <th>key</th>\n      <th>lval</th>\n    </tr>\n  </thead>\n  <tbody>\n    <tr>\n      <th>0</th>\n      <td>foo</td>\n      <td>1</td>\n    </tr>\n    <tr>\n      <th>1</th>\n      <td>foo1</td>\n      <td>2</td>\n    </tr>\n  </tbody>\n</table>\n</div>"
     },
     "execution_count": 87,
     "metadata": {},
     "output_type": "execute_result"
    }
   ],
   "source": [
    "left"
   ],
   "metadata": {
    "collapsed": false,
    "pycharm": {
     "name": "#%%\n"
    }
   }
  },
  {
   "cell_type": "code",
   "execution_count": 88,
   "outputs": [
    {
     "data": {
      "text/plain": "    key  rval\n0   foo     1\n1  foo1    22",
      "text/html": "<div>\n<style scoped>\n    .dataframe tbody tr th:only-of-type {\n        vertical-align: middle;\n    }\n\n    .dataframe tbody tr th {\n        vertical-align: top;\n    }\n\n    .dataframe thead th {\n        text-align: right;\n    }\n</style>\n<table border=\"1\" class=\"dataframe\">\n  <thead>\n    <tr style=\"text-align: right;\">\n      <th></th>\n      <th>key</th>\n      <th>rval</th>\n    </tr>\n  </thead>\n  <tbody>\n    <tr>\n      <th>0</th>\n      <td>foo</td>\n      <td>1</td>\n    </tr>\n    <tr>\n      <th>1</th>\n      <td>foo1</td>\n      <td>22</td>\n    </tr>\n  </tbody>\n</table>\n</div>"
     },
     "execution_count": 88,
     "metadata": {},
     "output_type": "execute_result"
    }
   ],
   "source": [
    "\n",
    "right"
   ],
   "metadata": {
    "collapsed": false,
    "pycharm": {
     "name": "#%%\n"
    }
   }
  },
  {
   "cell_type": "code",
   "execution_count": 89,
   "outputs": [
    {
     "data": {
      "text/plain": "    key  lval  rval\n0   foo     1     1\n1  foo1     2    22",
      "text/html": "<div>\n<style scoped>\n    .dataframe tbody tr th:only-of-type {\n        vertical-align: middle;\n    }\n\n    .dataframe tbody tr th {\n        vertical-align: top;\n    }\n\n    .dataframe thead th {\n        text-align: right;\n    }\n</style>\n<table border=\"1\" class=\"dataframe\">\n  <thead>\n    <tr style=\"text-align: right;\">\n      <th></th>\n      <th>key</th>\n      <th>lval</th>\n      <th>rval</th>\n    </tr>\n  </thead>\n  <tbody>\n    <tr>\n      <th>0</th>\n      <td>foo</td>\n      <td>1</td>\n      <td>1</td>\n    </tr>\n    <tr>\n      <th>1</th>\n      <td>foo1</td>\n      <td>2</td>\n      <td>22</td>\n    </tr>\n  </tbody>\n</table>\n</div>"
     },
     "execution_count": 89,
     "metadata": {},
     "output_type": "execute_result"
    }
   ],
   "source": [
    "# select * from left inner join right on left.key = right.key;\n",
    "pd.merge(left, right,on='key')"
   ],
   "metadata": {
    "collapsed": false,
    "pycharm": {
     "name": "#%%\n"
    }
   }
  },
  {
   "cell_type": "code",
   "execution_count": 101,
   "outputs": [],
   "source": [
    "# s = pd.Series(np.random.randint(1,5,size=5),index=list('ABCDE'))\n",
    "s = pd.Series(np.random.randint(1,5,size=4),index=list('ABCD'))"
   ],
   "metadata": {
    "collapsed": false,
    "pycharm": {
     "name": "#%%\n"
    }
   }
  },
  {
   "cell_type": "code",
   "execution_count": null,
   "outputs": [],
   "source": [
    "ss = df.append(s[:],ignore_index=True)\n",
    "ss"
   ],
   "metadata": {
    "collapsed": false,
    "pycharm": {
     "name": "#%%\n"
    }
   }
  },
  {
   "cell_type": "code",
   "execution_count": 103,
   "outputs": [
    {
     "data": {
      "text/plain": "           A         B         C         D\n0   0.197251  0.572832 -0.035581 -0.694512\n1  -2.744270  0.477255 -0.782073  0.162415\n2  -0.109718  0.003444  0.041812 -0.549652\n3  -0.638800 -1.413551  1.443593 -0.142349\n4   0.243283 -0.817364 -0.369052 -0.196774\n5  -0.461708 -0.648421  0.736560  1.327170\n6  -1.880749  0.849611  1.293057  0.823361\n7   0.513568  1.119992  1.082130 -0.598657\n8  -0.757952 -1.046412 -0.132164 -0.178228\n9   1.203935 -0.024309  0.566863  0.121778\n10  2.000000  1.000000  2.000000  2.000000",
      "text/html": "<div>\n<style scoped>\n    .dataframe tbody tr th:only-of-type {\n        vertical-align: middle;\n    }\n\n    .dataframe tbody tr th {\n        vertical-align: top;\n    }\n\n    .dataframe thead th {\n        text-align: right;\n    }\n</style>\n<table border=\"1\" class=\"dataframe\">\n  <thead>\n    <tr style=\"text-align: right;\">\n      <th></th>\n      <th>A</th>\n      <th>B</th>\n      <th>C</th>\n      <th>D</th>\n    </tr>\n  </thead>\n  <tbody>\n    <tr>\n      <th>0</th>\n      <td>0.197251</td>\n      <td>0.572832</td>\n      <td>-0.035581</td>\n      <td>-0.694512</td>\n    </tr>\n    <tr>\n      <th>1</th>\n      <td>-2.744270</td>\n      <td>0.477255</td>\n      <td>-0.782073</td>\n      <td>0.162415</td>\n    </tr>\n    <tr>\n      <th>2</th>\n      <td>-0.109718</td>\n      <td>0.003444</td>\n      <td>0.041812</td>\n      <td>-0.549652</td>\n    </tr>\n    <tr>\n      <th>3</th>\n      <td>-0.638800</td>\n      <td>-1.413551</td>\n      <td>1.443593</td>\n      <td>-0.142349</td>\n    </tr>\n    <tr>\n      <th>4</th>\n      <td>0.243283</td>\n      <td>-0.817364</td>\n      <td>-0.369052</td>\n      <td>-0.196774</td>\n    </tr>\n    <tr>\n      <th>5</th>\n      <td>-0.461708</td>\n      <td>-0.648421</td>\n      <td>0.736560</td>\n      <td>1.327170</td>\n    </tr>\n    <tr>\n      <th>6</th>\n      <td>-1.880749</td>\n      <td>0.849611</td>\n      <td>1.293057</td>\n      <td>0.823361</td>\n    </tr>\n    <tr>\n      <th>7</th>\n      <td>0.513568</td>\n      <td>1.119992</td>\n      <td>1.082130</td>\n      <td>-0.598657</td>\n    </tr>\n    <tr>\n      <th>8</th>\n      <td>-0.757952</td>\n      <td>-1.046412</td>\n      <td>-0.132164</td>\n      <td>-0.178228</td>\n    </tr>\n    <tr>\n      <th>9</th>\n      <td>1.203935</td>\n      <td>-0.024309</td>\n      <td>0.566863</td>\n      <td>0.121778</td>\n    </tr>\n    <tr>\n      <th>10</th>\n      <td>2.000000</td>\n      <td>1.000000</td>\n      <td>2.000000</td>\n      <td>2.000000</td>\n    </tr>\n  </tbody>\n</table>\n</div>"
     },
     "execution_count": 103,
     "metadata": {},
     "output_type": "execute_result"
    }
   ],
   "source": [
    "df.append(s,ignore_index=True)"
   ],
   "metadata": {
    "collapsed": false,
    "pycharm": {
     "name": "#%%\n"
    }
   }
  },
  {
   "cell_type": "code",
   "execution_count": 121,
   "outputs": [
    {
     "data": {
      "text/plain": "     A   B      C         D\n0  foo   d    one  0.108766\n1  boo  df    two -0.323823\n2  foo   g  three -0.333776\n3  ddd   d   four  0.721252",
      "text/html": "<div>\n<style scoped>\n    .dataframe tbody tr th:only-of-type {\n        vertical-align: middle;\n    }\n\n    .dataframe tbody tr th {\n        vertical-align: top;\n    }\n\n    .dataframe thead th {\n        text-align: right;\n    }\n</style>\n<table border=\"1\" class=\"dataframe\">\n  <thead>\n    <tr style=\"text-align: right;\">\n      <th></th>\n      <th>A</th>\n      <th>B</th>\n      <th>C</th>\n      <th>D</th>\n    </tr>\n  </thead>\n  <tbody>\n    <tr>\n      <th>0</th>\n      <td>foo</td>\n      <td>d</td>\n      <td>one</td>\n      <td>0.108766</td>\n    </tr>\n    <tr>\n      <th>1</th>\n      <td>boo</td>\n      <td>df</td>\n      <td>two</td>\n      <td>-0.323823</td>\n    </tr>\n    <tr>\n      <th>2</th>\n      <td>foo</td>\n      <td>g</td>\n      <td>three</td>\n      <td>-0.333776</td>\n    </tr>\n    <tr>\n      <th>3</th>\n      <td>ddd</td>\n      <td>d</td>\n      <td>four</td>\n      <td>0.721252</td>\n    </tr>\n  </tbody>\n</table>\n</div>"
     },
     "execution_count": 121,
     "metadata": {},
     "output_type": "execute_result"
    }
   ],
   "source": [
    "df = pd.DataFrame({'A':['foo','boo','foo','ddd'],\n",
    "                   'B':['d','df','g','d'],\n",
    "                   'C':['one','two','three','four'],\n",
    "                   'D':np.random.randn(4)})\n",
    "df"
   ],
   "metadata": {
    "collapsed": false,
    "pycharm": {
     "name": "#%%\n"
    }
   }
  },
  {
   "cell_type": "code",
   "execution_count": 122,
   "outputs": [
    {
     "name": "stdout",
     "output_type": "stream",
     "text": [
      "('boo',      A   B    C         D\n",
      "1  boo  df  two -0.323823)\n",
      "('ddd',      A  B     C         D\n",
      "3  ddd  d  four  0.721252)\n",
      "('foo',      A  B      C         D\n",
      "0  foo  d    one  0.108766\n",
      "2  foo  g  three -0.333776)\n"
     ]
    }
   ],
   "source": [
    "d = df.groupby('A')\n",
    "for i in d:\n",
    "    print(i)"
   ],
   "metadata": {
    "collapsed": false,
    "pycharm": {
     "name": "#%%\n"
    }
   }
  },
  {
   "cell_type": "code",
   "execution_count": 123,
   "outputs": [
    {
     "data": {
      "text/plain": "            D\nA            \nboo -0.323823\nddd  0.721252\nfoo -0.225010",
      "text/html": "<div>\n<style scoped>\n    .dataframe tbody tr th:only-of-type {\n        vertical-align: middle;\n    }\n\n    .dataframe tbody tr th {\n        vertical-align: top;\n    }\n\n    .dataframe thead th {\n        text-align: right;\n    }\n</style>\n<table border=\"1\" class=\"dataframe\">\n  <thead>\n    <tr style=\"text-align: right;\">\n      <th></th>\n      <th>D</th>\n    </tr>\n    <tr>\n      <th>A</th>\n      <th></th>\n    </tr>\n  </thead>\n  <tbody>\n    <tr>\n      <th>boo</th>\n      <td>-0.323823</td>\n    </tr>\n    <tr>\n      <th>ddd</th>\n      <td>0.721252</td>\n    </tr>\n    <tr>\n      <th>foo</th>\n      <td>-0.225010</td>\n    </tr>\n  </tbody>\n</table>\n</div>"
     },
     "execution_count": 123,
     "metadata": {},
     "output_type": "execute_result"
    }
   ],
   "source": [
    "df.groupby('A').sum()\n"
   ],
   "metadata": {
    "collapsed": false,
    "pycharm": {
     "name": "#%%\n"
    }
   }
  },
  {
   "cell_type": "code",
   "execution_count": 126,
   "outputs": [
    {
     "data": {
      "text/plain": "               D\nA   B           \nboo df -0.323823\nddd d   0.721252\nfoo d   0.108766\n    g  -0.333776",
      "text/html": "<div>\n<style scoped>\n    .dataframe tbody tr th:only-of-type {\n        vertical-align: middle;\n    }\n\n    .dataframe tbody tr th {\n        vertical-align: top;\n    }\n\n    .dataframe thead th {\n        text-align: right;\n    }\n</style>\n<table border=\"1\" class=\"dataframe\">\n  <thead>\n    <tr style=\"text-align: right;\">\n      <th></th>\n      <th></th>\n      <th>D</th>\n    </tr>\n    <tr>\n      <th>A</th>\n      <th>B</th>\n      <th></th>\n    </tr>\n  </thead>\n  <tbody>\n    <tr>\n      <th>boo</th>\n      <th>df</th>\n      <td>-0.323823</td>\n    </tr>\n    <tr>\n      <th>ddd</th>\n      <th>d</th>\n      <td>0.721252</td>\n    </tr>\n    <tr>\n      <th rowspan=\"2\" valign=\"top\">foo</th>\n      <th>d</th>\n      <td>0.108766</td>\n    </tr>\n    <tr>\n      <th>g</th>\n      <td>-0.333776</td>\n    </tr>\n  </tbody>\n</table>\n</div>"
     },
     "execution_count": 126,
     "metadata": {},
     "output_type": "execute_result"
    }
   ],
   "source": [
    "df.groupby(['A','B']).sum()"
   ],
   "metadata": {
    "collapsed": false,
    "pycharm": {
     "name": "#%%\n"
    }
   }
  },
  {
   "cell_type": "code",
   "execution_count": null,
   "outputs": [],
   "source": [
    "# 匹配特定值所在行\n",
    "\n",
    "import pandas as pd\n",
    "import numpy as np\n",
    "n_rows = 6\n",
    "dates = pd.date_range('20160301', periods=n_rows)\n",
    "df = pd.DataFrame(np.random.randn(n_rows, 4), index=dates, columns=list('ABCD'))\n",
    "df"
   ],
   "metadata": {
    "collapsed": false,
    "pycharm": {
     "name": "#%%\n"
    }
   }
  },
  {
   "cell_type": "code",
   "execution_count": null,
   "outputs": [],
   "source": [
    "df2 = df.copy()\n",
    "df2"
   ],
   "metadata": {
    "collapsed": false,
    "pycharm": {
     "name": "#%%\n"
    }
   }
  },
  {
   "cell_type": "code",
   "execution_count": null,
   "outputs": [],
   "source": [
    "df.A =1\n",
    "df"
   ],
   "metadata": {
    "collapsed": false,
    "pycharm": {
     "name": "#%%\n"
    }
   }
  },
  {
   "cell_type": "code",
   "execution_count": null,
   "outputs": [],
   "source": [
    "df2"
   ],
   "metadata": {
    "collapsed": false,
    "pycharm": {
     "name": "#%%\n"
    }
   }
  },
  {
   "cell_type": "code",
   "execution_count": null,
   "outputs": [],
   "source": [
    "df2.loc[pd.Timestamp('2016-03-08'),:] = 1\n",
    "df2"
   ],
   "metadata": {
    "collapsed": false,
    "pycharm": {
     "name": "#%%\n"
    }
   }
  },
  {
   "cell_type": "code",
   "execution_count": null,
   "outputs": [],
   "source": [
    "df2.A[1]"
   ],
   "metadata": {
    "collapsed": false,
    "pycharm": {
     "name": "#%%\n"
    }
   }
  },
  {
   "cell_type": "code",
   "execution_count": null,
   "outputs": [],
   "source": [
    "df.A.isin([1])"
   ],
   "metadata": {
    "collapsed": false,
    "pycharm": {
     "name": "#%%\n"
    }
   }
  },
  {
   "cell_type": "code",
   "execution_count": null,
   "outputs": [],
   "source": [
    "df[~df.A.isin([1])]"
   ],
   "metadata": {
    "collapsed": false,
    "pycharm": {
     "name": "#%%\n"
    }
   }
  },
  {
   "cell_type": "code",
   "execution_count": 2,
   "outputs": [
    {
     "data": {
      "text/plain": "      A  B  C\nrow0  1  2  3\nrow1  4  5  6\nrow2  7  8  9",
      "text/html": "<div>\n<style scoped>\n    .dataframe tbody tr th:only-of-type {\n        vertical-align: middle;\n    }\n\n    .dataframe tbody tr th {\n        vertical-align: top;\n    }\n\n    .dataframe thead th {\n        text-align: right;\n    }\n</style>\n<table border=\"1\" class=\"dataframe\">\n  <thead>\n    <tr style=\"text-align: right;\">\n      <th></th>\n      <th>A</th>\n      <th>B</th>\n      <th>C</th>\n    </tr>\n  </thead>\n  <tbody>\n    <tr>\n      <th>row0</th>\n      <td>1</td>\n      <td>2</td>\n      <td>3</td>\n    </tr>\n    <tr>\n      <th>row1</th>\n      <td>4</td>\n      <td>5</td>\n      <td>6</td>\n    </tr>\n    <tr>\n      <th>row2</th>\n      <td>7</td>\n      <td>8</td>\n      <td>9</td>\n    </tr>\n  </tbody>\n</table>\n</div>"
     },
     "execution_count": 2,
     "metadata": {},
     "output_type": "execute_result"
    }
   ],
   "source": [
    "# 删除\\选取含有特定数值的行或列\n",
    "a=np.array([[1,2,3],[4,5,6],[7,8,9]])\n",
    "df1=pd.DataFrame(a,index=['row0','row1','row2'],columns=list('ABC'))\n",
    "df2=df1.copy()\n",
    "df2"
   ],
   "metadata": {
    "collapsed": false,
    "pycharm": {
     "name": "#%%\n"
    }
   }
  },
  {
   "cell_type": "code",
   "execution_count": 19,
   "outputs": [
    {
     "data": {
      "text/plain": "6"
     },
     "execution_count": 19,
     "metadata": {},
     "output_type": "execute_result"
    }
   ],
   "source": [],
   "metadata": {
    "collapsed": false,
    "pycharm": {
     "name": "#%%\n"
    }
   }
  },
  {
   "cell_type": "code",
   "execution_count": 14,
   "outputs": [
    {
     "data": {
      "text/plain": "      A  B  C\nrow0  1  2  3\nrow1  4  5  6",
      "text/html": "<div>\n<style scoped>\n    .dataframe tbody tr th:only-of-type {\n        vertical-align: middle;\n    }\n\n    .dataframe tbody tr th {\n        vertical-align: top;\n    }\n\n    .dataframe thead th {\n        text-align: right;\n    }\n</style>\n<table border=\"1\" class=\"dataframe\">\n  <thead>\n    <tr style=\"text-align: right;\">\n      <th></th>\n      <th>A</th>\n      <th>B</th>\n      <th>C</th>\n    </tr>\n  </thead>\n  <tbody>\n    <tr>\n      <th>row0</th>\n      <td>1</td>\n      <td>2</td>\n      <td>3</td>\n    </tr>\n    <tr>\n      <th>row1</th>\n      <td>4</td>\n      <td>5</td>\n      <td>6</td>\n    </tr>\n  </tbody>\n</table>\n</div>"
     },
     "execution_count": 14,
     "metadata": {},
     "output_type": "execute_result"
    }
   ],
   "source": [
    "# 删除某行\n",
    "nowcor = df1[~df1['A'].isin([7])]\n",
    "nowcor"
   ],
   "metadata": {
    "collapsed": false,
    "pycharm": {
     "name": "#%%\n"
    }
   }
  },
  {
   "cell_type": "code",
   "execution_count": 24,
   "outputs": [
    {
     "data": {
      "text/plain": "      A  B\nrow0  1  2\nrow1  4  5\nrow2  7  8",
      "text/html": "<div>\n<style scoped>\n    .dataframe tbody tr th:only-of-type {\n        vertical-align: middle;\n    }\n\n    .dataframe tbody tr th {\n        vertical-align: top;\n    }\n\n    .dataframe thead th {\n        text-align: right;\n    }\n</style>\n<table border=\"1\" class=\"dataframe\">\n  <thead>\n    <tr style=\"text-align: right;\">\n      <th></th>\n      <th>A</th>\n      <th>B</th>\n    </tr>\n  </thead>\n  <tbody>\n    <tr>\n      <th>row0</th>\n      <td>1</td>\n      <td>2</td>\n    </tr>\n    <tr>\n      <th>row1</th>\n      <td>4</td>\n      <td>5</td>\n    </tr>\n    <tr>\n      <th>row2</th>\n      <td>7</td>\n      <td>8</td>\n    </tr>\n  </tbody>\n</table>\n</div>"
     },
     "execution_count": 24,
     "metadata": {},
     "output_type": "execute_result"
    }
   ],
   "source": [
    "# 删除/选取某行含有特殊数值的列\n",
    "cols = [x for i,x in enumerate(df2.columns) if df2.iloc[0,i] == 3]\n",
    "df2 = df2.drop(cols,axis=1)\n",
    "df2"
   ],
   "metadata": {
    "collapsed": false,
    "pycharm": {
     "name": "#%%\n"
    }
   }
  },
  {
   "cell_type": "code",
   "execution_count": 2,
   "outputs": [
    {
     "data": {
      "text/plain": "     A    B   C  D\n0  NaN  2.0 NaN  0\n1  3.0  4.0 NaN  1\n2  NaN  NaN NaN  5\n3  NaN  3.0 NaN  4",
      "text/html": "<div>\n<style scoped>\n    .dataframe tbody tr th:only-of-type {\n        vertical-align: middle;\n    }\n\n    .dataframe tbody tr th {\n        vertical-align: top;\n    }\n\n    .dataframe thead th {\n        text-align: right;\n    }\n</style>\n<table border=\"1\" class=\"dataframe\">\n  <thead>\n    <tr style=\"text-align: right;\">\n      <th></th>\n      <th>A</th>\n      <th>B</th>\n      <th>C</th>\n      <th>D</th>\n    </tr>\n  </thead>\n  <tbody>\n    <tr>\n      <th>0</th>\n      <td>NaN</td>\n      <td>2.0</td>\n      <td>NaN</td>\n      <td>0</td>\n    </tr>\n    <tr>\n      <th>1</th>\n      <td>3.0</td>\n      <td>4.0</td>\n      <td>NaN</td>\n      <td>1</td>\n    </tr>\n    <tr>\n      <th>2</th>\n      <td>NaN</td>\n      <td>NaN</td>\n      <td>NaN</td>\n      <td>5</td>\n    </tr>\n    <tr>\n      <th>3</th>\n      <td>NaN</td>\n      <td>3.0</td>\n      <td>NaN</td>\n      <td>4</td>\n    </tr>\n  </tbody>\n</table>\n</div>"
     },
     "execution_count": 2,
     "metadata": {},
     "output_type": "execute_result"
    }
   ],
   "source": [
    "df1 = pd.DataFrame(\n",
    "    [\n",
    "        [np.nan, 2, np.nan, 0],\n",
    "        [3, 4, np.nan, 1],\n",
    "        [np.nan, np.nan, np.nan, 5],\n",
    "        [np.nan, 3, np.nan, 4]\n",
    "    ],columns=list('ABCD'))\n",
    "df2=df1.copy()\n",
    "df2\n"
   ],
   "metadata": {
    "collapsed": false,
    "pycharm": {
     "name": "#%%\n"
    }
   }
  },
  {
   "cell_type": "code",
   "execution_count": 3,
   "outputs": [
    {
     "data": {
      "text/plain": "      A    B   C  D\n0  null  2.0 NaN  0\n1     3  4.0 NaN  1\n2  null  NaN NaN  5\n3  null  3.0 NaN  4",
      "text/html": "<div>\n<style scoped>\n    .dataframe tbody tr th:only-of-type {\n        vertical-align: middle;\n    }\n\n    .dataframe tbody tr th {\n        vertical-align: top;\n    }\n\n    .dataframe thead th {\n        text-align: right;\n    }\n</style>\n<table border=\"1\" class=\"dataframe\">\n  <thead>\n    <tr style=\"text-align: right;\">\n      <th></th>\n      <th>A</th>\n      <th>B</th>\n      <th>C</th>\n      <th>D</th>\n    </tr>\n  </thead>\n  <tbody>\n    <tr>\n      <th>0</th>\n      <td>null</td>\n      <td>2.0</td>\n      <td>NaN</td>\n      <td>0</td>\n    </tr>\n    <tr>\n      <th>1</th>\n      <td>3</td>\n      <td>4.0</td>\n      <td>NaN</td>\n      <td>1</td>\n    </tr>\n    <tr>\n      <th>2</th>\n      <td>null</td>\n      <td>NaN</td>\n      <td>NaN</td>\n      <td>5</td>\n    </tr>\n    <tr>\n      <th>3</th>\n      <td>null</td>\n      <td>3.0</td>\n      <td>NaN</td>\n      <td>4</td>\n    </tr>\n  </tbody>\n</table>\n</div>"
     },
     "execution_count": 3,
     "metadata": {},
     "output_type": "execute_result"
    }
   ],
   "source": [
    "df1['A'] = df1['A'].fillna('null')\n",
    "df1"
   ],
   "metadata": {
    "collapsed": false,
    "pycharm": {
     "name": "#%%\n"
    }
   }
  },
  {
   "cell_type": "code",
   "execution_count": 4,
   "outputs": [
    {
     "data": {
      "text/plain": "   A    B   C  D\n1  3  4.0 NaN  1",
      "text/html": "<div>\n<style scoped>\n    .dataframe tbody tr th:only-of-type {\n        vertical-align: middle;\n    }\n\n    .dataframe tbody tr th {\n        vertical-align: top;\n    }\n\n    .dataframe thead th {\n        text-align: right;\n    }\n</style>\n<table border=\"1\" class=\"dataframe\">\n  <thead>\n    <tr style=\"text-align: right;\">\n      <th></th>\n      <th>A</th>\n      <th>B</th>\n      <th>C</th>\n      <th>D</th>\n    </tr>\n  </thead>\n  <tbody>\n    <tr>\n      <th>1</th>\n      <td>3</td>\n      <td>4.0</td>\n      <td>NaN</td>\n      <td>1</td>\n    </tr>\n  </tbody>\n</table>\n</div>"
     },
     "execution_count": 4,
     "metadata": {},
     "output_type": "execute_result"
    }
   ],
   "source": [
    "# 删除某列空值的行\n",
    "df1 = df1[~df1['A'].isin(['null'])]\n",
    "df1"
   ],
   "metadata": {
    "collapsed": false,
    "pycharm": {
     "name": "#%%\n"
    }
   }
  },
  {
   "cell_type": "code",
   "execution_count": 7,
   "outputs": [
    {
     "data": {
      "text/plain": "     B  D\n0  2.0  0\n1  4.0  1\n2  NaN  5\n3  3.0  4",
      "text/html": "<div>\n<style scoped>\n    .dataframe tbody tr th:only-of-type {\n        vertical-align: middle;\n    }\n\n    .dataframe tbody tr th {\n        vertical-align: top;\n    }\n\n    .dataframe thead th {\n        text-align: right;\n    }\n</style>\n<table border=\"1\" class=\"dataframe\">\n  <thead>\n    <tr style=\"text-align: right;\">\n      <th></th>\n      <th>B</th>\n      <th>D</th>\n    </tr>\n  </thead>\n  <tbody>\n    <tr>\n      <th>0</th>\n      <td>2.0</td>\n      <td>0</td>\n    </tr>\n    <tr>\n      <th>1</th>\n      <td>4.0</td>\n      <td>1</td>\n    </tr>\n    <tr>\n      <th>2</th>\n      <td>NaN</td>\n      <td>5</td>\n    </tr>\n    <tr>\n      <th>3</th>\n      <td>3.0</td>\n      <td>4</td>\n    </tr>\n  </tbody>\n</table>\n</div>"
     },
     "execution_count": 7,
     "metadata": {},
     "output_type": "execute_result"
    }
   ],
   "source": [
    "df2[0:1] = df2[0:1].fillna('null')\n",
    "cols = [x for i,x in enumerate(df2.columns) if df2.iloc[0,i]=='null']\n",
    "df2 = df2.drop(cols,axis=1)\n",
    "df2"
   ],
   "metadata": {
    "collapsed": false,
    "pycharm": {
     "name": "#%%\n"
    }
   }
  },
  {
   "cell_type": "code",
   "execution_count": 8,
   "outputs": [
    {
     "ename": "NameError",
     "evalue": "name 'df' is not defined",
     "output_type": "error",
     "traceback": [
      "\u001B[0;31m---------------------------------------------------------------------------\u001B[0m",
      "\u001B[0;31mNameError\u001B[0m                                 Traceback (most recent call last)",
      "\u001B[0;32m<ipython-input-8-f895c66ba278>\u001B[0m in \u001B[0;36m<module>\u001B[0;34m\u001B[0m\n\u001B[1;32m      1\u001B[0m \u001B[0;31m# 索引修改 rename map\u001B[0m\u001B[0;34m\u001B[0m\u001B[0;34m\u001B[0m\u001B[0;34m\u001B[0m\u001B[0m\n\u001B[0;32m----> 2\u001B[0;31m \u001B[0mdf1\u001B[0m \u001B[0;34m=\u001B[0m \u001B[0mdf\u001B[0m\u001B[0;34m.\u001B[0m\u001B[0mDataFrame\u001B[0m\u001B[0;34m(\u001B[0m\u001B[0mnp\u001B[0m\u001B[0;34m.\u001B[0m\u001B[0marange\u001B[0m\u001B[0;34m(\u001B[0m\u001B[0;36m9\u001B[0m\u001B[0;34m)\u001B[0m\u001B[0;34m.\u001B[0m\u001B[0mreshape\u001B[0m\u001B[0;34m(\u001B[0m\u001B[0;36m3\u001B[0m\u001B[0;34m,\u001B[0m \u001B[0;36m3\u001B[0m\u001B[0;34m)\u001B[0m\u001B[0;34m,\u001B[0m \u001B[0mindex\u001B[0m \u001B[0;34m=\u001B[0m \u001B[0;34m[\u001B[0m\u001B[0;34m'bj'\u001B[0m\u001B[0;34m,\u001B[0m \u001B[0;34m'sh'\u001B[0m\u001B[0;34m,\u001B[0m \u001B[0;34m'gz'\u001B[0m\u001B[0;34m]\u001B[0m\u001B[0;34m,\u001B[0m \u001B[0mcolumns\u001B[0m\u001B[0;34m=\u001B[0m\u001B[0;34m[\u001B[0m\u001B[0;34m'a'\u001B[0m\u001B[0;34m,\u001B[0m \u001B[0;34m'b'\u001B[0m\u001B[0;34m,\u001B[0m \u001B[0;34m'c'\u001B[0m\u001B[0;34m]\u001B[0m\u001B[0;34m)\u001B[0m\u001B[0;34m\u001B[0m\u001B[0;34m\u001B[0m\u001B[0m\n\u001B[0m\u001B[1;32m      3\u001B[0m \u001B[0;34m\u001B[0m\u001B[0m\n\u001B[1;32m      4\u001B[0m \u001B[0;32mdef\u001B[0m \u001B[0mzy\u001B[0m\u001B[0;34m(\u001B[0m\u001B[0mx\u001B[0m\u001B[0;34m)\u001B[0m\u001B[0;34m:\u001B[0m\u001B[0;34m\u001B[0m\u001B[0;34m\u001B[0m\u001B[0m\n\u001B[1;32m      5\u001B[0m     \u001B[0;32mreturn\u001B[0m \u001B[0mstr\u001B[0m\u001B[0;34m.\u001B[0m\u001B[0mupper\u001B[0m\u001B[0;34m(\u001B[0m\u001B[0mx\u001B[0m\u001B[0;34m)\u001B[0m\u001B[0;34m\u001B[0m\u001B[0;34m\u001B[0m\u001B[0m\n",
      "\u001B[0;31mNameError\u001B[0m: name 'df' is not defined"
     ]
    }
   ],
   "source": [
    "# 索引修改 rename map\n",
    "# inplace=True 直接替换原df\n",
    "# https://blog.csdn.net/missyougoon/article/details/83780845?utm_medium=distribute.pc_relevant.none-task-blog-BlogCommendFromMachineLearnPai2-11.nonecase&depth_1-utm_source=distribute.pc_relevant.none-task-blog-BlogCommendFromMachineLearnPai2-11.nonecase\n",
    "df1 = df.DataFrame(np.arange(9).reshape(3, 3), index = ['bj', 'sh', 'gz'], columns=['a', 'b', 'c'])\n",
    "\n",
    "def zy(x):\n",
    "    return str.upper(x)\n",
    "df1.index = df1.index.map(lambda x : str.upper(x))\n",
    "# df1.index.map(str.upper)\n",
    "# df1.index.map(zy)\n",
    "\n",
    "df2 = df1.rename(index=str.lower, columns=str.upper)"
   ],
   "metadata": {
    "collapsed": false,
    "pycharm": {
     "name": "#%%\n"
    }
   }
  },
  {
   "cell_type": "code",
   "execution_count": 5,
   "outputs": [
    {
     "data": {
      "text/plain": "管理中心            object\n每日超过标准工时（小时）     int64\ndtype: object"
     },
     "execution_count": 5,
     "metadata": {},
     "output_type": "execute_result"
    }
   ],
   "source": [
    "# 换列的类型\n",
    "\n",
    "sheet = pd.read_excel('/Users/joey/Documents/PycharmProjects/mywork/data_analysis/7_out.xlsx',skiprows=None,header=0,converters={'每日超过标准工时（小时）':int})\n",
    "sheet.dtypes"
   ],
   "metadata": {
    "collapsed": false,
    "pycharm": {
     "name": "#%%\n"
    }
   }
  },
  {
   "cell_type": "code",
   "execution_count": 4,
   "outputs": [
    {
     "data": {
      "text/plain": "DatetimeIndex(['2016-03-01', '2016-03-02', '2016-03-03'], dtype='datetime64[ns]', freq='D')"
     },
     "execution_count": 4,
     "metadata": {},
     "output_type": "execute_result"
    }
   ],
   "source": [
    "#用众数填充空值\n",
    "df.fillna(df.mode().iloc[0])"
   ],
   "metadata": {
    "collapsed": false,
    "pycharm": {
     "name": "#%%\n"
    }
   }
  },
  {
   "cell_type": "code",
   "execution_count": 20,
   "outputs": [
    {
     "data": {
      "text/plain": "        A  B    C         D         E\n0     one  A  foo -0.017779 -2.148072\n1     one  B  foo  1.315011  1.291816\n2     two  C  foo  0.943723  1.049665\n3   three  A  bar  0.153763 -2.135983\n4     one  B  bar  2.064608  0.098936\n5     one  C  bar  0.879115 -0.553884\n6     two  A  foo  1.514615 -2.054336\n7   three  B  foo  0.071792  0.264548\n8     one  C  foo  1.240494  0.969683\n9     one  A  bar -1.260889 -0.516243\n10    two  B  bar -1.079432  0.634370\n11  three  C  bar -0.057426 -0.260226",
      "text/html": "<div>\n<style scoped>\n    .dataframe tbody tr th:only-of-type {\n        vertical-align: middle;\n    }\n\n    .dataframe tbody tr th {\n        vertical-align: top;\n    }\n\n    .dataframe thead th {\n        text-align: right;\n    }\n</style>\n<table border=\"1\" class=\"dataframe\">\n  <thead>\n    <tr style=\"text-align: right;\">\n      <th></th>\n      <th>A</th>\n      <th>B</th>\n      <th>C</th>\n      <th>D</th>\n      <th>E</th>\n    </tr>\n  </thead>\n  <tbody>\n    <tr>\n      <th>0</th>\n      <td>one</td>\n      <td>A</td>\n      <td>foo</td>\n      <td>-0.017779</td>\n      <td>-2.148072</td>\n    </tr>\n    <tr>\n      <th>1</th>\n      <td>one</td>\n      <td>B</td>\n      <td>foo</td>\n      <td>1.315011</td>\n      <td>1.291816</td>\n    </tr>\n    <tr>\n      <th>2</th>\n      <td>two</td>\n      <td>C</td>\n      <td>foo</td>\n      <td>0.943723</td>\n      <td>1.049665</td>\n    </tr>\n    <tr>\n      <th>3</th>\n      <td>three</td>\n      <td>A</td>\n      <td>bar</td>\n      <td>0.153763</td>\n      <td>-2.135983</td>\n    </tr>\n    <tr>\n      <th>4</th>\n      <td>one</td>\n      <td>B</td>\n      <td>bar</td>\n      <td>2.064608</td>\n      <td>0.098936</td>\n    </tr>\n    <tr>\n      <th>5</th>\n      <td>one</td>\n      <td>C</td>\n      <td>bar</td>\n      <td>0.879115</td>\n      <td>-0.553884</td>\n    </tr>\n    <tr>\n      <th>6</th>\n      <td>two</td>\n      <td>A</td>\n      <td>foo</td>\n      <td>1.514615</td>\n      <td>-2.054336</td>\n    </tr>\n    <tr>\n      <th>7</th>\n      <td>three</td>\n      <td>B</td>\n      <td>foo</td>\n      <td>0.071792</td>\n      <td>0.264548</td>\n    </tr>\n    <tr>\n      <th>8</th>\n      <td>one</td>\n      <td>C</td>\n      <td>foo</td>\n      <td>1.240494</td>\n      <td>0.969683</td>\n    </tr>\n    <tr>\n      <th>9</th>\n      <td>one</td>\n      <td>A</td>\n      <td>bar</td>\n      <td>-1.260889</td>\n      <td>-0.516243</td>\n    </tr>\n    <tr>\n      <th>10</th>\n      <td>two</td>\n      <td>B</td>\n      <td>bar</td>\n      <td>-1.079432</td>\n      <td>0.634370</td>\n    </tr>\n    <tr>\n      <th>11</th>\n      <td>three</td>\n      <td>C</td>\n      <td>bar</td>\n      <td>-0.057426</td>\n      <td>-0.260226</td>\n    </tr>\n  </tbody>\n</table>\n</div>"
     },
     "execution_count": 20,
     "metadata": {},
     "output_type": "execute_result"
    }
   ],
   "source": [
    "df = pd.DataFrame({'A' : ['one', 'one', 'two', 'three'] * 3,\n",
    "                    'B' : ['A', 'B', 'C'] * 4,\n",
    "                    'C' : ['foo', 'foo', 'foo', 'bar', 'bar', 'bar'] * 2,\n",
    "                    'D' : np.random.randn(12),\n",
    "                    'E' : np.random.randn(12)})\n",
    "df"
   ],
   "metadata": {
    "collapsed": false,
    "pycharm": {
     "name": "#%%\n"
    }
   }
  },
  {
   "cell_type": "code",
   "execution_count": 21,
   "outputs": [
    {
     "data": {
      "text/plain": "              E          \nC           bar       foo\nA                        \none   -0.323730  0.037809\nthree -1.198104  0.264548\ntwo    0.634370 -0.502335",
      "text/html": "<div>\n<style scoped>\n    .dataframe tbody tr th:only-of-type {\n        vertical-align: middle;\n    }\n\n    .dataframe tbody tr th {\n        vertical-align: top;\n    }\n\n    .dataframe thead tr th {\n        text-align: left;\n    }\n\n    .dataframe thead tr:last-of-type th {\n        text-align: right;\n    }\n</style>\n<table border=\"1\" class=\"dataframe\">\n  <thead>\n    <tr>\n      <th></th>\n      <th colspan=\"2\" halign=\"left\">E</th>\n    </tr>\n    <tr>\n      <th>C</th>\n      <th>bar</th>\n      <th>foo</th>\n    </tr>\n    <tr>\n      <th>A</th>\n      <th></th>\n      <th></th>\n    </tr>\n  </thead>\n  <tbody>\n    <tr>\n      <th>one</th>\n      <td>-0.323730</td>\n      <td>0.037809</td>\n    </tr>\n    <tr>\n      <th>three</th>\n      <td>-1.198104</td>\n      <td>0.264548</td>\n    </tr>\n    <tr>\n      <th>two</th>\n      <td>0.634370</td>\n      <td>-0.502335</td>\n    </tr>\n  </tbody>\n</table>\n</div>"
     },
     "execution_count": 21,
     "metadata": {},
     "output_type": "execute_result"
    }
   ],
   "source": [
    "# 当透视表的值不唯一，求mean()\n",
    "pd.pivot_table(df, values=['E'], index=['A'], columns=['C'])\n",
    "(-2.148072+1.291816+0.969683)/3"
   ],
   "metadata": {
    "collapsed": false,
    "pycharm": {
     "name": "#%%\n"
    }
   }
  },
  {
   "cell_type": "code",
   "execution_count": 26,
   "outputs": [
    {
     "data": {
      "text/plain": "DatetimeIndex(['2016-03-31', '2016-04-30', '2016-05-31', '2016-06-30',\n               '2016-07-31'],\n              dtype='datetime64[ns]', freq='M')"
     },
     "execution_count": 26,
     "metadata": {},
     "output_type": "execute_result"
    }
   ],
   "source": [
    "rng = pd.date_range('20160301', periods=5, freq='M')\n",
    "rng"
   ],
   "metadata": {
    "collapsed": false,
    "pycharm": {
     "name": "#%%\n"
    }
   }
  },
  {
   "cell_type": "code",
   "execution_count": 35,
   "outputs": [
    {
     "data": {
      "text/plain": "DatetimeIndex(['2016-03-31', '2016-04-30', '2016-05-31', '2016-06-30',\n               '2016-07-31'],\n              dtype='datetime64[ns]', freq='M')"
     },
     "execution_count": 35,
     "metadata": {},
     "output_type": "execute_result"
    }
   ],
   "source": [
    "# 时间转化\n",
    "ts = pd.Series(np.random.randn(len(rng)), index=rng)\n",
    "ts.index"
   ],
   "metadata": {
    "collapsed": false,
    "pycharm": {
     "name": "#%%\n"
    }
   }
  },
  {
   "cell_type": "code",
   "execution_count": 32,
   "outputs": [
    {
     "data": {
      "text/plain": "PeriodIndex(['2016-03', '2016-04', '2016-05', '2016-06', '2016-07'], dtype='period[M]', freq='M')"
     },
     "execution_count": 32,
     "metadata": {},
     "output_type": "execute_result"
    }
   ],
   "source": [
    "ps = ts.to_period()\n",
    "ps.index"
   ],
   "metadata": {
    "collapsed": false,
    "pycharm": {
     "name": "#%%\n"
    }
   }
  },
  {
   "cell_type": "code",
   "execution_count": 34,
   "outputs": [
    {
     "data": {
      "text/plain": "PeriodIndex(['2016-03', '2016-04', '2016-05', '2016-06', '2016-07'], dtype='period[M]', freq='M')"
     },
     "execution_count": 34,
     "metadata": {},
     "output_type": "execute_result"
    }
   ],
   "source": [
    "ps.to_timestamp()\n",
    "ps.index\n",
    "\n"
   ],
   "metadata": {
    "collapsed": false,
    "pycharm": {
     "name": "#%%\n"
    }
   }
  },
  {
   "cell_type": "code",
   "execution_count": 36,
   "outputs": [
    {
     "ename": "AttributeError",
     "evalue": "'DatetimeIndex' object has no attribute 'to_timestamp'",
     "output_type": "error",
     "traceback": [
      "\u001B[0;31m---------------------------------------------------------------------------\u001B[0m",
      "\u001B[0;31mAttributeError\u001B[0m                            Traceback (most recent call last)",
      "\u001B[0;32m<ipython-input-36-728764e0fcb1>\u001B[0m in \u001B[0;36m<module>\u001B[0;34m\u001B[0m\n\u001B[0;32m----> 1\u001B[0;31m \u001B[0mts\u001B[0m\u001B[0;34m.\u001B[0m\u001B[0mto_timestamp\u001B[0m\u001B[0;34m(\u001B[0m\u001B[0;34m)\u001B[0m\u001B[0;34m\u001B[0m\u001B[0;34m\u001B[0m\u001B[0m\n\u001B[0m\u001B[1;32m      2\u001B[0m \u001B[0;34m\u001B[0m\u001B[0m\n",
      "\u001B[0;32m~/Library/Python/3.7/lib/python/site-packages/pandas/core/series.py\u001B[0m in \u001B[0;36mto_timestamp\u001B[0;34m(self, freq, how, copy)\u001B[0m\n\u001B[1;32m   4527\u001B[0m             \u001B[0mnew_values\u001B[0m \u001B[0;34m=\u001B[0m \u001B[0mnew_values\u001B[0m\u001B[0;34m.\u001B[0m\u001B[0mcopy\u001B[0m\u001B[0;34m(\u001B[0m\u001B[0;34m)\u001B[0m\u001B[0;34m\u001B[0m\u001B[0;34m\u001B[0m\u001B[0m\n\u001B[1;32m   4528\u001B[0m \u001B[0;34m\u001B[0m\u001B[0m\n\u001B[0;32m-> 4529\u001B[0;31m         \u001B[0mnew_index\u001B[0m \u001B[0;34m=\u001B[0m \u001B[0mself\u001B[0m\u001B[0;34m.\u001B[0m\u001B[0mindex\u001B[0m\u001B[0;34m.\u001B[0m\u001B[0mto_timestamp\u001B[0m\u001B[0;34m(\u001B[0m\u001B[0mfreq\u001B[0m\u001B[0;34m=\u001B[0m\u001B[0mfreq\u001B[0m\u001B[0;34m,\u001B[0m \u001B[0mhow\u001B[0m\u001B[0;34m=\u001B[0m\u001B[0mhow\u001B[0m\u001B[0;34m)\u001B[0m\u001B[0;34m\u001B[0m\u001B[0;34m\u001B[0m\u001B[0m\n\u001B[0m\u001B[1;32m   4530\u001B[0m         \u001B[0;32mreturn\u001B[0m \u001B[0mself\u001B[0m\u001B[0;34m.\u001B[0m\u001B[0m_constructor\u001B[0m\u001B[0;34m(\u001B[0m\u001B[0mnew_values\u001B[0m\u001B[0;34m,\u001B[0m \u001B[0mindex\u001B[0m\u001B[0;34m=\u001B[0m\u001B[0mnew_index\u001B[0m\u001B[0;34m)\u001B[0m\u001B[0;34m.\u001B[0m\u001B[0m__finalize__\u001B[0m\u001B[0;34m(\u001B[0m\u001B[0mself\u001B[0m\u001B[0;34m)\u001B[0m\u001B[0;34m\u001B[0m\u001B[0;34m\u001B[0m\u001B[0m\n\u001B[1;32m   4531\u001B[0m \u001B[0;34m\u001B[0m\u001B[0m\n",
      "\u001B[0;31mAttributeError\u001B[0m: 'DatetimeIndex' object has no attribute 'to_timestamp'"
     ]
    }
   ],
   "source": [
    "# 时间运算\n",
    "pd.Timestamp('20100301') + pd.Timestamp('20100301')\n",
    "pd.Timestamp('20100301') - pd.Timestamp('20100301')\n",
    "pd.Timestamp('20100301') - pd.Timedelta(days=5)"
   ],
   "metadata": {
    "collapsed": false,
    "pycharm": {
     "name": "#%%\n"
    }
   }
  },
  {
   "cell_type": "code",
   "execution_count": 1,
   "outputs": [
    {
     "ename": "NameError",
     "evalue": "name 'data' is not defined",
     "output_type": "error",
     "traceback": [
      "\u001B[0;31m---------------------------------------------------------------------------\u001B[0m",
      "\u001B[0;31mNameError\u001B[0m                                 Traceback (most recent call last)",
      "\u001B[0;32m<ipython-input-1-93a0a829600b>\u001B[0m in \u001B[0;36m<module>\u001B[0;34m\u001B[0m\n\u001B[1;32m      1\u001B[0m \u001B[0;31m# 提取时间\u001B[0m\u001B[0;34m\u001B[0m\u001B[0;34m\u001B[0m\u001B[0;34m\u001B[0m\u001B[0m\n\u001B[0;32m----> 2\u001B[0;31m \u001B[0mdata\u001B[0m\u001B[0;34m[\u001B[0m\u001B[0;34m'update_time'\u001B[0m\u001B[0;34m]\u001B[0m\u001B[0;34m.\u001B[0m\u001B[0mdt\u001B[0m\u001B[0;34m.\u001B[0m\u001B[0mdate\u001B[0m\u001B[0;34m\u001B[0m\u001B[0;34m\u001B[0m\u001B[0m\n\u001B[0m\u001B[1;32m      3\u001B[0m \u001B[0;34m\u001B[0m\u001B[0m\n",
      "\u001B[0;31mNameError\u001B[0m: name 'data' is not defined"
     ]
    }
   ],
   "source": [
    "# 提取时间\n",
    "data['update_time'].dt.date"
   ],
   "metadata": {
    "collapsed": false,
    "pycharm": {
     "name": "#%%\n"
    }
   }
  },
  {
   "cell_type": "code",
   "execution_count": null,
   "outputs": [],
   "source": [],
   "metadata": {
    "collapsed": false,
    "pycharm": {
     "name": "#%%\n"
    }
   }
  },
  {
   "cell_type": "code",
   "execution_count": null,
   "outputs": [],
   "source": [
    "# 时间转换"
   ],
   "metadata": {
    "collapsed": false,
    "pycharm": {
     "name": "#%%\n"
    }
   }
  },
  {
   "cell_type": "code",
   "execution_count": null,
   "outputs": [],
   "source": [
    "data = pd.read_csv('/Users/joey/Desktop/superset csv/DXYArea_china.csv')\n",
    "data.head()"
   ],
   "metadata": {
    "collapsed": false,
    "pycharm": {
     "name": "#%%\n"
    }
   }
  },
  {
   "cell_type": "code",
   "execution_count": null,
   "outputs": [],
   "source": [
    "data['updateTime'].dtypes\n"
   ],
   "metadata": {
    "collapsed": false,
    "pycharm": {
     "name": "#%%\n"
    }
   }
  },
  {
   "cell_type": "code",
   "execution_count": null,
   "outputs": [],
   "source": [
    "data['updateTime'] = pd.to_datetime(data['updateTime'],yearfirst=True).dt.date\n",
    "data['updateTime'].head()"
   ],
   "metadata": {
    "collapsed": false,
    "pycharm": {
     "name": "#%%\n"
    }
   }
  },
  {
   "cell_type": "code",
   "execution_count": null,
   "outputs": [],
   "source": [
    "data['updateTime'] = pd.to_datetime(data['updateTime'])\n",
    "data['updateTime'].head()"
   ],
   "metadata": {
    "collapsed": false,
    "pycharm": {
     "name": "#%%\n"
    }
   }
  },
  {
   "cell_type": "code",
   "execution_count": null,
   "outputs": [],
   "source": [
    "newdata = data.set_index(keys=['updateTime'])\n",
    "newdata.head()"
   ],
   "metadata": {
    "collapsed": false,
    "pycharm": {
     "name": "#%%\n"
    }
   }
  },
  {
   "cell_type": "code",
   "execution_count": null,
   "outputs": [],
   "source": [
    "newdata.index"
   ],
   "metadata": {
    "collapsed": false,
    "pycharm": {
     "name": "#%%\n"
    }
   }
  },
  {
   "cell_type": "code",
   "execution_count": null,
   "outputs": [],
   "source": [
    "period_data = newdata.to_period(freq='D')\n",
    "period_data.head()"
   ],
   "metadata": {
    "collapsed": false,
    "pycharm": {
     "name": "#%%\n"
    }
   }
  },
  {
   "cell_type": "code",
   "execution_count": null,
   "outputs": [],
   "source": [
    "period_data.index"
   ],
   "metadata": {
    "collapsed": false,
    "pycharm": {
     "name": "#%%\n"
    }
   }
  },
  {
   "cell_type": "code",
   "execution_count": null,
   "outputs": [],
   "source": [
    "newdata.index.to_period(freq='m')"
   ],
   "metadata": {
    "collapsed": false,
    "pycharm": {
     "name": "#%%\n"
    }
   }
  },
  {
   "cell_type": "code",
   "execution_count": null,
   "outputs": [],
   "source": [
    "period_data.resample('D')"
   ],
   "metadata": {
    "collapsed": false,
    "pycharm": {
     "name": "#%%\n"
    }
   }
  },
  {
   "cell_type": "code",
   "execution_count": null,
   "outputs": [],
   "source": [
    "a = period_data.to_timestamp()\n",
    "a.head()"
   ],
   "metadata": {
    "collapsed": false,
    "pycharm": {
     "name": "#%%\n"
    }
   }
  },
  {
   "cell_type": "code",
   "execution_count": null,
   "outputs": [],
   "source": [
    "a.index"
   ],
   "metadata": {
    "collapsed": false,
    "pycharm": {
     "name": "#%%\n"
    }
   }
  },
  {
   "cell_type": "code",
   "execution_count": null,
   "outputs": [],
   "source": [
    "a.index.values"
   ],
   "metadata": {
    "collapsed": false,
    "pycharm": {
     "name": "#%%\n"
    }
   }
  },
  {
   "cell_type": "code",
   "execution_count": null,
   "outputs": [],
   "source": [
    "a.index[0]"
   ],
   "metadata": {
    "collapsed": false,
    "pycharm": {
     "name": "#%%\n"
    }
   }
  },
  {
   "cell_type": "code",
   "execution_count": null,
   "outputs": [],
   "source": [
    "\n"
   ],
   "metadata": {
    "collapsed": false,
    "pycharm": {
     "name": "#%%\n"
    }
   }
  },
  {
   "cell_type": "code",
   "execution_count": null,
   "outputs": [],
   "source": [
    "a = pd.to_datetime(data['updateTime'])\n",
    "a.head()"
   ],
   "metadata": {
    "collapsed": false,
    "pycharm": {
     "name": "#%%\n"
    }
   }
  },
  {
   "cell_type": "code",
   "execution_count": null,
   "outputs": [],
   "source": [
    "b = pd.DataFrame(a)\n",
    "b.head()"
   ],
   "metadata": {
    "collapsed": false,
    "pycharm": {
     "name": "#%%\n"
    }
   }
  },
  {
   "cell_type": "code",
   "execution_count": null,
   "outputs": [],
   "source": [
    "b.set_index(b.updateTime).to_period('D')\n",
    "\n",
    "# ----------\n",
    "\n"
   ],
   "metadata": {
    "collapsed": false,
    "pycharm": {
     "name": "#%%\n"
    }
   }
  }
 ],
 "metadata": {
  "kernelspec": {
   "name": "pycharm-f39caa95",
   "language": "python",
   "display_name": "PyCharm (mywork)"
  },
  "language_info": {
   "codemirror_mode": {
    "name": "ipython",
    "version": 2
   },
   "file_extension": ".py",
   "mimetype": "text/x-python",
   "name": "python",
   "nbconvert_exporter": "python",
   "pygments_lexer": "ipython2",
   "version": "2.7.6"
  }
 },
 "nbformat": 4,
 "nbformat_minor": 0
}