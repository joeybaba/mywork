{
 "cells": [
  {
   "cell_type": "markdown",
   "metadata": {
    "collapsed": true,
    "pycharm": {
     "name": "#%% md\n"
    }
   },
   "source": [
    "## 时间日期\n",
    "\n",
    "* 时间戳 timestamp：固定的时刻 -> pd.Timestamp\n",
    "* 固定时期 period：比如 2016年3月份，再如2015年销售额 -> pd.Period\n",
    "* 时间间隔 interval：由起始时间和结束时间来表示，固定时期是时间间隔的一个特殊\n",
    "\n",
    "**时间日期在 Pandas 里的作用**\n",
    "\n",
    "* 分析金融数据，如股票交易数据\n",
    "* 分析服务器日志"
   ]
  },
  {
   "cell_type": "markdown",
   "source": [
    "### Python datetime\n",
    "\n",
    "python 标准库里提供了时间日期的处理。这个是时间日期的基础。"
   ],
   "metadata": {
    "collapsed": false,
    "pycharm": {
     "name": "#%% md\n"
    }
   }
  },
  {
   "cell_type": "code",
   "execution_count": 82,
   "outputs": [],
   "source": [
    "from datetime import datetime\n",
    "from datetime import timedelta\n",
    "import pandas as pd\n",
    "import numpy as np\n",
    "import os"
   ],
   "metadata": {
    "collapsed": false,
    "pycharm": {
     "name": "#%%\n"
    }
   }
  },
  {
   "cell_type": "code",
   "execution_count": 2,
   "outputs": [
    {
     "data": {
      "text/plain": "datetime.datetime(2020, 5, 13, 23, 55, 12, 756768)"
     },
     "execution_count": 2,
     "metadata": {},
     "output_type": "execute_result"
    }
   ],
   "source": [
    "now = datetime.now()\n",
    "now"
   ],
   "metadata": {
    "collapsed": false,
    "pycharm": {
     "name": "#%%\n"
    }
   }
  },
  {
   "cell_type": "code",
   "execution_count": 3,
   "outputs": [
    {
     "data": {
      "text/plain": "(2020, 5, 13)"
     },
     "execution_count": 3,
     "metadata": {},
     "output_type": "execute_result"
    }
   ],
   "source": [
    "now.year,now.month,now.day"
   ],
   "metadata": {
    "collapsed": false,
    "pycharm": {
     "name": "#%%\n"
    }
   }
  },
  {
   "cell_type": "markdown",
   "source": [
    "### 时间差"
   ],
   "metadata": {
    "collapsed": false,
    "pycharm": {
     "name": "#%% md\n"
    }
   }
  },
  {
   "cell_type": "code",
   "execution_count": 4,
   "outputs": [
    {
     "data": {
      "text/plain": "datetime.timedelta(days=1461)"
     },
     "execution_count": 4,
     "metadata": {},
     "output_type": "execute_result"
    }
   ],
   "source": [
    "date1 = datetime(2016,3,20)\n",
    "date2 = datetime(2020,3,20)\n",
    "delta = date2 - date1\n",
    "delta"
   ],
   "metadata": {
    "collapsed": false,
    "pycharm": {
     "name": "#%%\n"
    }
   }
  },
  {
   "cell_type": "code",
   "execution_count": 5,
   "outputs": [
    {
     "data": {
      "text/plain": "1461"
     },
     "execution_count": 5,
     "metadata": {},
     "output_type": "execute_result"
    }
   ],
   "source": [
    "delta.days"
   ],
   "metadata": {
    "collapsed": false,
    "pycharm": {
     "name": "#%%\n"
    }
   }
  },
  {
   "cell_type": "code",
   "execution_count": 6,
   "outputs": [
    {
     "data": {
      "text/plain": "126230400.0"
     },
     "execution_count": 6,
     "metadata": {},
     "output_type": "execute_result"
    }
   ],
   "source": [
    "delta.total_seconds()"
   ],
   "metadata": {
    "collapsed": false,
    "pycharm": {
     "name": "#%%\n"
    }
   }
  },
  {
   "cell_type": "code",
   "execution_count": 7,
   "outputs": [
    {
     "data": {
      "text/plain": "datetime.datetime(2024, 3, 20, 0, 0)"
     },
     "execution_count": 7,
     "metadata": {},
     "output_type": "execute_result"
    }
   ],
   "source": [
    "date2 + delta"
   ],
   "metadata": {
    "collapsed": false,
    "pycharm": {
     "name": "#%%\n"
    }
   }
  },
  {
   "cell_type": "code",
   "execution_count": 8,
   "outputs": [
    {
     "data": {
      "text/plain": "datetime.datetime(2020, 3, 25, 4, 48)"
     },
     "execution_count": 8,
     "metadata": {},
     "output_type": "execute_result"
    }
   ],
   "source": [
    "date2 + timedelta(5.2)"
   ],
   "metadata": {
    "collapsed": false,
    "pycharm": {
     "name": "#%%\n"
    }
   }
  },
  {
   "cell_type": "markdown",
   "source": [
    "### 字符串和 datetime 转换"
   ],
   "metadata": {
    "collapsed": false,
    "pycharm": {
     "name": "#%% md\n"
    }
   }
  },
  {
   "cell_type": "code",
   "execution_count": 9,
   "outputs": [
    {
     "data": {
      "text/plain": "datetime.datetime(2016, 3, 20, 8, 30)"
     },
     "execution_count": 9,
     "metadata": {},
     "output_type": "execute_result"
    }
   ],
   "source": [
    "date = datetime(2016,3,20,8,30)\n",
    "date"
   ],
   "metadata": {
    "collapsed": false,
    "pycharm": {
     "name": "#%%\n"
    }
   }
  },
  {
   "cell_type": "code",
   "execution_count": 10,
   "outputs": [
    {
     "data": {
      "text/plain": "'2016-03-20 08:30:00'"
     },
     "execution_count": 10,
     "metadata": {},
     "output_type": "execute_result"
    }
   ],
   "source": [
    "str(date)"
   ],
   "metadata": {
    "collapsed": false,
    "pycharm": {
     "name": "#%%\n"
    }
   }
  },
  {
   "cell_type": "code",
   "execution_count": 11,
   "outputs": [
    {
     "data": {
      "text/plain": "'2016-03-20 08:30:14'"
     },
     "execution_count": 11,
     "metadata": {},
     "output_type": "execute_result"
    }
   ],
   "source": [
    "str_vle = date.strftime('%Y-%m-%d %H:%M:%s')\n",
    "str_vle_time = str_vle[:19]\n",
    "str_vle_time"
   ],
   "metadata": {
    "collapsed": false,
    "pycharm": {
     "name": "#%%\n"
    }
   }
  },
  {
   "cell_type": "code",
   "execution_count": 12,
   "outputs": [
    {
     "data": {
      "text/plain": "datetime.datetime(2016, 3, 20, 8, 30, 14)"
     },
     "execution_count": 12,
     "metadata": {},
     "output_type": "execute_result"
    }
   ],
   "source": [
    "datetime.strptime(str_vle_time,'%Y-%m-%d %H:%M:%S')\n",
    "# datetime.strptime('2016-03-20 09:30', '%Y-%m-%d %H:%M')"
   ],
   "metadata": {
    "collapsed": false,
    "pycharm": {
     "name": "#%%\n"
    }
   }
  },
  {
   "cell_type": "markdown",
   "source": [
    "## Pandas 里的时间序列\n",
    "Pandas 里使用 Timestamp 来表达时间"
   ],
   "metadata": {
    "collapsed": false,
    "pycharm": {
     "name": "#%% md\n"
    }
   }
  },
  {
   "cell_type": "code",
   "execution_count": 13,
   "outputs": [
    {
     "data": {
      "text/plain": "2016-03-01    1.471523\n2016-03-02    1.029107\n2016-03-03   -0.338832\n2016-03-04   -1.333642\ndtype: float64"
     },
     "execution_count": 13,
     "metadata": {},
     "output_type": "execute_result"
    }
   ],
   "source": [
    "dates = [datetime(2016, 3, 1), datetime(2016, 3, 2), datetime(2016, 3, 3), datetime(2016, 3, 4)]\n",
    "s = pd.Series(np.random.randn(4),index=dates)\n",
    "s"
   ],
   "metadata": {
    "collapsed": false,
    "pycharm": {
     "name": "#%%\n"
    }
   }
  },
  {
   "cell_type": "code",
   "execution_count": 14,
   "outputs": [
    {
     "data": {
      "text/plain": "pandas.core.indexes.datetimes.DatetimeIndex"
     },
     "execution_count": 14,
     "metadata": {},
     "output_type": "execute_result"
    }
   ],
   "source": [
    "type(s.index)"
   ],
   "metadata": {
    "collapsed": false,
    "pycharm": {
     "name": "#%%\n"
    }
   }
  },
  {
   "cell_type": "code",
   "execution_count": 15,
   "outputs": [
    {
     "data": {
      "text/plain": "pandas._libs.tslibs.timestamps.Timestamp"
     },
     "execution_count": 15,
     "metadata": {},
     "output_type": "execute_result"
    }
   ],
   "source": [
    "type(s.index[0])"
   ],
   "metadata": {
    "collapsed": false,
    "pycharm": {
     "name": "#%%\n"
    }
   }
  },
  {
   "cell_type": "markdown",
   "source": [
    "## 日期范围"
   ],
   "metadata": {
    "collapsed": false,
    "pycharm": {
     "name": "#%% md\n"
    }
   }
  },
  {
   "cell_type": "markdown",
   "source": [
    "### 生成日期范围"
   ],
   "metadata": {
    "collapsed": false
   }
  },
  {
   "cell_type": "code",
   "execution_count": 16,
   "outputs": [
    {
     "data": {
      "text/plain": "DatetimeIndex(['2015-03-03', '2015-03-04', '2015-03-05', '2015-03-06',\n               '2015-03-07', '2015-03-08', '2015-03-09', '2015-03-10',\n               '2015-03-11', '2015-03-12', '2015-03-13', '2015-03-14',\n               '2015-03-15', '2015-03-16', '2015-03-17', '2015-03-18',\n               '2015-03-19', '2015-03-20', '2015-03-21', '2015-03-22',\n               '2015-03-23', '2015-03-24', '2015-03-25', '2015-03-26',\n               '2015-03-27', '2015-03-28', '2015-03-29', '2015-03-30',\n               '2015-03-31'],\n              dtype='datetime64[ns]', freq='D')"
     },
     "execution_count": 16,
     "metadata": {},
     "output_type": "execute_result"
    }
   ],
   "source": [
    "pd.date_range('20150303','20150331')"
   ],
   "metadata": {
    "collapsed": false,
    "pycharm": {
     "name": "#%%\n"
    }
   }
  },
  {
   "cell_type": "code",
   "execution_count": 17,
   "outputs": [
    {
     "data": {
      "text/plain": "DatetimeIndex(['2016-03-20', '2016-03-21', '2016-03-22', '2016-03-23',\n               '2016-03-24', '2016-03-25', '2016-03-26', '2016-03-27',\n               '2016-03-28', '2016-03-29'],\n              dtype='datetime64[ns]', freq='D')"
     },
     "execution_count": 17,
     "metadata": {},
     "output_type": "execute_result"
    }
   ],
   "source": [
    "pd.date_range(start='20160320',periods=10)"
   ],
   "metadata": {
    "collapsed": false,
    "pycharm": {
     "name": "#%%\n"
    }
   }
  },
  {
   "cell_type": "code",
   "execution_count": 18,
   "outputs": [
    {
     "data": {
      "text/plain": "DatetimeIndex(['2015-03-03', '2015-03-04', '2015-03-05', '2015-03-06',\n               '2015-03-07', '2015-03-08', '2015-03-09', '2015-03-10',\n               '2015-03-11', '2015-03-12'],\n              dtype='datetime64[ns]', freq='D')"
     },
     "execution_count": 18,
     "metadata": {},
     "output_type": "execute_result"
    }
   ],
   "source": [
    "## 规则化时间戳\n",
    "pd.date_range(start='2015-03-03 15:33:12',periods=10,normalize=True)"
   ],
   "metadata": {
    "collapsed": false,
    "pycharm": {
     "name": "#%%\n"
    }
   }
  },
  {
   "cell_type": "markdown",
   "source": [
    "### 时间频率"
   ],
   "metadata": {
    "collapsed": false,
    "pycharm": {
     "name": "#%% md\n"
    }
   }
  },
  {
   "cell_type": "code",
   "execution_count": 19,
   "outputs": [
    {
     "data": {
      "text/plain": "DatetimeIndex(['2015-02-01', '2015-02-08', '2015-02-15', '2015-02-22',\n               '2015-03-01', '2015-03-08', '2015-03-15', '2015-03-22',\n               '2015-03-29', '2015-04-05'],\n              dtype='datetime64[ns]', freq='W-SUN')"
     },
     "execution_count": 19,
     "metadata": {},
     "output_type": "execute_result"
    }
   ],
   "source": [
    "pd.date_range(start='2015-02-01',periods=10,freq='W')"
   ],
   "metadata": {
    "collapsed": false,
    "pycharm": {
     "name": "#%%\n"
    }
   }
  },
  {
   "cell_type": "code",
   "execution_count": 20,
   "outputs": [
    {
     "data": {
      "text/plain": "DatetimeIndex(['2015-02-28', '2015-03-31', '2015-04-30', '2015-05-31',\n               '2015-06-30', '2015-07-31', '2015-08-31', '2015-09-30',\n               '2015-10-31', '2015-11-30'],\n              dtype='datetime64[ns]', freq='M')"
     },
     "execution_count": 20,
     "metadata": {},
     "output_type": "execute_result"
    }
   ],
   "source": [
    "pd.date_range(start='2015-02-01',periods=10,freq='M')\n"
   ],
   "metadata": {
    "collapsed": false,
    "pycharm": {
     "name": "#%%\n"
    }
   }
  },
  {
   "cell_type": "code",
   "execution_count": 21,
   "outputs": [
    {
     "data": {
      "text/plain": "DatetimeIndex(['2015-02-27', '2015-03-31', '2015-04-30', '2015-05-29',\n               '2015-06-30', '2015-07-31', '2015-08-31', '2015-09-30',\n               '2015-10-30', '2015-11-30'],\n              dtype='datetime64[ns]', freq='BM')"
     },
     "execution_count": 21,
     "metadata": {},
     "output_type": "execute_result"
    }
   ],
   "source": [
    "# 每个月最后一个工作日组成的索引\n",
    "pd.date_range(start='2015-02-01',periods=10,freq='BM')\n"
   ],
   "metadata": {
    "collapsed": false,
    "pycharm": {
     "name": "#%%\n"
    }
   }
  },
  {
   "cell_type": "code",
   "execution_count": 22,
   "outputs": [
    {
     "data": {
      "text/plain": "DatetimeIndex(['2015-02-01 00:00:00', '2015-02-01 04:00:00',\n               '2015-02-01 08:00:00', '2015-02-01 12:00:00',\n               '2015-02-01 16:00:00', '2015-02-01 20:00:00',\n               '2015-02-02 00:00:00', '2015-02-02 04:00:00',\n               '2015-02-02 08:00:00', '2015-02-02 12:00:00'],\n              dtype='datetime64[ns]', freq='4H')"
     },
     "execution_count": 22,
     "metadata": {},
     "output_type": "execute_result"
    }
   ],
   "source": [
    "# hour\n",
    "pd.date_range(start='2015-02-01',periods=10,freq='4H')"
   ],
   "metadata": {
    "collapsed": false,
    "pycharm": {
     "name": "#%%\n"
    }
   }
  },
  {
   "cell_type": "markdown",
   "source": [
    "## 时期及算术运算\n",
    "pd.Period 表示时期，比如几日，月或几个月等。比如用来统计每个月的销售额，就可以用时期作为单位。"
   ],
   "metadata": {
    "collapsed": false,
    "pycharm": {
     "name": "#%% md\n"
    }
   }
  },
  {
   "cell_type": "code",
   "execution_count": 23,
   "outputs": [
    {
     "data": {
      "text/plain": "Period('2010', 'A-DEC')"
     },
     "execution_count": 23,
     "metadata": {},
     "output_type": "execute_result"
    }
   ],
   "source": [
    "p1 = pd.Period(2010)\n",
    "p1"
   ],
   "metadata": {
    "collapsed": false,
    "pycharm": {
     "name": "#%%\n"
    }
   }
  },
  {
   "cell_type": "code",
   "execution_count": 24,
   "outputs": [
    {
     "data": {
      "text/plain": "Period('2012', 'A-DEC')"
     },
     "execution_count": 24,
     "metadata": {},
     "output_type": "execute_result"
    }
   ],
   "source": [
    "p2 = p1 + 2\n",
    "p2"
   ],
   "metadata": {
    "collapsed": false,
    "pycharm": {
     "name": "#%%\n"
    }
   }
  },
  {
   "cell_type": "code",
   "execution_count": 25,
   "outputs": [
    {
     "data": {
      "text/plain": "<2 * YearEnds: month=12>"
     },
     "execution_count": 25,
     "metadata": {},
     "output_type": "execute_result"
    }
   ],
   "source": [
    "p2 - p1"
   ],
   "metadata": {
    "collapsed": false,
    "pycharm": {
     "name": "#%%\n"
    }
   }
  },
  {
   "cell_type": "code",
   "execution_count": 26,
   "outputs": [
    {
     "data": {
      "text/plain": "Period('2016-01', 'M')"
     },
     "execution_count": 26,
     "metadata": {},
     "output_type": "execute_result"
    }
   ],
   "source": [
    "p1 = pd.Period(2016,freq='M')\n",
    "p1"
   ],
   "metadata": {
    "collapsed": false,
    "pycharm": {
     "name": "#%%\n"
    }
   }
  },
  {
   "cell_type": "code",
   "execution_count": 27,
   "outputs": [
    {
     "data": {
      "text/plain": "Period('2016-05', 'M')"
     },
     "execution_count": 27,
     "metadata": {},
     "output_type": "execute_result"
    }
   ],
   "source": [
    "p1 + 4"
   ],
   "metadata": {
    "collapsed": false,
    "pycharm": {
     "name": "#%%\n"
    }
   }
  },
  {
   "cell_type": "markdown",
   "source": [
    "### 时期序列"
   ],
   "metadata": {
    "collapsed": false,
    "pycharm": {
     "name": "#%% md\n"
    }
   }
  },
  {
   "cell_type": "code",
   "execution_count": 28,
   "outputs": [
    {
     "data": {
      "text/plain": "PeriodIndex(['2015-01', '2015-02', '2015-03', '2015-04', '2015-05', '2015-06',\n             '2015-07', '2015-08', '2015-09', '2015-10', '2015-11', '2015-12'],\n            dtype='period[M]', freq='M')"
     },
     "execution_count": 28,
     "metadata": {},
     "output_type": "execute_result"
    }
   ],
   "source": [
    "pd.period_range(start='2015-01',periods=12,freq='M')"
   ],
   "metadata": {
    "collapsed": false,
    "pycharm": {
     "name": "#%%\n"
    }
   }
  },
  {
   "cell_type": "code",
   "execution_count": 29,
   "outputs": [
    {
     "data": {
      "text/plain": "PeriodIndex(['2015-01', '2015-02', '2015-03', '2015-04', '2015-05', '2015-06',\n             '2015-07', '2015-08', '2015-09', '2015-10', '2015-11', '2015-12',\n             '2016-01'],\n            dtype='period[M]', freq='M')"
     },
     "execution_count": 29,
     "metadata": {},
     "output_type": "execute_result"
    }
   ],
   "source": [
    "pd.period_range(start='2015-01',end='2016-01',freq='M')"
   ],
   "metadata": {
    "collapsed": false,
    "pycharm": {
     "name": "#%%\n"
    }
   }
  },
  {
   "cell_type": "code",
   "execution_count": 30,
   "outputs": [
    {
     "data": {
      "text/plain": "PeriodIndex(['2015Q1', '2015Q2', '2015Q3', '2015Q4'], dtype='period[Q-DEC]', freq='Q-DEC')"
     },
     "execution_count": 30,
     "metadata": {},
     "output_type": "execute_result"
    }
   ],
   "source": [
    "# 直接用字符串\n",
    "index = pd.PeriodIndex(['2015Q1','2015Q2','2015Q3','2015Q4'],freq='Q-DEC')\n",
    "index"
   ],
   "metadata": {
    "collapsed": false,
    "pycharm": {
     "name": "#%%\n"
    }
   }
  },
  {
   "cell_type": "markdown",
   "source": [
    "### 时期的频率转换\n",
    "asfreq\n",
    "\n",
    "* A-DEC: 以 12 月份作为结束的年时期\n",
    "* A-NOV: 以 11 月份作为结束的年时期\n",
    "* Q-DEC: 以 12 月份作为结束的季度时期"
   ],
   "metadata": {
    "collapsed": false,
    "pycharm": {
     "name": "#%% md\n"
    }
   }
  },
  {
   "cell_type": "code",
   "execution_count": 31,
   "outputs": [
    {
     "data": {
      "text/plain": "Period('2015', 'A-DEC')"
     },
     "execution_count": 31,
     "metadata": {},
     "output_type": "execute_result"
    }
   ],
   "source": [
    "p = pd.Period('2015',freq='A-DEC')\n",
    "p"
   ],
   "metadata": {
    "collapsed": false,
    "pycharm": {
     "name": "#%%\n"
    }
   }
  },
  {
   "cell_type": "code",
   "execution_count": 32,
   "outputs": [
    {
     "data": {
      "text/plain": "Period('2015-01', 'M')"
     },
     "execution_count": 32,
     "metadata": {},
     "output_type": "execute_result"
    }
   ],
   "source": [
    "p.asfreq('M',how='start')"
   ],
   "metadata": {
    "collapsed": false,
    "pycharm": {
     "name": "#%%\n"
    }
   }
  },
  {
   "cell_type": "code",
   "execution_count": 33,
   "outputs": [
    {
     "data": {
      "text/plain": "Period('2015-12', 'M')"
     },
     "execution_count": 33,
     "metadata": {},
     "output_type": "execute_result"
    }
   ],
   "source": [
    "p.asfreq('M',how='end')"
   ],
   "metadata": {
    "collapsed": false,
    "pycharm": {
     "name": "#%%\n"
    }
   }
  },
  {
   "cell_type": "code",
   "execution_count": 34,
   "outputs": [
    {
     "data": {
      "text/plain": "Period('2015', 'A-DEC')"
     },
     "execution_count": 34,
     "metadata": {},
     "output_type": "execute_result"
    }
   ],
   "source": [
    "p.asfreq('A-DEC')"
   ],
   "metadata": {
    "collapsed": false,
    "pycharm": {
     "name": "#%%\n"
    }
   }
  },
  {
   "cell_type": "code",
   "execution_count": 35,
   "outputs": [
    {
     "data": {
      "text/plain": "Period('2016', 'A-MAR')"
     },
     "execution_count": 35,
     "metadata": {},
     "output_type": "execute_result"
    }
   ],
   "source": [
    "# 以年为周期，以一年中的 3 月份作为年的结束（财年）\n",
    "p.asfreq('A-MAR')"
   ],
   "metadata": {
    "collapsed": false,
    "pycharm": {
     "name": "#%%\n"
    }
   }
  },
  {
   "cell_type": "markdown",
   "source": [
    "### 季度时间频率\n",
    "Pandas 支持 12 种季度型频率，从 Q-JAN 到 Q-DEC"
   ],
   "metadata": {
    "collapsed": false,
    "pycharm": {
     "name": "#%% md\n"
    }
   }
  },
  {
   "cell_type": "code",
   "execution_count": 36,
   "outputs": [
    {
     "data": {
      "text/plain": "Period('2016Q4', 'Q-JAN')"
     },
     "execution_count": 36,
     "metadata": {},
     "output_type": "execute_result"
    }
   ],
   "source": [
    "p = pd.Period('2016Q4',freq='Q-JAN')\n",
    "p"
   ],
   "metadata": {
    "collapsed": false,
    "pycharm": {
     "name": "#%%\n"
    }
   }
  },
  {
   "cell_type": "code",
   "execution_count": 37,
   "outputs": [
    {
     "data": {
      "text/plain": "(Period('2015-11-01', 'D'), Period('2016-01-31', 'D'))"
     },
     "execution_count": 37,
     "metadata": {},
     "output_type": "execute_result"
    }
   ],
   "source": [
    "# 以 1 月份结束的财年中，2016Q4 的时期是指 2015-11-1 到 2016-1-31\n",
    "p.asfreq('D', how='start'), p.asfreq('D', how='end')"
   ],
   "metadata": {
    "collapsed": false,
    "pycharm": {
     "name": "#%%\n"
    }
   }
  },
  {
   "cell_type": "code",
   "execution_count": 38,
   "outputs": [
    {
     "data": {
      "text/plain": "Period('2016-01-28 16:00', 'T')"
     },
     "execution_count": 38,
     "metadata": {},
     "output_type": "execute_result"
    }
   ],
   "source": [
    "# 获取该季度倒数第二个工作日下午4点的时间戳\n",
    "p4pm = (p.asfreq('B', how='end') - 1).asfreq('T', 'start') + 16 * 60\n",
    "p4pm"
   ],
   "metadata": {
    "collapsed": false,
    "pycharm": {
     "name": "#%%\n"
    }
   }
  },
  {
   "cell_type": "code",
   "execution_count": 39,
   "outputs": [
    {
     "data": {
      "text/plain": "Timestamp('2016-01-28 16:00:00')"
     },
     "execution_count": 39,
     "metadata": {},
     "output_type": "execute_result"
    }
   ],
   "source": [
    "# 转换为 timestamp\n",
    "p4pm.to_timestamp()\n"
   ],
   "metadata": {
    "collapsed": false,
    "pycharm": {
     "name": "#%%\n"
    }
   }
  },
  {
   "cell_type": "markdown",
   "source": [
    "### Timestamp 和 Period 相互转换"
   ],
   "metadata": {
    "collapsed": false
   }
  },
  {
   "cell_type": "code",
   "execution_count": 40,
   "outputs": [
    {
     "data": {
      "text/plain": "2016-01-31    0.262207\n2016-02-29    0.196236\n2016-03-31   -0.652523\n2016-04-30    0.640330\n2016-05-31   -0.246301\nFreq: M, dtype: float64"
     },
     "execution_count": 40,
     "metadata": {},
     "output_type": "execute_result"
    }
   ],
   "source": [
    "ts = pd.Series(np.random.randn(5), index = pd.date_range('2016-01-01', periods=5, freq='M'))\n",
    "ts"
   ],
   "metadata": {
    "collapsed": false,
    "pycharm": {
     "name": "#%%\n"
    }
   }
  },
  {
   "cell_type": "code",
   "execution_count": 41,
   "outputs": [
    {
     "data": {
      "text/plain": "2016-01    0.262207\n2016-02    0.196236\n2016-03   -0.652523\n2016-04    0.640330\n2016-05   -0.246301\nFreq: M, dtype: float64"
     },
     "execution_count": 41,
     "metadata": {},
     "output_type": "execute_result"
    }
   ],
   "source": [
    "ts.to_period()"
   ],
   "metadata": {
    "collapsed": false,
    "pycharm": {
     "name": "#%%\n"
    }
   }
  },
  {
   "cell_type": "code",
   "execution_count": 42,
   "outputs": [
    {
     "data": {
      "text/plain": "2016-12-29    1.876762\n2016-12-30   -1.857878\n2016-12-31    0.480146\n2017-01-01    0.614659\n2017-01-02    1.917813\nFreq: D, dtype: float64"
     },
     "execution_count": 42,
     "metadata": {},
     "output_type": "execute_result"
    }
   ],
   "source": [
    "ts = pd.Series(np.random.randn(5), index = pd.date_range('2016-12-29', periods=5, freq='D'))\n",
    "ts"
   ],
   "metadata": {
    "collapsed": false,
    "pycharm": {
     "name": "#%%\n"
    }
   }
  },
  {
   "cell_type": "code",
   "execution_count": 43,
   "outputs": [
    {
     "data": {
      "text/plain": "2016-12    1.876762\n2016-12   -1.857878\n2016-12    0.480146\n2017-01    0.614659\n2017-01    1.917813\nFreq: M, dtype: float64"
     },
     "execution_count": 43,
     "metadata": {},
     "output_type": "execute_result"
    }
   ],
   "source": [
    "pts = ts.to_period(freq='M')\n",
    "pts"
   ],
   "metadata": {
    "collapsed": false,
    "pycharm": {
     "name": "#%%\n"
    }
   }
  },
  {
   "cell_type": "code",
   "execution_count": 44,
   "outputs": [
    {
     "data": {
      "text/plain": "2016-12    0.499029\n2017-01    2.532472\nFreq: M, dtype: float64"
     },
     "execution_count": 44,
     "metadata": {},
     "output_type": "execute_result"
    }
   ],
   "source": [
    "pts.groupby(by=pts.index).sum()\n",
    "# pts.groupby(level=0).sum()\""
   ],
   "metadata": {
    "collapsed": false,
    "pycharm": {
     "name": "#%%\n"
    }
   }
  },
  {
   "cell_type": "markdown",
   "source": [
    "### 重采样\n",
    "\n",
    "* 高频率 -> 低频率 -> 降采样：5 分钟股票交易数据转换为日交易数据\n",
    "* 低频率 -> 高频率 -> 升采样\n",
    "* 其他重采样：每周三 (W-WED) 转换为每周五 (W-FRI)\n"
   ],
   "metadata": {
    "collapsed": false,
    "pycharm": {
     "name": "#%% md\n"
    }
   }
  },
  {
   "cell_type": "code",
   "execution_count": 45,
   "outputs": [
    {
     "data": {
      "text/plain": "2016-04-25 09:30:00    32\n2016-04-25 09:31:00    37\n2016-04-25 09:32:00     3\n2016-04-25 09:33:00    46\n2016-04-25 09:34:00    41\n2016-04-25 09:35:00    43\n2016-04-25 09:36:00     6\n2016-04-25 09:37:00    37\n2016-04-25 09:38:00    30\n2016-04-25 09:39:00    42\n2016-04-25 09:40:00    42\n2016-04-25 09:41:00    15\n2016-04-25 09:42:00    32\n2016-04-25 09:43:00     7\n2016-04-25 09:44:00    24\n2016-04-25 09:45:00    45\n2016-04-25 09:46:00     7\n2016-04-25 09:47:00    17\n2016-04-25 09:48:00    13\n2016-04-25 09:49:00    34\n2016-04-25 09:50:00    25\n2016-04-25 09:51:00     4\n2016-04-25 09:52:00    26\n2016-04-25 09:53:00    31\n2016-04-25 09:54:00    24\n2016-04-25 09:55:00    41\n2016-04-25 09:56:00    23\n2016-04-25 09:57:00     5\n2016-04-25 09:58:00    24\n2016-04-25 09:59:00    18\n2016-04-25 10:00:00    40\n2016-04-25 10:01:00    40\n2016-04-25 10:02:00     3\n2016-04-25 10:03:00    47\n2016-04-25 10:04:00    33\n2016-04-25 10:05:00    14\n2016-04-25 10:06:00     3\n2016-04-25 10:07:00     6\n2016-04-25 10:08:00    37\n2016-04-25 10:09:00    46\n2016-04-25 10:10:00    35\n2016-04-25 10:11:00    27\n2016-04-25 10:12:00    16\n2016-04-25 10:13:00     3\n2016-04-25 10:14:00    44\n2016-04-25 10:15:00    31\n2016-04-25 10:16:00    16\n2016-04-25 10:17:00    41\n2016-04-25 10:18:00    14\n2016-04-25 10:19:00     5\n2016-04-25 10:20:00    48\n2016-04-25 10:21:00    33\n2016-04-25 10:22:00    42\n2016-04-25 10:23:00    40\n2016-04-25 10:24:00     0\n2016-04-25 10:25:00    48\n2016-04-25 10:26:00    34\n2016-04-25 10:27:00    44\n2016-04-25 10:28:00    44\n2016-04-25 10:29:00    48\nFreq: T, dtype: int64"
     },
     "execution_count": 45,
     "metadata": {},
     "output_type": "execute_result"
    }
   ],
   "source": [
    "ts = pd.Series(np.random.randint(0, 50, 60), index=pd.date_range('2016-04-25 09:30', periods=60, freq='T'))\n",
    "ts"
   ],
   "metadata": {
    "collapsed": false,
    "pycharm": {
     "name": "#%%\n"
    }
   }
  },
  {
   "cell_type": "code",
   "execution_count": 46,
   "outputs": [
    {
     "data": {
      "text/plain": "2016-04-25 09:30:00    159\n2016-04-25 09:35:00    158\n2016-04-25 09:40:00    120\n2016-04-25 09:45:00    116\n2016-04-25 09:50:00    110\n2016-04-25 09:55:00    111\n2016-04-25 10:00:00    163\n2016-04-25 10:05:00    106\n2016-04-25 10:10:00    125\n2016-04-25 10:15:00    107\n2016-04-25 10:20:00    163\n2016-04-25 10:25:00    218\nFreq: 5T, dtype: int64"
     },
     "execution_count": 46,
     "metadata": {},
     "output_type": "execute_result"
    }
   ],
   "source": [
    "# 0-4 分钟为第一组\n",
    "ts.resample('5min').sum()"
   ],
   "metadata": {
    "collapsed": false,
    "pycharm": {
     "name": "#%%\n"
    }
   }
  },
  {
   "cell_type": "code",
   "execution_count": 47,
   "outputs": [
    {
     "data": {
      "text/plain": "2016-04-25 09:35:00    159\n2016-04-25 09:40:00    158\n2016-04-25 09:45:00    120\n2016-04-25 09:50:00    116\n2016-04-25 09:55:00    110\n2016-04-25 10:00:00    111\n2016-04-25 10:05:00    163\n2016-04-25 10:10:00    106\n2016-04-25 10:15:00    125\n2016-04-25 10:20:00    107\n2016-04-25 10:25:00    163\n2016-04-25 10:30:00    218\nFreq: 5T, dtype: int64"
     },
     "execution_count": 47,
     "metadata": {},
     "output_type": "execute_result"
    }
   ],
   "source": [
    "# 0-4 分钟为第一组\n",
    "# label右侧时间（结束时间）\n",
    "ts.resample('5min',label='right').sum()"
   ],
   "metadata": {
    "collapsed": false,
    "pycharm": {
     "name": "#%%\n"
    }
   }
  },
  {
   "cell_type": "markdown",
   "source": [
    "### OHLC 重采样\n",
    "\n",
    "金融数据专用：Open/High/Low/Close"
   ],
   "metadata": {
    "collapsed": false,
    "pycharm": {
     "name": "#%% md\n"
    }
   }
  },
  {
   "cell_type": "code",
   "execution_count": 48,
   "outputs": [
    {
     "data": {
      "text/plain": "                     open  high  low  close\n2016-04-25 09:30:00    32    46    3     41\n2016-04-25 09:35:00    43    43    6     42\n2016-04-25 09:40:00    42    42    7     24\n2016-04-25 09:45:00    45    45    7     34\n2016-04-25 09:50:00    25    31    4     24\n2016-04-25 09:55:00    41    41    5     18\n2016-04-25 10:00:00    40    47    3     33\n2016-04-25 10:05:00    14    46    3     46\n2016-04-25 10:10:00    35    44    3     44\n2016-04-25 10:15:00    31    41    5      5\n2016-04-25 10:20:00    48    48    0      0\n2016-04-25 10:25:00    48    48   34     48",
      "text/html": "<div>\n<style scoped>\n    .dataframe tbody tr th:only-of-type {\n        vertical-align: middle;\n    }\n\n    .dataframe tbody tr th {\n        vertical-align: top;\n    }\n\n    .dataframe thead th {\n        text-align: right;\n    }\n</style>\n<table border=\"1\" class=\"dataframe\">\n  <thead>\n    <tr style=\"text-align: right;\">\n      <th></th>\n      <th>open</th>\n      <th>high</th>\n      <th>low</th>\n      <th>close</th>\n    </tr>\n  </thead>\n  <tbody>\n    <tr>\n      <th>2016-04-25 09:30:00</th>\n      <td>32</td>\n      <td>46</td>\n      <td>3</td>\n      <td>41</td>\n    </tr>\n    <tr>\n      <th>2016-04-25 09:35:00</th>\n      <td>43</td>\n      <td>43</td>\n      <td>6</td>\n      <td>42</td>\n    </tr>\n    <tr>\n      <th>2016-04-25 09:40:00</th>\n      <td>42</td>\n      <td>42</td>\n      <td>7</td>\n      <td>24</td>\n    </tr>\n    <tr>\n      <th>2016-04-25 09:45:00</th>\n      <td>45</td>\n      <td>45</td>\n      <td>7</td>\n      <td>34</td>\n    </tr>\n    <tr>\n      <th>2016-04-25 09:50:00</th>\n      <td>25</td>\n      <td>31</td>\n      <td>4</td>\n      <td>24</td>\n    </tr>\n    <tr>\n      <th>2016-04-25 09:55:00</th>\n      <td>41</td>\n      <td>41</td>\n      <td>5</td>\n      <td>18</td>\n    </tr>\n    <tr>\n      <th>2016-04-25 10:00:00</th>\n      <td>40</td>\n      <td>47</td>\n      <td>3</td>\n      <td>33</td>\n    </tr>\n    <tr>\n      <th>2016-04-25 10:05:00</th>\n      <td>14</td>\n      <td>46</td>\n      <td>3</td>\n      <td>46</td>\n    </tr>\n    <tr>\n      <th>2016-04-25 10:10:00</th>\n      <td>35</td>\n      <td>44</td>\n      <td>3</td>\n      <td>44</td>\n    </tr>\n    <tr>\n      <th>2016-04-25 10:15:00</th>\n      <td>31</td>\n      <td>41</td>\n      <td>5</td>\n      <td>5</td>\n    </tr>\n    <tr>\n      <th>2016-04-25 10:20:00</th>\n      <td>48</td>\n      <td>48</td>\n      <td>0</td>\n      <td>0</td>\n    </tr>\n    <tr>\n      <th>2016-04-25 10:25:00</th>\n      <td>48</td>\n      <td>48</td>\n      <td>34</td>\n      <td>48</td>\n    </tr>\n  </tbody>\n</table>\n</div>"
     },
     "execution_count": 48,
     "metadata": {},
     "output_type": "execute_result"
    }
   ],
   "source": [
    "ts.resample('5min').ohlc()"
   ],
   "metadata": {
    "collapsed": false,
    "pycharm": {
     "name": "#%%\n"
    }
   }
  },
  {
   "cell_type": "code",
   "execution_count": 49,
   "outputs": [
    {
     "data": {
      "text/plain": "2016-03-01    36\n2016-03-02    27\n2016-03-03    28\n2016-03-04    12\n2016-03-05    34\n              ..\n2016-06-04    33\n2016-06-05    34\n2016-06-06    38\n2016-06-07     0\n2016-06-08    29\nFreq: D, Length: 100, dtype: int64"
     },
     "execution_count": 49,
     "metadata": {},
     "output_type": "execute_result"
    }
   ],
   "source": [
    "### 通过 groupby 重采样\n",
    "ts = pd.Series(np.random.randint(0, 50, 100), index=pd.date_range('2016-03-01', periods=100, freq='D'))\n",
    "ts"
   ],
   "metadata": {
    "collapsed": false,
    "pycharm": {
     "name": "#%%\n"
    }
   }
  },
  {
   "cell_type": "code",
   "execution_count": 50,
   "outputs": [
    {
     "data": {
      "text/plain": "3    835\n4    699\n5    875\n6    253\ndtype: int64"
     },
     "execution_count": 50,
     "metadata": {},
     "output_type": "execute_result"
    }
   ],
   "source": [
    "# x == ts.index.month\n",
    "ts.groupby(lambda x: x.month).sum()"
   ],
   "metadata": {
    "collapsed": false,
    "pycharm": {
     "name": "#%%\n"
    }
   }
  },
  {
   "cell_type": "code",
   "execution_count": 51,
   "outputs": [
    {
     "data": {
      "text/plain": "2016-03    835\n2016-04    699\n2016-05    875\n2016-06    253\nFreq: M, dtype: int64"
     },
     "execution_count": 51,
     "metadata": {},
     "output_type": "execute_result"
    }
   ],
   "source": [
    "ts.groupby(ts.index.to_period('M')).sum()\n",
    "# ts.groupby(ts.index.to_period('M')).sum().index"
   ],
   "metadata": {
    "collapsed": false,
    "pycharm": {
     "name": "#%%\n"
    }
   }
  },
  {
   "cell_type": "markdown",
   "source": [
    "### 升采样和插值"
   ],
   "metadata": {
    "collapsed": false,
    "pycharm": {
     "name": "#%% md\n"
    }
   }
  },
  {
   "cell_type": "code",
   "source": [
    "# 以周为单位，每周五采样\n",
    "df = pd.DataFrame(np.random.randint(1, 50, 2), index=pd.date_range('2016-04-22', periods=2, freq='W-FRI'))\n",
    "df"
   ],
   "metadata": {
    "collapsed": false,
    "pycharm": {
     "name": "#%%\n"
    }
   },
   "execution_count": 56,
   "outputs": [
    {
     "data": {
      "text/plain": "             0\n2016-04-22  13\n2016-04-29  29",
      "text/html": "<div>\n<style scoped>\n    .dataframe tbody tr th:only-of-type {\n        vertical-align: middle;\n    }\n\n    .dataframe tbody tr th {\n        vertical-align: top;\n    }\n\n    .dataframe thead th {\n        text-align: right;\n    }\n</style>\n<table border=\"1\" class=\"dataframe\">\n  <thead>\n    <tr style=\"text-align: right;\">\n      <th></th>\n      <th>0</th>\n    </tr>\n  </thead>\n  <tbody>\n    <tr>\n      <th>2016-04-22</th>\n      <td>13</td>\n    </tr>\n    <tr>\n      <th>2016-04-29</th>\n      <td>29</td>\n    </tr>\n  </tbody>\n</table>\n</div>"
     },
     "execution_count": 56,
     "metadata": {},
     "output_type": "execute_result"
    }
   ]
  },
  {
   "cell_type": "code",
   "execution_count": 57,
   "outputs": [
    {
     "ename": "TypeError",
     "evalue": "resample() got an unexpected keyword argument 'fill_method'",
     "output_type": "error",
     "traceback": [
      "\u001B[0;31m---------------------------------------------------------------------------\u001B[0m",
      "\u001B[0;31mTypeError\u001B[0m                                 Traceback (most recent call last)",
      "\u001B[0;32m<ipython-input-57-277399694070>\u001B[0m in \u001B[0;36m<module>\u001B[0;34m\u001B[0m\n\u001B[0;32m----> 1\u001B[0;31m \u001B[0mdf\u001B[0m\u001B[0;34m.\u001B[0m\u001B[0mresample\u001B[0m\u001B[0;34m(\u001B[0m\u001B[0;34m'D'\u001B[0m\u001B[0;34m,\u001B[0m \u001B[0mfill_method\u001B[0m\u001B[0;34m=\u001B[0m\u001B[0;34m'ffill'\u001B[0m\u001B[0;34m,\u001B[0m \u001B[0mlimit\u001B[0m\u001B[0;34m=\u001B[0m\u001B[0;36m3\u001B[0m\u001B[0;34m)\u001B[0m\u001B[0;34m\u001B[0m\u001B[0;34m\u001B[0m\u001B[0m\n\u001B[0m\u001B[1;32m      2\u001B[0m \u001B[0;34m\u001B[0m\u001B[0m\n",
      "\u001B[0;31mTypeError\u001B[0m: resample() got an unexpected keyword argument 'fill_method'"
     ]
    }
   ],
   "source": [
    "df.resample('D', fill_method='ffill', limit=3)"
   ],
   "metadata": {
    "collapsed": false,
    "pycharm": {
     "name": "#%%\n"
    }
   }
  },
  {
   "cell_type": "code",
   "execution_count": 62,
   "outputs": [
    {
     "data": {
      "text/plain": "               0\n2016-04-22  13.0\n2016-04-23  13.0\n2016-04-24  13.0\n2016-04-25  13.0\n2016-04-26   NaN\n2016-04-27   NaN\n2016-04-28   NaN\n2016-04-29  29.0",
      "text/html": "<div>\n<style scoped>\n    .dataframe tbody tr th:only-of-type {\n        vertical-align: middle;\n    }\n\n    .dataframe tbody tr th {\n        vertical-align: top;\n    }\n\n    .dataframe thead th {\n        text-align: right;\n    }\n</style>\n<table border=\"1\" class=\"dataframe\">\n  <thead>\n    <tr style=\"text-align: right;\">\n      <th></th>\n      <th>0</th>\n    </tr>\n  </thead>\n  <tbody>\n    <tr>\n      <th>2016-04-22</th>\n      <td>13.0</td>\n    </tr>\n    <tr>\n      <th>2016-04-23</th>\n      <td>13.0</td>\n    </tr>\n    <tr>\n      <th>2016-04-24</th>\n      <td>13.0</td>\n    </tr>\n    <tr>\n      <th>2016-04-25</th>\n      <td>13.0</td>\n    </tr>\n    <tr>\n      <th>2016-04-26</th>\n      <td>NaN</td>\n    </tr>\n    <tr>\n      <th>2016-04-27</th>\n      <td>NaN</td>\n    </tr>\n    <tr>\n      <th>2016-04-28</th>\n      <td>NaN</td>\n    </tr>\n    <tr>\n      <th>2016-04-29</th>\n      <td>29.0</td>\n    </tr>\n  </tbody>\n</table>\n</div>"
     },
     "execution_count": 62,
     "metadata": {},
     "output_type": "execute_result"
    }
   ],
   "source": [
    "# df.resample('W-MON', fill_method='ffill',limit=3)\n",
    "df.resample('D').ffill(3)"
   ],
   "metadata": {
    "collapsed": false,
    "pycharm": {
     "name": "#%%\n"
    }
   }
  },
  {
   "cell_type": "code",
   "execution_count": 63,
   "outputs": [
    {
     "data": {
      "text/plain": "             0\n2016-04-25  13\n2016-05-02  29",
      "text/html": "<div>\n<style scoped>\n    .dataframe tbody tr th:only-of-type {\n        vertical-align: middle;\n    }\n\n    .dataframe tbody tr th {\n        vertical-align: top;\n    }\n\n    .dataframe thead th {\n        text-align: right;\n    }\n</style>\n<table border=\"1\" class=\"dataframe\">\n  <thead>\n    <tr style=\"text-align: right;\">\n      <th></th>\n      <th>0</th>\n    </tr>\n  </thead>\n  <tbody>\n    <tr>\n      <th>2016-04-25</th>\n      <td>13</td>\n    </tr>\n    <tr>\n      <th>2016-05-02</th>\n      <td>29</td>\n    </tr>\n  </tbody>\n</table>\n</div>"
     },
     "execution_count": 63,
     "metadata": {},
     "output_type": "execute_result"
    }
   ],
   "source": [
    "# 以周为单位，每周一采样\n",
    "# df.resample('W-MON', fill_method='ffill')\n",
    "df.resample('W-MON').ffill()"
   ],
   "metadata": {
    "collapsed": false,
    "pycharm": {
     "name": "#%%\n"
    }
   }
  },
  {
   "cell_type": "code",
   "execution_count": 66,
   "outputs": [
    {
     "data": {
      "text/plain": "<pandas.core.resample.DatetimeIndexResampler object at 0x11779b310>"
     },
     "execution_count": 66,
     "metadata": {},
     "output_type": "execute_result"
    }
   ],
   "source": [
    "df.resample('W-MON')"
   ],
   "metadata": {
    "collapsed": false,
    "pycharm": {
     "name": "#%%\n"
    }
   }
  },
  {
   "cell_type": "markdown",
   "source": [
    "### 时期重采样"
   ],
   "metadata": {
    "collapsed": false
   }
  },
  {
   "cell_type": "code",
   "execution_count": 68,
   "outputs": [
    {
     "data": {
      "text/plain": "          A   B   C   D\n2015-01   8  22  17  17\n2015-02   2  23  21   5\n2015-03  23  26  15   9\n2015-04  22   3  26  13\n2015-05   9  18  14  19\n2015-06  10  16  25   4\n2015-07   9  16  28   2\n2015-08   5  24  18   7\n2015-09  29  12  19   7\n2015-10  23   4   3  21\n2015-11  24  13   8  29\n2015-12  26  25  19  15\n2016-01  26  23   4  14\n2016-02   9  15  28   9\n2016-03  14  21  26  12\n2016-04  25  19  17  27\n2016-05  21  16  12   2\n2016-06  25  23   2  16\n2016-07  16  23  17  13\n2016-08  14   2  27  14\n2016-09  11   8  24  14\n2016-10  27   5  11  27\n2016-11  14  13  21   9\n2016-12  24  22   7   2",
      "text/html": "<div>\n<style scoped>\n    .dataframe tbody tr th:only-of-type {\n        vertical-align: middle;\n    }\n\n    .dataframe tbody tr th {\n        vertical-align: top;\n    }\n\n    .dataframe thead th {\n        text-align: right;\n    }\n</style>\n<table border=\"1\" class=\"dataframe\">\n  <thead>\n    <tr style=\"text-align: right;\">\n      <th></th>\n      <th>A</th>\n      <th>B</th>\n      <th>C</th>\n      <th>D</th>\n    </tr>\n  </thead>\n  <tbody>\n    <tr>\n      <th>2015-01</th>\n      <td>8</td>\n      <td>22</td>\n      <td>17</td>\n      <td>17</td>\n    </tr>\n    <tr>\n      <th>2015-02</th>\n      <td>2</td>\n      <td>23</td>\n      <td>21</td>\n      <td>5</td>\n    </tr>\n    <tr>\n      <th>2015-03</th>\n      <td>23</td>\n      <td>26</td>\n      <td>15</td>\n      <td>9</td>\n    </tr>\n    <tr>\n      <th>2015-04</th>\n      <td>22</td>\n      <td>3</td>\n      <td>26</td>\n      <td>13</td>\n    </tr>\n    <tr>\n      <th>2015-05</th>\n      <td>9</td>\n      <td>18</td>\n      <td>14</td>\n      <td>19</td>\n    </tr>\n    <tr>\n      <th>2015-06</th>\n      <td>10</td>\n      <td>16</td>\n      <td>25</td>\n      <td>4</td>\n    </tr>\n    <tr>\n      <th>2015-07</th>\n      <td>9</td>\n      <td>16</td>\n      <td>28</td>\n      <td>2</td>\n    </tr>\n    <tr>\n      <th>2015-08</th>\n      <td>5</td>\n      <td>24</td>\n      <td>18</td>\n      <td>7</td>\n    </tr>\n    <tr>\n      <th>2015-09</th>\n      <td>29</td>\n      <td>12</td>\n      <td>19</td>\n      <td>7</td>\n    </tr>\n    <tr>\n      <th>2015-10</th>\n      <td>23</td>\n      <td>4</td>\n      <td>3</td>\n      <td>21</td>\n    </tr>\n    <tr>\n      <th>2015-11</th>\n      <td>24</td>\n      <td>13</td>\n      <td>8</td>\n      <td>29</td>\n    </tr>\n    <tr>\n      <th>2015-12</th>\n      <td>26</td>\n      <td>25</td>\n      <td>19</td>\n      <td>15</td>\n    </tr>\n    <tr>\n      <th>2016-01</th>\n      <td>26</td>\n      <td>23</td>\n      <td>4</td>\n      <td>14</td>\n    </tr>\n    <tr>\n      <th>2016-02</th>\n      <td>9</td>\n      <td>15</td>\n      <td>28</td>\n      <td>9</td>\n    </tr>\n    <tr>\n      <th>2016-03</th>\n      <td>14</td>\n      <td>21</td>\n      <td>26</td>\n      <td>12</td>\n    </tr>\n    <tr>\n      <th>2016-04</th>\n      <td>25</td>\n      <td>19</td>\n      <td>17</td>\n      <td>27</td>\n    </tr>\n    <tr>\n      <th>2016-05</th>\n      <td>21</td>\n      <td>16</td>\n      <td>12</td>\n      <td>2</td>\n    </tr>\n    <tr>\n      <th>2016-06</th>\n      <td>25</td>\n      <td>23</td>\n      <td>2</td>\n      <td>16</td>\n    </tr>\n    <tr>\n      <th>2016-07</th>\n      <td>16</td>\n      <td>23</td>\n      <td>17</td>\n      <td>13</td>\n    </tr>\n    <tr>\n      <th>2016-08</th>\n      <td>14</td>\n      <td>2</td>\n      <td>27</td>\n      <td>14</td>\n    </tr>\n    <tr>\n      <th>2016-09</th>\n      <td>11</td>\n      <td>8</td>\n      <td>24</td>\n      <td>14</td>\n    </tr>\n    <tr>\n      <th>2016-10</th>\n      <td>27</td>\n      <td>5</td>\n      <td>11</td>\n      <td>27</td>\n    </tr>\n    <tr>\n      <th>2016-11</th>\n      <td>14</td>\n      <td>13</td>\n      <td>21</td>\n      <td>9</td>\n    </tr>\n    <tr>\n      <th>2016-12</th>\n      <td>24</td>\n      <td>22</td>\n      <td>7</td>\n      <td>2</td>\n    </tr>\n  </tbody>\n</table>\n</div>"
     },
     "execution_count": 68,
     "metadata": {},
     "output_type": "execute_result"
    }
   ],
   "source": [
    "df = pd.DataFrame(np.random.randint(2, 30, (24, 4)),\n",
    "                  index=pd.period_range('2015-01', '2016-12', freq='M'),\n",
    "                  columns=list('ABCD'))\n",
    "df\n"
   ],
   "metadata": {
    "collapsed": false,
    "pycharm": {
     "name": "#%%\n"
    }
   }
  },
  {
   "cell_type": "code",
   "execution_count": 70,
   "outputs": [
    {
     "data": {
      "text/plain": "              A          B          C          D\n2015  15.833333  16.833333  17.750000  12.333333\n2016  18.833333  15.833333  16.333333  13.250000",
      "text/html": "<div>\n<style scoped>\n    .dataframe tbody tr th:only-of-type {\n        vertical-align: middle;\n    }\n\n    .dataframe tbody tr th {\n        vertical-align: top;\n    }\n\n    .dataframe thead th {\n        text-align: right;\n    }\n</style>\n<table border=\"1\" class=\"dataframe\">\n  <thead>\n    <tr style=\"text-align: right;\">\n      <th></th>\n      <th>A</th>\n      <th>B</th>\n      <th>C</th>\n      <th>D</th>\n    </tr>\n  </thead>\n  <tbody>\n    <tr>\n      <th>2015</th>\n      <td>15.833333</td>\n      <td>16.833333</td>\n      <td>17.750000</td>\n      <td>12.333333</td>\n    </tr>\n    <tr>\n      <th>2016</th>\n      <td>18.833333</td>\n      <td>15.833333</td>\n      <td>16.333333</td>\n      <td>13.250000</td>\n    </tr>\n  </tbody>\n</table>\n</div>"
     },
     "execution_count": 70,
     "metadata": {},
     "output_type": "execute_result"
    }
   ],
   "source": [
    "adf = df.resample('A-DEC').mean()\n",
    "adf"
   ],
   "metadata": {
    "collapsed": false,
    "pycharm": {
     "name": "#%%\n"
    }
   }
  },
  {
   "cell_type": "code",
   "execution_count": 71,
   "outputs": [
    {
     "data": {
      "text/plain": "              A          B          C          D\n2015  12.800000  18.400000  18.600000  12.600000\n2016  18.416667  17.000000  17.250000  12.416667\n2017  18.714286  13.714286  15.571429  13.571429",
      "text/html": "<div>\n<style scoped>\n    .dataframe tbody tr th:only-of-type {\n        vertical-align: middle;\n    }\n\n    .dataframe tbody tr th {\n        vertical-align: top;\n    }\n\n    .dataframe thead th {\n        text-align: right;\n    }\n</style>\n<table border=\"1\" class=\"dataframe\">\n  <thead>\n    <tr style=\"text-align: right;\">\n      <th></th>\n      <th>A</th>\n      <th>B</th>\n      <th>C</th>\n      <th>D</th>\n    </tr>\n  </thead>\n  <tbody>\n    <tr>\n      <th>2015</th>\n      <td>12.800000</td>\n      <td>18.400000</td>\n      <td>18.600000</td>\n      <td>12.600000</td>\n    </tr>\n    <tr>\n      <th>2016</th>\n      <td>18.416667</td>\n      <td>17.000000</td>\n      <td>17.250000</td>\n      <td>12.416667</td>\n    </tr>\n    <tr>\n      <th>2017</th>\n      <td>18.714286</td>\n      <td>13.714286</td>\n      <td>15.571429</td>\n      <td>13.571429</td>\n    </tr>\n  </tbody>\n</table>\n</div>"
     },
     "execution_count": 71,
     "metadata": {},
     "output_type": "execute_result"
    }
   ],
   "source": [
    "df.resample('A-MAY').mean()"
   ],
   "metadata": {
    "collapsed": false,
    "pycharm": {
     "name": "#%%\n"
    }
   }
  },
  {
   "cell_type": "code",
   "execution_count": 73,
   "outputs": [
    {
     "data": {
      "text/plain": "                A          B          C          D\n2015Q1  15.833333  16.833333  17.750000  12.333333\n2015Q2  15.833333  16.833333  17.750000  12.333333\n2015Q3  15.833333  16.833333  17.750000  12.333333\n2015Q4  15.833333  16.833333  17.750000  12.333333\n2016Q1  18.833333  15.833333  16.333333  13.250000\n2016Q2  18.833333  15.833333  16.333333  13.250000\n2016Q3  18.833333  15.833333  16.333333  13.250000\n2016Q4  18.833333  15.833333  16.333333  13.250000",
      "text/html": "<div>\n<style scoped>\n    .dataframe tbody tr th:only-of-type {\n        vertical-align: middle;\n    }\n\n    .dataframe tbody tr th {\n        vertical-align: top;\n    }\n\n    .dataframe thead th {\n        text-align: right;\n    }\n</style>\n<table border=\"1\" class=\"dataframe\">\n  <thead>\n    <tr style=\"text-align: right;\">\n      <th></th>\n      <th>A</th>\n      <th>B</th>\n      <th>C</th>\n      <th>D</th>\n    </tr>\n  </thead>\n  <tbody>\n    <tr>\n      <th>2015Q1</th>\n      <td>15.833333</td>\n      <td>16.833333</td>\n      <td>17.750000</td>\n      <td>12.333333</td>\n    </tr>\n    <tr>\n      <th>2015Q2</th>\n      <td>15.833333</td>\n      <td>16.833333</td>\n      <td>17.750000</td>\n      <td>12.333333</td>\n    </tr>\n    <tr>\n      <th>2015Q3</th>\n      <td>15.833333</td>\n      <td>16.833333</td>\n      <td>17.750000</td>\n      <td>12.333333</td>\n    </tr>\n    <tr>\n      <th>2015Q4</th>\n      <td>15.833333</td>\n      <td>16.833333</td>\n      <td>17.750000</td>\n      <td>12.333333</td>\n    </tr>\n    <tr>\n      <th>2016Q1</th>\n      <td>18.833333</td>\n      <td>15.833333</td>\n      <td>16.333333</td>\n      <td>13.250000</td>\n    </tr>\n    <tr>\n      <th>2016Q2</th>\n      <td>18.833333</td>\n      <td>15.833333</td>\n      <td>16.333333</td>\n      <td>13.250000</td>\n    </tr>\n    <tr>\n      <th>2016Q3</th>\n      <td>18.833333</td>\n      <td>15.833333</td>\n      <td>16.333333</td>\n      <td>13.250000</td>\n    </tr>\n    <tr>\n      <th>2016Q4</th>\n      <td>18.833333</td>\n      <td>15.833333</td>\n      <td>16.333333</td>\n      <td>13.250000</td>\n    </tr>\n  </tbody>\n</table>\n</div>"
     },
     "execution_count": 73,
     "metadata": {},
     "output_type": "execute_result"
    }
   ],
   "source": [
    "# 升采样\n",
    "adf.resample('Q-DEC').ffill()"
   ],
   "metadata": {
    "collapsed": false,
    "pycharm": {
     "name": "#%%\n"
    }
   }
  },
  {
   "cell_type": "markdown",
   "source": [
    "### 性能"
   ],
   "metadata": {
    "collapsed": false
   }
  },
  {
   "cell_type": "code",
   "execution_count": 74,
   "outputs": [
    {
     "data": {
      "text/plain": "10000"
     },
     "execution_count": 74,
     "metadata": {},
     "output_type": "execute_result"
    }
   ],
   "source": [
    "n = 10000\n",
    "ts = pd.Series(np.random.randn(n),index=pd.date_range('2020-01-01',periods=n,freq='10ms'))\n",
    "len(ts)\n"
   ],
   "metadata": {
    "collapsed": false,
    "pycharm": {
     "name": "#%%\n"
    }
   }
  },
  {
   "cell_type": "code",
   "execution_count": 75,
   "outputs": [
    {
     "name": "stdout",
     "output_type": "stream",
     "text": [
      "2.27 ms ± 536 µs per loop (mean ± std. dev. of 7 runs, 100 loops each)\n"
     ]
    }
   ],
   "source": [
    "%timeit ts.resample('10min').ohlc()"
   ],
   "metadata": {
    "collapsed": false,
    "pycharm": {
     "name": "#%%\n"
    }
   }
  },
  {
   "cell_type": "code",
   "execution_count": 76,
   "outputs": [
    {
     "data": {
      "text/plain": "                open     high       low     close\n2020-01-01  0.177078  3.91372 -4.219765  1.011024",
      "text/html": "<div>\n<style scoped>\n    .dataframe tbody tr th:only-of-type {\n        vertical-align: middle;\n    }\n\n    .dataframe tbody tr th {\n        vertical-align: top;\n    }\n\n    .dataframe thead th {\n        text-align: right;\n    }\n</style>\n<table border=\"1\" class=\"dataframe\">\n  <thead>\n    <tr style=\"text-align: right;\">\n      <th></th>\n      <th>open</th>\n      <th>high</th>\n      <th>low</th>\n      <th>close</th>\n    </tr>\n  </thead>\n  <tbody>\n    <tr>\n      <th>2020-01-01</th>\n      <td>0.177078</td>\n      <td>3.91372</td>\n      <td>-4.219765</td>\n      <td>1.011024</td>\n    </tr>\n  </tbody>\n</table>\n</div>"
     },
     "execution_count": 76,
     "metadata": {},
     "output_type": "execute_result"
    }
   ],
   "source": [
    "ts.resample('D').ohlc()"
   ],
   "metadata": {
    "collapsed": false,
    "pycharm": {
     "name": "#%%\n"
    }
   }
  },
  {
   "cell_type": "markdown",
   "source": [
    "## 从文件中读取日期序列"
   ],
   "metadata": {
    "collapsed": false,
    "pycharm": {
     "name": "#%% md\n"
    }
   }
  },
  {
   "cell_type": "code",
   "execution_count": 85,
   "outputs": [],
   "source": [
    "os.chdir(r'/Users/joey/PycharmProjects/mywork')"
   ],
   "metadata": {
    "collapsed": false,
    "pycharm": {
     "name": "#%%\n"
    }
   }
  },
  {
   "cell_type": "code",
   "execution_count": 86,
   "outputs": [
    {
     "data": {
      "text/plain": "             Open   High    Low  Close    Volume  Adj Close\nDate                                                       \n2015-12-22  16.86  17.13  16.48  16.95  13519900      16.95\n2015-12-21  16.31  17.00  16.20  16.85  14132200      16.85\n2015-12-18  16.59  16.70  16.21  16.31  10524300      16.31\n2015-12-17  16.28  16.75  16.16  16.60  12326500      16.60\n2015-12-16  16.23  16.42  16.05  16.28   8026000      16.28\n2015-12-15  16.06  16.31  15.95  16.18   6647500      16.18\n2015-12-14  15.60  16.06  15.45  16.06   8355200      16.06\n2015-12-11  15.50  15.80  15.41  15.62   7243500      15.62\n2015-12-10  15.99  16.05  15.51  15.56   7654900      15.56\n2015-12-09  16.00  16.19  15.80  15.83   7926900      15.83\n2015-12-08  16.54  16.55  16.01  16.05   7640100      16.05\n2015-12-07  16.50  17.04  16.48  16.63  11917200      16.63\n2015-12-04  16.13  16.85  16.01  16.62  14011100      16.62\n2015-12-03  15.97  16.34  15.88  16.21   9504000      16.21\n2015-12-02  15.89  16.04  15.50  15.88  11229600      15.88\n2015-12-01  15.67  15.96  15.50  15.85   7192200      15.85\n2015-11-30  15.54  15.90  15.05  15.70  11615200      15.70\n2015-11-27  16.61  16.99  15.10  15.54  15177000      15.54\n2015-11-26  16.98  17.22  16.62  16.78  13196300      16.78\n2015-11-25  16.15  17.04  16.03  16.94  18600100      16.94\n2015-11-24  15.90  16.20  15.70  16.15   8561200      16.15\n2015-11-23  16.09  16.32  16.00  16.05   9441700      16.05\n2015-11-20  15.96  16.17  15.81  16.08   8022200      16.08\n2015-11-19  15.75  16.05  15.71  16.02   5193300      16.02\n2015-11-18  16.26  16.30  15.72  15.75   7318500      15.75\n2015-11-17  16.41  16.47  16.11  16.22  11479800      16.22\n2015-11-16  15.70  16.22  15.61  16.21   9083200      16.21\n2015-11-13  16.36  16.47  15.90  15.95  12924400      15.95\n2015-11-12  16.23  16.92  16.00  16.59  16492800      16.59\n2015-11-11  16.16  16.28  15.81  16.22  15661900      16.22\n2015-11-10  16.29  16.69  16.04  16.15  21457600      16.15\n2015-11-09  15.70  16.29  15.56  16.02  20842600      16.02\n2015-11-06  15.53  16.01  15.41  15.86  17735800      15.86\n2015-11-05  15.33  15.79  15.21  15.52  19051400      15.52\n2015-11-04  14.65  15.35  14.65  15.33  14578200      15.33\n2015-11-03  14.84  14.96  14.44  14.62   6576300      14.62\n2015-11-02  14.91  15.18  14.74  14.74   9487800      14.74\n2015-10-30  15.25  15.52  14.81  15.22  12908500      15.22\n2015-10-29  15.01  15.36  14.96  15.30  11177100      15.30\n2015-10-28  15.14  15.50  14.96  15.02  11373200      15.02\n2015-10-27  15.10  15.17  14.51  15.15  12950400      15.15\n2015-10-26  15.41  15.55  14.87  15.18  15844500      15.18\n2015-10-23  14.80  15.23  14.75  15.20  14769000      15.20\n2015-10-22  14.28  14.82  14.25  14.73  10428900      14.73\n2015-10-21  15.24  15.70  14.08  14.26  21113500      14.26\n2015-10-20  14.99  15.24  14.89  15.22  11935800      15.22\n2015-10-19  15.27  15.35  14.85  15.03  11601300      15.03\n2015-10-16  15.23  15.35  14.82  15.25  14168700      15.25\n2015-10-15  14.73  15.15  14.60  15.12  11177700      15.12\n2015-10-14  14.99  15.12  14.72  14.73  10368900      14.73\n2015-10-13  15.02  15.19  14.85  15.07  13408200      15.07\n2015-10-12  14.63  15.43  14.41  15.30  24110800      15.30\n2015-10-09  14.50  14.79  14.11  14.62  23818500      14.62\n2015-10-08  14.75  14.75  14.65  14.75  18317200      14.75\n2015-10-07  13.41  13.41  13.41  13.41         0      13.41\n2015-10-06  13.41  13.41  13.41  13.41         0      13.41\n2015-10-05  13.41  13.41  13.41  13.41         0      13.41\n2015-10-02  13.41  13.41  13.41  13.41         0      13.41\n2015-10-01  13.41  13.41  13.41  13.41         0      13.41",
      "text/html": "<div>\n<style scoped>\n    .dataframe tbody tr th:only-of-type {\n        vertical-align: middle;\n    }\n\n    .dataframe tbody tr th {\n        vertical-align: top;\n    }\n\n    .dataframe thead th {\n        text-align: right;\n    }\n</style>\n<table border=\"1\" class=\"dataframe\">\n  <thead>\n    <tr style=\"text-align: right;\">\n      <th></th>\n      <th>Open</th>\n      <th>High</th>\n      <th>Low</th>\n      <th>Close</th>\n      <th>Volume</th>\n      <th>Adj Close</th>\n    </tr>\n    <tr>\n      <th>Date</th>\n      <th></th>\n      <th></th>\n      <th></th>\n      <th></th>\n      <th></th>\n      <th></th>\n    </tr>\n  </thead>\n  <tbody>\n    <tr>\n      <th>2015-12-22</th>\n      <td>16.86</td>\n      <td>17.13</td>\n      <td>16.48</td>\n      <td>16.95</td>\n      <td>13519900</td>\n      <td>16.95</td>\n    </tr>\n    <tr>\n      <th>2015-12-21</th>\n      <td>16.31</td>\n      <td>17.00</td>\n      <td>16.20</td>\n      <td>16.85</td>\n      <td>14132200</td>\n      <td>16.85</td>\n    </tr>\n    <tr>\n      <th>2015-12-18</th>\n      <td>16.59</td>\n      <td>16.70</td>\n      <td>16.21</td>\n      <td>16.31</td>\n      <td>10524300</td>\n      <td>16.31</td>\n    </tr>\n    <tr>\n      <th>2015-12-17</th>\n      <td>16.28</td>\n      <td>16.75</td>\n      <td>16.16</td>\n      <td>16.60</td>\n      <td>12326500</td>\n      <td>16.60</td>\n    </tr>\n    <tr>\n      <th>2015-12-16</th>\n      <td>16.23</td>\n      <td>16.42</td>\n      <td>16.05</td>\n      <td>16.28</td>\n      <td>8026000</td>\n      <td>16.28</td>\n    </tr>\n    <tr>\n      <th>2015-12-15</th>\n      <td>16.06</td>\n      <td>16.31</td>\n      <td>15.95</td>\n      <td>16.18</td>\n      <td>6647500</td>\n      <td>16.18</td>\n    </tr>\n    <tr>\n      <th>2015-12-14</th>\n      <td>15.60</td>\n      <td>16.06</td>\n      <td>15.45</td>\n      <td>16.06</td>\n      <td>8355200</td>\n      <td>16.06</td>\n    </tr>\n    <tr>\n      <th>2015-12-11</th>\n      <td>15.50</td>\n      <td>15.80</td>\n      <td>15.41</td>\n      <td>15.62</td>\n      <td>7243500</td>\n      <td>15.62</td>\n    </tr>\n    <tr>\n      <th>2015-12-10</th>\n      <td>15.99</td>\n      <td>16.05</td>\n      <td>15.51</td>\n      <td>15.56</td>\n      <td>7654900</td>\n      <td>15.56</td>\n    </tr>\n    <tr>\n      <th>2015-12-09</th>\n      <td>16.00</td>\n      <td>16.19</td>\n      <td>15.80</td>\n      <td>15.83</td>\n      <td>7926900</td>\n      <td>15.83</td>\n    </tr>\n    <tr>\n      <th>2015-12-08</th>\n      <td>16.54</td>\n      <td>16.55</td>\n      <td>16.01</td>\n      <td>16.05</td>\n      <td>7640100</td>\n      <td>16.05</td>\n    </tr>\n    <tr>\n      <th>2015-12-07</th>\n      <td>16.50</td>\n      <td>17.04</td>\n      <td>16.48</td>\n      <td>16.63</td>\n      <td>11917200</td>\n      <td>16.63</td>\n    </tr>\n    <tr>\n      <th>2015-12-04</th>\n      <td>16.13</td>\n      <td>16.85</td>\n      <td>16.01</td>\n      <td>16.62</td>\n      <td>14011100</td>\n      <td>16.62</td>\n    </tr>\n    <tr>\n      <th>2015-12-03</th>\n      <td>15.97</td>\n      <td>16.34</td>\n      <td>15.88</td>\n      <td>16.21</td>\n      <td>9504000</td>\n      <td>16.21</td>\n    </tr>\n    <tr>\n      <th>2015-12-02</th>\n      <td>15.89</td>\n      <td>16.04</td>\n      <td>15.50</td>\n      <td>15.88</td>\n      <td>11229600</td>\n      <td>15.88</td>\n    </tr>\n    <tr>\n      <th>2015-12-01</th>\n      <td>15.67</td>\n      <td>15.96</td>\n      <td>15.50</td>\n      <td>15.85</td>\n      <td>7192200</td>\n      <td>15.85</td>\n    </tr>\n    <tr>\n      <th>2015-11-30</th>\n      <td>15.54</td>\n      <td>15.90</td>\n      <td>15.05</td>\n      <td>15.70</td>\n      <td>11615200</td>\n      <td>15.70</td>\n    </tr>\n    <tr>\n      <th>2015-11-27</th>\n      <td>16.61</td>\n      <td>16.99</td>\n      <td>15.10</td>\n      <td>15.54</td>\n      <td>15177000</td>\n      <td>15.54</td>\n    </tr>\n    <tr>\n      <th>2015-11-26</th>\n      <td>16.98</td>\n      <td>17.22</td>\n      <td>16.62</td>\n      <td>16.78</td>\n      <td>13196300</td>\n      <td>16.78</td>\n    </tr>\n    <tr>\n      <th>2015-11-25</th>\n      <td>16.15</td>\n      <td>17.04</td>\n      <td>16.03</td>\n      <td>16.94</td>\n      <td>18600100</td>\n      <td>16.94</td>\n    </tr>\n    <tr>\n      <th>2015-11-24</th>\n      <td>15.90</td>\n      <td>16.20</td>\n      <td>15.70</td>\n      <td>16.15</td>\n      <td>8561200</td>\n      <td>16.15</td>\n    </tr>\n    <tr>\n      <th>2015-11-23</th>\n      <td>16.09</td>\n      <td>16.32</td>\n      <td>16.00</td>\n      <td>16.05</td>\n      <td>9441700</td>\n      <td>16.05</td>\n    </tr>\n    <tr>\n      <th>2015-11-20</th>\n      <td>15.96</td>\n      <td>16.17</td>\n      <td>15.81</td>\n      <td>16.08</td>\n      <td>8022200</td>\n      <td>16.08</td>\n    </tr>\n    <tr>\n      <th>2015-11-19</th>\n      <td>15.75</td>\n      <td>16.05</td>\n      <td>15.71</td>\n      <td>16.02</td>\n      <td>5193300</td>\n      <td>16.02</td>\n    </tr>\n    <tr>\n      <th>2015-11-18</th>\n      <td>16.26</td>\n      <td>16.30</td>\n      <td>15.72</td>\n      <td>15.75</td>\n      <td>7318500</td>\n      <td>15.75</td>\n    </tr>\n    <tr>\n      <th>2015-11-17</th>\n      <td>16.41</td>\n      <td>16.47</td>\n      <td>16.11</td>\n      <td>16.22</td>\n      <td>11479800</td>\n      <td>16.22</td>\n    </tr>\n    <tr>\n      <th>2015-11-16</th>\n      <td>15.70</td>\n      <td>16.22</td>\n      <td>15.61</td>\n      <td>16.21</td>\n      <td>9083200</td>\n      <td>16.21</td>\n    </tr>\n    <tr>\n      <th>2015-11-13</th>\n      <td>16.36</td>\n      <td>16.47</td>\n      <td>15.90</td>\n      <td>15.95</td>\n      <td>12924400</td>\n      <td>15.95</td>\n    </tr>\n    <tr>\n      <th>2015-11-12</th>\n      <td>16.23</td>\n      <td>16.92</td>\n      <td>16.00</td>\n      <td>16.59</td>\n      <td>16492800</td>\n      <td>16.59</td>\n    </tr>\n    <tr>\n      <th>2015-11-11</th>\n      <td>16.16</td>\n      <td>16.28</td>\n      <td>15.81</td>\n      <td>16.22</td>\n      <td>15661900</td>\n      <td>16.22</td>\n    </tr>\n    <tr>\n      <th>2015-11-10</th>\n      <td>16.29</td>\n      <td>16.69</td>\n      <td>16.04</td>\n      <td>16.15</td>\n      <td>21457600</td>\n      <td>16.15</td>\n    </tr>\n    <tr>\n      <th>2015-11-09</th>\n      <td>15.70</td>\n      <td>16.29</td>\n      <td>15.56</td>\n      <td>16.02</td>\n      <td>20842600</td>\n      <td>16.02</td>\n    </tr>\n    <tr>\n      <th>2015-11-06</th>\n      <td>15.53</td>\n      <td>16.01</td>\n      <td>15.41</td>\n      <td>15.86</td>\n      <td>17735800</td>\n      <td>15.86</td>\n    </tr>\n    <tr>\n      <th>2015-11-05</th>\n      <td>15.33</td>\n      <td>15.79</td>\n      <td>15.21</td>\n      <td>15.52</td>\n      <td>19051400</td>\n      <td>15.52</td>\n    </tr>\n    <tr>\n      <th>2015-11-04</th>\n      <td>14.65</td>\n      <td>15.35</td>\n      <td>14.65</td>\n      <td>15.33</td>\n      <td>14578200</td>\n      <td>15.33</td>\n    </tr>\n    <tr>\n      <th>2015-11-03</th>\n      <td>14.84</td>\n      <td>14.96</td>\n      <td>14.44</td>\n      <td>14.62</td>\n      <td>6576300</td>\n      <td>14.62</td>\n    </tr>\n    <tr>\n      <th>2015-11-02</th>\n      <td>14.91</td>\n      <td>15.18</td>\n      <td>14.74</td>\n      <td>14.74</td>\n      <td>9487800</td>\n      <td>14.74</td>\n    </tr>\n    <tr>\n      <th>2015-10-30</th>\n      <td>15.25</td>\n      <td>15.52</td>\n      <td>14.81</td>\n      <td>15.22</td>\n      <td>12908500</td>\n      <td>15.22</td>\n    </tr>\n    <tr>\n      <th>2015-10-29</th>\n      <td>15.01</td>\n      <td>15.36</td>\n      <td>14.96</td>\n      <td>15.30</td>\n      <td>11177100</td>\n      <td>15.30</td>\n    </tr>\n    <tr>\n      <th>2015-10-28</th>\n      <td>15.14</td>\n      <td>15.50</td>\n      <td>14.96</td>\n      <td>15.02</td>\n      <td>11373200</td>\n      <td>15.02</td>\n    </tr>\n    <tr>\n      <th>2015-10-27</th>\n      <td>15.10</td>\n      <td>15.17</td>\n      <td>14.51</td>\n      <td>15.15</td>\n      <td>12950400</td>\n      <td>15.15</td>\n    </tr>\n    <tr>\n      <th>2015-10-26</th>\n      <td>15.41</td>\n      <td>15.55</td>\n      <td>14.87</td>\n      <td>15.18</td>\n      <td>15844500</td>\n      <td>15.18</td>\n    </tr>\n    <tr>\n      <th>2015-10-23</th>\n      <td>14.80</td>\n      <td>15.23</td>\n      <td>14.75</td>\n      <td>15.20</td>\n      <td>14769000</td>\n      <td>15.20</td>\n    </tr>\n    <tr>\n      <th>2015-10-22</th>\n      <td>14.28</td>\n      <td>14.82</td>\n      <td>14.25</td>\n      <td>14.73</td>\n      <td>10428900</td>\n      <td>14.73</td>\n    </tr>\n    <tr>\n      <th>2015-10-21</th>\n      <td>15.24</td>\n      <td>15.70</td>\n      <td>14.08</td>\n      <td>14.26</td>\n      <td>21113500</td>\n      <td>14.26</td>\n    </tr>\n    <tr>\n      <th>2015-10-20</th>\n      <td>14.99</td>\n      <td>15.24</td>\n      <td>14.89</td>\n      <td>15.22</td>\n      <td>11935800</td>\n      <td>15.22</td>\n    </tr>\n    <tr>\n      <th>2015-10-19</th>\n      <td>15.27</td>\n      <td>15.35</td>\n      <td>14.85</td>\n      <td>15.03</td>\n      <td>11601300</td>\n      <td>15.03</td>\n    </tr>\n    <tr>\n      <th>2015-10-16</th>\n      <td>15.23</td>\n      <td>15.35</td>\n      <td>14.82</td>\n      <td>15.25</td>\n      <td>14168700</td>\n      <td>15.25</td>\n    </tr>\n    <tr>\n      <th>2015-10-15</th>\n      <td>14.73</td>\n      <td>15.15</td>\n      <td>14.60</td>\n      <td>15.12</td>\n      <td>11177700</td>\n      <td>15.12</td>\n    </tr>\n    <tr>\n      <th>2015-10-14</th>\n      <td>14.99</td>\n      <td>15.12</td>\n      <td>14.72</td>\n      <td>14.73</td>\n      <td>10368900</td>\n      <td>14.73</td>\n    </tr>\n    <tr>\n      <th>2015-10-13</th>\n      <td>15.02</td>\n      <td>15.19</td>\n      <td>14.85</td>\n      <td>15.07</td>\n      <td>13408200</td>\n      <td>15.07</td>\n    </tr>\n    <tr>\n      <th>2015-10-12</th>\n      <td>14.63</td>\n      <td>15.43</td>\n      <td>14.41</td>\n      <td>15.30</td>\n      <td>24110800</td>\n      <td>15.30</td>\n    </tr>\n    <tr>\n      <th>2015-10-09</th>\n      <td>14.50</td>\n      <td>14.79</td>\n      <td>14.11</td>\n      <td>14.62</td>\n      <td>23818500</td>\n      <td>14.62</td>\n    </tr>\n    <tr>\n      <th>2015-10-08</th>\n      <td>14.75</td>\n      <td>14.75</td>\n      <td>14.65</td>\n      <td>14.75</td>\n      <td>18317200</td>\n      <td>14.75</td>\n    </tr>\n    <tr>\n      <th>2015-10-07</th>\n      <td>13.41</td>\n      <td>13.41</td>\n      <td>13.41</td>\n      <td>13.41</td>\n      <td>0</td>\n      <td>13.41</td>\n    </tr>\n    <tr>\n      <th>2015-10-06</th>\n      <td>13.41</td>\n      <td>13.41</td>\n      <td>13.41</td>\n      <td>13.41</td>\n      <td>0</td>\n      <td>13.41</td>\n    </tr>\n    <tr>\n      <th>2015-10-05</th>\n      <td>13.41</td>\n      <td>13.41</td>\n      <td>13.41</td>\n      <td>13.41</td>\n      <td>0</td>\n      <td>13.41</td>\n    </tr>\n    <tr>\n      <th>2015-10-02</th>\n      <td>13.41</td>\n      <td>13.41</td>\n      <td>13.41</td>\n      <td>13.41</td>\n      <td>0</td>\n      <td>13.41</td>\n    </tr>\n    <tr>\n      <th>2015-10-01</th>\n      <td>13.41</td>\n      <td>13.41</td>\n      <td>13.41</td>\n      <td>13.41</td>\n      <td>0</td>\n      <td>13.41</td>\n    </tr>\n  </tbody>\n</table>\n</div>"
     },
     "execution_count": 86,
     "metadata": {},
     "output_type": "execute_result"
    }
   ],
   "source": [
    "df = pd.read_csv('Pandas/002001.csv', index_col='Date')\n",
    "df"
   ],
   "metadata": {
    "collapsed": false,
    "pycharm": {
     "name": "#%%\n"
    }
   }
  },
  {
   "cell_type": "code",
   "execution_count": 87,
   "outputs": [
    {
     "data": {
      "text/plain": "Index(['2015-12-22', '2015-12-21', '2015-12-18', '2015-12-17', '2015-12-16',\n       '2015-12-15', '2015-12-14', '2015-12-11', '2015-12-10', '2015-12-09',\n       '2015-12-08', '2015-12-07', '2015-12-04', '2015-12-03', '2015-12-02',\n       '2015-12-01', '2015-11-30', '2015-11-27', '2015-11-26', '2015-11-25',\n       '2015-11-24', '2015-11-23', '2015-11-20', '2015-11-19', '2015-11-18',\n       '2015-11-17', '2015-11-16', '2015-11-13', '2015-11-12', '2015-11-11',\n       '2015-11-10', '2015-11-09', '2015-11-06', '2015-11-05', '2015-11-04',\n       '2015-11-03', '2015-11-02', '2015-10-30', '2015-10-29', '2015-10-28',\n       '2015-10-27', '2015-10-26', '2015-10-23', '2015-10-22', '2015-10-21',\n       '2015-10-20', '2015-10-19', '2015-10-16', '2015-10-15', '2015-10-14',\n       '2015-10-13', '2015-10-12', '2015-10-09', '2015-10-08', '2015-10-07',\n       '2015-10-06', '2015-10-05', '2015-10-02', '2015-10-01'],\n      dtype='object', name='Date')"
     },
     "execution_count": 87,
     "metadata": {},
     "output_type": "execute_result"
    }
   ],
   "source": [
    "df.index"
   ],
   "metadata": {
    "collapsed": false,
    "pycharm": {
     "name": "#%%\n"
    }
   }
  },
  {
   "cell_type": "code",
   "execution_count": 88,
   "outputs": [
    {
     "data": {
      "text/plain": "DatetimeIndex(['2015-12-22', '2015-12-21', '2015-12-18', '2015-12-17',\n               '2015-12-16', '2015-12-15', '2015-12-14', '2015-12-11',\n               '2015-12-10', '2015-12-09', '2015-12-08', '2015-12-07',\n               '2015-12-04', '2015-12-03', '2015-12-02', '2015-12-01',\n               '2015-11-30', '2015-11-27', '2015-11-26', '2015-11-25',\n               '2015-11-24', '2015-11-23', '2015-11-20', '2015-11-19',\n               '2015-11-18', '2015-11-17', '2015-11-16', '2015-11-13',\n               '2015-11-12', '2015-11-11', '2015-11-10', '2015-11-09',\n               '2015-11-06', '2015-11-05', '2015-11-04', '2015-11-03',\n               '2015-11-02', '2015-10-30', '2015-10-29', '2015-10-28',\n               '2015-10-27', '2015-10-26', '2015-10-23', '2015-10-22',\n               '2015-10-21', '2015-10-20', '2015-10-19', '2015-10-16',\n               '2015-10-15', '2015-10-14', '2015-10-13', '2015-10-12',\n               '2015-10-09', '2015-10-08', '2015-10-07', '2015-10-06',\n               '2015-10-05', '2015-10-02', '2015-10-01'],\n              dtype='datetime64[ns]', name='Date', freq=None)"
     },
     "execution_count": 88,
     "metadata": {},
     "output_type": "execute_result"
    }
   ],
   "source": [
    "df = pd.read_csv('Pandas/002001.csv', index_col='Date', parse_dates=True)\n",
    "df.index"
   ],
   "metadata": {
    "collapsed": false,
    "pycharm": {
     "name": "#%%\n"
    }
   }
  },
  {
   "cell_type": "code",
   "execution_count": 90,
   "outputs": [
    {
     "data": {
      "text/plain": "             open   high    low  close\nDate                                  \n2015-10-02  13.41  13.41  13.41  13.41\n2015-10-09  13.41  14.75  13.41  14.62\n2015-10-16  15.30  15.30  14.73  15.25\n2015-10-23  15.03  15.22  14.26  15.20\n2015-10-30  15.18  15.30  15.02  15.22\n2015-11-06  14.74  15.86  14.62  15.86\n2015-11-13  16.02  16.59  15.95  15.95\n2015-11-20  16.21  16.22  15.75  16.08\n2015-11-27  16.05  16.94  15.54  15.54\n2015-12-04  15.70  16.62  15.70  16.62\n2015-12-11  16.63  16.63  15.56  15.62\n2015-12-18  16.06  16.60  16.06  16.31\n2015-12-25  16.85  16.95  16.85  16.95",
      "text/html": "<div>\n<style scoped>\n    .dataframe tbody tr th:only-of-type {\n        vertical-align: middle;\n    }\n\n    .dataframe tbody tr th {\n        vertical-align: top;\n    }\n\n    .dataframe thead th {\n        text-align: right;\n    }\n</style>\n<table border=\"1\" class=\"dataframe\">\n  <thead>\n    <tr style=\"text-align: right;\">\n      <th></th>\n      <th>open</th>\n      <th>high</th>\n      <th>low</th>\n      <th>close</th>\n    </tr>\n    <tr>\n      <th>Date</th>\n      <th></th>\n      <th></th>\n      <th></th>\n      <th></th>\n    </tr>\n  </thead>\n  <tbody>\n    <tr>\n      <th>2015-10-02</th>\n      <td>13.41</td>\n      <td>13.41</td>\n      <td>13.41</td>\n      <td>13.41</td>\n    </tr>\n    <tr>\n      <th>2015-10-09</th>\n      <td>13.41</td>\n      <td>14.75</td>\n      <td>13.41</td>\n      <td>14.62</td>\n    </tr>\n    <tr>\n      <th>2015-10-16</th>\n      <td>15.30</td>\n      <td>15.30</td>\n      <td>14.73</td>\n      <td>15.25</td>\n    </tr>\n    <tr>\n      <th>2015-10-23</th>\n      <td>15.03</td>\n      <td>15.22</td>\n      <td>14.26</td>\n      <td>15.20</td>\n    </tr>\n    <tr>\n      <th>2015-10-30</th>\n      <td>15.18</td>\n      <td>15.30</td>\n      <td>15.02</td>\n      <td>15.22</td>\n    </tr>\n    <tr>\n      <th>2015-11-06</th>\n      <td>14.74</td>\n      <td>15.86</td>\n      <td>14.62</td>\n      <td>15.86</td>\n    </tr>\n    <tr>\n      <th>2015-11-13</th>\n      <td>16.02</td>\n      <td>16.59</td>\n      <td>15.95</td>\n      <td>15.95</td>\n    </tr>\n    <tr>\n      <th>2015-11-20</th>\n      <td>16.21</td>\n      <td>16.22</td>\n      <td>15.75</td>\n      <td>16.08</td>\n    </tr>\n    <tr>\n      <th>2015-11-27</th>\n      <td>16.05</td>\n      <td>16.94</td>\n      <td>15.54</td>\n      <td>15.54</td>\n    </tr>\n    <tr>\n      <th>2015-12-04</th>\n      <td>15.70</td>\n      <td>16.62</td>\n      <td>15.70</td>\n      <td>16.62</td>\n    </tr>\n    <tr>\n      <th>2015-12-11</th>\n      <td>16.63</td>\n      <td>16.63</td>\n      <td>15.56</td>\n      <td>15.62</td>\n    </tr>\n    <tr>\n      <th>2015-12-18</th>\n      <td>16.06</td>\n      <td>16.60</td>\n      <td>16.06</td>\n      <td>16.31</td>\n    </tr>\n    <tr>\n      <th>2015-12-25</th>\n      <td>16.85</td>\n      <td>16.95</td>\n      <td>16.85</td>\n      <td>16.95</td>\n    </tr>\n  </tbody>\n</table>\n</div>"
     },
     "execution_count": 90,
     "metadata": {},
     "output_type": "execute_result"
    }
   ],
   "source": [
    "wdf = df['Adj Close'].resample('W-FRI').ohlc()\n",
    "# wdf = df['Adj Close'].resample('W-FRI', how='ohlc')\n",
    "wdf"
   ],
   "metadata": {
    "collapsed": false,
    "pycharm": {
     "name": "#%%\n"
    }
   }
  },
  {
   "cell_type": "code",
   "execution_count": 91,
   "outputs": [
    {
     "data": {
      "text/plain": "             open   high    low  close    Volume\nDate                                            \n2015-10-02  13.41  13.41  13.41  13.41         0\n2015-10-09  13.41  14.75  13.41  14.62  42135700\n2015-10-16  15.30  15.30  14.73  15.25  73234300\n2015-10-23  15.03  15.22  14.26  15.20  69848500\n2015-10-30  15.18  15.30  15.02  15.22  64253700\n2015-11-06  14.74  15.86  14.62  15.86  67429500\n2015-11-13  16.02  16.59  15.95  15.95  87379300\n2015-11-20  16.21  16.22  15.75  16.08  41097000\n2015-11-27  16.05  16.94  15.54  15.54  64976300\n2015-12-04  15.70  16.62  15.70  16.62  53552100\n2015-12-11  16.63  16.63  15.56  15.62  42382600\n2015-12-18  16.06  16.60  16.06  16.31  45879500\n2015-12-25  16.85  16.95  16.85  16.95  27652100",
      "text/html": "<div>\n<style scoped>\n    .dataframe tbody tr th:only-of-type {\n        vertical-align: middle;\n    }\n\n    .dataframe tbody tr th {\n        vertical-align: top;\n    }\n\n    .dataframe thead th {\n        text-align: right;\n    }\n</style>\n<table border=\"1\" class=\"dataframe\">\n  <thead>\n    <tr style=\"text-align: right;\">\n      <th></th>\n      <th>open</th>\n      <th>high</th>\n      <th>low</th>\n      <th>close</th>\n      <th>Volume</th>\n    </tr>\n    <tr>\n      <th>Date</th>\n      <th></th>\n      <th></th>\n      <th></th>\n      <th></th>\n      <th></th>\n    </tr>\n  </thead>\n  <tbody>\n    <tr>\n      <th>2015-10-02</th>\n      <td>13.41</td>\n      <td>13.41</td>\n      <td>13.41</td>\n      <td>13.41</td>\n      <td>0</td>\n    </tr>\n    <tr>\n      <th>2015-10-09</th>\n      <td>13.41</td>\n      <td>14.75</td>\n      <td>13.41</td>\n      <td>14.62</td>\n      <td>42135700</td>\n    </tr>\n    <tr>\n      <th>2015-10-16</th>\n      <td>15.30</td>\n      <td>15.30</td>\n      <td>14.73</td>\n      <td>15.25</td>\n      <td>73234300</td>\n    </tr>\n    <tr>\n      <th>2015-10-23</th>\n      <td>15.03</td>\n      <td>15.22</td>\n      <td>14.26</td>\n      <td>15.20</td>\n      <td>69848500</td>\n    </tr>\n    <tr>\n      <th>2015-10-30</th>\n      <td>15.18</td>\n      <td>15.30</td>\n      <td>15.02</td>\n      <td>15.22</td>\n      <td>64253700</td>\n    </tr>\n    <tr>\n      <th>2015-11-06</th>\n      <td>14.74</td>\n      <td>15.86</td>\n      <td>14.62</td>\n      <td>15.86</td>\n      <td>67429500</td>\n    </tr>\n    <tr>\n      <th>2015-11-13</th>\n      <td>16.02</td>\n      <td>16.59</td>\n      <td>15.95</td>\n      <td>15.95</td>\n      <td>87379300</td>\n    </tr>\n    <tr>\n      <th>2015-11-20</th>\n      <td>16.21</td>\n      <td>16.22</td>\n      <td>15.75</td>\n      <td>16.08</td>\n      <td>41097000</td>\n    </tr>\n    <tr>\n      <th>2015-11-27</th>\n      <td>16.05</td>\n      <td>16.94</td>\n      <td>15.54</td>\n      <td>15.54</td>\n      <td>64976300</td>\n    </tr>\n    <tr>\n      <th>2015-12-04</th>\n      <td>15.70</td>\n      <td>16.62</td>\n      <td>15.70</td>\n      <td>16.62</td>\n      <td>53552100</td>\n    </tr>\n    <tr>\n      <th>2015-12-11</th>\n      <td>16.63</td>\n      <td>16.63</td>\n      <td>15.56</td>\n      <td>15.62</td>\n      <td>42382600</td>\n    </tr>\n    <tr>\n      <th>2015-12-18</th>\n      <td>16.06</td>\n      <td>16.60</td>\n      <td>16.06</td>\n      <td>16.31</td>\n      <td>45879500</td>\n    </tr>\n    <tr>\n      <th>2015-12-25</th>\n      <td>16.85</td>\n      <td>16.95</td>\n      <td>16.85</td>\n      <td>16.95</td>\n      <td>27652100</td>\n    </tr>\n  </tbody>\n</table>\n</div>"
     },
     "execution_count": 91,
     "metadata": {},
     "output_type": "execute_result"
    }
   ],
   "source": [
    "wdf['Volume'] = df['Volume'].resample('W-FRI').sum()\n",
    "wdf\n",
    "\n"
   ],
   "metadata": {
    "collapsed": false,
    "pycharm": {
     "name": "#%%\n"
    }
   }
  },
  {
   "cell_type": "markdown",
   "source": [
    "### 自定义时间日期解析函数"
   ],
   "metadata": {
    "collapsed": false,
    "pycharm": {
     "name": "#%% md\n"
    }
   }
  },
  {
   "cell_type": "code",
   "execution_count": 92,
   "outputs": [
    {
     "data": {
      "text/plain": "            Price\nDate             \n2016-01-01   10.2\n2016-01-02   10.4\n2016-01-03   10.5\n2016-01-04   10.8\n2016-01-05   11.2\n2016-01-06   10.6",
      "text/html": "<div>\n<style scoped>\n    .dataframe tbody tr th:only-of-type {\n        vertical-align: middle;\n    }\n\n    .dataframe tbody tr th {\n        vertical-align: top;\n    }\n\n    .dataframe thead th {\n        text-align: right;\n    }\n</style>\n<table border=\"1\" class=\"dataframe\">\n  <thead>\n    <tr style=\"text-align: right;\">\n      <th></th>\n      <th>Price</th>\n    </tr>\n    <tr>\n      <th>Date</th>\n      <th></th>\n    </tr>\n  </thead>\n  <tbody>\n    <tr>\n      <th>2016-01-01</th>\n      <td>10.2</td>\n    </tr>\n    <tr>\n      <th>2016-01-02</th>\n      <td>10.4</td>\n    </tr>\n    <tr>\n      <th>2016-01-03</th>\n      <td>10.5</td>\n    </tr>\n    <tr>\n      <th>2016-01-04</th>\n      <td>10.8</td>\n    </tr>\n    <tr>\n      <th>2016-01-05</th>\n      <td>11.2</td>\n    </tr>\n    <tr>\n      <th>2016-01-06</th>\n      <td>10.6</td>\n    </tr>\n  </tbody>\n</table>\n</div>"
     },
     "execution_count": 92,
     "metadata": {},
     "output_type": "execute_result"
    }
   ],
   "source": [
    "def date_parser(s):\n",
    "    s = '2016/' + s\n",
    "    d = datetime.strptime(s,'%Y/%m/%d')\n",
    "    return d\n",
    "df = pd.read_csv('Pandas/custom_date.csv',parse_dates=True,index_col='Date',date_parser=date_parser)\n",
    "df"
   ],
   "metadata": {
    "collapsed": false,
    "pycharm": {
     "name": "#%%\n"
    }
   }
  },
  {
   "cell_type": "code",
   "execution_count": 93,
   "outputs": [
    {
     "data": {
      "text/plain": "DatetimeIndex(['2016-01-01', '2016-01-02', '2016-01-03', '2016-01-04',\n               '2016-01-05', '2016-01-06'],\n              dtype='datetime64[ns]', name='Date', freq=None)"
     },
     "execution_count": 93,
     "metadata": {},
     "output_type": "execute_result"
    }
   ],
   "source": [
    "df.index\n",
    "\n"
   ],
   "metadata": {
    "collapsed": false,
    "pycharm": {
     "name": "#%%\n"
    }
   }
  },
  {
   "cell_type": "code",
   "execution_count": null,
   "outputs": [],
   "source": [
    "\n"
   ],
   "metadata": {
    "collapsed": false,
    "pycharm": {
     "name": "#%%\n"
    }
   }
  }
 ],
 "metadata": {
  "kernelspec": {
   "name": "pycharm-2bc0cf0c",
   "language": "python",
   "display_name": "PyCharm (mywork)"
  },
  "language_info": {
   "codemirror_mode": {
    "name": "ipython",
    "version": 2
   },
   "file_extension": ".py",
   "mimetype": "text/x-python",
   "name": "python",
   "nbconvert_exporter": "python",
   "pygments_lexer": "ipython2",
   "version": "2.7.6"
  }
 },
 "nbformat": 4,
 "nbformat_minor": 0
}